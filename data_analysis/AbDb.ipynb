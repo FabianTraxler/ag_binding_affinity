{
 "cells": [
  {
   "cell_type": "markdown",
   "id": "635e9a30",
   "metadata": {},
   "source": [
    "# AbDb Data Analysis\n",
    "\n",
    "The metadata files have been downloaded from http://www.abybank.org/abdb/ using the \"Complete Antibodies - Martin Numbering - Non Redundant (NR)\" Dataset. (10.05.2022)"
   ]
  },
  {
   "cell_type": "code",
   "execution_count": 1,
   "id": "68545662",
   "metadata": {},
   "outputs": [],
   "source": [
    "import pandas as pd\n",
    "import yaml\n",
    "import os"
   ]
  },
  {
   "cell_type": "code",
   "execution_count": 2,
   "id": "d09f0ffa",
   "metadata": {},
   "outputs": [],
   "source": [
    "from abag_affinity.utils.config import read_yaml, get_data_paths\n",
    "\n",
    "config = read_yaml(\"../abag_affinity/config.yaml\")\n",
    "summary_path, pdb_path = get_data_paths(config, \"AbDb\")"
   ]
  },
  {
   "cell_type": "code",
   "execution_count": 3,
   "id": "ceda1995",
   "metadata": {},
   "outputs": [
    {
     "name": "stdout",
     "output_type": "stream",
     "text": [
      "Number of PDB Files >>> 1205\n"
     ]
    }
   ],
   "source": [
    "pdb_files = os.listdir(pdb_path)\n",
    "\n",
    "print(\"Number of PDB Files >>>\", len(pdb_files))"
   ]
  },
  {
   "cell_type": "code",
   "execution_count": 4,
   "id": "0341ace2",
   "metadata": {},
   "outputs": [
    {
     "data": {
      "text/plain": [
       "['1A14_1.pdb',\n",
       " '1A2Y_1.pdb',\n",
       " '1A3R_1.pdb',\n",
       " '1ADQ_1.pdb',\n",
       " '1AFV_1.pdb',\n",
       " '1AHW_1.pdb',\n",
       " '1AI1_1.pdb',\n",
       " '1BGX_1.pdb',\n",
       " '1BJ1_1.pdb',\n",
       " '1BVK_1.pdb']"
      ]
     },
     "execution_count": 4,
     "metadata": {},
     "output_type": "execute_result"
    }
   ],
   "source": [
    "pdb_files.sort()\n",
    "pdb_files[:10]"
   ]
  },
  {
   "cell_type": "code",
   "execution_count": 5,
   "id": "a3ac4716",
   "metadata": {},
   "outputs": [],
   "source": [
    "from abag_affinity.utils.pdb_reader import read_file"
   ]
  },
  {
   "cell_type": "code",
   "execution_count": 6,
   "id": "d5dd23ac",
   "metadata": {},
   "outputs": [],
   "source": [
    "file = pdb_files[0]\n",
    "\n",
    "structure, header = read_file(file.split(\".\")[0], os.path.join(pdb_path, file) )"
   ]
  },
  {
   "cell_type": "code",
   "execution_count": 15,
   "id": "85d7899e",
   "metadata": {},
   "outputs": [
    {
     "name": "stdout",
     "output_type": "stream",
     "text": [
      "<Chain id=L>\n",
      "<Chain id=H>\n",
      "<Chain id=N>\n"
     ]
    }
   ],
   "source": [
    "for chain in structure.get_chains():\n",
    "    print(chain)"
   ]
  },
  {
   "cell_type": "code",
   "execution_count": 24,
   "id": "bf821bbc",
   "metadata": {},
   "outputs": [
    {
     "name": "stdout",
     "output_type": "stream",
     "text": [
      "<Residue ASP het=  resseq=1 icode= >\n",
      "<Atom N>\n"
     ]
    }
   ],
   "source": [
    "for chain in structure.get_chains():\n",
    "    for residue in chain.get_residues():\n",
    "        print(residue)\n",
    "        for atom in residue.get_atoms():\n",
    "            print(atom)\n",
    "            break\n",
    "        break\n",
    "    break"
   ]
  },
  {
   "cell_type": "code",
   "execution_count": 25,
   "id": "557f98f5",
   "metadata": {},
   "outputs": [
    {
     "name": "stdout",
     "output_type": "stream",
     "text": [
      "DIELTQTTSSLSASLGDRVTISCRASQDISNYLNWYQQNPDGTVKLLIYYTSNLHSEVPSRFSGSGSGTDYSLTISNLEQEDIATYFCQQDFTLPFTFGGGTAA\n",
      "<Polypeptide start=1 end=104>\n",
      "\n",
      "QVQLQQSGAELVKPGASVRMSCKASGYTFTNYNMYWVKQSPGQGLEWIGIFYPGNGDTSYNQKFKDKATLTADKSSNTAYMQLSSLTSEDSAVYYCARSGGSYRYDGGFDYWGQGTTVTV\n",
      "<Polypeptide start=1 end=111>\n",
      "\n",
      "RDFNNLTKGLCTINSWHIYGKDNAVRIGEDSDVLVTREPYVSCDPDECRFYALSQGTTIRGKHSNGTIHDRSQYRALISWPLSSPPTVYNSRVECIGWSSTSCHDGKTRMSICISGPNNNASAVIWYNRRPVTEINTWARNILRTQESECVCHNGVCPVVFTDGSATGPAETRIYYFKEGKILKWEPLAGTAKHIEECSCYGERAEITCTCRDNWQGSNRPVIRIDPVAMTHTSQYICSPVLTDNPRPNDPTVGKCNDPYPGNNNNGVKGFSYLDGVNTWLGRTISIASRSGYEMLKVPNALTDDKSKPTQGQTIVLNTDWSGYSGSFMDYWAEGECYRACFYVELIRGRPKEDKVWWTSNSIVSMCSSTEFLGQWDWPDGAKIEYFL\n",
      "<Polypeptide start=82 end=468>\n",
      "\n"
     ]
    }
   ],
   "source": [
    "from Bio.PDB.Polypeptide import PPBuilder\n",
    "ppb=PPBuilder()\n",
    "\n",
    "for pp in ppb.build_peptides(structure):\n",
    "    print(pp.get_sequence())\n",
    "    print(pp)\n",
    "    print()"
   ]
  },
  {
   "cell_type": "code",
   "execution_count": null,
   "id": "932d8075",
   "metadata": {},
   "outputs": [],
   "source": []
  }
 ],
 "metadata": {
  "kernelspec": {
   "display_name": "ag_affinity",
   "language": "python",
   "name": "ag_affinity"
  },
  "language_info": {
   "codemirror_mode": {
    "name": "ipython",
    "version": 3
   },
   "file_extension": ".py",
   "mimetype": "text/x-python",
   "name": "python",
   "nbconvert_exporter": "python",
   "pygments_lexer": "ipython3",
   "version": "3.8.10"
  }
 },
 "nbformat": 4,
 "nbformat_minor": 5
}
