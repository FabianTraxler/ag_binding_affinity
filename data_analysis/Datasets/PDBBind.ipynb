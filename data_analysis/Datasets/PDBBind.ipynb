{
 "cells": [
  {
   "cell_type": "markdown",
   "id": "b978a214",
   "metadata": {},
   "source": [
    "# PDBBind 2020\n",
    "\n",
    "Downloaded from https://pdbbind.oss-cn-hangzhou.aliyuncs.com/download/PDBbind_v2020_PP.tar.gz (Cloud CDN of http://www.pdbbind.org.cn/download/PDBbind_v2020_mol2.tar.gz)"
   ]
  },
  {
   "cell_type": "code",
   "execution_count": 3,
   "id": "e8583b6c",
   "metadata": {},
   "outputs": [],
   "source": [
    "import os\n",
    "import pandas as pd\n",
    "from abag_affinity.utils.config import read_yaml, get_data_paths\n",
    "\n",
    "config = read_yaml(\"../../abag_affinity/config.yaml\")\n",
    "info_path = os.path.join(config[\"RESOURCES\"][\"path\"], config[\"RESOURCES\"][\"PDBBind\"][\"folder_path\"], config[\"RESOURCES\"][\"PDBBind\"][\"info_file\"])"
   ]
  },
  {
   "cell_type": "code",
   "execution_count": 4,
   "id": "b5ef3639",
   "metadata": {},
   "outputs": [],
   "source": [
    "with open(info_path) as f:\n",
    "    lines = f.readlines()\n",
    "\n",
    "all_records = []\n",
    "\n",
    "for line in lines[6:]:\n",
    "    line = [ token for token in line.split(\" \") if token != \"\" ]\n",
    "    if \"IC50\" in line[3]:\n",
    "        affinity_type = line[3][:4]\n",
    "        affinity = line[3][5:]\n",
    "    else:\n",
    "        affinity_type = line[3][:2]\n",
    "        affinity = line[3][3:]\n",
    "    affinity_value = affinity[:-2]\n",
    "    affinity_unit = affinity[-2:]\n",
    "    \n",
    "    all_records.append({\n",
    "        \"pdb\": line[0],\n",
    "        \"resolution\": line[1],\n",
    "        \"release_year\": line[2],\n",
    "        \"affinty\": float(affinity_value),\n",
    "        \"affinity_unit\": affinity_unit,\n",
    "        \"affinity_type\": affinity_type,\n",
    "        \"ligand_name\": \" \".join(line[6:])\n",
    "    })\n",
    "    \n",
    "summary_df = pd.DataFrame.from_records(all_records)"
   ]
  },
  {
   "cell_type": "code",
   "execution_count": 5,
   "id": "e23d58b0",
   "metadata": {},
   "outputs": [
    {
     "name": "stdout",
     "output_type": "stream",
     "text": [
      "Number of Protein-Protein Interactions with binding affinity >>> 2852\n"
     ]
    }
   ],
   "source": [
    "print(\"Number of Protein-Protein Interactions with binding affinity >>>\", len(summary_df))"
   ]
  },
  {
   "cell_type": "code",
   "execution_count": 6,
   "id": "f30f5aa3",
   "metadata": {},
   "outputs": [
    {
     "data": {
      "text/plain": [
       "array(['nM', 'pM', 'uM', 'fM', 'mM'], dtype=object)"
      ]
     },
     "execution_count": 6,
     "metadata": {},
     "output_type": "execute_result"
    }
   ],
   "source": [
    "summary_df[\"affinity_unit\"].unique()"
   ]
  },
  {
   "cell_type": "code",
   "execution_count": 7,
   "id": "4a184c6a",
   "metadata": {},
   "outputs": [],
   "source": [
    "convert_unit = {\n",
    "    'mM': 1e03,\n",
    "    'uM': 1e06,\n",
    "    \"nM\": 1e09,\n",
    "    'pM': 1e12,\n",
    "    'fM': 1e15\n",
    "}\n",
    "summary_df[\"Kd\"] = summary_df.apply(lambda row: row[\"affinty\"] / convert_unit[row[\"affinity_unit\"]], axis=1)"
   ]
  },
  {
   "cell_type": "code",
   "execution_count": 8,
   "id": "8a74e167",
   "metadata": {},
   "outputs": [],
   "source": [
    "import numpy as np\n",
    "gas_constant =  8.31446261815324 # 0.0821\n",
    "\n",
    "def calc_delta_g(row):\n",
    "    delta_g = gas_constant * row[\"temperature_kelvin\"] * np.log(row[\"Kd\"])\n",
    "    return delta_g / 4184 # convert to kcal"
   ]
  },
  {
   "cell_type": "code",
   "execution_count": 9,
   "id": "d38cf363",
   "metadata": {},
   "outputs": [],
   "source": [
    "summary_df[\"temperature_kelvin\"] = 298.15 # assume temperature of 25° Celcius\n",
    "\n",
    "summary_df[\"delta_G\"] = summary_df.apply(lambda row: calc_delta_g(row), axis=1)"
   ]
  },
  {
   "cell_type": "code",
   "execution_count": 10,
   "id": "daee3585",
   "metadata": {},
   "outputs": [],
   "source": [
    "#summary_df.to_csv(os.path.join(config[\"DATA\"][\"path\"], config[\"DATA\"][\"PDBBind\"][\"folder_path\"], config[\"DATA\"][\"PDBBind\"][\"summary\"]), index=False)"
   ]
  },
  {
   "cell_type": "code",
   "execution_count": 13,
   "id": "761e4dbe",
   "metadata": {},
   "outputs": [],
   "source": [
    "from abag_affinity.utils.pdb_reader import read_file\n",
    "from Bio.SeqUtils import seq1\n",
    "import warnings\n",
    "warnings.filterwarnings(\"ignore\")\n",
    "\n",
    "pdb_path = os.path.join(config[\"RESOURCES\"][\"path\"], config[\"RESOURCES\"][\"PDBBind\"][\"folder_path\"], config[\"RESOURCES\"][\"PDBBind\"][\"pdb_path\"])\n",
    "\n",
    "def read_pdb(pdb_id):\n",
    "    path = os.path.join(pdb_path, pdb_id + \".ent.pdb\")\n",
    "\n",
    "    structure, header = read_file(pdb_id, path)\n",
    "    chains = structure.get_chains()\n",
    "    chain_ids = [chain.id for chain in chains]\n",
    "    compound_info = header.get(\"compound\")\n",
    "    if compound_info is None:\n",
    "        return \"No Compound Info\"\n",
    "    \n",
    "    chain_info = {}\n",
    "    molecules = []\n",
    "    for info in compound_info.values():\n",
    "        if isinstance(info, str):\n",
    "            print(info)\n",
    "            return \"Invalid Information format\"\n",
    "        if info.get(\"molecule\") is not None:\n",
    "            molecule = info.get(\"molecule\")\n",
    "            if \"light\" in molecule:\n",
    "                molecule = molecule[:molecule.find(\"light\")]\n",
    "            if \"heavy\" in molecule:\n",
    "                molecule = molecule[:molecule.find(\"heavy\")]\n",
    "            if molecule in molecules:\n",
    "                mol_id = molecules.index(molecule)\n",
    "            else:\n",
    "                mol_id = len(molecules)\n",
    "                molecules.append(molecule)\n",
    "            chain_info[info[\"chain\"]] = mol_id\n",
    "        else:\n",
    "            return \"No Molecule Info\"\n",
    "    \n",
    "    for chain in structure.get_chains():\n",
    "        if chain.id.lower() not in chain_info:\n",
    "            return \"No Info for chain {}\".format(chain.id)\n",
    "    \n",
    "    if len(molecules) > 2:\n",
    "        return \"Too many molecules\"\n",
    "    \n",
    "    return chain_info"
   ]
  },
  {
   "cell_type": "code",
   "execution_count": 14,
   "id": "945db6d8",
   "metadata": {},
   "outputs": [
    {
     "data": {
      "application/vnd.jupyter.widget-view+json": {
       "model_id": "7c36279929a745f28f27889db6010082",
       "version_major": 2,
       "version_minor": 0
      },
      "text/plain": [
       "  0%|          | 0/2852 [00:00<?, ?it/s]"
      ]
     },
     "metadata": {},
     "output_type": "display_data"
    }
   ],
   "source": [
    "from tqdm.auto import tqdm\n",
    "tqdm.pandas()\n",
    "\n",
    "chain_infos = summary_df[\"pdb\"].progress_apply(lambda id: read_pdb(id))"
   ]
  },
  {
   "cell_type": "code",
   "execution_count": 15,
   "id": "75e857a1",
   "metadata": {},
   "outputs": [
    {
     "name": "stdout",
     "output_type": "stream",
     "text": [
      "1086 total structures with two molecules and info available\n",
      "212 total structures with more than two molecules and info available\n"
     ]
    }
   ],
   "source": [
    "print(\"{} total structures with two molecules and info available\".format(chain_infos.apply(lambda chain_info: not isinstance(chain_info, str)).sum()))\n",
    "print(\"{} total structures with more than two molecules and info available\".format(chain_infos.apply(lambda chain_info: chain_info == \"Too many molecules\" ).sum()))"
   ]
  },
  {
   "cell_type": "code",
   "execution_count": 19,
   "id": "db4d6a9d",
   "metadata": {},
   "outputs": [],
   "source": [
    "summary_df[\"chain_infos\"] = chain_infos"
   ]
  },
  {
   "cell_type": "code",
   "execution_count": 20,
   "id": "488a74ae",
   "metadata": {},
   "outputs": [],
   "source": [
    "summary_df.to_csv(os.path.join(config[\"RESOURCES\"][\"path\"], config[\"RESOURCES\"][\"PDBBind\"][\"folder_path\"], config[\"RESOURCES\"][\"PDBBind\"][\"summary\"]), index=False)"
   ]
  },
  {
   "cell_type": "code",
   "execution_count": null,
   "id": "22f28382",
   "metadata": {},
   "outputs": [],
   "source": []
  }
 ],
 "metadata": {
  "kernelspec": {
   "display_name": "Python 3 (ipykernel)",
   "language": "python",
   "name": "python3"
  },
  "language_info": {
   "codemirror_mode": {
    "name": "ipython",
    "version": 3
   },
   "file_extension": ".py",
   "mimetype": "text/x-python",
   "name": "python",
   "nbconvert_exporter": "python",
   "pygments_lexer": "ipython3",
   "version": "3.7.12"
  }
 },
 "nbformat": 4,
 "nbformat_minor": 5
}
