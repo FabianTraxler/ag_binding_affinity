{
 "cells": [
  {
   "cell_type": "markdown",
   "id": "2d4249ee",
   "metadata": {},
   "source": [
    "# Combination of AbDb and SAbDab for affinity values and redundancy check\n",
    "\n",
    "Additionally compare to Antibody Benchmark"
   ]
  },
  {
   "cell_type": "code",
   "execution_count": 1,
   "id": "53b84e45",
   "metadata": {},
   "outputs": [],
   "source": [
    "import pandas as pd\n",
    "import yaml\n",
    "import os\n",
    "from tqdm import tqdm"
   ]
  },
  {
   "cell_type": "code",
   "execution_count": 2,
   "id": "334e21dc",
   "metadata": {},
   "outputs": [],
   "source": [
    "import warnings\n",
    "warnings.filterwarnings(\"ignore\")\n",
    "\n",
    "from abag_affinity.utils.config import read_yaml, get_data_paths"
   ]
  },
  {
   "cell_type": "code",
   "execution_count": 3,
   "id": "be814ace",
   "metadata": {},
   "outputs": [],
   "source": [
    "config = read_yaml(\"../../abag_affinity/config.yaml\")\n",
    "sabdab_summary_path, sabdab_pdb_path = get_data_paths(config, \"SAbDab\")\n",
    "abdb_summary_path, abdb_pdb_path = get_data_paths(config, \"AbDb\")"
   ]
  },
  {
   "cell_type": "code",
   "execution_count": 4,
   "id": "670300ff",
   "metadata": {},
   "outputs": [],
   "source": [
    "abdb_pdb_ids = os.listdir(abdb_pdb_path)\n",
    "abdb_pdb_ids = set([ pdb_id.split(\"_\")[0].lower() for pdb_id in abdb_pdb_ids])"
   ]
  },
  {
   "cell_type": "code",
   "execution_count": 5,
   "id": "7bac6622",
   "metadata": {},
   "outputs": [],
   "source": [
    "sabdab_df = pd.read_csv(sabdab_summary_path, sep=\"\\t\")\n",
    "#sabdab_df = sabdab_df[sabdab_df[\"antigen_type\"].isin([\"protein\", \"peptide\"])]\n",
    "sabdab_pdb_ids = set(sabdab_df[\"pdb\"].unique())"
   ]
  },
  {
   "cell_type": "code",
   "execution_count": 6,
   "id": "d1f3644a",
   "metadata": {},
   "outputs": [
    {
     "name": "stdout",
     "output_type": "stream",
     "text": [
      "Number of Total PDB IDs in AbDb >>> 1170\n",
      "Number of Total PDB IDs in SAbDab >>> 746\n"
     ]
    }
   ],
   "source": [
    "print(\"Number of Total PDB IDs in AbDb >>> {}\".format(len(abdb_pdb_ids)))#\n",
    "print(\"Number of Total PDB IDs in SAbDab >>> {}\".format(len(sabdab_pdb_ids)))"
   ]
  },
  {
   "cell_type": "code",
   "execution_count": 7,
   "id": "6a038fa7",
   "metadata": {},
   "outputs": [
    {
     "name": "stdout",
     "output_type": "stream",
     "text": [
      "Number of overlapping PDB IDs >>> 408\n"
     ]
    }
   ],
   "source": [
    "overlapping_ids = abdb_pdb_ids.intersection(sabdab_pdb_ids)\n",
    "print(\"Number of overlapping PDB IDs >>> {}\".format(len(overlapping_ids)))"
   ]
  },
  {
   "cell_type": "markdown",
   "id": "2b91329d",
   "metadata": {},
   "source": [
    "## Comparison with Antibody Benchmark"
   ]
  },
  {
   "cell_type": "code",
   "execution_count": 8,
   "id": "6ea237bc",
   "metadata": {},
   "outputs": [
    {
     "name": "stdout",
     "output_type": "stream",
     "text": [
      "There are 42 ab-ag cases with affinity\n"
     ]
    }
   ],
   "source": [
    "benchmark_summary_path, benchmark_pdb_path = get_data_paths(config, \"AntibodyBenchmark\")\n",
    "benchmark_df = pd.read_excel(benchmark_summary_path)\n",
    "\n",
    "benchmark_df = benchmark_df.replace(\" \", None)\n",
    "benchmark_df = benchmark_df[benchmark_df[\"ΔG (kcal/mol)\"].notnull() & benchmark_df[\"Kd (nM)\"].notnull()]\n",
    "print(\"There are {} ab-ag cases with affinity\".format(len(benchmark_df)))\n",
    "benchmark_pdb_ids = set([ pdb_id.split(\"_\")[0].lower() for pdb_id in benchmark_df[\"Complex PDB\"].unique() ])"
   ]
  },
  {
   "cell_type": "code",
   "execution_count": 9,
   "id": "d4a2cbd0",
   "metadata": {},
   "outputs": [
    {
     "name": "stdout",
     "output_type": "stream",
     "text": [
      "Number of overlapping PDB IDs with AbDb >>> 31\n"
     ]
    }
   ],
   "source": [
    "print(\"Number of overlapping PDB IDs with AbDb >>> {}\".format(len(abdb_pdb_ids.intersection(benchmark_pdb_ids))))"
   ]
  },
  {
   "cell_type": "code",
   "execution_count": 10,
   "id": "f5a88d90",
   "metadata": {},
   "outputs": [
    {
     "name": "stdout",
     "output_type": "stream",
     "text": [
      "Number of overlapping PDB IDs with SAbDab >>> 31\n"
     ]
    }
   ],
   "source": [
    "print(\"Number of overlapping PDB IDs with SAbDab >>> {}\".format(len(sabdab_pdb_ids.intersection(benchmark_pdb_ids))))"
   ]
  },
  {
   "cell_type": "code",
   "execution_count": 11,
   "id": "4204912c",
   "metadata": {},
   "outputs": [
    {
     "name": "stdout",
     "output_type": "stream",
     "text": [
      "Number of overlapping PDB IDs with both >>> 26\n"
     ]
    }
   ],
   "source": [
    "print(\"Number of overlapping PDB IDs with both >>> {}\".format(len(overlapping_ids.intersection(benchmark_pdb_ids))))"
   ]
  },
  {
   "cell_type": "markdown",
   "id": "3b246e87",
   "metadata": {},
   "source": [
    "## Comparison of Affinity Values between SAbDab and Antibody Benchmark"
   ]
  },
  {
   "cell_type": "code",
   "execution_count": 12,
   "id": "d4b9e6cb",
   "metadata": {},
   "outputs": [],
   "source": [
    "benchmark_df[\"pdb\"] = benchmark_df[\"Complex PDB\"].apply(lambda x: x.split(\"_\")[0].lower())"
   ]
  },
  {
   "cell_type": "code",
   "execution_count": 13,
   "id": "f547fa91",
   "metadata": {},
   "outputs": [
    {
     "data": {
      "text/html": [
       "<div>\n",
       "<style scoped>\n",
       "    .dataframe tbody tr th:only-of-type {\n",
       "        vertical-align: middle;\n",
       "    }\n",
       "\n",
       "    .dataframe tbody tr th {\n",
       "        vertical-align: top;\n",
       "    }\n",
       "\n",
       "    .dataframe thead th {\n",
       "        text-align: right;\n",
       "    }\n",
       "</style>\n",
       "<table border=\"1\" class=\"dataframe\">\n",
       "  <thead>\n",
       "    <tr style=\"text-align: right;\">\n",
       "      <th></th>\n",
       "      <th>pdb</th>\n",
       "      <th>Hchain</th>\n",
       "      <th>Lchain</th>\n",
       "      <th>model</th>\n",
       "      <th>antigen_chain</th>\n",
       "      <th>antigen_type</th>\n",
       "      <th>antigen_het_name</th>\n",
       "      <th>antigen_name</th>\n",
       "      <th>short_header</th>\n",
       "      <th>date</th>\n",
       "      <th>...</th>\n",
       "      <th>Antibody PDB</th>\n",
       "      <th>Antibody</th>\n",
       "      <th>Antigen PDB</th>\n",
       "      <th>Antigen</th>\n",
       "      <th>I-RMSD (Å)</th>\n",
       "      <th>ΔASA (Å2)</th>\n",
       "      <th>Category</th>\n",
       "      <th>New</th>\n",
       "      <th>Kd (nM)</th>\n",
       "      <th>ΔG (kcal/mol)</th>\n",
       "    </tr>\n",
       "  </thead>\n",
       "  <tbody>\n",
       "    <tr>\n",
       "      <th>0</th>\n",
       "      <td>5wux</td>\n",
       "      <td>C</td>\n",
       "      <td>D</td>\n",
       "      <td>0</td>\n",
       "      <td>G</td>\n",
       "      <td>protein</td>\n",
       "      <td>NaN</td>\n",
       "      <td>tumor necrosis factor alpha</td>\n",
       "      <td>IMMUNE SYSTEM</td>\n",
       "      <td>12/21/16</td>\n",
       "      <td>...</td>\n",
       "      <td>5WUV_HL</td>\n",
       "      <td>certolizumab (Cimzia)</td>\n",
       "      <td>1TNF_CBA</td>\n",
       "      <td>TNFalpha</td>\n",
       "      <td>0.80</td>\n",
       "      <td>2072.8</td>\n",
       "      <td>Rigid</td>\n",
       "      <td>X</td>\n",
       "      <td>0.0274</td>\n",
       "      <td>-14.41</td>\n",
       "    </tr>\n",
       "    <tr>\n",
       "      <th>1</th>\n",
       "      <td>5wux</td>\n",
       "      <td>A</td>\n",
       "      <td>B</td>\n",
       "      <td>0</td>\n",
       "      <td>F</td>\n",
       "      <td>protein</td>\n",
       "      <td>NaN</td>\n",
       "      <td>tumor necrosis factor alpha</td>\n",
       "      <td>IMMUNE SYSTEM</td>\n",
       "      <td>12/21/16</td>\n",
       "      <td>...</td>\n",
       "      <td>5WUV_HL</td>\n",
       "      <td>certolizumab (Cimzia)</td>\n",
       "      <td>1TNF_CBA</td>\n",
       "      <td>TNFalpha</td>\n",
       "      <td>0.80</td>\n",
       "      <td>2072.8</td>\n",
       "      <td>Rigid</td>\n",
       "      <td>X</td>\n",
       "      <td>0.0274</td>\n",
       "      <td>-14.41</td>\n",
       "    </tr>\n",
       "    <tr>\n",
       "      <th>2</th>\n",
       "      <td>5wux</td>\n",
       "      <td>H</td>\n",
       "      <td>L</td>\n",
       "      <td>0</td>\n",
       "      <td>E</td>\n",
       "      <td>protein</td>\n",
       "      <td>NaN</td>\n",
       "      <td>tumor necrosis factor alpha</td>\n",
       "      <td>IMMUNE SYSTEM</td>\n",
       "      <td>12/21/16</td>\n",
       "      <td>...</td>\n",
       "      <td>5WUV_HL</td>\n",
       "      <td>certolizumab (Cimzia)</td>\n",
       "      <td>1TNF_CBA</td>\n",
       "      <td>TNFalpha</td>\n",
       "      <td>0.80</td>\n",
       "      <td>2072.8</td>\n",
       "      <td>Rigid</td>\n",
       "      <td>X</td>\n",
       "      <td>0.0274</td>\n",
       "      <td>-14.41</td>\n",
       "    </tr>\n",
       "    <tr>\n",
       "      <th>3</th>\n",
       "      <td>4gxu</td>\n",
       "      <td>M</td>\n",
       "      <td>N</td>\n",
       "      <td>0</td>\n",
       "      <td>A</td>\n",
       "      <td>protein</td>\n",
       "      <td>NaN</td>\n",
       "      <td>hemagglutinin ha1 chain</td>\n",
       "      <td>VIRAL PROTEIN/IMMUNE SYSTEM</td>\n",
       "      <td>09/04/12</td>\n",
       "      <td>...</td>\n",
       "      <td>4GXV_HL</td>\n",
       "      <td>1F1 antibody</td>\n",
       "      <td>1RUZ_HIJKLM</td>\n",
       "      <td>1918 H1 Hemagglutinin</td>\n",
       "      <td>0.78</td>\n",
       "      <td>1830.0</td>\n",
       "      <td>Rigid</td>\n",
       "      <td>NaN</td>\n",
       "      <td>6.2</td>\n",
       "      <td>-11.2</td>\n",
       "    </tr>\n",
       "    <tr>\n",
       "      <th>4</th>\n",
       "      <td>4gxu</td>\n",
       "      <td>W</td>\n",
       "      <td>X</td>\n",
       "      <td>0</td>\n",
       "      <td>K</td>\n",
       "      <td>protein</td>\n",
       "      <td>NaN</td>\n",
       "      <td>hemagglutinin ha1 chain</td>\n",
       "      <td>VIRAL PROTEIN/IMMUNE SYSTEM</td>\n",
       "      <td>09/04/12</td>\n",
       "      <td>...</td>\n",
       "      <td>4GXV_HL</td>\n",
       "      <td>1F1 antibody</td>\n",
       "      <td>1RUZ_HIJKLM</td>\n",
       "      <td>1918 H1 Hemagglutinin</td>\n",
       "      <td>0.78</td>\n",
       "      <td>1830.0</td>\n",
       "      <td>Rigid</td>\n",
       "      <td>NaN</td>\n",
       "      <td>6.2</td>\n",
       "      <td>-11.2</td>\n",
       "    </tr>\n",
       "  </tbody>\n",
       "</table>\n",
       "<p>5 rows × 41 columns</p>\n",
       "</div>"
      ],
      "text/plain": [
       "    pdb Hchain Lchain  model antigen_chain antigen_type antigen_het_name  \\\n",
       "0  5wux      C      D      0             G      protein              NaN   \n",
       "1  5wux      A      B      0             F      protein              NaN   \n",
       "2  5wux      H      L      0             E      protein              NaN   \n",
       "3  4gxu      M      N      0             A      protein              NaN   \n",
       "4  4gxu      W      X      0             K      protein              NaN   \n",
       "\n",
       "                  antigen_name                 short_header      date  ...  \\\n",
       "0  tumor necrosis factor alpha                IMMUNE SYSTEM  12/21/16  ...   \n",
       "1  tumor necrosis factor alpha                IMMUNE SYSTEM  12/21/16  ...   \n",
       "2  tumor necrosis factor alpha                IMMUNE SYSTEM  12/21/16  ...   \n",
       "3      hemagglutinin ha1 chain  VIRAL PROTEIN/IMMUNE SYSTEM  09/04/12  ...   \n",
       "4      hemagglutinin ha1 chain  VIRAL PROTEIN/IMMUNE SYSTEM  09/04/12  ...   \n",
       "\n",
       "  Antibody PDB               Antibody  Antigen PDB                Antigen  \\\n",
       "0      5WUV_HL  certolizumab (Cimzia)     1TNF_CBA               TNFalpha   \n",
       "1      5WUV_HL  certolizumab (Cimzia)     1TNF_CBA               TNFalpha   \n",
       "2      5WUV_HL  certolizumab (Cimzia)     1TNF_CBA               TNFalpha   \n",
       "3      4GXV_HL           1F1 antibody  1RUZ_HIJKLM  1918 H1 Hemagglutinin   \n",
       "4      4GXV_HL           1F1 antibody  1RUZ_HIJKLM  1918 H1 Hemagglutinin   \n",
       "\n",
       "  I-RMSD (Å) ΔASA (Å2)  Category  New Kd (nM) ΔG (kcal/mol)  \n",
       "0       0.80    2072.8     Rigid    X  0.0274        -14.41  \n",
       "1       0.80    2072.8     Rigid    X  0.0274        -14.41  \n",
       "2       0.80    2072.8     Rigid    X  0.0274        -14.41  \n",
       "3       0.78    1830.0     Rigid  NaN     6.2         -11.2  \n",
       "4       0.78    1830.0     Rigid  NaN     6.2         -11.2  \n",
       "\n",
       "[5 rows x 41 columns]"
      ]
     },
     "execution_count": 13,
     "metadata": {},
     "output_type": "execute_result"
    }
   ],
   "source": [
    "overlapping_data = sabdab_df.merge(benchmark_df, on=\"pdb\", how=\"inner\")\n",
    "overlapping_data.head()"
   ]
  },
  {
   "cell_type": "code",
   "execution_count": 14,
   "id": "d5375bc2",
   "metadata": {},
   "outputs": [
    {
     "data": {
      "text/plain": [
       "array(['5wux', '4gxu', '4etq', '5hys', '3hi6', '3wd5', '4g6j', '4dn4',\n",
       "       '4pou', '5kov', '3g6d', '2fjg', '5sv3', '6b0s', '3mj9', '3v6z',\n",
       "       '5whk', '5grj', '3rvw', '4fqi', '2w9e', '2dd8', '5hgg', '3l5w',\n",
       "       '4m5z', '3eoa', '4g6m', '5c7x', '2vxt', '6a0z', '3mxw'],\n",
       "      dtype=object)"
      ]
     },
     "execution_count": 14,
     "metadata": {},
     "output_type": "execute_result"
    }
   ],
   "source": [
    "overlapping_data[\"pdb\"].unique()"
   ]
  },
  {
   "cell_type": "code",
   "execution_count": 15,
   "id": "e868513e",
   "metadata": {},
   "outputs": [
    {
     "data": {
      "text/plain": [
       "0.9999951144763157"
      ]
     },
     "execution_count": 15,
     "metadata": {},
     "output_type": "execute_result"
    }
   ],
   "source": [
    "overlapping_data[\"affinity\"].corr(overlapping_data[\"Kd (nM)\"].astype(float))"
   ]
  },
  {
   "cell_type": "markdown",
   "id": "88464414",
   "metadata": {},
   "source": [
    "## Analysis of overlapping Complexes"
   ]
  },
  {
   "cell_type": "code",
   "execution_count": 16,
   "id": "537aeb15",
   "metadata": {},
   "outputs": [
    {
     "data": {
      "text/html": [
       "<div>\n",
       "<style scoped>\n",
       "    .dataframe tbody tr th:only-of-type {\n",
       "        vertical-align: middle;\n",
       "    }\n",
       "\n",
       "    .dataframe tbody tr th {\n",
       "        vertical-align: top;\n",
       "    }\n",
       "\n",
       "    .dataframe thead th {\n",
       "        text-align: right;\n",
       "    }\n",
       "</style>\n",
       "<table border=\"1\" class=\"dataframe\">\n",
       "  <thead>\n",
       "    <tr style=\"text-align: right;\">\n",
       "      <th></th>\n",
       "      <th>pdb</th>\n",
       "      <th>Hchain</th>\n",
       "      <th>Lchain</th>\n",
       "      <th>model</th>\n",
       "      <th>antigen_chain</th>\n",
       "      <th>antigen_type</th>\n",
       "      <th>antigen_het_name</th>\n",
       "      <th>antigen_name</th>\n",
       "      <th>short_header</th>\n",
       "      <th>date</th>\n",
       "      <th>...</th>\n",
       "      <th>engineered</th>\n",
       "      <th>heavy_subclass</th>\n",
       "      <th>light_subclass</th>\n",
       "      <th>light_ctype</th>\n",
       "      <th>affinity</th>\n",
       "      <th>delta_g</th>\n",
       "      <th>affinity_method</th>\n",
       "      <th>temperature</th>\n",
       "      <th>pmid</th>\n",
       "      <th>pdb_filename</th>\n",
       "    </tr>\n",
       "  </thead>\n",
       "  <tbody>\n",
       "    <tr>\n",
       "      <th>0</th>\n",
       "      <td>2r56</td>\n",
       "      <td>I</td>\n",
       "      <td>M</td>\n",
       "      <td>0</td>\n",
       "      <td>B</td>\n",
       "      <td>protein</td>\n",
       "      <td>NaN</td>\n",
       "      <td>beta-lactoglobulin</td>\n",
       "      <td>IMMUNE SYSTEM</td>\n",
       "      <td>09/03/07</td>\n",
       "      <td>...</td>\n",
       "      <td>False</td>\n",
       "      <td>IGHV3</td>\n",
       "      <td>IGKV1</td>\n",
       "      <td>Kappa</td>\n",
       "      <td>1.300000e-09</td>\n",
       "      <td>-12.120000</td>\n",
       "      <td>SPR</td>\n",
       "      <td>NaN</td>\n",
       "      <td>17997967</td>\n",
       "      <td>2R56_1.pdb</td>\n",
       "    </tr>\n",
       "    <tr>\n",
       "      <th>1</th>\n",
       "      <td>2r56</td>\n",
       "      <td>H</td>\n",
       "      <td>L</td>\n",
       "      <td>0</td>\n",
       "      <td>A</td>\n",
       "      <td>protein</td>\n",
       "      <td>NaN</td>\n",
       "      <td>beta-lactoglobulin</td>\n",
       "      <td>IMMUNE SYSTEM</td>\n",
       "      <td>09/03/07</td>\n",
       "      <td>...</td>\n",
       "      <td>False</td>\n",
       "      <td>IGHV3</td>\n",
       "      <td>IGKV1</td>\n",
       "      <td>Kappa</td>\n",
       "      <td>1.300000e-09</td>\n",
       "      <td>-12.120000</td>\n",
       "      <td>SPR</td>\n",
       "      <td>NaN</td>\n",
       "      <td>17997967</td>\n",
       "      <td>2R56_1.pdb</td>\n",
       "    </tr>\n",
       "    <tr>\n",
       "      <th>2</th>\n",
       "      <td>5wux</td>\n",
       "      <td>C</td>\n",
       "      <td>D</td>\n",
       "      <td>0</td>\n",
       "      <td>G</td>\n",
       "      <td>protein</td>\n",
       "      <td>NaN</td>\n",
       "      <td>tumor necrosis factor alpha</td>\n",
       "      <td>IMMUNE SYSTEM</td>\n",
       "      <td>12/21/16</td>\n",
       "      <td>...</td>\n",
       "      <td>True</td>\n",
       "      <td>IGHV3</td>\n",
       "      <td>IGKV1</td>\n",
       "      <td>Kappa</td>\n",
       "      <td>2.740000e-11</td>\n",
       "      <td>-14.409486</td>\n",
       "      <td>SPR</td>\n",
       "      <td>NaN</td>\n",
       "      <td>TBD</td>\n",
       "      <td>5WUX_1.pdb</td>\n",
       "    </tr>\n",
       "    <tr>\n",
       "      <th>3</th>\n",
       "      <td>5wux</td>\n",
       "      <td>A</td>\n",
       "      <td>B</td>\n",
       "      <td>0</td>\n",
       "      <td>F</td>\n",
       "      <td>protein</td>\n",
       "      <td>NaN</td>\n",
       "      <td>tumor necrosis factor alpha</td>\n",
       "      <td>IMMUNE SYSTEM</td>\n",
       "      <td>12/21/16</td>\n",
       "      <td>...</td>\n",
       "      <td>True</td>\n",
       "      <td>IGHV3</td>\n",
       "      <td>IGKV1</td>\n",
       "      <td>Kappa</td>\n",
       "      <td>2.740000e-11</td>\n",
       "      <td>-14.409486</td>\n",
       "      <td>SPR</td>\n",
       "      <td>NaN</td>\n",
       "      <td>TBD</td>\n",
       "      <td>5WUX_1.pdb</td>\n",
       "    </tr>\n",
       "    <tr>\n",
       "      <th>4</th>\n",
       "      <td>5wux</td>\n",
       "      <td>H</td>\n",
       "      <td>L</td>\n",
       "      <td>0</td>\n",
       "      <td>E</td>\n",
       "      <td>protein</td>\n",
       "      <td>NaN</td>\n",
       "      <td>tumor necrosis factor alpha</td>\n",
       "      <td>IMMUNE SYSTEM</td>\n",
       "      <td>12/21/16</td>\n",
       "      <td>...</td>\n",
       "      <td>True</td>\n",
       "      <td>IGHV3</td>\n",
       "      <td>IGKV1</td>\n",
       "      <td>Kappa</td>\n",
       "      <td>2.740000e-11</td>\n",
       "      <td>-14.409486</td>\n",
       "      <td>SPR</td>\n",
       "      <td>NaN</td>\n",
       "      <td>TBD</td>\n",
       "      <td>5WUX_1.pdb</td>\n",
       "    </tr>\n",
       "  </tbody>\n",
       "</table>\n",
       "<p>5 rows × 31 columns</p>\n",
       "</div>"
      ],
      "text/plain": [
       "    pdb Hchain Lchain  model antigen_chain antigen_type antigen_het_name  \\\n",
       "0  2r56      I      M      0             B      protein              NaN   \n",
       "1  2r56      H      L      0             A      protein              NaN   \n",
       "2  5wux      C      D      0             G      protein              NaN   \n",
       "3  5wux      A      B      0             F      protein              NaN   \n",
       "4  5wux      H      L      0             E      protein              NaN   \n",
       "\n",
       "                  antigen_name   short_header      date  ... engineered  \\\n",
       "0           beta-lactoglobulin  IMMUNE SYSTEM  09/03/07  ...      False   \n",
       "1           beta-lactoglobulin  IMMUNE SYSTEM  09/03/07  ...      False   \n",
       "2  tumor necrosis factor alpha  IMMUNE SYSTEM  12/21/16  ...       True   \n",
       "3  tumor necrosis factor alpha  IMMUNE SYSTEM  12/21/16  ...       True   \n",
       "4  tumor necrosis factor alpha  IMMUNE SYSTEM  12/21/16  ...       True   \n",
       "\n",
       "  heavy_subclass light_subclass light_ctype      affinity    delta_g  \\\n",
       "0          IGHV3          IGKV1       Kappa  1.300000e-09 -12.120000   \n",
       "1          IGHV3          IGKV1       Kappa  1.300000e-09 -12.120000   \n",
       "2          IGHV3          IGKV1       Kappa  2.740000e-11 -14.409486   \n",
       "3          IGHV3          IGKV1       Kappa  2.740000e-11 -14.409486   \n",
       "4          IGHV3          IGKV1       Kappa  2.740000e-11 -14.409486   \n",
       "\n",
       "   affinity_method temperature      pmid pdb_filename  \n",
       "0              SPR         NaN  17997967   2R56_1.pdb  \n",
       "1              SPR         NaN  17997967   2R56_1.pdb  \n",
       "2              SPR         NaN       TBD   5WUX_1.pdb  \n",
       "3              SPR         NaN       TBD   5WUX_1.pdb  \n",
       "4              SPR         NaN       TBD   5WUX_1.pdb  \n",
       "\n",
       "[5 rows x 31 columns]"
      ]
     },
     "execution_count": 16,
     "metadata": {},
     "output_type": "execute_result"
    }
   ],
   "source": [
    "#sabdab_df.drop_duplicates('pdb', inplace=True)\n",
    "overlapping_data = sabdab_df[sabdab_df[\"pdb\"].isin(overlapping_ids)].copy()\n",
    "overlapping_data = overlapping_data.reset_index().drop([\"index\"], axis=1)\n",
    "overlapping_data[\"pdb_filename\"] = overlapping_data[\"pdb\"].apply(lambda x: x.upper() + \"_1.pdb\")\n",
    "overlapping_data.head()"
   ]
  },
  {
   "cell_type": "code",
   "execution_count": 17,
   "id": "233d187c",
   "metadata": {},
   "outputs": [
    {
     "data": {
      "text/html": [
       "<div>\n",
       "<style scoped>\n",
       "    .dataframe tbody tr th:only-of-type {\n",
       "        vertical-align: middle;\n",
       "    }\n",
       "\n",
       "    .dataframe tbody tr th {\n",
       "        vertical-align: top;\n",
       "    }\n",
       "\n",
       "    .dataframe thead th {\n",
       "        text-align: right;\n",
       "    }\n",
       "</style>\n",
       "<table border=\"1\" class=\"dataframe\">\n",
       "  <thead>\n",
       "    <tr style=\"text-align: right;\">\n",
       "      <th></th>\n",
       "      <th>pdb</th>\n",
       "      <th>Hchain</th>\n",
       "      <th>Lchain</th>\n",
       "      <th>model</th>\n",
       "      <th>antigen_chain</th>\n",
       "      <th>antigen_type</th>\n",
       "      <th>antigen_het_name</th>\n",
       "      <th>antigen_name</th>\n",
       "      <th>short_header</th>\n",
       "      <th>date</th>\n",
       "      <th>...</th>\n",
       "      <th>engineered</th>\n",
       "      <th>heavy_subclass</th>\n",
       "      <th>light_subclass</th>\n",
       "      <th>light_ctype</th>\n",
       "      <th>affinity</th>\n",
       "      <th>delta_g</th>\n",
       "      <th>affinity_method</th>\n",
       "      <th>temperature</th>\n",
       "      <th>pmid</th>\n",
       "      <th>pdb_filename</th>\n",
       "    </tr>\n",
       "  </thead>\n",
       "  <tbody>\n",
       "  </tbody>\n",
       "</table>\n",
       "<p>0 rows × 31 columns</p>\n",
       "</div>"
      ],
      "text/plain": [
       "Empty DataFrame\n",
       "Columns: [pdb, Hchain, Lchain, model, antigen_chain, antigen_type, antigen_het_name, antigen_name, short_header, date, compound, organism, heavy_species, light_species, antigen_species, authors, resolution, method, r_free, r_factor, scfv, engineered, heavy_subclass, light_subclass, light_ctype, affinity, delta_g, affinity_method, temperature, pmid, pdb_filename]\n",
       "Index: []\n",
       "\n",
       "[0 rows x 31 columns]"
      ]
     },
     "execution_count": 17,
     "metadata": {},
     "output_type": "execute_result"
    }
   ],
   "source": [
    "overlapping_data[overlapping_data[\"affinity\"].isnull()]"
   ]
  },
  {
   "cell_type": "markdown",
   "id": "90773cb5",
   "metadata": {},
   "source": [
    "## Calculate Temperature of affinity prediction experiment"
   ]
  },
  {
   "cell_type": "code",
   "execution_count": 18,
   "id": "b44f1770",
   "metadata": {},
   "outputs": [],
   "source": [
    "import numpy as np\n",
    "gas_constant =  8.31446261815324 # 0.0821\n",
    "\n",
    "def calc_temp(row):\n",
    "    kd = row[\"affinity\"]\n",
    "    delta_g = row[\"delta_g\"] * 4184 # convert kcal to joule \n",
    "    return (delta_g / (gas_constant * np.log(kd))) - 273.15 # convert kelvin to celsius\n",
    "\n",
    "def calc_delta_g(row):\n",
    "    delta_g = gas_constant * row[\"temperature_kelvin\"] * np.log(row[\"affinity\"])\n",
    "    return delta_g / 4184 # convert to kcal"
   ]
  },
  {
   "cell_type": "code",
   "execution_count": 19,
   "id": "8752f64e",
   "metadata": {},
   "outputs": [
    {
     "data": {
      "text/html": [
       "<div>\n",
       "<style scoped>\n",
       "    .dataframe tbody tr th:only-of-type {\n",
       "        vertical-align: middle;\n",
       "    }\n",
       "\n",
       "    .dataframe tbody tr th {\n",
       "        vertical-align: top;\n",
       "    }\n",
       "\n",
       "    .dataframe thead th {\n",
       "        text-align: right;\n",
       "    }\n",
       "</style>\n",
       "<table border=\"1\" class=\"dataframe\">\n",
       "  <thead>\n",
       "    <tr style=\"text-align: right;\">\n",
       "      <th></th>\n",
       "      <th>temperature</th>\n",
       "      <th>affinity</th>\n",
       "      <th>calc_dg</th>\n",
       "      <th>delta_g</th>\n",
       "    </tr>\n",
       "  </thead>\n",
       "  <tbody>\n",
       "    <tr>\n",
       "      <th>8</th>\n",
       "      <td>25</td>\n",
       "      <td>1.000000e-10</td>\n",
       "      <td>-13.642470</td>\n",
       "      <td>-13.63</td>\n",
       "    </tr>\n",
       "    <tr>\n",
       "      <th>9</th>\n",
       "      <td>25</td>\n",
       "      <td>2.000000e-04</td>\n",
       "      <td>-5.046309</td>\n",
       "      <td>-5.04</td>\n",
       "    </tr>\n",
       "    <tr>\n",
       "      <th>10</th>\n",
       "      <td>25</td>\n",
       "      <td>2.000000e-04</td>\n",
       "      <td>-5.046309</td>\n",
       "      <td>-5.04</td>\n",
       "    </tr>\n",
       "    <tr>\n",
       "      <th>11</th>\n",
       "      <td>25</td>\n",
       "      <td>2.000000e-04</td>\n",
       "      <td>-5.046309</td>\n",
       "      <td>-5.04</td>\n",
       "    </tr>\n",
       "    <tr>\n",
       "      <th>12</th>\n",
       "      <td>25</td>\n",
       "      <td>2.000000e-04</td>\n",
       "      <td>-5.046309</td>\n",
       "      <td>-5.04</td>\n",
       "    </tr>\n",
       "    <tr>\n",
       "      <th>...</th>\n",
       "      <td>...</td>\n",
       "      <td>...</td>\n",
       "      <td>...</td>\n",
       "      <td>...</td>\n",
       "    </tr>\n",
       "    <tr>\n",
       "      <th>688</th>\n",
       "      <td>37</td>\n",
       "      <td>1.100000e-10</td>\n",
       "      <td>-14.132812</td>\n",
       "      <td>-14.12</td>\n",
       "    </tr>\n",
       "    <tr>\n",
       "      <th>717</th>\n",
       "      <td>25</td>\n",
       "      <td>1.300000e-09</td>\n",
       "      <td>-12.122776</td>\n",
       "      <td>-12.12</td>\n",
       "    </tr>\n",
       "    <tr>\n",
       "      <th>721</th>\n",
       "      <td>25</td>\n",
       "      <td>4.100000e-08</td>\n",
       "      <td>-10.077988</td>\n",
       "      <td>-10.07</td>\n",
       "    </tr>\n",
       "    <tr>\n",
       "      <th>727</th>\n",
       "      <td>22</td>\n",
       "      <td>8.900000e-09</td>\n",
       "      <td>-10.872509</td>\n",
       "      <td>-10.87</td>\n",
       "    </tr>\n",
       "    <tr>\n",
       "      <th>728</th>\n",
       "      <td>30</td>\n",
       "      <td>7.000000e-10</td>\n",
       "      <td>-12.698998</td>\n",
       "      <td>-12.70</td>\n",
       "    </tr>\n",
       "  </tbody>\n",
       "</table>\n",
       "<p>142 rows × 4 columns</p>\n",
       "</div>"
      ],
      "text/plain": [
       "    temperature      affinity    calc_dg  delta_g\n",
       "8            25  1.000000e-10 -13.642470   -13.63\n",
       "9            25  2.000000e-04  -5.046309    -5.04\n",
       "10           25  2.000000e-04  -5.046309    -5.04\n",
       "11           25  2.000000e-04  -5.046309    -5.04\n",
       "12           25  2.000000e-04  -5.046309    -5.04\n",
       "..          ...           ...        ...      ...\n",
       "688          37  1.100000e-10 -14.132812   -14.12\n",
       "717          25  1.300000e-09 -12.122776   -12.12\n",
       "721          25  4.100000e-08 -10.077988   -10.07\n",
       "727          22  8.900000e-09 -10.872509   -10.87\n",
       "728          30  7.000000e-10 -12.698998   -12.70\n",
       "\n",
       "[142 rows x 4 columns]"
      ]
     },
     "execution_count": 19,
     "metadata": {},
     "output_type": "execute_result"
    }
   ],
   "source": [
    "temperature_data = overlapping_data[overlapping_data[\"temperature\"].notnull() & overlapping_data[\"affinity\"].notnull() & ~ overlapping_data[\"temperature\"].isin([\"Unknown\", \"SPR\", \"BLI\"])].copy()\n",
    "temperature_data[\"temperature_kelvin\"] = temperature_data[\"temperature\"].astype(int) + 273.15\n",
    "temperature_data[\"affinity\"] = temperature_data[\"affinity\"].astype(float)\n",
    "\n",
    "temperature_data[\"calc_dg\"] = temperature_data.apply(lambda row: calc_delta_g(row), axis=1)\n",
    "\n",
    "temperature_data[[\"temperature\", \"affinity\", \"calc_dg\", \"delta_g\"]]"
   ]
  },
  {
   "cell_type": "code",
   "execution_count": 20,
   "id": "9d56fc60",
   "metadata": {},
   "outputs": [
    {
     "data": {
      "text/plain": [
       "0.9996927244626528"
      ]
     },
     "execution_count": 20,
     "metadata": {},
     "output_type": "execute_result"
    }
   ],
   "source": [
    "temperature_data[\"calc_dg\"].corr(temperature_data[\"delta_g\"])"
   ]
  },
  {
   "cell_type": "code",
   "execution_count": 21,
   "id": "c805cf3a",
   "metadata": {},
   "outputs": [],
   "source": [
    "affinity_data = overlapping_data[overlapping_data[\"affinity\"].notnull() & overlapping_data[\"delta_g\"].notnull()].copy()\n",
    "\n",
    "affinity_data[\"calculated_temp\"] = affinity_data.apply(lambda row: calc_temp(row), axis=1).round(0).astype(int)"
   ]
  },
  {
   "cell_type": "code",
   "execution_count": 22,
   "id": "46627f97",
   "metadata": {},
   "outputs": [
    {
     "data": {
      "text/plain": [
       "calculated_temp\n",
       "25    666\n",
       "37     21\n",
       "20     11\n",
       "23      5\n",
       "30      4\n",
       "16      3\n",
       "4       2\n",
       "22      2\n",
       "28      2\n",
       "29      2\n",
       "24      1\n",
       "27      1\n",
       "43      1\n",
       "dtype: int64"
      ]
     },
     "execution_count": 22,
     "metadata": {},
     "output_type": "execute_result"
    }
   ],
   "source": [
    "affinity_data.value_counts(\"calculated_temp\")"
   ]
  },
  {
   "cell_type": "markdown",
   "id": "15e7df12",
   "metadata": {},
   "source": [
    "## Chain Analysis"
   ]
  },
  {
   "cell_type": "code",
   "execution_count": 23,
   "id": "2bf1be78",
   "metadata": {},
   "outputs": [
    {
     "name": "stdout",
     "output_type": "stream",
     "text": [
      "Getting Strcuture for 2r56\n"
     ]
    }
   ],
   "source": [
    "from abag_affinity.utils.pdb_reader import read_file\n",
    "\n",
    "row = overlapping_data[overlapping_data[\"pdb\"] == \"2r56\"].iloc[0]\n",
    "print(\"Getting Strcuture for {}\".format(row[\"pdb\"]))\n",
    "path = os.path.join(abdb_pdb_path, row[\"pdb_filename\"])\n",
    "structure, header= read_file(row[\"pdb\"], path)"
   ]
  },
  {
   "cell_type": "code",
   "execution_count": 24,
   "id": "bb5cfc55",
   "metadata": {},
   "outputs": [
    {
     "data": {
      "text/plain": [
       "[<Chain id=L>, <Chain id=H>, <Chain id=A>]"
      ]
     },
     "execution_count": 24,
     "metadata": {},
     "output_type": "execute_result"
    }
   ],
   "source": [
    "chain_list = list(structure.get_chains())\n",
    "chain_list"
   ]
  },
  {
   "cell_type": "code",
   "execution_count": 25,
   "id": "26978e32",
   "metadata": {},
   "outputs": [
    {
     "data": {
      "text/plain": [
       "[<Chain id=L>, <Chain id=H>, <Chain id=A>]"
      ]
     },
     "execution_count": 25,
     "metadata": {},
     "output_type": "execute_result"
    }
   ],
   "source": [
    "from Bio.PDB import Selection\n",
    "Selection.unfold_entities(structure, 'C')"
   ]
  },
  {
   "cell_type": "code",
   "execution_count": 26,
   "id": "83a32ed4",
   "metadata": {},
   "outputs": [],
   "source": [
    "resiude_list = list(chain_list[0].get_residues())"
   ]
  },
  {
   "cell_type": "code",
   "execution_count": 27,
   "id": "71920ff4",
   "metadata": {},
   "outputs": [
    {
     "data": {
      "text/plain": [
       "{'L': 'DIVMTQSPSSLSASVGDRVTITCRASQGISSRLAWYQQKPGKAPKLLIYAASSLQSGVPSRFSGSGSGTEFTLTISSLQPEDFATYYCQQYHSYPWTFGQGTKLEIKRTV',\n",
       " 'H': 'QVSLRESGGGLVQPGRSLRLSCTASGFTFRHHGMTWVRQAPGKGLEWVASLSGSGTKTHFADSVKGRFTISRDNSNNTLYLQMDNVRDEDTAIYYCAKAKRVGATGYFDLWGRGTLVTVSS',\n",
       " 'A': 'TQTMKGLDIQKVAGTWYSLAMAASDISLLDAQSAPLRVYVEELKPTPEGDLEILLQKWENGECAQKKIIAEKTKIPAVFKIDALNENKVLVLDTDYKKYLLFCMENSAEPEQSLACQCLVRTPEVDDEALEKFDKALKALPMHIRLSFNPTQLEEQCHI'}"
      ]
     },
     "execution_count": 27,
     "metadata": {},
     "output_type": "execute_result"
    }
   ],
   "source": [
    "from Bio.SeqUtils import seq1\n",
    "chains = {chain.id:seq1(''.join(residue.resname for residue in chain)) for chain in structure.get_chains()}\n",
    "chains"
   ]
  },
  {
   "cell_type": "markdown",
   "id": "49ecb9a9",
   "metadata": {},
   "source": [
    "## Chain Protein Connection Analysis\n",
    "\n",
    "Check how to identify if a chain belongs to antibody or antigen:\n",
    "\n",
    "- Check if in every conformation a light (L) and heavy (H) chain exist that belong to the antibody\n",
    "- Check if there are any specific naming conventions for antigen chains"
   ]
  },
  {
   "cell_type": "code",
   "execution_count": 28,
   "id": "4f8a36e1",
   "metadata": {},
   "outputs": [],
   "source": [
    "pdb_path = sabdab_pdb_path\n",
    "\n",
    "def get_chain_ids(row):\n",
    "    pdb_id = row[\"pdb\"]\n",
    "    path = os.path.join(pdb_path, pdb_id + \".pdb\")\n",
    "    \n",
    "    structure, header = read_file(pdb_id, path)\n",
    "    \n",
    "    chain_ids = []\n",
    "    for chain in structure.get_chains():\n",
    "        chain_ids.append(chain.id)\n",
    "    return chain_ids\n",
    "\n",
    "def check_LH_chains(row):\n",
    "    if \"L\" in row[\"chains\"] and \"H\" in row[\"chains\"]:\n",
    "        return True\n",
    "    else:\n",
    "        return False"
   ]
  },
  {
   "cell_type": "code",
   "execution_count": 29,
   "id": "db7409ea",
   "metadata": {},
   "outputs": [
    {
     "ename": "KeyboardInterrupt",
     "evalue": "",
     "output_type": "error",
     "traceback": [
      "\u001b[0;31m---------------------------------------------------------------------------\u001b[0m",
      "\u001b[0;31mKeyboardInterrupt\u001b[0m                         Traceback (most recent call last)",
      "Input \u001b[0;32mIn [29]\u001b[0m, in \u001b[0;36m<cell line: 2>\u001b[0;34m()\u001b[0m\n\u001b[1;32m      1\u001b[0m tqdm\u001b[38;5;241m.\u001b[39mpandas()\n\u001b[0;32m----> 2\u001b[0m overlapping_data[\u001b[38;5;124m\"\u001b[39m\u001b[38;5;124mchains\u001b[39m\u001b[38;5;124m\"\u001b[39m] \u001b[38;5;241m=\u001b[39m \u001b[43moverlapping_data\u001b[49m\u001b[38;5;241;43m.\u001b[39;49m\u001b[43mapply\u001b[49m\u001b[43m(\u001b[49m\u001b[38;5;28;43;01mlambda\u001b[39;49;00m\u001b[43m \u001b[49m\u001b[43mrow\u001b[49m\u001b[43m:\u001b[49m\u001b[43m \u001b[49m\u001b[43mget_chain_ids\u001b[49m\u001b[43m(\u001b[49m\u001b[43mrow\u001b[49m\u001b[43m)\u001b[49m\u001b[43m,\u001b[49m\u001b[43m \u001b[49m\u001b[43maxis\u001b[49m\u001b[38;5;241;43m=\u001b[39;49m\u001b[38;5;241;43m1\u001b[39;49m\u001b[43m)\u001b[49m\n\u001b[1;32m      3\u001b[0m overlapping_data[\u001b[38;5;124m\"\u001b[39m\u001b[38;5;124mLH_exist\u001b[39m\u001b[38;5;124m\"\u001b[39m] \u001b[38;5;241m=\u001b[39m overlapping_data\u001b[38;5;241m.\u001b[39mapply(\u001b[38;5;28;01mlambda\u001b[39;00m row: check_LH_chains(row), axis\u001b[38;5;241m=\u001b[39m\u001b[38;5;241m1\u001b[39m)\n",
      "File \u001b[0;32m~/Desktop/Uni/Masterthesis/ag_binding_venv/lib/python3.8/site-packages/pandas/core/frame.py:8839\u001b[0m, in \u001b[0;36mDataFrame.apply\u001b[0;34m(self, func, axis, raw, result_type, args, **kwargs)\u001b[0m\n\u001b[1;32m   8828\u001b[0m \u001b[38;5;28;01mfrom\u001b[39;00m \u001b[38;5;21;01mpandas\u001b[39;00m\u001b[38;5;21;01m.\u001b[39;00m\u001b[38;5;21;01mcore\u001b[39;00m\u001b[38;5;21;01m.\u001b[39;00m\u001b[38;5;21;01mapply\u001b[39;00m \u001b[38;5;28;01mimport\u001b[39;00m frame_apply\n\u001b[1;32m   8830\u001b[0m op \u001b[38;5;241m=\u001b[39m frame_apply(\n\u001b[1;32m   8831\u001b[0m     \u001b[38;5;28mself\u001b[39m,\n\u001b[1;32m   8832\u001b[0m     func\u001b[38;5;241m=\u001b[39mfunc,\n\u001b[0;32m   (...)\u001b[0m\n\u001b[1;32m   8837\u001b[0m     kwargs\u001b[38;5;241m=\u001b[39mkwargs,\n\u001b[1;32m   8838\u001b[0m )\n\u001b[0;32m-> 8839\u001b[0m \u001b[38;5;28;01mreturn\u001b[39;00m \u001b[43mop\u001b[49m\u001b[38;5;241;43m.\u001b[39;49m\u001b[43mapply\u001b[49m\u001b[43m(\u001b[49m\u001b[43m)\u001b[49m\u001b[38;5;241m.\u001b[39m__finalize__(\u001b[38;5;28mself\u001b[39m, method\u001b[38;5;241m=\u001b[39m\u001b[38;5;124m\"\u001b[39m\u001b[38;5;124mapply\u001b[39m\u001b[38;5;124m\"\u001b[39m)\n",
      "File \u001b[0;32m~/Desktop/Uni/Masterthesis/ag_binding_venv/lib/python3.8/site-packages/pandas/core/apply.py:727\u001b[0m, in \u001b[0;36mFrameApply.apply\u001b[0;34m(self)\u001b[0m\n\u001b[1;32m    724\u001b[0m \u001b[38;5;28;01melif\u001b[39;00m \u001b[38;5;28mself\u001b[39m\u001b[38;5;241m.\u001b[39mraw:\n\u001b[1;32m    725\u001b[0m     \u001b[38;5;28;01mreturn\u001b[39;00m \u001b[38;5;28mself\u001b[39m\u001b[38;5;241m.\u001b[39mapply_raw()\n\u001b[0;32m--> 727\u001b[0m \u001b[38;5;28;01mreturn\u001b[39;00m \u001b[38;5;28;43mself\u001b[39;49m\u001b[38;5;241;43m.\u001b[39;49m\u001b[43mapply_standard\u001b[49m\u001b[43m(\u001b[49m\u001b[43m)\u001b[49m\n",
      "File \u001b[0;32m~/Desktop/Uni/Masterthesis/ag_binding_venv/lib/python3.8/site-packages/pandas/core/apply.py:851\u001b[0m, in \u001b[0;36mFrameApply.apply_standard\u001b[0;34m(self)\u001b[0m\n\u001b[1;32m    850\u001b[0m \u001b[38;5;28;01mdef\u001b[39;00m \u001b[38;5;21mapply_standard\u001b[39m(\u001b[38;5;28mself\u001b[39m):\n\u001b[0;32m--> 851\u001b[0m     results, res_index \u001b[38;5;241m=\u001b[39m \u001b[38;5;28;43mself\u001b[39;49m\u001b[38;5;241;43m.\u001b[39;49m\u001b[43mapply_series_generator\u001b[49m\u001b[43m(\u001b[49m\u001b[43m)\u001b[49m\n\u001b[1;32m    853\u001b[0m     \u001b[38;5;66;03m# wrap results\u001b[39;00m\n\u001b[1;32m    854\u001b[0m     \u001b[38;5;28;01mreturn\u001b[39;00m \u001b[38;5;28mself\u001b[39m\u001b[38;5;241m.\u001b[39mwrap_results(results, res_index)\n",
      "File \u001b[0;32m~/Desktop/Uni/Masterthesis/ag_binding_venv/lib/python3.8/site-packages/pandas/core/apply.py:867\u001b[0m, in \u001b[0;36mFrameApply.apply_series_generator\u001b[0;34m(self)\u001b[0m\n\u001b[1;32m    864\u001b[0m \u001b[38;5;28;01mwith\u001b[39;00m option_context(\u001b[38;5;124m\"\u001b[39m\u001b[38;5;124mmode.chained_assignment\u001b[39m\u001b[38;5;124m\"\u001b[39m, \u001b[38;5;28;01mNone\u001b[39;00m):\n\u001b[1;32m    865\u001b[0m     \u001b[38;5;28;01mfor\u001b[39;00m i, v \u001b[38;5;129;01min\u001b[39;00m \u001b[38;5;28menumerate\u001b[39m(series_gen):\n\u001b[1;32m    866\u001b[0m         \u001b[38;5;66;03m# ignore SettingWithCopy here in case the user mutates\u001b[39;00m\n\u001b[0;32m--> 867\u001b[0m         results[i] \u001b[38;5;241m=\u001b[39m \u001b[38;5;28;43mself\u001b[39;49m\u001b[38;5;241;43m.\u001b[39;49m\u001b[43mf\u001b[49m\u001b[43m(\u001b[49m\u001b[43mv\u001b[49m\u001b[43m)\u001b[49m\n\u001b[1;32m    868\u001b[0m         \u001b[38;5;28;01mif\u001b[39;00m \u001b[38;5;28misinstance\u001b[39m(results[i], ABCSeries):\n\u001b[1;32m    869\u001b[0m             \u001b[38;5;66;03m# If we have a view on v, we need to make a copy because\u001b[39;00m\n\u001b[1;32m    870\u001b[0m             \u001b[38;5;66;03m#  series_generator will swap out the underlying data\u001b[39;00m\n\u001b[1;32m    871\u001b[0m             results[i] \u001b[38;5;241m=\u001b[39m results[i]\u001b[38;5;241m.\u001b[39mcopy(deep\u001b[38;5;241m=\u001b[39m\u001b[38;5;28;01mFalse\u001b[39;00m)\n",
      "Input \u001b[0;32mIn [29]\u001b[0m, in \u001b[0;36m<lambda>\u001b[0;34m(row)\u001b[0m\n\u001b[1;32m      1\u001b[0m tqdm\u001b[38;5;241m.\u001b[39mpandas()\n\u001b[0;32m----> 2\u001b[0m overlapping_data[\u001b[38;5;124m\"\u001b[39m\u001b[38;5;124mchains\u001b[39m\u001b[38;5;124m\"\u001b[39m] \u001b[38;5;241m=\u001b[39m overlapping_data\u001b[38;5;241m.\u001b[39mapply(\u001b[38;5;28;01mlambda\u001b[39;00m row: \u001b[43mget_chain_ids\u001b[49m\u001b[43m(\u001b[49m\u001b[43mrow\u001b[49m\u001b[43m)\u001b[49m, axis\u001b[38;5;241m=\u001b[39m\u001b[38;5;241m1\u001b[39m)\n\u001b[1;32m      3\u001b[0m overlapping_data[\u001b[38;5;124m\"\u001b[39m\u001b[38;5;124mLH_exist\u001b[39m\u001b[38;5;124m\"\u001b[39m] \u001b[38;5;241m=\u001b[39m overlapping_data\u001b[38;5;241m.\u001b[39mapply(\u001b[38;5;28;01mlambda\u001b[39;00m row: check_LH_chains(row), axis\u001b[38;5;241m=\u001b[39m\u001b[38;5;241m1\u001b[39m)\n",
      "Input \u001b[0;32mIn [28]\u001b[0m, in \u001b[0;36mget_chain_ids\u001b[0;34m(row)\u001b[0m\n\u001b[1;32m      4\u001b[0m pdb_id \u001b[38;5;241m=\u001b[39m row[\u001b[38;5;124m\"\u001b[39m\u001b[38;5;124mpdb\u001b[39m\u001b[38;5;124m\"\u001b[39m]\n\u001b[1;32m      5\u001b[0m path \u001b[38;5;241m=\u001b[39m os\u001b[38;5;241m.\u001b[39mpath\u001b[38;5;241m.\u001b[39mjoin(pdb_path, pdb_id \u001b[38;5;241m+\u001b[39m \u001b[38;5;124m\"\u001b[39m\u001b[38;5;124m.pdb\u001b[39m\u001b[38;5;124m\"\u001b[39m)\n\u001b[0;32m----> 7\u001b[0m structure, header \u001b[38;5;241m=\u001b[39m \u001b[43mread_file\u001b[49m\u001b[43m(\u001b[49m\u001b[43mpdb_id\u001b[49m\u001b[43m,\u001b[49m\u001b[43m \u001b[49m\u001b[43mpath\u001b[49m\u001b[43m)\u001b[49m\n\u001b[1;32m      9\u001b[0m chain_ids \u001b[38;5;241m=\u001b[39m []\n\u001b[1;32m     10\u001b[0m \u001b[38;5;28;01mfor\u001b[39;00m chain \u001b[38;5;129;01min\u001b[39;00m structure\u001b[38;5;241m.\u001b[39mget_chains():\n",
      "File \u001b[0;32m~/Desktop/Uni/Masterthesis/ag_binding_venv/lib/python3.8/site-packages/abag_affinity/utils/pdb_reader.py:9\u001b[0m, in \u001b[0;36mread_file\u001b[0;34m(structure_id, path)\u001b[0m\n\u001b[1;32m      8\u001b[0m \u001b[38;5;28;01mdef\u001b[39;00m \u001b[38;5;21mread_file\u001b[39m(structure_id: \u001b[38;5;28mstr\u001b[39m, path: \u001b[38;5;28mstr\u001b[39m):\n\u001b[0;32m----> 9\u001b[0m     structure \u001b[38;5;241m=\u001b[39m \u001b[43mparser\u001b[49m\u001b[38;5;241;43m.\u001b[39;49m\u001b[43mget_structure\u001b[49m\u001b[43m(\u001b[49m\u001b[43mstructure_id\u001b[49m\u001b[43m,\u001b[49m\u001b[43m \u001b[49m\u001b[43mpath\u001b[49m\u001b[43m)\u001b[49m\n\u001b[1;32m     10\u001b[0m     header \u001b[38;5;241m=\u001b[39m parser\u001b[38;5;241m.\u001b[39mget_header()\n\u001b[1;32m     11\u001b[0m     \u001b[38;5;28;01mreturn\u001b[39;00m structure, header\n",
      "File \u001b[0;32m~/Desktop/Uni/Masterthesis/ag_binding_venv/lib/python3.8/site-packages/Bio/PDB/PDBParser.py:100\u001b[0m, in \u001b[0;36mPDBParser.get_structure\u001b[0;34m(self, id, file)\u001b[0m\n\u001b[1;32m     98\u001b[0m     \u001b[38;5;28;01mif\u001b[39;00m \u001b[38;5;129;01mnot\u001b[39;00m lines:\n\u001b[1;32m     99\u001b[0m         \u001b[38;5;28;01mraise\u001b[39;00m \u001b[38;5;167;01mValueError\u001b[39;00m(\u001b[38;5;124m\"\u001b[39m\u001b[38;5;124mEmpty file.\u001b[39m\u001b[38;5;124m\"\u001b[39m)\n\u001b[0;32m--> 100\u001b[0m     \u001b[38;5;28;43mself\u001b[39;49m\u001b[38;5;241;43m.\u001b[39;49m\u001b[43m_parse\u001b[49m\u001b[43m(\u001b[49m\u001b[43mlines\u001b[49m\u001b[43m)\u001b[49m\n\u001b[1;32m    102\u001b[0m \u001b[38;5;28mself\u001b[39m\u001b[38;5;241m.\u001b[39mstructure_builder\u001b[38;5;241m.\u001b[39mset_header(\u001b[38;5;28mself\u001b[39m\u001b[38;5;241m.\u001b[39mheader)\n\u001b[1;32m    103\u001b[0m \u001b[38;5;66;03m# Return the Structure instance\u001b[39;00m\n",
      "File \u001b[0;32m~/Desktop/Uni/Masterthesis/ag_binding_venv/lib/python3.8/site-packages/Bio/PDB/PDBParser.py:123\u001b[0m, in \u001b[0;36mPDBParser._parse\u001b[0;34m(self, header_coords_trailer)\u001b[0m\n\u001b[1;32m    121\u001b[0m \u001b[38;5;28mself\u001b[39m\u001b[38;5;241m.\u001b[39mheader, coords_trailer \u001b[38;5;241m=\u001b[39m \u001b[38;5;28mself\u001b[39m\u001b[38;5;241m.\u001b[39m_get_header(header_coords_trailer)\n\u001b[1;32m    122\u001b[0m \u001b[38;5;66;03m# Parse the atomic data; return the PDB file trailer\u001b[39;00m\n\u001b[0;32m--> 123\u001b[0m \u001b[38;5;28mself\u001b[39m\u001b[38;5;241m.\u001b[39mtrailer \u001b[38;5;241m=\u001b[39m \u001b[38;5;28;43mself\u001b[39;49m\u001b[38;5;241;43m.\u001b[39;49m\u001b[43m_parse_coordinates\u001b[49m\u001b[43m(\u001b[49m\u001b[43mcoords_trailer\u001b[49m\u001b[43m)\u001b[49m\n",
      "File \u001b[0;32m~/Desktop/Uni/Masterthesis/ag_binding_venv/lib/python3.8/site-packages/Bio/PDB/PDBParser.py:299\u001b[0m, in \u001b[0;36mPDBParser._parse_coordinates\u001b[0;34m(self, coords_trailer)\u001b[0m\n\u001b[1;32m    296\u001b[0m \u001b[38;5;28;01mif\u001b[39;00m \u001b[38;5;129;01mnot\u001b[39;00m \u001b[38;5;28mself\u001b[39m\u001b[38;5;241m.\u001b[39mis_pqr:\n\u001b[1;32m    297\u001b[0m     \u001b[38;5;66;03m# init atom with pdb fields\u001b[39;00m\n\u001b[1;32m    298\u001b[0m     \u001b[38;5;28;01mtry\u001b[39;00m:\n\u001b[0;32m--> 299\u001b[0m         \u001b[43mstructure_builder\u001b[49m\u001b[38;5;241;43m.\u001b[39;49m\u001b[43minit_atom\u001b[49m\u001b[43m(\u001b[49m\n\u001b[1;32m    300\u001b[0m \u001b[43m            \u001b[49m\u001b[43mname\u001b[49m\u001b[43m,\u001b[49m\n\u001b[1;32m    301\u001b[0m \u001b[43m            \u001b[49m\u001b[43mcoord\u001b[49m\u001b[43m,\u001b[49m\n\u001b[1;32m    302\u001b[0m \u001b[43m            \u001b[49m\u001b[43mbfactor\u001b[49m\u001b[43m,\u001b[49m\n\u001b[1;32m    303\u001b[0m \u001b[43m            \u001b[49m\u001b[43moccupancy\u001b[49m\u001b[43m,\u001b[49m\n\u001b[1;32m    304\u001b[0m \u001b[43m            \u001b[49m\u001b[43maltloc\u001b[49m\u001b[43m,\u001b[49m\n\u001b[1;32m    305\u001b[0m \u001b[43m            \u001b[49m\u001b[43mfullname\u001b[49m\u001b[43m,\u001b[49m\n\u001b[1;32m    306\u001b[0m \u001b[43m            \u001b[49m\u001b[43mserial_number\u001b[49m\u001b[43m,\u001b[49m\n\u001b[1;32m    307\u001b[0m \u001b[43m            \u001b[49m\u001b[43melement\u001b[49m\u001b[43m,\u001b[49m\n\u001b[1;32m    308\u001b[0m \u001b[43m        \u001b[49m\u001b[43m)\u001b[49m\n\u001b[1;32m    309\u001b[0m     \u001b[38;5;28;01mexcept\u001b[39;00m PDBConstructionException \u001b[38;5;28;01mas\u001b[39;00m message:\n\u001b[1;32m    310\u001b[0m         \u001b[38;5;28mself\u001b[39m\u001b[38;5;241m.\u001b[39m_handle_PDB_exception(message, global_line_counter)\n",
      "File \u001b[0;32m~/Desktop/Uni/Masterthesis/ag_binding_venv/lib/python3.8/site-packages/Bio/PDB/StructureBuilder.py:231\u001b[0m, in \u001b[0;36mStructureBuilder.init_atom\u001b[0;34m(self, name, coord, b_factor, occupancy, altloc, fullname, serial_number, element, pqr_charge, radius, is_pqr)\u001b[0m\n\u001b[1;32m    225\u001b[0m         warnings\u001b[38;5;241m.\u001b[39mwarn(\n\u001b[1;32m    226\u001b[0m             \u001b[38;5;124m\"\u001b[39m\u001b[38;5;124mAtom names \u001b[39m\u001b[38;5;132;01m%r\u001b[39;00m\u001b[38;5;124m and \u001b[39m\u001b[38;5;132;01m%r\u001b[39;00m\u001b[38;5;124m differ only in spaces at line \u001b[39m\u001b[38;5;132;01m%i\u001b[39;00m\u001b[38;5;124m.\u001b[39m\u001b[38;5;124m\"\u001b[39m\n\u001b[1;32m    227\u001b[0m             \u001b[38;5;241m%\u001b[39m (duplicate_fullname, fullname, \u001b[38;5;28mself\u001b[39m\u001b[38;5;241m.\u001b[39mline_counter),\n\u001b[1;32m    228\u001b[0m             PDBConstructionWarning,\n\u001b[1;32m    229\u001b[0m         )\n\u001b[1;32m    230\u001b[0m \u001b[38;5;28;01mif\u001b[39;00m \u001b[38;5;129;01mnot\u001b[39;00m is_pqr:\n\u001b[0;32m--> 231\u001b[0m     \u001b[38;5;28mself\u001b[39m\u001b[38;5;241m.\u001b[39matom \u001b[38;5;241m=\u001b[39m \u001b[43mAtom\u001b[49m\u001b[43m(\u001b[49m\n\u001b[1;32m    232\u001b[0m \u001b[43m        \u001b[49m\u001b[43mname\u001b[49m\u001b[43m,\u001b[49m\n\u001b[1;32m    233\u001b[0m \u001b[43m        \u001b[49m\u001b[43mcoord\u001b[49m\u001b[43m,\u001b[49m\n\u001b[1;32m    234\u001b[0m \u001b[43m        \u001b[49m\u001b[43mb_factor\u001b[49m\u001b[43m,\u001b[49m\n\u001b[1;32m    235\u001b[0m \u001b[43m        \u001b[49m\u001b[43moccupancy\u001b[49m\u001b[43m,\u001b[49m\n\u001b[1;32m    236\u001b[0m \u001b[43m        \u001b[49m\u001b[43maltloc\u001b[49m\u001b[43m,\u001b[49m\n\u001b[1;32m    237\u001b[0m \u001b[43m        \u001b[49m\u001b[43mfullname\u001b[49m\u001b[43m,\u001b[49m\n\u001b[1;32m    238\u001b[0m \u001b[43m        \u001b[49m\u001b[43mserial_number\u001b[49m\u001b[43m,\u001b[49m\n\u001b[1;32m    239\u001b[0m \u001b[43m        \u001b[49m\u001b[43melement\u001b[49m\u001b[43m,\u001b[49m\n\u001b[1;32m    240\u001b[0m \u001b[43m    \u001b[49m\u001b[43m)\u001b[49m\n\u001b[1;32m    241\u001b[0m \u001b[38;5;28;01melif\u001b[39;00m is_pqr:\n\u001b[1;32m    242\u001b[0m     \u001b[38;5;28mself\u001b[39m\u001b[38;5;241m.\u001b[39matom \u001b[38;5;241m=\u001b[39m Atom(\n\u001b[1;32m    243\u001b[0m         name,\n\u001b[1;32m    244\u001b[0m         coord,\n\u001b[0;32m   (...)\u001b[0m\n\u001b[1;32m    252\u001b[0m         radius,\n\u001b[1;32m    253\u001b[0m     )\n",
      "File \u001b[0;32m~/Desktop/Uni/Masterthesis/ag_binding_venv/lib/python3.8/site-packages/Bio/PDB/Atom.py:103\u001b[0m, in \u001b[0;36mAtom.__init__\u001b[0;34m(self, name, coord, bfactor, occupancy, altloc, fullname, serial_number, element, pqr_charge, radius)\u001b[0m\n\u001b[1;32m    100\u001b[0m \u001b[38;5;28mself\u001b[39m\u001b[38;5;241m.\u001b[39mradius \u001b[38;5;241m=\u001b[39m radius\n\u001b[1;32m    102\u001b[0m \u001b[38;5;66;03m# For atom sorting (protein backbone atoms first)\u001b[39;00m\n\u001b[0;32m--> 103\u001b[0m \u001b[38;5;28mself\u001b[39m\u001b[38;5;241m.\u001b[39m_sorting_keys \u001b[38;5;241m=\u001b[39m {\u001b[38;5;124m\"\u001b[39m\u001b[38;5;124mN\u001b[39m\u001b[38;5;124m\"\u001b[39m: \u001b[38;5;241m0\u001b[39m, \u001b[38;5;124m\"\u001b[39m\u001b[38;5;124mCA\u001b[39m\u001b[38;5;124m\"\u001b[39m: \u001b[38;5;241m1\u001b[39m, \u001b[38;5;124m\"\u001b[39m\u001b[38;5;124mC\u001b[39m\u001b[38;5;124m\"\u001b[39m: \u001b[38;5;241m2\u001b[39m, \u001b[38;5;124m\"\u001b[39m\u001b[38;5;124mO\u001b[39m\u001b[38;5;124m\"\u001b[39m: \u001b[38;5;241m3\u001b[39m}\n",
      "\u001b[0;31mKeyboardInterrupt\u001b[0m: "
     ]
    }
   ],
   "source": [
    "tqdm.pandas()\n",
    "overlapping_data[\"chains\"] = overlapping_data.apply(lambda row: get_chain_ids(row), axis=1)\n",
    "overlapping_data[\"LH_exist\"] = overlapping_data.apply(lambda row: check_LH_chains(row), axis=1)"
   ]
  },
  {
   "cell_type": "code",
   "execution_count": null,
   "id": "b79c2aed",
   "metadata": {},
   "outputs": [],
   "source": [
    "print(\"Number of conformations with L and H chains >>> {} ({}%)\".format(overlapping_data[\"LH_exist\"].sum(), round(overlapping_data[\"LH_exist\"].sum() / len(overlapping_data) * 100, 2)))"
   ]
  },
  {
   "cell_type": "code",
   "execution_count": null,
   "id": "b1f13f4f",
   "metadata": {},
   "outputs": [],
   "source": [
    "overlapping_data[overlapping_data[\"LH_exist\"] == False][[\"pdb\", \"Hchain\", \"Lchain\", \"chains\"]]"
   ]
  },
  {
   "cell_type": "markdown",
   "id": "3744517b",
   "metadata": {},
   "source": [
    "### Antigen chain nams"
   ]
  },
  {
   "cell_type": "code",
   "execution_count": null,
   "id": "514b712b",
   "metadata": {},
   "outputs": [],
   "source": [
    "def get_antibody_chains(row):\n",
    "    pdb_id = row[\"pdb\"]\n",
    "    \n",
    "    chain_ids = []\n",
    "    for chain in structure.get_chains():\n",
    "        chain_ids.append(chain.id)\n",
    "    return chain_ids\n"
   ]
  }
 ],
 "metadata": {
  "kernelspec": {
   "display_name": "ag_affinity",
   "language": "python",
   "name": "ag_affinity"
  },
  "language_info": {
   "codemirror_mode": {
    "name": "ipython",
    "version": 3
   },
   "file_extension": ".py",
   "mimetype": "text/x-python",
   "name": "python",
   "nbconvert_exporter": "python",
   "pygments_lexer": "ipython3",
   "version": "3.8.10"
  }
 },
 "nbformat": 4,
 "nbformat_minor": 5
}
