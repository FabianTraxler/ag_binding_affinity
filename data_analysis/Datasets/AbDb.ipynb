{
 "cells": [
  {
   "cell_type": "markdown",
   "id": "635e9a30",
   "metadata": {},
   "source": [
    "# AbDb Data Analysis\n",
    "\n",
    "The metadata files have been downloaded from http://www.abybank.org/abdb/ using the \"Complete Antibodies - Martin Numbering - Non Redundant (NR)\" Dataset. (10.05.2022)"
   ]
  },
  {
   "cell_type": "code",
   "execution_count": 1,
   "id": "68545662",
   "metadata": {},
   "outputs": [],
   "source": [
    "import pandas as pd\n",
    "import yaml\n",
    "import os"
   ]
  },
  {
   "cell_type": "code",
   "execution_count": 2,
   "id": "d09f0ffa",
   "metadata": {},
   "outputs": [],
   "source": [
    "from abag_affinity.utils.config import read_yaml, get_data_paths\n",
    "\n",
    "config = read_yaml(\"../../abag_affinity/config.yaml\")\n",
    "summary_path, pdb_path = get_data_paths(config, \"AbDb\")"
   ]
  },
  {
   "cell_type": "code",
   "execution_count": 3,
   "id": "5568812c",
   "metadata": {},
   "outputs": [
    {
     "data": {
      "text/html": [
       "<div>\n",
       "<style scoped>\n",
       "    .dataframe tbody tr th:only-of-type {\n",
       "        vertical-align: middle;\n",
       "    }\n",
       "\n",
       "    .dataframe tbody tr th {\n",
       "        vertical-align: top;\n",
       "    }\n",
       "\n",
       "    .dataframe thead th {\n",
       "        text-align: right;\n",
       "    }\n",
       "</style>\n",
       "<table border=\"1\" class=\"dataframe\">\n",
       "  <thead>\n",
       "    <tr style=\"text-align: right;\">\n",
       "      <th></th>\n",
       "      <th>Unnamed: 0.1</th>\n",
       "      <th>Unnamed: 0</th>\n",
       "      <th>abdb_filename</th>\n",
       "      <th>pdb</th>\n",
       "      <th>antibody_chains</th>\n",
       "      <th>antigen_chains</th>\n",
       "      <th>in_dataset</th>\n",
       "      <th>dG (REU)</th>\n",
       "      <th>dG (REU)-double_relax</th>\n",
       "    </tr>\n",
       "  </thead>\n",
       "  <tbody>\n",
       "    <tr>\n",
       "      <th>0</th>\n",
       "      <td>0</td>\n",
       "      <td>0</td>\n",
       "      <td>5IES_1.pdb</td>\n",
       "      <td>5ies</td>\n",
       "      <td>['L', 'H']</td>\n",
       "      <td>['C']</td>\n",
       "      <td>True</td>\n",
       "      <td>-6.558715</td>\n",
       "      <td>-3.631291</td>\n",
       "    </tr>\n",
       "    <tr>\n",
       "      <th>1</th>\n",
       "      <td>1</td>\n",
       "      <td>1</td>\n",
       "      <td>2HFG_1.pdb</td>\n",
       "      <td>2hfg</td>\n",
       "      <td>['L', 'H']</td>\n",
       "      <td>['R']</td>\n",
       "      <td>True</td>\n",
       "      <td>-110.869807</td>\n",
       "      <td>-43.817577</td>\n",
       "    </tr>\n",
       "    <tr>\n",
       "      <th>2</th>\n",
       "      <td>2</td>\n",
       "      <td>2</td>\n",
       "      <td>3O6L_1.pdb</td>\n",
       "      <td>3o6l</td>\n",
       "      <td>['L', 'H']</td>\n",
       "      <td>['C']</td>\n",
       "      <td>True</td>\n",
       "      <td>-68.280188</td>\n",
       "      <td>-19.465279</td>\n",
       "    </tr>\n",
       "    <tr>\n",
       "      <th>3</th>\n",
       "      <td>3</td>\n",
       "      <td>3</td>\n",
       "      <td>5BK1_2.pdb</td>\n",
       "      <td>5bk1</td>\n",
       "      <td>['L', 'H']</td>\n",
       "      <td>['B']</td>\n",
       "      <td>True</td>\n",
       "      <td>-65.538385</td>\n",
       "      <td>-39.382892</td>\n",
       "    </tr>\n",
       "    <tr>\n",
       "      <th>4</th>\n",
       "      <td>4</td>\n",
       "      <td>4</td>\n",
       "      <td>4NP4_1.pdb</td>\n",
       "      <td>4np4</td>\n",
       "      <td>['L', 'H']</td>\n",
       "      <td>['A']</td>\n",
       "      <td>True</td>\n",
       "      <td>-96.312982</td>\n",
       "      <td>-22.272860</td>\n",
       "    </tr>\n",
       "  </tbody>\n",
       "</table>\n",
       "</div>"
      ],
      "text/plain": [
       "   Unnamed: 0.1  Unnamed: 0 abdb_filename   pdb antibody_chains  \\\n",
       "0             0           0    5IES_1.pdb  5ies      ['L', 'H']   \n",
       "1             1           1    2HFG_1.pdb  2hfg      ['L', 'H']   \n",
       "2             2           2    3O6L_1.pdb  3o6l      ['L', 'H']   \n",
       "3             3           3    5BK1_2.pdb  5bk1      ['L', 'H']   \n",
       "4             4           4    4NP4_1.pdb  4np4      ['L', 'H']   \n",
       "\n",
       "  antigen_chains  in_dataset    dG (REU)  dG (REU)-double_relax  \n",
       "0          ['C']        True   -6.558715              -3.631291  \n",
       "1          ['R']        True -110.869807             -43.817577  \n",
       "2          ['C']        True  -68.280188             -19.465279  \n",
       "3          ['B']        True  -65.538385             -39.382892  \n",
       "4          ['A']        True  -96.312982             -22.272860  "
      ]
     },
     "execution_count": 3,
     "metadata": {},
     "output_type": "execute_result"
    }
   ],
   "source": [
    "if os.path.exists(summary_path):\n",
    "    abdb_df = pd.read_csv(summary_path)\n",
    "else:\n",
    "    abdb_df = pd.DataFrame()\n",
    "abdb_df.head()"
   ]
  },
  {
   "cell_type": "code",
   "execution_count": 4,
   "id": "ceda1995",
   "metadata": {},
   "outputs": [
    {
     "name": "stdout",
     "output_type": "stream",
     "text": [
      "Number of PDB Files >>> 1229\n"
     ]
    }
   ],
   "source": [
    "pdb_files = os.listdir(pdb_path)\n",
    "\n",
    "print(\"Number of PDB Files >>>\", len(pdb_files))"
   ]
  },
  {
   "cell_type": "code",
   "execution_count": 5,
   "id": "15e4c81c",
   "metadata": {},
   "outputs": [
    {
     "data": {
      "text/plain": [
       "['6N5E_1.pdb', '4TTD_1.pdb', '5B3J_2.pdb', '1QGC_1.pdb', '3CX5_1.pdb']"
      ]
     },
     "execution_count": 5,
     "metadata": {},
     "output_type": "execute_result"
    }
   ],
   "source": [
    "pdb_files[:5]"
   ]
  },
  {
   "cell_type": "code",
   "execution_count": 6,
   "id": "3af7d580",
   "metadata": {},
   "outputs": [],
   "source": [
    "if len(abdb_df) == 0:\n",
    "    abdb_df[\"abdb_filename\"] = pdb_files\n",
    "    pdb_ids = [pdb_file.split(\"_\")[0].lower() for pdb_file in pdb_files]\n",
    "\n",
    "    abdb_df[\"pdb\"] = pdb_ids"
   ]
  },
  {
   "cell_type": "code",
   "execution_count": 7,
   "id": "b913a223",
   "metadata": {},
   "outputs": [
    {
     "data": {
      "text/html": [
       "<div>\n",
       "<style scoped>\n",
       "    .dataframe tbody tr th:only-of-type {\n",
       "        vertical-align: middle;\n",
       "    }\n",
       "\n",
       "    .dataframe tbody tr th {\n",
       "        vertical-align: top;\n",
       "    }\n",
       "\n",
       "    .dataframe thead th {\n",
       "        text-align: right;\n",
       "    }\n",
       "</style>\n",
       "<table border=\"1\" class=\"dataframe\">\n",
       "  <thead>\n",
       "    <tr style=\"text-align: right;\">\n",
       "      <th></th>\n",
       "      <th>Unnamed: 0.1</th>\n",
       "      <th>Unnamed: 0</th>\n",
       "      <th>abdb_filename</th>\n",
       "      <th>pdb</th>\n",
       "      <th>antibody_chains</th>\n",
       "      <th>antigen_chains</th>\n",
       "      <th>in_dataset</th>\n",
       "      <th>dG (REU)</th>\n",
       "      <th>dG (REU)-double_relax</th>\n",
       "    </tr>\n",
       "  </thead>\n",
       "  <tbody>\n",
       "    <tr>\n",
       "      <th>0</th>\n",
       "      <td>0</td>\n",
       "      <td>0</td>\n",
       "      <td>5IES_1.pdb</td>\n",
       "      <td>5ies</td>\n",
       "      <td>['L', 'H']</td>\n",
       "      <td>['C']</td>\n",
       "      <td>True</td>\n",
       "      <td>-6.558715</td>\n",
       "      <td>-3.631291</td>\n",
       "    </tr>\n",
       "    <tr>\n",
       "      <th>1</th>\n",
       "      <td>1</td>\n",
       "      <td>1</td>\n",
       "      <td>2HFG_1.pdb</td>\n",
       "      <td>2hfg</td>\n",
       "      <td>['L', 'H']</td>\n",
       "      <td>['R']</td>\n",
       "      <td>True</td>\n",
       "      <td>-110.869807</td>\n",
       "      <td>-43.817577</td>\n",
       "    </tr>\n",
       "    <tr>\n",
       "      <th>2</th>\n",
       "      <td>2</td>\n",
       "      <td>2</td>\n",
       "      <td>3O6L_1.pdb</td>\n",
       "      <td>3o6l</td>\n",
       "      <td>['L', 'H']</td>\n",
       "      <td>['C']</td>\n",
       "      <td>True</td>\n",
       "      <td>-68.280188</td>\n",
       "      <td>-19.465279</td>\n",
       "    </tr>\n",
       "    <tr>\n",
       "      <th>3</th>\n",
       "      <td>3</td>\n",
       "      <td>3</td>\n",
       "      <td>5BK1_2.pdb</td>\n",
       "      <td>5bk1</td>\n",
       "      <td>['L', 'H']</td>\n",
       "      <td>['B']</td>\n",
       "      <td>True</td>\n",
       "      <td>-65.538385</td>\n",
       "      <td>-39.382892</td>\n",
       "    </tr>\n",
       "    <tr>\n",
       "      <th>4</th>\n",
       "      <td>4</td>\n",
       "      <td>4</td>\n",
       "      <td>4NP4_1.pdb</td>\n",
       "      <td>4np4</td>\n",
       "      <td>['L', 'H']</td>\n",
       "      <td>['A']</td>\n",
       "      <td>True</td>\n",
       "      <td>-96.312982</td>\n",
       "      <td>-22.272860</td>\n",
       "    </tr>\n",
       "  </tbody>\n",
       "</table>\n",
       "</div>"
      ],
      "text/plain": [
       "   Unnamed: 0.1  Unnamed: 0 abdb_filename   pdb antibody_chains  \\\n",
       "0             0           0    5IES_1.pdb  5ies      ['L', 'H']   \n",
       "1             1           1    2HFG_1.pdb  2hfg      ['L', 'H']   \n",
       "2             2           2    3O6L_1.pdb  3o6l      ['L', 'H']   \n",
       "3             3           3    5BK1_2.pdb  5bk1      ['L', 'H']   \n",
       "4             4           4    4NP4_1.pdb  4np4      ['L', 'H']   \n",
       "\n",
       "  antigen_chains  in_dataset    dG (REU)  dG (REU)-double_relax  \n",
       "0          ['C']        True   -6.558715              -3.631291  \n",
       "1          ['R']        True -110.869807             -43.817577  \n",
       "2          ['C']        True  -68.280188             -19.465279  \n",
       "3          ['B']        True  -65.538385             -39.382892  \n",
       "4          ['A']        True  -96.312982             -22.272860  "
      ]
     },
     "execution_count": 7,
     "metadata": {},
     "output_type": "execute_result"
    }
   ],
   "source": [
    "abdb_df.head()"
   ]
  },
  {
   "cell_type": "markdown",
   "id": "6f7447d1",
   "metadata": {},
   "source": [
    "## PDB Files with no affinity value\n",
    "\n",
    "Get all entries that are not part of the dataset_v1 (overlap of AbDb and SAbDab or Antibody Benchmark)"
   ]
  },
  {
   "cell_type": "code",
   "execution_count": 8,
   "id": "da462f20",
   "metadata": {},
   "outputs": [
    {
     "data": {
      "text/html": [
       "<div>\n",
       "<style scoped>\n",
       "    .dataframe tbody tr th:only-of-type {\n",
       "        vertical-align: middle;\n",
       "    }\n",
       "\n",
       "    .dataframe tbody tr th {\n",
       "        vertical-align: top;\n",
       "    }\n",
       "\n",
       "    .dataframe thead th {\n",
       "        text-align: right;\n",
       "    }\n",
       "</style>\n",
       "<table border=\"1\" class=\"dataframe\">\n",
       "  <thead>\n",
       "    <tr style=\"text-align: right;\">\n",
       "      <th></th>\n",
       "      <th>index</th>\n",
       "      <th>pdb</th>\n",
       "      <th>abdb_file</th>\n",
       "      <th>antigen_type</th>\n",
       "      <th>antibody_chains</th>\n",
       "      <th>antigen_chains</th>\n",
       "      <th>affinity_method</th>\n",
       "      <th>temperature</th>\n",
       "      <th>calculated_temp</th>\n",
       "      <th>affinity</th>\n",
       "      <th>delta_g</th>\n",
       "      <th>test</th>\n",
       "      <th>validation</th>\n",
       "    </tr>\n",
       "  </thead>\n",
       "  <tbody>\n",
       "    <tr>\n",
       "      <th>0</th>\n",
       "      <td>0</td>\n",
       "      <td>2r56</td>\n",
       "      <td>2R56_1.pdb</td>\n",
       "      <td>protein</td>\n",
       "      <td>['I', 'M', 'H', 'L']</td>\n",
       "      <td>['B', 'A']</td>\n",
       "      <td>SPR</td>\n",
       "      <td>NaN</td>\n",
       "      <td>25.0</td>\n",
       "      <td>1.300000e-09</td>\n",
       "      <td>-12.120000</td>\n",
       "      <td>False</td>\n",
       "      <td>2</td>\n",
       "    </tr>\n",
       "    <tr>\n",
       "      <th>1</th>\n",
       "      <td>271</td>\n",
       "      <td>3l5x</td>\n",
       "      <td>3L5X_1.pdb</td>\n",
       "      <td>protein</td>\n",
       "      <td>['H', 'L']</td>\n",
       "      <td>['A']</td>\n",
       "      <td>SPR</td>\n",
       "      <td>25</td>\n",
       "      <td>25.0</td>\n",
       "      <td>2.690000e-10</td>\n",
       "      <td>-13.050000</td>\n",
       "      <td>False</td>\n",
       "      <td>3</td>\n",
       "    </tr>\n",
       "    <tr>\n",
       "      <th>2</th>\n",
       "      <td>270</td>\n",
       "      <td>3sdy</td>\n",
       "      <td>3SDY_1.pdb</td>\n",
       "      <td>protein | protein</td>\n",
       "      <td>['H', 'L']</td>\n",
       "      <td>['B', 'A']</td>\n",
       "      <td>Other</td>\n",
       "      <td>30</td>\n",
       "      <td>30.0</td>\n",
       "      <td>1.000000e-09</td>\n",
       "      <td>-12.480000</td>\n",
       "      <td>False</td>\n",
       "      <td>3</td>\n",
       "    </tr>\n",
       "    <tr>\n",
       "      <th>3</th>\n",
       "      <td>269</td>\n",
       "      <td>5i5k</td>\n",
       "      <td>5I5K_1.pdb</td>\n",
       "      <td>protein</td>\n",
       "      <td>['X', 'Y', 'H', 'L']</td>\n",
       "      <td>['A', 'B']</td>\n",
       "      <td>SPR</td>\n",
       "      <td>NaN</td>\n",
       "      <td>25.0</td>\n",
       "      <td>1.760000e-11</td>\n",
       "      <td>-14.671746</td>\n",
       "      <td>False</td>\n",
       "      <td>3</td>\n",
       "    </tr>\n",
       "    <tr>\n",
       "      <th>4</th>\n",
       "      <td>268</td>\n",
       "      <td>3kr3</td>\n",
       "      <td>3KR3_1.pdb</td>\n",
       "      <td>protein</td>\n",
       "      <td>['H', 'L']</td>\n",
       "      <td>['D']</td>\n",
       "      <td>SPR</td>\n",
       "      <td>25</td>\n",
       "      <td>25.0</td>\n",
       "      <td>4.900000e-11</td>\n",
       "      <td>-14.060000</td>\n",
       "      <td>False</td>\n",
       "      <td>2</td>\n",
       "    </tr>\n",
       "  </tbody>\n",
       "</table>\n",
       "</div>"
      ],
      "text/plain": [
       "   index   pdb   abdb_file       antigen_type       antibody_chains  \\\n",
       "0      0  2r56  2R56_1.pdb            protein  ['I', 'M', 'H', 'L']   \n",
       "1    271  3l5x  3L5X_1.pdb            protein            ['H', 'L']   \n",
       "2    270  3sdy  3SDY_1.pdb  protein | protein            ['H', 'L']   \n",
       "3    269  5i5k  5I5K_1.pdb            protein  ['X', 'Y', 'H', 'L']   \n",
       "4    268  3kr3  3KR3_1.pdb            protein            ['H', 'L']   \n",
       "\n",
       "  antigen_chains affinity_method temperature  calculated_temp      affinity  \\\n",
       "0     ['B', 'A']             SPR         NaN             25.0  1.300000e-09   \n",
       "1          ['A']             SPR          25             25.0  2.690000e-10   \n",
       "2     ['B', 'A']           Other          30             30.0  1.000000e-09   \n",
       "3     ['A', 'B']             SPR         NaN             25.0  1.760000e-11   \n",
       "4          ['D']             SPR          25             25.0  4.900000e-11   \n",
       "\n",
       "     delta_g   test  validation  \n",
       "0 -12.120000  False           2  \n",
       "1 -13.050000  False           3  \n",
       "2 -12.480000  False           3  \n",
       "3 -14.671746  False           3  \n",
       "4 -14.060000  False           2  "
      ]
     },
     "execution_count": 8,
     "metadata": {},
     "output_type": "execute_result"
    }
   ],
   "source": [
    "dataset_summary_path, _ = get_data_paths(config, \"Dataset_v1\")\n",
    "dataset_df = pd.read_csv(dataset_summary_path)\n",
    "dataset_df.head()"
   ]
  },
  {
   "cell_type": "code",
   "execution_count": 9,
   "id": "2bb3846c",
   "metadata": {},
   "outputs": [],
   "source": [
    "abdb_df[\"in_dataset\"] = False\n",
    "abdb_df.loc[abdb_df[\"pdb\"].isin(dataset_df[\"pdb\"]), \"in_dataset\"] = True"
   ]
  },
  {
   "cell_type": "code",
   "execution_count": 10,
   "id": "2025fb49",
   "metadata": {},
   "outputs": [
    {
     "name": "stdout",
     "output_type": "stream",
     "text": [
      "PDB Files that are not in dataset v1 >>> 804\n"
     ]
    }
   ],
   "source": [
    "print(\"PDB Files that are not in dataset v1 >>> {}\".format(abdb_df[\"in_dataset\"].count() - abdb_df[\"in_dataset\"].sum()))"
   ]
  },
  {
   "cell_type": "code",
   "execution_count": 11,
   "id": "a84606f6",
   "metadata": {},
   "outputs": [],
   "source": [
    "import warnings\n",
    "warnings.filterwarnings(\"ignore\")\n",
    "from abag_affinity.utils.pdb_reader import read_file\n",
    "\n",
    "def get_chain_ids(row):\n",
    "    pdb_id = row[\"pdb\"]\n",
    "    path = os.path.join(pdb_path, row[\"abdb_filename\"])\n",
    "    \n",
    "    structure, header = read_file(pdb_id, path)\n",
    "    \n",
    "    chain_ids = []\n",
    "    for chain in structure.get_chains():\n",
    "        chain_ids.append(chain.id)\n",
    "    return chain_ids\n",
    "\n",
    "def check_LH_chains(row):\n",
    "    if \"L\" in row[\"chains\"] and \"H\" in row[\"chains\"]:\n",
    "        return True\n",
    "    else:\n",
    "        return False"
   ]
  },
  {
   "cell_type": "code",
   "execution_count": 12,
   "id": "2bbebcfc",
   "metadata": {},
   "outputs": [],
   "source": [
    "from tqdm.auto import tqdm\n",
    "tqdm.pandas()\n",
    "\n",
    "if \"antibody_chains\" not in abdb_df.columns and \"chains\" not in abdb_df.columns:\n",
    "    abdb_df[\"chains\"] = abdb_df.apply(lambda row: get_chain_ids(row), axis=1)\n",
    "if \"antibody_chains\" not in abdb_df.columns and \"LH_exist\" not in abdb_df.columns:\n",
    "    abdb_df[\"LH_exist\"] = abdb_df.apply(lambda row: check_LH_chains(row), axis=1)\n",
    "    print(\"PDB Files where chain L and H do not exist >>> {}\".format(abdb_df[\"LH_exist\"].count() - abdb_df[\"LH_exist\"].sum()))"
   ]
  },
  {
   "cell_type": "code",
   "execution_count": 13,
   "id": "90334433",
   "metadata": {},
   "outputs": [],
   "source": [
    "if \"antibody_chains\" not in abdb_df.columns:\n",
    "    abdb_df[\"antibody_chains\"] = [[\"L\", \"H\"] for i in abdb_df.index]"
   ]
  },
  {
   "cell_type": "code",
   "execution_count": 14,
   "id": "1729530c",
   "metadata": {},
   "outputs": [],
   "source": [
    "def get_antigen_chains(row):\n",
    "    antigen_chains = set(row[\"chains\"]) - set(row[\"antibody_chains\"])\n",
    "    return list(antigen_chains)\n",
    "\n",
    "if \"antigen_chains\" not in abdb_df.columns:\n",
    "    abdb_df[\"antigen_chains\"] = abdb_df.apply(lambda row: get_antigen_chains(row), axis=1)"
   ]
  },
  {
   "cell_type": "code",
   "execution_count": 15,
   "id": "9b75f7d9",
   "metadata": {},
   "outputs": [
    {
     "data": {
      "text/html": [
       "<div>\n",
       "<style scoped>\n",
       "    .dataframe tbody tr th:only-of-type {\n",
       "        vertical-align: middle;\n",
       "    }\n",
       "\n",
       "    .dataframe tbody tr th {\n",
       "        vertical-align: top;\n",
       "    }\n",
       "\n",
       "    .dataframe thead th {\n",
       "        text-align: right;\n",
       "    }\n",
       "</style>\n",
       "<table border=\"1\" class=\"dataframe\">\n",
       "  <thead>\n",
       "    <tr style=\"text-align: right;\">\n",
       "      <th></th>\n",
       "      <th>abdb_filename</th>\n",
       "      <th>pdb</th>\n",
       "      <th>antibody_chains</th>\n",
       "      <th>antigen_chains</th>\n",
       "      <th>in_dataset</th>\n",
       "      <th>dG (REU)</th>\n",
       "      <th>dG (REU)-double_relax</th>\n",
       "    </tr>\n",
       "  </thead>\n",
       "  <tbody>\n",
       "    <tr>\n",
       "      <th>0</th>\n",
       "      <td>5IES_1.pdb</td>\n",
       "      <td>5ies</td>\n",
       "      <td>['L', 'H']</td>\n",
       "      <td>['C']</td>\n",
       "      <td>True</td>\n",
       "      <td>-6.558715</td>\n",
       "      <td>-3.631291</td>\n",
       "    </tr>\n",
       "    <tr>\n",
       "      <th>1</th>\n",
       "      <td>2HFG_1.pdb</td>\n",
       "      <td>2hfg</td>\n",
       "      <td>['L', 'H']</td>\n",
       "      <td>['R']</td>\n",
       "      <td>True</td>\n",
       "      <td>-110.869807</td>\n",
       "      <td>-43.817577</td>\n",
       "    </tr>\n",
       "    <tr>\n",
       "      <th>2</th>\n",
       "      <td>3O6L_1.pdb</td>\n",
       "      <td>3o6l</td>\n",
       "      <td>['L', 'H']</td>\n",
       "      <td>['C']</td>\n",
       "      <td>True</td>\n",
       "      <td>-68.280188</td>\n",
       "      <td>-19.465279</td>\n",
       "    </tr>\n",
       "    <tr>\n",
       "      <th>3</th>\n",
       "      <td>5BK1_2.pdb</td>\n",
       "      <td>5bk1</td>\n",
       "      <td>['L', 'H']</td>\n",
       "      <td>['B']</td>\n",
       "      <td>True</td>\n",
       "      <td>-65.538385</td>\n",
       "      <td>-39.382892</td>\n",
       "    </tr>\n",
       "    <tr>\n",
       "      <th>4</th>\n",
       "      <td>4NP4_1.pdb</td>\n",
       "      <td>4np4</td>\n",
       "      <td>['L', 'H']</td>\n",
       "      <td>['A']</td>\n",
       "      <td>True</td>\n",
       "      <td>-96.312982</td>\n",
       "      <td>-22.272860</td>\n",
       "    </tr>\n",
       "  </tbody>\n",
       "</table>\n",
       "</div>"
      ],
      "text/plain": [
       "  abdb_filename   pdb antibody_chains antigen_chains  in_dataset    dG (REU)  \\\n",
       "0    5IES_1.pdb  5ies      ['L', 'H']          ['C']        True   -6.558715   \n",
       "1    2HFG_1.pdb  2hfg      ['L', 'H']          ['R']        True -110.869807   \n",
       "2    3O6L_1.pdb  3o6l      ['L', 'H']          ['C']        True  -68.280188   \n",
       "3    5BK1_2.pdb  5bk1      ['L', 'H']          ['B']        True  -65.538385   \n",
       "4    4NP4_1.pdb  4np4      ['L', 'H']          ['A']        True  -96.312982   \n",
       "\n",
       "   dG (REU)-double_relax  \n",
       "0              -3.631291  \n",
       "1             -43.817577  \n",
       "2             -19.465279  \n",
       "3             -39.382892  \n",
       "4             -22.272860  "
      ]
     },
     "execution_count": 15,
     "metadata": {},
     "output_type": "execute_result"
    }
   ],
   "source": [
    "abdb_df = abdb_df[[\"abdb_filename\", \"pdb\", \"antibody_chains\", \"antigen_chains\", \"in_dataset\", \"dG (REU)\", \"dG (REU)-double_relax\"]]\n",
    "\n",
    "abdb_df.head()"
   ]
  },
  {
   "cell_type": "code",
   "execution_count": 16,
   "id": "5fa3d108",
   "metadata": {},
   "outputs": [],
   "source": [
    "abdb_df = abdb_df.sort_values(by=\"in_dataset\", ascending=False)\n",
    "\n",
    "#abdb_df.to_csv(summary_path, index=False)"
   ]
  },
  {
   "cell_type": "markdown",
   "id": "87828fd3",
   "metadata": {},
   "source": [
    "## Analysis of computed Affinity values"
   ]
  },
  {
   "cell_type": "code",
   "execution_count": 17,
   "id": "3cb8aa70",
   "metadata": {},
   "outputs": [],
   "source": [
    "dg_rosetta_col = \"dG (REU)\"\n",
    "\n",
    "\n",
    "abdb_df_dg = abdb_df[~abdb_df[dg_rosetta_col].isna()].set_index(\"pdb\")\n",
    "\n",
    "dataset_df_pdb = dataset_df.set_index(\"pdb\")\n",
    "\n",
    "joined_df = abdb_df_dg.join(dataset_df_pdb, how=\"inner\", lsuffix=\"_abdb\")\n",
    "\n",
    "joined_df = joined_df[[dg_rosetta_col, \"affinity\", \"delta_g\", \"temperature\", \"calculated_temp\"]]"
   ]
  },
  {
   "cell_type": "code",
   "execution_count": 18,
   "id": "7f1b5282",
   "metadata": {},
   "outputs": [],
   "source": [
    "# remove outiers \n",
    "# outliers have a zscroe above 3\n",
    "\n",
    "import numpy as np\n",
    "from scipy import stats\n",
    "joined_df = joined_df[(np.abs(stats.zscore(joined_df[dg_rosetta_col])) < 3)]"
   ]
  },
  {
   "cell_type": "code",
   "execution_count": 19,
   "id": "082dce44",
   "metadata": {},
   "outputs": [
    {
     "data": {
      "text/html": [
       "<div>\n",
       "<style scoped>\n",
       "    .dataframe tbody tr th:only-of-type {\n",
       "        vertical-align: middle;\n",
       "    }\n",
       "\n",
       "    .dataframe tbody tr th {\n",
       "        vertical-align: top;\n",
       "    }\n",
       "\n",
       "    .dataframe thead th {\n",
       "        text-align: right;\n",
       "    }\n",
       "</style>\n",
       "<table border=\"1\" class=\"dataframe\">\n",
       "  <thead>\n",
       "    <tr style=\"text-align: right;\">\n",
       "      <th></th>\n",
       "      <th>dG (REU)</th>\n",
       "      <th>affinity</th>\n",
       "      <th>delta_g</th>\n",
       "      <th>temperature</th>\n",
       "      <th>calculated_temp</th>\n",
       "    </tr>\n",
       "    <tr>\n",
       "      <th>pdb</th>\n",
       "      <th></th>\n",
       "      <th></th>\n",
       "      <th></th>\n",
       "      <th></th>\n",
       "      <th></th>\n",
       "    </tr>\n",
       "  </thead>\n",
       "  <tbody>\n",
       "    <tr>\n",
       "      <th>1dqj</th>\n",
       "      <td>-71.985677</td>\n",
       "      <td>2.860000e-09</td>\n",
       "      <td>-11.450000</td>\n",
       "      <td>25</td>\n",
       "      <td>20.0</td>\n",
       "    </tr>\n",
       "    <tr>\n",
       "      <th>1iqd</th>\n",
       "      <td>-65.503166</td>\n",
       "      <td>1.400000e-11</td>\n",
       "      <td>-14.800000</td>\n",
       "      <td>NaN</td>\n",
       "      <td>25.0</td>\n",
       "    </tr>\n",
       "    <tr>\n",
       "      <th>1nl0</th>\n",
       "      <td>-73.422605</td>\n",
       "      <td>1.600000e-09</td>\n",
       "      <td>-11.999727</td>\n",
       "      <td>NaN</td>\n",
       "      <td>25.0</td>\n",
       "    </tr>\n",
       "    <tr>\n",
       "      <th>1tzh</th>\n",
       "      <td>-79.108244</td>\n",
       "      <td>1.800000e-09</td>\n",
       "      <td>-12.400000</td>\n",
       "      <td>37</td>\n",
       "      <td>37.0</td>\n",
       "    </tr>\n",
       "    <tr>\n",
       "      <th>1w72</th>\n",
       "      <td>-78.111531</td>\n",
       "      <td>1.400000e-08</td>\n",
       "      <td>-10.710000</td>\n",
       "      <td>SPR</td>\n",
       "      <td>25.0</td>\n",
       "    </tr>\n",
       "  </tbody>\n",
       "</table>\n",
       "</div>"
      ],
      "text/plain": [
       "       dG (REU)      affinity    delta_g temperature  calculated_temp\n",
       "pdb                                                                  \n",
       "1dqj -71.985677  2.860000e-09 -11.450000          25             20.0\n",
       "1iqd -65.503166  1.400000e-11 -14.800000         NaN             25.0\n",
       "1nl0 -73.422605  1.600000e-09 -11.999727         NaN             25.0\n",
       "1tzh -79.108244  1.800000e-09 -12.400000          37             37.0\n",
       "1w72 -78.111531  1.400000e-08 -10.710000         SPR             25.0"
      ]
     },
     "execution_count": 19,
     "metadata": {},
     "output_type": "execute_result"
    }
   ],
   "source": [
    "joined_df.head()"
   ]
  },
  {
   "cell_type": "code",
   "execution_count": 20,
   "id": "c866c2ef",
   "metadata": {},
   "outputs": [
    {
     "data": {
      "text/plain": [
       "0.04355318398098038"
      ]
     },
     "execution_count": 20,
     "metadata": {},
     "output_type": "execute_result"
    }
   ],
   "source": [
    "joined_df[dg_rosetta_col].corr(joined_df[\"affinity\"])"
   ]
  },
  {
   "cell_type": "code",
   "execution_count": 21,
   "id": "0a8bbb3c",
   "metadata": {},
   "outputs": [
    {
     "data": {
      "text/plain": [
       "0.17437330166258402"
      ]
     },
     "execution_count": 21,
     "metadata": {},
     "output_type": "execute_result"
    }
   ],
   "source": [
    "joined_df[dg_rosetta_col].corr(joined_df[\"delta_g\"])"
   ]
  },
  {
   "cell_type": "code",
   "execution_count": 22,
   "id": "420da38a",
   "metadata": {},
   "outputs": [
    {
     "data": {
      "text/plain": [
       "<AxesSubplot:xlabel='delta_g', ylabel='dG (REU)'>"
      ]
     },
     "execution_count": 22,
     "metadata": {},
     "output_type": "execute_result"
    },
    {
     "data": {
      "image/png": "[encoded data removed]",
      "text/plain": [
       "<Figure size 432x288 with 1 Axes>"
      ]
     },
     "metadata": {
      "needs_background": "light"
     },
     "output_type": "display_data"
    }
   ],
   "source": [
    "joined_df.plot.scatter(\"delta_g\", dg_rosetta_col)"
   ]
  },
  {
   "cell_type": "markdown",
   "id": "d12b25e1",
   "metadata": {},
   "source": [
    "##### Fit Linear Model to convert dg (REU) to affinity values"
   ]
  },
  {
   "cell_type": "code",
   "execution_count": 23,
   "id": "43e70590",
   "metadata": {},
   "outputs": [],
   "source": [
    "from sklearn.linear_model import LinearRegression\n",
    "import numpy as np\n",
    "\n",
    "\n",
    "X = joined_df.loc[:, dg_rosetta_col].values.reshape(-1, 1) \n",
    "Y = joined_df.loc[:, \"delta_g\"].values.reshape(-1, 1) \n",
    "\n",
    "linear_regressor = LinearRegression()  \n",
    "linear_regressor.fit(X, Y)  \n",
    "joined_df[\"predicted_dg\"] = linear_regressor.predict(X) "
   ]
  },
  {
   "cell_type": "code",
   "execution_count": 24,
   "id": "2e6682dd",
   "metadata": {},
   "outputs": [
    {
     "data": {
      "text/plain": [
       "0.17437330166258402"
      ]
     },
     "execution_count": 24,
     "metadata": {},
     "output_type": "execute_result"
    }
   ],
   "source": [
    "joined_df[\"delta_g\"].corr(joined_df[\"predicted_dg\"])"
   ]
  },
  {
   "cell_type": "code",
   "execution_count": 25,
   "id": "5369b254",
   "metadata": {},
   "outputs": [
    {
     "data": {
      "text/plain": [
       "<AxesSubplot:xlabel='delta_g', ylabel='predicted_dg'>"
      ]
     },
     "execution_count": 25,
     "metadata": {},
     "output_type": "execute_result"
    },
    {
     "data": {
      "image/png": "[encoded data removed]",
      "text/plain": [
       "<Figure size 432x288 with 1 Axes>"
      ]
     },
     "metadata": {
      "needs_background": "light"
     },
     "output_type": "display_data"
    }
   ],
   "source": [
    "joined_df.plot.scatter(\"delta_g\", \"predicted_dg\")"
   ]
  },
  {
   "cell_type": "code",
   "execution_count": null,
   "id": "9cbdc934",
   "metadata": {},
   "outputs": [],
   "source": []
  }
 ],
 "metadata": {
  "kernelspec": {
   "display_name": "ag_affinity",
   "language": "python",
   "name": "ag_affinity"
  },
  "language_info": {
   "codemirror_mode": {
    "name": "ipython",
    "version": 3
   },
   "file_extension": ".py",
   "mimetype": "text/x-python",
   "name": "python",
   "nbconvert_exporter": "python",
   "pygments_lexer": "ipython3",
   "version": "3.8.10"
  }
 },
 "nbformat": 4,
 "nbformat_minor": 5
}
