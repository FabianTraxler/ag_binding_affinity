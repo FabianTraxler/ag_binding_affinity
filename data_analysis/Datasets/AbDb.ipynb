{
 "cells": [
  {
   "cell_type": "markdown",
   "id": "635e9a30",
   "metadata": {},
   "source": [
    "# AbDb Data Analysis\n",
    "\n",
    "The metadata files have been downloaded from http://www.abybank.org/abdb/ using the \"Complete Antibodies - Martin Numbering - Non Redundant (NR)\" Dataset. (10.05.2022)"
   ]
  },
  {
   "cell_type": "code",
   "execution_count": 1,
   "id": "68545662",
   "metadata": {},
   "outputs": [],
   "source": [
    "import pandas as pd\n",
    "import yaml\n",
    "import os\n",
    "from ast import literal_eval"
   ]
  },
  {
   "cell_type": "code",
   "execution_count": 2,
   "id": "d09f0ffa",
   "metadata": {},
   "outputs": [],
   "source": [
    "from abag_affinity.utils.config import read_yaml, get_data_paths, get_resources_paths\n",
    "\n",
    "config = read_yaml(\"../../abag_affinity/config.yaml\")\n",
    "summary_path, pdb_path = get_resources_paths(config, \"AbDb\")"
   ]
  },
  {
   "cell_type": "code",
   "execution_count": 3,
   "id": "5568812c",
   "metadata": {},
   "outputs": [
    {
     "data": {
      "text/html": [
       "<div>\n",
       "<style scoped>\n",
       "    .dataframe tbody tr th:only-of-type {\n",
       "        vertical-align: middle;\n",
       "    }\n",
       "\n",
       "    .dataframe tbody tr th {\n",
       "        vertical-align: top;\n",
       "    }\n",
       "\n",
       "    .dataframe thead th {\n",
       "        text-align: right;\n",
       "    }\n",
       "</style>\n",
       "<table border=\"1\" class=\"dataframe\">\n",
       "  <thead>\n",
       "    <tr style=\"text-align: right;\">\n",
       "      <th></th>\n",
       "      <th>abdb_filename</th>\n",
       "      <th>pdb</th>\n",
       "      <th>antibody_chains</th>\n",
       "      <th>antigen_chains</th>\n",
       "      <th>in_dataset</th>\n",
       "      <th>antigen_length</th>\n",
       "    </tr>\n",
       "  </thead>\n",
       "  <tbody>\n",
       "    <tr>\n",
       "      <th>0</th>\n",
       "      <td>5IES_1.pdb</td>\n",
       "      <td>5ies</td>\n",
       "      <td>['L', 'H']</td>\n",
       "      <td>['C']</td>\n",
       "      <td>True</td>\n",
       "      <td>167</td>\n",
       "    </tr>\n",
       "    <tr>\n",
       "      <th>1</th>\n",
       "      <td>1W72_1.pdb</td>\n",
       "      <td>1w72</td>\n",
       "      <td>['L', 'H']</td>\n",
       "      <td>['C', 'A']</td>\n",
       "      <td>True</td>\n",
       "      <td>283</td>\n",
       "    </tr>\n",
       "    <tr>\n",
       "      <th>2</th>\n",
       "      <td>1DQJ_1.pdb</td>\n",
       "      <td>1dqj</td>\n",
       "      <td>['L', 'H']</td>\n",
       "      <td>['C']</td>\n",
       "      <td>True</td>\n",
       "      <td>129</td>\n",
       "    </tr>\n",
       "    <tr>\n",
       "      <th>3</th>\n",
       "      <td>6BCK_1.pdb</td>\n",
       "      <td>6bck</td>\n",
       "      <td>['L', 'H']</td>\n",
       "      <td>['G']</td>\n",
       "      <td>True</td>\n",
       "      <td>337</td>\n",
       "    </tr>\n",
       "    <tr>\n",
       "      <th>4</th>\n",
       "      <td>3MA9_1.pdb</td>\n",
       "      <td>3ma9</td>\n",
       "      <td>['L', 'H']</td>\n",
       "      <td>['A']</td>\n",
       "      <td>True</td>\n",
       "      <td>197</td>\n",
       "    </tr>\n",
       "  </tbody>\n",
       "</table>\n",
       "</div>"
      ],
      "text/plain": [
       "  abdb_filename   pdb antibody_chains antigen_chains  in_dataset  \\\n",
       "0    5IES_1.pdb  5ies      ['L', 'H']          ['C']        True   \n",
       "1    1W72_1.pdb  1w72      ['L', 'H']     ['C', 'A']        True   \n",
       "2    1DQJ_1.pdb  1dqj      ['L', 'H']          ['C']        True   \n",
       "3    6BCK_1.pdb  6bck      ['L', 'H']          ['G']        True   \n",
       "4    3MA9_1.pdb  3ma9      ['L', 'H']          ['A']        True   \n",
       "\n",
       "   antigen_length  \n",
       "0             167  \n",
       "1             283  \n",
       "2             129  \n",
       "3             337  \n",
       "4             197  "
      ]
     },
     "execution_count": 3,
     "metadata": {},
     "output_type": "execute_result"
    }
   ],
   "source": [
    "if os.path.exists(summary_path):\n",
    "    abdb_df = pd.read_csv(summary_path)\n",
    "else:\n",
    "    abdb_df = pd.DataFrame()\n",
    "abdb_df.head()"
   ]
  },
  {
   "cell_type": "code",
   "execution_count": 4,
   "id": "ceda1995",
   "metadata": {},
   "outputs": [
    {
     "name": "stdout",
     "output_type": "stream",
     "text": [
      "Number of PDB Files >>> 1229\n"
     ]
    }
   ],
   "source": [
    "pdb_files = os.listdir(pdb_path)\n",
    "\n",
    "print(\"Number of PDB Files >>>\", len(pdb_files))"
   ]
  },
  {
   "cell_type": "code",
   "execution_count": 5,
   "id": "15e4c81c",
   "metadata": {},
   "outputs": [
    {
     "data": {
      "text/plain": [
       "['6N5E_1.pdb', '4TTD_1.pdb', '5B3J_2.pdb', '1QGC_1.pdb', '3CX5_1.pdb']"
      ]
     },
     "execution_count": 5,
     "metadata": {},
     "output_type": "execute_result"
    }
   ],
   "source": [
    "pdb_files[:5]"
   ]
  },
  {
   "cell_type": "code",
   "execution_count": 6,
   "id": "3af7d580",
   "metadata": {},
   "outputs": [],
   "source": [
    "if len(abdb_df) == 0:\n",
    "    abdb_df[\"abdb_filename\"] = pdb_files\n",
    "    pdb_ids = [pdb_file.split(\"_\")[0].lower() for pdb_file in pdb_files]\n",
    "\n",
    "    abdb_df[\"pdb\"] = pdb_ids"
   ]
  },
  {
   "cell_type": "code",
   "execution_count": 7,
   "id": "b913a223",
   "metadata": {},
   "outputs": [
    {
     "data": {
      "text/html": [
       "<div>\n",
       "<style scoped>\n",
       "    .dataframe tbody tr th:only-of-type {\n",
       "        vertical-align: middle;\n",
       "    }\n",
       "\n",
       "    .dataframe tbody tr th {\n",
       "        vertical-align: top;\n",
       "    }\n",
       "\n",
       "    .dataframe thead th {\n",
       "        text-align: right;\n",
       "    }\n",
       "</style>\n",
       "<table border=\"1\" class=\"dataframe\">\n",
       "  <thead>\n",
       "    <tr style=\"text-align: right;\">\n",
       "      <th></th>\n",
       "      <th>abdb_filename</th>\n",
       "      <th>pdb</th>\n",
       "      <th>antibody_chains</th>\n",
       "      <th>antigen_chains</th>\n",
       "      <th>in_dataset</th>\n",
       "      <th>antigen_length</th>\n",
       "    </tr>\n",
       "  </thead>\n",
       "  <tbody>\n",
       "    <tr>\n",
       "      <th>0</th>\n",
       "      <td>5IES_1.pdb</td>\n",
       "      <td>5ies</td>\n",
       "      <td>['L', 'H']</td>\n",
       "      <td>['C']</td>\n",
       "      <td>True</td>\n",
       "      <td>167</td>\n",
       "    </tr>\n",
       "    <tr>\n",
       "      <th>1</th>\n",
       "      <td>1W72_1.pdb</td>\n",
       "      <td>1w72</td>\n",
       "      <td>['L', 'H']</td>\n",
       "      <td>['C', 'A']</td>\n",
       "      <td>True</td>\n",
       "      <td>283</td>\n",
       "    </tr>\n",
       "    <tr>\n",
       "      <th>2</th>\n",
       "      <td>1DQJ_1.pdb</td>\n",
       "      <td>1dqj</td>\n",
       "      <td>['L', 'H']</td>\n",
       "      <td>['C']</td>\n",
       "      <td>True</td>\n",
       "      <td>129</td>\n",
       "    </tr>\n",
       "    <tr>\n",
       "      <th>3</th>\n",
       "      <td>6BCK_1.pdb</td>\n",
       "      <td>6bck</td>\n",
       "      <td>['L', 'H']</td>\n",
       "      <td>['G']</td>\n",
       "      <td>True</td>\n",
       "      <td>337</td>\n",
       "    </tr>\n",
       "    <tr>\n",
       "      <th>4</th>\n",
       "      <td>3MA9_1.pdb</td>\n",
       "      <td>3ma9</td>\n",
       "      <td>['L', 'H']</td>\n",
       "      <td>['A']</td>\n",
       "      <td>True</td>\n",
       "      <td>197</td>\n",
       "    </tr>\n",
       "  </tbody>\n",
       "</table>\n",
       "</div>"
      ],
      "text/plain": [
       "  abdb_filename   pdb antibody_chains antigen_chains  in_dataset  \\\n",
       "0    5IES_1.pdb  5ies      ['L', 'H']          ['C']        True   \n",
       "1    1W72_1.pdb  1w72      ['L', 'H']     ['C', 'A']        True   \n",
       "2    1DQJ_1.pdb  1dqj      ['L', 'H']          ['C']        True   \n",
       "3    6BCK_1.pdb  6bck      ['L', 'H']          ['G']        True   \n",
       "4    3MA9_1.pdb  3ma9      ['L', 'H']          ['A']        True   \n",
       "\n",
       "   antigen_length  \n",
       "0             167  \n",
       "1             283  \n",
       "2             129  \n",
       "3             337  \n",
       "4             197  "
      ]
     },
     "execution_count": 7,
     "metadata": {},
     "output_type": "execute_result"
    }
   ],
   "source": [
    "abdb_df.head()"
   ]
  },
  {
   "cell_type": "markdown",
   "id": "6f7447d1",
   "metadata": {},
   "source": [
    "## PDB Files with no affinity value\n",
    "\n",
    "Get all entries that are not part of the dataset_v1 (overlap of AbDb and SAbDab or Antibody Benchmark)"
   ]
  },
  {
   "cell_type": "code",
   "execution_count": 8,
   "id": "da462f20",
   "metadata": {},
   "outputs": [
    {
     "data": {
      "text/html": [
       "<div>\n",
       "<style scoped>\n",
       "    .dataframe tbody tr th:only-of-type {\n",
       "        vertical-align: middle;\n",
       "    }\n",
       "\n",
       "    .dataframe tbody tr th {\n",
       "        vertical-align: top;\n",
       "    }\n",
       "\n",
       "    .dataframe thead th {\n",
       "        text-align: right;\n",
       "    }\n",
       "</style>\n",
       "<table border=\"1\" class=\"dataframe\">\n",
       "  <thead>\n",
       "    <tr style=\"text-align: right;\">\n",
       "      <th></th>\n",
       "      <th>index</th>\n",
       "      <th>pdb</th>\n",
       "      <th>abdb_file</th>\n",
       "      <th>antigen_type</th>\n",
       "      <th>antibody_chains</th>\n",
       "      <th>antigen_chains</th>\n",
       "      <th>affinity_method</th>\n",
       "      <th>temperature</th>\n",
       "      <th>calculated_temp</th>\n",
       "      <th>affinity</th>\n",
       "      <th>delta_g</th>\n",
       "      <th>test</th>\n",
       "      <th>validation</th>\n",
       "    </tr>\n",
       "  </thead>\n",
       "  <tbody>\n",
       "    <tr>\n",
       "      <th>0</th>\n",
       "      <td>0</td>\n",
       "      <td>2r56</td>\n",
       "      <td>2R56_1.pdb</td>\n",
       "      <td>protein</td>\n",
       "      <td>['I', 'M', 'H', 'L']</td>\n",
       "      <td>['B', 'A']</td>\n",
       "      <td>SPR</td>\n",
       "      <td>NaN</td>\n",
       "      <td>25.0</td>\n",
       "      <td>1.300000e-09</td>\n",
       "      <td>-12.120000</td>\n",
       "      <td>False</td>\n",
       "      <td>2</td>\n",
       "    </tr>\n",
       "    <tr>\n",
       "      <th>1</th>\n",
       "      <td>271</td>\n",
       "      <td>3l5x</td>\n",
       "      <td>3L5X_1.pdb</td>\n",
       "      <td>protein</td>\n",
       "      <td>['H', 'L']</td>\n",
       "      <td>['A']</td>\n",
       "      <td>SPR</td>\n",
       "      <td>25</td>\n",
       "      <td>25.0</td>\n",
       "      <td>2.690000e-10</td>\n",
       "      <td>-13.050000</td>\n",
       "      <td>False</td>\n",
       "      <td>3</td>\n",
       "    </tr>\n",
       "    <tr>\n",
       "      <th>2</th>\n",
       "      <td>270</td>\n",
       "      <td>3sdy</td>\n",
       "      <td>3SDY_1.pdb</td>\n",
       "      <td>protein | protein</td>\n",
       "      <td>['H', 'L']</td>\n",
       "      <td>['B', 'A']</td>\n",
       "      <td>Other</td>\n",
       "      <td>30</td>\n",
       "      <td>30.0</td>\n",
       "      <td>1.000000e-09</td>\n",
       "      <td>-12.480000</td>\n",
       "      <td>False</td>\n",
       "      <td>3</td>\n",
       "    </tr>\n",
       "    <tr>\n",
       "      <th>3</th>\n",
       "      <td>269</td>\n",
       "      <td>5i5k</td>\n",
       "      <td>5I5K_1.pdb</td>\n",
       "      <td>protein</td>\n",
       "      <td>['X', 'Y', 'H', 'L']</td>\n",
       "      <td>['A', 'B']</td>\n",
       "      <td>SPR</td>\n",
       "      <td>NaN</td>\n",
       "      <td>25.0</td>\n",
       "      <td>1.760000e-11</td>\n",
       "      <td>-14.671746</td>\n",
       "      <td>False</td>\n",
       "      <td>3</td>\n",
       "    </tr>\n",
       "    <tr>\n",
       "      <th>4</th>\n",
       "      <td>268</td>\n",
       "      <td>3kr3</td>\n",
       "      <td>3KR3_1.pdb</td>\n",
       "      <td>protein</td>\n",
       "      <td>['H', 'L']</td>\n",
       "      <td>['D']</td>\n",
       "      <td>SPR</td>\n",
       "      <td>25</td>\n",
       "      <td>25.0</td>\n",
       "      <td>4.900000e-11</td>\n",
       "      <td>-14.060000</td>\n",
       "      <td>False</td>\n",
       "      <td>2</td>\n",
       "    </tr>\n",
       "  </tbody>\n",
       "</table>\n",
       "</div>"
      ],
      "text/plain": [
       "   index   pdb   abdb_file       antigen_type       antibody_chains  \\\n",
       "0      0  2r56  2R56_1.pdb            protein  ['I', 'M', 'H', 'L']   \n",
       "1    271  3l5x  3L5X_1.pdb            protein            ['H', 'L']   \n",
       "2    270  3sdy  3SDY_1.pdb  protein | protein            ['H', 'L']   \n",
       "3    269  5i5k  5I5K_1.pdb            protein  ['X', 'Y', 'H', 'L']   \n",
       "4    268  3kr3  3KR3_1.pdb            protein            ['H', 'L']   \n",
       "\n",
       "  antigen_chains affinity_method temperature  calculated_temp      affinity  \\\n",
       "0     ['B', 'A']             SPR         NaN             25.0  1.300000e-09   \n",
       "1          ['A']             SPR          25             25.0  2.690000e-10   \n",
       "2     ['B', 'A']           Other          30             30.0  1.000000e-09   \n",
       "3     ['A', 'B']             SPR         NaN             25.0  1.760000e-11   \n",
       "4          ['D']             SPR          25             25.0  4.900000e-11   \n",
       "\n",
       "     delta_g   test  validation  \n",
       "0 -12.120000  False           2  \n",
       "1 -13.050000  False           3  \n",
       "2 -12.480000  False           3  \n",
       "3 -14.671746  False           3  \n",
       "4 -14.060000  False           2  "
      ]
     },
     "execution_count": 8,
     "metadata": {},
     "output_type": "execute_result"
    }
   ],
   "source": [
    "dataset_summary_path, _ = get_data_paths(config, \"Dataset_v1\")\n",
    "dataset_df = pd.read_csv(dataset_summary_path)\n",
    "dataset_df.head()"
   ]
  },
  {
   "cell_type": "code",
   "execution_count": 9,
   "id": "2bb3846c",
   "metadata": {},
   "outputs": [],
   "source": [
    "abdb_df[\"in_dataset\"] = False\n",
    "abdb_df.loc[abdb_df[\"pdb\"].isin(dataset_df[\"pdb\"]), \"in_dataset\"] = True"
   ]
  },
  {
   "cell_type": "code",
   "execution_count": 10,
   "id": "2025fb49",
   "metadata": {},
   "outputs": [
    {
     "name": "stdout",
     "output_type": "stream",
     "text": [
      "PDB Files that are not in dataset v1 >>> 804\n"
     ]
    }
   ],
   "source": [
    "print(\"PDB Files that are not in dataset v1 >>> {}\".format(abdb_df[\"in_dataset\"].count() - abdb_df[\"in_dataset\"].sum()))"
   ]
  },
  {
   "cell_type": "code",
   "execution_count": 11,
   "id": "a84606f6",
   "metadata": {},
   "outputs": [],
   "source": [
    "import warnings\n",
    "warnings.filterwarnings(\"ignore\")\n",
    "from abag_affinity.utils.pdb_reader import read_file\n",
    "\n",
    "def get_chain_ids(row):\n",
    "    pdb_id = row[\"pdb\"]\n",
    "    path = os.path.join(pdb_path, row[\"abdb_filename\"])\n",
    "    \n",
    "    structure, header = read_file(pdb_id, path)\n",
    "    \n",
    "    chain_ids = []\n",
    "    for chain in structure.get_chains():\n",
    "        chain_ids.append(chain.id)\n",
    "    return chain_ids\n",
    "\n",
    "def check_LH_chains(row):\n",
    "    if \"L\" in row[\"chains\"] and \"H\" in row[\"chains\"]:\n",
    "        return True\n",
    "    else:\n",
    "        return False"
   ]
  },
  {
   "cell_type": "code",
   "execution_count": 12,
   "id": "2bbebcfc",
   "metadata": {},
   "outputs": [],
   "source": [
    "from tqdm.auto import tqdm\n",
    "tqdm.pandas()\n",
    "\n",
    "if \"antibody_chains\" not in abdb_df.columns and \"chains\" not in abdb_df.columns:\n",
    "    abdb_df[\"chains\"] = abdb_df.apply(lambda row: get_chain_ids(row), axis=1)\n",
    "if \"antibody_chains\" not in abdb_df.columns and \"LH_exist\" not in abdb_df.columns:\n",
    "    abdb_df[\"LH_exist\"] = abdb_df.apply(lambda row: check_LH_chains(row), axis=1)\n",
    "    print(\"PDB Files where chain L and H do not exist >>> {}\".format(abdb_df[\"LH_exist\"].count() - abdb_df[\"LH_exist\"].sum()))"
   ]
  },
  {
   "cell_type": "code",
   "execution_count": 13,
   "id": "90334433",
   "metadata": {},
   "outputs": [],
   "source": [
    "if \"antibody_chains\" not in abdb_df.columns:\n",
    "    abdb_df[\"antibody_chains\"] = [[\"L\", \"H\"] for i in abdb_df.index]"
   ]
  },
  {
   "cell_type": "code",
   "execution_count": 14,
   "id": "1729530c",
   "metadata": {},
   "outputs": [],
   "source": [
    "def get_antigen_chains(row):\n",
    "    antigen_chains = set(row[\"chains\"]) - set(row[\"antibody_chains\"])\n",
    "    return list(antigen_chains)\n",
    "\n",
    "if \"antigen_chains\" not in abdb_df.columns:\n",
    "    abdb_df[\"antigen_chains\"] = abdb_df.apply(lambda row: get_antigen_chains(row), axis=1)"
   ]
  },
  {
   "cell_type": "code",
   "execution_count": 15,
   "id": "952cca86",
   "metadata": {},
   "outputs": [],
   "source": [
    "from Bio import PDB\n",
    "\n",
    "def get_antigen_size(row):\n",
    "    antigen_chains = row[\"antigen_chains\"]\n",
    "    if isinstance(antigen_chains, str):\n",
    "        antigen_chains = literal_eval(antigen_chains)\n",
    "    pdb_id = row[\"pdb\"]\n",
    "    path = os.path.join(pdb_path, row[\"abdb_filename\"])\n",
    "    \n",
    "    structure, header = read_file(pdb_id, path)\n",
    "    \n",
    "    total_residues = 0\n",
    "    total_non_residues = 0\n",
    "\n",
    "    for chain_id in antigen_chains:\n",
    "        chain = structure[0][chain_id]\n",
    "        for residue in chain.get_residues():\n",
    "            if PDB.is_aa(residue):\n",
    "                total_residues += 1\n",
    "            else:\n",
    "                total_non_residues\n",
    "                \n",
    "    row[\"antigen_length\"] = total_residues\n",
    "    row[\"antigen_length_no_residues\"] = total_non_residues\n",
    "\n",
    "    return row\n",
    "\n",
    "\n",
    "if \"antigen_length\" not in abdb_df.columns:\n",
    "    abdb_df = abdb_df.apply(lambda row: get_antigen_size(row), axis=1)"
   ]
  },
  {
   "cell_type": "code",
   "execution_count": 16,
   "id": "9b75f7d9",
   "metadata": {},
   "outputs": [
    {
     "data": {
      "text/html": [
       "<div>\n",
       "<style scoped>\n",
       "    .dataframe tbody tr th:only-of-type {\n",
       "        vertical-align: middle;\n",
       "    }\n",
       "\n",
       "    .dataframe tbody tr th {\n",
       "        vertical-align: top;\n",
       "    }\n",
       "\n",
       "    .dataframe thead th {\n",
       "        text-align: right;\n",
       "    }\n",
       "</style>\n",
       "<table border=\"1\" class=\"dataframe\">\n",
       "  <thead>\n",
       "    <tr style=\"text-align: right;\">\n",
       "      <th></th>\n",
       "      <th>abdb_filename</th>\n",
       "      <th>pdb</th>\n",
       "      <th>antibody_chains</th>\n",
       "      <th>antigen_chains</th>\n",
       "      <th>in_dataset</th>\n",
       "      <th>antigen_length</th>\n",
       "    </tr>\n",
       "  </thead>\n",
       "  <tbody>\n",
       "    <tr>\n",
       "      <th>0</th>\n",
       "      <td>5IES_1.pdb</td>\n",
       "      <td>5ies</td>\n",
       "      <td>['L', 'H']</td>\n",
       "      <td>['C']</td>\n",
       "      <td>True</td>\n",
       "      <td>167</td>\n",
       "    </tr>\n",
       "    <tr>\n",
       "      <th>1</th>\n",
       "      <td>1W72_1.pdb</td>\n",
       "      <td>1w72</td>\n",
       "      <td>['L', 'H']</td>\n",
       "      <td>['C', 'A']</td>\n",
       "      <td>True</td>\n",
       "      <td>283</td>\n",
       "    </tr>\n",
       "    <tr>\n",
       "      <th>2</th>\n",
       "      <td>1DQJ_1.pdb</td>\n",
       "      <td>1dqj</td>\n",
       "      <td>['L', 'H']</td>\n",
       "      <td>['C']</td>\n",
       "      <td>True</td>\n",
       "      <td>129</td>\n",
       "    </tr>\n",
       "    <tr>\n",
       "      <th>3</th>\n",
       "      <td>6BCK_1.pdb</td>\n",
       "      <td>6bck</td>\n",
       "      <td>['L', 'H']</td>\n",
       "      <td>['G']</td>\n",
       "      <td>True</td>\n",
       "      <td>337</td>\n",
       "    </tr>\n",
       "    <tr>\n",
       "      <th>4</th>\n",
       "      <td>3MA9_1.pdb</td>\n",
       "      <td>3ma9</td>\n",
       "      <td>['L', 'H']</td>\n",
       "      <td>['A']</td>\n",
       "      <td>True</td>\n",
       "      <td>197</td>\n",
       "    </tr>\n",
       "  </tbody>\n",
       "</table>\n",
       "</div>"
      ],
      "text/plain": [
       "  abdb_filename   pdb antibody_chains antigen_chains  in_dataset  \\\n",
       "0    5IES_1.pdb  5ies      ['L', 'H']          ['C']        True   \n",
       "1    1W72_1.pdb  1w72      ['L', 'H']     ['C', 'A']        True   \n",
       "2    1DQJ_1.pdb  1dqj      ['L', 'H']          ['C']        True   \n",
       "3    6BCK_1.pdb  6bck      ['L', 'H']          ['G']        True   \n",
       "4    3MA9_1.pdb  3ma9      ['L', 'H']          ['A']        True   \n",
       "\n",
       "   antigen_length  \n",
       "0             167  \n",
       "1             283  \n",
       "2             129  \n",
       "3             337  \n",
       "4             197  "
      ]
     },
     "execution_count": 16,
     "metadata": {},
     "output_type": "execute_result"
    }
   ],
   "source": [
    "abdb_df = abdb_df[[\"abdb_filename\", \"pdb\", \"antibody_chains\", \"antigen_chains\", \"in_dataset\", \"antigen_length\"]]\n",
    "\n",
    "abdb_df.head()"
   ]
  },
  {
   "cell_type": "code",
   "execution_count": 17,
   "id": "5fa3d108",
   "metadata": {},
   "outputs": [],
   "source": [
    "abdb_df = abdb_df.sort_values(by=\"in_dataset\", ascending=False)\n",
    "\n",
    "abdb_df.to_csv(summary_path, index=False)"
   ]
  },
  {
   "cell_type": "markdown",
   "id": "87828fd3",
   "metadata": {},
   "source": [
    "## Analysis of computed Affinity values"
   ]
  },
  {
   "cell_type": "code",
   "execution_count": 18,
   "id": "55e12f57",
   "metadata": {},
   "outputs": [
    {
     "data": {
      "text/html": [
       "<div>\n",
       "<style scoped>\n",
       "    .dataframe tbody tr th:only-of-type {\n",
       "        vertical-align: middle;\n",
       "    }\n",
       "\n",
       "    .dataframe tbody tr th {\n",
       "        vertical-align: top;\n",
       "    }\n",
       "\n",
       "    .dataframe thead th {\n",
       "        text-align: right;\n",
       "    }\n",
       "</style>\n",
       "<table border=\"1\" class=\"dataframe\">\n",
       "  <thead>\n",
       "    <tr style=\"text-align: right;\">\n",
       "      <th></th>\n",
       "      <th>pdb_id</th>\n",
       "      <th>file_name</th>\n",
       "      <th>bound_wildtype</th>\n",
       "      <th>unbound_wildtype</th>\n",
       "      <th>bound_wildtype vs unbound_wildtype</th>\n",
       "      <th>unbound_relaxed</th>\n",
       "      <th>bound_wildtype vs unbound_relaxed</th>\n",
       "      <th>bound_relaxed</th>\n",
       "      <th>relaxed_unbound</th>\n",
       "      <th>bound_relaxed vs relaxed_unbound</th>\n",
       "      <th>relaxed_unbound_relaxed</th>\n",
       "      <th>bound_relaxed vs relaxed_unbound_relaxed</th>\n",
       "    </tr>\n",
       "  </thead>\n",
       "  <tbody>\n",
       "    <tr>\n",
       "      <th>0</th>\n",
       "      <td>1ic7</td>\n",
       "      <td>1IC7_1.pdb</td>\n",
       "      <td>31.645237</td>\n",
       "      <td>67.926537</td>\n",
       "      <td>-36.281300</td>\n",
       "      <td>-1067.571314</td>\n",
       "      <td>1099.216551</td>\n",
       "      <td>-1089.614296</td>\n",
       "      <td>-1037.869390</td>\n",
       "      <td>-51.744906</td>\n",
       "      <td>-1062.801790</td>\n",
       "      <td>-26.812506</td>\n",
       "    </tr>\n",
       "    <tr>\n",
       "      <th>1</th>\n",
       "      <td>5bk1</td>\n",
       "      <td>5BK1_2.pdb</td>\n",
       "      <td>-786.159791</td>\n",
       "      <td>-756.936277</td>\n",
       "      <td>-29.223514</td>\n",
       "      <td>-1939.881036</td>\n",
       "      <td>1153.721245</td>\n",
       "      <td>-1949.236399</td>\n",
       "      <td>-1892.921234</td>\n",
       "      <td>-56.315166</td>\n",
       "      <td>-1933.079799</td>\n",
       "      <td>-16.156601</td>\n",
       "    </tr>\n",
       "    <tr>\n",
       "      <th>2</th>\n",
       "      <td>4al8</td>\n",
       "      <td>4AL8_1.pdb</td>\n",
       "      <td>-341.809043</td>\n",
       "      <td>-315.389841</td>\n",
       "      <td>-26.419201</td>\n",
       "      <td>-1018.646454</td>\n",
       "      <td>676.837411</td>\n",
       "      <td>-1040.907919</td>\n",
       "      <td>-1002.165900</td>\n",
       "      <td>-38.742018</td>\n",
       "      <td>-1025.705411</td>\n",
       "      <td>-15.202507</td>\n",
       "    </tr>\n",
       "    <tr>\n",
       "      <th>3</th>\n",
       "      <td>1xgr</td>\n",
       "      <td>1XGR_1.pdb</td>\n",
       "      <td>-90.380013</td>\n",
       "      <td>-87.300388</td>\n",
       "      <td>-3.079626</td>\n",
       "      <td>-1104.222116</td>\n",
       "      <td>1013.842103</td>\n",
       "      <td>-1144.710583</td>\n",
       "      <td>-1098.698044</td>\n",
       "      <td>-46.012539</td>\n",
       "      <td>-1123.976270</td>\n",
       "      <td>-20.734313</td>\n",
       "    </tr>\n",
       "    <tr>\n",
       "      <th>4</th>\n",
       "      <td>1fdl</td>\n",
       "      <td>1FDL_1.pdb</td>\n",
       "      <td>113.173766</td>\n",
       "      <td>139.853413</td>\n",
       "      <td>-26.679647</td>\n",
       "      <td>-1124.719724</td>\n",
       "      <td>1237.893489</td>\n",
       "      <td>-1158.727939</td>\n",
       "      <td>-1115.613429</td>\n",
       "      <td>-43.114510</td>\n",
       "      <td>-1129.316477</td>\n",
       "      <td>-29.411462</td>\n",
       "    </tr>\n",
       "  </tbody>\n",
       "</table>\n",
       "</div>"
      ],
      "text/plain": [
       "  pdb_id   file_name  bound_wildtype  unbound_wildtype  \\\n",
       "0   1ic7  1IC7_1.pdb       31.645237         67.926537   \n",
       "1   5bk1  5BK1_2.pdb     -786.159791       -756.936277   \n",
       "2   4al8  4AL8_1.pdb     -341.809043       -315.389841   \n",
       "3   1xgr  1XGR_1.pdb      -90.380013        -87.300388   \n",
       "4   1fdl  1FDL_1.pdb      113.173766        139.853413   \n",
       "\n",
       "   bound_wildtype vs unbound_wildtype  unbound_relaxed  \\\n",
       "0                          -36.281300     -1067.571314   \n",
       "1                          -29.223514     -1939.881036   \n",
       "2                          -26.419201     -1018.646454   \n",
       "3                           -3.079626     -1104.222116   \n",
       "4                          -26.679647     -1124.719724   \n",
       "\n",
       "   bound_wildtype vs unbound_relaxed  bound_relaxed  relaxed_unbound  \\\n",
       "0                        1099.216551   -1089.614296     -1037.869390   \n",
       "1                        1153.721245   -1949.236399     -1892.921234   \n",
       "2                         676.837411   -1040.907919     -1002.165900   \n",
       "3                        1013.842103   -1144.710583     -1098.698044   \n",
       "4                        1237.893489   -1158.727939     -1115.613429   \n",
       "\n",
       "   bound_relaxed vs relaxed_unbound  relaxed_unbound_relaxed  \\\n",
       "0                        -51.744906             -1062.801790   \n",
       "1                        -56.315166             -1933.079799   \n",
       "2                        -38.742018             -1025.705411   \n",
       "3                        -46.012539             -1123.976270   \n",
       "4                        -43.114510             -1129.316477   \n",
       "\n",
       "   bound_relaxed vs relaxed_unbound_relaxed  \n",
       "0                                -26.812506  \n",
       "1                                -16.156601  \n",
       "2                                -15.202507  \n",
       "3                                -20.734313  \n",
       "4                                -29.411462  "
      ]
     },
     "execution_count": 18,
     "metadata": {},
     "output_type": "execute_result"
    }
   ],
   "source": [
    "computed_summary_path, pdb_paths = get_data_paths(config, \"AbDb\")\n",
    "computed_summary_df = pd.read_csv(computed_summary_path)\n",
    "computed_summary_df.head()"
   ]
  },
  {
   "cell_type": "code",
   "execution_count": 19,
   "id": "1cf25527",
   "metadata": {},
   "outputs": [],
   "source": [
    "delta_g_columns = [\"bound_wildtype vs unbound_wildtype\", \"bound_wildtype vs unbound_relaxed\", \"bound_relaxed vs relaxed_unbound\", \"bound_relaxed vs relaxed_unbound_relaxed\"]"
   ]
  },
  {
   "cell_type": "code",
   "execution_count": 20,
   "id": "3cb8aa70",
   "metadata": {},
   "outputs": [],
   "source": [
    "computed_summary_df = computed_summary_df.set_index(\"pdb_id\")\n",
    "\n",
    "dataset_df_pdb = dataset_df.set_index(\"pdb\")\n",
    "\n",
    "joined_df = computed_summary_df.join(dataset_df_pdb, how=\"inner\", lsuffix=\"_abdb\")\n",
    "\n",
    "abdb_df = abdb_df.set_index(\"pdb\")\n",
    "\n",
    "joined_df = joined_df.join(abdb_df, how=\"inner\", lsuffix=\"_abdb\")\n",
    "\n",
    "joined_df = joined_df[[\"affinity\", \"delta_g\", \"temperature\", \"calculated_temp\", \"antigen_length\",\"file_name\"] + delta_g_columns ]"
   ]
  },
  {
   "cell_type": "code",
   "execution_count": 21,
   "id": "7f1b5282",
   "metadata": {},
   "outputs": [
    {
     "name": "stdout",
     "output_type": "stream",
     "text": [
      "Number of Files with computed and measured affinity values 434\n"
     ]
    }
   ],
   "source": [
    "print(\"Number of Files with computed and measured affinity values\", len(joined_df))"
   ]
  },
  {
   "cell_type": "code",
   "execution_count": 22,
   "id": "082dce44",
   "metadata": {},
   "outputs": [
    {
     "data": {
      "text/html": [
       "<div>\n",
       "<style scoped>\n",
       "    .dataframe tbody tr th:only-of-type {\n",
       "        vertical-align: middle;\n",
       "    }\n",
       "\n",
       "    .dataframe tbody tr th {\n",
       "        vertical-align: top;\n",
       "    }\n",
       "\n",
       "    .dataframe thead th {\n",
       "        text-align: right;\n",
       "    }\n",
       "</style>\n",
       "<table border=\"1\" class=\"dataframe\">\n",
       "  <thead>\n",
       "    <tr style=\"text-align: right;\">\n",
       "      <th></th>\n",
       "      <th>affinity</th>\n",
       "      <th>delta_g</th>\n",
       "      <th>temperature</th>\n",
       "      <th>calculated_temp</th>\n",
       "      <th>antigen_length</th>\n",
       "      <th>file_name</th>\n",
       "      <th>bound_wildtype vs unbound_wildtype</th>\n",
       "      <th>bound_wildtype vs unbound_relaxed</th>\n",
       "      <th>bound_relaxed vs relaxed_unbound</th>\n",
       "      <th>bound_relaxed vs relaxed_unbound_relaxed</th>\n",
       "    </tr>\n",
       "  </thead>\n",
       "  <tbody>\n",
       "    <tr>\n",
       "      <th>1ahw</th>\n",
       "      <td>NaN</td>\n",
       "      <td>-11.55</td>\n",
       "      <td>NaN</td>\n",
       "      <td>NaN</td>\n",
       "      <td>200</td>\n",
       "      <td>1AHW_1.pdb</td>\n",
       "      <td>2.489041</td>\n",
       "      <td>3550.709084</td>\n",
       "      <td>-67.788121</td>\n",
       "      <td>-21.886099</td>\n",
       "    </tr>\n",
       "    <tr>\n",
       "      <th>1bj1</th>\n",
       "      <td>3.400000e-09</td>\n",
       "      <td>-11.55</td>\n",
       "      <td>25</td>\n",
       "      <td>25.0</td>\n",
       "      <td>94</td>\n",
       "      <td>1BJ1_1.pdb</td>\n",
       "      <td>-39.882991</td>\n",
       "      <td>1078.939472</td>\n",
       "      <td>-61.679191</td>\n",
       "      <td>-23.519772</td>\n",
       "    </tr>\n",
       "    <tr>\n",
       "      <th>1bvk</th>\n",
       "      <td>1.400000e-08</td>\n",
       "      <td>-10.53</td>\n",
       "      <td>20</td>\n",
       "      <td>20.0</td>\n",
       "      <td>129</td>\n",
       "      <td>1BVK_1.pdb</td>\n",
       "      <td>-10.753682</td>\n",
       "      <td>2664.236355</td>\n",
       "      <td>-47.205769</td>\n",
       "      <td>-20.423557</td>\n",
       "    </tr>\n",
       "    <tr>\n",
       "      <th>1cz8</th>\n",
       "      <td>1.100000e-10</td>\n",
       "      <td>-14.12</td>\n",
       "      <td>37</td>\n",
       "      <td>37.0</td>\n",
       "      <td>94</td>\n",
       "      <td>1CZ8_1.pdb</td>\n",
       "      <td>-47.435179</td>\n",
       "      <td>1439.480981</td>\n",
       "      <td>-65.960237</td>\n",
       "      <td>-32.249865</td>\n",
       "    </tr>\n",
       "    <tr>\n",
       "      <th>1e6j</th>\n",
       "      <td>2.900000e-08</td>\n",
       "      <td>-10.28</td>\n",
       "      <td>NaN</td>\n",
       "      <td>25.0</td>\n",
       "      <td>210</td>\n",
       "      <td>1E6J_1.pdb</td>\n",
       "      <td>-35.444259</td>\n",
       "      <td>1571.665574</td>\n",
       "      <td>-82.495095</td>\n",
       "      <td>-20.332619</td>\n",
       "    </tr>\n",
       "  </tbody>\n",
       "</table>\n",
       "</div>"
      ],
      "text/plain": [
       "          affinity  delta_g temperature  calculated_temp  antigen_length  \\\n",
       "1ahw           NaN   -11.55         NaN              NaN             200   \n",
       "1bj1  3.400000e-09   -11.55          25             25.0              94   \n",
       "1bvk  1.400000e-08   -10.53          20             20.0             129   \n",
       "1cz8  1.100000e-10   -14.12          37             37.0              94   \n",
       "1e6j  2.900000e-08   -10.28         NaN             25.0             210   \n",
       "\n",
       "       file_name  bound_wildtype vs unbound_wildtype  \\\n",
       "1ahw  1AHW_1.pdb                            2.489041   \n",
       "1bj1  1BJ1_1.pdb                          -39.882991   \n",
       "1bvk  1BVK_1.pdb                          -10.753682   \n",
       "1cz8  1CZ8_1.pdb                          -47.435179   \n",
       "1e6j  1E6J_1.pdb                          -35.444259   \n",
       "\n",
       "      bound_wildtype vs unbound_relaxed  bound_relaxed vs relaxed_unbound  \\\n",
       "1ahw                        3550.709084                        -67.788121   \n",
       "1bj1                        1078.939472                        -61.679191   \n",
       "1bvk                        2664.236355                        -47.205769   \n",
       "1cz8                        1439.480981                        -65.960237   \n",
       "1e6j                        1571.665574                        -82.495095   \n",
       "\n",
       "      bound_relaxed vs relaxed_unbound_relaxed  \n",
       "1ahw                                -21.886099  \n",
       "1bj1                                -23.519772  \n",
       "1bvk                                -20.423557  \n",
       "1cz8                                -32.249865  \n",
       "1e6j                                -20.332619  "
      ]
     },
     "execution_count": 22,
     "metadata": {},
     "output_type": "execute_result"
    }
   ],
   "source": [
    "joined_df.head()"
   ]
  },
  {
   "cell_type": "code",
   "execution_count": 23,
   "id": "c866c2ef",
   "metadata": {},
   "outputs": [],
   "source": [
    "import numpy as np\n",
    "from scipy import stats\n",
    "\n",
    "correlations = {}\n",
    "\n",
    "for col in delta_g_columns:\n",
    "    # remove outiers \n",
    "    # outliers have a zscroe above 3\n",
    "    mask = (np.abs(stats.zscore(joined_df[col])) < 2) & ~joined_df[\"calculated_temp\"].isna() & (joined_df[\"antigen_length\"] > 100)\n",
    "        \n",
    "    correlations[col] = {\n",
    "        \"affinity\": joined_df[col][mask].corr(joined_df[\"affinity\"][mask]),\n",
    "        \"delta_g\": joined_df[col][mask].corr(joined_df[\"delta_g\"][mask])\n",
    "    }"
   ]
  },
  {
   "cell_type": "code",
   "execution_count": 24,
   "id": "ec8d9d18",
   "metadata": {},
   "outputs": [],
   "source": [
    "best_combi = ()\n",
    "best_correlation = 0\n",
    "\n",
    "for type_ in correlations.keys():\n",
    "    for measure in correlations[type_].keys():\n",
    "        if correlations[type_][measure] > best_correlation:\n",
    "            best_correlation = correlations[type_][measure]\n",
    "            best_combi = (measure, type_)"
   ]
  },
  {
   "cell_type": "code",
   "execution_count": 25,
   "id": "023d8532",
   "metadata": {},
   "outputs": [
    {
     "name": "stdout",
     "output_type": "stream",
     "text": [
      "('delta_g', 'bound_wildtype vs unbound_wildtype') 0.14519418445920945\n"
     ]
    }
   ],
   "source": [
    "print(best_combi, best_correlation)"
   ]
  },
  {
   "cell_type": "code",
   "execution_count": 26,
   "id": "420da38a",
   "metadata": {},
   "outputs": [
    {
     "data": {
      "text/plain": [
       "<AxesSubplot:xlabel='delta_g', ylabel='bound_wildtype vs unbound_wildtype'>"
      ]
     },
     "execution_count": 26,
     "metadata": {},
     "output_type": "execute_result"
    },
    {
     "data": {
      "image/png": "[encoded data removed]",
      "text/plain": [
       "<Figure size 432x288 with 1 Axes>"
      ]
     },
     "metadata": {
      "needs_background": "light"
     },
     "output_type": "display_data"
    }
   ],
   "source": [
    "joined_df = joined_df[(np.abs(stats.zscore(joined_df[best_combi[1]])) < 2) & ~joined_df[\"calculated_temp\"].isna()]\n",
    "joined_df.plot.scatter(best_combi[0], best_combi[1])"
   ]
  },
  {
   "cell_type": "markdown",
   "id": "d12b25e1",
   "metadata": {},
   "source": [
    "##### Fit Linear Model to convert dg (REU) to affinity values"
   ]
  },
  {
   "cell_type": "code",
   "execution_count": 27,
   "id": "43e70590",
   "metadata": {},
   "outputs": [],
   "source": [
    "from sklearn.linear_model import LinearRegression\n",
    "import numpy as np\n",
    "from sklearn.metrics import r2_score\n",
    "\n",
    "\n",
    "X = joined_df.loc[:, [best_combi[1]]].values.reshape(-1, 1) \n",
    "Y = joined_df.loc[:, best_combi[0]].values.reshape(-1, 1) \n",
    "\n",
    "linear_regressor = LinearRegression()  \n",
    "linear_regressor.fit(X, Y)  \n",
    "joined_df[\"predicted_dg\"] = linear_regressor.predict(X) "
   ]
  },
  {
   "cell_type": "code",
   "execution_count": 29,
   "id": "2e6682dd",
   "metadata": {},
   "outputs": [
    {
     "name": "stdout",
     "output_type": "stream",
     "text": [
      "Best Pearson Correlation: 0.1404875918485394\n",
      "R-squared score: 0.019736763463401807\n"
     ]
    }
   ],
   "source": [
    "print(\"Best Pearson Correlation:\", joined_df[best_combi[0]].corr(joined_df[\"predicted_dg\"]))\n",
    "print(\"R-squared score:\", r2_score(joined_df[best_combi[0]], joined_df[\"predicted_dg\"]))"
   ]
  },
  {
   "cell_type": "code",
   "execution_count": 30,
   "id": "150cbb18",
   "metadata": {},
   "outputs": [
    {
     "name": "stdout",
     "output_type": "stream",
     "text": [
      "MSE: 3.7297370817169564\n"
     ]
    }
   ],
   "source": [
    "difference_array = np.subtract(joined_df[best_combi[0]],joined_df[\"predicted_dg\"])\n",
    "\n",
    "squared_array = np.square(difference_array)\n",
    "\n",
    "mse = squared_array.mean()\n",
    "\n",
    "print(\"MSE:\", mse)"
   ]
  },
  {
   "cell_type": "code",
   "execution_count": 31,
   "id": "5369b254",
   "metadata": {},
   "outputs": [
    {
     "data": {
      "text/plain": [
       "<AxesSubplot:xlabel='delta_g', ylabel='predicted_dg'>"
      ]
     },
     "execution_count": 31,
     "metadata": {},
     "output_type": "execute_result"
    },
    {
     "data": {
      "image/png": "[encoded data removed]",
      "text/plain": [
       "<Figure size 432x288 with 1 Axes>"
      ]
     },
     "metadata": {
      "needs_background": "light"
     },
     "output_type": "display_data"
    }
   ],
   "source": [
    "joined_df.plot.scatter(\"delta_g\", \"predicted_dg\")"
   ]
  },
  {
   "cell_type": "markdown",
   "id": "1d34b3e7",
   "metadata": {},
   "source": [
    "## Test IAM"
   ]
  },
  {
   "cell_type": "code",
   "execution_count": 32,
   "id": "f5276a83",
   "metadata": {},
   "outputs": [
    {
     "name": "stdout",
     "output_type": "stream",
     "text": [
      "PyRosetta-4 2020 [Rosetta PyRosetta4.conda.linux.CentOS.python37.Release 2020.10+release.46415fa3e9decb8b6e91a4e065c15543eb27a461 2020-03-05T09:09:24] retrieved from: http://www.pyrosetta.org\n",
      "(C) Copyright Rosetta Commons Member Institutions. Created in JHU by Sergey Lyskov and PyRosetta Team.\n"
     ]
    }
   ],
   "source": [
    "import pyrosetta\n",
    "from pyrosetta.rosetta.core.pose import Pose, add_comment, dump_comment_pdb, get_chain_from_chain_id\n",
    "pyrosetta.init(extra_options=\"-mute all\")\n",
    "\n",
    "from Bio.PDB.PDBParser import PDBParser\n",
    "\n",
    "parser = PDBParser(PERMISSIVE=3)\n",
    "\n",
    "def load_pose(pdb_path: str) -> pyrosetta.Pose:\n",
    "    pose = pyrosetta.pose_from_pdb(pdb_path)\n",
    "    testPose = pyrosetta.Pose()\n",
    "    testPose.assign(pose)\n",
    "    return testPose\n",
    "\n",
    "def get_partners(structure: Pose):\n",
    "\n",
    "    chains = structure.get_chains()\n",
    "\n",
    "    chains = [ chain.id for chain in chains]\n",
    "\n",
    "    antibody_chains = \"\"\n",
    "    antigen_chains = \"\"\n",
    "\n",
    "    if \"L\" in chains:\n",
    "        antibody_chains += \"L\"\n",
    "        chains.remove(\"L\")\n",
    "    if \"H\" in chains:\n",
    "        antibody_chains += \"H\"\n",
    "        chains.remove(\"H\")\n",
    "\n",
    "    for chain in chains:\n",
    "        antigen_chains += chain\n",
    "\n",
    "    partners = antibody_chains + \"_\" + antigen_chains\n",
    "    return partners\n",
    "\n",
    "def get_dg_score(row):\n",
    "    path = os.path.join(pdb_path, row[\"file_name\"])\n",
    "\n",
    "    pose = load_pose(path)\n",
    "\n",
    "    structure = parser.get_structure(\"\", path)\n",
    "    partners = get_partners(structure)\n",
    "\n",
    "    ia = pyrosetta.rosetta.protocols.analysis.InterfaceAnalyzerMover(partners)\n",
    "    ia.apply(pose)\n",
    "\n",
    "\n",
    "    return ia.get_interface_dG()\n",
    "\n",
    "\n",
    "#if \"iam_dg_score\" not in joined_df.columns:\n",
    "#    joined_df[\"iam_dg_score\"] = joined_df.apply(lambda row: get_dg_score(row), axis=1)"
   ]
  },
  {
   "cell_type": "code",
   "execution_count": null,
   "id": "9da9e329",
   "metadata": {},
   "outputs": [],
   "source": []
  },
  {
   "cell_type": "code",
   "execution_count": null,
   "id": "b4bd0e6a",
   "metadata": {},
   "outputs": [],
   "source": []
  }
 ],
 "metadata": {
  "kernelspec": {
   "display_name": "Python 3 (ipykernel)",
   "language": "python",
   "name": "python3"
  },
  "language_info": {
   "codemirror_mode": {
    "name": "ipython",
    "version": 3
   },
   "file_extension": ".py",
   "mimetype": "text/x-python",
   "name": "python",
   "nbconvert_exporter": "python",
   "pygments_lexer": "ipython3",
   "version": "3.7.12"
  }
 },
 "nbformat": 4,
 "nbformat_minor": 5
}
