{
 "cells": [
  {
   "cell_type": "markdown",
   "id": "0e4c4f77",
   "metadata": {},
   "source": [
    "# SKEMPI v2 Data Analysis\n",
    "\n",
    "Dataset downloaded from https://life.bsc.es/pid/skempi2/database/index (11.06.2022)"
   ]
  },
  {
   "cell_type": "code",
   "execution_count": 4,
   "id": "86584baf",
   "metadata": {},
   "outputs": [],
   "source": [
    "import os\n",
    "import pandas as pd\n",
    "\n",
    "from abag_affinity.utils.config import read_yaml, get_resources_paths"
   ]
  },
  {
   "cell_type": "code",
   "execution_count": 5,
   "id": "a23a17d3",
   "metadata": {},
   "outputs": [],
   "source": [
    "config = read_yaml(\"../../abag_affinity/config.yaml\")\n",
    "skempi_csv_name, skempi_pdb_folder = get_resources_paths(config, \"SKEMPI.v2\")"
   ]
  },
  {
   "cell_type": "code",
   "execution_count": 6,
   "id": "057d571b",
   "metadata": {},
   "outputs": [
    {
     "data": {
      "text/plain": [
       "1381"
      ]
     },
     "execution_count": 6,
     "metadata": {},
     "output_type": "execute_result"
    }
   ],
   "source": [
    "len(os.listdir(skempi_pdb_folder))"
   ]
  },
  {
   "cell_type": "code",
   "execution_count": 7,
   "id": "b0a38c5c",
   "metadata": {
    "scrolled": true
   },
   "outputs": [
    {
     "data": {
      "text/html": [
       "<div>\n",
       "<style scoped>\n",
       "    .dataframe tbody tr th:only-of-type {\n",
       "        vertical-align: middle;\n",
       "    }\n",
       "\n",
       "    .dataframe tbody tr th {\n",
       "        vertical-align: top;\n",
       "    }\n",
       "\n",
       "    .dataframe thead th {\n",
       "        text-align: right;\n",
       "    }\n",
       "</style>\n",
       "<table border=\"1\" class=\"dataframe\">\n",
       "  <thead>\n",
       "    <tr style=\"text-align: right;\">\n",
       "      <th></th>\n",
       "      <th>#Pdb</th>\n",
       "      <th>Mutation(s)_PDB</th>\n",
       "      <th>Mutation(s)_cleaned</th>\n",
       "      <th>iMutation_Location(s)</th>\n",
       "      <th>Hold_out_type</th>\n",
       "      <th>Hold_out_proteins</th>\n",
       "      <th>Affinity_mut (M)</th>\n",
       "      <th>Affinity_mut_parsed</th>\n",
       "      <th>Affinity_wt (M)</th>\n",
       "      <th>Affinity_wt_parsed</th>\n",
       "      <th>...</th>\n",
       "      <th>koff_mut_parsed</th>\n",
       "      <th>koff_wt (s^(-1))</th>\n",
       "      <th>koff_wt_parsed</th>\n",
       "      <th>dH_mut (kcal mol^(-1))</th>\n",
       "      <th>dH_wt (kcal mol^(-1))</th>\n",
       "      <th>dS_mut (cal mol^(-1) K^(-1))</th>\n",
       "      <th>dS_wt (cal mol^(-1) K^(-1))</th>\n",
       "      <th>Notes</th>\n",
       "      <th>Method</th>\n",
       "      <th>SKEMPI version</th>\n",
       "    </tr>\n",
       "  </thead>\n",
       "  <tbody>\n",
       "    <tr>\n",
       "      <th>0</th>\n",
       "      <td>1CSE_E_I</td>\n",
       "      <td>LI45G</td>\n",
       "      <td>LI38G</td>\n",
       "      <td>COR</td>\n",
       "      <td>Pr/PI</td>\n",
       "      <td>Pr/PI</td>\n",
       "      <td>5.26E-11</td>\n",
       "      <td>5.260000e-11</td>\n",
       "      <td>1.12E-12</td>\n",
       "      <td>1.120000e-12</td>\n",
       "      <td>...</td>\n",
       "      <td>NaN</td>\n",
       "      <td>NaN</td>\n",
       "      <td>NaN</td>\n",
       "      <td>NaN</td>\n",
       "      <td>NaN</td>\n",
       "      <td>NaN</td>\n",
       "      <td>NaN</td>\n",
       "      <td>NaN</td>\n",
       "      <td>IASP</td>\n",
       "      <td>1</td>\n",
       "    </tr>\n",
       "    <tr>\n",
       "      <th>1</th>\n",
       "      <td>1CSE_E_I</td>\n",
       "      <td>LI45S</td>\n",
       "      <td>LI38S</td>\n",
       "      <td>COR</td>\n",
       "      <td>Pr/PI</td>\n",
       "      <td>Pr/PI</td>\n",
       "      <td>8.33E-12</td>\n",
       "      <td>8.330000e-12</td>\n",
       "      <td>1.12E-12</td>\n",
       "      <td>1.120000e-12</td>\n",
       "      <td>...</td>\n",
       "      <td>NaN</td>\n",
       "      <td>NaN</td>\n",
       "      <td>NaN</td>\n",
       "      <td>NaN</td>\n",
       "      <td>NaN</td>\n",
       "      <td>NaN</td>\n",
       "      <td>NaN</td>\n",
       "      <td>NaN</td>\n",
       "      <td>IASP</td>\n",
       "      <td>1</td>\n",
       "    </tr>\n",
       "    <tr>\n",
       "      <th>2</th>\n",
       "      <td>1CSE_E_I</td>\n",
       "      <td>LI45P</td>\n",
       "      <td>LI38P</td>\n",
       "      <td>COR</td>\n",
       "      <td>Pr/PI</td>\n",
       "      <td>Pr/PI</td>\n",
       "      <td>1.02E-07</td>\n",
       "      <td>1.020000e-07</td>\n",
       "      <td>1.12E-12</td>\n",
       "      <td>1.120000e-12</td>\n",
       "      <td>...</td>\n",
       "      <td>NaN</td>\n",
       "      <td>NaN</td>\n",
       "      <td>NaN</td>\n",
       "      <td>NaN</td>\n",
       "      <td>NaN</td>\n",
       "      <td>NaN</td>\n",
       "      <td>NaN</td>\n",
       "      <td>NaN</td>\n",
       "      <td>IASP</td>\n",
       "      <td>1</td>\n",
       "    </tr>\n",
       "    <tr>\n",
       "      <th>3</th>\n",
       "      <td>1CSE_E_I</td>\n",
       "      <td>LI45I</td>\n",
       "      <td>LI38I</td>\n",
       "      <td>COR</td>\n",
       "      <td>Pr/PI</td>\n",
       "      <td>Pr/PI</td>\n",
       "      <td>1.72E-10</td>\n",
       "      <td>1.720000e-10</td>\n",
       "      <td>1.12E-12</td>\n",
       "      <td>1.120000e-12</td>\n",
       "      <td>...</td>\n",
       "      <td>NaN</td>\n",
       "      <td>NaN</td>\n",
       "      <td>NaN</td>\n",
       "      <td>NaN</td>\n",
       "      <td>NaN</td>\n",
       "      <td>NaN</td>\n",
       "      <td>NaN</td>\n",
       "      <td>NaN</td>\n",
       "      <td>IASP</td>\n",
       "      <td>1</td>\n",
       "    </tr>\n",
       "    <tr>\n",
       "      <th>4</th>\n",
       "      <td>1CSE_E_I</td>\n",
       "      <td>LI45D</td>\n",
       "      <td>LI38D</td>\n",
       "      <td>COR</td>\n",
       "      <td>Pr/PI</td>\n",
       "      <td>Pr/PI</td>\n",
       "      <td>1.92E-09</td>\n",
       "      <td>1.920000e-09</td>\n",
       "      <td>1.12E-12</td>\n",
       "      <td>1.120000e-12</td>\n",
       "      <td>...</td>\n",
       "      <td>NaN</td>\n",
       "      <td>NaN</td>\n",
       "      <td>NaN</td>\n",
       "      <td>NaN</td>\n",
       "      <td>NaN</td>\n",
       "      <td>NaN</td>\n",
       "      <td>NaN</td>\n",
       "      <td>NaN</td>\n",
       "      <td>IASP</td>\n",
       "      <td>1</td>\n",
       "    </tr>\n",
       "    <tr>\n",
       "      <th>5</th>\n",
       "      <td>1CSE_E_I</td>\n",
       "      <td>LI45E</td>\n",
       "      <td>LI38E</td>\n",
       "      <td>COR</td>\n",
       "      <td>Pr/PI</td>\n",
       "      <td>Pr/PI</td>\n",
       "      <td>6.25E-11</td>\n",
       "      <td>6.250000e-11</td>\n",
       "      <td>1.12E-12</td>\n",
       "      <td>1.120000e-12</td>\n",
       "      <td>...</td>\n",
       "      <td>NaN</td>\n",
       "      <td>NaN</td>\n",
       "      <td>NaN</td>\n",
       "      <td>NaN</td>\n",
       "      <td>NaN</td>\n",
       "      <td>NaN</td>\n",
       "      <td>NaN</td>\n",
       "      <td>NaN</td>\n",
       "      <td>IASP</td>\n",
       "      <td>1</td>\n",
       "    </tr>\n",
       "    <tr>\n",
       "      <th>6</th>\n",
       "      <td>1ACB_E_I</td>\n",
       "      <td>LI45G</td>\n",
       "      <td>LI38G</td>\n",
       "      <td>COR</td>\n",
       "      <td>Pr/PI</td>\n",
       "      <td>Pr/PI</td>\n",
       "      <td>4.55E-08</td>\n",
       "      <td>4.550000e-08</td>\n",
       "      <td>1.49E-12</td>\n",
       "      <td>1.490000e-12</td>\n",
       "      <td>...</td>\n",
       "      <td>NaN</td>\n",
       "      <td>NaN</td>\n",
       "      <td>NaN</td>\n",
       "      <td>NaN</td>\n",
       "      <td>NaN</td>\n",
       "      <td>NaN</td>\n",
       "      <td>NaN</td>\n",
       "      <td>NaN</td>\n",
       "      <td>IASP</td>\n",
       "      <td>1</td>\n",
       "    </tr>\n",
       "    <tr>\n",
       "      <th>7</th>\n",
       "      <td>1ACB_E_I</td>\n",
       "      <td>LI45S</td>\n",
       "      <td>LI38S</td>\n",
       "      <td>COR</td>\n",
       "      <td>Pr/PI</td>\n",
       "      <td>Pr/PI</td>\n",
       "      <td>7.14E-09</td>\n",
       "      <td>7.140000e-09</td>\n",
       "      <td>1.49E-12</td>\n",
       "      <td>1.490000e-12</td>\n",
       "      <td>...</td>\n",
       "      <td>NaN</td>\n",
       "      <td>NaN</td>\n",
       "      <td>NaN</td>\n",
       "      <td>NaN</td>\n",
       "      <td>NaN</td>\n",
       "      <td>NaN</td>\n",
       "      <td>NaN</td>\n",
       "      <td>NaN</td>\n",
       "      <td>IASP</td>\n",
       "      <td>1</td>\n",
       "    </tr>\n",
       "    <tr>\n",
       "      <th>8</th>\n",
       "      <td>1ACB_E_I</td>\n",
       "      <td>LI45P</td>\n",
       "      <td>LI38P</td>\n",
       "      <td>COR</td>\n",
       "      <td>Pr/PI</td>\n",
       "      <td>Pr/PI</td>\n",
       "      <td>1.85E-07</td>\n",
       "      <td>1.850000e-07</td>\n",
       "      <td>1.49E-12</td>\n",
       "      <td>1.490000e-12</td>\n",
       "      <td>...</td>\n",
       "      <td>NaN</td>\n",
       "      <td>NaN</td>\n",
       "      <td>NaN</td>\n",
       "      <td>NaN</td>\n",
       "      <td>NaN</td>\n",
       "      <td>NaN</td>\n",
       "      <td>NaN</td>\n",
       "      <td>NaN</td>\n",
       "      <td>IASP</td>\n",
       "      <td>1</td>\n",
       "    </tr>\n",
       "    <tr>\n",
       "      <th>9</th>\n",
       "      <td>1ACB_E_I</td>\n",
       "      <td>LI45I</td>\n",
       "      <td>LI38I</td>\n",
       "      <td>COR</td>\n",
       "      <td>Pr/PI</td>\n",
       "      <td>Pr/PI</td>\n",
       "      <td>2.08E-09</td>\n",
       "      <td>2.080000e-09</td>\n",
       "      <td>1.49E-12</td>\n",
       "      <td>1.490000e-12</td>\n",
       "      <td>...</td>\n",
       "      <td>NaN</td>\n",
       "      <td>NaN</td>\n",
       "      <td>NaN</td>\n",
       "      <td>NaN</td>\n",
       "      <td>NaN</td>\n",
       "      <td>NaN</td>\n",
       "      <td>NaN</td>\n",
       "      <td>NaN</td>\n",
       "      <td>IASP</td>\n",
       "      <td>1</td>\n",
       "    </tr>\n",
       "  </tbody>\n",
       "</table>\n",
       "<p>10 rows × 29 columns</p>\n",
       "</div>"
      ],
      "text/plain": [
       "       #Pdb Mutation(s)_PDB Mutation(s)_cleaned iMutation_Location(s)  \\\n",
       "0  1CSE_E_I           LI45G               LI38G                   COR   \n",
       "1  1CSE_E_I           LI45S               LI38S                   COR   \n",
       "2  1CSE_E_I           LI45P               LI38P                   COR   \n",
       "3  1CSE_E_I           LI45I               LI38I                   COR   \n",
       "4  1CSE_E_I           LI45D               LI38D                   COR   \n",
       "5  1CSE_E_I           LI45E               LI38E                   COR   \n",
       "6  1ACB_E_I           LI45G               LI38G                   COR   \n",
       "7  1ACB_E_I           LI45S               LI38S                   COR   \n",
       "8  1ACB_E_I           LI45P               LI38P                   COR   \n",
       "9  1ACB_E_I           LI45I               LI38I                   COR   \n",
       "\n",
       "  Hold_out_type Hold_out_proteins Affinity_mut (M)  Affinity_mut_parsed  \\\n",
       "0         Pr/PI             Pr/PI         5.26E-11         5.260000e-11   \n",
       "1         Pr/PI             Pr/PI         8.33E-12         8.330000e-12   \n",
       "2         Pr/PI             Pr/PI         1.02E-07         1.020000e-07   \n",
       "3         Pr/PI             Pr/PI         1.72E-10         1.720000e-10   \n",
       "4         Pr/PI             Pr/PI         1.92E-09         1.920000e-09   \n",
       "5         Pr/PI             Pr/PI         6.25E-11         6.250000e-11   \n",
       "6         Pr/PI             Pr/PI         4.55E-08         4.550000e-08   \n",
       "7         Pr/PI             Pr/PI         7.14E-09         7.140000e-09   \n",
       "8         Pr/PI             Pr/PI         1.85E-07         1.850000e-07   \n",
       "9         Pr/PI             Pr/PI         2.08E-09         2.080000e-09   \n",
       "\n",
       "  Affinity_wt (M)  Affinity_wt_parsed  ... koff_mut_parsed koff_wt (s^(-1))  \\\n",
       "0        1.12E-12        1.120000e-12  ...             NaN              NaN   \n",
       "1        1.12E-12        1.120000e-12  ...             NaN              NaN   \n",
       "2        1.12E-12        1.120000e-12  ...             NaN              NaN   \n",
       "3        1.12E-12        1.120000e-12  ...             NaN              NaN   \n",
       "4        1.12E-12        1.120000e-12  ...             NaN              NaN   \n",
       "5        1.12E-12        1.120000e-12  ...             NaN              NaN   \n",
       "6        1.49E-12        1.490000e-12  ...             NaN              NaN   \n",
       "7        1.49E-12        1.490000e-12  ...             NaN              NaN   \n",
       "8        1.49E-12        1.490000e-12  ...             NaN              NaN   \n",
       "9        1.49E-12        1.490000e-12  ...             NaN              NaN   \n",
       "\n",
       "  koff_wt_parsed dH_mut (kcal mol^(-1))  dH_wt (kcal mol^(-1))  \\\n",
       "0            NaN                    NaN                    NaN   \n",
       "1            NaN                    NaN                    NaN   \n",
       "2            NaN                    NaN                    NaN   \n",
       "3            NaN                    NaN                    NaN   \n",
       "4            NaN                    NaN                    NaN   \n",
       "5            NaN                    NaN                    NaN   \n",
       "6            NaN                    NaN                    NaN   \n",
       "7            NaN                    NaN                    NaN   \n",
       "8            NaN                    NaN                    NaN   \n",
       "9            NaN                    NaN                    NaN   \n",
       "\n",
       "   dS_mut (cal mol^(-1) K^(-1))  dS_wt (cal mol^(-1) K^(-1))  Notes Method  \\\n",
       "0                           NaN                          NaN    NaN   IASP   \n",
       "1                           NaN                          NaN    NaN   IASP   \n",
       "2                           NaN                          NaN    NaN   IASP   \n",
       "3                           NaN                          NaN    NaN   IASP   \n",
       "4                           NaN                          NaN    NaN   IASP   \n",
       "5                           NaN                          NaN    NaN   IASP   \n",
       "6                           NaN                          NaN    NaN   IASP   \n",
       "7                           NaN                          NaN    NaN   IASP   \n",
       "8                           NaN                          NaN    NaN   IASP   \n",
       "9                           NaN                          NaN    NaN   IASP   \n",
       "\n",
       "   SKEMPI version  \n",
       "0               1  \n",
       "1               1  \n",
       "2               1  \n",
       "3               1  \n",
       "4               1  \n",
       "5               1  \n",
       "6               1  \n",
       "7               1  \n",
       "8               1  \n",
       "9               1  \n",
       "\n",
       "[10 rows x 29 columns]"
      ]
     },
     "execution_count": 7,
     "metadata": {},
     "output_type": "execute_result"
    }
   ],
   "source": [
    "skempi_df = pd.read_csv(skempi_csv_name, sep=\";\")\n",
    "skempi_df.head(10)"
   ]
  },
  {
   "cell_type": "code",
   "execution_count": 10,
   "id": "b3d7ec30",
   "metadata": {},
   "outputs": [
    {
     "name": "stdout",
     "output_type": "stream",
     "text": [
      "Conformation unique PDB Ids >>> 348\n",
      "Mutation unique PDB Ids >>> 4707\n"
     ]
    }
   ],
   "source": [
    "print(\"Conformation unique PDB Ids >>>\", len(skempi_df[\"#Pdb\"].unique()))\n",
    "print(\"Mutation unique PDB Ids >>>\", len(skempi_df[\"Mutation(s)_PDB\"].unique()))"
   ]
  },
  {
   "cell_type": "code",
   "execution_count": 12,
   "id": "389a4382",
   "metadata": {},
   "outputs": [
    {
     "name": "stdout",
     "output_type": "stream",
     "text": [
      "Number of Unique Proteins >>> 366\n"
     ]
    }
   ],
   "source": [
    "unique_proteins = set(skempi_df[\"Protein 1\"].unique()).union(set(skempi_df[\"Protein 2\"].unique()) )\n",
    "\n",
    "print(\"Number of Unique Proteins >>>\", len(unique_proteins))"
   ]
  },
  {
   "cell_type": "code",
   "execution_count": 22,
   "id": "5d8232f7",
   "metadata": {},
   "outputs": [
    {
     "name": "stdout",
     "output_type": "stream",
     "text": [
      "Antibody Conformation unique PDB Ids >>> 1149\n",
      "Conformation unique PDB Ids >>> 53\n",
      "Number of Unique Proteins >>> 62\n"
     ]
    }
   ],
   "source": [
    "ab_skempi = skempi_df[skempi_df[\"Hold_out_type\"] == \"AB/AG\"]\n",
    "print(\"Antibody Conformation unique PDB Ids >>>\", len(ab_skempi))\n",
    "\n",
    "unique_proteins = set(ab_skempi[\"Protein 1\"].unique()).union(set(ab_skempi[\"Protein 2\"].unique()) )\n",
    "\n",
    "print(\"Conformation unique PDB Ids >>>\", len(ab_skempi[\"#Pdb\"].unique()))\n",
    "print(\"Number of Unique Proteins >>>\", len(unique_proteins))"
   ]
  },
  {
   "cell_type": "markdown",
   "id": "a3c60f6e",
   "metadata": {},
   "source": [
    "### Strucutre of PDB Files\n"
   ]
  },
  {
   "cell_type": "code",
   "execution_count": 18,
   "id": "513a058b",
   "metadata": {},
   "outputs": [],
   "source": [
    "from abag_affinity.utils.pdb_reader import read_file\n",
    "\n",
    "pdb_id = skempi_df.iloc[0, 0]\n",
    "pdb_id = pdb_id.split(\"_\")[0]\n",
    "\n",
    "pdb_id = \"5TAR\""
   ]
  },
  {
   "cell_type": "code",
   "execution_count": 19,
   "id": "41fc37ca",
   "metadata": {
    "scrolled": true
   },
   "outputs": [
    {
     "name": "stderr",
     "output_type": "stream",
     "text": [
      "/home/fabian/miniconda3/envs/ag_binding_affinity/lib/python3.7/site-packages/Bio/PDB/PDBParser.py:399: PDBConstructionWarning: Ignoring unrecognized record 'TER' at line 1486\n",
      "  PDBConstructionWarning,\n",
      "/home/fabian/miniconda3/envs/ag_binding_affinity/lib/python3.7/site-packages/Bio/PDB/PDBParser.py:399: PDBConstructionWarning: Ignoring unrecognized record 'TER' at line 2689\n",
      "  PDBConstructionWarning,\n",
      "/home/fabian/miniconda3/envs/ag_binding_affinity/lib/python3.7/site-packages/Bio/PDB/StructureBuilder.py:92: PDBConstructionWarning: WARNING: Chain A is discontinuous at line 2690.\n",
      "  PDBConstructionWarning,\n",
      "/home/fabian/miniconda3/envs/ag_binding_affinity/lib/python3.7/site-packages/Bio/PDB/StructureBuilder.py:92: PDBConstructionWarning: WARNING: Chain B is discontinuous at line 2733.\n",
      "  PDBConstructionWarning,\n",
      "/home/fabian/miniconda3/envs/ag_binding_affinity/lib/python3.7/site-packages/Bio/PDB/StructureBuilder.py:92: PDBConstructionWarning: WARNING: Chain A is discontinuous at line 2737.\n",
      "  PDBConstructionWarning,\n",
      "/home/fabian/miniconda3/envs/ag_binding_affinity/lib/python3.7/site-packages/Bio/PDB/StructureBuilder.py:92: PDBConstructionWarning: WARNING: Chain B is discontinuous at line 2761.\n",
      "  PDBConstructionWarning,\n"
     ]
    }
   ],
   "source": [
    "path = os.path.join(skempi_pdb_folder, pdb_id + \".pdb\")\n",
    "strucutre, info = read_file(pdb_id, path)"
   ]
  },
  {
   "cell_type": "code",
   "execution_count": 20,
   "id": "c7b68b00",
   "metadata": {},
   "outputs": [
    {
     "data": {
      "text/plain": [
       "[<Model id=0>]"
      ]
     },
     "execution_count": 20,
     "metadata": {},
     "output_type": "execute_result"
    }
   ],
   "source": [
    "list(strucutre.get_models())"
   ]
  },
  {
   "cell_type": "code",
   "execution_count": 21,
   "id": "4f33d0ab",
   "metadata": {},
   "outputs": [
    {
     "data": {
      "text/plain": [
       "[<Chain id=A>, <Chain id=B>]"
      ]
     },
     "execution_count": 21,
     "metadata": {},
     "output_type": "execute_result"
    }
   ],
   "source": [
    "list(strucutre[0].get_chains())"
   ]
  },
  {
   "cell_type": "code",
   "execution_count": null,
   "id": "0b91da03",
   "metadata": {},
   "outputs": [],
   "source": []
  }
 ],
 "metadata": {
  "kernelspec": {
   "display_name": "Python 3 (ipykernel)",
   "language": "python",
   "name": "python3"
  },
  "language_info": {
   "codemirror_mode": {
    "name": "ipython",
    "version": 3
   },
   "file_extension": ".py",
   "mimetype": "text/x-python",
   "name": "python",
   "nbconvert_exporter": "python",
   "pygments_lexer": "ipython3",
   "version": "3.7.12"
  }
 },
 "nbformat": 4,
 "nbformat_minor": 5
}
