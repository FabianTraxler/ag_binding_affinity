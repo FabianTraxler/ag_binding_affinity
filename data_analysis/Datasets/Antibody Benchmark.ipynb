{
 "cells": [
  {
   "cell_type": "markdown",
   "id": "5d7ed573",
   "metadata": {},
   "source": [
    "# Antibody Benchmark\n",
    "\n",
    "This data is a subset of the Docking Benchmark5.5 containing only Antibody-Antigen Complexes.\n",
    "\n",
    "The excel sheet is downloaded from https://piercelab.ibbr.umd.edu/antibody_benchmark/antibody_benchmark_cases.xlsx (Downloaded 30.04.2022)\n",
    "\n",
    "The PDB Files are downloaded from their GitHub Repository: https://github.com/piercelab/antibody_benchmark (30.04.2022)"
   ]
  },
  {
   "cell_type": "code",
   "execution_count": 2,
   "id": "67b8ca5d",
   "metadata": {},
   "outputs": [],
   "source": [
    "import pandas as pd\n",
    "import yaml\n",
    "import os"
   ]
  },
  {
   "cell_type": "code",
   "execution_count": 5,
   "id": "345b644f",
   "metadata": {},
   "outputs": [],
   "source": [
    "from abag_affinity.utils.config import read_yaml, get_data_paths"
   ]
  },
  {
   "cell_type": "code",
   "execution_count": 23,
   "id": "e0cb18e0",
   "metadata": {},
   "outputs": [],
   "source": [
    "config = read_yaml(\"../../abag_affinity/config.yaml\")\n",
    "# define filepaths\n",
    "summary_path, pdb_path = get_data_paths(config, \"AntibodyBenchmark\")"
   ]
  },
  {
   "cell_type": "code",
   "execution_count": 56,
   "id": "62220c9e",
   "metadata": {},
   "outputs": [
    {
     "name": "stdout",
     "output_type": "stream",
     "text": [
      "There are 67 ab-ag cases\n"
     ]
    },
    {
     "data": {
      "text/html": [
       "<div>\n",
       "<style scoped>\n",
       "    .dataframe tbody tr th:only-of-type {\n",
       "        vertical-align: middle;\n",
       "    }\n",
       "\n",
       "    .dataframe tbody tr th {\n",
       "        vertical-align: top;\n",
       "    }\n",
       "\n",
       "    .dataframe thead th {\n",
       "        text-align: right;\n",
       "    }\n",
       "</style>\n",
       "<table border=\"1\" class=\"dataframe\">\n",
       "  <thead>\n",
       "    <tr style=\"text-align: right;\">\n",
       "      <th></th>\n",
       "      <th>Complex PDB</th>\n",
       "      <th>Antibody PDB</th>\n",
       "      <th>Antibody</th>\n",
       "      <th>Antigen PDB</th>\n",
       "      <th>Antigen</th>\n",
       "      <th>I-RMSD (Å)</th>\n",
       "      <th>ΔASA (Å2)</th>\n",
       "      <th>Category</th>\n",
       "      <th>New</th>\n",
       "      <th>Kd (nM)</th>\n",
       "      <th>ΔG (kcal/mol)</th>\n",
       "    </tr>\n",
       "  </thead>\n",
       "  <tbody>\n",
       "    <tr>\n",
       "      <th>0</th>\n",
       "      <td>1AHW_AB:C</td>\n",
       "      <td>1FGN_LH</td>\n",
       "      <td>Fab 5g9</td>\n",
       "      <td>1TFH_A</td>\n",
       "      <td>Tissue factor</td>\n",
       "      <td>0.69</td>\n",
       "      <td>1899.0</td>\n",
       "      <td>Rigid</td>\n",
       "      <td>NaN</td>\n",
       "      <td>NaN</td>\n",
       "      <td>-11.55</td>\n",
       "    </tr>\n",
       "    <tr>\n",
       "      <th>1</th>\n",
       "      <td>1DQJ_AB:C</td>\n",
       "      <td>1DQQ_CD</td>\n",
       "      <td>Fab Hyhel63</td>\n",
       "      <td>3LZT_</td>\n",
       "      <td>HEW lysozyme</td>\n",
       "      <td>0.75</td>\n",
       "      <td>1765.0</td>\n",
       "      <td>Rigid</td>\n",
       "      <td>NaN</td>\n",
       "      <td>NaN</td>\n",
       "      <td>-11.67</td>\n",
       "    </tr>\n",
       "    <tr>\n",
       "      <th>2</th>\n",
       "      <td>1E6J_HL:P</td>\n",
       "      <td>1E6O_HL</td>\n",
       "      <td>Fab</td>\n",
       "      <td>1A43_</td>\n",
       "      <td>HIV-1 capsid protein p24</td>\n",
       "      <td>1.05</td>\n",
       "      <td>1245.0</td>\n",
       "      <td>Rigid</td>\n",
       "      <td>NaN</td>\n",
       "      <td>NaN</td>\n",
       "      <td>-10.28</td>\n",
       "    </tr>\n",
       "    <tr>\n",
       "      <th>3</th>\n",
       "      <td>1JPS_HL:T</td>\n",
       "      <td>1JPT_HL</td>\n",
       "      <td>Fab D3H44</td>\n",
       "      <td>1TFH_B</td>\n",
       "      <td>Tissue factor</td>\n",
       "      <td>0.51</td>\n",
       "      <td>1852.0</td>\n",
       "      <td>Rigid</td>\n",
       "      <td>NaN</td>\n",
       "      <td>NaN</td>\n",
       "      <td>-13.64</td>\n",
       "    </tr>\n",
       "    <tr>\n",
       "      <th>4</th>\n",
       "      <td>1MLC_AB:E</td>\n",
       "      <td>1MLB_AB</td>\n",
       "      <td>Fab44.1</td>\n",
       "      <td>3LZT_</td>\n",
       "      <td>HEW lysozyme</td>\n",
       "      <td>0.60</td>\n",
       "      <td>1392.0</td>\n",
       "      <td>Rigid</td>\n",
       "      <td>NaN</td>\n",
       "      <td>NaN</td>\n",
       "      <td>-9.61</td>\n",
       "    </tr>\n",
       "  </tbody>\n",
       "</table>\n",
       "</div>"
      ],
      "text/plain": [
       "  Complex PDB Antibody PDB     Antibody Antigen PDB                   Antigen  \\\n",
       "0   1AHW_AB:C      1FGN_LH      Fab 5g9      1TFH_A             Tissue factor   \n",
       "1   1DQJ_AB:C      1DQQ_CD  Fab Hyhel63       3LZT_              HEW lysozyme   \n",
       "2   1E6J_HL:P      1E6O_HL          Fab       1A43_  HIV-1 capsid protein p24   \n",
       "3   1JPS_HL:T      1JPT_HL    Fab D3H44      1TFH_B             Tissue factor   \n",
       "4   1MLC_AB:E      1MLB_AB      Fab44.1       3LZT_              HEW lysozyme   \n",
       "\n",
       "   I-RMSD (Å)  ΔASA (Å2) Category  New Kd (nM) ΔG (kcal/mol)  \n",
       "0        0.69     1899.0    Rigid  NaN     NaN        -11.55  \n",
       "1        0.75     1765.0    Rigid  NaN     NaN        -11.67  \n",
       "2        1.05     1245.0    Rigid  NaN     NaN        -10.28  \n",
       "3        0.51     1852.0    Rigid  NaN     NaN        -13.64  \n",
       "4        0.60     1392.0    Rigid  NaN     NaN         -9.61  "
      ]
     },
     "execution_count": 56,
     "metadata": {},
     "output_type": "execute_result"
    }
   ],
   "source": [
    "summary_df = pd.read_excel(summary_path)\n",
    "print(\"There are {} ab-ag cases\".format(len(summary_df)))\n",
    "summary_df.head()"
   ]
  },
  {
   "cell_type": "markdown",
   "id": "37d3687e",
   "metadata": {},
   "source": [
    "### Remove all entires without binding affinity"
   ]
  },
  {
   "cell_type": "code",
   "execution_count": 59,
   "id": "2e0dc4c6",
   "metadata": {},
   "outputs": [
    {
     "name": "stdout",
     "output_type": "stream",
     "text": [
      "There are 42 ab-ag cases with affinity\n"
     ]
    },
    {
     "data": {
      "text/html": [
       "<div>\n",
       "<style scoped>\n",
       "    .dataframe tbody tr th:only-of-type {\n",
       "        vertical-align: middle;\n",
       "    }\n",
       "\n",
       "    .dataframe tbody tr th {\n",
       "        vertical-align: top;\n",
       "    }\n",
       "\n",
       "    .dataframe thead th {\n",
       "        text-align: right;\n",
       "    }\n",
       "</style>\n",
       "<table border=\"1\" class=\"dataframe\">\n",
       "  <thead>\n",
       "    <tr style=\"text-align: right;\">\n",
       "      <th></th>\n",
       "      <th>Complex PDB</th>\n",
       "      <th>Antibody PDB</th>\n",
       "      <th>Antibody</th>\n",
       "      <th>Antigen PDB</th>\n",
       "      <th>Antigen</th>\n",
       "      <th>I-RMSD (Å)</th>\n",
       "      <th>ΔASA (Å2)</th>\n",
       "      <th>Category</th>\n",
       "      <th>New</th>\n",
       "      <th>Kd (nM)</th>\n",
       "      <th>ΔG (kcal/mol)</th>\n",
       "    </tr>\n",
       "  </thead>\n",
       "  <tbody>\n",
       "    <tr>\n",
       "      <th>5</th>\n",
       "      <td>1S78_DC:A</td>\n",
       "      <td>1L7I_HL</td>\n",
       "      <td>pertuzumab (Perjeta)</td>\n",
       "      <td>2A91_A</td>\n",
       "      <td>ErbB2</td>\n",
       "      <td>1.13</td>\n",
       "      <td>2175.1</td>\n",
       "      <td>Rigid</td>\n",
       "      <td>X</td>\n",
       "      <td>500</td>\n",
       "      <td>-8.45</td>\n",
       "    </tr>\n",
       "    <tr>\n",
       "      <th>8</th>\n",
       "      <td>2DD8_HL:S</td>\n",
       "      <td>2G75_AB</td>\n",
       "      <td>m396</td>\n",
       "      <td>2GHV_E</td>\n",
       "      <td>SARS spike</td>\n",
       "      <td>2.19</td>\n",
       "      <td>1709.7</td>\n",
       "      <td>Medium</td>\n",
       "      <td>X</td>\n",
       "      <td>20</td>\n",
       "      <td>-10.5</td>\n",
       "    </tr>\n",
       "    <tr>\n",
       "      <th>10</th>\n",
       "      <td>2FJG_HL:VW</td>\n",
       "      <td>2FJF_HL</td>\n",
       "      <td>G6</td>\n",
       "      <td>4KZN_AB</td>\n",
       "      <td>VEGF</td>\n",
       "      <td>2.51</td>\n",
       "      <td>1678.2</td>\n",
       "      <td>Difficult</td>\n",
       "      <td>X</td>\n",
       "      <td>20</td>\n",
       "      <td>-10.92</td>\n",
       "    </tr>\n",
       "    <tr>\n",
       "      <th>13</th>\n",
       "      <td>2VXT_HL:I</td>\n",
       "      <td>2VXU_HL</td>\n",
       "      <td>Murine reference antibody 125-2H FAB</td>\n",
       "      <td>1J0S_A(6)</td>\n",
       "      <td>Interleukin-18</td>\n",
       "      <td>1.32</td>\n",
       "      <td>2163.0</td>\n",
       "      <td>Rigid</td>\n",
       "      <td>NaN</td>\n",
       "      <td>0.533</td>\n",
       "      <td>-12.65</td>\n",
       "    </tr>\n",
       "    <tr>\n",
       "      <th>14</th>\n",
       "      <td>2W9E_HL:A</td>\n",
       "      <td>2W9D_HL</td>\n",
       "      <td>ICSM 18 FAB fragment</td>\n",
       "      <td>1QM1_A</td>\n",
       "      <td>Prion protein fragment</td>\n",
       "      <td>1.13</td>\n",
       "      <td>1677.0</td>\n",
       "      <td>Rigid</td>\n",
       "      <td>NaN</td>\n",
       "      <td>0.13</td>\n",
       "      <td>-13.49</td>\n",
       "    </tr>\n",
       "  </tbody>\n",
       "</table>\n",
       "</div>"
      ],
      "text/plain": [
       "   Complex PDB Antibody PDB                              Antibody Antigen PDB  \\\n",
       "5    1S78_DC:A      1L7I_HL                  pertuzumab (Perjeta)      2A91_A   \n",
       "8    2DD8_HL:S      2G75_AB                                  m396      2GHV_E   \n",
       "10  2FJG_HL:VW      2FJF_HL                                    G6     4KZN_AB   \n",
       "13  2VXT_HL:I       2VXU_HL  Murine reference antibody 125-2H FAB   1J0S_A(6)   \n",
       "14  2W9E_HL:A       2W9D_HL                  ICSM 18 FAB fragment      1QM1_A   \n",
       "\n",
       "                   Antigen  I-RMSD (Å)  ΔASA (Å2)   Category  New Kd (nM)  \\\n",
       "5                    ErbB2        1.13     2175.1      Rigid    X     500   \n",
       "8               SARS spike        2.19     1709.7     Medium    X      20   \n",
       "10                    VEGF        2.51     1678.2  Difficult    X      20   \n",
       "13          Interleukin-18        1.32     2163.0      Rigid  NaN   0.533   \n",
       "14  Prion protein fragment        1.13     1677.0      Rigid  NaN    0.13   \n",
       "\n",
       "   ΔG (kcal/mol)  \n",
       "5          -8.45  \n",
       "8          -10.5  \n",
       "10        -10.92  \n",
       "13        -12.65  \n",
       "14        -13.49  "
      ]
     },
     "execution_count": 59,
     "metadata": {},
     "output_type": "execute_result"
    }
   ],
   "source": [
    "summary_df = summary_df.replace(\" \", None)\n",
    "summary_df = summary_df[summary_df[\"ΔG (kcal/mol)\"].notnull() & summary_df[\"Kd (nM)\"].notnull()]\n",
    "\n",
    "print(\"There are {} ab-ag cases with affinity\".format(len(summary_df)))\n",
    "summary_df.head()"
   ]
  },
  {
   "cell_type": "markdown",
   "id": "3a3340b0",
   "metadata": {},
   "source": [
    "### Correlation between Kd and Delta G Values"
   ]
  },
  {
   "cell_type": "code",
   "execution_count": 58,
   "id": "bd8a1b72",
   "metadata": {},
   "outputs": [
    {
     "data": {
      "text/plain": [
       "0.4712668360070019"
      ]
     },
     "execution_count": 58,
     "metadata": {},
     "output_type": "execute_result"
    }
   ],
   "source": [
    "summary_df[\"Kd (nM)\"].astype(float).corr(summary_df[\"ΔG (kcal/mol)\"].astype(float))"
   ]
  },
  {
   "cell_type": "code",
   "execution_count": null,
   "id": "722cab7d",
   "metadata": {},
   "outputs": [],
   "source": []
  }
 ],
 "metadata": {
  "kernelspec": {
   "display_name": "ag_affinity",
   "language": "python",
   "name": "ag_affinity"
  },
  "language_info": {
   "codemirror_mode": {
    "name": "ipython",
    "version": 3
   },
   "file_extension": ".py",
   "mimetype": "text/x-python",
   "name": "python",
   "nbconvert_exporter": "python",
   "pygments_lexer": "ipython3",
   "version": "3.8.10"
  }
 },
 "nbformat": 4,
 "nbformat_minor": 5
}
