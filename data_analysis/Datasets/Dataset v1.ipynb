{
 "cells": [
  {
   "cell_type": "markdown",
   "id": "d79cbc1a",
   "metadata": {},
   "source": [
    "# Dataset Version 1\n",
    "\n",
    "This notebook generates a dataframe containing information about data first version dataset:\n",
    "\n",
    "- Overlap of AbDb data (filtered and enriched abag data) with SAbDab data (affinity values for conformtions) "
   ]
  },
  {
   "cell_type": "code",
   "execution_count": 1,
   "id": "da299287",
   "metadata": {},
   "outputs": [],
   "source": [
    "import os\n",
    "import pandas as pd\n",
    "import warnings\n",
    "from tqdm import tqdm_notebook\n",
    "\n",
    "warnings.filterwarnings(\"ignore\")\n",
    "from abag_affinity.utils.config import read_yaml, get_data_paths"
   ]
  },
  {
   "cell_type": "code",
   "execution_count": 2,
   "id": "4f7cee0f",
   "metadata": {},
   "outputs": [],
   "source": [
    "config = read_yaml(\"../../abag_affinity/config.yaml\")\n",
    "\n",
    "summary_path, pdb_path = get_data_paths(config, \"SAbDab\")\n",
    "summary_df = pd.read_csv(summary_path, sep=\"\\t\")\n",
    "\n",
    "abdb_summary_path, abdb_pdb_path = get_data_paths(config, \"AbDb\")\n",
    "abdb_pdb_ids = os.listdir(abdb_pdb_path)\n",
    "abdb_pdb_ids = set([ pdb_id.split(\"_\")[0].lower() for pdb_id in abdb_pdb_ids])"
   ]
  },
  {
   "cell_type": "code",
   "execution_count": 3,
   "id": "d0a207df",
   "metadata": {},
   "outputs": [],
   "source": [
    "# get overlap using pdb ids\n",
    "sabdab_pdb_ids = set(summary_df[\"pdb\"].unique())\n",
    "overlapping_ids = abdb_pdb_ids.intersection(sabdab_pdb_ids)"
   ]
  },
  {
   "cell_type": "markdown",
   "id": "867657af",
   "metadata": {},
   "source": [
    "#### Incorporate redundant files"
   ]
  },
  {
   "cell_type": "code",
   "execution_count": 4,
   "id": "c2c9a524",
   "metadata": {},
   "outputs": [],
   "source": [
    "# load information on redundant AbDb files\n",
    "redunant_file_path = os.path.join(config[\"DATA\"][\"path\"], config[\"DATA\"][\"AbDb\"][\"folder_path\"], \"Redundant_LH_Protein_Martin.txt\")\n",
    "with open(redunant_file_path) as f:\n",
    "    lines = f.readlines()\n",
    "    \n",
    "redundant_ids = {}\n",
    "all_ids = set()\n",
    "for line in lines:\n",
    "    pdb_ids = line.split(\",\")\n",
    "    pdb_ids = [pdb_id.strip().lower().split(\"_\")[0] for pdb_id in pdb_ids]\n",
    "    pdb_ids = [pdb_id for pdb_id in pdb_ids if pdb_id.strip() != \"\"]\n",
    "    all_ids.update(pdb_ids)\n",
    "    for i, pdb_id in enumerate(pdb_ids):\n",
    "        redundant_ids[pdb_id] = pdb_ids"
   ]
  },
  {
   "cell_type": "code",
   "execution_count": 5,
   "id": "fead2152",
   "metadata": {},
   "outputs": [],
   "source": [
    "for pdb_id in overlapping_ids:\n",
    "    for redundant_id in redundant_ids[pdb_id]:\n",
    "        all_ids.discard(redundant_id)"
   ]
  },
  {
   "cell_type": "code",
   "execution_count": 6,
   "id": "e8536d3a",
   "metadata": {},
   "outputs": [],
   "source": [
    "add_pdbs = set()\n",
    "\n",
    "remaining_in_sabdab = all_ids.intersection(sabdab_pdb_ids)\n",
    "while len(remaining_in_sabdab) > 0:\n",
    "    pdb_id = remaining_in_sabdab.pop()\n",
    "    add_pdbs.add(pdb_id)\n",
    "    for redundant_id in redundant_ids[pdb_id]:\n",
    "        remaining_in_sabdab.discard(redundant_id)"
   ]
  },
  {
   "cell_type": "code",
   "execution_count": 7,
   "id": "1c9115aa",
   "metadata": {},
   "outputs": [
    {
     "data": {
      "text/plain": [
       "set()"
      ]
     },
     "execution_count": 7,
     "metadata": {},
     "output_type": "execute_result"
    }
   ],
   "source": [
    "all_ids.intersection(sabdab_pdb_ids)"
   ]
  },
  {
   "cell_type": "code",
   "execution_count": 8,
   "id": "9b30bdac",
   "metadata": {},
   "outputs": [],
   "source": [
    "# download extra pdb files from AbDb database\n",
    "import urllib.request \n",
    "\n",
    "url = \"http://www.abybank.org/abdb/Data/LH_Protein_Martin/{}_1.pdb\"\n",
    "\n",
    "for pdb_id in add_pdbs:\n",
    "    filepath = os.path.join(abdb_pdb_path, pdb_id + \"_1.pdb\")\n",
    "    if os.path.exists(filepath):\n",
    "        print(pdb, \"already exists\")\n",
    "        continue\n",
    "    try:\n",
    "        urllib.request.urlretrieve(url.format(pdb_id.upper()), filepath)\n",
    "    except:\n",
    "        print(pdb_id)\n",
    "    print(\"Downloaded\", pdb_id)"
   ]
  },
  {
   "cell_type": "code",
   "execution_count": 9,
   "id": "3abfde58",
   "metadata": {},
   "outputs": [],
   "source": [
    "overlapping_ids.update(add_pdbs)"
   ]
  },
  {
   "cell_type": "code",
   "execution_count": 10,
   "id": "f7cc6941",
   "metadata": {},
   "outputs": [],
   "source": [
    "dataset = summary_df[summary_df[\"pdb\"].isin(overlapping_ids)].copy()"
   ]
  },
  {
   "cell_type": "code",
   "execution_count": 11,
   "id": "cb98e37b",
   "metadata": {},
   "outputs": [],
   "source": [
    "import math\n",
    "def get_chains(row):\n",
    "    pdb_id = row[\"pdb\"]\n",
    "    pdb_id_rows = dataset[dataset[\"pdb\"] == pdb_id]\n",
    "    \n",
    "    antibody_chains = []\n",
    "    antigen_chains = []\n",
    "    \n",
    "    for i, pdb_row in pdb_id_rows.iterrows():\n",
    "        antibody_chains.append(pdb_row[\"Hchain\"])\n",
    "        antibody_chains.append(pdb_row[\"Lchain\"])\n",
    "        \n",
    "        if isinstance(pdb_row[\"antigen_chain\"], str):\n",
    "            if \"|\" in pdb_row[\"antigen_chain\"]:\n",
    "                for chain_id in pdb_row[\"antigen_chain\"].split(\"|\"):\n",
    "                    antigen_chains.append(chain_id.strip())\n",
    "\n",
    "            else:\n",
    "                antigen_chains.append(pdb_row[\"antigen_chain\"])\n",
    "    \n",
    "    return antibody_chains, antigen_chains"
   ]
  },
  {
   "cell_type": "code",
   "execution_count": 12,
   "id": "c667f86e",
   "metadata": {},
   "outputs": [],
   "source": [
    "dataset[\"antibody_chains\"], dataset[\"antigen_chains\"] = zip(*dataset.apply(lambda row: get_chains(row), axis=1))"
   ]
  },
  {
   "cell_type": "code",
   "execution_count": 13,
   "id": "a97e7dca",
   "metadata": {},
   "outputs": [],
   "source": [
    "import numpy as np\n",
    "gas_constant =  8.31446261815324 # 0.0821\n",
    "\n",
    "def calc_temp(row):\n",
    "    kd = row[\"affinity\"]\n",
    "    delta_g = row[\"delta_g\"] * 4184 # convert kcal to joule \n",
    "    if kd == 0 or math.isnan(kd) or math.isnan(delta_g):\n",
    "        return None\n",
    "\n",
    "    return round((delta_g / (gas_constant * np.log(kd))) - 273.15) # convert kelvin to celsius\n",
    "\n",
    "def calc_delta_g(row):\n",
    "    delta_g = gas_constant * row[\"temperature_kelvin\"] * np.log(row[\"affinity\"])\n",
    "    return delta_g / 4184 # convert to kcal"
   ]
  },
  {
   "cell_type": "code",
   "execution_count": 14,
   "id": "4e4420e5",
   "metadata": {},
   "outputs": [],
   "source": [
    "dataset[\"calculated_temp\"] = dataset.apply(lambda row: calc_temp(row), axis=1)\n",
    "dataset = dataset[~dataset[\"calculated_temp\"].isnull()]"
   ]
  },
  {
   "cell_type": "code",
   "execution_count": 15,
   "id": "5a818d9a",
   "metadata": {},
   "outputs": [],
   "source": [
    "# add pdb file name from AbDb\n",
    "\n",
    "abdb_pdb_path = os.path.join(config[\"DATA\"][\"path\"], config[\"DATA\"][\"AbDb\"][\"folder_path\"], config[\"DATA\"][\"AbDb\"][\"pdb_path\"])\n",
    "\n",
    "pdb_files = os.listdir(abdb_pdb_path)\n",
    "\n",
    "id2file = {file.split(\"_\")[0].lower(): file for file in pdb_files}"
   ]
  },
  {
   "cell_type": "code",
   "execution_count": 16,
   "id": "44e133e1",
   "metadata": {},
   "outputs": [],
   "source": [
    "dataset[\"abdb_file\"] = dataset[\"pdb\"].apply(lambda pdb_id: id2file[pdb_id])"
   ]
  },
  {
   "cell_type": "code",
   "execution_count": 17,
   "id": "934e21d0",
   "metadata": {},
   "outputs": [],
   "source": [
    "# clean dataset\n",
    "dataset.drop_duplicates(\"pdb\", inplace=True)\n",
    "dataset = dataset.reset_index().drop(\"index\", axis=1)\n",
    "dataset = dataset[[\"pdb\", \"abdb_file\", \"antigen_type\", \"antibody_chains\", \"antigen_chains\", 'affinity_method', 'temperature', \"calculated_temp\", 'affinity', 'delta_g', ]]"
   ]
  },
  {
   "cell_type": "markdown",
   "id": "a85f8360",
   "metadata": {},
   "source": [
    "### Mark testset and delete redundant files\n",
    "\n",
    "Use Antibody Benchmark as the final testset --> Remove redundant files."
   ]
  },
  {
   "cell_type": "code",
   "execution_count": 18,
   "id": "fb5317b7",
   "metadata": {},
   "outputs": [],
   "source": [
    "dataset[\"test\"] = False"
   ]
  },
  {
   "cell_type": "code",
   "execution_count": 19,
   "id": "a2f8f01b",
   "metadata": {},
   "outputs": [
    {
     "name": "stdout",
     "output_type": "stream",
     "text": [
      "Numer of available benchmark structures >>> 51\n"
     ]
    }
   ],
   "source": [
    "benchmark_summary_path, benchmark_pdb_path = get_data_paths(config, \"AntibodyBenchmark\")\n",
    "benchmark_summary_df = pd.read_excel(benchmark_summary_path)\n",
    "benchmark_summary_df = benchmark_summary_df[~benchmark_summary_df[\"ΔG (kcal/mol)\"].isna() & (benchmark_summary_df[\"ΔG (kcal/mol)\"] != \" \")]\n",
    "benchmark_summary_df.reset_index(inplace=True).drop(\"index\", axis=1)\n",
    "print(\"Numer of available benchmark structures >>>\", len(benchmark_summary_df))"
   ]
  },
  {
   "cell_type": "code",
   "execution_count": 20,
   "id": "d2708b86",
   "metadata": {},
   "outputs": [
    {
     "name": "stdout",
     "output_type": "stream",
     "text": [
      "Number of identical PDB benchmark_pdb_ids 32\n"
     ]
    }
   ],
   "source": [
    "benchmark_pdb_ids = set([ pdb_id.split(\"_\")[0].lower() for pdb_id in benchmark_summary_df[\"Complex PDB\"].unique() ])\n",
    "overlapping_ids = benchmark_pdb_ids.intersection(set(dataset[\"pdb\"].unique()))\n",
    "print(\"Number of identical PDB benchmark_pdb_ids\", len(overlapping_ids))"
   ]
  },
  {
   "cell_type": "code",
   "execution_count": 21,
   "id": "732d74f1",
   "metadata": {},
   "outputs": [],
   "source": [
    "# Set these strucutres as testset strucutres in the dataset\n",
    "dataset[\"test\"] = dataset[\"pdb\"].apply(lambda pdb_id: pdb_id in benchmark_pdb_ids)"
   ]
  },
  {
   "cell_type": "code",
   "execution_count": 22,
   "id": "9b685eee",
   "metadata": {},
   "outputs": [
    {
     "name": "stdout",
     "output_type": "stream",
     "text": [
      "Remaining Benchmark Entries 19\n"
     ]
    }
   ],
   "source": [
    "benchmark_summary_df[\"pdb\"] = benchmark_summary_df[\"Complex PDB\"].apply(lambda pdb_id: pdb_id.split(\"_\")[0].lower() )\n",
    "remaining_benchmark = benchmark_summary_df[~benchmark_summary_df[\"pdb\"].isin(overlapping_ids)].copy()\n",
    "print(\"Remaining Benchmark Entries\", len(remaining_benchmark.isin(overlapping_ids)))"
   ]
  },
  {
   "cell_type": "code",
   "execution_count": 23,
   "id": "addf4485",
   "metadata": {},
   "outputs": [],
   "source": [
    "# load information on redundant AbDb files\n",
    "redunant_file_path = os.path.join(config[\"DATA\"][\"path\"], config[\"DATA\"][\"AbDb\"][\"folder_path\"], \"Redundant_LH_Protein_Martin.txt\")\n",
    "with open(redunant_file_path) as f:\n",
    "    lines = f.readlines()\n",
    "    \n",
    "redundant_ids = {}\n",
    "all_ids = set()\n",
    "for line in lines:\n",
    "    pdb_ids = line.split(\",\")\n",
    "    pdb_ids = [pdb_id.strip().lower().split(\"_\")[0] for pdb_id in pdb_ids]\n",
    "    pdb_ids = [pdb_id for pdb_id in pdb_ids if pdb_id.strip() != \"\"]\n",
    "    all_ids.update(pdb_ids)\n",
    "    for i, pdb_id in enumerate(pdb_ids):\n",
    "        redundant_ids[pdb_id] = pdb_ids"
   ]
  },
  {
   "cell_type": "code",
   "execution_count": 24,
   "id": "8fe23174",
   "metadata": {},
   "outputs": [
    {
     "name": "stdout",
     "output_type": "stream",
     "text": [
      "Number of found PDB benchmark_pdb_ids in redundant list >>> 7\n",
      "Number of found pdb_ids in that are also in dataset v1 >>> 0\n",
      "Number of found pdb_ids in that are also in SAbDab >>> 1\n",
      "Number of found pdb_ids in that are also in AbDb >>> 7\n",
      "Number of found pdb_ids in that are also in AbDb and SAbDab >>> 1\n",
      "Number of found pdb_ids in neither in AbDb and SAbDab >>> 0\n"
     ]
    }
   ],
   "source": [
    "benchmark_pdb_ids = set(remaining_benchmark[\"pdb\"].unique())\n",
    "overlapping_ids = benchmark_pdb_ids.intersection(all_ids)\n",
    "print(\"Number of found PDB benchmark_pdb_ids in redundant list >>>\", len(overlapping_ids))\n",
    "print(\"Number of found pdb_ids in that are also in dataset v1 >>>\", len(overlapping_ids.intersection(set(dataset[\"pdb\"].unique()))))\n",
    "print(\"Number of found pdb_ids in that are also in SAbDab >>>\", len(overlapping_ids.intersection(sabdab_pdb_ids)))\n",
    "print(\"Number of found pdb_ids in that are also in AbDb >>>\", len(overlapping_ids.intersection(abdb_pdb_ids)))\n",
    "print(\"Number of found pdb_ids in that are also in AbDb and SAbDab >>>\", len(overlapping_ids.intersection(abdb_pdb_ids).intersection(sabdab_pdb_ids)))\n",
    "print(\"Number of found pdb_ids in neither in AbDb and SAbDab >>>\", len(overlapping_ids - overlapping_ids.intersection(abdb_pdb_ids).union(overlapping_ids.intersection((sabdab_pdb_ids)))))"
   ]
  },
  {
   "cell_type": "markdown",
   "id": "42a57898",
   "metadata": {},
   "source": [
    "One strucutre is in AbDb but not in SAbDab - should be included in the dataset as well"
   ]
  },
  {
   "cell_type": "code",
   "execution_count": 25,
   "id": "cc5f8391",
   "metadata": {},
   "outputs": [
    {
     "data": {
      "text/html": [
       "<div>\n",
       "<style scoped>\n",
       "    .dataframe tbody tr th:only-of-type {\n",
       "        vertical-align: middle;\n",
       "    }\n",
       "\n",
       "    .dataframe tbody tr th {\n",
       "        vertical-align: top;\n",
       "    }\n",
       "\n",
       "    .dataframe thead th {\n",
       "        text-align: right;\n",
       "    }\n",
       "</style>\n",
       "<table border=\"1\" class=\"dataframe\">\n",
       "  <thead>\n",
       "    <tr style=\"text-align: right;\">\n",
       "      <th></th>\n",
       "      <th>pdb</th>\n",
       "      <th>Hchain</th>\n",
       "      <th>Lchain</th>\n",
       "      <th>model</th>\n",
       "      <th>antigen_chain</th>\n",
       "      <th>antigen_type</th>\n",
       "      <th>antigen_het_name</th>\n",
       "      <th>antigen_name</th>\n",
       "      <th>short_header</th>\n",
       "      <th>date</th>\n",
       "      <th>...</th>\n",
       "      <th>scfv</th>\n",
       "      <th>engineered</th>\n",
       "      <th>heavy_subclass</th>\n",
       "      <th>light_subclass</th>\n",
       "      <th>light_ctype</th>\n",
       "      <th>affinity</th>\n",
       "      <th>delta_g</th>\n",
       "      <th>affinity_method</th>\n",
       "      <th>temperature</th>\n",
       "      <th>pmid</th>\n",
       "    </tr>\n",
       "  </thead>\n",
       "  <tbody>\n",
       "    <tr>\n",
       "      <th>25</th>\n",
       "      <td>4gxu</td>\n",
       "      <td>M</td>\n",
       "      <td>N</td>\n",
       "      <td>0</td>\n",
       "      <td>A</td>\n",
       "      <td>protein</td>\n",
       "      <td>NaN</td>\n",
       "      <td>hemagglutinin ha1 chain</td>\n",
       "      <td>VIRAL PROTEIN/IMMUNE SYSTEM</td>\n",
       "      <td>09/04/12</td>\n",
       "      <td>...</td>\n",
       "      <td>False</td>\n",
       "      <td>True</td>\n",
       "      <td>IGHV3</td>\n",
       "      <td>IGLV1</td>\n",
       "      <td>Lambda</td>\n",
       "      <td>6.240000e-09</td>\n",
       "      <td>NaN</td>\n",
       "      <td>SPR</td>\n",
       "      <td>NaN</td>\n",
       "      <td>23236279</td>\n",
       "    </tr>\n",
       "  </tbody>\n",
       "</table>\n",
       "<p>1 rows × 30 columns</p>\n",
       "</div>"
      ],
      "text/plain": [
       "     pdb Hchain Lchain  model antigen_chain antigen_type antigen_het_name  \\\n",
       "25  4gxu      M      N      0             A      protein              NaN   \n",
       "\n",
       "               antigen_name                 short_header      date  ...  \\\n",
       "25  hemagglutinin ha1 chain  VIRAL PROTEIN/IMMUNE SYSTEM  09/04/12  ...   \n",
       "\n",
       "     scfv engineered heavy_subclass light_subclass light_ctype      affinity  \\\n",
       "25  False       True          IGHV3          IGLV1      Lambda  6.240000e-09   \n",
       "\n",
       "    delta_g affinity_method temperature      pmid  \n",
       "25      NaN             SPR         NaN  23236279  \n",
       "\n",
       "[1 rows x 30 columns]"
      ]
     },
     "execution_count": 25,
     "metadata": {},
     "output_type": "execute_result"
    }
   ],
   "source": [
    "pdb_ids = list(overlapping_ids.intersection(abdb_pdb_ids).intersection(sabdab_pdb_ids))\n",
    "summary_df[summary_df[\"pdb\"].isin(pdb_ids)].head(1)"
   ]
  },
  {
   "cell_type": "code",
   "execution_count": 26,
   "id": "abed01cf",
   "metadata": {},
   "outputs": [
    {
     "data": {
      "text/html": [
       "<div>\n",
       "<style scoped>\n",
       "    .dataframe tbody tr th:only-of-type {\n",
       "        vertical-align: middle;\n",
       "    }\n",
       "\n",
       "    .dataframe tbody tr th {\n",
       "        vertical-align: top;\n",
       "    }\n",
       "\n",
       "    .dataframe thead th {\n",
       "        text-align: right;\n",
       "    }\n",
       "</style>\n",
       "<table border=\"1\" class=\"dataframe\">\n",
       "  <thead>\n",
       "    <tr style=\"text-align: right;\">\n",
       "      <th></th>\n",
       "      <th>index</th>\n",
       "      <th>Complex PDB</th>\n",
       "      <th>Antibody PDB</th>\n",
       "      <th>Antibody</th>\n",
       "      <th>Antigen PDB</th>\n",
       "      <th>Antigen</th>\n",
       "      <th>I-RMSD (Å)</th>\n",
       "      <th>ΔASA (Å2)</th>\n",
       "      <th>Category</th>\n",
       "      <th>New</th>\n",
       "      <th>Kd (nM)</th>\n",
       "      <th>ΔG (kcal/mol)</th>\n",
       "      <th>pdb</th>\n",
       "    </tr>\n",
       "  </thead>\n",
       "  <tbody>\n",
       "    <tr>\n",
       "      <th>30</th>\n",
       "      <td>36</td>\n",
       "      <td>4GXU_MN:ABEFCD</td>\n",
       "      <td>4GXV_HL</td>\n",
       "      <td>1F1 antibody</td>\n",
       "      <td>1RUZ_HIJKLM</td>\n",
       "      <td>1918 H1 Hemagglutinin</td>\n",
       "      <td>0.78</td>\n",
       "      <td>1830.0</td>\n",
       "      <td>Rigid</td>\n",
       "      <td>NaN</td>\n",
       "      <td>6.2</td>\n",
       "      <td>-11.2</td>\n",
       "      <td>4gxu</td>\n",
       "    </tr>\n",
       "  </tbody>\n",
       "</table>\n",
       "</div>"
      ],
      "text/plain": [
       "    index      Complex PDB Antibody PDB      Antibody  Antigen PDB  \\\n",
       "30     36  4GXU_MN:ABEFCD       4GXV_HL  1F1 antibody  1RUZ_HIJKLM   \n",
       "\n",
       "                  Antigen  I-RMSD (Å)  ΔASA (Å2) Category  New Kd (nM)  \\\n",
       "30  1918 H1 Hemagglutinin        0.78     1830.0    Rigid  NaN     6.2   \n",
       "\n",
       "   ΔG (kcal/mol)   pdb  \n",
       "30         -11.2  4gxu  "
      ]
     },
     "execution_count": 26,
     "metadata": {},
     "output_type": "execute_result"
    }
   ],
   "source": [
    "benchmark_summary_df[benchmark_summary_df[\"pdb\"].isin(pdb_ids)].head(1)"
   ]
  },
  {
   "cell_type": "markdown",
   "id": "6d411537",
   "metadata": {},
   "source": [
    "There is no delta G and no temperature value available --> We can use the information from the benchmark paper and add this strucutre to the dataset.v1"
   ]
  },
  {
   "cell_type": "code",
   "execution_count": 27,
   "id": "ce7e595b",
   "metadata": {},
   "outputs": [],
   "source": [
    "pdb_id = pdb_ids[0]\n",
    "new_entry = {\n",
    "            \"pdb\": pdb_id,\n",
    "            \"abdb_file\": id2file[pdb_id],\n",
    "            \"antigen_type\": \"protein\",\n",
    "            \"antibody_chains\": [\"L\", \"H\"],\n",
    "            \"antigen_chains\": \"K\", # manuel extracted\n",
    "            \"affinity_method\": \"SPR\", # manuel extracted\n",
    "            \"temperature\": np.nan,\n",
    "            \"calculated_temp\": calc_temp({\"affinity\": 6.24e-09, \"delta_g\": -11.2}), # manuel extracted\n",
    "            \"affinity\": 6.24e-09, # manuel extracted\n",
    "            \"delta_g\":  -11.2, # manuel extracted\n",
    "            \"test\": True\n",
    "}\n",
    "dataset = dataset.append(new_entry, ignore_index=True)"
   ]
  },
  {
   "cell_type": "markdown",
   "id": "0fe612c5",
   "metadata": {},
   "source": [
    "#### Add additional strucutures from AbDb\n",
    "Add the 6 Strucutures that are also present in AbDb and use the affinitx value of the benchmark dataset"
   ]
  },
  {
   "cell_type": "code",
   "execution_count": 28,
   "id": "1a2d4782",
   "metadata": {},
   "outputs": [],
   "source": [
    "pdb_antigen_chain_names = {\n",
    "    \"1ahw\": [\"F\"],\n",
    "    \"1s78\": [\"A\"],\n",
    "    \"3u7y\": [\"G\"],\n",
    "    \"4gxu\": [\"K\"],\n",
    "    \"5o14\": [\"A\"],\n",
    "    \"5y9j\": [\"A\"],\n",
    "    \"4fp8\": [\"A\"]\n",
    "}\n",
    "\n",
    "for i, row in remaining_benchmark[remaining_benchmark[\"pdb\"].isin(overlapping_ids.intersection(abdb_pdb_ids))].iterrows():\n",
    "    new_entry = {\n",
    "        \"pdb\": row[\"pdb\"],\n",
    "        \"abdb_file\": id2file[row[\"pdb\"]],\n",
    "        \"antigen_type\": \"protein\",\n",
    "        \"antibody_chains\": [\"L\", \"H\"],\n",
    "        \"antigen_chains\": pdb_antigen_chain_names[row[\"pdb\"]],\n",
    "        \"affinity_method\": \"-\",\n",
    "        \"temperature\": np.nan,\n",
    "        \"calculated_temp\": calc_temp({\"affinity\": row[\"Kd (nM)\"] * 1e-9, \"delta_g\": row[\"ΔG (kcal/mol)\"]}),\n",
    "        \"affinity\": row[\"Kd (nM)\"] * 1e-9,\n",
    "        \"delta_g\":  row[\"ΔG (kcal/mol)\"],\n",
    "        \"test\": True\n",
    "    }\n",
    "    dataset = dataset.append(new_entry, ignore_index=True)"
   ]
  },
  {
   "cell_type": "markdown",
   "id": "d1157f7e",
   "metadata": {},
   "source": [
    "#### Find data that is in SAbDab but not in dataset_v1"
   ]
  },
  {
   "cell_type": "code",
   "execution_count": 29,
   "id": "f65883e5",
   "metadata": {},
   "outputs": [
    {
     "data": {
      "text/plain": [
       "{'4pou', '5grj', '5hgg', '5kov', '5sv3'}"
      ]
     },
     "execution_count": 29,
     "metadata": {},
     "output_type": "execute_result"
    }
   ],
   "source": [
    "benchmark_pdb_ids = set([ pdb_id.split(\"_\")[0].lower() for pdb_id in benchmark_summary_df[\"Complex PDB\"].unique() ])\n",
    "missing = benchmark_pdb_ids - set(dataset[\"pdb\"].unique())\n",
    "\n",
    "missing_but_sabdab = missing.intersection(sabdab_pdb_ids)\n",
    "missing_but_sabdab"
   ]
  },
  {
   "cell_type": "code",
   "execution_count": 30,
   "id": "5b78c3da",
   "metadata": {},
   "outputs": [
    {
     "data": {
      "text/plain": [
       "set()"
      ]
     },
     "execution_count": 30,
     "metadata": {},
     "output_type": "execute_result"
    }
   ],
   "source": [
    "missing_sabdab_and_redundant = missing_but_sabdab.intersection(all_ids)\n",
    "missing_sabdab_and_redundant"
   ]
  },
  {
   "cell_type": "markdown",
   "id": "5b25dd2a",
   "metadata": {},
   "source": [
    "Seems like there are 8 cases that are not present in the overlap between AbDb and SAbDab but have affinity values in the benchmark dataset."
   ]
  },
  {
   "cell_type": "code",
   "execution_count": 31,
   "id": "0eaa23fa",
   "metadata": {},
   "outputs": [
    {
     "name": "stdout",
     "output_type": "stream",
     "text": [
      "There are still 12 cases not in dataset_v1\n"
     ]
    }
   ],
   "source": [
    "benchmark_pdb_ids = set([ pdb_id.split(\"_\")[0].lower() for pdb_id in benchmark_summary_df[\"Complex PDB\"].unique() ])\n",
    "overlapping_ids = benchmark_pdb_ids.intersection(set(dataset[\"pdb\"].unique()))\n",
    "print(\"There are still {} cases not in dataset_v1\".format(len(benchmark_summary_df) - len(overlapping_ids)))"
   ]
  },
  {
   "cell_type": "code",
   "execution_count": 32,
   "id": "dca083d6",
   "metadata": {},
   "outputs": [
    {
     "name": "stdout",
     "output_type": "stream",
     "text": [
      "Remaining Benchmark Entries 12\n"
     ]
    }
   ],
   "source": [
    "remaining_benchmark = remaining_benchmark[~remaining_benchmark[\"pdb\"].isin(overlapping_ids)]\n",
    "print(\"Remaining Benchmark Entries\", len(remaining_benchmark.isin(overlapping_ids)))"
   ]
  },
  {
   "cell_type": "code",
   "execution_count": 33,
   "id": "3235ca9d",
   "metadata": {},
   "outputs": [
    {
     "data": {
      "text/html": [
       "<div>\n",
       "<style scoped>\n",
       "    .dataframe tbody tr th:only-of-type {\n",
       "        vertical-align: middle;\n",
       "    }\n",
       "\n",
       "    .dataframe tbody tr th {\n",
       "        vertical-align: top;\n",
       "    }\n",
       "\n",
       "    .dataframe thead th {\n",
       "        text-align: right;\n",
       "    }\n",
       "</style>\n",
       "<table border=\"1\" class=\"dataframe\">\n",
       "  <thead>\n",
       "    <tr style=\"text-align: right;\">\n",
       "      <th></th>\n",
       "      <th>index</th>\n",
       "      <th>Complex PDB</th>\n",
       "      <th>Antibody PDB</th>\n",
       "      <th>Antibody</th>\n",
       "      <th>Antigen PDB</th>\n",
       "      <th>Antigen</th>\n",
       "      <th>I-RMSD (Å)</th>\n",
       "      <th>ΔASA (Å2)</th>\n",
       "      <th>Category</th>\n",
       "      <th>New</th>\n",
       "      <th>Kd (nM)</th>\n",
       "      <th>ΔG (kcal/mol)</th>\n",
       "      <th>pdb</th>\n",
       "    </tr>\n",
       "  </thead>\n",
       "  <tbody>\n",
       "    <tr>\n",
       "      <th>10</th>\n",
       "      <td>11</td>\n",
       "      <td>2I25_N:L</td>\n",
       "      <td>2I24_N</td>\n",
       "      <td>Shark single domain antigen receptor</td>\n",
       "      <td>3LZT</td>\n",
       "      <td>Lysozyme</td>\n",
       "      <td>1.21</td>\n",
       "      <td>1425.0</td>\n",
       "      <td>Rigid</td>\n",
       "      <td>NaN</td>\n",
       "      <td>NaN</td>\n",
       "      <td>-12.28</td>\n",
       "      <td>2i25</td>\n",
       "    </tr>\n",
       "    <tr>\n",
       "      <th>32</th>\n",
       "      <td>39</td>\n",
       "      <td>4POU_B:A</td>\n",
       "      <td>4POY_A</td>\n",
       "      <td>VHHmetal</td>\n",
       "      <td>6ETL_A</td>\n",
       "      <td>bovine RNase A</td>\n",
       "      <td>1.83</td>\n",
       "      <td>1313.3</td>\n",
       "      <td>Medium</td>\n",
       "      <td>X</td>\n",
       "      <td>157</td>\n",
       "      <td>-9.28</td>\n",
       "      <td>4pou</td>\n",
       "    </tr>\n",
       "    <tr>\n",
       "      <th>33</th>\n",
       "      <td>40</td>\n",
       "      <td>4Y7M_A:C</td>\n",
       "      <td>4QGY_A</td>\n",
       "      <td>nb25</td>\n",
       "      <td>4Y7L_A</td>\n",
       "      <td>E coli TssM CTD</td>\n",
       "      <td>0.84</td>\n",
       "      <td>1102.5</td>\n",
       "      <td>Rigid</td>\n",
       "      <td>X</td>\n",
       "      <td>1.61</td>\n",
       "      <td>-11.79</td>\n",
       "      <td>4y7m</td>\n",
       "    </tr>\n",
       "    <tr>\n",
       "      <th>35</th>\n",
       "      <td>42</td>\n",
       "      <td>5CBA_AB:E</td>\n",
       "      <td>5C2B_HL</td>\n",
       "      <td>3B4 scFv</td>\n",
       "      <td>4ZAI_A</td>\n",
       "      <td>CXCL13</td>\n",
       "      <td>1.49</td>\n",
       "      <td>1790.2</td>\n",
       "      <td>Medium</td>\n",
       "      <td>X</td>\n",
       "      <td>0.3715</td>\n",
       "      <td>-13.38</td>\n",
       "      <td>5cba</td>\n",
       "    </tr>\n",
       "    <tr>\n",
       "      <th>36</th>\n",
       "      <td>44</td>\n",
       "      <td>5GRJ_HL:A</td>\n",
       "      <td>4NKI_HL</td>\n",
       "      <td>avelumab scFv (Bavencio)</td>\n",
       "      <td>4Z18_A</td>\n",
       "      <td>PD-L1</td>\n",
       "      <td>1.14</td>\n",
       "      <td>1752.5</td>\n",
       "      <td>Rigid</td>\n",
       "      <td>X</td>\n",
       "      <td>0.0421</td>\n",
       "      <td>-14.15</td>\n",
       "      <td>5grj</td>\n",
       "    </tr>\n",
       "    <tr>\n",
       "      <th>37</th>\n",
       "      <td>45</td>\n",
       "      <td>5HGG_T:A</td>\n",
       "      <td>5HDO_A</td>\n",
       "      <td>Nb4</td>\n",
       "      <td>4FUD_A</td>\n",
       "      <td>uPA</td>\n",
       "      <td>0.84</td>\n",
       "      <td>1969.0</td>\n",
       "      <td>Medium</td>\n",
       "      <td>X</td>\n",
       "      <td>0.054</td>\n",
       "      <td>-14.01</td>\n",
       "      <td>5hgg</td>\n",
       "    </tr>\n",
       "    <tr>\n",
       "      <th>39</th>\n",
       "      <td>48</td>\n",
       "      <td>5KOV_C:AB</td>\n",
       "      <td>5I30_HL</td>\n",
       "      <td>PL-2 scFv</td>\n",
       "      <td>5KOU_AB</td>\n",
       "      <td>astrovirus 2 capsid protein spike domain</td>\n",
       "      <td>1.69</td>\n",
       "      <td>1735.0</td>\n",
       "      <td>Medium</td>\n",
       "      <td>X</td>\n",
       "      <td>1.87</td>\n",
       "      <td>-11.91</td>\n",
       "      <td>5kov</td>\n",
       "    </tr>\n",
       "    <tr>\n",
       "      <th>41</th>\n",
       "      <td>51</td>\n",
       "      <td>5SV3_C:D</td>\n",
       "      <td>5SV4_A</td>\n",
       "      <td>A3C8</td>\n",
       "      <td>1IFT_A</td>\n",
       "      <td>Ricin</td>\n",
       "      <td>0.57</td>\n",
       "      <td>1293.6</td>\n",
       "      <td>Rigid</td>\n",
       "      <td>X</td>\n",
       "      <td>0.0627</td>\n",
       "      <td>-13.92</td>\n",
       "      <td>5sv3</td>\n",
       "    </tr>\n",
       "    <tr>\n",
       "      <th>42</th>\n",
       "      <td>52</td>\n",
       "      <td>5VNW_D:A</td>\n",
       "      <td>5VNV_A</td>\n",
       "      <td>Nb.b201</td>\n",
       "      <td>1E78_A</td>\n",
       "      <td>human serum albumin</td>\n",
       "      <td>1.49</td>\n",
       "      <td>966.8</td>\n",
       "      <td>Medium</td>\n",
       "      <td>X</td>\n",
       "      <td>430</td>\n",
       "      <td>-8.68</td>\n",
       "      <td>5vnw</td>\n",
       "    </tr>\n",
       "    <tr>\n",
       "      <th>48</th>\n",
       "      <td>63</td>\n",
       "      <td>6CWG_B:A</td>\n",
       "      <td>6CWK_A</td>\n",
       "      <td>A9</td>\n",
       "      <td>1IFT_A</td>\n",
       "      <td>Ricin</td>\n",
       "      <td>0.76</td>\n",
       "      <td>1151.2</td>\n",
       "      <td>Rigid</td>\n",
       "      <td>X</td>\n",
       "      <td>0.1</td>\n",
       "      <td>-13.64</td>\n",
       "      <td>6cwg</td>\n",
       "    </tr>\n",
       "    <tr>\n",
       "      <th>49</th>\n",
       "      <td>64</td>\n",
       "      <td>6DBG_C:B</td>\n",
       "      <td>6DBA_A</td>\n",
       "      <td>R303</td>\n",
       "      <td>1H6T_A</td>\n",
       "      <td>Listeria monocytogenes internalin B</td>\n",
       "      <td>0.46</td>\n",
       "      <td>1525.2</td>\n",
       "      <td>Rigid</td>\n",
       "      <td>X</td>\n",
       "      <td>0.15</td>\n",
       "      <td>-13.4</td>\n",
       "      <td>6dbg</td>\n",
       "    </tr>\n",
       "    <tr>\n",
       "      <th>50</th>\n",
       "      <td>65</td>\n",
       "      <td>6EY6_I:AB</td>\n",
       "      <td>5FWO_A</td>\n",
       "      <td>nb130</td>\n",
       "      <td>6EY5_AB</td>\n",
       "      <td>P. gingivalis PorM</td>\n",
       "      <td>1.90</td>\n",
       "      <td>1806.8</td>\n",
       "      <td>Medium</td>\n",
       "      <td>X</td>\n",
       "      <td>8</td>\n",
       "      <td>-11.05</td>\n",
       "      <td>6ey6</td>\n",
       "    </tr>\n",
       "  </tbody>\n",
       "</table>\n",
       "</div>"
      ],
      "text/plain": [
       "    index Complex PDB Antibody PDB                              Antibody  \\\n",
       "10     11    2I25_N:L       2I24_N  Shark single domain antigen receptor   \n",
       "32     39    4POU_B:A       4POY_A                              VHHmetal   \n",
       "33     40    4Y7M_A:C       4QGY_A                                  nb25   \n",
       "35     42   5CBA_AB:E      5C2B_HL                              3B4 scFv   \n",
       "36     44   5GRJ_HL:A      4NKI_HL              avelumab scFv (Bavencio)   \n",
       "37     45    5HGG_T:A       5HDO_A                                   Nb4   \n",
       "39     48   5KOV_C:AB      5I30_HL                             PL-2 scFv   \n",
       "41     51    5SV3_C:D       5SV4_A                                  A3C8   \n",
       "42     52    5VNW_D:A       5VNV_A                               Nb.b201   \n",
       "48     63    6CWG_B:A       6CWK_A                                    A9   \n",
       "49     64    6DBG_C:B       6DBA_A                                  R303   \n",
       "50     65   6EY6_I:AB       5FWO_A                                 nb130   \n",
       "\n",
       "   Antigen PDB                                   Antigen  I-RMSD (Å)  \\\n",
       "10        3LZT                                  Lysozyme        1.21   \n",
       "32      6ETL_A                            bovine RNase A        1.83   \n",
       "33      4Y7L_A                           E coli TssM CTD        0.84   \n",
       "35      4ZAI_A                                    CXCL13        1.49   \n",
       "36      4Z18_A                                     PD-L1        1.14   \n",
       "37      4FUD_A                                       uPA        0.84   \n",
       "39     5KOU_AB  astrovirus 2 capsid protein spike domain        1.69   \n",
       "41      1IFT_A                                     Ricin        0.57   \n",
       "42      1E78_A                       human serum albumin        1.49   \n",
       "48      1IFT_A                                     Ricin        0.76   \n",
       "49      1H6T_A       Listeria monocytogenes internalin B        0.46   \n",
       "50     6EY5_AB                        P. gingivalis PorM        1.90   \n",
       "\n",
       "    ΔASA (Å2) Category  New Kd (nM) ΔG (kcal/mol)   pdb  \n",
       "10     1425.0    Rigid  NaN     NaN        -12.28  2i25  \n",
       "32     1313.3   Medium    X     157         -9.28  4pou  \n",
       "33     1102.5    Rigid    X    1.61        -11.79  4y7m  \n",
       "35     1790.2   Medium    X  0.3715        -13.38  5cba  \n",
       "36     1752.5    Rigid    X  0.0421        -14.15  5grj  \n",
       "37     1969.0   Medium    X   0.054        -14.01  5hgg  \n",
       "39     1735.0   Medium    X    1.87        -11.91  5kov  \n",
       "41     1293.6    Rigid    X  0.0627        -13.92  5sv3  \n",
       "42      966.8   Medium    X     430         -8.68  5vnw  \n",
       "48     1151.2    Rigid    X     0.1        -13.64  6cwg  \n",
       "49     1525.2    Rigid    X    0.15         -13.4  6dbg  \n",
       "50     1806.8   Medium    X       8        -11.05  6ey6  "
      ]
     },
     "execution_count": 33,
     "metadata": {},
     "output_type": "execute_result"
    }
   ],
   "source": [
    "remaining_benchmark"
   ]
  },
  {
   "cell_type": "code",
   "execution_count": 34,
   "id": "6aee739f",
   "metadata": {},
   "outputs": [
    {
     "name": "stdout",
     "output_type": "stream",
     "text": [
      "There are in total 40 complexes in the testset that are taken from the benchmark dataset\n"
     ]
    }
   ],
   "source": [
    "print(\"There are in total {} complexes in the testset that are taken from the benchmark dataset\".format(dataset[\"test\"].sum()))"
   ]
  },
  {
   "cell_type": "markdown",
   "id": "ef1e21c3",
   "metadata": {},
   "source": [
    "### Validation Splits\n",
    "\n",
    "Split the train data randomly in 3 parts that can each be used for validation during model training and for hyperparameter tuning."
   ]
  },
  {
   "cell_type": "code",
   "execution_count": 35,
   "id": "a04ca8a2",
   "metadata": {},
   "outputs": [],
   "source": [
    "dataset[\"validation\"] = 0\n",
    "dataset = dataset.sort_values(by=\"test\")\n",
    "dataset.reset_index(inplace=True)"
   ]
  },
  {
   "cell_type": "code",
   "execution_count": 36,
   "id": "0309044f",
   "metadata": {},
   "outputs": [
    {
     "name": "stdout",
     "output_type": "stream",
     "text": [
      "There are in total 371 complexes in available for training\n"
     ]
    }
   ],
   "source": [
    "total_train_data = len(dataset[dataset[\"test\"] == False])\n",
    "print(\"There are in total {} complexes in available for training\".format(total_train_data))"
   ]
  },
  {
   "cell_type": "code",
   "execution_count": 37,
   "id": "e875d802",
   "metadata": {},
   "outputs": [],
   "source": [
    "np.random.seed(123)\n",
    "indices = np.arange(total_train_data)\n",
    "np.random.shuffle(indices)\n",
    "val_indices = np.split(indices, [124, 248])"
   ]
  },
  {
   "cell_type": "code",
   "execution_count": 38,
   "id": "574eae79",
   "metadata": {},
   "outputs": [],
   "source": [
    "for i, val_idx in enumerate(val_indices):\n",
    "    i += 1\n",
    "    dataset.loc[val_idx, \"validation\"] = i"
   ]
  },
  {
   "cell_type": "code",
   "execution_count": 39,
   "id": "7f47d42a",
   "metadata": {},
   "outputs": [
    {
     "data": {
      "text/html": [
       "<div>\n",
       "<style scoped>\n",
       "    .dataframe tbody tr th:only-of-type {\n",
       "        vertical-align: middle;\n",
       "    }\n",
       "\n",
       "    .dataframe tbody tr th {\n",
       "        vertical-align: top;\n",
       "    }\n",
       "\n",
       "    .dataframe thead th {\n",
       "        text-align: right;\n",
       "    }\n",
       "</style>\n",
       "<table border=\"1\" class=\"dataframe\">\n",
       "  <thead>\n",
       "    <tr style=\"text-align: right;\">\n",
       "      <th></th>\n",
       "      <th>index</th>\n",
       "      <th>pdb</th>\n",
       "      <th>abdb_file</th>\n",
       "      <th>antigen_type</th>\n",
       "      <th>antibody_chains</th>\n",
       "      <th>antigen_chains</th>\n",
       "      <th>affinity_method</th>\n",
       "      <th>temperature</th>\n",
       "      <th>calculated_temp</th>\n",
       "      <th>affinity</th>\n",
       "      <th>delta_g</th>\n",
       "      <th>test</th>\n",
       "      <th>validation</th>\n",
       "    </tr>\n",
       "  </thead>\n",
       "  <tbody>\n",
       "    <tr>\n",
       "      <th>0</th>\n",
       "      <td>0</td>\n",
       "      <td>2r56</td>\n",
       "      <td>2R56_1.pdb</td>\n",
       "      <td>protein</td>\n",
       "      <td>[I, M, H, L]</td>\n",
       "      <td>[B, A]</td>\n",
       "      <td>SPR</td>\n",
       "      <td>NaN</td>\n",
       "      <td>25.0</td>\n",
       "      <td>1.300000e-09</td>\n",
       "      <td>-12.120000</td>\n",
       "      <td>False</td>\n",
       "      <td>2</td>\n",
       "    </tr>\n",
       "    <tr>\n",
       "      <th>1</th>\n",
       "      <td>271</td>\n",
       "      <td>3l5x</td>\n",
       "      <td>3L5X_1.pdb</td>\n",
       "      <td>protein</td>\n",
       "      <td>[H, L]</td>\n",
       "      <td>[A]</td>\n",
       "      <td>SPR</td>\n",
       "      <td>25</td>\n",
       "      <td>25.0</td>\n",
       "      <td>2.690000e-10</td>\n",
       "      <td>-13.050000</td>\n",
       "      <td>False</td>\n",
       "      <td>3</td>\n",
       "    </tr>\n",
       "    <tr>\n",
       "      <th>2</th>\n",
       "      <td>270</td>\n",
       "      <td>3sdy</td>\n",
       "      <td>3SDY_1.pdb</td>\n",
       "      <td>protein | protein</td>\n",
       "      <td>[H, L]</td>\n",
       "      <td>[B, A]</td>\n",
       "      <td>Other</td>\n",
       "      <td>30</td>\n",
       "      <td>30.0</td>\n",
       "      <td>1.000000e-09</td>\n",
       "      <td>-12.480000</td>\n",
       "      <td>False</td>\n",
       "      <td>3</td>\n",
       "    </tr>\n",
       "    <tr>\n",
       "      <th>3</th>\n",
       "      <td>269</td>\n",
       "      <td>5i5k</td>\n",
       "      <td>5I5K_1.pdb</td>\n",
       "      <td>protein</td>\n",
       "      <td>[X, Y, H, L]</td>\n",
       "      <td>[A, B]</td>\n",
       "      <td>SPR</td>\n",
       "      <td>NaN</td>\n",
       "      <td>25.0</td>\n",
       "      <td>1.760000e-11</td>\n",
       "      <td>-14.671746</td>\n",
       "      <td>False</td>\n",
       "      <td>3</td>\n",
       "    </tr>\n",
       "    <tr>\n",
       "      <th>4</th>\n",
       "      <td>268</td>\n",
       "      <td>3kr3</td>\n",
       "      <td>3KR3_1.pdb</td>\n",
       "      <td>protein</td>\n",
       "      <td>[H, L]</td>\n",
       "      <td>[D]</td>\n",
       "      <td>SPR</td>\n",
       "      <td>25</td>\n",
       "      <td>25.0</td>\n",
       "      <td>4.900000e-11</td>\n",
       "      <td>-14.060000</td>\n",
       "      <td>False</td>\n",
       "      <td>2</td>\n",
       "    </tr>\n",
       "  </tbody>\n",
       "</table>\n",
       "</div>"
      ],
      "text/plain": [
       "   index   pdb   abdb_file       antigen_type antibody_chains antigen_chains  \\\n",
       "0      0  2r56  2R56_1.pdb            protein    [I, M, H, L]         [B, A]   \n",
       "1    271  3l5x  3L5X_1.pdb            protein          [H, L]            [A]   \n",
       "2    270  3sdy  3SDY_1.pdb  protein | protein          [H, L]         [B, A]   \n",
       "3    269  5i5k  5I5K_1.pdb            protein    [X, Y, H, L]         [A, B]   \n",
       "4    268  3kr3  3KR3_1.pdb            protein          [H, L]            [D]   \n",
       "\n",
       "  affinity_method temperature calculated_temp      affinity    delta_g   test  \\\n",
       "0             SPR         NaN            25.0  1.300000e-09 -12.120000  False   \n",
       "1             SPR          25            25.0  2.690000e-10 -13.050000  False   \n",
       "2           Other          30            30.0  1.000000e-09 -12.480000  False   \n",
       "3             SPR         NaN            25.0  1.760000e-11 -14.671746  False   \n",
       "4             SPR          25            25.0  4.900000e-11 -14.060000  False   \n",
       "\n",
       "   validation  \n",
       "0           2  \n",
       "1           3  \n",
       "2           3  \n",
       "3           3  \n",
       "4           2  "
      ]
     },
     "execution_count": 39,
     "metadata": {},
     "output_type": "execute_result"
    }
   ],
   "source": [
    "dataset.head()"
   ]
  },
  {
   "cell_type": "code",
   "execution_count": 40,
   "id": "ffb04e89",
   "metadata": {},
   "outputs": [],
   "source": [
    "dataset.to_csv(os.path.join(config[\"DATA\"][\"path\"], config[\"DATA\"][\"Dataset_v1\"][\"folder_path\"], config[\"DATA\"][\"Dataset_v1\"][\"summary\"]), index=False)"
   ]
  },
  {
   "cell_type": "code",
   "execution_count": null,
   "id": "1466e735",
   "metadata": {},
   "outputs": [],
   "source": []
  },
  {
   "cell_type": "code",
   "execution_count": null,
   "id": "ae783520",
   "metadata": {},
   "outputs": [],
   "source": []
  }
 ],
 "metadata": {
  "kernelspec": {
   "display_name": "ag_affinity",
   "language": "python",
   "name": "ag_affinity"
  },
  "language_info": {
   "codemirror_mode": {
    "name": "ipython",
    "version": 3
   },
   "file_extension": ".py",
   "mimetype": "text/x-python",
   "name": "python",
   "nbconvert_exporter": "python",
   "pygments_lexer": "ipython3",
   "version": "3.8.10"
  }
 },
 "nbformat": 4,
 "nbformat_minor": 5
}
