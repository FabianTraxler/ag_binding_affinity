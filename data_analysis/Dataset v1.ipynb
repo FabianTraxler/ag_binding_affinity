{
 "cells": [
  {
   "cell_type": "markdown",
   "id": "d79cbc1a",
   "metadata": {},
   "source": [
    "# Dataset Version 1\n",
    "\n",
    "This notebook generates a dataframe containing information about data first version dataset:\n",
    "\n",
    "- Overlap of AbDb data (filtered and enriched abag data) with SAbDab data (affinity values for conformtions) "
   ]
  },
  {
   "cell_type": "code",
   "execution_count": 1,
   "id": "a7a539e6",
   "metadata": {},
   "outputs": [
    {
     "name": "stdout",
     "output_type": "stream",
     "text": [
      "Enabling notebook extension jupyter-js-widgets/extension...\r\n",
      "      - Validating: \u001b[32mOK\u001b[0m\r\n"
     ]
    }
   ],
   "source": [
    "!jupyter nbextension enable --py widgetsnbextension"
   ]
  },
  {
   "cell_type": "code",
   "execution_count": 2,
   "id": "da299287",
   "metadata": {},
   "outputs": [
    {
     "name": "stderr",
     "output_type": "stream",
     "text": [
      "/tmp/ipykernel_25010/2541335585.py:5: TqdmDeprecationWarning: This function will be removed in tqdm==5.0.0\n",
      "Please use `tqdm.notebook.tqdm` instead of `tqdm.tqdm_notebook`\n",
      "  tqdm_notebook().pandas()\n"
     ]
    },
    {
     "data": {
      "application/vnd.jupyter.widget-view+json": {
       "model_id": "870a46193f0446c0906ddd35297f638d",
       "version_major": 2,
       "version_minor": 0
      },
      "text/plain": [
       "0it [00:00, ?it/s]"
      ]
     },
     "metadata": {},
     "output_type": "display_data"
    }
   ],
   "source": [
    "import os\n",
    "import pandas as pd\n",
    "import warnings\n",
    "from tqdm import tqdm_notebook\n",
    "tqdm_notebook().pandas()\n",
    "\n",
    "warnings.filterwarnings(\"ignore\")\n",
    "from abag_affinity.utils.config import read_yaml, get_data_paths"
   ]
  },
  {
   "cell_type": "code",
   "execution_count": 3,
   "id": "4f7cee0f",
   "metadata": {},
   "outputs": [],
   "source": [
    "config = read_yaml(\"../abag_affinity/config.yaml\")\n",
    "\n",
    "summary_path, pdb_path = get_data_paths(config, \"SAbDab\")\n",
    "summary_df = pd.read_csv(summary_path, sep=\"\\t\")\n",
    "\n",
    "abdb_summary_path, abdb_pdb_path = get_data_paths(config, \"AbDb\")\n",
    "abdb_pdb_ids = os.listdir(abdb_pdb_path)\n",
    "abdb_pdb_ids = set([ pdb_id.split(\"_\")[0].lower() for pdb_id in abdb_pdb_ids])"
   ]
  },
  {
   "cell_type": "code",
   "execution_count": 4,
   "id": "d0a207df",
   "metadata": {},
   "outputs": [],
   "source": [
    "# get overlap using pdb ids\n",
    "\n",
    "sabdab_pdb_ids = set(summary_df[\"pdb\"].unique())\n",
    "overlapping_ids = abdb_pdb_ids.intersection(sabdab_pdb_ids)"
   ]
  },
  {
   "cell_type": "code",
   "execution_count": 5,
   "id": "f7cc6941",
   "metadata": {},
   "outputs": [],
   "source": [
    "dataset = summary_df[summary_df[\"pdb\"].isin(overlapping_ids)].copy()"
   ]
  },
  {
   "cell_type": "code",
   "execution_count": 6,
   "id": "cb98e37b",
   "metadata": {},
   "outputs": [],
   "source": [
    "import math\n",
    "def get_chains(row):\n",
    "    pdb_id = row[\"pdb\"]\n",
    "    pdb_id_rows = dataset[dataset[\"pdb\"] == pdb_id]\n",
    "    \n",
    "    light_chains = []\n",
    "    heavy_chains = []\n",
    "    antigen_chains = []\n",
    "    \n",
    "    for i, pdb_row in pdb_id_rows.iterrows():\n",
    "        light_chains.append(pdb_row[\"Lchain\"])\n",
    "        heavy_chains.append(pdb_row[\"Hchain\"])\n",
    "        if isinstance(pdb_row[\"antigen_chain\"], str):\n",
    "            if \"|\" in pdb_row[\"antigen_chain\"]:\n",
    "                for chain_id in pdb_row[\"antigen_chain\"].split(\"|\"):\n",
    "                    antigen_chains.append(chain_id.strip())\n",
    "\n",
    "            else:\n",
    "                antigen_chains.append(pdb_row[\"antigen_chain\"])\n",
    "    \n",
    "    return light_chains, heavy_chains, antigen_chains"
   ]
  },
  {
   "cell_type": "code",
   "execution_count": 7,
   "id": "c667f86e",
   "metadata": {},
   "outputs": [],
   "source": [
    "dataset[\"light_chains\"], dataset[\"heavy_chains\"], dataset[\"antigen_chains\"] = zip(*dataset.apply(lambda row: get_chains(row), axis=1))"
   ]
  },
  {
   "cell_type": "code",
   "execution_count": 8,
   "id": "a97e7dca",
   "metadata": {},
   "outputs": [],
   "source": [
    "import numpy as np\n",
    "gas_constant =  8.31446261815324 # 0.0821\n",
    "\n",
    "def calc_temp(row):\n",
    "    kd = row[\"affinity\"]\n",
    "    delta_g = row[\"delta_g\"] * 4184 # convert kcal to joule \n",
    "    if kd == 0 or math.isnan(kd) or math.isnan(delta_g):\n",
    "        return None\n",
    "\n",
    "    return round((delta_g / (gas_constant * np.log(kd))) - 273.15) # convert kelvin to celsius\n",
    "\n",
    "def calc_delta_g(row):\n",
    "    delta_g = gas_constant * row[\"temperature_kelvin\"] * np.log(row[\"affinity\"])\n",
    "    return delta_g / 4184 # convert to kcal"
   ]
  },
  {
   "cell_type": "code",
   "execution_count": 9,
   "id": "4e4420e5",
   "metadata": {},
   "outputs": [],
   "source": [
    "dataset[\"calculated_temp\"] = dataset.apply(lambda row: calc_temp(row), axis=1)\n",
    "dataset = dataset[~dataset[\"calculated_temp\"].isnull()]"
   ]
  },
  {
   "cell_type": "code",
   "execution_count": 10,
   "id": "5a818d9a",
   "metadata": {},
   "outputs": [],
   "source": [
    "# add pdb file name from AbDb\n",
    "\n",
    "abdb_pdb_path = os.path.join(config[\"DATA\"][\"path\"], config[\"DATA\"][\"AbDb\"][\"folder_path\"], config[\"DATA\"][\"AbDb\"][\"pdb_path\"])\n",
    "\n",
    "pdb_files = os.listdir(abdb_pdb_path)\n",
    "\n",
    "id2file = {file.split(\"_\")[0].lower(): file for file in pdb_files}"
   ]
  },
  {
   "cell_type": "code",
   "execution_count": 11,
   "id": "44e133e1",
   "metadata": {},
   "outputs": [],
   "source": [
    "dataset[\"abdb_file\"] = dataset[\"pdb\"].apply(lambda pdb_id: id2file[pdb_id])"
   ]
  },
  {
   "cell_type": "code",
   "execution_count": 12,
   "id": "934e21d0",
   "metadata": {},
   "outputs": [],
   "source": [
    "# clean dataset\n",
    "dataset.drop_duplicates(\"pdb\", inplace=True)\n",
    "dataset = dataset.reset_index().drop(\"index\", axis=1)\n",
    "dataset = dataset[[\"pdb\", \"abdb_file\", \"antigen_type\", \"light_chains\", \"heavy_chains\", \"antigen_chains\", 'affinity_method', 'temperature', \"calculated_temp\", 'affinity', 'delta_g', ]]"
   ]
  },
  {
   "cell_type": "code",
   "execution_count": 13,
   "id": "9b685eee",
   "metadata": {},
   "outputs": [
    {
     "data": {
      "text/html": [
       "<div>\n",
       "<style scoped>\n",
       "    .dataframe tbody tr th:only-of-type {\n",
       "        vertical-align: middle;\n",
       "    }\n",
       "\n",
       "    .dataframe tbody tr th {\n",
       "        vertical-align: top;\n",
       "    }\n",
       "\n",
       "    .dataframe thead th {\n",
       "        text-align: right;\n",
       "    }\n",
       "</style>\n",
       "<table border=\"1\" class=\"dataframe\">\n",
       "  <thead>\n",
       "    <tr style=\"text-align: right;\">\n",
       "      <th></th>\n",
       "      <th>pdb</th>\n",
       "      <th>abdb_file</th>\n",
       "      <th>antigen_type</th>\n",
       "      <th>light_chains</th>\n",
       "      <th>heavy_chains</th>\n",
       "      <th>antigen_chains</th>\n",
       "      <th>affinity_method</th>\n",
       "      <th>temperature</th>\n",
       "      <th>calculated_temp</th>\n",
       "      <th>affinity</th>\n",
       "      <th>delta_g</th>\n",
       "    </tr>\n",
       "  </thead>\n",
       "  <tbody>\n",
       "    <tr>\n",
       "      <th>0</th>\n",
       "      <td>2r56</td>\n",
       "      <td>2R56_1.pdb</td>\n",
       "      <td>protein</td>\n",
       "      <td>[M, L]</td>\n",
       "      <td>[I, H]</td>\n",
       "      <td>[B, A]</td>\n",
       "      <td>SPR</td>\n",
       "      <td>NaN</td>\n",
       "      <td>25.0</td>\n",
       "      <td>1.300000e-09</td>\n",
       "      <td>-12.120000</td>\n",
       "    </tr>\n",
       "    <tr>\n",
       "      <th>1</th>\n",
       "      <td>5wux</td>\n",
       "      <td>5WUX_1.pdb</td>\n",
       "      <td>protein</td>\n",
       "      <td>[D, B, L]</td>\n",
       "      <td>[C, A, H]</td>\n",
       "      <td>[G, F, E]</td>\n",
       "      <td>SPR</td>\n",
       "      <td>NaN</td>\n",
       "      <td>25.0</td>\n",
       "      <td>2.740000e-11</td>\n",
       "      <td>-14.409486</td>\n",
       "    </tr>\n",
       "    <tr>\n",
       "      <th>2</th>\n",
       "      <td>4xi5</td>\n",
       "      <td>4XI5_1.pdb</td>\n",
       "      <td>protein | protein</td>\n",
       "      <td>[C]</td>\n",
       "      <td>[D]</td>\n",
       "      <td>[B, A]</td>\n",
       "      <td>SPR</td>\n",
       "      <td>NaN</td>\n",
       "      <td>25.0</td>\n",
       "      <td>4.900000e-10</td>\n",
       "      <td>-12.700845</td>\n",
       "    </tr>\n",
       "    <tr>\n",
       "      <th>3</th>\n",
       "      <td>4k9e</td>\n",
       "      <td>4K9E_1.pdb</td>\n",
       "      <td>protein</td>\n",
       "      <td>[L]</td>\n",
       "      <td>[H]</td>\n",
       "      <td>[C]</td>\n",
       "      <td>SPR</td>\n",
       "      <td>NaN</td>\n",
       "      <td>25.0</td>\n",
       "      <td>6.400000e-12</td>\n",
       "      <td>-15.271103</td>\n",
       "    </tr>\n",
       "    <tr>\n",
       "      <th>4</th>\n",
       "      <td>4k94</td>\n",
       "      <td>4K94_1.pdb</td>\n",
       "      <td>carbohydrate | protein</td>\n",
       "      <td>[L]</td>\n",
       "      <td>[H]</td>\n",
       "      <td>[C, C]</td>\n",
       "      <td>TBD</td>\n",
       "      <td>SPR</td>\n",
       "      <td>25.0</td>\n",
       "      <td>6.300000e-10</td>\n",
       "      <td>-12.551945</td>\n",
       "    </tr>\n",
       "  </tbody>\n",
       "</table>\n",
       "</div>"
      ],
      "text/plain": [
       "    pdb   abdb_file            antigen_type light_chains heavy_chains  \\\n",
       "0  2r56  2R56_1.pdb                 protein       [M, L]       [I, H]   \n",
       "1  5wux  5WUX_1.pdb                 protein    [D, B, L]    [C, A, H]   \n",
       "2  4xi5  4XI5_1.pdb       protein | protein          [C]          [D]   \n",
       "3  4k9e  4K9E_1.pdb                 protein          [L]          [H]   \n",
       "4  4k94  4K94_1.pdb  carbohydrate | protein          [L]          [H]   \n",
       "\n",
       "  antigen_chains affinity_method temperature  calculated_temp      affinity  \\\n",
       "0         [B, A]             SPR         NaN             25.0  1.300000e-09   \n",
       "1      [G, F, E]             SPR         NaN             25.0  2.740000e-11   \n",
       "2         [B, A]             SPR         NaN             25.0  4.900000e-10   \n",
       "3            [C]             SPR         NaN             25.0  6.400000e-12   \n",
       "4         [C, C]             TBD         SPR             25.0  6.300000e-10   \n",
       "\n",
       "     delta_g  \n",
       "0 -12.120000  \n",
       "1 -14.409486  \n",
       "2 -12.700845  \n",
       "3 -15.271103  \n",
       "4 -12.551945  "
      ]
     },
     "execution_count": 13,
     "metadata": {},
     "output_type": "execute_result"
    }
   ],
   "source": [
    "dataset.head()"
   ]
  },
  {
   "cell_type": "code",
   "execution_count": 14,
   "id": "ffb04e89",
   "metadata": {},
   "outputs": [],
   "source": [
    "dataset.to_csv(os.path.join(config[\"DATA\"][\"path\"], config[\"DATA\"][\"Dataset_v1\"][\"folder_path\"], config[\"DATA\"][\"Dataset_v1\"][\"summary\"]), index=False)"
   ]
  },
  {
   "cell_type": "markdown",
   "id": "dcb97c46",
   "metadata": {},
   "source": [
    "## Data Analysis\n",
    "\n",
    "#### Chain ID analysis"
   ]
  },
  {
   "cell_type": "code",
   "execution_count": 16,
   "id": "c7313f62",
   "metadata": {},
   "outputs": [
    {
     "name": "stdout",
     "output_type": "stream",
     "text": [
      "Counter({'A': 164, 'C': 78, 'B': 66, 'P': 49, 'E': 46, 'D': 35, 'F': 33, 'G': 28, 'I': 25, 'J': 18, 'S': 18, 'Q': 16, 'X': 13, 'Y': 12, 'V': 11, 'K': 10, 'R': 10, 'O': 7, 'T': 6, 'N': 6, 'M': 6, 'W': 5, 'U': 5, 'L': 4, 'c': 4, 'a': 3, 'e': 3, 'g': 3, 'H': 2, 's': 2, 'u': 2, 'j': 2, 'h': 2, 'q': 2, 'm': 2, 'o': 2, 'Z': 2, 'w': 1, 'x': 1, 'i': 1, 'k': 1})\n"
     ]
    }
   ],
   "source": [
    "from collections import Counter\n",
    "all_antigen_chains = [ chain_id for list_of_chains in dataset[\"antigen_chains\"].tolist() for chain_id in list_of_chains]\n",
    "print(Counter(all_antigen_chains))"
   ]
  },
  {
   "cell_type": "code",
   "execution_count": 17,
   "id": "ba9b7014",
   "metadata": {},
   "outputs": [
    {
     "name": "stdout",
     "output_type": "stream",
     "text": [
      "Counter({'H': 299, 'B': 64, 'A': 52, 'I': 38, 'C': 38, 'D': 33, 'E': 24, 'J': 20, 'G': 15, 'K': 14, 'M': 12, 'F': 11, 'Q': 8, 'O': 6, 'N': 5, 'X': 4, 'W': 4, 'T': 4, 'L': 3, 'R': 3, 'Z': 3, 'P': 3, 'S': 3, 'U': 3, 'h': 1, 'Y': 1})\n"
     ]
    }
   ],
   "source": [
    "all_antigen_chains = [ chain_id for list_of_chains in dataset[\"heavy_chains\"].tolist() for chain_id in list_of_chains]\n",
    "print(Counter(all_antigen_chains))"
   ]
  },
  {
   "cell_type": "code",
   "execution_count": 18,
   "id": "bbc30a47",
   "metadata": {},
   "outputs": [
    {
     "name": "stdout",
     "output_type": "stream",
     "text": [
      "Counter({'L': 301, 'B': 63, 'A': 57, 'M': 37, 'D': 36, 'C': 32, 'F': 19, 'N': 18, 'E': 16, 'K': 14, 'J': 11, 'I': 10, 'H': 9, 'P': 7, 'Y': 6, 'G': 6, 'R': 5, 'V': 4, 'Q': 4, 'X': 4, 'O': 4, 'T': 3, 'S': 2, 'U': 1, 'W': 1, 'l': 1})\n"
     ]
    }
   ],
   "source": [
    "all_antigen_chains = [ chain_id for list_of_chains in dataset[\"light_chains\"].tolist() for chain_id in list_of_chains]\n",
    "print(Counter(all_antigen_chains))"
   ]
  },
  {
   "cell_type": "code",
   "execution_count": null,
   "id": "63598e2e",
   "metadata": {},
   "outputs": [],
   "source": []
  }
 ],
 "metadata": {
  "kernelspec": {
   "display_name": "ag_affinity",
   "language": "python",
   "name": "ag_affinity"
  },
  "language_info": {
   "codemirror_mode": {
    "name": "ipython",
    "version": 3
   },
   "file_extension": ".py",
   "mimetype": "text/x-python",
   "name": "python",
   "nbconvert_exporter": "python",
   "pygments_lexer": "ipython3",
   "version": "3.8.10"
  }
 },
 "nbformat": 4,
 "nbformat_minor": 5
}
