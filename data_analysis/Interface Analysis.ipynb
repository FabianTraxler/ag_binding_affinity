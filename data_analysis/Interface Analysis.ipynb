{
 "cells": [
  {
   "cell_type": "markdown",
   "id": "9a5a5323",
   "metadata": {},
   "source": [
    "# Interface Analysis\n",
    "\n",
    "Analysis of the interfaces between Antibody and Antigens:\n",
    "\n",
    "1. Average Size of Interface (number of residues in Ab and Ag)\n",
    "2. Most prominent residues\n"
   ]
  },
  {
   "cell_type": "code",
   "execution_count": 1,
   "id": "55b44644",
   "metadata": {},
   "outputs": [],
   "source": [
    "import os\n",
    "import numpy as np\n",
    "import pandas as pd\n",
    "from tqdm import tqdm\n",
    "from collections import defaultdict\n",
    "import scipy.spatial as sp\n",
    "import warnings\n",
    "\n",
    "warnings.filterwarnings(\"ignore\")\n",
    "from abag_affinity.utils.config import read_yaml, get_data_paths\n",
    "from abag_affinity.utils.pdb_processing import get_distances_and_info, antibody_chain\n",
    "from abag_affinity.utils.pdb_reader import read_file"
   ]
  },
  {
   "cell_type": "code",
   "execution_count": 2,
   "id": "6ff2c426",
   "metadata": {},
   "outputs": [],
   "source": [
    "INTERFACE_DISTANCE = 10"
   ]
  },
  {
   "cell_type": "code",
   "execution_count": 3,
   "id": "22548c00",
   "metadata": {},
   "outputs": [],
   "source": [
    "config = read_yaml(\"../abag_affinity/config.yaml\")\n",
    "\n",
    "summary_path, pdb_path = get_data_paths(config, \"Dataset_v1\")\n",
    "\n",
    "dataset = pd.read_csv(summary_path)\n",
    "\n",
    "path = os.path.join(config[\"DATA\"][\"path\"], config[\"DATA\"][\"Dataset_v1\"][\"folder_path\"])"
   ]
  },
  {
   "cell_type": "code",
   "execution_count": 4,
   "id": "0e763ba0",
   "metadata": {},
   "outputs": [],
   "source": [
    "import string\n",
    "alphabet_letters = set(string.ascii_lowercase)\n",
    "\n",
    "def get_residue_count_and_interface_size(dataset, interface_distance_threshold):\n",
    "    interface_sizes = []\n",
    "    interface_resiude_count = {\n",
    "        \"antibody\": defaultdict(int),\n",
    "        \"antigen\": defaultdict(int)\n",
    "    }\n",
    "    \n",
    "    resiude_count = {\n",
    "        \"antibody\": defaultdict(int),\n",
    "        \"antigen\": defaultdict(int)\n",
    "    }\n",
    "\n",
    "\n",
    "    no_antibody_antigen_contact = []\n",
    "\n",
    "    for i, row in tqdm(dataset.iterrows(), total=len(dataset)):\n",
    "        pdb_id = row[\"pdb\"]\n",
    "        path = os.path.join(pdb_path, row[\"abdb_file\"]) \n",
    "        structure, header = read_file(pdb_id, path)\n",
    "        \n",
    "        chain_id2protein = {\n",
    "            \"l\": \"antibody\", \n",
    "            \"h\": \"antibody\"\n",
    "        }\n",
    "\n",
    "        interface_count = {\n",
    "            \"antibody\": [],\n",
    "            \"antigen\": []\n",
    "        }\n",
    "        \n",
    "        for chain_id in row[\"light_chains\"]:\n",
    "            chain_id2protein[chain_id.lower()] = \"antibody\"\n",
    "        for chain_id in row[\"heavy_chains\"]:\n",
    "            chain_id2protein[chain_id.lower()] = \"antibody\"\n",
    "        for chain_id in row[\"antigen_chains\"]:\n",
    "            chain_id2protein[chain_id.lower()] = \"antigen\"\n",
    "            \n",
    "        for letter in alphabet_letters - set(chain_id2protein.keys()):\n",
    "            chain_id2protein[letter] = \"antigen\"\n",
    "\n",
    "\n",
    "        residue_ca_coordinates = defaultdict(list)\n",
    "        residue_n_coordinates = defaultdict(list)\n",
    "        residue_c_coordinates = defaultdict(list)\n",
    "        residue_o_coordinates = defaultdict(list)\n",
    "\n",
    "        residue_name = defaultdict(list)\n",
    "\n",
    "        for chain in structure.get_chains():\n",
    "            for residue in chain.get_residues():\n",
    "                if \"CA\" in residue:\n",
    "                    residue_ca_coordinates[chain.id.lower()].append(residue[\"CA\"].coord)\n",
    "                else:\n",
    "                    residue_ca_coordinates[chain.id.lower()].append((np.nan, np.nan, np.nan))\n",
    "                if \"N\" in residue:\n",
    "                    residue_n_coordinates[chain.id.lower()].append(residue[\"N\"].coord)\n",
    "                else:\n",
    "                    residue_n_coordinates[chain.id.lower()].append((np.nan, np.nan, np.nan))\n",
    "                if \"C\" in residue:\n",
    "                    residue_c_coordinates[chain.id.lower()].append(residue[\"C\"].coord)\n",
    "                else:\n",
    "                    residue_c_coordinates[chain.id.lower()].append((np.nan, np.nan, np.nan))\n",
    "                if \"O\" in residue:\n",
    "                    residue_o_coordinates[chain.id.lower()].append(residue[\"O\"].coord)\n",
    "                else:\n",
    "                    residue_o_coordinates[chain.id.lower()].append((np.nan, np.nan, np.nan))\n",
    "                residue_name[chain.id.lower()].append(residue.resname)\n",
    "                resiude_count[chain_id2protein[chain.id.lower()]][residue.resname] += 1\n",
    "\n",
    "        for chain in structure.get_chains():    \n",
    "            for o_chain in structure.get_chains():\n",
    "                if chain_id2protein.get(chain.id.lower()) != chain_id2protein.get(o_chain.id.lower()) and len(residue_ca_coordinates[chain.id.lower()]) > 0 and len(residue_ca_coordinates[o_chain.id.lower()]) > 0 and chain_id2protein.get(chain.id.lower()) is not None and chain_id2protein.get(o_chain.id.lower()) is not None:\n",
    "                    all_distances = []\n",
    "                    for atom_coordinates in [residue_ca_coordinates,residue_n_coordinates,residue_c_coordinates,residue_o_coordinates]:\n",
    "                        for o_atom_coordinates in [residue_ca_coordinates,residue_n_coordinates,residue_c_coordinates,residue_o_coordinates]:\n",
    "                            all_distances.append(sp.distance_matrix(np.array(atom_coordinates[chain.id.lower()]), \n",
    "                                                                np.array(o_atom_coordinates[o_chain.id.lower()])))\n",
    "                    \n",
    "                    all_distances = np.stack(all_distances)\n",
    "                    min_distances = np.amin(all_distances, axis=0)\n",
    "                    \n",
    "                    distances = sp.distance_matrix(np.array(residue_ca_coordinates[chain.id.lower()]), \n",
    "                                                                np.array(residue_ca_coordinates[o_chain.id.lower()]))\n",
    "\n",
    "                    contacts = np.where(min_distances < interface_distance_threshold)\n",
    "                    if len(contacts[0]) == 0:\n",
    "                        continue\n",
    "                    for res_contacts_id in np.unique(contacts[0]):\n",
    "                        interface_resiude_count[chain_id2protein.get(chain.id.lower())][residue_name[chain.id.lower()][res_contacts_id]] += 1\n",
    "                    for res_contacts_id in np.unique(contacts[1]):\n",
    "                        interface_resiude_count[chain_id2protein.get(o_chain.id.lower())][residue_name[o_chain.id.lower()][res_contacts_id]] += 1\n",
    "\n",
    "                    interface_count[chain_id2protein.get(chain.id.lower())].append(len(np.unique(contacts[0])))\n",
    "                    interface_count[chain_id2protein.get(o_chain.id.lower())].append(len(np.unique(contacts[1])))\n",
    "        if len(interface_count[\"antibody\"]) == 0:\n",
    "            no_antibody_antigen_contact.append(pdb_id)\n",
    "        interface_sizes.append(interface_count)\n",
    "        \n",
    "        \n",
    "    return interface_sizes, interface_resiude_count, resiude_count, no_antibody_antigen_contact"
   ]
  },
  {
   "cell_type": "code",
   "execution_count": 5,
   "id": "1d15b47d",
   "metadata": {},
   "outputs": [
    {
     "name": "stderr",
     "output_type": "stream",
     "text": [
      "100%|█████████████████████████████████████████| 381/381 [00:29<00:00, 12.79it/s]\n"
     ]
    }
   ],
   "source": [
    "interface_sizes, interface_resiude_count, resiude_count, no_antibody_antigen_contact = get_residue_count_and_interface_size(dataset, 10)"
   ]
  },
  {
   "cell_type": "code",
   "execution_count": 6,
   "id": "072ab805",
   "metadata": {},
   "outputs": [
    {
     "name": "stdout",
     "output_type": "stream",
     "text": [
      "0 Conformations do not have any contact between antibody and antigen\n"
     ]
    }
   ],
   "source": [
    "print(\"{} Conformations do not have any contact between antibody and antigen\".format(len(set(no_antibody_antigen_contact))))"
   ]
  },
  {
   "cell_type": "markdown",
   "id": "31387497",
   "metadata": {},
   "source": [
    "### Analysis of Antibody & Antigen Binding Residues"
   ]
  },
  {
   "cell_type": "code",
   "execution_count": 7,
   "id": "780d6dfe",
   "metadata": {},
   "outputs": [],
   "source": [
    "import matplotlib.pyplot as plt"
   ]
  },
  {
   "cell_type": "code",
   "execution_count": 25,
   "id": "557973d0",
   "metadata": {},
   "outputs": [
    {
     "data": {
      "image/png": "[encoded data removed]",
      "text/plain": [
       "<Figure size 1080x576 with 2 Axes>"
      ]
     },
     "metadata": {
      "needs_background": "light"
     },
     "output_type": "display_data"
    }
   ],
   "source": [
    "plot_x_frequent = 20\n",
    "width = 0.4\n",
    "\n",
    "fix, ax = plt.subplots(2,1, figsize=(15,8))\n",
    "\n",
    "for i, protein in enumerate(interface_resiude_count.keys()):\n",
    "    total_interface_contact_residues = sum(interface_resiude_count[protein].values())\n",
    "    relative_interface_values = {res: count/total_interface_contact_residues * 100 for res, count in interface_resiude_count[protein].items()}\n",
    "    \n",
    "    total_contact_residues = sum(resiude_count[protein].values())\n",
    "    relative_values = {res: count/total_contact_residues * 100 for res, count in resiude_count[protein].items()}\n",
    "    \n",
    "    sorted_dict = {k: v for k, v in sorted(relative_interface_values.items(), key=lambda item: item[1], reverse=True)}\n",
    "    indices = np.arange(plot_x_frequent)\n",
    "    most_frequent_aa = list(sorted_dict.keys())[:plot_x_frequent]\n",
    "    \n",
    "    interface_plot = ax[i].bar(indices, [relative_interface_values[aa] for aa in most_frequent_aa], width=width, align='center')\n",
    "    protein_plot = ax[i].bar(indices + width, [relative_values[aa] for aa in most_frequent_aa], width=width, align='center')\n",
    "\n",
    "    ax[i].set_xticks(indices + (width/2), list(sorted_dict.keys())[:plot_x_frequent])\n",
    "    ax[i].set_title(\"{} most frequent residues of {} in contact\".format(plot_x_frequent, protein))\n",
    "    \n",
    "    ax[i].set_ylabel(\"Relative Frequency (%)\")\n",
    "    \n",
    "    interface_name = \"paratope\" if protein == \"antibody\" else \"epitope\"\n",
    "    ax[i].legend( (interface_plot, protein_plot), (interface_name, protein) )\n",
    "\n",
    "plt.show()"
   ]
  },
  {
   "cell_type": "code",
   "execution_count": null,
   "id": "aeccdebe",
   "metadata": {},
   "outputs": [],
   "source": []
  }
 ],
 "metadata": {
  "kernelspec": {
   "display_name": "ag_affinity",
   "language": "python",
   "name": "ag_affinity"
  },
  "language_info": {
   "codemirror_mode": {
    "name": "ipython",
    "version": 3
   },
   "file_extension": ".py",
   "mimetype": "text/x-python",
   "name": "python",
   "nbconvert_exporter": "python",
   "pygments_lexer": "ipython3",
   "version": "3.8.10"
  }
 },
 "nbformat": 4,
 "nbformat_minor": 5
}
