{
 "cells": [
  {
   "cell_type": "markdown",
   "id": "8dbdf94e",
   "metadata": {},
   "source": [
    "# Docking Benchmark 5.5\n",
    "\n",
    "This Dataset is used to evaluate Docking Models for Protein Protein Interactions.\n",
    "\n",
    "The data is taken from https://zlab.umassmed.edu/benchmark/\n",
    "\n",
    "The Excel file containing the information is downloaded from: https://zlab.umassmed.edu/benchmark/Table_BM5.5.xlsx\n",
    "\n",
    "The PDB Entries are downloaded from: https://zlab.umassmed.edu/benchmark/benchmark5.5.tgz"
   ]
  },
  {
   "cell_type": "code",
   "execution_count": 1,
   "id": "a801f9d7",
   "metadata": {},
   "outputs": [],
   "source": [
    "import pandas as pd\n",
    "import yaml\n",
    "import os"
   ]
  },
  {
   "cell_type": "code",
   "execution_count": 28,
   "id": "78ee2429",
   "metadata": {},
   "outputs": [],
   "source": [
    "# load config with filepaths\n",
    "with open(\"../config.yaml\", \"r\") as f:\n",
    "    config = yaml.safe_load(f)\n",
    "\n",
    "# define filepaths\n",
    "benchmark_path = os.path.join(config[\"DATA\"][\"path\"], config[\"DATA\"][\"Benchmark5.5\"][\"folder_path\"])\n",
    "pp_cases_path = os.path.join(benchmark_path, config[\"DATA\"][\"Benchmark5.5\"][\"pp_cases\"])\n",
    "pdb_path = os.path.join(benchmark_path, config[\"DATA\"][\"Benchmark5.5\"][\"pdb_path\"])"
   ]
  },
  {
   "cell_type": "code",
   "execution_count": 55,
   "id": "e391d582",
   "metadata": {},
   "outputs": [
    {
     "name": "stderr",
     "output_type": "stream",
     "text": [
      "/home/fabian/Desktop/Uni/Masterthesis/ag_binding_venv/lib/python3.8/site-packages/openpyxl/worksheet/_reader.py:312: UserWarning: Unknown extension is not supported and will be removed\n",
      "  warn(msg)\n"
     ]
    }
   ],
   "source": [
    "benchmark_info = pd.read_excel(table_path, skiprows=[0,1,3, 166, 227])\n",
    "\n",
    "# Add Difficulty Subheading as extra column\n",
    "benchmark_info[\"Difficulty\"] = \"None\"\n",
    "benchmark_info.loc[:162, \"Difficulty\"] = \"Rigid\"\n",
    "benchmark_info.loc[162:222, \"Difficulty\"] = \"Medium\"\n",
    "benchmark_info.loc[222:, \"Difficulty\"] = \"Hard\""
   ]
  },
  {
   "cell_type": "code",
   "execution_count": 53,
   "id": "a6b59bcf",
   "metadata": {},
   "outputs": [],
   "source": [
    "ab_ag_cases_info = pd.read_excel(ab_ag_cases_path)\n",
    "ab_ag_cases_info = ab_ag_cases_info[ab_ag_cases_info[\"ΔG (kcal/mol)\"].notnull() & ab_ag_cases_info[\"Kd (nM)\"].notnull()]"
   ]
  },
  {
   "cell_type": "code",
   "execution_count": 56,
   "id": "ead0175d",
   "metadata": {},
   "outputs": [
    {
     "data": {
      "text/html": [
       "<div>\n",
       "<style scoped>\n",
       "    .dataframe tbody tr th:only-of-type {\n",
       "        vertical-align: middle;\n",
       "    }\n",
       "\n",
       "    .dataframe tbody tr th {\n",
       "        vertical-align: top;\n",
       "    }\n",
       "\n",
       "    .dataframe thead th {\n",
       "        text-align: right;\n",
       "    }\n",
       "</style>\n",
       "<table border=\"1\" class=\"dataframe\">\n",
       "  <thead>\n",
       "    <tr style=\"text-align: right;\">\n",
       "      <th></th>\n",
       "      <th>Complex</th>\n",
       "      <th>Cat.</th>\n",
       "      <th>PDB ID 1</th>\n",
       "      <th>Protein 1</th>\n",
       "      <th>PDB ID 2</th>\n",
       "      <th>Protein 2</th>\n",
       "      <th>I-RMSD (Å)</th>\n",
       "      <th>ΔASA(Å2)</th>\n",
       "      <th>BM version introduced</th>\n",
       "      <th>Difficulty</th>\n",
       "    </tr>\n",
       "  </thead>\n",
       "  <tbody>\n",
       "    <tr>\n",
       "      <th>0</th>\n",
       "      <td>1AHW_AB:C</td>\n",
       "      <td>AA</td>\n",
       "      <td>1FGN_LH</td>\n",
       "      <td>Fab 5g9</td>\n",
       "      <td>1TFH_A</td>\n",
       "      <td>Tissue factor</td>\n",
       "      <td>0.69</td>\n",
       "      <td>1899</td>\n",
       "      <td>2.0</td>\n",
       "      <td>Rigid</td>\n",
       "    </tr>\n",
       "    <tr>\n",
       "      <th>1</th>\n",
       "      <td>1DQJ_AB:C</td>\n",
       "      <td>AA</td>\n",
       "      <td>1DQQ_CD</td>\n",
       "      <td>Fab Hyhel63</td>\n",
       "      <td>3LZT_</td>\n",
       "      <td>HEW lysozyme</td>\n",
       "      <td>0.75</td>\n",
       "      <td>1765</td>\n",
       "      <td>2.0</td>\n",
       "      <td>Rigid</td>\n",
       "    </tr>\n",
       "    <tr>\n",
       "      <th>2</th>\n",
       "      <td>1E6J_HL:P</td>\n",
       "      <td>AA</td>\n",
       "      <td>1E6O_HL</td>\n",
       "      <td>Fab</td>\n",
       "      <td>1A43_</td>\n",
       "      <td>HIV-1 capsid protein p24</td>\n",
       "      <td>1.05</td>\n",
       "      <td>1245</td>\n",
       "      <td>2.0</td>\n",
       "      <td>Rigid</td>\n",
       "    </tr>\n",
       "    <tr>\n",
       "      <th>3</th>\n",
       "      <td>1JPS_HL:T</td>\n",
       "      <td>AA</td>\n",
       "      <td>1JPT_HL</td>\n",
       "      <td>Fab D3H44</td>\n",
       "      <td>1TFH_B</td>\n",
       "      <td>Tissue factor</td>\n",
       "      <td>0.51</td>\n",
       "      <td>1852</td>\n",
       "      <td>2.0</td>\n",
       "      <td>Rigid</td>\n",
       "    </tr>\n",
       "    <tr>\n",
       "      <th>4</th>\n",
       "      <td>1MLC_AB:E</td>\n",
       "      <td>AA</td>\n",
       "      <td>1MLB_AB</td>\n",
       "      <td>Fab44.1</td>\n",
       "      <td>3LZT_</td>\n",
       "      <td>HEW lysozyme</td>\n",
       "      <td>0.60</td>\n",
       "      <td>1392</td>\n",
       "      <td>2.0</td>\n",
       "      <td>Rigid</td>\n",
       "    </tr>\n",
       "  </tbody>\n",
       "</table>\n",
       "</div>"
      ],
      "text/plain": [
       "     Complex Cat. PDB ID 1    Protein 1 PDB ID 2                 Protein 2  \\\n",
       "0  1AHW_AB:C   AA  1FGN_LH      Fab 5g9   1TFH_A             Tissue factor   \n",
       "1  1DQJ_AB:C   AA  1DQQ_CD  Fab Hyhel63    3LZT_              HEW lysozyme   \n",
       "2  1E6J_HL:P   AA  1E6O_HL          Fab    1A43_  HIV-1 capsid protein p24   \n",
       "3  1JPS_HL:T   AA  1JPT_HL    Fab D3H44   1TFH_B             Tissue factor   \n",
       "4  1MLC_AB:E   AA  1MLB_AB      Fab44.1    3LZT_              HEW lysozyme   \n",
       "\n",
       "   I-RMSD (Å)  ΔASA(Å2)  BM version introduced Difficulty  \n",
       "0        0.69      1899                    2.0      Rigid  \n",
       "1        0.75      1765                    2.0      Rigid  \n",
       "2        1.05      1245                    2.0      Rigid  \n",
       "3        0.51      1852                    2.0      Rigid  \n",
       "4        0.60      1392                    2.0      Rigid  "
      ]
     },
     "execution_count": 56,
     "metadata": {},
     "output_type": "execute_result"
    }
   ],
   "source": [
    "benchmark_info.head()"
   ]
  }
 ],
 "metadata": {
  "kernelspec": {
   "display_name": "ag_affinity",
   "language": "python",
   "name": "ag_affinity"
  },
  "language_info": {
   "codemirror_mode": {
    "name": "ipython",
    "version": 3
   },
   "file_extension": ".py",
   "mimetype": "text/x-python",
   "name": "python",
   "nbconvert_exporter": "python",
   "pygments_lexer": "ipython3",
   "version": "3.8.10"
  }
 },
 "nbformat": 4,
 "nbformat_minor": 5
}
