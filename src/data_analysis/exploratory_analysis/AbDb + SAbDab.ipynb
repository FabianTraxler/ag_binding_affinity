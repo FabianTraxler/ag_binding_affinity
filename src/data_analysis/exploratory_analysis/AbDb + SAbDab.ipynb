{
 "cells": [
  {
   "cell_type": "markdown",
   "id": "2d4249ee",
   "metadata": {},
   "source": [
    "# Combination of AbDb and SAbDab for affinity values and redundancy check\n",
    "\n",
    "Additionally compare to Antibody Benchmark"
   ]
  },
  {
   "cell_type": "code",
   "execution_count": 1,
   "id": "53b84e45",
   "metadata": {},
   "outputs": [],
   "source": [
    "import pandas as pd\n",
    "import yaml\n",
    "import os\n",
    "from tqdm import tqdm\n",
    "import numpy as np"
   ]
  },
  {
   "cell_type": "code",
   "execution_count": 2,
   "id": "334e21dc",
   "metadata": {},
   "outputs": [],
   "source": [
    "import warnings\n",
    "warnings.filterwarnings(\"ignore\")\n",
    "\n",
    "from abag_affinity.utils.config import read_config, get_data_paths, get_resources_paths"
   ]
  },
  {
   "cell_type": "code",
   "execution_count": 3,
   "id": "be814ace",
   "metadata": {},
   "outputs": [],
   "source": [
    "config = read_config(\"../../config.yaml\")\n",
    "sabdab_summary_path, sabdab_pdb_path = get_resources_paths(config, \"SAbDab\")\n",
    "abdb_summary_path, abdb_pdb_path = get_resources_paths(config, \"AbDb\")"
   ]
  },
  {
   "cell_type": "code",
   "execution_count": 4,
   "id": "670300ff",
   "metadata": {},
   "outputs": [],
   "source": [
    "abdb_pdb_ids = os.listdir(abdb_pdb_path)\n",
    "abdb_pdb_ids = set([ pdb_id.split(\"_\")[0].lower() for pdb_id in abdb_pdb_ids])"
   ]
  },
  {
   "cell_type": "code",
   "execution_count": 5,
   "id": "7bac6622",
   "metadata": {},
   "outputs": [],
   "source": [
    "sabdab_df = pd.read_csv(sabdab_summary_path, sep=\"\\t\")\n",
    "#sabdab_df = sabdab_df[sabdab_df[\"antigen_type\"].isin([\"protein\", \"peptide\"])]\n",
    "sabdab_pdb_ids = set(sabdab_df[\"pdb\"].unique())"
   ]
  },
  {
   "cell_type": "code",
   "execution_count": 6,
   "id": "d1f3644a",
   "metadata": {},
   "outputs": [
    {
     "name": "stdout",
     "output_type": "stream",
     "text": [
      "Number of Total PDB IDs in AbDb >>> 2140\n",
      "Number of Total PDB IDs in SAbDab >>> 746\n"
     ]
    }
   ],
   "source": [
    "print(\"Number of Total PDB IDs in AbDb >>> {}\".format(len(abdb_pdb_ids)))#\n",
    "print(\"Number of Total PDB IDs in SAbDab >>> {}\".format(len(sabdab_pdb_ids)))"
   ]
  },
  {
   "cell_type": "code",
   "execution_count": 7,
   "id": "6a038fa7",
   "metadata": {},
   "outputs": [
    {
     "name": "stdout",
     "output_type": "stream",
     "text": [
      "Number of overlapping PDB IDs >>> 476\n"
     ]
    }
   ],
   "source": [
    "overlapping_ids = abdb_pdb_ids.intersection(sabdab_pdb_ids)\n",
    "print(\"Number of overlapping PDB IDs >>> {}\".format(len(overlapping_ids)))"
   ]
  },
  {
   "cell_type": "markdown",
   "id": "2b91329d",
   "metadata": {},
   "source": [
    "## Comparison with Antibody Benchmark"
   ]
  },
  {
   "cell_type": "code",
   "execution_count": 8,
   "id": "6ea237bc",
   "metadata": {},
   "outputs": [
    {
     "name": "stdout",
     "output_type": "stream",
     "text": [
      "There are 42 ab-ag cases with affinity\n"
     ]
    }
   ],
   "source": [
    "benchmark_summary_path, benchmark_pdb_path = get_resources_paths(config, \"AntibodyBenchmark\")\n",
    "benchmark_df = pd.read_excel(benchmark_summary_path)\n",
    "\n",
    "benchmark_df = benchmark_df.replace(\" \", np.nan)\n",
    "benchmark_df = benchmark_df[benchmark_df[\"ΔG (kcal/mol)\"].notnull() & benchmark_df[\"Kd (nM)\"].notnull()]\n",
    "print(\"There are {} ab-ag cases with affinity\".format(len(benchmark_df)))\n",
    "benchmark_pdb_ids = set([ pdb_id.split(\"_\")[0].lower() for pdb_id in benchmark_df[\"Complex PDB\"].unique() ])"
   ]
  },
  {
   "cell_type": "code",
   "execution_count": 9,
   "id": "d4a2cbd0",
   "metadata": {},
   "outputs": [
    {
     "name": "stdout",
     "output_type": "stream",
     "text": [
      "Number of overlapping PDB IDs with AbDb >>> 31\n"
     ]
    }
   ],
   "source": [
    "print(\"Number of overlapping PDB IDs with AbDb >>> {}\".format(len(abdb_pdb_ids.intersection(benchmark_pdb_ids))))"
   ]
  },
  {
   "cell_type": "code",
   "execution_count": 10,
   "id": "f5a88d90",
   "metadata": {},
   "outputs": [
    {
     "name": "stdout",
     "output_type": "stream",
     "text": [
      "Number of overlapping PDB IDs with SAbDab >>> 31\n"
     ]
    }
   ],
   "source": [
    "print(\"Number of overlapping PDB IDs with SAbDab >>> {}\".format(len(sabdab_pdb_ids.intersection(benchmark_pdb_ids))))"
   ]
  },
  {
   "cell_type": "code",
   "execution_count": 11,
   "id": "4204912c",
   "metadata": {},
   "outputs": [
    {
     "name": "stdout",
     "output_type": "stream",
     "text": [
      "Number of overlapping PDB IDs with both >>> 26\n"
     ]
    }
   ],
   "source": [
    "print(\"Number of overlapping PDB IDs with both >>> {}\".format(len(overlapping_ids.intersection(benchmark_pdb_ids))))"
   ]
  },
  {
   "cell_type": "markdown",
   "id": "3b246e87",
   "metadata": {},
   "source": [
    "## Comparison of Affinity Values between SAbDab and Antibody Benchmark"
   ]
  },
  {
   "cell_type": "code",
   "execution_count": 12,
   "id": "d4b9e6cb",
   "metadata": {},
   "outputs": [],
   "source": [
    "benchmark_df[\"pdb\"] = benchmark_df[\"Complex PDB\"].apply(lambda x: x.split(\"_\")[0].lower())"
   ]
  },
  {
   "cell_type": "code",
   "execution_count": 13,
   "id": "f547fa91",
   "metadata": {},
   "outputs": [
    {
     "data": {
      "text/html": [
       "<div>\n",
       "<style scoped>\n",
       "    .dataframe tbody tr th:only-of-type {\n",
       "        vertical-align: middle;\n",
       "    }\n",
       "\n",
       "    .dataframe tbody tr th {\n",
       "        vertical-align: top;\n",
       "    }\n",
       "\n",
       "    .dataframe thead th {\n",
       "        text-align: right;\n",
       "    }\n",
       "</style>\n",
       "<table border=\"1\" class=\"dataframe\">\n",
       "  <thead>\n",
       "    <tr style=\"text-align: right;\">\n",
       "      <th></th>\n",
       "      <th>pdb</th>\n",
       "      <th>Hchain</th>\n",
       "      <th>Lchain</th>\n",
       "      <th>model</th>\n",
       "      <th>antigen_chain</th>\n",
       "      <th>antigen_type</th>\n",
       "      <th>antigen_het_name</th>\n",
       "      <th>antigen_name</th>\n",
       "      <th>short_header</th>\n",
       "      <th>date</th>\n",
       "      <th>...</th>\n",
       "      <th>Antibody PDB</th>\n",
       "      <th>Antibody</th>\n",
       "      <th>Antigen PDB</th>\n",
       "      <th>Antigen</th>\n",
       "      <th>I-RMSD (Å)</th>\n",
       "      <th>ΔASA (Å2)</th>\n",
       "      <th>Category</th>\n",
       "      <th>New</th>\n",
       "      <th>Kd (nM)</th>\n",
       "      <th>ΔG (kcal/mol)</th>\n",
       "    </tr>\n",
       "  </thead>\n",
       "  <tbody>\n",
       "    <tr>\n",
       "      <th>0</th>\n",
       "      <td>5wux</td>\n",
       "      <td>C</td>\n",
       "      <td>D</td>\n",
       "      <td>0</td>\n",
       "      <td>G</td>\n",
       "      <td>protein</td>\n",
       "      <td>NaN</td>\n",
       "      <td>tumor necrosis factor alpha</td>\n",
       "      <td>IMMUNE SYSTEM</td>\n",
       "      <td>12/21/16</td>\n",
       "      <td>...</td>\n",
       "      <td>5WUV_HL</td>\n",
       "      <td>certolizumab (Cimzia)</td>\n",
       "      <td>1TNF_CBA</td>\n",
       "      <td>TNFalpha</td>\n",
       "      <td>0.80</td>\n",
       "      <td>2072.8</td>\n",
       "      <td>Rigid</td>\n",
       "      <td>X</td>\n",
       "      <td>0.0274</td>\n",
       "      <td>-14.41</td>\n",
       "    </tr>\n",
       "    <tr>\n",
       "      <th>1</th>\n",
       "      <td>5wux</td>\n",
       "      <td>A</td>\n",
       "      <td>B</td>\n",
       "      <td>0</td>\n",
       "      <td>F</td>\n",
       "      <td>protein</td>\n",
       "      <td>NaN</td>\n",
       "      <td>tumor necrosis factor alpha</td>\n",
       "      <td>IMMUNE SYSTEM</td>\n",
       "      <td>12/21/16</td>\n",
       "      <td>...</td>\n",
       "      <td>5WUV_HL</td>\n",
       "      <td>certolizumab (Cimzia)</td>\n",
       "      <td>1TNF_CBA</td>\n",
       "      <td>TNFalpha</td>\n",
       "      <td>0.80</td>\n",
       "      <td>2072.8</td>\n",
       "      <td>Rigid</td>\n",
       "      <td>X</td>\n",
       "      <td>0.0274</td>\n",
       "      <td>-14.41</td>\n",
       "    </tr>\n",
       "    <tr>\n",
       "      <th>2</th>\n",
       "      <td>5wux</td>\n",
       "      <td>H</td>\n",
       "      <td>L</td>\n",
       "      <td>0</td>\n",
       "      <td>E</td>\n",
       "      <td>protein</td>\n",
       "      <td>NaN</td>\n",
       "      <td>tumor necrosis factor alpha</td>\n",
       "      <td>IMMUNE SYSTEM</td>\n",
       "      <td>12/21/16</td>\n",
       "      <td>...</td>\n",
       "      <td>5WUV_HL</td>\n",
       "      <td>certolizumab (Cimzia)</td>\n",
       "      <td>1TNF_CBA</td>\n",
       "      <td>TNFalpha</td>\n",
       "      <td>0.80</td>\n",
       "      <td>2072.8</td>\n",
       "      <td>Rigid</td>\n",
       "      <td>X</td>\n",
       "      <td>0.0274</td>\n",
       "      <td>-14.41</td>\n",
       "    </tr>\n",
       "    <tr>\n",
       "      <th>3</th>\n",
       "      <td>4gxu</td>\n",
       "      <td>M</td>\n",
       "      <td>N</td>\n",
       "      <td>0</td>\n",
       "      <td>A</td>\n",
       "      <td>protein</td>\n",
       "      <td>NaN</td>\n",
       "      <td>hemagglutinin ha1 chain</td>\n",
       "      <td>VIRAL PROTEIN/IMMUNE SYSTEM</td>\n",
       "      <td>09/04/12</td>\n",
       "      <td>...</td>\n",
       "      <td>4GXV_HL</td>\n",
       "      <td>1F1 antibody</td>\n",
       "      <td>1RUZ_HIJKLM</td>\n",
       "      <td>1918 H1 Hemagglutinin</td>\n",
       "      <td>0.78</td>\n",
       "      <td>1830.0</td>\n",
       "      <td>Rigid</td>\n",
       "      <td>NaN</td>\n",
       "      <td>6.2000</td>\n",
       "      <td>-11.20</td>\n",
       "    </tr>\n",
       "    <tr>\n",
       "      <th>4</th>\n",
       "      <td>4gxu</td>\n",
       "      <td>W</td>\n",
       "      <td>X</td>\n",
       "      <td>0</td>\n",
       "      <td>K</td>\n",
       "      <td>protein</td>\n",
       "      <td>NaN</td>\n",
       "      <td>hemagglutinin ha1 chain</td>\n",
       "      <td>VIRAL PROTEIN/IMMUNE SYSTEM</td>\n",
       "      <td>09/04/12</td>\n",
       "      <td>...</td>\n",
       "      <td>4GXV_HL</td>\n",
       "      <td>1F1 antibody</td>\n",
       "      <td>1RUZ_HIJKLM</td>\n",
       "      <td>1918 H1 Hemagglutinin</td>\n",
       "      <td>0.78</td>\n",
       "      <td>1830.0</td>\n",
       "      <td>Rigid</td>\n",
       "      <td>NaN</td>\n",
       "      <td>6.2000</td>\n",
       "      <td>-11.20</td>\n",
       "    </tr>\n",
       "  </tbody>\n",
       "</table>\n",
       "<p>5 rows × 41 columns</p>\n",
       "</div>"
      ],
      "text/plain": [
       "    pdb Hchain Lchain  model antigen_chain antigen_type antigen_het_name  \\\n",
       "0  5wux      C      D      0             G      protein              NaN   \n",
       "1  5wux      A      B      0             F      protein              NaN   \n",
       "2  5wux      H      L      0             E      protein              NaN   \n",
       "3  4gxu      M      N      0             A      protein              NaN   \n",
       "4  4gxu      W      X      0             K      protein              NaN   \n",
       "\n",
       "                  antigen_name                 short_header      date  ...  \\\n",
       "0  tumor necrosis factor alpha                IMMUNE SYSTEM  12/21/16  ...   \n",
       "1  tumor necrosis factor alpha                IMMUNE SYSTEM  12/21/16  ...   \n",
       "2  tumor necrosis factor alpha                IMMUNE SYSTEM  12/21/16  ...   \n",
       "3      hemagglutinin ha1 chain  VIRAL PROTEIN/IMMUNE SYSTEM  09/04/12  ...   \n",
       "4      hemagglutinin ha1 chain  VIRAL PROTEIN/IMMUNE SYSTEM  09/04/12  ...   \n",
       "\n",
       "  Antibody PDB               Antibody  Antigen PDB                Antigen  \\\n",
       "0      5WUV_HL  certolizumab (Cimzia)     1TNF_CBA               TNFalpha   \n",
       "1      5WUV_HL  certolizumab (Cimzia)     1TNF_CBA               TNFalpha   \n",
       "2      5WUV_HL  certolizumab (Cimzia)     1TNF_CBA               TNFalpha   \n",
       "3      4GXV_HL           1F1 antibody  1RUZ_HIJKLM  1918 H1 Hemagglutinin   \n",
       "4      4GXV_HL           1F1 antibody  1RUZ_HIJKLM  1918 H1 Hemagglutinin   \n",
       "\n",
       "  I-RMSD (Å) ΔASA (Å2)  Category  New Kd (nM) ΔG (kcal/mol)  \n",
       "0       0.80    2072.8     Rigid    X  0.0274        -14.41  \n",
       "1       0.80    2072.8     Rigid    X  0.0274        -14.41  \n",
       "2       0.80    2072.8     Rigid    X  0.0274        -14.41  \n",
       "3       0.78    1830.0     Rigid  NaN  6.2000        -11.20  \n",
       "4       0.78    1830.0     Rigid  NaN  6.2000        -11.20  \n",
       "\n",
       "[5 rows x 41 columns]"
      ]
     },
     "execution_count": 13,
     "metadata": {},
     "output_type": "execute_result"
    }
   ],
   "source": [
    "overlapping_data = sabdab_df.merge(benchmark_df, on=\"pdb\", how=\"inner\")\n",
    "overlapping_data.head()"
   ]
  },
  {
   "cell_type": "code",
   "execution_count": 14,
   "id": "d5375bc2",
   "metadata": {},
   "outputs": [
    {
     "data": {
      "text/plain": [
       "array(['5wux', '4gxu', '4etq', '5hys', '3hi6', '3wd5', '4dn4', '4pou',\n",
       "       '5kov', '3g6d', '2fjg', '5sv3', '6b0s', '3mj9', '3v6z', '5whk',\n",
       "       '5grj', '4fqi', '2w9e', '2dd8', '5hgg', '3l5w', '5c7x', '4m5z',\n",
       "       '3eoa', '3rvw', '4g6j', '4g6m', '2vxt', '6a0z', '3mxw'],\n",
       "      dtype=object)"
      ]
     },
     "execution_count": 14,
     "metadata": {},
     "output_type": "execute_result"
    }
   ],
   "source": [
    "overlapping_data[\"pdb\"].unique()"
   ]
  },
  {
   "cell_type": "code",
   "execution_count": 15,
   "id": "e868513e",
   "metadata": {},
   "outputs": [
    {
     "data": {
      "text/plain": [
       "0.9999951144763157"
      ]
     },
     "execution_count": 15,
     "metadata": {},
     "output_type": "execute_result"
    }
   ],
   "source": [
    "overlapping_data[\"affinity\"].corr(overlapping_data[\"Kd (nM)\"].astype(float))"
   ]
  },
  {
   "cell_type": "markdown",
   "id": "88464414",
   "metadata": {},
   "source": [
    "## Analysis of overlapping Complexes"
   ]
  },
  {
   "cell_type": "code",
   "execution_count": 16,
   "id": "537aeb15",
   "metadata": {},
   "outputs": [
    {
     "data": {
      "text/html": [
       "<div>\n",
       "<style scoped>\n",
       "    .dataframe tbody tr th:only-of-type {\n",
       "        vertical-align: middle;\n",
       "    }\n",
       "\n",
       "    .dataframe tbody tr th {\n",
       "        vertical-align: top;\n",
       "    }\n",
       "\n",
       "    .dataframe thead th {\n",
       "        text-align: right;\n",
       "    }\n",
       "</style>\n",
       "<table border=\"1\" class=\"dataframe\">\n",
       "  <thead>\n",
       "    <tr style=\"text-align: right;\">\n",
       "      <th></th>\n",
       "      <th>pdb</th>\n",
       "      <th>Hchain</th>\n",
       "      <th>Lchain</th>\n",
       "      <th>model</th>\n",
       "      <th>antigen_chain</th>\n",
       "      <th>antigen_type</th>\n",
       "      <th>antigen_het_name</th>\n",
       "      <th>antigen_name</th>\n",
       "      <th>short_header</th>\n",
       "      <th>date</th>\n",
       "      <th>...</th>\n",
       "      <th>engineered</th>\n",
       "      <th>heavy_subclass</th>\n",
       "      <th>light_subclass</th>\n",
       "      <th>light_ctype</th>\n",
       "      <th>affinity</th>\n",
       "      <th>delta_g</th>\n",
       "      <th>affinity_method</th>\n",
       "      <th>temperature</th>\n",
       "      <th>pmid</th>\n",
       "      <th>pdb_filename</th>\n",
       "    </tr>\n",
       "  </thead>\n",
       "  <tbody>\n",
       "    <tr>\n",
       "      <th>0</th>\n",
       "      <td>1hh9</td>\n",
       "      <td>B</td>\n",
       "      <td>A</td>\n",
       "      <td>0</td>\n",
       "      <td>C</td>\n",
       "      <td>peptide</td>\n",
       "      <td>NaN</td>\n",
       "      <td>pep-2</td>\n",
       "      <td>IMMUNE SYSTEM/PEPTIDE</td>\n",
       "      <td>12/21/00</td>\n",
       "      <td>...</td>\n",
       "      <td>False</td>\n",
       "      <td>IGHV1</td>\n",
       "      <td>IGKV14</td>\n",
       "      <td>Kappa</td>\n",
       "      <td>1.000000e-05</td>\n",
       "      <td>NaN</td>\n",
       "      <td>Other</td>\n",
       "      <td>4</td>\n",
       "      <td>10990450</td>\n",
       "      <td>1HH9_1.pdb</td>\n",
       "    </tr>\n",
       "    <tr>\n",
       "      <th>1</th>\n",
       "      <td>2r56</td>\n",
       "      <td>I</td>\n",
       "      <td>M</td>\n",
       "      <td>0</td>\n",
       "      <td>B</td>\n",
       "      <td>protein</td>\n",
       "      <td>NaN</td>\n",
       "      <td>beta-lactoglobulin</td>\n",
       "      <td>IMMUNE SYSTEM</td>\n",
       "      <td>09/03/07</td>\n",
       "      <td>...</td>\n",
       "      <td>False</td>\n",
       "      <td>IGHV3</td>\n",
       "      <td>IGKV1</td>\n",
       "      <td>Kappa</td>\n",
       "      <td>1.300000e-09</td>\n",
       "      <td>-12.120000</td>\n",
       "      <td>SPR</td>\n",
       "      <td>NaN</td>\n",
       "      <td>17997967</td>\n",
       "      <td>2R56_1.pdb</td>\n",
       "    </tr>\n",
       "    <tr>\n",
       "      <th>2</th>\n",
       "      <td>2r56</td>\n",
       "      <td>H</td>\n",
       "      <td>L</td>\n",
       "      <td>0</td>\n",
       "      <td>A</td>\n",
       "      <td>protein</td>\n",
       "      <td>NaN</td>\n",
       "      <td>beta-lactoglobulin</td>\n",
       "      <td>IMMUNE SYSTEM</td>\n",
       "      <td>09/03/07</td>\n",
       "      <td>...</td>\n",
       "      <td>False</td>\n",
       "      <td>IGHV3</td>\n",
       "      <td>IGKV1</td>\n",
       "      <td>Kappa</td>\n",
       "      <td>1.300000e-09</td>\n",
       "      <td>-12.120000</td>\n",
       "      <td>SPR</td>\n",
       "      <td>NaN</td>\n",
       "      <td>17997967</td>\n",
       "      <td>2R56_1.pdb</td>\n",
       "    </tr>\n",
       "    <tr>\n",
       "      <th>3</th>\n",
       "      <td>5wux</td>\n",
       "      <td>C</td>\n",
       "      <td>D</td>\n",
       "      <td>0</td>\n",
       "      <td>G</td>\n",
       "      <td>protein</td>\n",
       "      <td>NaN</td>\n",
       "      <td>tumor necrosis factor alpha</td>\n",
       "      <td>IMMUNE SYSTEM</td>\n",
       "      <td>12/21/16</td>\n",
       "      <td>...</td>\n",
       "      <td>True</td>\n",
       "      <td>IGHV3</td>\n",
       "      <td>IGKV1</td>\n",
       "      <td>Kappa</td>\n",
       "      <td>2.740000e-11</td>\n",
       "      <td>-14.409486</td>\n",
       "      <td>SPR</td>\n",
       "      <td>NaN</td>\n",
       "      <td>TBD</td>\n",
       "      <td>5WUX_1.pdb</td>\n",
       "    </tr>\n",
       "    <tr>\n",
       "      <th>4</th>\n",
       "      <td>5wux</td>\n",
       "      <td>A</td>\n",
       "      <td>B</td>\n",
       "      <td>0</td>\n",
       "      <td>F</td>\n",
       "      <td>protein</td>\n",
       "      <td>NaN</td>\n",
       "      <td>tumor necrosis factor alpha</td>\n",
       "      <td>IMMUNE SYSTEM</td>\n",
       "      <td>12/21/16</td>\n",
       "      <td>...</td>\n",
       "      <td>True</td>\n",
       "      <td>IGHV3</td>\n",
       "      <td>IGKV1</td>\n",
       "      <td>Kappa</td>\n",
       "      <td>2.740000e-11</td>\n",
       "      <td>-14.409486</td>\n",
       "      <td>SPR</td>\n",
       "      <td>NaN</td>\n",
       "      <td>TBD</td>\n",
       "      <td>5WUX_1.pdb</td>\n",
       "    </tr>\n",
       "  </tbody>\n",
       "</table>\n",
       "<p>5 rows × 31 columns</p>\n",
       "</div>"
      ],
      "text/plain": [
       "    pdb Hchain Lchain  model antigen_chain antigen_type antigen_het_name  \\\n",
       "0  1hh9      B      A      0             C      peptide              NaN   \n",
       "1  2r56      I      M      0             B      protein              NaN   \n",
       "2  2r56      H      L      0             A      protein              NaN   \n",
       "3  5wux      C      D      0             G      protein              NaN   \n",
       "4  5wux      A      B      0             F      protein              NaN   \n",
       "\n",
       "                  antigen_name           short_header      date  ...  \\\n",
       "0                        pep-2  IMMUNE SYSTEM/PEPTIDE  12/21/00  ...   \n",
       "1           beta-lactoglobulin          IMMUNE SYSTEM  09/03/07  ...   \n",
       "2           beta-lactoglobulin          IMMUNE SYSTEM  09/03/07  ...   \n",
       "3  tumor necrosis factor alpha          IMMUNE SYSTEM  12/21/16  ...   \n",
       "4  tumor necrosis factor alpha          IMMUNE SYSTEM  12/21/16  ...   \n",
       "\n",
       "  engineered heavy_subclass light_subclass light_ctype      affinity  \\\n",
       "0      False          IGHV1         IGKV14       Kappa  1.000000e-05   \n",
       "1      False          IGHV3          IGKV1       Kappa  1.300000e-09   \n",
       "2      False          IGHV3          IGKV1       Kappa  1.300000e-09   \n",
       "3       True          IGHV3          IGKV1       Kappa  2.740000e-11   \n",
       "4       True          IGHV3          IGKV1       Kappa  2.740000e-11   \n",
       "\n",
       "     delta_g  affinity_method temperature      pmid pdb_filename  \n",
       "0        NaN            Other           4  10990450   1HH9_1.pdb  \n",
       "1 -12.120000              SPR         NaN  17997967   2R56_1.pdb  \n",
       "2 -12.120000              SPR         NaN  17997967   2R56_1.pdb  \n",
       "3 -14.409486              SPR         NaN       TBD   5WUX_1.pdb  \n",
       "4 -14.409486              SPR         NaN       TBD   5WUX_1.pdb  \n",
       "\n",
       "[5 rows x 31 columns]"
      ]
     },
     "execution_count": 16,
     "metadata": {},
     "output_type": "execute_result"
    }
   ],
   "source": [
    "#sabdab_df.drop_duplicates('pdb', inplace=True)\n",
    "overlapping_data = sabdab_df[sabdab_df[\"pdb\"].isin(overlapping_ids)].copy()\n",
    "overlapping_data = overlapping_data.reset_index().drop([\"index\"], axis=1)\n",
    "overlapping_data[\"pdb_filename\"] = overlapping_data[\"pdb\"].apply(lambda x: x.upper() + \"_1.pdb\")\n",
    "overlapping_data.head()"
   ]
  },
  {
   "cell_type": "code",
   "execution_count": 17,
   "id": "233d187c",
   "metadata": {},
   "outputs": [
    {
     "data": {
      "text/html": [
       "<div>\n",
       "<style scoped>\n",
       "    .dataframe tbody tr th:only-of-type {\n",
       "        vertical-align: middle;\n",
       "    }\n",
       "\n",
       "    .dataframe tbody tr th {\n",
       "        vertical-align: top;\n",
       "    }\n",
       "\n",
       "    .dataframe thead th {\n",
       "        text-align: right;\n",
       "    }\n",
       "</style>\n",
       "<table border=\"1\" class=\"dataframe\">\n",
       "  <thead>\n",
       "    <tr style=\"text-align: right;\">\n",
       "      <th></th>\n",
       "      <th>pdb</th>\n",
       "      <th>Hchain</th>\n",
       "      <th>Lchain</th>\n",
       "      <th>model</th>\n",
       "      <th>antigen_chain</th>\n",
       "      <th>antigen_type</th>\n",
       "      <th>antigen_het_name</th>\n",
       "      <th>antigen_name</th>\n",
       "      <th>short_header</th>\n",
       "      <th>date</th>\n",
       "      <th>...</th>\n",
       "      <th>engineered</th>\n",
       "      <th>heavy_subclass</th>\n",
       "      <th>light_subclass</th>\n",
       "      <th>light_ctype</th>\n",
       "      <th>affinity</th>\n",
       "      <th>delta_g</th>\n",
       "      <th>affinity_method</th>\n",
       "      <th>temperature</th>\n",
       "      <th>pmid</th>\n",
       "      <th>pdb_filename</th>\n",
       "    </tr>\n",
       "  </thead>\n",
       "  <tbody>\n",
       "  </tbody>\n",
       "</table>\n",
       "<p>0 rows × 31 columns</p>\n",
       "</div>"
      ],
      "text/plain": [
       "Empty DataFrame\n",
       "Columns: [pdb, Hchain, Lchain, model, antigen_chain, antigen_type, antigen_het_name, antigen_name, short_header, date, compound, organism, heavy_species, light_species, antigen_species, authors, resolution, method, r_free, r_factor, scfv, engineered, heavy_subclass, light_subclass, light_ctype, affinity, delta_g, affinity_method, temperature, pmid, pdb_filename]\n",
       "Index: []\n",
       "\n",
       "[0 rows x 31 columns]"
      ]
     },
     "execution_count": 17,
     "metadata": {},
     "output_type": "execute_result"
    }
   ],
   "source": [
    "overlapping_data[overlapping_data[\"affinity\"].isnull()]"
   ]
  },
  {
   "cell_type": "markdown",
   "id": "90773cb5",
   "metadata": {},
   "source": [
    "## Calculate Temperature of affinity prediction experiment\n",
    "\n",
    "Experiment with temperature values and how they are connected to the Kd and delta G values. "
   ]
  },
  {
   "cell_type": "code",
   "execution_count": 18,
   "id": "b44f1770",
   "metadata": {},
   "outputs": [],
   "source": [
    "import numpy as np\n",
    "gas_constant =  8.31446261815324 # 0.0821\n",
    "\n",
    "def calc_temp(row):\n",
    "    kd = row[\"affinity\"]\n",
    "    delta_g = row[\"delta_g\"] * 4184 # convert kcal to joule \n",
    "    return (delta_g / (gas_constant * np.log(kd))) - 273.15 # convert kelvin to celsius\n",
    "\n",
    "def calc_delta_g(row):\n",
    "    delta_g = gas_constant * row[\"temperature_kelvin\"] * np.log(row[\"affinity\"])\n",
    "    return delta_g / 4184 # convert to kcal"
   ]
  },
  {
   "cell_type": "code",
   "execution_count": 19,
   "id": "8752f64e",
   "metadata": {},
   "outputs": [
    {
     "data": {
      "text/html": [
       "<div>\n",
       "<style scoped>\n",
       "    .dataframe tbody tr th:only-of-type {\n",
       "        vertical-align: middle;\n",
       "    }\n",
       "\n",
       "    .dataframe tbody tr th {\n",
       "        vertical-align: top;\n",
       "    }\n",
       "\n",
       "    .dataframe thead th {\n",
       "        text-align: right;\n",
       "    }\n",
       "</style>\n",
       "<table border=\"1\" class=\"dataframe\">\n",
       "  <thead>\n",
       "    <tr style=\"text-align: right;\">\n",
       "      <th></th>\n",
       "      <th>temperature</th>\n",
       "      <th>affinity</th>\n",
       "      <th>calc_dg</th>\n",
       "      <th>delta_g</th>\n",
       "    </tr>\n",
       "  </thead>\n",
       "  <tbody>\n",
       "    <tr>\n",
       "      <th>0</th>\n",
       "      <td>4</td>\n",
       "      <td>1.000000e-05</td>\n",
       "      <td>-6.340786</td>\n",
       "      <td>NaN</td>\n",
       "    </tr>\n",
       "    <tr>\n",
       "      <th>9</th>\n",
       "      <td>25</td>\n",
       "      <td>1.000000e-10</td>\n",
       "      <td>-13.642470</td>\n",
       "      <td>-13.63</td>\n",
       "    </tr>\n",
       "    <tr>\n",
       "      <th>32</th>\n",
       "      <td>25</td>\n",
       "      <td>2.860000e-09</td>\n",
       "      <td>-11.655627</td>\n",
       "      <td>-11.45</td>\n",
       "    </tr>\n",
       "    <tr>\n",
       "      <th>53</th>\n",
       "      <td>25</td>\n",
       "      <td>9.100000e-08</td>\n",
       "      <td>-9.605607</td>\n",
       "      <td>-9.60</td>\n",
       "    </tr>\n",
       "    <tr>\n",
       "      <th>54</th>\n",
       "      <td>25</td>\n",
       "      <td>9.100000e-08</td>\n",
       "      <td>-9.605607</td>\n",
       "      <td>-9.60</td>\n",
       "    </tr>\n",
       "    <tr>\n",
       "      <th>...</th>\n",
       "      <td>...</td>\n",
       "      <td>...</td>\n",
       "      <td>...</td>\n",
       "      <td>...</td>\n",
       "    </tr>\n",
       "    <tr>\n",
       "      <th>818</th>\n",
       "      <td>25</td>\n",
       "      <td>1.300000e-09</td>\n",
       "      <td>-12.122776</td>\n",
       "      <td>-12.12</td>\n",
       "    </tr>\n",
       "    <tr>\n",
       "      <th>822</th>\n",
       "      <td>25</td>\n",
       "      <td>4.100000e-08</td>\n",
       "      <td>-10.077988</td>\n",
       "      <td>-10.07</td>\n",
       "    </tr>\n",
       "    <tr>\n",
       "      <th>823</th>\n",
       "      <td>25</td>\n",
       "      <td>1.420000e-08</td>\n",
       "      <td>-10.706217</td>\n",
       "      <td>-10.70</td>\n",
       "    </tr>\n",
       "    <tr>\n",
       "      <th>832</th>\n",
       "      <td>22</td>\n",
       "      <td>8.900000e-09</td>\n",
       "      <td>-10.872509</td>\n",
       "      <td>-10.87</td>\n",
       "    </tr>\n",
       "    <tr>\n",
       "      <th>833</th>\n",
       "      <td>30</td>\n",
       "      <td>7.000000e-10</td>\n",
       "      <td>-12.698998</td>\n",
       "      <td>-12.70</td>\n",
       "    </tr>\n",
       "  </tbody>\n",
       "</table>\n",
       "<p>157 rows × 4 columns</p>\n",
       "</div>"
      ],
      "text/plain": [
       "    temperature      affinity    calc_dg  delta_g\n",
       "0             4  1.000000e-05  -6.340786      NaN\n",
       "9            25  1.000000e-10 -13.642470   -13.63\n",
       "32           25  2.860000e-09 -11.655627   -11.45\n",
       "53           25  9.100000e-08  -9.605607    -9.60\n",
       "54           25  9.100000e-08  -9.605607    -9.60\n",
       "..          ...           ...        ...      ...\n",
       "818          25  1.300000e-09 -12.122776   -12.12\n",
       "822          25  4.100000e-08 -10.077988   -10.07\n",
       "823          25  1.420000e-08 -10.706217   -10.70\n",
       "832          22  8.900000e-09 -10.872509   -10.87\n",
       "833          30  7.000000e-10 -12.698998   -12.70\n",
       "\n",
       "[157 rows x 4 columns]"
      ]
     },
     "execution_count": 19,
     "metadata": {},
     "output_type": "execute_result"
    }
   ],
   "source": [
    "temperature_data = overlapping_data[overlapping_data[\"temperature\"].notnull() & overlapping_data[\"affinity\"].notnull() & ~ overlapping_data[\"temperature\"].isin([\"Unknown\", \"SPR\", \"BLI\"])].copy()\n",
    "temperature_data[\"temperature_kelvin\"] = temperature_data[\"temperature\"].astype(int) + 273.15\n",
    "temperature_data[\"affinity\"] = temperature_data[\"affinity\"].astype(float)\n",
    "\n",
    "temperature_data[\"calc_dg\"] = temperature_data.apply(lambda row: calc_delta_g(row), axis=1)\n",
    "\n",
    "temperature_data[[\"temperature\", \"affinity\", \"calc_dg\", \"delta_g\"]]"
   ]
  },
  {
   "cell_type": "code",
   "execution_count": 20,
   "id": "9d56fc60",
   "metadata": {},
   "outputs": [
    {
     "data": {
      "text/plain": [
       "0.9996887835584191"
      ]
     },
     "execution_count": 20,
     "metadata": {},
     "output_type": "execute_result"
    }
   ],
   "source": [
    "temperature_data[\"calc_dg\"].corr(temperature_data[\"delta_g\"])"
   ]
  },
  {
   "cell_type": "code",
   "execution_count": 21,
   "id": "c805cf3a",
   "metadata": {},
   "outputs": [],
   "source": [
    "affinity_data = overlapping_data[overlapping_data[\"affinity\"].notnull() & overlapping_data[\"delta_g\"].notnull()].copy()\n",
    "\n",
    "affinity_data[\"calculated_temp\"] = affinity_data.apply(lambda row: calc_temp(row), axis=1).round(0).astype(int)"
   ]
  },
  {
   "cell_type": "code",
   "execution_count": 22,
   "id": "46627f97",
   "metadata": {},
   "outputs": [
    {
     "data": {
      "text/plain": [
       "calculated_temp\n",
       "25    755\n",
       "37     24\n",
       "20     11\n",
       "23      5\n",
       "16      4\n",
       "30      4\n",
       "28      3\n",
       "4       2\n",
       "22      2\n",
       "29      2\n",
       "24      1\n",
       "27      1\n",
       "43      1\n",
       "dtype: int64"
      ]
     },
     "execution_count": 22,
     "metadata": {},
     "output_type": "execute_result"
    }
   ],
   "source": [
    "affinity_data.value_counts(\"calculated_temp\")"
   ]
  },
  {
   "cell_type": "markdown",
   "id": "15e7df12",
   "metadata": {},
   "source": [
    "## Chain Analysis"
   ]
  },
  {
   "cell_type": "code",
   "execution_count": 23,
   "id": "2bf1be78",
   "metadata": {},
   "outputs": [
    {
     "name": "stdout",
     "output_type": "stream",
     "text": [
      "Getting Strcuture for 2r56\n"
     ]
    }
   ],
   "source": [
    "from abag_affinity.utils.pdb_reader import read_file\n",
    "\n",
    "row = overlapping_data[overlapping_data[\"pdb\"] == \"2r56\"].iloc[0]\n",
    "print(\"Getting Strcuture for {}\".format(row[\"pdb\"]))\n",
    "path = os.path.join(abdb_pdb_path, row[\"pdb_filename\"])\n",
    "structure, header= read_file(row[\"pdb\"], path)"
   ]
  },
  {
   "cell_type": "code",
   "execution_count": 24,
   "id": "4f022634",
   "metadata": {},
   "outputs": [
    {
     "data": {
      "text/plain": [
       "1.3e-09"
      ]
     },
     "execution_count": 24,
     "metadata": {},
     "output_type": "execute_result"
    }
   ],
   "source": [
    "row[\"affinity\"]"
   ]
  },
  {
   "cell_type": "code",
   "execution_count": 25,
   "id": "bb5cfc55",
   "metadata": {},
   "outputs": [
    {
     "data": {
      "text/plain": [
       "[<Chain id=L>, <Chain id=H>, <Chain id=A>]"
      ]
     },
     "execution_count": 25,
     "metadata": {},
     "output_type": "execute_result"
    }
   ],
   "source": [
    "chain_list = list(structure.get_chains())\n",
    "chain_list"
   ]
  },
  {
   "cell_type": "code",
   "execution_count": 26,
   "id": "26978e32",
   "metadata": {},
   "outputs": [
    {
     "data": {
      "text/plain": [
       "[<Chain id=L>, <Chain id=H>, <Chain id=A>]"
      ]
     },
     "execution_count": 26,
     "metadata": {},
     "output_type": "execute_result"
    }
   ],
   "source": [
    "from Bio.PDB import Selection\n",
    "Selection.unfold_entities(structure, 'C')"
   ]
  },
  {
   "cell_type": "code",
   "execution_count": 27,
   "id": "83a32ed4",
   "metadata": {},
   "outputs": [],
   "source": [
    "resiude_list = list(chain_list[0].get_residues())"
   ]
  },
  {
   "cell_type": "code",
   "execution_count": 28,
   "id": "71920ff4",
   "metadata": {},
   "outputs": [
    {
     "data": {
      "text/plain": [
       "{'L': 'DIVMTQSPSSLSASVGDRVTITCRASQGISSRLAWYQQKPGKAPKLLIYAASSLQSGVPSRFSGSGSGTEFTLTISSLQPEDFATYYCQQYHSYPWTFGQGTKLEIKRTV',\n",
       " 'H': 'QVSLRESGGGLVQPGRSLRLSCTASGFTFRHHGMTWVRQAPGKGLEWVASLSGSGTKTHFADSVKGRFTISRDNSNNTLYLQMDNVRDEDTAIYYCAKAKRVGATGYFDLWGRGTLVTVSS',\n",
       " 'A': 'TQTMKGLDIQKVAGTWYSLAMAASDISLLDAQSAPLRVYVEELKPTPEGDLEILLQKWENGECAQKKIIAEKTKIPAVFKIDALNENKVLVLDTDYKKYLLFCMENSAEPEQSLACQCLVRTPEVDDEALEKFDKALKALPMHIRLSFNPTQLEEQCHI'}"
      ]
     },
     "execution_count": 28,
     "metadata": {},
     "output_type": "execute_result"
    }
   ],
   "source": [
    "from Bio.SeqUtils import seq1\n",
    "chains = {chain.id:seq1(''.join(residue.resname for residue in chain)) for chain in structure.get_chains()}\n",
    "chains"
   ]
  }
 ],
 "metadata": {
  "kernelspec": {
   "display_name": "Python 3 (ipykernel)",
   "language": "python",
   "name": "python3"
  },
  "language_info": {
   "codemirror_mode": {
    "name": "ipython",
    "version": 3
   },
   "file_extension": ".py",
   "mimetype": "text/x-python",
   "name": "python",
   "nbconvert_exporter": "python",
   "pygments_lexer": "ipython3",
   "version": "3.7.12"
  }
 },
 "nbformat": 4,
 "nbformat_minor": 5
}
