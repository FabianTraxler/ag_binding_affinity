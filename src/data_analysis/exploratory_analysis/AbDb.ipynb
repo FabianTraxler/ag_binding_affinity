{
 "cells": [
  {
   "cell_type": "markdown",
   "id": "635e9a30",
   "metadata": {},
   "source": [
    "# AbDb Data Analysis\n",
    "\n",
    "The metadata files have been downloaded from http://www.abybank.org/abdb/ using the \"Complete Antibodies - Martin Numbering - Non Redundant (NR)\" Dataset. (10.05.2022)"
   ]
  },
  {
   "cell_type": "code",
   "execution_count": 1,
   "id": "68545662",
   "metadata": {},
   "outputs": [],
   "source": [
    "import pandas as pd\n",
    "import yaml\n",
    "import os\n",
    "from ast import literal_eval"
   ]
  },
  {
   "cell_type": "code",
   "execution_count": 2,
   "id": "d09f0ffa",
   "metadata": {},
   "outputs": [],
   "source": [
    "from abag_affinity.utils.config import read_config, get_data_paths, get_resources_paths\n",
    "\n",
    "config = read_config(\"../../config.yaml\")\n",
    "_, pdb_path = get_resources_paths(config, \"AbDb\")"
   ]
  },
  {
   "cell_type": "code",
   "execution_count": 3,
   "id": "5568812c",
   "metadata": {},
   "outputs": [
    {
     "data": {
      "text/html": [
       "<div>\n",
       "<style scoped>\n",
       "    .dataframe tbody tr th:only-of-type {\n",
       "        vertical-align: middle;\n",
       "    }\n",
       "\n",
       "    .dataframe tbody tr th {\n",
       "        vertical-align: top;\n",
       "    }\n",
       "\n",
       "    .dataframe thead th {\n",
       "        text-align: right;\n",
       "    }\n",
       "</style>\n",
       "<table border=\"1\" class=\"dataframe\">\n",
       "  <thead>\n",
       "    <tr style=\"text-align: right;\">\n",
       "      <th></th>\n",
       "    </tr>\n",
       "  </thead>\n",
       "  <tbody>\n",
       "  </tbody>\n",
       "</table>\n",
       "</div>"
      ],
      "text/plain": [
       "Empty DataFrame\n",
       "Columns: []\n",
       "Index: []"
      ]
     },
     "execution_count": 3,
     "metadata": {},
     "output_type": "execute_result"
    }
   ],
   "source": [
    "abdb_df = pd.DataFrame()\n",
    "abdb_df = pd.DataFrame()\n",
    "\n",
    "abdb_df.head()"
   ]
  },
  {
   "cell_type": "code",
   "execution_count": 4,
   "id": "ceda1995",
   "metadata": {},
   "outputs": [
    {
     "name": "stdout",
     "output_type": "stream",
     "text": [
      "Number of PDB Files >>> 3446\n"
     ]
    }
   ],
   "source": [
    "pdb_files = os.listdir(pdb_path)\n",
    "\n",
    "print(\"Number of PDB Files >>>\", len(pdb_files))"
   ]
  },
  {
   "cell_type": "code",
   "execution_count": 5,
   "id": "3af7d580",
   "metadata": {},
   "outputs": [],
   "source": [
    "if len(abdb_df) == 0:\n",
    "    abdb_df[\"abdb_filename\"] = pdb_files\n",
    "    pdb_ids = [pdb_file.split(\"_\")[0].lower() for pdb_file in pdb_files]\n",
    "\n",
    "    abdb_df[\"pdb\"] = pdb_ids"
   ]
  },
  {
   "cell_type": "code",
   "execution_count": 6,
   "id": "b913a223",
   "metadata": {},
   "outputs": [
    {
     "data": {
      "text/html": [
       "<div>\n",
       "<style scoped>\n",
       "    .dataframe tbody tr th:only-of-type {\n",
       "        vertical-align: middle;\n",
       "    }\n",
       "\n",
       "    .dataframe tbody tr th {\n",
       "        vertical-align: top;\n",
       "    }\n",
       "\n",
       "    .dataframe thead th {\n",
       "        text-align: right;\n",
       "    }\n",
       "</style>\n",
       "<table border=\"1\" class=\"dataframe\">\n",
       "  <thead>\n",
       "    <tr style=\"text-align: right;\">\n",
       "      <th></th>\n",
       "      <th>abdb_filename</th>\n",
       "      <th>pdb</th>\n",
       "    </tr>\n",
       "  </thead>\n",
       "  <tbody>\n",
       "    <tr>\n",
       "      <th>0</th>\n",
       "      <td>6N5E_1.pdb</td>\n",
       "      <td>6n5e</td>\n",
       "    </tr>\n",
       "    <tr>\n",
       "      <th>1</th>\n",
       "      <td>6CUE_5.pdb</td>\n",
       "      <td>6cue</td>\n",
       "    </tr>\n",
       "    <tr>\n",
       "      <th>2</th>\n",
       "      <td>4TTD_1.pdb</td>\n",
       "      <td>4ttd</td>\n",
       "    </tr>\n",
       "    <tr>\n",
       "      <th>3</th>\n",
       "      <td>5kvd.pdb</td>\n",
       "      <td>5kvd.pdb</td>\n",
       "    </tr>\n",
       "    <tr>\n",
       "      <th>4</th>\n",
       "      <td>1XCQ_3.pdb</td>\n",
       "      <td>1xcq</td>\n",
       "    </tr>\n",
       "  </tbody>\n",
       "</table>\n",
       "</div>"
      ],
      "text/plain": [
       "  abdb_filename       pdb\n",
       "0    6N5E_1.pdb      6n5e\n",
       "1    6CUE_5.pdb      6cue\n",
       "2    4TTD_1.pdb      4ttd\n",
       "3      5kvd.pdb  5kvd.pdb\n",
       "4    1XCQ_3.pdb      1xcq"
      ]
     },
     "execution_count": 6,
     "metadata": {},
     "output_type": "execute_result"
    }
   ],
   "source": [
    "abdb_df.head()"
   ]
  },
  {
   "cell_type": "markdown",
   "id": "6f7447d1",
   "metadata": {},
   "source": [
    "## Chain Protein Connection Analysis\n",
    "\n",
    "Check how to identify if a chain belongs to antibody or antigen:\n",
    "\n",
    "- Check if in every conformation a light (L) and heavy (H) chain exist that belong to the antibody\n",
    "- Check if there are any specific naming conventions for antigen chains"
   ]
  },
  {
   "cell_type": "code",
   "execution_count": 7,
   "id": "a84606f6",
   "metadata": {},
   "outputs": [],
   "source": [
    "import warnings\n",
    "warnings.filterwarnings(\"ignore\")\n",
    "from abag_affinity.utils.pdb_reader import read_file\n",
    "\n",
    "def get_chain_ids(row):\n",
    "    pdb_id = row[\"pdb\"]\n",
    "    path = os.path.join(pdb_path, row[\"abdb_filename\"])\n",
    "    \n",
    "    structure, header = read_file(pdb_id, path)\n",
    "    \n",
    "    chain_ids = []\n",
    "    for chain in structure.get_chains():\n",
    "        chain_ids.append(chain.id)\n",
    "    return chain_ids\n",
    "\n",
    "def check_LH_chains(row):\n",
    "    if \"L\" in row[\"chains\"] and \"H\" in row[\"chains\"]:\n",
    "        return True\n",
    "    else:\n",
    "        return False"
   ]
  },
  {
   "cell_type": "code",
   "execution_count": 8,
   "id": "2bbebcfc",
   "metadata": {},
   "outputs": [
    {
     "name": "stdout",
     "output_type": "stream",
     "text": [
      "PDB Files where chain L and H do not exist >>> 0\n"
     ]
    }
   ],
   "source": [
    "from tqdm.auto import tqdm\n",
    "tqdm.pandas()\n",
    "\n",
    "if \"antibody_chains\" not in abdb_df.columns and \"chains\" not in abdb_df.columns:\n",
    "    abdb_df[\"chains\"] = abdb_df.apply(lambda row: get_chain_ids(row), axis=1)\n",
    "if \"antibody_chains\" not in abdb_df.columns and \"LH_exist\" not in abdb_df.columns:\n",
    "    abdb_df[\"LH_exist\"] = abdb_df.apply(lambda row: check_LH_chains(row), axis=1)\n",
    "    print(\"PDB Files where chain L and H do not exist >>> {}\".format(abdb_df[\"LH_exist\"].count() - abdb_df[\"LH_exist\"].sum()))"
   ]
  },
  {
   "cell_type": "code",
   "execution_count": 9,
   "id": "90334433",
   "metadata": {},
   "outputs": [],
   "source": [
    "if \"antibody_chains\" not in abdb_df.columns:\n",
    "    abdb_df[\"antibody_chains\"] = [[\"L\", \"H\"] for i in abdb_df.index]"
   ]
  },
  {
   "cell_type": "code",
   "execution_count": 10,
   "id": "1729530c",
   "metadata": {},
   "outputs": [],
   "source": [
    "def get_antigen_chains(row):\n",
    "    antigen_chains = set(row[\"chains\"]) - set(row[\"antibody_chains\"])\n",
    "    return list(antigen_chains)\n",
    "\n",
    "if \"antigen_chains\" not in abdb_df.columns:\n",
    "    abdb_df[\"antigen_chains\"] = abdb_df.apply(lambda row: get_antigen_chains(row), axis=1)"
   ]
  },
  {
   "cell_type": "code",
   "execution_count": 11,
   "id": "952cca86",
   "metadata": {},
   "outputs": [],
   "source": [
    "from Bio import PDB\n",
    "\n",
    "def get_antigen_size(row):\n",
    "    antigen_chains = row[\"antigen_chains\"]\n",
    "    if isinstance(antigen_chains, str):\n",
    "        antigen_chains = literal_eval(antigen_chains)\n",
    "    pdb_id = row[\"pdb\"]\n",
    "    path = os.path.join(pdb_path, row[\"abdb_filename\"])\n",
    "    \n",
    "    structure, header = read_file(pdb_id, path)\n",
    "    \n",
    "    total_residues = 0\n",
    "    total_non_residues = 0\n",
    "\n",
    "    for chain_id in antigen_chains:\n",
    "        chain = structure[0][chain_id]\n",
    "        for residue in chain.get_residues():\n",
    "            if PDB.is_aa(residue):\n",
    "                total_residues += 1\n",
    "            else:\n",
    "                total_non_residues\n",
    "                \n",
    "    row[\"antigen_length\"] = total_residues\n",
    "    row[\"antigen_length_no_residues\"] = total_non_residues\n",
    "\n",
    "    return row\n",
    "\n",
    "\n",
    "if \"antigen_length\" not in abdb_df.columns:\n",
    "    abdb_df = abdb_df.apply(lambda row: get_antigen_size(row), axis=1)"
   ]
  },
  {
   "cell_type": "code",
   "execution_count": 13,
   "id": "9b75f7d9",
   "metadata": {},
   "outputs": [
    {
     "data": {
      "text/html": [
       "<div>\n",
       "<style scoped>\n",
       "    .dataframe tbody tr th:only-of-type {\n",
       "        vertical-align: middle;\n",
       "    }\n",
       "\n",
       "    .dataframe tbody tr th {\n",
       "        vertical-align: top;\n",
       "    }\n",
       "\n",
       "    .dataframe thead th {\n",
       "        text-align: right;\n",
       "    }\n",
       "</style>\n",
       "<table border=\"1\" class=\"dataframe\">\n",
       "  <thead>\n",
       "    <tr style=\"text-align: right;\">\n",
       "      <th></th>\n",
       "      <th>abdb_filename</th>\n",
       "      <th>pdb</th>\n",
       "      <th>antibody_chains</th>\n",
       "      <th>antigen_chains</th>\n",
       "      <th>antigen_length</th>\n",
       "    </tr>\n",
       "  </thead>\n",
       "  <tbody>\n",
       "    <tr>\n",
       "      <th>0</th>\n",
       "      <td>6N5E_1.pdb</td>\n",
       "      <td>6n5e</td>\n",
       "      <td>[L, H]</td>\n",
       "      <td>[B]</td>\n",
       "      <td>282</td>\n",
       "    </tr>\n",
       "    <tr>\n",
       "      <th>1</th>\n",
       "      <td>6CUE_5.pdb</td>\n",
       "      <td>6cue</td>\n",
       "      <td>[L, H]</td>\n",
       "      <td>[2, 1]</td>\n",
       "      <td>585</td>\n",
       "    </tr>\n",
       "    <tr>\n",
       "      <th>2</th>\n",
       "      <td>4TTD_1.pdb</td>\n",
       "      <td>4ttd</td>\n",
       "      <td>[L, H]</td>\n",
       "      <td>[A]</td>\n",
       "      <td>127</td>\n",
       "    </tr>\n",
       "    <tr>\n",
       "      <th>3</th>\n",
       "      <td>5kvd.pdb</td>\n",
       "      <td>5kvd.pdb</td>\n",
       "      <td>[L, H]</td>\n",
       "      <td>[E]</td>\n",
       "      <td>108</td>\n",
       "    </tr>\n",
       "    <tr>\n",
       "      <th>4</th>\n",
       "      <td>1XCQ_3.pdb</td>\n",
       "      <td>1xcq</td>\n",
       "      <td>[L, H]</td>\n",
       "      <td>[P]</td>\n",
       "      <td>24</td>\n",
       "    </tr>\n",
       "  </tbody>\n",
       "</table>\n",
       "</div>"
      ],
      "text/plain": [
       "  abdb_filename       pdb antibody_chains antigen_chains  antigen_length\n",
       "0    6N5E_1.pdb      6n5e          [L, H]            [B]             282\n",
       "1    6CUE_5.pdb      6cue          [L, H]         [2, 1]             585\n",
       "2    4TTD_1.pdb      4ttd          [L, H]            [A]             127\n",
       "3      5kvd.pdb  5kvd.pdb          [L, H]            [E]             108\n",
       "4    1XCQ_3.pdb      1xcq          [L, H]            [P]              24"
      ]
     },
     "execution_count": 13,
     "metadata": {},
     "output_type": "execute_result"
    }
   ],
   "source": [
    "abdb_df = abdb_df[[\"abdb_filename\", \"pdb\", \"antibody_chains\", \"antigen_chains\", \"antigen_length\"]]\n",
    "\n",
    "abdb_df.head()"
   ]
  },
  {
   "cell_type": "code",
   "execution_count": null,
   "id": "65e5fb71",
   "metadata": {},
   "outputs": [],
   "source": []
  }
 ],
 "metadata": {
  "kernelspec": {
   "display_name": "Python 3 (ipykernel)",
   "language": "python",
   "name": "python3"
  },
  "language_info": {
   "codemirror_mode": {
    "name": "ipython",
    "version": 3
   },
   "file_extension": ".py",
   "mimetype": "text/x-python",
   "name": "python",
   "nbconvert_exporter": "python",
   "pygments_lexer": "ipython3",
   "version": "3.7.12"
  }
 },
 "nbformat": 4,
 "nbformat_minor": 5
}
