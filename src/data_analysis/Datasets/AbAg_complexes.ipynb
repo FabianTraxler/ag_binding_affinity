{
 "cells": [
  {
   "cell_type": "markdown",
   "id": "d79cbc1a",
   "metadata": {},
   "source": [
    "# AbAg_complex Version 1\n",
    "\n",
    "This notebook generates a dataframe containing information about data first version of the Antibody-Antigen_complexes dataset:\n",
    "\n",
    "- Overlap of AbDb data (filtered and enriched abag data) with SAbDab data (affinity values for conformtions) "
   ]
  },
  {
   "cell_type": "code",
   "execution_count": 14,
   "id": "da299287",
   "metadata": {},
   "outputs": [],
   "source": [
    "import os\n",
    "import pandas as pd\n",
    "import warnings\n",
    "from tqdm import tqdm_notebook\n",
    "\n",
    "warnings.filterwarnings(\"ignore\")\n",
    "from abag_affinity.utils.config import read_config, get_data_paths, get_resources_paths"
   ]
  },
  {
   "cell_type": "code",
   "execution_count": 15,
   "id": "4f7cee0f",
   "metadata": {},
   "outputs": [],
   "source": [
    "config = read_config(\"../../config.yaml\")\n",
    "\n",
    "summary_path, pdb_path = get_resources_paths(config, \"SAbDab\")\n",
    "sabdb_summary_df = pd.read_csv(summary_path, sep=\"\\t\")\n",
    "sabdb_summary_df = sabdb_summary_df.set_index(\"pdb\")\n",
    "\n",
    "abdb_summary_path, abdb_pdb_path = get_resources_paths(config, \"AbDb\")\n",
    "abdb_summary_df = pd.read_csv(abdb_summary_path)\n",
    "abdb_summary_df = abdb_summary_df.set_index(\"pdb\")\n",
    "abdb_pdb_ids = os.listdir(abdb_pdb_path)\n",
    "abdb_pdb_ids = set([ pdb_id.split(\"_\")[0].lower() for pdb_id in abdb_pdb_ids])"
   ]
  },
  {
   "cell_type": "code",
   "execution_count": 16,
   "id": "d0a207df",
   "metadata": {},
   "outputs": [],
   "source": [
    "# get overlap using pdb ids\n",
    "sabdab_pdb_ids = set(sabdb_summary_df.index.unique())\n",
    "overlapping_ids = abdb_pdb_ids.intersection(sabdab_pdb_ids)"
   ]
  },
  {
   "cell_type": "markdown",
   "id": "867657af",
   "metadata": {},
   "source": [
    "#### Incorporate redundant files"
   ]
  },
  {
   "cell_type": "code",
   "execution_count": 17,
   "id": "c2c9a524",
   "metadata": {},
   "outputs": [],
   "source": [
    "# load information on redundant AbDb files\n",
    "redunant_file_path = os.path.join(config[\"RESOURCES\"][\"path\"], config[\"RESOURCES\"][\"AbDb\"][\"folder_path\"], \"Redundant_LH_Protein_Martin.txt\")\n",
    "with open(redunant_file_path) as f:\n",
    "    lines = f.readlines()\n",
    "    \n",
    "redundant_ids = {}\n",
    "all_ids = set() # all (redundant) PDB ids in AbDb\n",
    "for line in lines:\n",
    "    pdb_ids = line.split(\",\")\n",
    "    pdb_ids = [pdb_id.strip().lower().split(\"_\")[0] for pdb_id in pdb_ids]\n",
    "    pdb_ids = [pdb_id for pdb_id in pdb_ids if pdb_id.strip() != \"\"]\n",
    "    all_ids.update(pdb_ids)\n",
    "    for i, pdb_id in enumerate(pdb_ids):\n",
    "        redundant_ids[pdb_id] = pdb_ids"
   ]
  },
  {
   "cell_type": "code",
   "execution_count": 19,
   "id": "537023b4",
   "metadata": {},
   "outputs": [
    {
     "data": {
      "text/plain": [
       "1694"
      ]
     },
     "execution_count": 19,
     "metadata": {},
     "output_type": "execute_result"
    }
   ],
   "source": [
    "len(all_ids)"
   ]
  },
  {
   "cell_type": "code",
   "execution_count": 20,
   "id": "a96edd8f",
   "metadata": {},
   "outputs": [
    {
     "data": {
      "text/plain": [
       "746"
      ]
     },
     "execution_count": 20,
     "metadata": {},
     "output_type": "execute_result"
    }
   ],
   "source": [
    "len(sabdab_pdb_ids)"
   ]
  },
  {
   "cell_type": "code",
   "execution_count": 22,
   "id": "133d4f97",
   "metadata": {},
   "outputs": [
    {
     "data": {
      "text/plain": [
       "385"
      ]
     },
     "execution_count": 22,
     "metadata": {},
     "output_type": "execute_result"
    }
   ],
   "source": [
    "len(overlapping_ids)"
   ]
  },
  {
   "cell_type": "code",
   "execution_count": 23,
   "id": "e5becc93",
   "metadata": {},
   "outputs": [
    {
     "data": {
      "text/plain": [
       "1146"
      ]
     },
     "execution_count": 23,
     "metadata": {},
     "output_type": "execute_result"
    }
   ],
   "source": [
    "len(abdb_pdb_ids)"
   ]
  },
  {
   "cell_type": "code",
   "execution_count": 12,
   "id": "fead2152",
   "metadata": {},
   "outputs": [],
   "source": [
    "# remove all PDB ids that are redundant to one of the overlapping PDB Ids\n",
    "for pdb_id in overlapping_ids:\n",
    "    for redundant_id in redundant_ids[pdb_id]:\n",
    "        all_ids.discard(redundant_id)"
   ]
  },
  {
   "cell_type": "code",
   "execution_count": 24,
   "id": "e8536d3a",
   "metadata": {},
   "outputs": [],
   "source": [
    "add_pdbs = set()\n",
    "\n",
    "remaining_in_sabdab = all_ids.intersection(sabdab_pdb_ids)\n",
    "while len(remaining_in_sabdab) > 0:\n",
    "    pdb_id = remaining_in_sabdab.pop()\n",
    "    add_pdbs.add(pdb_id)\n",
    "    for redundant_id in redundant_ids[pdb_id]:\n",
    "        remaining_in_sabdab.discard(redundant_id)"
   ]
  },
  {
   "cell_type": "code",
   "execution_count": 25,
   "id": "7f039de1",
   "metadata": {},
   "outputs": [
    {
     "data": {
      "text/plain": [
       "set()"
      ]
     },
     "execution_count": 25,
     "metadata": {},
     "output_type": "execute_result"
    }
   ],
   "source": [
    "remaining_in_sabdab"
   ]
  },
  {
   "cell_type": "code",
   "execution_count": null,
   "id": "9b30bdac",
   "metadata": {},
   "outputs": [],
   "source": [
    "# download extra pdb files from AbDb database\n",
    "import urllib.request \n",
    "\n",
    "download_extra_files = False\n",
    "\n",
    "if download_extra_files:\n",
    "\n",
    "    url = \"http://www.abybank.org/abdb/Data/LH_Protein_Martin/{}_1.pdb\"\n",
    "\n",
    "    for pdb_id in add_pdbs:\n",
    "        pdb_id = pdb_id.upper()\n",
    "        filepath = os.path.join(abdb_pdb_path, pdb_id + \"_1.pdb\")\n",
    "        if os.path.exists(filepath):\n",
    "            print(pdb, \"already exists\")\n",
    "            continue\n",
    "        try:\n",
    "            urllib.request.urlretrieve(url.format(pdb_id), filepath)\n",
    "        except:\n",
    "            print(pdb_id)\n",
    "        print(\"Downloaded\", pdb_id)"
   ]
  },
  {
   "cell_type": "code",
   "execution_count": null,
   "id": "3abfde58",
   "metadata": {},
   "outputs": [],
   "source": [
    "#overlapping_ids.update(add_pdbs)"
   ]
  },
  {
   "cell_type": "code",
   "execution_count": null,
   "id": "f7cc6941",
   "metadata": {},
   "outputs": [],
   "source": [
    "dataset = sabdb_summary_df[sabdb_summary_df.index.isin(overlapping_ids)].copy()\n",
    "dataset = dataset.join(abdb_summary_df)\n",
    "\n",
    "dataset = dataset[[\"affinity\", \"delta_g\", \"affinity_method\", \"temperature\", 'abdb_filename', 'antibody_chains', 'antigen_chains', \"Hchain\", \"Lchain\", \"antigen_chain\"]]"
   ]
  },
  {
   "cell_type": "code",
   "execution_count": null,
   "id": "b567eb73",
   "metadata": {},
   "outputs": [],
   "source": [
    "dataset = dataset.drop_duplicates().reset_index()\n",
    "dataset"
   ]
  },
  {
   "cell_type": "markdown",
   "id": "32a36005",
   "metadata": {},
   "source": [
    "## Check chains of AbDb and SAbDab files"
   ]
  },
  {
   "cell_type": "code",
   "execution_count": null,
   "id": "cb98e37b",
   "metadata": {},
   "outputs": [],
   "source": [
    "import math\n",
    "def get_chains(pdb_row):\n",
    "    \n",
    "    antibody_chains = []\n",
    "    antigen_chains = []\n",
    "    \n",
    "    antibody_chains.append(pdb_row[\"Hchain\"])\n",
    "    antibody_chains.append(pdb_row[\"Lchain\"])\n",
    "        \n",
    "    if isinstance(pdb_row[\"antigen_chain\"], str):\n",
    "        if \"|\" in pdb_row[\"antigen_chain\"]:\n",
    "            for chain_id in pdb_row[\"antigen_chain\"].split(\"|\"):\n",
    "                antigen_chains.append(chain_id.strip())\n",
    "\n",
    "        else:\n",
    "            antigen_chains.append(pdb_row[\"antigen_chain\"])\n",
    "    \n",
    "    return antibody_chains, antigen_chains"
   ]
  },
  {
   "cell_type": "code",
   "execution_count": null,
   "id": "c667f86e",
   "metadata": {},
   "outputs": [],
   "source": [
    "dataset[\"sabdab_antibody_chains\"], dataset[\"sabdab_antigen_chains\"] = zip(*dataset.apply(lambda row: get_chains(row), axis=1))"
   ]
  },
  {
   "cell_type": "code",
   "execution_count": null,
   "id": "41bc6d44",
   "metadata": {},
   "outputs": [],
   "source": [
    "dataset"
   ]
  },
  {
   "cell_type": "markdown",
   "id": "b8900e13",
   "metadata": {},
   "source": [
    "### Calculate Delta_g and -log(Kd) values"
   ]
  },
  {
   "cell_type": "code",
   "execution_count": null,
   "id": "a97e7dca",
   "metadata": {},
   "outputs": [],
   "source": [
    "import numpy as np\n",
    "gas_constant =  8.31446261815324 # 0.0821\n",
    "\n",
    "def calc_temp(row):\n",
    "    kd = row[\"affinity\"]\n",
    "    delta_g = row[\"delta_g\"] * 4184 # convert kcal to joule \n",
    "    if kd == 0 or math.isnan(kd) or math.isnan(delta_g):\n",
    "        return None\n",
    "\n",
    "    return round((delta_g / (gas_constant * np.log(kd))) - 273.15) # convert kelvin to celsius\n",
    "\n",
    "def calc_delta_g(row):\n",
    "    delta_g = gas_constant * row[\"temperature_kelvin\"] * np.log(row[\"affinity\"])\n",
    "    return delta_g / 4184 # convert to kcal"
   ]
  },
  {
   "cell_type": "code",
   "execution_count": null,
   "id": "4e4420e5",
   "metadata": {},
   "outputs": [],
   "source": [
    "dataset[\"calculated_temp\"] = dataset.apply(lambda row: calc_temp(row), axis=1)\n",
    "dataset = dataset[~dataset[\"calculated_temp\"].isnull()]"
   ]
  },
  {
   "cell_type": "code",
   "execution_count": null,
   "id": "e98c9911",
   "metadata": {},
   "outputs": [],
   "source": [
    "# calc -log(Kd)\n",
    "\n",
    "dataset[\"-log(Kd)\"] = dataset.apply(lambda row: -np.log10(row[\"affinity\"]), axis=1)\n",
    "\n",
    "dataset = dataset[dataset[\"-log(Kd)\"].notnull()]"
   ]
  },
  {
   "cell_type": "markdown",
   "id": "ddc4f0bd",
   "metadata": {},
   "source": [
    "## Link Ids to PDB files\n",
    "\n",
    "Use SabDab Files since the affinity values come from this dataset."
   ]
  },
  {
   "cell_type": "code",
   "execution_count": null,
   "id": "5a818d9a",
   "metadata": {},
   "outputs": [],
   "source": [
    "# add pdb file name from AbDb\n",
    "\n",
    "abdb_pdb_path = os.path.join(config[\"RESOURCES\"][\"path\"], config[\"RESOURCES\"][\"AbDb\"][\"folder_path\"], config[\"RESOURCES\"][\"AbDb\"][\"pdb_path\"])\n",
    "\n",
    "pdb_files = os.listdir(abdb_pdb_path)\n",
    "\n",
    "id2file = {file.split(\"_\")[0].lower(): file for file in pdb_files}"
   ]
  },
  {
   "cell_type": "code",
   "execution_count": null,
   "id": "44e133e1",
   "metadata": {},
   "outputs": [],
   "source": [
    "#dataset[\"abdb_file\"] = dataset[\"pdb\"].apply(lambda pdb_id: id2file[pdb_id])\n",
    "dataset[\"filename\"] = dataset[\"abdb_filename\"].fillna(dataset[\"pdb\"].apply(lambda pdb_id: id2file[pdb_id]))\n",
    "\n",
    "dataset = dataset[dataset[\"pdb\"].isin(id2file.keys())]\n",
    "\n",
    "dataset[\"filename\"] = dataset[\"filename\"].apply(lambda x: x.split(\".\")[0].upper() + \".\" + x.split(\".\")[1])"
   ]
  },
  {
   "cell_type": "code",
   "execution_count": null,
   "id": "934e21d0",
   "metadata": {},
   "outputs": [],
   "source": [
    "# clean dataset\n",
    "dataset.drop_duplicates(\"pdb\", inplace=True)\n",
    "dataset = dataset.reset_index().drop(\"index\", axis=1)\n",
    "#dataset = dataset[[\"pdb\", \"abdb_file\", \"antigen_type\", \"antibody_chains\", \"antigen_chains\", 'affinity_method', 'temperature', \"calculated_temp\", 'affinity', 'delta_g', '-log(Kd)' ]]"
   ]
  },
  {
   "cell_type": "markdown",
   "id": "a85f8360",
   "metadata": {},
   "source": [
    "### Mark testset and delete redundant files\n",
    "\n",
    "Use Antibody Benchmark as the final testset --> Remove redundant files."
   ]
  },
  {
   "cell_type": "code",
   "execution_count": null,
   "id": "fb5317b7",
   "metadata": {},
   "outputs": [],
   "source": [
    "dataset[\"test\"] = False"
   ]
  },
  {
   "cell_type": "code",
   "execution_count": null,
   "id": "a2f8f01b",
   "metadata": {},
   "outputs": [],
   "source": [
    "benchmark_summary_path, benchmark_pdb_path = get_resources_paths(config, \"AntibodyBenchmark\")\n",
    "benchmark_summary_df = pd.read_excel(benchmark_summary_path)\n",
    "benchmark_summary_df = benchmark_summary_df.replace(\" \", None)\n",
    "benchmark_summary_df = benchmark_summary_df[benchmark_summary_df[\"ΔG (kcal/mol)\"].notnull() & benchmark_summary_df[\"Kd (nM)\"].notnull()]\n",
    "benchmark_summary_df.reset_index(inplace=True)\n",
    "benchmark_summary_df.drop(\"index\", axis=1)\n",
    "print(\"Numer of available benchmark structures >>>\", len(benchmark_summary_df))"
   ]
  },
  {
   "cell_type": "code",
   "execution_count": null,
   "id": "d2708b86",
   "metadata": {},
   "outputs": [],
   "source": [
    "benchmark_pdb_ids = set([ pdb_id.split(\"_\")[0].lower() for pdb_id in benchmark_summary_df[\"Complex PDB\"].unique() ])\n",
    "overlapping_ids = benchmark_pdb_ids.intersection(set(dataset[\"pdb\"].unique()))\n",
    "print(\"Number of identical PDB of dataset and benchmark_pdb_ids\", len(overlapping_ids))"
   ]
  },
  {
   "cell_type": "code",
   "execution_count": null,
   "id": "732d74f1",
   "metadata": {},
   "outputs": [],
   "source": [
    "# Set these strucutres as testset strucutres in the dataset\n",
    "dataset[\"test\"] = dataset[\"pdb\"].apply(lambda pdb_id: pdb_id in benchmark_pdb_ids)"
   ]
  },
  {
   "cell_type": "code",
   "execution_count": null,
   "id": "9b685eee",
   "metadata": {},
   "outputs": [],
   "source": [
    "benchmark_summary_df[\"pdb\"] = benchmark_summary_df[\"Complex PDB\"].apply(lambda pdb_id: pdb_id.split(\"_\")[0].lower() )\n",
    "remaining_benchmark = benchmark_summary_df[~benchmark_summary_df[\"pdb\"].isin(overlapping_ids)].copy()\n",
    "print(\"Remaining Benchmark Entries\", len(remaining_benchmark))"
   ]
  },
  {
   "cell_type": "code",
   "execution_count": null,
   "id": "8fe23174",
   "metadata": {},
   "outputs": [],
   "source": [
    "benchmark_pdb_ids = set(remaining_benchmark[\"pdb\"].unique())\n",
    "overlapping_ids = benchmark_pdb_ids.intersection(all_ids)\n",
    "print(\"Number of found PDB benchmark_pdb_ids in redundant list >>>\", len(overlapping_ids))\n",
    "print(\"Number of found pdb_ids in that are also in dataset v1 >>>\", len(overlapping_ids.intersection(set(dataset[\"pdb\"].unique()))))\n",
    "print(\"Number of found pdb_ids in that are also in SAbDab >>>\", len(overlapping_ids.intersection(sabdab_pdb_ids)))\n",
    "print(\"Number of found pdb_ids in that are also in AbDb >>>\", len(overlapping_ids.intersection(abdb_pdb_ids)))\n",
    "print(\"Number of found pdb_ids in that are also in AbDb and SAbDab >>>\", len(overlapping_ids.intersection(abdb_pdb_ids).intersection(sabdab_pdb_ids)))\n",
    "print(\"Number of found pdb_ids in neither in AbDb and SAbDab >>>\", len(overlapping_ids - overlapping_ids.intersection(abdb_pdb_ids).union(overlapping_ids.intersection((sabdab_pdb_ids)))))"
   ]
  },
  {
   "cell_type": "markdown",
   "id": "0fe612c5",
   "metadata": {},
   "source": [
    "#### Add additional strucutures from AbDb\n",
    "Add the 10 Strucutures that are also present in AbDb and use the affinity value of the benchmark dataset"
   ]
  },
  {
   "cell_type": "code",
   "execution_count": null,
   "id": "1a2d4782",
   "metadata": {},
   "outputs": [],
   "source": [
    "from abag_affinity.utils.pdb_reader import read_file\n",
    "\n",
    "ii = 0\n",
    "for i, row in remaining_benchmark[remaining_benchmark[\"pdb\"].isin(overlapping_ids.intersection(abdb_pdb_ids))].iterrows():\n",
    "    ii += 1\n",
    "    file_path = os.path.join(abdb_pdb_path, id2file[row[\"pdb\"]])\n",
    "    structure, _ = read_file(row[\"pdb\"], file_path)\n",
    "    chains = structure.get_chains()\n",
    "    chains = set([ chain.id for chain in chains ])\n",
    "    no_ab_chain = list(chains - set([\"H\", \"L\"]))\n",
    "    \n",
    "    \n",
    "    new_entry = {\n",
    "        \"pdb\": row[\"pdb\"],\n",
    "        \"filename\": id2file[row[\"pdb\"]],\n",
    "        \"antigen_type\": \"protein\",\n",
    "        \"antibody_chains\": [\"L\", \"H\"],\n",
    "        \"antigen_chains\": no_ab_chain,\n",
    "        \"affinity_method\": \"-\",\n",
    "        \"temperature\": np.nan,\n",
    "        \"calculated_temp\": calc_temp({\"affinity\": row[\"Kd (nM)\"] * 1e-9, \"delta_g\": row[\"ΔG (kcal/mol)\"]}),\n",
    "        \"affinity\": row[\"Kd (nM)\"] * 1e-9,\n",
    "        \"delta_g\":  row[\"ΔG (kcal/mol)\"],\n",
    "        \"test\": True\n",
    "    }\n",
    "    dataset = dataset.append(new_entry, ignore_index=True)\n",
    "    \n",
    "print(ii, \"Rows added\")"
   ]
  },
  {
   "cell_type": "markdown",
   "id": "d1157f7e",
   "metadata": {},
   "source": [
    "#### Find data that is in SAbDab and Benchmark but not in dataset_v1"
   ]
  },
  {
   "cell_type": "code",
   "execution_count": null,
   "id": "f65883e5",
   "metadata": {},
   "outputs": [],
   "source": [
    "benchmark_pdb_ids = set([ pdb_id.split(\"_\")[0].lower() for pdb_id in benchmark_summary_df[\"Complex PDB\"].unique() ])\n",
    "missing = benchmark_pdb_ids - set(dataset[\"pdb\"].unique())\n",
    "\n",
    "missing_but_sabdab = missing.intersection(sabdab_pdb_ids)\n",
    "missing_but_sabdab"
   ]
  },
  {
   "cell_type": "code",
   "execution_count": null,
   "id": "5b78c3da",
   "metadata": {},
   "outputs": [],
   "source": [
    "missing_sabdab_and_redundant = missing_but_sabdab.intersection(all_ids)\n",
    "missing_sabdab_and_redundant"
   ]
  },
  {
   "cell_type": "markdown",
   "id": "5b25dd2a",
   "metadata": {},
   "source": [
    "Seems like there are 6 cases that are not present in the overlap between AbDb and SAbDab but have affinity values in the benchmark dataset."
   ]
  },
  {
   "cell_type": "code",
   "execution_count": null,
   "id": "0eaa23fa",
   "metadata": {},
   "outputs": [],
   "source": [
    "benchmark_pdb_ids = set([ pdb_id.split(\"_\")[0].lower() for pdb_id in benchmark_summary_df[\"Complex PDB\"].unique() ])\n",
    "overlapping_ids = benchmark_pdb_ids.intersection(set(dataset[\"pdb\"].unique()))\n",
    "print(\"There are still {} cases not in dataset_v1\".format(len(benchmark_summary_df) - len(overlapping_ids)))"
   ]
  },
  {
   "cell_type": "code",
   "execution_count": null,
   "id": "dca083d6",
   "metadata": {},
   "outputs": [],
   "source": [
    "remaining_benchmark = remaining_benchmark[~remaining_benchmark[\"pdb\"].isin(overlapping_ids)]\n",
    "print(\"Remaining Benchmark Entries\", len(remaining_benchmark.isin(overlapping_ids)))"
   ]
  },
  {
   "cell_type": "code",
   "execution_count": null,
   "id": "6aee739f",
   "metadata": {},
   "outputs": [],
   "source": [
    "print(\"There are in total {} complexes in the testset that are taken from the benchmark dataset\".format(dataset[\"test\"].sum()))"
   ]
  },
  {
   "cell_type": "markdown",
   "id": "ef1e21c3",
   "metadata": {},
   "source": [
    "### Validation Splits\n",
    "\n",
    "Split the train data randomly in 3 parts that can each be used for validation during model training and for hyperparameter tuning."
   ]
  },
  {
   "cell_type": "code",
   "execution_count": null,
   "id": "a04ca8a2",
   "metadata": {},
   "outputs": [],
   "source": [
    "dataset[\"validation\"] = 0\n",
    "dataset = dataset.sort_values(by=\"test\")\n",
    "dataset.reset_index(inplace=True)"
   ]
  },
  {
   "cell_type": "code",
   "execution_count": null,
   "id": "0309044f",
   "metadata": {},
   "outputs": [],
   "source": [
    "total_train_data = len(dataset[dataset[\"test\"] == False])\n",
    "print(\"There are in total {} complexes in available for training\".format(total_train_data))"
   ]
  },
  {
   "cell_type": "code",
   "execution_count": null,
   "id": "e875d802",
   "metadata": {},
   "outputs": [],
   "source": [
    "np.random.seed(123)\n",
    "indices = np.arange(total_train_data)\n",
    "np.random.shuffle(indices)\n",
    "val_indices = np.split(indices, [124, 248])"
   ]
  },
  {
   "cell_type": "code",
   "execution_count": null,
   "id": "574eae79",
   "metadata": {},
   "outputs": [],
   "source": [
    "for i, val_idx in enumerate(val_indices):\n",
    "    i += 1\n",
    "    dataset.loc[val_idx, \"validation\"] = i"
   ]
  },
  {
   "cell_type": "code",
   "execution_count": null,
   "id": "7f47d42a",
   "metadata": {},
   "outputs": [],
   "source": [
    "dataset.head()"
   ]
  },
  {
   "cell_type": "code",
   "execution_count": null,
   "id": "c130b1ef",
   "metadata": {},
   "outputs": [],
   "source": [
    "# add chain infos column to resemble other datasets\n",
    "from ast import literal_eval\n",
    "\n",
    "def get_chain_infos(row):\n",
    "    info = {}\n",
    "    \n",
    "    ab_chains = row[\"antibody_chains\"]\n",
    "    if isinstance(ab_chains, str):\n",
    "        ab_chains = literal_eval(ab_chains)\n",
    "    else:\n",
    "        ab_chains = []\n",
    "    for chain in ab_chains:\n",
    "        info[chain.lower()] = 0\n",
    "    \n",
    "    ag_chains = row[\"antigen_chains\"]\n",
    " \n",
    "    if isinstance(ag_chains, str):\n",
    "        ag_chains = literal_eval(ag_chains)\n",
    "    else:\n",
    "        ag_chains = []\n",
    "    for chain in ag_chains:\n",
    "        if chain.lower() in info and info[chain.lower()] != 1:\n",
    "            print(f\"Error in {row['pdb']} - multiple chains with same name\")\n",
    "        info[chain.lower()] = 1\n",
    "    return info\n",
    "\n",
    "dataset[\"chain_infos\"] = dataset.apply(get_chain_infos, axis=1)\n",
    "dataset = dataset[dataset[\"chain_infos\"] != {}]"
   ]
  },
  {
   "cell_type": "code",
   "execution_count": null,
   "id": "935b93cb",
   "metadata": {},
   "outputs": [],
   "source": [
    "dataset[\"data_location\"] = \"RESOURCES\"\n",
    "\n",
    "out_df = dataset[['pdb', 'data_location', 'filename', '-log(Kd)', \"delta_g\", \"chain_infos\", \"validation\", \"test\"]]\n",
    "out_df = out_df.set_index(\"pdb\", drop=False)\n",
    "out_df.index.name = \"\""
   ]
  },
  {
   "cell_type": "code",
   "execution_count": null,
   "id": "6f6296f3",
   "metadata": {},
   "outputs": [],
   "source": [
    "# remove 6bli and 5e8e because antibody and antigen contain L chain --> Problem with model\n",
    "out_df = out_df.drop(\"6bli\")\n",
    "out_df = out_df.drop(\"5e8e\")\n"
   ]
  },
  {
   "cell_type": "code",
   "execution_count": null,
   "id": "1add2328",
   "metadata": {},
   "outputs": [],
   "source": [
    "(out_df[\"validation\"] == i).sum()"
   ]
  },
  {
   "cell_type": "code",
   "execution_count": null,
   "id": "0bd3dcb7",
   "metadata": {},
   "outputs": [],
   "source": [
    "out_df[out_df[\"pdb\"] == \"5W6G\".lower()]"
   ]
  },
  {
   "cell_type": "code",
   "execution_count": null,
   "id": "11be6888",
   "metadata": {},
   "outputs": [],
   "source": [
    "print(f\"Total length of AbAg-Dataset: {len(out_df)}\")\n",
    "for i in range(4):\n",
    "    print(f\"Length of AbAg-Dataset Subset {i}: {(out_df['validation'] == i).sum()}\")\n"
   ]
  },
  {
   "cell_type": "code",
   "execution_count": null,
   "id": "ffb04e89",
   "metadata": {},
   "outputs": [],
   "source": [
    "#out_df.to_csv(os.path.join(config[\"DATA\"][\"path\"], config[\"DATA\"][\"Dataset_v1\"][\"folder_path\"], config[\"DATA\"][\"Dataset_v1\"][\"summary\"]))"
   ]
  },
  {
   "cell_type": "markdown",
   "id": "8f65786a",
   "metadata": {},
   "source": [
    "### Delta G analysis"
   ]
  },
  {
   "cell_type": "code",
   "execution_count": null,
   "id": "87bcecd1",
   "metadata": {},
   "outputs": [],
   "source": [
    "dataset[\"delta_g\"].describe()"
   ]
  },
  {
   "cell_type": "code",
   "execution_count": null,
   "id": "53c88ae5",
   "metadata": {},
   "outputs": [],
   "source": [
    "import seaborn as sns\n",
    "sns.histplot(dataset, x=\"delta_g\", kde=True)"
   ]
  },
  {
   "cell_type": "code",
   "execution_count": null,
   "id": "ae783520",
   "metadata": {},
   "outputs": [],
   "source": [
    "dataset.loc[dataset[\"validation\"] == 3, \"validation\"] = 2 # only compare to validation set 1 for now\n",
    "sns.histplot(dataset, x=\"delta_g\", hue=\"validation\", kde=True)"
   ]
  },
  {
   "cell_type": "code",
   "execution_count": null,
   "id": "3fbcba54",
   "metadata": {},
   "outputs": [],
   "source": [
    "dataset[\"affinity\"].describe()"
   ]
  },
  {
   "cell_type": "markdown",
   "id": "fb222477",
   "metadata": {},
   "source": [
    "## -log(Kg) Analyis"
   ]
  },
  {
   "cell_type": "code",
   "execution_count": null,
   "id": "72a697c1",
   "metadata": {},
   "outputs": [],
   "source": [
    "dataset[\"-log(Kd)\"].describe()"
   ]
  },
  {
   "cell_type": "code",
   "execution_count": null,
   "id": "c4a6cdb1",
   "metadata": {},
   "outputs": [],
   "source": [
    "sns.histplot(dataset, x=\"-log(Kd)\", kde=True)"
   ]
  },
  {
   "cell_type": "code",
   "execution_count": null,
   "id": "1607006d",
   "metadata": {},
   "outputs": [],
   "source": [
    "sns.histplot(dataset, x=\"-log(Kd)\", hue=\"validation\", kde=True)"
   ]
  },
  {
   "cell_type": "code",
   "execution_count": null,
   "id": "7d60041d",
   "metadata": {},
   "outputs": [],
   "source": [
    "#dataset['antibody_chains'] = dataset['antibody_chains'].fillna(dataset['sabdab_antibody_chains'])\n",
    "#dataset['antigen_chains'] = dataset['antigen_chains'].fillna(dataset['sabdab_antigen_chains'])"
   ]
  },
  {
   "cell_type": "code",
   "execution_count": null,
   "id": "119d44f0",
   "metadata": {},
   "outputs": [],
   "source": [
    "dataset['antigen_chains'][0]"
   ]
  },
  {
   "cell_type": "markdown",
   "id": "704bdab8",
   "metadata": {},
   "source": [
    "## Protein Analysis"
   ]
  },
  {
   "cell_type": "markdown",
   "id": "0b47efb9",
   "metadata": {},
   "source": [
    "### Antibody redudancy"
   ]
  },
  {
   "cell_type": "code",
   "execution_count": null,
   "id": "f775c067",
   "metadata": {},
   "outputs": [],
   "source": [
    "from typing import List\n",
    "from Bio.PDB.PDBParser import PDBParser\n",
    "from Bio.SeqUtils import seq1\n",
    "from Bio.Seq import Seq \n",
    "from Bio import pairwise2\n",
    "\n",
    "def get_sequence(filepath: str):\n",
    "    structure = PDBParser(QUIET=True).get_structure('tmp', filepath)\n",
    "    chains = {chain.id:seq1(''.join(residue.resname for residue in chain)) for chain in structure.get_chains()}\n",
    "            \n",
    "    return chains\n",
    "\n",
    "def is_redundant(filepath: str, chains: List, redudancy_cutoff: float = 0.8):\n",
    "    orig_chains = get_sequence(os.path.join(config[\"PROJECT_ROOT\"], filepath))\n",
    "    for val_id, pdb_id, path in zip(val_ids, val_pdbs, pdb_paths):\n",
    "        check_chains = get_sequence(os.path.join(config[\"PROJECT_ROOT\"], \n",
    "                                                 \"resources\", \"AbDb\", \"NR_LH_Protein_Martin\", path))\n",
    "        relevant_check_chains = dataset.loc[val_id, \"antibody_chains\"]\n",
    "        \n",
    "        for orig_chain, orig_seq in orig_chains.items():#\n",
    "            if orig_chain not in chains:\n",
    "                continue\n",
    "            seq1 = Seq(orig_seq)\n",
    "            for check_chain, check_seq in check_chains.items():\n",
    "                if check_chain not in relevant_check_chains:\n",
    "                    continue\n",
    "                seq2 = Seq(check_seq)\n",
    "                alignments = pairwise2.align.globalxx(seq1, seq2)\n",
    "                for alignment in alignments:\n",
    "                    score = alignment.score / (alignment.end - alignment.start)\n",
    "                    if score > redudancy_cutoff:\n",
    "                        return True, orig_chain, pdb_id, check_chain, score\n",
    "    \n",
    "    return False, None, None, None, None"
   ]
  },
  {
   "cell_type": "code",
   "execution_count": null,
   "id": "f711f547",
   "metadata": {},
   "outputs": [],
   "source": [
    "dataset = dataset.reset_index(drop=True)\n",
    "for i in range(len(dataset)):\n",
    "    val_pdbs = dataset.loc[i + 1:,\"pdb\"].tolist()\n",
    "    pdb_paths = dataset.loc[i + 1:,\"filename\"].tolist()\n",
    "    val_ids = dataset.index[i + 1:].tolist()\n",
    "\n",
    "    filepath = os.path.join(config[\"PROJECT_ROOT\"], \"resources\", \"AbDb\", \"NR_LH_Protein_Martin\", dataset.loc[i, \"filename\"])\n",
    "\n",
    "    chains = literal_eval(dataset.loc[i, \"antibody_chains\"])\n",
    "\n",
    "    redundant, orig_chain, pdb_id, check_chain, score = is_redundant(filepath, chains)\n",
    "    print(redundant)"
   ]
  },
  {
   "cell_type": "code",
   "execution_count": null,
   "id": "13a63367",
   "metadata": {},
   "outputs": [],
   "source": [
    "dataset"
   ]
  },
  {
   "cell_type": "code",
   "execution_count": null,
   "id": "db5ce06e",
   "metadata": {},
   "outputs": [],
   "source": []
  }
 ],
 "metadata": {
  "kernelspec": {
   "display_name": "Python 3 (ipykernel)",
   "language": "python",
   "name": "python3"
  },
  "language_info": {
   "codemirror_mode": {
    "name": "ipython",
    "version": 3
   },
   "file_extension": ".py",
   "mimetype": "text/x-python",
   "name": "python",
   "nbconvert_exporter": "python",
   "pygments_lexer": "ipython3",
   "version": "3.7.12"
  }
 },
 "nbformat": 4,
 "nbformat_minor": 5
}
