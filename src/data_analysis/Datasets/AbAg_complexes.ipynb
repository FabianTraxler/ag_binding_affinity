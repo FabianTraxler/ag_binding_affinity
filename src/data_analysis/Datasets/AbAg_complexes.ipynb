{
 "cells": [
  {
   "cell_type": "markdown",
   "id": "d79cbc1a",
   "metadata": {},
   "source": [
    "# AbAg_complex Version 1\n",
    "\n",
    "This notebook generates a dataframe containing information about data first version of the Antibody-Antigen_complexes dataset:\n",
    "\n",
    "- Overlap of AbDb data (filtered and enriched abag data) with SAbDab data (affinity values for conformtions) "
   ]
  },
  {
   "cell_type": "code",
   "execution_count": 1,
   "id": "da299287",
   "metadata": {},
   "outputs": [],
   "source": [
    "import os\n",
    "import pandas as pd\n",
    "import warnings\n",
    "from tqdm import tqdm_notebook\n",
    "\n",
    "warnings.filterwarnings(\"ignore\")\n",
    "from abag_affinity.utils.config import read_config, get_data_paths, get_resources_paths"
   ]
  },
  {
   "cell_type": "code",
   "execution_count": 2,
   "id": "4f7cee0f",
   "metadata": {},
   "outputs": [],
   "source": [
    "config = read_config(\"../../config.yaml\")\n",
    "\n",
    "summary_path, pdb_path = get_resources_paths(config, \"SAbDab\")\n",
    "sabdb_summary_df = pd.read_csv(summary_path, sep=\"\\t\")\n",
    "sabdb_summary_df = sabdb_summary_df.set_index(\"pdb\")\n",
    "\n",
    "abdb_summary_path, abdb_pdb_path = get_resources_paths(config, \"AbDb\")\n",
    "abdb_summary_df = pd.read_csv(abdb_summary_path)\n",
    "abdb_summary_df = abdb_summary_df.set_index(\"pdb\")\n",
    "abdb_pdb_ids = os.listdir(abdb_pdb_path)\n",
    "abdb_pdb_ids = set([ pdb_id.split(\"_\")[0].lower() for pdb_id in abdb_pdb_ids])"
   ]
  },
  {
   "cell_type": "code",
   "execution_count": 3,
   "id": "d0a207df",
   "metadata": {},
   "outputs": [],
   "source": [
    "# get overlap using pdb ids\n",
    "sabdab_pdb_ids = set(sabdb_summary_df.index.unique())\n",
    "overlapping_ids = abdb_pdb_ids.intersection(sabdab_pdb_ids)"
   ]
  },
  {
   "cell_type": "markdown",
   "id": "867657af",
   "metadata": {},
   "source": [
    "#### Incorporate redundant files"
   ]
  },
  {
   "cell_type": "code",
   "execution_count": 4,
   "id": "c2c9a524",
   "metadata": {},
   "outputs": [],
   "source": [
    "# load information on redundant AbDb files\n",
    "redunant_file_path = os.path.join(config[\"RESOURCES\"][\"path\"], config[\"RESOURCES\"][\"AbDb\"][\"folder_path\"], \"Redundant_LH_Protein_Martin.txt\")\n",
    "with open(redunant_file_path) as f:\n",
    "    lines = f.readlines()\n",
    "    \n",
    "redundant_ids = {}\n",
    "all_ids = set() # all (redundant) PDB ids in AbDb\n",
    "for line in lines:\n",
    "    pdb_ids = line.split(\",\")\n",
    "    pdb_ids = [pdb_id.strip().lower().split(\"_\")[0] for pdb_id in pdb_ids]\n",
    "    pdb_ids = [pdb_id for pdb_id in pdb_ids if pdb_id.strip() != \"\"]\n",
    "    all_ids.update(pdb_ids)\n",
    "    for i, pdb_id in enumerate(pdb_ids):\n",
    "        redundant_ids[pdb_id] = pdb_ids"
   ]
  },
  {
   "cell_type": "code",
   "execution_count": 5,
   "id": "fead2152",
   "metadata": {},
   "outputs": [],
   "source": [
    "# remove all PDB ids that are redundant to one of the overlapping PDB Ids\n",
    "for pdb_id in overlapping_ids:\n",
    "    for redundant_id in redundant_ids[pdb_id]:\n",
    "        all_ids.discard(redundant_id)"
   ]
  },
  {
   "cell_type": "code",
   "execution_count": 6,
   "id": "e8536d3a",
   "metadata": {},
   "outputs": [],
   "source": [
    "add_pdbs = set()\n",
    "\n",
    "remaining_in_sabdab = all_ids.intersection(sabdab_pdb_ids)\n",
    "while len(remaining_in_sabdab) > 0:\n",
    "    pdb_id = remaining_in_sabdab.pop()\n",
    "    add_pdbs.add(pdb_id)\n",
    "    for redundant_id in redundant_ids[pdb_id]:\n",
    "        remaining_in_sabdab.discard(redundant_id)"
   ]
  },
  {
   "cell_type": "code",
   "execution_count": 7,
   "id": "9b30bdac",
   "metadata": {},
   "outputs": [],
   "source": [
    "# download extra pdb files from AbDb database\n",
    "import urllib.request \n",
    "\n",
    "download_extra_files = False\n",
    "\n",
    "if download_extra_files:\n",
    "\n",
    "    url = \"http://www.abybank.org/abdb/Data/LH_Protein_Martin/{}_1.pdb\"\n",
    "\n",
    "    for pdb_id in add_pdbs:\n",
    "        pdb_id = pdb_id.upper()\n",
    "        filepath = os.path.join(abdb_pdb_path, pdb_id + \"_1.pdb\")\n",
    "        if os.path.exists(filepath):\n",
    "            print(pdb, \"already exists\")\n",
    "            continue\n",
    "        try:\n",
    "            urllib.request.urlretrieve(url.format(pdb_id), filepath)\n",
    "        except:\n",
    "            print(pdb_id)\n",
    "        print(\"Downloaded\", pdb_id)"
   ]
  },
  {
   "cell_type": "code",
   "execution_count": 8,
   "id": "3abfde58",
   "metadata": {},
   "outputs": [],
   "source": [
    "#overlapping_ids.update(add_pdbs)"
   ]
  },
  {
   "cell_type": "code",
   "execution_count": 9,
   "id": "f7cc6941",
   "metadata": {},
   "outputs": [],
   "source": [
    "dataset = sabdb_summary_df[sabdb_summary_df.index.isin(overlapping_ids)].copy()\n",
    "dataset = dataset.join(abdb_summary_df)\n",
    "\n",
    "dataset = dataset[[\"affinity\", \"delta_g\", \"affinity_method\", \"temperature\", 'abdb_filename', 'antibody_chains', 'antigen_chains', \"Hchain\", \"Lchain\", \"antigen_chain\"]]"
   ]
  },
  {
   "cell_type": "code",
   "execution_count": 10,
   "id": "b567eb73",
   "metadata": {},
   "outputs": [
    {
     "data": {
      "text/html": [
       "<div>\n",
       "<style scoped>\n",
       "    .dataframe tbody tr th:only-of-type {\n",
       "        vertical-align: middle;\n",
       "    }\n",
       "\n",
       "    .dataframe tbody tr th {\n",
       "        vertical-align: top;\n",
       "    }\n",
       "\n",
       "    .dataframe thead th {\n",
       "        text-align: right;\n",
       "    }\n",
       "</style>\n",
       "<table border=\"1\" class=\"dataframe\">\n",
       "  <thead>\n",
       "    <tr style=\"text-align: right;\">\n",
       "      <th></th>\n",
       "      <th>pdb</th>\n",
       "      <th>affinity</th>\n",
       "      <th>delta_g</th>\n",
       "      <th>affinity_method</th>\n",
       "      <th>temperature</th>\n",
       "      <th>abdb_filename</th>\n",
       "      <th>antibody_chains</th>\n",
       "      <th>antigen_chains</th>\n",
       "      <th>Hchain</th>\n",
       "      <th>Lchain</th>\n",
       "      <th>antigen_chain</th>\n",
       "    </tr>\n",
       "  </thead>\n",
       "  <tbody>\n",
       "    <tr>\n",
       "      <th>0</th>\n",
       "      <td>1bj1</td>\n",
       "      <td>3.400000e-09</td>\n",
       "      <td>-11.550000</td>\n",
       "      <td>SPR</td>\n",
       "      <td>25</td>\n",
       "      <td>1BJ1_1.pdb</td>\n",
       "      <td>['L', 'H']</td>\n",
       "      <td>['W']</td>\n",
       "      <td>H</td>\n",
       "      <td>L</td>\n",
       "      <td>W</td>\n",
       "    </tr>\n",
       "    <tr>\n",
       "      <th>1</th>\n",
       "      <td>1bj1</td>\n",
       "      <td>3.400000e-09</td>\n",
       "      <td>-11.550000</td>\n",
       "      <td>SPR</td>\n",
       "      <td>25</td>\n",
       "      <td>1BJ1_1.pdb</td>\n",
       "      <td>['L', 'H']</td>\n",
       "      <td>['W']</td>\n",
       "      <td>K</td>\n",
       "      <td>J</td>\n",
       "      <td>V</td>\n",
       "    </tr>\n",
       "    <tr>\n",
       "      <th>2</th>\n",
       "      <td>1bvk</td>\n",
       "      <td>1.400000e-08</td>\n",
       "      <td>-10.530000</td>\n",
       "      <td>Other</td>\n",
       "      <td>20</td>\n",
       "      <td>1BVK_1.pdb</td>\n",
       "      <td>['L', 'H']</td>\n",
       "      <td>['F']</td>\n",
       "      <td>B</td>\n",
       "      <td>A</td>\n",
       "      <td>C</td>\n",
       "    </tr>\n",
       "    <tr>\n",
       "      <th>3</th>\n",
       "      <td>1bvk</td>\n",
       "      <td>1.400000e-08</td>\n",
       "      <td>-10.530000</td>\n",
       "      <td>Other</td>\n",
       "      <td>20</td>\n",
       "      <td>1BVK_1.pdb</td>\n",
       "      <td>['L', 'H']</td>\n",
       "      <td>['F']</td>\n",
       "      <td>E</td>\n",
       "      <td>D</td>\n",
       "      <td>F</td>\n",
       "    </tr>\n",
       "    <tr>\n",
       "      <th>4</th>\n",
       "      <td>1cz8</td>\n",
       "      <td>1.100000e-10</td>\n",
       "      <td>-14.120000</td>\n",
       "      <td>SPR</td>\n",
       "      <td>37</td>\n",
       "      <td>1CZ8_1.pdb</td>\n",
       "      <td>['L', 'H']</td>\n",
       "      <td>['W']</td>\n",
       "      <td>Y</td>\n",
       "      <td>X</td>\n",
       "      <td>V</td>\n",
       "    </tr>\n",
       "    <tr>\n",
       "      <th>...</th>\n",
       "      <td>...</td>\n",
       "      <td>...</td>\n",
       "      <td>...</td>\n",
       "      <td>...</td>\n",
       "      <td>...</td>\n",
       "      <td>...</td>\n",
       "      <td>...</td>\n",
       "      <td>...</td>\n",
       "      <td>...</td>\n",
       "      <td>...</td>\n",
       "      <td>...</td>\n",
       "    </tr>\n",
       "    <tr>\n",
       "      <th>725</th>\n",
       "      <td>6ii9</td>\n",
       "      <td>1.940000e-08</td>\n",
       "      <td>-10.521321</td>\n",
       "      <td>SPR</td>\n",
       "      <td>NaN</td>\n",
       "      <td>6II9_1.pdb</td>\n",
       "      <td>['L', 'H']</td>\n",
       "      <td>['C']</td>\n",
       "      <td>P</td>\n",
       "      <td>Q</td>\n",
       "      <td>E</td>\n",
       "    </tr>\n",
       "    <tr>\n",
       "      <th>726</th>\n",
       "      <td>6ii9</td>\n",
       "      <td>1.940000e-08</td>\n",
       "      <td>-10.521321</td>\n",
       "      <td>SPR</td>\n",
       "      <td>NaN</td>\n",
       "      <td>6II9_1.pdb</td>\n",
       "      <td>['L', 'H']</td>\n",
       "      <td>['C']</td>\n",
       "      <td>H</td>\n",
       "      <td>L</td>\n",
       "      <td>A</td>\n",
       "    </tr>\n",
       "    <tr>\n",
       "      <th>727</th>\n",
       "      <td>6mhr</td>\n",
       "      <td>2.200000e-08</td>\n",
       "      <td>-10.446805</td>\n",
       "      <td>SPR</td>\n",
       "      <td>NaN</td>\n",
       "      <td>6MHR_1.pdb</td>\n",
       "      <td>['L', 'H']</td>\n",
       "      <td>['D', 'F']</td>\n",
       "      <td>A</td>\n",
       "      <td>B</td>\n",
       "      <td>C</td>\n",
       "    </tr>\n",
       "    <tr>\n",
       "      <th>728</th>\n",
       "      <td>6mhr</td>\n",
       "      <td>2.200000e-08</td>\n",
       "      <td>-10.446805</td>\n",
       "      <td>SPR</td>\n",
       "      <td>NaN</td>\n",
       "      <td>6MHR_1.pdb</td>\n",
       "      <td>['L', 'H']</td>\n",
       "      <td>['D', 'F']</td>\n",
       "      <td>D</td>\n",
       "      <td>E</td>\n",
       "      <td>F</td>\n",
       "    </tr>\n",
       "    <tr>\n",
       "      <th>729</th>\n",
       "      <td>6mlk</td>\n",
       "      <td>1.300000e-08</td>\n",
       "      <td>-10.758506</td>\n",
       "      <td>SPR</td>\n",
       "      <td>NaN</td>\n",
       "      <td>6MLK_1.pdb</td>\n",
       "      <td>['L', 'H']</td>\n",
       "      <td>['A']</td>\n",
       "      <td>H</td>\n",
       "      <td>L</td>\n",
       "      <td>A</td>\n",
       "    </tr>\n",
       "  </tbody>\n",
       "</table>\n",
       "<p>730 rows × 11 columns</p>\n",
       "</div>"
      ],
      "text/plain": [
       "      pdb      affinity    delta_g affinity_method temperature abdb_filename  \\\n",
       "0    1bj1  3.400000e-09 -11.550000             SPR          25    1BJ1_1.pdb   \n",
       "1    1bj1  3.400000e-09 -11.550000             SPR          25    1BJ1_1.pdb   \n",
       "2    1bvk  1.400000e-08 -10.530000           Other          20    1BVK_1.pdb   \n",
       "3    1bvk  1.400000e-08 -10.530000           Other          20    1BVK_1.pdb   \n",
       "4    1cz8  1.100000e-10 -14.120000             SPR          37    1CZ8_1.pdb   \n",
       "..    ...           ...        ...             ...         ...           ...   \n",
       "725  6ii9  1.940000e-08 -10.521321             SPR         NaN    6II9_1.pdb   \n",
       "726  6ii9  1.940000e-08 -10.521321             SPR         NaN    6II9_1.pdb   \n",
       "727  6mhr  2.200000e-08 -10.446805             SPR         NaN    6MHR_1.pdb   \n",
       "728  6mhr  2.200000e-08 -10.446805             SPR         NaN    6MHR_1.pdb   \n",
       "729  6mlk  1.300000e-08 -10.758506             SPR         NaN    6MLK_1.pdb   \n",
       "\n",
       "    antibody_chains antigen_chains Hchain Lchain antigen_chain  \n",
       "0        ['L', 'H']          ['W']      H      L             W  \n",
       "1        ['L', 'H']          ['W']      K      J             V  \n",
       "2        ['L', 'H']          ['F']      B      A             C  \n",
       "3        ['L', 'H']          ['F']      E      D             F  \n",
       "4        ['L', 'H']          ['W']      Y      X             V  \n",
       "..              ...            ...    ...    ...           ...  \n",
       "725      ['L', 'H']          ['C']      P      Q             E  \n",
       "726      ['L', 'H']          ['C']      H      L             A  \n",
       "727      ['L', 'H']     ['D', 'F']      A      B             C  \n",
       "728      ['L', 'H']     ['D', 'F']      D      E             F  \n",
       "729      ['L', 'H']          ['A']      H      L             A  \n",
       "\n",
       "[730 rows x 11 columns]"
      ]
     },
     "execution_count": 10,
     "metadata": {},
     "output_type": "execute_result"
    }
   ],
   "source": [
    "dataset = dataset.drop_duplicates().reset_index()\n",
    "dataset"
   ]
  },
  {
   "cell_type": "markdown",
   "id": "32a36005",
   "metadata": {},
   "source": [
    "## Check chains of AbDb and SAbDab files"
   ]
  },
  {
   "cell_type": "code",
   "execution_count": 11,
   "id": "cb98e37b",
   "metadata": {},
   "outputs": [],
   "source": [
    "import math\n",
    "def get_chains(pdb_row):\n",
    "    \n",
    "    antibody_chains = []\n",
    "    antigen_chains = []\n",
    "    \n",
    "    antibody_chains.append(pdb_row[\"Hchain\"])\n",
    "    antibody_chains.append(pdb_row[\"Lchain\"])\n",
    "        \n",
    "    if isinstance(pdb_row[\"antigen_chain\"], str):\n",
    "        if \"|\" in pdb_row[\"antigen_chain\"]:\n",
    "            for chain_id in pdb_row[\"antigen_chain\"].split(\"|\"):\n",
    "                antigen_chains.append(chain_id.strip())\n",
    "\n",
    "        else:\n",
    "            antigen_chains.append(pdb_row[\"antigen_chain\"])\n",
    "    \n",
    "    return antibody_chains, antigen_chains"
   ]
  },
  {
   "cell_type": "code",
   "execution_count": 12,
   "id": "c667f86e",
   "metadata": {},
   "outputs": [],
   "source": [
    "dataset[\"sabdab_antibody_chains\"], dataset[\"sabdab_antigen_chains\"] = zip(*dataset.apply(lambda row: get_chains(row), axis=1))"
   ]
  },
  {
   "cell_type": "code",
   "execution_count": 13,
   "id": "41bc6d44",
   "metadata": {},
   "outputs": [
    {
     "data": {
      "text/html": [
       "<div>\n",
       "<style scoped>\n",
       "    .dataframe tbody tr th:only-of-type {\n",
       "        vertical-align: middle;\n",
       "    }\n",
       "\n",
       "    .dataframe tbody tr th {\n",
       "        vertical-align: top;\n",
       "    }\n",
       "\n",
       "    .dataframe thead th {\n",
       "        text-align: right;\n",
       "    }\n",
       "</style>\n",
       "<table border=\"1\" class=\"dataframe\">\n",
       "  <thead>\n",
       "    <tr style=\"text-align: right;\">\n",
       "      <th></th>\n",
       "      <th>pdb</th>\n",
       "      <th>affinity</th>\n",
       "      <th>delta_g</th>\n",
       "      <th>affinity_method</th>\n",
       "      <th>temperature</th>\n",
       "      <th>abdb_filename</th>\n",
       "      <th>antibody_chains</th>\n",
       "      <th>antigen_chains</th>\n",
       "      <th>Hchain</th>\n",
       "      <th>Lchain</th>\n",
       "      <th>antigen_chain</th>\n",
       "      <th>sabdab_antibody_chains</th>\n",
       "      <th>sabdab_antigen_chains</th>\n",
       "    </tr>\n",
       "  </thead>\n",
       "  <tbody>\n",
       "    <tr>\n",
       "      <th>0</th>\n",
       "      <td>1bj1</td>\n",
       "      <td>3.400000e-09</td>\n",
       "      <td>-11.550000</td>\n",
       "      <td>SPR</td>\n",
       "      <td>25</td>\n",
       "      <td>1BJ1_1.pdb</td>\n",
       "      <td>['L', 'H']</td>\n",
       "      <td>['W']</td>\n",
       "      <td>H</td>\n",
       "      <td>L</td>\n",
       "      <td>W</td>\n",
       "      <td>[H, L]</td>\n",
       "      <td>[W]</td>\n",
       "    </tr>\n",
       "    <tr>\n",
       "      <th>1</th>\n",
       "      <td>1bj1</td>\n",
       "      <td>3.400000e-09</td>\n",
       "      <td>-11.550000</td>\n",
       "      <td>SPR</td>\n",
       "      <td>25</td>\n",
       "      <td>1BJ1_1.pdb</td>\n",
       "      <td>['L', 'H']</td>\n",
       "      <td>['W']</td>\n",
       "      <td>K</td>\n",
       "      <td>J</td>\n",
       "      <td>V</td>\n",
       "      <td>[K, J]</td>\n",
       "      <td>[V]</td>\n",
       "    </tr>\n",
       "    <tr>\n",
       "      <th>2</th>\n",
       "      <td>1bvk</td>\n",
       "      <td>1.400000e-08</td>\n",
       "      <td>-10.530000</td>\n",
       "      <td>Other</td>\n",
       "      <td>20</td>\n",
       "      <td>1BVK_1.pdb</td>\n",
       "      <td>['L', 'H']</td>\n",
       "      <td>['F']</td>\n",
       "      <td>B</td>\n",
       "      <td>A</td>\n",
       "      <td>C</td>\n",
       "      <td>[B, A]</td>\n",
       "      <td>[C]</td>\n",
       "    </tr>\n",
       "    <tr>\n",
       "      <th>3</th>\n",
       "      <td>1bvk</td>\n",
       "      <td>1.400000e-08</td>\n",
       "      <td>-10.530000</td>\n",
       "      <td>Other</td>\n",
       "      <td>20</td>\n",
       "      <td>1BVK_1.pdb</td>\n",
       "      <td>['L', 'H']</td>\n",
       "      <td>['F']</td>\n",
       "      <td>E</td>\n",
       "      <td>D</td>\n",
       "      <td>F</td>\n",
       "      <td>[E, D]</td>\n",
       "      <td>[F]</td>\n",
       "    </tr>\n",
       "    <tr>\n",
       "      <th>4</th>\n",
       "      <td>1cz8</td>\n",
       "      <td>1.100000e-10</td>\n",
       "      <td>-14.120000</td>\n",
       "      <td>SPR</td>\n",
       "      <td>37</td>\n",
       "      <td>1CZ8_1.pdb</td>\n",
       "      <td>['L', 'H']</td>\n",
       "      <td>['W']</td>\n",
       "      <td>Y</td>\n",
       "      <td>X</td>\n",
       "      <td>V</td>\n",
       "      <td>[Y, X]</td>\n",
       "      <td>[V]</td>\n",
       "    </tr>\n",
       "    <tr>\n",
       "      <th>...</th>\n",
       "      <td>...</td>\n",
       "      <td>...</td>\n",
       "      <td>...</td>\n",
       "      <td>...</td>\n",
       "      <td>...</td>\n",
       "      <td>...</td>\n",
       "      <td>...</td>\n",
       "      <td>...</td>\n",
       "      <td>...</td>\n",
       "      <td>...</td>\n",
       "      <td>...</td>\n",
       "      <td>...</td>\n",
       "      <td>...</td>\n",
       "    </tr>\n",
       "    <tr>\n",
       "      <th>725</th>\n",
       "      <td>6ii9</td>\n",
       "      <td>1.940000e-08</td>\n",
       "      <td>-10.521321</td>\n",
       "      <td>SPR</td>\n",
       "      <td>NaN</td>\n",
       "      <td>6II9_1.pdb</td>\n",
       "      <td>['L', 'H']</td>\n",
       "      <td>['C']</td>\n",
       "      <td>P</td>\n",
       "      <td>Q</td>\n",
       "      <td>E</td>\n",
       "      <td>[P, Q]</td>\n",
       "      <td>[E]</td>\n",
       "    </tr>\n",
       "    <tr>\n",
       "      <th>726</th>\n",
       "      <td>6ii9</td>\n",
       "      <td>1.940000e-08</td>\n",
       "      <td>-10.521321</td>\n",
       "      <td>SPR</td>\n",
       "      <td>NaN</td>\n",
       "      <td>6II9_1.pdb</td>\n",
       "      <td>['L', 'H']</td>\n",
       "      <td>['C']</td>\n",
       "      <td>H</td>\n",
       "      <td>L</td>\n",
       "      <td>A</td>\n",
       "      <td>[H, L]</td>\n",
       "      <td>[A]</td>\n",
       "    </tr>\n",
       "    <tr>\n",
       "      <th>727</th>\n",
       "      <td>6mhr</td>\n",
       "      <td>2.200000e-08</td>\n",
       "      <td>-10.446805</td>\n",
       "      <td>SPR</td>\n",
       "      <td>NaN</td>\n",
       "      <td>6MHR_1.pdb</td>\n",
       "      <td>['L', 'H']</td>\n",
       "      <td>['D', 'F']</td>\n",
       "      <td>A</td>\n",
       "      <td>B</td>\n",
       "      <td>C</td>\n",
       "      <td>[A, B]</td>\n",
       "      <td>[C]</td>\n",
       "    </tr>\n",
       "    <tr>\n",
       "      <th>728</th>\n",
       "      <td>6mhr</td>\n",
       "      <td>2.200000e-08</td>\n",
       "      <td>-10.446805</td>\n",
       "      <td>SPR</td>\n",
       "      <td>NaN</td>\n",
       "      <td>6MHR_1.pdb</td>\n",
       "      <td>['L', 'H']</td>\n",
       "      <td>['D', 'F']</td>\n",
       "      <td>D</td>\n",
       "      <td>E</td>\n",
       "      <td>F</td>\n",
       "      <td>[D, E]</td>\n",
       "      <td>[F]</td>\n",
       "    </tr>\n",
       "    <tr>\n",
       "      <th>729</th>\n",
       "      <td>6mlk</td>\n",
       "      <td>1.300000e-08</td>\n",
       "      <td>-10.758506</td>\n",
       "      <td>SPR</td>\n",
       "      <td>NaN</td>\n",
       "      <td>6MLK_1.pdb</td>\n",
       "      <td>['L', 'H']</td>\n",
       "      <td>['A']</td>\n",
       "      <td>H</td>\n",
       "      <td>L</td>\n",
       "      <td>A</td>\n",
       "      <td>[H, L]</td>\n",
       "      <td>[A]</td>\n",
       "    </tr>\n",
       "  </tbody>\n",
       "</table>\n",
       "<p>730 rows × 13 columns</p>\n",
       "</div>"
      ],
      "text/plain": [
       "      pdb      affinity    delta_g affinity_method temperature abdb_filename  \\\n",
       "0    1bj1  3.400000e-09 -11.550000             SPR          25    1BJ1_1.pdb   \n",
       "1    1bj1  3.400000e-09 -11.550000             SPR          25    1BJ1_1.pdb   \n",
       "2    1bvk  1.400000e-08 -10.530000           Other          20    1BVK_1.pdb   \n",
       "3    1bvk  1.400000e-08 -10.530000           Other          20    1BVK_1.pdb   \n",
       "4    1cz8  1.100000e-10 -14.120000             SPR          37    1CZ8_1.pdb   \n",
       "..    ...           ...        ...             ...         ...           ...   \n",
       "725  6ii9  1.940000e-08 -10.521321             SPR         NaN    6II9_1.pdb   \n",
       "726  6ii9  1.940000e-08 -10.521321             SPR         NaN    6II9_1.pdb   \n",
       "727  6mhr  2.200000e-08 -10.446805             SPR         NaN    6MHR_1.pdb   \n",
       "728  6mhr  2.200000e-08 -10.446805             SPR         NaN    6MHR_1.pdb   \n",
       "729  6mlk  1.300000e-08 -10.758506             SPR         NaN    6MLK_1.pdb   \n",
       "\n",
       "    antibody_chains antigen_chains Hchain Lchain antigen_chain  \\\n",
       "0        ['L', 'H']          ['W']      H      L             W   \n",
       "1        ['L', 'H']          ['W']      K      J             V   \n",
       "2        ['L', 'H']          ['F']      B      A             C   \n",
       "3        ['L', 'H']          ['F']      E      D             F   \n",
       "4        ['L', 'H']          ['W']      Y      X             V   \n",
       "..              ...            ...    ...    ...           ...   \n",
       "725      ['L', 'H']          ['C']      P      Q             E   \n",
       "726      ['L', 'H']          ['C']      H      L             A   \n",
       "727      ['L', 'H']     ['D', 'F']      A      B             C   \n",
       "728      ['L', 'H']     ['D', 'F']      D      E             F   \n",
       "729      ['L', 'H']          ['A']      H      L             A   \n",
       "\n",
       "    sabdab_antibody_chains sabdab_antigen_chains  \n",
       "0                   [H, L]                   [W]  \n",
       "1                   [K, J]                   [V]  \n",
       "2                   [B, A]                   [C]  \n",
       "3                   [E, D]                   [F]  \n",
       "4                   [Y, X]                   [V]  \n",
       "..                     ...                   ...  \n",
       "725                 [P, Q]                   [E]  \n",
       "726                 [H, L]                   [A]  \n",
       "727                 [A, B]                   [C]  \n",
       "728                 [D, E]                   [F]  \n",
       "729                 [H, L]                   [A]  \n",
       "\n",
       "[730 rows x 13 columns]"
      ]
     },
     "execution_count": 13,
     "metadata": {},
     "output_type": "execute_result"
    }
   ],
   "source": [
    "dataset"
   ]
  },
  {
   "cell_type": "markdown",
   "id": "b8900e13",
   "metadata": {},
   "source": [
    "### Calculate Delta_g and -log(Kd) values"
   ]
  },
  {
   "cell_type": "code",
   "execution_count": 14,
   "id": "a97e7dca",
   "metadata": {},
   "outputs": [],
   "source": [
    "import numpy as np\n",
    "gas_constant =  8.31446261815324 # 0.0821\n",
    "\n",
    "def calc_temp(row):\n",
    "    kd = row[\"affinity\"]\n",
    "    delta_g = row[\"delta_g\"] * 4184 # convert kcal to joule \n",
    "    if kd == 0 or math.isnan(kd) or math.isnan(delta_g):\n",
    "        return None\n",
    "\n",
    "    return round((delta_g / (gas_constant * np.log(kd))) - 273.15) # convert kelvin to celsius\n",
    "\n",
    "def calc_delta_g(row):\n",
    "    delta_g = gas_constant * row[\"temperature_kelvin\"] * np.log(row[\"affinity\"])\n",
    "    return delta_g / 4184 # convert to kcal"
   ]
  },
  {
   "cell_type": "code",
   "execution_count": 15,
   "id": "4e4420e5",
   "metadata": {},
   "outputs": [],
   "source": [
    "dataset[\"calculated_temp\"] = dataset.apply(lambda row: calc_temp(row), axis=1)\n",
    "dataset = dataset[~dataset[\"calculated_temp\"].isnull()]"
   ]
  },
  {
   "cell_type": "code",
   "execution_count": 16,
   "id": "e98c9911",
   "metadata": {},
   "outputs": [],
   "source": [
    "# calc -log(Kd)\n",
    "\n",
    "dataset[\"-log(Kd)\"] = dataset.apply(lambda row: -np.log10(row[\"affinity\"]), axis=1)\n",
    "\n",
    "dataset = dataset[dataset[\"-log(Kd)\"].notnull()]"
   ]
  },
  {
   "cell_type": "markdown",
   "id": "ddc4f0bd",
   "metadata": {},
   "source": [
    "## Link Ids to PDB files\n",
    "\n",
    "Use SabDab Files since the affinity values come from this dataset."
   ]
  },
  {
   "cell_type": "code",
   "execution_count": 17,
   "id": "5a818d9a",
   "metadata": {},
   "outputs": [],
   "source": [
    "# add pdb file name from AbDb\n",
    "\n",
    "abdb_pdb_path = os.path.join(config[\"RESOURCES\"][\"path\"], config[\"RESOURCES\"][\"AbDb\"][\"folder_path\"], config[\"RESOURCES\"][\"AbDb\"][\"pdb_path\"])\n",
    "\n",
    "pdb_files = os.listdir(abdb_pdb_path)\n",
    "\n",
    "id2file = {file.split(\"_\")[0].lower(): file for file in pdb_files}"
   ]
  },
  {
   "cell_type": "code",
   "execution_count": 18,
   "id": "44e133e1",
   "metadata": {},
   "outputs": [],
   "source": [
    "#dataset[\"abdb_file\"] = dataset[\"pdb\"].apply(lambda pdb_id: id2file[pdb_id])\n",
    "dataset[\"filename\"] = dataset[\"abdb_filename\"].fillna(dataset[\"pdb\"].apply(lambda pdb_id: id2file[pdb_id]))\n",
    "\n",
    "dataset = dataset[dataset[\"pdb\"].isin(id2file.keys())]\n",
    "\n",
    "dataset[\"filename\"] = dataset[\"filename\"].apply(lambda x: x.split(\".\")[0].upper() + \".\" + x.split(\".\")[1])"
   ]
  },
  {
   "cell_type": "code",
   "execution_count": 19,
   "id": "934e21d0",
   "metadata": {},
   "outputs": [],
   "source": [
    "# clean dataset\n",
    "dataset.drop_duplicates(\"pdb\", inplace=True)\n",
    "dataset = dataset.reset_index().drop(\"index\", axis=1)\n",
    "#dataset = dataset[[\"pdb\", \"abdb_file\", \"antigen_type\", \"antibody_chains\", \"antigen_chains\", 'affinity_method', 'temperature', \"calculated_temp\", 'affinity', 'delta_g', '-log(Kd)' ]]"
   ]
  },
  {
   "cell_type": "markdown",
   "id": "a85f8360",
   "metadata": {},
   "source": [
    "### Mark testset and delete redundant files\n",
    "\n",
    "Use Antibody Benchmark as the final testset --> Remove redundant files."
   ]
  },
  {
   "cell_type": "code",
   "execution_count": 20,
   "id": "fb5317b7",
   "metadata": {},
   "outputs": [],
   "source": [
    "dataset[\"test\"] = False"
   ]
  },
  {
   "cell_type": "code",
   "execution_count": 21,
   "id": "a2f8f01b",
   "metadata": {},
   "outputs": [
    {
     "name": "stdout",
     "output_type": "stream",
     "text": [
      "Numer of available benchmark structures >>> 53\n"
     ]
    }
   ],
   "source": [
    "benchmark_summary_path, benchmark_pdb_path = get_resources_paths(config, \"AntibodyBenchmark\")\n",
    "benchmark_summary_df = pd.read_excel(benchmark_summary_path)\n",
    "benchmark_summary_df = benchmark_summary_df.replace(\" \", None)\n",
    "benchmark_summary_df = benchmark_summary_df[benchmark_summary_df[\"ΔG (kcal/mol)\"].notnull() & benchmark_summary_df[\"Kd (nM)\"].notnull()]\n",
    "benchmark_summary_df.reset_index(inplace=True)\n",
    "benchmark_summary_df.drop(\"index\", axis=1)\n",
    "print(\"Numer of available benchmark structures >>>\", len(benchmark_summary_df))"
   ]
  },
  {
   "cell_type": "code",
   "execution_count": 22,
   "id": "d2708b86",
   "metadata": {},
   "outputs": [
    {
     "name": "stdout",
     "output_type": "stream",
     "text": [
      "Number of identical PDB of dataset and benchmark_pdb_ids 24\n"
     ]
    }
   ],
   "source": [
    "benchmark_pdb_ids = set([ pdb_id.split(\"_\")[0].lower() for pdb_id in benchmark_summary_df[\"Complex PDB\"].unique() ])\n",
    "overlapping_ids = benchmark_pdb_ids.intersection(set(dataset[\"pdb\"].unique()))\n",
    "print(\"Number of identical PDB of dataset and benchmark_pdb_ids\", len(overlapping_ids))"
   ]
  },
  {
   "cell_type": "code",
   "execution_count": 23,
   "id": "732d74f1",
   "metadata": {},
   "outputs": [],
   "source": [
    "# Set these strucutres as testset strucutres in the dataset\n",
    "dataset[\"test\"] = dataset[\"pdb\"].apply(lambda pdb_id: pdb_id in benchmark_pdb_ids)"
   ]
  },
  {
   "cell_type": "code",
   "execution_count": 24,
   "id": "9b685eee",
   "metadata": {},
   "outputs": [
    {
     "name": "stdout",
     "output_type": "stream",
     "text": [
      "Remaining Benchmark Entries 29\n"
     ]
    }
   ],
   "source": [
    "benchmark_summary_df[\"pdb\"] = benchmark_summary_df[\"Complex PDB\"].apply(lambda pdb_id: pdb_id.split(\"_\")[0].lower() )\n",
    "remaining_benchmark = benchmark_summary_df[~benchmark_summary_df[\"pdb\"].isin(overlapping_ids)].copy()\n",
    "print(\"Remaining Benchmark Entries\", len(remaining_benchmark))"
   ]
  },
  {
   "cell_type": "code",
   "execution_count": 25,
   "id": "8fe23174",
   "metadata": {},
   "outputs": [
    {
     "name": "stdout",
     "output_type": "stream",
     "text": [
      "Number of found PDB benchmark_pdb_ids in redundant list >>> 12\n",
      "Number of found pdb_ids in that are also in dataset v1 >>> 0\n",
      "Number of found pdb_ids in that are also in SAbDab >>> 0\n",
      "Number of found pdb_ids in that are also in AbDb >>> 10\n",
      "Number of found pdb_ids in that are also in AbDb and SAbDab >>> 0\n",
      "Number of found pdb_ids in neither in AbDb and SAbDab >>> 2\n"
     ]
    }
   ],
   "source": [
    "benchmark_pdb_ids = set(remaining_benchmark[\"pdb\"].unique())\n",
    "overlapping_ids = benchmark_pdb_ids.intersection(all_ids)\n",
    "print(\"Number of found PDB benchmark_pdb_ids in redundant list >>>\", len(overlapping_ids))\n",
    "print(\"Number of found pdb_ids in that are also in dataset v1 >>>\", len(overlapping_ids.intersection(set(dataset[\"pdb\"].unique()))))\n",
    "print(\"Number of found pdb_ids in that are also in SAbDab >>>\", len(overlapping_ids.intersection(sabdab_pdb_ids)))\n",
    "print(\"Number of found pdb_ids in that are also in AbDb >>>\", len(overlapping_ids.intersection(abdb_pdb_ids)))\n",
    "print(\"Number of found pdb_ids in that are also in AbDb and SAbDab >>>\", len(overlapping_ids.intersection(abdb_pdb_ids).intersection(sabdab_pdb_ids)))\n",
    "print(\"Number of found pdb_ids in neither in AbDb and SAbDab >>>\", len(overlapping_ids - overlapping_ids.intersection(abdb_pdb_ids).union(overlapping_ids.intersection((sabdab_pdb_ids)))))"
   ]
  },
  {
   "cell_type": "markdown",
   "id": "0fe612c5",
   "metadata": {},
   "source": [
    "#### Add additional strucutures from AbDb\n",
    "Add the 10 Strucutures that are also present in AbDb and use the affinity value of the benchmark dataset"
   ]
  },
  {
   "cell_type": "code",
   "execution_count": 26,
   "id": "1a2d4782",
   "metadata": {},
   "outputs": [
    {
     "name": "stdout",
     "output_type": "stream",
     "text": [
      "10 Rows added\n"
     ]
    }
   ],
   "source": [
    "from abag_affinity.utils.pdb_reader import read_file\n",
    "\n",
    "ii = 0\n",
    "for i, row in remaining_benchmark[remaining_benchmark[\"pdb\"].isin(overlapping_ids.intersection(abdb_pdb_ids))].iterrows():\n",
    "    ii += 1\n",
    "    file_path = os.path.join(abdb_pdb_path, id2file[row[\"pdb\"]])\n",
    "    structure, _ = read_file(row[\"pdb\"], file_path)\n",
    "    chains = structure.get_chains()\n",
    "    chains = set([ chain.id for chain in chains ])\n",
    "    no_ab_chain = list(chains - set([\"H\", \"L\"]))\n",
    "    \n",
    "    \n",
    "    new_entry = {\n",
    "        \"pdb\": row[\"pdb\"],\n",
    "        \"filename\": id2file[row[\"pdb\"]],\n",
    "        \"antigen_type\": \"protein\",\n",
    "        \"antibody_chains\": [\"L\", \"H\"],\n",
    "        \"antigen_chains\": no_ab_chain,\n",
    "        \"affinity_method\": \"-\",\n",
    "        \"temperature\": np.nan,\n",
    "        \"calculated_temp\": calc_temp({\"affinity\": row[\"Kd (nM)\"] * 1e-9, \"delta_g\": row[\"ΔG (kcal/mol)\"]}),\n",
    "        \"affinity\": row[\"Kd (nM)\"] * 1e-9,\n",
    "        \"delta_g\":  row[\"ΔG (kcal/mol)\"],\n",
    "        \"test\": True\n",
    "    }\n",
    "    dataset = dataset.append(new_entry, ignore_index=True)\n",
    "    \n",
    "print(ii, \"Rows added\")"
   ]
  },
  {
   "cell_type": "markdown",
   "id": "d1157f7e",
   "metadata": {},
   "source": [
    "#### Find data that is in SAbDab and Benchmark but not in dataset_v1"
   ]
  },
  {
   "cell_type": "code",
   "execution_count": 27,
   "id": "f65883e5",
   "metadata": {},
   "outputs": [
    {
     "data": {
      "text/plain": [
       "{'3rvw', '4gxu', '4pou', '5grj', '5hgg', '5kov', '5sv3'}"
      ]
     },
     "execution_count": 27,
     "metadata": {},
     "output_type": "execute_result"
    }
   ],
   "source": [
    "benchmark_pdb_ids = set([ pdb_id.split(\"_\")[0].lower() for pdb_id in benchmark_summary_df[\"Complex PDB\"].unique() ])\n",
    "missing = benchmark_pdb_ids - set(dataset[\"pdb\"].unique())\n",
    "\n",
    "missing_but_sabdab = missing.intersection(sabdab_pdb_ids)\n",
    "missing_but_sabdab"
   ]
  },
  {
   "cell_type": "code",
   "execution_count": 28,
   "id": "5b78c3da",
   "metadata": {},
   "outputs": [
    {
     "data": {
      "text/plain": [
       "set()"
      ]
     },
     "execution_count": 28,
     "metadata": {},
     "output_type": "execute_result"
    }
   ],
   "source": [
    "missing_sabdab_and_redundant = missing_but_sabdab.intersection(all_ids)\n",
    "missing_sabdab_and_redundant"
   ]
  },
  {
   "cell_type": "markdown",
   "id": "5b25dd2a",
   "metadata": {},
   "source": [
    "Seems like there are 6 cases that are not present in the overlap between AbDb and SAbDab but have affinity values in the benchmark dataset."
   ]
  },
  {
   "cell_type": "code",
   "execution_count": 29,
   "id": "0eaa23fa",
   "metadata": {},
   "outputs": [
    {
     "name": "stdout",
     "output_type": "stream",
     "text": [
      "There are still 19 cases not in dataset_v1\n"
     ]
    }
   ],
   "source": [
    "benchmark_pdb_ids = set([ pdb_id.split(\"_\")[0].lower() for pdb_id in benchmark_summary_df[\"Complex PDB\"].unique() ])\n",
    "overlapping_ids = benchmark_pdb_ids.intersection(set(dataset[\"pdb\"].unique()))\n",
    "print(\"There are still {} cases not in dataset_v1\".format(len(benchmark_summary_df) - len(overlapping_ids)))"
   ]
  },
  {
   "cell_type": "code",
   "execution_count": 30,
   "id": "dca083d6",
   "metadata": {},
   "outputs": [
    {
     "name": "stdout",
     "output_type": "stream",
     "text": [
      "Remaining Benchmark Entries 19\n"
     ]
    }
   ],
   "source": [
    "remaining_benchmark = remaining_benchmark[~remaining_benchmark[\"pdb\"].isin(overlapping_ids)]\n",
    "print(\"Remaining Benchmark Entries\", len(remaining_benchmark.isin(overlapping_ids)))"
   ]
  },
  {
   "cell_type": "code",
   "execution_count": 31,
   "id": "6aee739f",
   "metadata": {},
   "outputs": [
    {
     "name": "stdout",
     "output_type": "stream",
     "text": [
      "There are in total 34 complexes in the testset that are taken from the benchmark dataset\n"
     ]
    }
   ],
   "source": [
    "print(\"There are in total {} complexes in the testset that are taken from the benchmark dataset\".format(dataset[\"test\"].sum()))"
   ]
  },
  {
   "cell_type": "markdown",
   "id": "ef1e21c3",
   "metadata": {},
   "source": [
    "### Validation Splits\n",
    "\n",
    "Split the train data randomly in 3 parts that can each be used for validation during model training and for hyperparameter tuning."
   ]
  },
  {
   "cell_type": "code",
   "execution_count": 32,
   "id": "a04ca8a2",
   "metadata": {},
   "outputs": [],
   "source": [
    "dataset[\"validation\"] = 0\n",
    "dataset = dataset.sort_values(by=\"test\")\n",
    "dataset.reset_index(inplace=True)"
   ]
  },
  {
   "cell_type": "code",
   "execution_count": 33,
   "id": "0309044f",
   "metadata": {},
   "outputs": [
    {
     "name": "stdout",
     "output_type": "stream",
     "text": [
      "There are in total 357 complexes in available for training\n"
     ]
    }
   ],
   "source": [
    "total_train_data = len(dataset[dataset[\"test\"] == False])\n",
    "print(\"There are in total {} complexes in available for training\".format(total_train_data))"
   ]
  },
  {
   "cell_type": "code",
   "execution_count": 34,
   "id": "e875d802",
   "metadata": {},
   "outputs": [],
   "source": [
    "np.random.seed(123)\n",
    "indices = np.arange(total_train_data)\n",
    "np.random.shuffle(indices)\n",
    "val_indices = np.split(indices, [124, 248])"
   ]
  },
  {
   "cell_type": "code",
   "execution_count": 35,
   "id": "574eae79",
   "metadata": {},
   "outputs": [],
   "source": [
    "for i, val_idx in enumerate(val_indices):\n",
    "    i += 1\n",
    "    dataset.loc[val_idx, \"validation\"] = i"
   ]
  },
  {
   "cell_type": "code",
   "execution_count": 36,
   "id": "7f47d42a",
   "metadata": {},
   "outputs": [
    {
     "data": {
      "text/html": [
       "<div>\n",
       "<style scoped>\n",
       "    .dataframe tbody tr th:only-of-type {\n",
       "        vertical-align: middle;\n",
       "    }\n",
       "\n",
       "    .dataframe tbody tr th {\n",
       "        vertical-align: top;\n",
       "    }\n",
       "\n",
       "    .dataframe thead th {\n",
       "        text-align: right;\n",
       "    }\n",
       "</style>\n",
       "<table border=\"1\" class=\"dataframe\">\n",
       "  <thead>\n",
       "    <tr style=\"text-align: right;\">\n",
       "      <th></th>\n",
       "      <th>index</th>\n",
       "      <th>pdb</th>\n",
       "      <th>affinity</th>\n",
       "      <th>delta_g</th>\n",
       "      <th>affinity_method</th>\n",
       "      <th>temperature</th>\n",
       "      <th>abdb_filename</th>\n",
       "      <th>antibody_chains</th>\n",
       "      <th>antigen_chains</th>\n",
       "      <th>Hchain</th>\n",
       "      <th>Lchain</th>\n",
       "      <th>antigen_chain</th>\n",
       "      <th>sabdab_antibody_chains</th>\n",
       "      <th>sabdab_antigen_chains</th>\n",
       "      <th>calculated_temp</th>\n",
       "      <th>-log(Kd)</th>\n",
       "      <th>filename</th>\n",
       "      <th>test</th>\n",
       "      <th>antigen_type</th>\n",
       "      <th>validation</th>\n",
       "    </tr>\n",
       "  </thead>\n",
       "  <tbody>\n",
       "    <tr>\n",
       "      <th>0</th>\n",
       "      <td>0</td>\n",
       "      <td>1bj1</td>\n",
       "      <td>3.400000e-09</td>\n",
       "      <td>-11.550000</td>\n",
       "      <td>SPR</td>\n",
       "      <td>25</td>\n",
       "      <td>1BJ1_1.pdb</td>\n",
       "      <td>['L', 'H']</td>\n",
       "      <td>['W']</td>\n",
       "      <td>H</td>\n",
       "      <td>L</td>\n",
       "      <td>W</td>\n",
       "      <td>[H, L]</td>\n",
       "      <td>[W]</td>\n",
       "      <td>25.0</td>\n",
       "      <td>8.468521</td>\n",
       "      <td>1BJ1_1.pdb</td>\n",
       "      <td>False</td>\n",
       "      <td>NaN</td>\n",
       "      <td>1</td>\n",
       "    </tr>\n",
       "    <tr>\n",
       "      <th>1</th>\n",
       "      <td>257</td>\n",
       "      <td>5dd0</td>\n",
       "      <td>8.370000e-08</td>\n",
       "      <td>-9.655130</td>\n",
       "      <td>Unknown</td>\n",
       "      <td>NaN</td>\n",
       "      <td>5DD0_1.pdb</td>\n",
       "      <td>['L', 'H']</td>\n",
       "      <td>['P']</td>\n",
       "      <td>H</td>\n",
       "      <td>L</td>\n",
       "      <td>P</td>\n",
       "      <td>[H, L]</td>\n",
       "      <td>[P]</td>\n",
       "      <td>25.0</td>\n",
       "      <td>7.077275</td>\n",
       "      <td>5DD0_1.pdb</td>\n",
       "      <td>False</td>\n",
       "      <td>NaN</td>\n",
       "      <td>3</td>\n",
       "    </tr>\n",
       "    <tr>\n",
       "      <th>2</th>\n",
       "      <td>256</td>\n",
       "      <td>5d8j</td>\n",
       "      <td>1.780000e-09</td>\n",
       "      <td>-11.936563</td>\n",
       "      <td>SPR</td>\n",
       "      <td>NaN</td>\n",
       "      <td>5D8J_1.pdb</td>\n",
       "      <td>['L', 'H']</td>\n",
       "      <td>['A']</td>\n",
       "      <td>H</td>\n",
       "      <td>L</td>\n",
       "      <td>A</td>\n",
       "      <td>[H, L]</td>\n",
       "      <td>[A]</td>\n",
       "      <td>25.0</td>\n",
       "      <td>8.749580</td>\n",
       "      <td>5D8J_1.pdb</td>\n",
       "      <td>False</td>\n",
       "      <td>NaN</td>\n",
       "      <td>3</td>\n",
       "    </tr>\n",
       "    <tr>\n",
       "      <th>3</th>\n",
       "      <td>255</td>\n",
       "      <td>5d72</td>\n",
       "      <td>6.000000e-12</td>\n",
       "      <td>-15.309341</td>\n",
       "      <td>Unknown</td>\n",
       "      <td>NaN</td>\n",
       "      <td>5D72_1.pdb</td>\n",
       "      <td>['L', 'H']</td>\n",
       "      <td>['B', 'A']</td>\n",
       "      <td>M</td>\n",
       "      <td>N</td>\n",
       "      <td>B</td>\n",
       "      <td>[M, N]</td>\n",
       "      <td>[B]</td>\n",
       "      <td>25.0</td>\n",
       "      <td>11.221849</td>\n",
       "      <td>5D72_1.pdb</td>\n",
       "      <td>False</td>\n",
       "      <td>NaN</td>\n",
       "      <td>3</td>\n",
       "    </tr>\n",
       "    <tr>\n",
       "      <th>4</th>\n",
       "      <td>254</td>\n",
       "      <td>5czx</td>\n",
       "      <td>6.000000e-10</td>\n",
       "      <td>-12.580853</td>\n",
       "      <td>SPR</td>\n",
       "      <td>NaN</td>\n",
       "      <td>5CZX_1.pdb</td>\n",
       "      <td>['L', 'H']</td>\n",
       "      <td>['A']</td>\n",
       "      <td>H</td>\n",
       "      <td>L</td>\n",
       "      <td>A</td>\n",
       "      <td>[H, L]</td>\n",
       "      <td>[A]</td>\n",
       "      <td>25.0</td>\n",
       "      <td>9.221849</td>\n",
       "      <td>5CZX_1.pdb</td>\n",
       "      <td>False</td>\n",
       "      <td>NaN</td>\n",
       "      <td>2</td>\n",
       "    </tr>\n",
       "  </tbody>\n",
       "</table>\n",
       "</div>"
      ],
      "text/plain": [
       "   index   pdb      affinity    delta_g affinity_method temperature  \\\n",
       "0      0  1bj1  3.400000e-09 -11.550000             SPR          25   \n",
       "1    257  5dd0  8.370000e-08  -9.655130         Unknown         NaN   \n",
       "2    256  5d8j  1.780000e-09 -11.936563             SPR         NaN   \n",
       "3    255  5d72  6.000000e-12 -15.309341         Unknown         NaN   \n",
       "4    254  5czx  6.000000e-10 -12.580853             SPR         NaN   \n",
       "\n",
       "  abdb_filename antibody_chains antigen_chains Hchain Lchain antigen_chain  \\\n",
       "0    1BJ1_1.pdb      ['L', 'H']          ['W']      H      L             W   \n",
       "1    5DD0_1.pdb      ['L', 'H']          ['P']      H      L             P   \n",
       "2    5D8J_1.pdb      ['L', 'H']          ['A']      H      L             A   \n",
       "3    5D72_1.pdb      ['L', 'H']     ['B', 'A']      M      N             B   \n",
       "4    5CZX_1.pdb      ['L', 'H']          ['A']      H      L             A   \n",
       "\n",
       "  sabdab_antibody_chains sabdab_antigen_chains  calculated_temp   -log(Kd)  \\\n",
       "0                 [H, L]                   [W]             25.0   8.468521   \n",
       "1                 [H, L]                   [P]             25.0   7.077275   \n",
       "2                 [H, L]                   [A]             25.0   8.749580   \n",
       "3                 [M, N]                   [B]             25.0  11.221849   \n",
       "4                 [H, L]                   [A]             25.0   9.221849   \n",
       "\n",
       "     filename   test antigen_type  validation  \n",
       "0  1BJ1_1.pdb  False          NaN           1  \n",
       "1  5DD0_1.pdb  False          NaN           3  \n",
       "2  5D8J_1.pdb  False          NaN           3  \n",
       "3  5D72_1.pdb  False          NaN           3  \n",
       "4  5CZX_1.pdb  False          NaN           2  "
      ]
     },
     "execution_count": 36,
     "metadata": {},
     "output_type": "execute_result"
    }
   ],
   "source": [
    "dataset.head()"
   ]
  },
  {
   "cell_type": "code",
   "execution_count": 37,
   "id": "c130b1ef",
   "metadata": {},
   "outputs": [
    {
     "name": "stdout",
     "output_type": "stream",
     "text": [
      "Error in 5e8e - multiple chains with same name\n",
      "Error in 6bli - multiple chains with same name\n"
     ]
    }
   ],
   "source": [
    "# add chain infos column to resemble other datasets\n",
    "from ast import literal_eval\n",
    "\n",
    "def get_chain_infos(row):\n",
    "    info = {}\n",
    "    \n",
    "    ab_chains = row[\"antibody_chains\"]\n",
    "    if isinstance(ab_chains, str):\n",
    "        ab_chains = literal_eval(ab_chains)\n",
    "    else:\n",
    "        ab_chains = []\n",
    "    for chain in ab_chains:\n",
    "        info[chain.lower()] = 0\n",
    "    \n",
    "    ag_chains = row[\"antigen_chains\"]\n",
    " \n",
    "    if isinstance(ag_chains, str):\n",
    "        ag_chains = literal_eval(ag_chains)\n",
    "    else:\n",
    "        ag_chains = []\n",
    "    for chain in ag_chains:\n",
    "        if chain.lower() in info and info[chain.lower()] != 1:\n",
    "            print(f\"Error in {row['pdb']} - multiple chains with same name\")\n",
    "        info[chain.lower()] = 1\n",
    "    return info\n",
    "\n",
    "dataset[\"chain_infos\"] = dataset.apply(get_chain_infos, axis=1)\n",
    "dataset = dataset[dataset[\"chain_infos\"] != {}]"
   ]
  },
  {
   "cell_type": "code",
   "execution_count": 38,
   "id": "935b93cb",
   "metadata": {},
   "outputs": [],
   "source": [
    "dataset[\"data_location\"] = \"RESOURCES\"\n",
    "\n",
    "out_df = dataset[['pdb', 'data_location', 'filename', '-log(Kd)', \"delta_g\", \"chain_infos\", \"validation\", \"test\"]]\n",
    "out_df = out_df.set_index(\"pdb\", drop=False)\n",
    "out_df.index.name = \"\""
   ]
  },
  {
   "cell_type": "code",
   "execution_count": 39,
   "id": "6f6296f3",
   "metadata": {},
   "outputs": [],
   "source": [
    "# remove 6bli and 5e8e because antibody and antigen contain L chain --> Problem with model\n",
    "out_df = out_df.drop(\"6bli\")\n",
    "out_df = out_df.drop(\"5e8e\")\n"
   ]
  },
  {
   "cell_type": "code",
   "execution_count": 40,
   "id": "ffb04e89",
   "metadata": {},
   "outputs": [],
   "source": [
    "out_df.to_csv(os.path.join(config[\"DATA\"][\"path\"], config[\"DATA\"][\"Dataset_v1\"][\"folder_path\"], config[\"DATA\"][\"Dataset_v1\"][\"summary\"]))"
   ]
  },
  {
   "cell_type": "markdown",
   "id": "8f65786a",
   "metadata": {},
   "source": [
    "### Delta G analysis"
   ]
  },
  {
   "cell_type": "code",
   "execution_count": 41,
   "id": "87bcecd1",
   "metadata": {},
   "outputs": [
    {
     "data": {
      "text/plain": [
       "count    380.000000\n",
       "mean     -11.490560\n",
       "std        2.002948\n",
       "min      -16.913816\n",
       "25%      -12.758034\n",
       "50%      -11.442210\n",
       "75%      -10.243615\n",
       "max       -5.178507\n",
       "Name: delta_g, dtype: float64"
      ]
     },
     "execution_count": 41,
     "metadata": {},
     "output_type": "execute_result"
    }
   ],
   "source": [
    "dataset[\"delta_g\"].describe()"
   ]
  },
  {
   "cell_type": "code",
   "execution_count": 42,
   "id": "53c88ae5",
   "metadata": {},
   "outputs": [
    {
     "data": {
      "text/plain": [
       "<AxesSubplot:xlabel='delta_g', ylabel='Count'>"
      ]
     },
     "execution_count": 42,
     "metadata": {},
     "output_type": "execute_result"
    },
    {
     "data": {
      "image/png": "[encoded data removed]",
      "text/plain": [
       "<Figure size 432x288 with 1 Axes>"
      ]
     },
     "metadata": {
      "needs_background": "light"
     },
     "output_type": "display_data"
    }
   ],
   "source": [
    "import seaborn as sns\n",
    "sns.histplot(dataset, x=\"delta_g\", kde=True)"
   ]
  },
  {
   "cell_type": "code",
   "execution_count": 43,
   "id": "ae783520",
   "metadata": {},
   "outputs": [
    {
     "data": {
      "text/plain": [
       "<AxesSubplot:xlabel='delta_g', ylabel='Count'>"
      ]
     },
     "execution_count": 43,
     "metadata": {},
     "output_type": "execute_result"
    },
    {
     "data": {
      "image/png": "[encoded data removed]",
      "text/plain": [
       "<Figure size 432x288 with 1 Axes>"
      ]
     },
     "metadata": {
      "needs_background": "light"
     },
     "output_type": "display_data"
    }
   ],
   "source": [
    "sns.histplot(dataset, x=\"delta_g\", hue=\"validation\", kde=True)"
   ]
  },
  {
   "cell_type": "code",
   "execution_count": 44,
   "id": "3fbcba54",
   "metadata": {},
   "outputs": [
    {
     "data": {
      "text/plain": [
       "count    3.800000e+02\n",
       "mean     7.520152e-07\n",
       "std      8.551151e-06\n",
       "min      4.000000e-13\n",
       "25%      4.275000e-10\n",
       "50%      4.250000e-09\n",
       "75%      3.100000e-08\n",
       "max      1.600000e-04\n",
       "Name: affinity, dtype: float64"
      ]
     },
     "execution_count": 44,
     "metadata": {},
     "output_type": "execute_result"
    }
   ],
   "source": [
    "dataset[\"affinity\"].describe()"
   ]
  },
  {
   "cell_type": "markdown",
   "id": "fb222477",
   "metadata": {},
   "source": [
    "## -log(Kg) Analyis"
   ]
  },
  {
   "cell_type": "code",
   "execution_count": 45,
   "id": "72a697c1",
   "metadata": {},
   "outputs": [
    {
     "data": {
      "text/plain": [
       "count    380.000000\n",
       "mean       8.418163\n",
       "std        1.468840\n",
       "min        3.795880\n",
       "25%        7.508638\n",
       "50%        8.371882\n",
       "75%        9.369086\n",
       "max       12.397940\n",
       "Name: -log(Kd), dtype: float64"
      ]
     },
     "execution_count": 45,
     "metadata": {},
     "output_type": "execute_result"
    }
   ],
   "source": [
    "dataset[\"-log(Kd)\"].describe()"
   ]
  },
  {
   "cell_type": "code",
   "execution_count": 46,
   "id": "c4a6cdb1",
   "metadata": {},
   "outputs": [
    {
     "data": {
      "text/plain": [
       "<AxesSubplot:xlabel='-log(Kd)', ylabel='Count'>"
      ]
     },
     "execution_count": 46,
     "metadata": {},
     "output_type": "execute_result"
    },
    {
     "data": {
      "image/png": "[encoded data removed]",
      "text/plain": [
       "<Figure size 432x288 with 1 Axes>"
      ]
     },
     "metadata": {
      "needs_background": "light"
     },
     "output_type": "display_data"
    }
   ],
   "source": [
    "sns.histplot(dataset, x=\"-log(Kd)\", kde=True)"
   ]
  },
  {
   "cell_type": "code",
   "execution_count": 47,
   "id": "1607006d",
   "metadata": {},
   "outputs": [
    {
     "data": {
      "text/plain": [
       "<AxesSubplot:xlabel='-log(Kd)', ylabel='Count'>"
      ]
     },
     "execution_count": 47,
     "metadata": {},
     "output_type": "execute_result"
    },
    {
     "data": {
      "image/png": "[encoded data removed]",
      "text/plain": [
       "<Figure size 432x288 with 1 Axes>"
      ]
     },
     "metadata": {
      "needs_background": "light"
     },
     "output_type": "display_data"
    }
   ],
   "source": [
    "sns.histplot(dataset, x=\"-log(Kd)\", hue=\"validation\", kde=True)"
   ]
  },
  {
   "cell_type": "code",
   "execution_count": 48,
   "id": "7d60041d",
   "metadata": {},
   "outputs": [],
   "source": [
    "#dataset['antibody_chains'] = dataset['antibody_chains'].fillna(dataset['sabdab_antibody_chains'])\n",
    "#dataset['antigen_chains'] = dataset['antigen_chains'].fillna(dataset['sabdab_antigen_chains'])"
   ]
  },
  {
   "cell_type": "code",
   "execution_count": 49,
   "id": "119d44f0",
   "metadata": {},
   "outputs": [
    {
     "data": {
      "text/plain": [
       "\"['W']\""
      ]
     },
     "execution_count": 49,
     "metadata": {},
     "output_type": "execute_result"
    }
   ],
   "source": [
    "dataset['antigen_chains'][0]"
   ]
  },
  {
   "cell_type": "code",
   "execution_count": null,
   "id": "bfd53d84",
   "metadata": {},
   "outputs": [],
   "source": []
  },
  {
   "cell_type": "code",
   "execution_count": null,
   "id": "2ad211c6",
   "metadata": {},
   "outputs": [],
   "source": []
  }
 ],
 "metadata": {
  "kernelspec": {
   "display_name": "Python 3 (ipykernel)",
   "language": "python",
   "name": "python3"
  },
  "language_info": {
   "codemirror_mode": {
    "name": "ipython",
    "version": 3
   },
   "file_extension": ".py",
   "mimetype": "text/x-python",
   "name": "python",
   "nbconvert_exporter": "python",
   "pygments_lexer": "ipython3",
   "version": "3.7.12"
  }
 },
 "nbformat": 4,
 "nbformat_minor": 5
}
