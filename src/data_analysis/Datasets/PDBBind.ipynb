{
 "cells": [
  {
   "cell_type": "markdown",
   "id": "b978a214",
   "metadata": {},
   "source": [
    "# PDBBind 2020\n",
    "\n",
    "Downloaded from https://pdbbind.oss-cn-hangzhou.aliyuncs.com/download/PDBbind_v2020_PP.tar.gz (Cloud CDN of http://www.pdbbind.org.cn/download/PDBbind_v2020_PP.tar.gz)"
   ]
  },
  {
   "cell_type": "code",
   "execution_count": 1,
   "id": "e8583b6c",
   "metadata": {},
   "outputs": [],
   "source": [
    "import os\n",
    "import pandas as pd\n",
    "from collections import defaultdict\n",
    "from abag_affinity.utils.config import read_yaml, get_data_paths\n",
    "\n",
    "config = read_yaml(\"../../config.yaml\")\n",
    "info_path = os.path.join(config[\"RESOURCES\"][\"path\"], config[\"RESOURCES\"][\"PDBBind\"][\"folder_path\"], config[\"RESOURCES\"][\"PDBBind\"][\"info_file\"])"
   ]
  },
  {
   "cell_type": "code",
   "execution_count": 2,
   "id": "b5ef3639",
   "metadata": {},
   "outputs": [],
   "source": [
    "with open(info_path) as f:\n",
    "    lines = f.readlines()\n",
    "\n",
    "all_records = []\n",
    "\n",
    "for line in lines[6:]:\n",
    "    line = [ token for token in line.split(\" \") if token != \"\" ]\n",
    "    if \"IC50\" in line[3]:\n",
    "        affinity_type = line[3][:4]\n",
    "        affinity = line[3][5:]\n",
    "    else:\n",
    "        affinity_type = line[3][:2]\n",
    "        affinity = line[3][3:]\n",
    "    affinity_value = affinity[:-2]\n",
    "    affinity_unit = affinity[-2:]\n",
    "    \n",
    "    all_records.append({\n",
    "        \"pdb\": line[0],\n",
    "        \"resolution\": line[1],\n",
    "        \"release_year\": line[2],\n",
    "        \"affinty\": float(affinity_value),\n",
    "        \"affinity_unit\": affinity_unit,\n",
    "        \"affinity_type\": affinity_type,\n",
    "        \"ligand_name\": \" \".join(line[6:])\n",
    "    })\n",
    "    \n",
    "summary_df = pd.DataFrame.from_records(all_records)"
   ]
  },
  {
   "cell_type": "code",
   "execution_count": 3,
   "id": "e23d58b0",
   "metadata": {},
   "outputs": [
    {
     "name": "stdout",
     "output_type": "stream",
     "text": [
      "Number of Protein-Protein Interactions with binding affinity >>> 2852\n"
     ]
    }
   ],
   "source": [
    "print(\"Number of Protein-Protein Interactions with binding affinity >>>\", len(summary_df))"
   ]
  },
  {
   "cell_type": "code",
   "execution_count": 4,
   "id": "f30f5aa3",
   "metadata": {},
   "outputs": [
    {
     "data": {
      "text/plain": [
       "array(['nM', 'pM', 'uM', 'fM', 'mM'], dtype=object)"
      ]
     },
     "execution_count": 4,
     "metadata": {},
     "output_type": "execute_result"
    }
   ],
   "source": [
    "summary_df[\"affinity_unit\"].unique()"
   ]
  },
  {
   "cell_type": "code",
   "execution_count": 5,
   "id": "4a184c6a",
   "metadata": {},
   "outputs": [],
   "source": [
    "convert_unit = {\n",
    "    'mM': 1e03,\n",
    "    'uM': 1e06,\n",
    "    \"nM\": 1e09,\n",
    "    'pM': 1e12,\n",
    "    'fM': 1e15\n",
    "}\n",
    "summary_df[\"Kd\"] = summary_df.apply(lambda row: row[\"affinty\"] / convert_unit[row[\"affinity_unit\"]], axis=1)"
   ]
  },
  {
   "cell_type": "code",
   "execution_count": 6,
   "id": "8a74e167",
   "metadata": {},
   "outputs": [],
   "source": [
    "import numpy as np\n",
    "gas_constant =  8.31446261815324 # 0.0821\n",
    "\n",
    "def calc_delta_g(row):\n",
    "    delta_g = gas_constant * row[\"temperature_kelvin\"] * np.log(row[\"Kd\"])\n",
    "    return delta_g / 4184 # convert to kcal"
   ]
  },
  {
   "cell_type": "code",
   "execution_count": 7,
   "id": "d38cf363",
   "metadata": {},
   "outputs": [],
   "source": [
    "summary_df[\"temperature_kelvin\"] = 298.15 # assume temperature of 25° Celcius\n",
    "\n",
    "summary_df[\"delta_G\"] = summary_df.apply(lambda row: calc_delta_g(row), axis=1)\n",
    "\n",
    "summary_df[\"-log(Kd)\"] = summary_df.apply(lambda row: -np.log10(row[\"Kd\"]), axis=1)"
   ]
  },
  {
   "cell_type": "code",
   "execution_count": 8,
   "id": "a49f8152",
   "metadata": {},
   "outputs": [
    {
     "data": {
      "text/html": [
       "<div>\n",
       "<style scoped>\n",
       "    .dataframe tbody tr th:only-of-type {\n",
       "        vertical-align: middle;\n",
       "    }\n",
       "\n",
       "    .dataframe tbody tr th {\n",
       "        vertical-align: top;\n",
       "    }\n",
       "\n",
       "    .dataframe thead th {\n",
       "        text-align: right;\n",
       "    }\n",
       "</style>\n",
       "<table border=\"1\" class=\"dataframe\">\n",
       "  <thead>\n",
       "    <tr style=\"text-align: right;\">\n",
       "      <th></th>\n",
       "      <th>pdb</th>\n",
       "      <th>resolution</th>\n",
       "      <th>release_year</th>\n",
       "      <th>affinty</th>\n",
       "      <th>affinity_unit</th>\n",
       "      <th>affinity_type</th>\n",
       "      <th>ligand_name</th>\n",
       "      <th>Kd</th>\n",
       "      <th>temperature_kelvin</th>\n",
       "      <th>delta_G</th>\n",
       "      <th>-log(Kd)</th>\n",
       "    </tr>\n",
       "  </thead>\n",
       "  <tbody>\n",
       "    <tr>\n",
       "      <th>0</th>\n",
       "      <td>1fc2</td>\n",
       "      <td>2.80</td>\n",
       "      <td>1981</td>\n",
       "      <td>22.5</td>\n",
       "      <td>nM</td>\n",
       "      <td>Kd</td>\n",
       "      <td>(224-mer) Human Fc fragment, Kd=22.5+/-4.6nM, ...</td>\n",
       "      <td>2.250000e-08</td>\n",
       "      <td>298.15</td>\n",
       "      <td>-10.433512</td>\n",
       "      <td>7.647817</td>\n",
       "    </tr>\n",
       "    <tr>\n",
       "      <th>1</th>\n",
       "      <td>3sgb</td>\n",
       "      <td>1.80</td>\n",
       "      <td>1983</td>\n",
       "      <td>17.9</td>\n",
       "      <td>pM</td>\n",
       "      <td>Kd</td>\n",
       "      <td>(56-mer) TURKEY OVOMUCOID INHIBITOR (OMTKY3), ...</td>\n",
       "      <td>1.790000e-11</td>\n",
       "      <td>298.15</td>\n",
       "      <td>-14.661763</td>\n",
       "      <td>10.747147</td>\n",
       "    </tr>\n",
       "    <tr>\n",
       "      <th>2</th>\n",
       "      <td>2tgp</td>\n",
       "      <td>1.90</td>\n",
       "      <td>1983</td>\n",
       "      <td>2.4</td>\n",
       "      <td>uM</td>\n",
       "      <td>Kd</td>\n",
       "      <td>(58-mer) TRYPSIN INHIBITOR, 2.4 x 10-6M\\n</td>\n",
       "      <td>2.400000e-06</td>\n",
       "      <td>298.15</td>\n",
       "      <td>-7.666780</td>\n",
       "      <td>5.619789</td>\n",
       "    </tr>\n",
       "    <tr>\n",
       "      <th>3</th>\n",
       "      <td>2ptc</td>\n",
       "      <td>1.90</td>\n",
       "      <td>1983</td>\n",
       "      <td>60.0</td>\n",
       "      <td>fM</td>\n",
       "      <td>Kd</td>\n",
       "      <td>(58-mer) Kd=6x10-14M is for trypsin and the pa...</td>\n",
       "      <td>6.000000e-14</td>\n",
       "      <td>298.15</td>\n",
       "      <td>-18.037868</td>\n",
       "      <td>13.221849</td>\n",
       "    </tr>\n",
       "    <tr>\n",
       "      <th>4</th>\n",
       "      <td>2sni</td>\n",
       "      <td>2.10</td>\n",
       "      <td>1988</td>\n",
       "      <td>2.0</td>\n",
       "      <td>pM</td>\n",
       "      <td>Kd</td>\n",
       "      <td>(83-mer) CHYMOTRYPSIN INHIBITOR 2, Kd=2 x 10-1...</td>\n",
       "      <td>2.000000e-12</td>\n",
       "      <td>298.15</td>\n",
       "      <td>-15.960285</td>\n",
       "      <td>11.698970</td>\n",
       "    </tr>\n",
       "    <tr>\n",
       "      <th>...</th>\n",
       "      <td>...</td>\n",
       "      <td>...</td>\n",
       "      <td>...</td>\n",
       "      <td>...</td>\n",
       "      <td>...</td>\n",
       "      <td>...</td>\n",
       "      <td>...</td>\n",
       "      <td>...</td>\n",
       "      <td>...</td>\n",
       "      <td>...</td>\n",
       "      <td>...</td>\n",
       "    </tr>\n",
       "    <tr>\n",
       "      <th>2847</th>\n",
       "      <td>6bx8</td>\n",
       "      <td>1.98</td>\n",
       "      <td>2019</td>\n",
       "      <td>0.2</td>\n",
       "      <td>uM</td>\n",
       "      <td>Ki</td>\n",
       "      <td>(80-mer)\\n</td>\n",
       "      <td>2.000000e-07</td>\n",
       "      <td>298.15</td>\n",
       "      <td>-9.139050</td>\n",
       "      <td>6.698970</td>\n",
       "    </tr>\n",
       "    <tr>\n",
       "      <th>2848</th>\n",
       "      <td>6dwf</td>\n",
       "      <td>1.94</td>\n",
       "      <td>2019</td>\n",
       "      <td>1.3</td>\n",
       "      <td>nM</td>\n",
       "      <td>Ki</td>\n",
       "      <td>(169-mer)\\n</td>\n",
       "      <td>1.300000e-09</td>\n",
       "      <td>298.15</td>\n",
       "      <td>-12.122776</td>\n",
       "      <td>8.886057</td>\n",
       "    </tr>\n",
       "    <tr>\n",
       "      <th>2849</th>\n",
       "      <td>6n9d</td>\n",
       "      <td>2.67</td>\n",
       "      <td>2019</td>\n",
       "      <td>17.8</td>\n",
       "      <td>pM</td>\n",
       "      <td>Ki</td>\n",
       "      <td>(184-mer)\\n</td>\n",
       "      <td>1.780000e-11</td>\n",
       "      <td>298.15</td>\n",
       "      <td>-14.665082</td>\n",
       "      <td>10.749580</td>\n",
       "    </tr>\n",
       "    <tr>\n",
       "      <th>2850</th>\n",
       "      <td>6mav</td>\n",
       "      <td>2.37</td>\n",
       "      <td>2019</td>\n",
       "      <td>33.5</td>\n",
       "      <td>pM</td>\n",
       "      <td>Ki</td>\n",
       "      <td>(184-mer)\\n</td>\n",
       "      <td>3.350000e-11</td>\n",
       "      <td>298.15</td>\n",
       "      <td>-14.290426</td>\n",
       "      <td>10.474955</td>\n",
       "    </tr>\n",
       "    <tr>\n",
       "      <th>2851</th>\n",
       "      <td>6har</td>\n",
       "      <td>1.50</td>\n",
       "      <td>2019</td>\n",
       "      <td>61.0</td>\n",
       "      <td>pM</td>\n",
       "      <td>Ki</td>\n",
       "      <td>(80-mer)\\n</td>\n",
       "      <td>6.100000e-11</td>\n",
       "      <td>298.15</td>\n",
       "      <td>-13.935333</td>\n",
       "      <td>10.214670</td>\n",
       "    </tr>\n",
       "  </tbody>\n",
       "</table>\n",
       "<p>2852 rows × 11 columns</p>\n",
       "</div>"
      ],
      "text/plain": [
       "       pdb resolution release_year  affinty affinity_unit affinity_type  \\\n",
       "0     1fc2       2.80         1981     22.5            nM            Kd   \n",
       "1     3sgb       1.80         1983     17.9            pM            Kd   \n",
       "2     2tgp       1.90         1983      2.4            uM            Kd   \n",
       "3     2ptc       1.90         1983     60.0            fM            Kd   \n",
       "4     2sni       2.10         1988      2.0            pM            Kd   \n",
       "...    ...        ...          ...      ...           ...           ...   \n",
       "2847  6bx8       1.98         2019      0.2            uM            Ki   \n",
       "2848  6dwf       1.94         2019      1.3            nM            Ki   \n",
       "2849  6n9d       2.67         2019     17.8            pM            Ki   \n",
       "2850  6mav       2.37         2019     33.5            pM            Ki   \n",
       "2851  6har       1.50         2019     61.0            pM            Ki   \n",
       "\n",
       "                                            ligand_name            Kd  \\\n",
       "0     (224-mer) Human Fc fragment, Kd=22.5+/-4.6nM, ...  2.250000e-08   \n",
       "1     (56-mer) TURKEY OVOMUCOID INHIBITOR (OMTKY3), ...  1.790000e-11   \n",
       "2             (58-mer) TRYPSIN INHIBITOR, 2.4 x 10-6M\\n  2.400000e-06   \n",
       "3     (58-mer) Kd=6x10-14M is for trypsin and the pa...  6.000000e-14   \n",
       "4     (83-mer) CHYMOTRYPSIN INHIBITOR 2, Kd=2 x 10-1...  2.000000e-12   \n",
       "...                                                 ...           ...   \n",
       "2847                                         (80-mer)\\n  2.000000e-07   \n",
       "2848                                        (169-mer)\\n  1.300000e-09   \n",
       "2849                                        (184-mer)\\n  1.780000e-11   \n",
       "2850                                        (184-mer)\\n  3.350000e-11   \n",
       "2851                                         (80-mer)\\n  6.100000e-11   \n",
       "\n",
       "      temperature_kelvin    delta_G   -log(Kd)  \n",
       "0                 298.15 -10.433512   7.647817  \n",
       "1                 298.15 -14.661763  10.747147  \n",
       "2                 298.15  -7.666780   5.619789  \n",
       "3                 298.15 -18.037868  13.221849  \n",
       "4                 298.15 -15.960285  11.698970  \n",
       "...                  ...        ...        ...  \n",
       "2847              298.15  -9.139050   6.698970  \n",
       "2848              298.15 -12.122776   8.886057  \n",
       "2849              298.15 -14.665082  10.749580  \n",
       "2850              298.15 -14.290426  10.474955  \n",
       "2851              298.15 -13.935333  10.214670  \n",
       "\n",
       "[2852 rows x 11 columns]"
      ]
     },
     "execution_count": 8,
     "metadata": {},
     "output_type": "execute_result"
    }
   ],
   "source": [
    "summary_df"
   ]
  },
  {
   "cell_type": "markdown",
   "id": "4bae761e",
   "metadata": {},
   "source": [
    "### Remove data already in Dataset 1"
   ]
  },
  {
   "cell_type": "code",
   "execution_count": 9,
   "id": "e9307984",
   "metadata": {},
   "outputs": [],
   "source": [
    "from abag_affinity.utils.config import get_data_paths\n",
    "dataset_v1_path, _ = get_data_paths(config, \"Dataset_v1\")\n",
    "dataset_v1_df = pd.read_csv(dataset_v1_path)\n",
    "data_v1_ids = set(dataset_v1_df[\"pdb\"].unique().tolist())"
   ]
  },
  {
   "cell_type": "code",
   "execution_count": 10,
   "id": "d9a47abb",
   "metadata": {},
   "outputs": [],
   "source": [
    "summary_df = summary_df[~summary_df[\"pdb\"].isin(data_v1_ids)]"
   ]
  },
  {
   "cell_type": "code",
   "execution_count": 11,
   "id": "daee3585",
   "metadata": {},
   "outputs": [],
   "source": [
    "#summary_df.to_csv(os.path.join(config[\"DATA\"][\"path\"], config[\"DATA\"][\"PDBBind\"][\"folder_path\"], config[\"DATA\"][\"PDBBind\"][\"summary\"]), index=False)"
   ]
  },
  {
   "cell_type": "code",
   "execution_count": 12,
   "id": "761e4dbe",
   "metadata": {},
   "outputs": [],
   "source": [
    "from abag_affinity.utils.pdb_reader import read_file\n",
    "from Bio.SeqUtils import seq1\n",
    "import warnings\n",
    "warnings.filterwarnings(\"ignore\")\n",
    "\n",
    "pdb_path = os.path.join(config[\"RESOURCES\"][\"path\"], config[\"RESOURCES\"][\"PDBBind\"][\"folder_path\"], config[\"RESOURCES\"][\"PDBBind\"][\"pdb_path\"])\n",
    "\n",
    "def read_pdb(pdb_id):\n",
    "    path = os.path.join(pdb_path, pdb_id + \".ent.pdb\")\n",
    "\n",
    "    structure, header = read_file(pdb_id, path)\n",
    "    chains = structure.get_chains()\n",
    "    chain_ids = [chain.id for chain in chains]\n",
    "    \n",
    "    chain_residue_count = {}\n",
    "    \n",
    "    for model in structure:\n",
    "        for chain in model:\n",
    "            chain_residues = 0\n",
    "            for r in chain.get_residues():\n",
    "                if r.id[0] == ' ' and r.resname not in [\"UNK\", \"HOH\", \"H_GOL\", \"W\"]:\n",
    "                    chain_residues +=1\n",
    "            chain_residue_count[chain.id.lower()] = chain_residues\n",
    "    \n",
    "    compound_info = header.get(\"compound\")\n",
    "    if compound_info is None:\n",
    "        return \"No Compound Info\"\n",
    "    \n",
    "    chain_info = {}\n",
    "    molecules = []\n",
    "    mol_id2chain = defaultdict(list)\n",
    "    for info in compound_info.values():\n",
    "        if isinstance(info, str):\n",
    "            print(info)\n",
    "            return \"Invalid Information format\"\n",
    "        if info.get(\"molecule\") is not None:\n",
    "            molecule = info.get(\"molecule\")\n",
    "            if molecule == 'uncharacterized protein':\n",
    "                return \"Uncharacterized protein in complex\"\n",
    "            if \"light\" in molecule:\n",
    "                molecule = molecule[:molecule.find(\"light\")]\n",
    "            if \"heavy\" in molecule:\n",
    "                molecule = molecule[:molecule.find(\"heavy\")]\n",
    "            if molecule in molecules:\n",
    "                mol_id = molecules.index(molecule)\n",
    "            else:\n",
    "                mol_id = len(molecules)\n",
    "                molecules.append(molecule)\n",
    "            chain_info[info[\"chain\"]] = mol_id\n",
    "            mol_id2chain[mol_id].append(info[\"chain\"])\n",
    "        else:\n",
    "            return \"No Molecule Info\"\n",
    "    \n",
    "    for chain in structure.get_chains():\n",
    "        if chain.id.lower() not in chain_info:\n",
    "            return \"No Info for chain {}\".format(chain.id)\n",
    "    \n",
    "    if len(molecules) > 2:\n",
    "        return \"Too many molecules\"\n",
    "    \n",
    "\n",
    "    for mol_id, chains in mol_id2chain.items():\n",
    "        for chain in chains:\n",
    "            if chain not in chain_residue_count or chain_residue_count[chain] == 0:\n",
    "                    return \"Not all chains have residues\"\n",
    "    #print(chain_residue_count)\n",
    "    return chain_info"
   ]
  },
  {
   "cell_type": "code",
   "execution_count": 13,
   "id": "945db6d8",
   "metadata": {},
   "outputs": [
    {
     "data": {
      "application/vnd.jupyter.widget-view+json": {
       "model_id": "398207a27f0b42219a49fabddc82a640",
       "version_major": 2,
       "version_minor": 0
      },
      "text/plain": [
       "  0%|          | 0/2550 [00:00<?, ?it/s]"
      ]
     },
     "metadata": {},
     "output_type": "display_data"
    }
   ],
   "source": [
    "from tqdm.auto import tqdm\n",
    "tqdm.pandas()\n",
    "\n",
    "if \"chain_infos\" not in summary_df:\n",
    "    chain_infos = summary_df[\"pdb\"].progress_apply(lambda id: read_pdb(id))\n",
    "    summary_df[\"chain_infos\"] = chain_infos"
   ]
  },
  {
   "cell_type": "code",
   "execution_count": 14,
   "id": "75e857a1",
   "metadata": {},
   "outputs": [
    {
     "name": "stdout",
     "output_type": "stream",
     "text": [
      "978 total structures with two molecules and info available\n",
      "194 total structures with more than two molecules and info available\n"
     ]
    }
   ],
   "source": [
    "print(\"{} total structures with two molecules and info available\".format(chain_infos.apply(lambda chain_info: not isinstance(chain_info, str)).sum()))\n",
    "print(\"{} total structures with more than two molecules and info available\".format(chain_infos.apply(lambda chain_info: chain_info == \"Too many molecules\" ).sum()))"
   ]
  },
  {
   "cell_type": "code",
   "execution_count": 15,
   "id": "0f3a15c9",
   "metadata": {},
   "outputs": [],
   "source": [
    "summary_df[\"filename\"] = summary_df[\"pdb\"].apply(lambda pdb_id: pdb_id + \".ent.pdb\")\n",
    "summary_df[\"data_location\"] = \"RESOURCES\""
   ]
  },
  {
   "cell_type": "code",
   "execution_count": 16,
   "id": "fbd41308",
   "metadata": {},
   "outputs": [],
   "source": [
    "#summary_df[summary_df[\"pdb\"] == \"3sgb\"][\"pdb\"].progress_apply(lambda id: read_pdb(id))"
   ]
  },
  {
   "cell_type": "markdown",
   "id": "63ac0fb4",
   "metadata": {},
   "source": [
    "### Clean dataset\n",
    "\n",
    "Remove all entries that do not have information for two proteins\n"
   ]
  },
  {
   "cell_type": "code",
   "execution_count": 17,
   "id": "36529c0f",
   "metadata": {},
   "outputs": [],
   "source": [
    "mask = summary_df[\"chain_infos\"].apply(lambda x: isinstance(x, dict))\n",
    "cleaned_summary = summary_df[mask]\n",
    "\n",
    "mask = cleaned_summary[\"chain_infos\"].apply(lambda x: list(x.values()).count(list(x.values())[0]) != len(x.values()))\n",
    "cleaned_summary = cleaned_summary[mask]"
   ]
  },
  {
   "cell_type": "code",
   "execution_count": 18,
   "id": "00036b5f",
   "metadata": {},
   "outputs": [],
   "source": [
    "cleaned_summary = cleaned_summary[[\"pdb\", \"data_location\", \"filename\", \"-log(Kd)\", \"chain_infos\"]]\n",
    "cleaned_summary = cleaned_summary.set_index(\"pdb\", drop=False)\n",
    "cleaned_summary.index.name = \"\""
   ]
  },
  {
   "cell_type": "code",
   "execution_count": 19,
   "id": "90444974",
   "metadata": {},
   "outputs": [
    {
     "name": "stdout",
     "output_type": "stream",
     "text": [
      "Number of pdbs after cleansing >>> 970\n"
     ]
    }
   ],
   "source": [
    "print(\"Number of pdbs after cleansing >>> {}\".format(len(cleaned_summary)))"
   ]
  },
  {
   "cell_type": "code",
   "execution_count": 20,
   "id": "488a74ae",
   "metadata": {},
   "outputs": [],
   "source": [
    "cleaned_summary.to_csv(os.path.join(config[\"DATA\"][\"path\"], config[\"DATA\"][\"PDBBind\"][\"folder_path\"], config[\"DATA\"][\"PDBBind\"][\"summary\"]))"
   ]
  },
  {
   "cell_type": "code",
   "execution_count": 21,
   "id": "565cd3da",
   "metadata": {},
   "outputs": [
    {
     "data": {
      "text/html": [
       "<div>\n",
       "<style scoped>\n",
       "    .dataframe tbody tr th:only-of-type {\n",
       "        vertical-align: middle;\n",
       "    }\n",
       "\n",
       "    .dataframe tbody tr th {\n",
       "        vertical-align: top;\n",
       "    }\n",
       "\n",
       "    .dataframe thead th {\n",
       "        text-align: right;\n",
       "    }\n",
       "</style>\n",
       "<table border=\"1\" class=\"dataframe\">\n",
       "  <thead>\n",
       "    <tr style=\"text-align: right;\">\n",
       "      <th></th>\n",
       "      <th>pdb</th>\n",
       "      <th>data_location</th>\n",
       "      <th>filename</th>\n",
       "      <th>-log(Kd)</th>\n",
       "      <th>chain_infos</th>\n",
       "    </tr>\n",
       "    <tr>\n",
       "      <th></th>\n",
       "      <th></th>\n",
       "      <th></th>\n",
       "      <th></th>\n",
       "      <th></th>\n",
       "      <th></th>\n",
       "    </tr>\n",
       "  </thead>\n",
       "  <tbody>\n",
       "    <tr>\n",
       "      <th>3sgb</th>\n",
       "      <td>3sgb</td>\n",
       "      <td>RESOURCES</td>\n",
       "      <td>3sgb.ent.pdb</td>\n",
       "      <td>10.747147</td>\n",
       "      <td>{'e': 0, 'i': 1}</td>\n",
       "    </tr>\n",
       "    <tr>\n",
       "      <th>2tgp</th>\n",
       "      <td>2tgp</td>\n",
       "      <td>RESOURCES</td>\n",
       "      <td>2tgp.ent.pdb</td>\n",
       "      <td>5.619789</td>\n",
       "      <td>{'z': 0, 'i': 1}</td>\n",
       "    </tr>\n",
       "    <tr>\n",
       "      <th>2ptc</th>\n",
       "      <td>2ptc</td>\n",
       "      <td>RESOURCES</td>\n",
       "      <td>2ptc.ent.pdb</td>\n",
       "      <td>13.221849</td>\n",
       "      <td>{'e': 0, 'i': 1}</td>\n",
       "    </tr>\n",
       "    <tr>\n",
       "      <th>2sni</th>\n",
       "      <td>2sni</td>\n",
       "      <td>RESOURCES</td>\n",
       "      <td>2sni.ent.pdb</td>\n",
       "      <td>11.698970</td>\n",
       "      <td>{'e': 0, 'i': 1}</td>\n",
       "    </tr>\n",
       "    <tr>\n",
       "      <th>1gla</th>\n",
       "      <td>1gla</td>\n",
       "      <td>RESOURCES</td>\n",
       "      <td>1gla.ent.pdb</td>\n",
       "      <td>6.744727</td>\n",
       "      <td>{'f': 0, 'g': 1}</td>\n",
       "    </tr>\n",
       "    <tr>\n",
       "      <th>...</th>\n",
       "      <td>...</td>\n",
       "      <td>...</td>\n",
       "      <td>...</td>\n",
       "      <td>...</td>\n",
       "      <td>...</td>\n",
       "    </tr>\n",
       "    <tr>\n",
       "      <th>6ivz</th>\n",
       "      <td>6ivz</td>\n",
       "      <td>RESOURCES</td>\n",
       "      <td>6ivz.ent.pdb</td>\n",
       "      <td>8.013228</td>\n",
       "      <td>{'a': 0, 'h': 1, 'l': 1}</td>\n",
       "    </tr>\n",
       "    <tr>\n",
       "      <th>6oqj</th>\n",
       "      <td>6oqj</td>\n",
       "      <td>RESOURCES</td>\n",
       "      <td>6oqj.ent.pdb</td>\n",
       "      <td>8.045757</td>\n",
       "      <td>{'a': 0, 'b': 1}</td>\n",
       "    </tr>\n",
       "    <tr>\n",
       "      <th>6n9d</th>\n",
       "      <td>6n9d</td>\n",
       "      <td>RESOURCES</td>\n",
       "      <td>6n9d.ent.pdb</td>\n",
       "      <td>10.749580</td>\n",
       "      <td>{'a': 0, 'b': 1}</td>\n",
       "    </tr>\n",
       "    <tr>\n",
       "      <th>6mav</th>\n",
       "      <td>6mav</td>\n",
       "      <td>RESOURCES</td>\n",
       "      <td>6mav.ent.pdb</td>\n",
       "      <td>10.474955</td>\n",
       "      <td>{'a': 0, 'b': 1}</td>\n",
       "    </tr>\n",
       "    <tr>\n",
       "      <th>6har</th>\n",
       "      <td>6har</td>\n",
       "      <td>RESOURCES</td>\n",
       "      <td>6har.ent.pdb</td>\n",
       "      <td>10.214670</td>\n",
       "      <td>{'a': 0, 'e': 1}</td>\n",
       "    </tr>\n",
       "  </tbody>\n",
       "</table>\n",
       "<p>970 rows × 5 columns</p>\n",
       "</div>"
      ],
      "text/plain": [
       "       pdb data_location      filename   -log(Kd)               chain_infos\n",
       "                                                                           \n",
       "3sgb  3sgb     RESOURCES  3sgb.ent.pdb  10.747147          {'e': 0, 'i': 1}\n",
       "2tgp  2tgp     RESOURCES  2tgp.ent.pdb   5.619789          {'z': 0, 'i': 1}\n",
       "2ptc  2ptc     RESOURCES  2ptc.ent.pdb  13.221849          {'e': 0, 'i': 1}\n",
       "2sni  2sni     RESOURCES  2sni.ent.pdb  11.698970          {'e': 0, 'i': 1}\n",
       "1gla  1gla     RESOURCES  1gla.ent.pdb   6.744727          {'f': 0, 'g': 1}\n",
       "...    ...           ...           ...        ...                       ...\n",
       "6ivz  6ivz     RESOURCES  6ivz.ent.pdb   8.013228  {'a': 0, 'h': 1, 'l': 1}\n",
       "6oqj  6oqj     RESOURCES  6oqj.ent.pdb   8.045757          {'a': 0, 'b': 1}\n",
       "6n9d  6n9d     RESOURCES  6n9d.ent.pdb  10.749580          {'a': 0, 'b': 1}\n",
       "6mav  6mav     RESOURCES  6mav.ent.pdb  10.474955          {'a': 0, 'b': 1}\n",
       "6har  6har     RESOURCES  6har.ent.pdb  10.214670          {'a': 0, 'e': 1}\n",
       "\n",
       "[970 rows x 5 columns]"
      ]
     },
     "execution_count": 21,
     "metadata": {},
     "output_type": "execute_result"
    }
   ],
   "source": [
    "cleaned_summary"
   ]
  },
  {
   "cell_type": "markdown",
   "id": "6732715e",
   "metadata": {},
   "source": [
    "### Affinity distribution"
   ]
  },
  {
   "cell_type": "code",
   "execution_count": 22,
   "id": "f5aecfe5",
   "metadata": {},
   "outputs": [
    {
     "data": {
      "text/plain": [
       "<AxesSubplot:>"
      ]
     },
     "execution_count": 22,
     "metadata": {},
     "output_type": "execute_result"
    },
    {
     "data": {
      "image/png": "[encoded data removed]",
      "text/plain": [
       "<Figure size 432x288 with 1 Axes>"
      ]
     },
     "metadata": {
      "needs_background": "light"
     },
     "output_type": "display_data"
    }
   ],
   "source": [
    "summary_df[\"delta_G\"].hist(bins=50)"
   ]
  },
  {
   "cell_type": "code",
   "execution_count": 23,
   "id": "bae90710",
   "metadata": {},
   "outputs": [
    {
     "data": {
      "text/plain": [
       "<AxesSubplot:>"
      ]
     },
     "execution_count": 23,
     "metadata": {},
     "output_type": "execute_result"
    },
    {
     "data": {
      "image/png": "[encoded data removed]",
      "text/plain": [
       "<Figure size 432x288 with 1 Axes>"
      ]
     },
     "metadata": {
      "needs_background": "light"
     },
     "output_type": "display_data"
    }
   ],
   "source": [
    "summary_df[\"-log(Kd)\"].hist(bins=50)"
   ]
  },
  {
   "cell_type": "code",
   "execution_count": 25,
   "id": "893cc47c",
   "metadata": {},
   "outputs": [
    {
     "data": {
      "text/plain": [
       "count    2550.000000\n",
       "mean        7.076825\n",
       "std         1.880450\n",
       "min         0.673664\n",
       "25%         5.698970\n",
       "50%         6.962574\n",
       "75%         8.236572\n",
       "max        15.698970\n",
       "Name: -log(Kd), dtype: float64"
      ]
     },
     "execution_count": 25,
     "metadata": {},
     "output_type": "execute_result"
    }
   ],
   "source": [
    "summary_df[\"-log(Kd)\"].describe()"
   ]
  },
  {
   "cell_type": "code",
   "execution_count": null,
   "id": "542d79a3",
   "metadata": {},
   "outputs": [],
   "source": []
  }
 ],
 "metadata": {
  "kernelspec": {
   "display_name": "Python 3 (ipykernel)",
   "language": "python",
   "name": "python3"
  },
  "language_info": {
   "codemirror_mode": {
    "name": "ipython",
    "version": 3
   },
   "file_extension": ".py",
   "mimetype": "text/x-python",
   "name": "python",
   "nbconvert_exporter": "python",
   "pygments_lexer": "ipython3",
   "version": "3.7.12"
  }
 },
 "nbformat": 4,
 "nbformat_minor": 5
}
