{
 "cells": [
  {
   "cell_type": "markdown",
   "id": "0e4c4f77",
   "metadata": {},
   "source": [
    "# SKEMPI v2 Data Analysis\n",
    "\n",
    "Dataset downloaded from https://life.bsc.es/pid/skempi2/database/index (11.06.2022)"
   ]
  },
  {
   "cell_type": "code",
   "execution_count": 1,
   "id": "86584baf",
   "metadata": {},
   "outputs": [],
   "source": [
    "import os\n",
    "import pandas as pd\n",
    "\n",
    "from abag_affinity.utils.config import read_config, get_resources_paths"
   ]
  },
  {
   "cell_type": "code",
   "execution_count": 2,
   "id": "a23a17d3",
   "metadata": {},
   "outputs": [],
   "source": [
    "config = read_config(\"../../config.yaml\")\n",
    "skempi_csv_name, skempi_pdb_folder = get_resources_paths(config, \"SKEMPI.v2\")"
   ]
  },
  {
   "cell_type": "code",
   "execution_count": 3,
   "id": "057d571b",
   "metadata": {},
   "outputs": [
    {
     "data": {
      "text/plain": [
       "1393"
      ]
     },
     "execution_count": 3,
     "metadata": {},
     "output_type": "execute_result"
    }
   ],
   "source": [
    "len(os.listdir(skempi_pdb_folder))"
   ]
  },
  {
   "cell_type": "code",
   "execution_count": 4,
   "id": "b0a38c5c",
   "metadata": {
    "scrolled": true
   },
   "outputs": [
    {
     "data": {
      "text/html": [
       "<div>\n",
       "<style scoped>\n",
       "    .dataframe tbody tr th:only-of-type {\n",
       "        vertical-align: middle;\n",
       "    }\n",
       "\n",
       "    .dataframe tbody tr th {\n",
       "        vertical-align: top;\n",
       "    }\n",
       "\n",
       "    .dataframe thead th {\n",
       "        text-align: right;\n",
       "    }\n",
       "</style>\n",
       "<table border=\"1\" class=\"dataframe\">\n",
       "  <thead>\n",
       "    <tr style=\"text-align: right;\">\n",
       "      <th></th>\n",
       "      <th>#Pdb</th>\n",
       "      <th>Mutation(s)_PDB</th>\n",
       "      <th>Mutation(s)_cleaned</th>\n",
       "      <th>iMutation_Location(s)</th>\n",
       "      <th>Hold_out_type</th>\n",
       "      <th>Hold_out_proteins</th>\n",
       "      <th>Affinity_mut (M)</th>\n",
       "      <th>Affinity_mut_parsed</th>\n",
       "      <th>Affinity_wt (M)</th>\n",
       "      <th>Affinity_wt_parsed</th>\n",
       "      <th>...</th>\n",
       "      <th>koff_mut_parsed</th>\n",
       "      <th>koff_wt (s^(-1))</th>\n",
       "      <th>koff_wt_parsed</th>\n",
       "      <th>dH_mut (kcal mol^(-1))</th>\n",
       "      <th>dH_wt (kcal mol^(-1))</th>\n",
       "      <th>dS_mut (cal mol^(-1) K^(-1))</th>\n",
       "      <th>dS_wt (cal mol^(-1) K^(-1))</th>\n",
       "      <th>Notes</th>\n",
       "      <th>Method</th>\n",
       "      <th>SKEMPI version</th>\n",
       "    </tr>\n",
       "  </thead>\n",
       "  <tbody>\n",
       "    <tr>\n",
       "      <th>0</th>\n",
       "      <td>1CSE_E_I</td>\n",
       "      <td>LI45G</td>\n",
       "      <td>LI38G</td>\n",
       "      <td>COR</td>\n",
       "      <td>Pr/PI</td>\n",
       "      <td>Pr/PI</td>\n",
       "      <td>5.26E-11</td>\n",
       "      <td>5.260000e-11</td>\n",
       "      <td>1.12E-12</td>\n",
       "      <td>1.120000e-12</td>\n",
       "      <td>...</td>\n",
       "      <td>NaN</td>\n",
       "      <td>NaN</td>\n",
       "      <td>NaN</td>\n",
       "      <td>NaN</td>\n",
       "      <td>NaN</td>\n",
       "      <td>NaN</td>\n",
       "      <td>NaN</td>\n",
       "      <td>NaN</td>\n",
       "      <td>IASP</td>\n",
       "      <td>1</td>\n",
       "    </tr>\n",
       "    <tr>\n",
       "      <th>1</th>\n",
       "      <td>1CSE_E_I</td>\n",
       "      <td>LI45S</td>\n",
       "      <td>LI38S</td>\n",
       "      <td>COR</td>\n",
       "      <td>Pr/PI</td>\n",
       "      <td>Pr/PI</td>\n",
       "      <td>8.33E-12</td>\n",
       "      <td>8.330000e-12</td>\n",
       "      <td>1.12E-12</td>\n",
       "      <td>1.120000e-12</td>\n",
       "      <td>...</td>\n",
       "      <td>NaN</td>\n",
       "      <td>NaN</td>\n",
       "      <td>NaN</td>\n",
       "      <td>NaN</td>\n",
       "      <td>NaN</td>\n",
       "      <td>NaN</td>\n",
       "      <td>NaN</td>\n",
       "      <td>NaN</td>\n",
       "      <td>IASP</td>\n",
       "      <td>1</td>\n",
       "    </tr>\n",
       "    <tr>\n",
       "      <th>2</th>\n",
       "      <td>1CSE_E_I</td>\n",
       "      <td>LI45P</td>\n",
       "      <td>LI38P</td>\n",
       "      <td>COR</td>\n",
       "      <td>Pr/PI</td>\n",
       "      <td>Pr/PI</td>\n",
       "      <td>1.02E-07</td>\n",
       "      <td>1.020000e-07</td>\n",
       "      <td>1.12E-12</td>\n",
       "      <td>1.120000e-12</td>\n",
       "      <td>...</td>\n",
       "      <td>NaN</td>\n",
       "      <td>NaN</td>\n",
       "      <td>NaN</td>\n",
       "      <td>NaN</td>\n",
       "      <td>NaN</td>\n",
       "      <td>NaN</td>\n",
       "      <td>NaN</td>\n",
       "      <td>NaN</td>\n",
       "      <td>IASP</td>\n",
       "      <td>1</td>\n",
       "    </tr>\n",
       "    <tr>\n",
       "      <th>3</th>\n",
       "      <td>1CSE_E_I</td>\n",
       "      <td>LI45I</td>\n",
       "      <td>LI38I</td>\n",
       "      <td>COR</td>\n",
       "      <td>Pr/PI</td>\n",
       "      <td>Pr/PI</td>\n",
       "      <td>1.72E-10</td>\n",
       "      <td>1.720000e-10</td>\n",
       "      <td>1.12E-12</td>\n",
       "      <td>1.120000e-12</td>\n",
       "      <td>...</td>\n",
       "      <td>NaN</td>\n",
       "      <td>NaN</td>\n",
       "      <td>NaN</td>\n",
       "      <td>NaN</td>\n",
       "      <td>NaN</td>\n",
       "      <td>NaN</td>\n",
       "      <td>NaN</td>\n",
       "      <td>NaN</td>\n",
       "      <td>IASP</td>\n",
       "      <td>1</td>\n",
       "    </tr>\n",
       "    <tr>\n",
       "      <th>4</th>\n",
       "      <td>1CSE_E_I</td>\n",
       "      <td>LI45D</td>\n",
       "      <td>LI38D</td>\n",
       "      <td>COR</td>\n",
       "      <td>Pr/PI</td>\n",
       "      <td>Pr/PI</td>\n",
       "      <td>1.92E-09</td>\n",
       "      <td>1.920000e-09</td>\n",
       "      <td>1.12E-12</td>\n",
       "      <td>1.120000e-12</td>\n",
       "      <td>...</td>\n",
       "      <td>NaN</td>\n",
       "      <td>NaN</td>\n",
       "      <td>NaN</td>\n",
       "      <td>NaN</td>\n",
       "      <td>NaN</td>\n",
       "      <td>NaN</td>\n",
       "      <td>NaN</td>\n",
       "      <td>NaN</td>\n",
       "      <td>IASP</td>\n",
       "      <td>1</td>\n",
       "    </tr>\n",
       "    <tr>\n",
       "      <th>5</th>\n",
       "      <td>1CSE_E_I</td>\n",
       "      <td>LI45E</td>\n",
       "      <td>LI38E</td>\n",
       "      <td>COR</td>\n",
       "      <td>Pr/PI</td>\n",
       "      <td>Pr/PI</td>\n",
       "      <td>6.25E-11</td>\n",
       "      <td>6.250000e-11</td>\n",
       "      <td>1.12E-12</td>\n",
       "      <td>1.120000e-12</td>\n",
       "      <td>...</td>\n",
       "      <td>NaN</td>\n",
       "      <td>NaN</td>\n",
       "      <td>NaN</td>\n",
       "      <td>NaN</td>\n",
       "      <td>NaN</td>\n",
       "      <td>NaN</td>\n",
       "      <td>NaN</td>\n",
       "      <td>NaN</td>\n",
       "      <td>IASP</td>\n",
       "      <td>1</td>\n",
       "    </tr>\n",
       "    <tr>\n",
       "      <th>6</th>\n",
       "      <td>1ACB_E_I</td>\n",
       "      <td>LI45G</td>\n",
       "      <td>LI38G</td>\n",
       "      <td>COR</td>\n",
       "      <td>Pr/PI</td>\n",
       "      <td>Pr/PI</td>\n",
       "      <td>4.55E-08</td>\n",
       "      <td>4.550000e-08</td>\n",
       "      <td>1.49E-12</td>\n",
       "      <td>1.490000e-12</td>\n",
       "      <td>...</td>\n",
       "      <td>NaN</td>\n",
       "      <td>NaN</td>\n",
       "      <td>NaN</td>\n",
       "      <td>NaN</td>\n",
       "      <td>NaN</td>\n",
       "      <td>NaN</td>\n",
       "      <td>NaN</td>\n",
       "      <td>NaN</td>\n",
       "      <td>IASP</td>\n",
       "      <td>1</td>\n",
       "    </tr>\n",
       "    <tr>\n",
       "      <th>7</th>\n",
       "      <td>1ACB_E_I</td>\n",
       "      <td>LI45S</td>\n",
       "      <td>LI38S</td>\n",
       "      <td>COR</td>\n",
       "      <td>Pr/PI</td>\n",
       "      <td>Pr/PI</td>\n",
       "      <td>7.14E-09</td>\n",
       "      <td>7.140000e-09</td>\n",
       "      <td>1.49E-12</td>\n",
       "      <td>1.490000e-12</td>\n",
       "      <td>...</td>\n",
       "      <td>NaN</td>\n",
       "      <td>NaN</td>\n",
       "      <td>NaN</td>\n",
       "      <td>NaN</td>\n",
       "      <td>NaN</td>\n",
       "      <td>NaN</td>\n",
       "      <td>NaN</td>\n",
       "      <td>NaN</td>\n",
       "      <td>IASP</td>\n",
       "      <td>1</td>\n",
       "    </tr>\n",
       "    <tr>\n",
       "      <th>8</th>\n",
       "      <td>1ACB_E_I</td>\n",
       "      <td>LI45P</td>\n",
       "      <td>LI38P</td>\n",
       "      <td>COR</td>\n",
       "      <td>Pr/PI</td>\n",
       "      <td>Pr/PI</td>\n",
       "      <td>1.85E-07</td>\n",
       "      <td>1.850000e-07</td>\n",
       "      <td>1.49E-12</td>\n",
       "      <td>1.490000e-12</td>\n",
       "      <td>...</td>\n",
       "      <td>NaN</td>\n",
       "      <td>NaN</td>\n",
       "      <td>NaN</td>\n",
       "      <td>NaN</td>\n",
       "      <td>NaN</td>\n",
       "      <td>NaN</td>\n",
       "      <td>NaN</td>\n",
       "      <td>NaN</td>\n",
       "      <td>IASP</td>\n",
       "      <td>1</td>\n",
       "    </tr>\n",
       "    <tr>\n",
       "      <th>9</th>\n",
       "      <td>1ACB_E_I</td>\n",
       "      <td>LI45I</td>\n",
       "      <td>LI38I</td>\n",
       "      <td>COR</td>\n",
       "      <td>Pr/PI</td>\n",
       "      <td>Pr/PI</td>\n",
       "      <td>2.08E-09</td>\n",
       "      <td>2.080000e-09</td>\n",
       "      <td>1.49E-12</td>\n",
       "      <td>1.490000e-12</td>\n",
       "      <td>...</td>\n",
       "      <td>NaN</td>\n",
       "      <td>NaN</td>\n",
       "      <td>NaN</td>\n",
       "      <td>NaN</td>\n",
       "      <td>NaN</td>\n",
       "      <td>NaN</td>\n",
       "      <td>NaN</td>\n",
       "      <td>NaN</td>\n",
       "      <td>IASP</td>\n",
       "      <td>1</td>\n",
       "    </tr>\n",
       "  </tbody>\n",
       "</table>\n",
       "<p>10 rows × 29 columns</p>\n",
       "</div>"
      ],
      "text/plain": [
       "       #Pdb Mutation(s)_PDB Mutation(s)_cleaned iMutation_Location(s)  \\\n",
       "0  1CSE_E_I           LI45G               LI38G                   COR   \n",
       "1  1CSE_E_I           LI45S               LI38S                   COR   \n",
       "2  1CSE_E_I           LI45P               LI38P                   COR   \n",
       "3  1CSE_E_I           LI45I               LI38I                   COR   \n",
       "4  1CSE_E_I           LI45D               LI38D                   COR   \n",
       "5  1CSE_E_I           LI45E               LI38E                   COR   \n",
       "6  1ACB_E_I           LI45G               LI38G                   COR   \n",
       "7  1ACB_E_I           LI45S               LI38S                   COR   \n",
       "8  1ACB_E_I           LI45P               LI38P                   COR   \n",
       "9  1ACB_E_I           LI45I               LI38I                   COR   \n",
       "\n",
       "  Hold_out_type Hold_out_proteins Affinity_mut (M)  Affinity_mut_parsed  \\\n",
       "0         Pr/PI             Pr/PI         5.26E-11         5.260000e-11   \n",
       "1         Pr/PI             Pr/PI         8.33E-12         8.330000e-12   \n",
       "2         Pr/PI             Pr/PI         1.02E-07         1.020000e-07   \n",
       "3         Pr/PI             Pr/PI         1.72E-10         1.720000e-10   \n",
       "4         Pr/PI             Pr/PI         1.92E-09         1.920000e-09   \n",
       "5         Pr/PI             Pr/PI         6.25E-11         6.250000e-11   \n",
       "6         Pr/PI             Pr/PI         4.55E-08         4.550000e-08   \n",
       "7         Pr/PI             Pr/PI         7.14E-09         7.140000e-09   \n",
       "8         Pr/PI             Pr/PI         1.85E-07         1.850000e-07   \n",
       "9         Pr/PI             Pr/PI         2.08E-09         2.080000e-09   \n",
       "\n",
       "  Affinity_wt (M)  Affinity_wt_parsed  ... koff_mut_parsed koff_wt (s^(-1))  \\\n",
       "0        1.12E-12        1.120000e-12  ...             NaN              NaN   \n",
       "1        1.12E-12        1.120000e-12  ...             NaN              NaN   \n",
       "2        1.12E-12        1.120000e-12  ...             NaN              NaN   \n",
       "3        1.12E-12        1.120000e-12  ...             NaN              NaN   \n",
       "4        1.12E-12        1.120000e-12  ...             NaN              NaN   \n",
       "5        1.12E-12        1.120000e-12  ...             NaN              NaN   \n",
       "6        1.49E-12        1.490000e-12  ...             NaN              NaN   \n",
       "7        1.49E-12        1.490000e-12  ...             NaN              NaN   \n",
       "8        1.49E-12        1.490000e-12  ...             NaN              NaN   \n",
       "9        1.49E-12        1.490000e-12  ...             NaN              NaN   \n",
       "\n",
       "  koff_wt_parsed dH_mut (kcal mol^(-1))  dH_wt (kcal mol^(-1))  \\\n",
       "0            NaN                    NaN                    NaN   \n",
       "1            NaN                    NaN                    NaN   \n",
       "2            NaN                    NaN                    NaN   \n",
       "3            NaN                    NaN                    NaN   \n",
       "4            NaN                    NaN                    NaN   \n",
       "5            NaN                    NaN                    NaN   \n",
       "6            NaN                    NaN                    NaN   \n",
       "7            NaN                    NaN                    NaN   \n",
       "8            NaN                    NaN                    NaN   \n",
       "9            NaN                    NaN                    NaN   \n",
       "\n",
       "   dS_mut (cal mol^(-1) K^(-1))  dS_wt (cal mol^(-1) K^(-1))  Notes Method  \\\n",
       "0                           NaN                          NaN    NaN   IASP   \n",
       "1                           NaN                          NaN    NaN   IASP   \n",
       "2                           NaN                          NaN    NaN   IASP   \n",
       "3                           NaN                          NaN    NaN   IASP   \n",
       "4                           NaN                          NaN    NaN   IASP   \n",
       "5                           NaN                          NaN    NaN   IASP   \n",
       "6                           NaN                          NaN    NaN   IASP   \n",
       "7                           NaN                          NaN    NaN   IASP   \n",
       "8                           NaN                          NaN    NaN   IASP   \n",
       "9                           NaN                          NaN    NaN   IASP   \n",
       "\n",
       "   SKEMPI version  \n",
       "0               1  \n",
       "1               1  \n",
       "2               1  \n",
       "3               1  \n",
       "4               1  \n",
       "5               1  \n",
       "6               1  \n",
       "7               1  \n",
       "8               1  \n",
       "9               1  \n",
       "\n",
       "[10 rows x 29 columns]"
      ]
     },
     "execution_count": 4,
     "metadata": {},
     "output_type": "execute_result"
    }
   ],
   "source": [
    "skempi_df = pd.read_csv(skempi_csv_name, sep=\";\")\n",
    "skempi_df.head(10)"
   ]
  },
  {
   "cell_type": "code",
   "execution_count": 5,
   "id": "9f10a19e",
   "metadata": {},
   "outputs": [
    {
     "data": {
      "text/plain": [
       "COR                                        2237\n",
       "RIM                                        1134\n",
       "SUP                                         714\n",
       "SUR                                         629\n",
       "INT                                         398\n",
       "                                           ... \n",
       "RIM,COR,COR,RIM,RIM,COR,RIM,SUR,SUR,SUR       1\n",
       "SUR,RIM,COR,COR,RIM,RIM,SUR,SUR               1\n",
       "RIM,COR,RIM,RIM,SUR,COR,SUR,SUR               1\n",
       "RIM,COR,COR,RIM,INT,COR,RIM,SUR,SUR           1\n",
       "INT,SUP,SUP                                   1\n",
       "Name: iMutation_Location(s), Length: 487, dtype: int64"
      ]
     },
     "execution_count": 5,
     "metadata": {},
     "output_type": "execute_result"
    }
   ],
   "source": [
    "skempi_df[\"iMutation_Location(s)\"].value_counts()"
   ]
  },
  {
   "cell_type": "code",
   "execution_count": 6,
   "id": "7a555822",
   "metadata": {},
   "outputs": [],
   "source": [
    "skempi_df = skempi_df[skempi_df[\"iMutation_Location(s)\"].isin([\"COR\", \"RIM\", \"SUP\"])].copy()"
   ]
  },
  {
   "cell_type": "code",
   "execution_count": 7,
   "id": "b3d7ec30",
   "metadata": {},
   "outputs": [
    {
     "name": "stdout",
     "output_type": "stream",
     "text": [
      "Conformation unique PDB Ids >>> 301\n",
      "Mutation unique PDB Ids >>> 2379\n"
     ]
    }
   ],
   "source": [
    "print(\"Conformation unique PDB Ids >>>\", len(skempi_df[\"#Pdb\"].unique()))\n",
    "print(\"Mutation unique PDB Ids >>>\", len(skempi_df[\"Mutation(s)_PDB\"].unique()))"
   ]
  },
  {
   "cell_type": "code",
   "execution_count": 8,
   "id": "389a4382",
   "metadata": {},
   "outputs": [
    {
     "name": "stdout",
     "output_type": "stream",
     "text": [
      "Number of Unique Proteins >>> 334\n"
     ]
    }
   ],
   "source": [
    "unique_proteins = set(skempi_df[\"Protein 1\"].unique()).union(set(skempi_df[\"Protein 2\"].unique()) )\n",
    "\n",
    "print(\"Number of Unique Proteins >>>\", len(unique_proteins))"
   ]
  },
  {
   "cell_type": "code",
   "execution_count": 9,
   "id": "5d8232f7",
   "metadata": {},
   "outputs": [
    {
     "name": "stdout",
     "output_type": "stream",
     "text": [
      "Antibody Conformation unique PDB Ids >>> 660\n",
      "Conformation unique PDB Ids >>> 46\n",
      "Number of Unique Proteins >>> 57\n"
     ]
    }
   ],
   "source": [
    "ab_skempi = skempi_df[skempi_df[\"Hold_out_type\"] == \"AB/AG\"].copy()\n",
    "print(\"Antibody Conformation unique PDB Ids >>>\", len(ab_skempi))\n",
    "\n",
    "unique_proteins = set(ab_skempi[\"Protein 1\"].unique()).union(set(ab_skempi[\"Protein 2\"].unique()) )\n",
    "\n",
    "print(\"Conformation unique PDB Ids >>>\", len(ab_skempi[\"#Pdb\"].unique()))\n",
    "print(\"Number of Unique Proteins >>>\", len(unique_proteins))"
   ]
  },
  {
   "cell_type": "code",
   "execution_count": 10,
   "id": "72106a2c",
   "metadata": {},
   "outputs": [],
   "source": [
    "skempi_pdb_ids = ab_skempi[\"#Pdb\"].unique().tolist()\n",
    "skempi_pdb_ids = [pdb_id.split(\"_\")[0].lower() for pdb_id in  skempi_pdb_ids ]"
   ]
  },
  {
   "cell_type": "code",
   "execution_count": 11,
   "id": "6712838e",
   "metadata": {},
   "outputs": [],
   "source": [
    "from abag_affinity.utils.config import get_data_paths\n",
    "dataset_v1_path, _ = get_data_paths(config, \"Dataset_v1\")\n",
    "dataset_v1_df = pd.read_csv(dataset_v1_path)\n",
    "data_v1_ids = set(dataset_v1_df[\"pdb\"].unique().tolist())"
   ]
  },
  {
   "cell_type": "code",
   "execution_count": 12,
   "id": "81f2a17d",
   "metadata": {},
   "outputs": [
    {
     "data": {
      "text/plain": [
       "18"
      ]
     },
     "execution_count": 12,
     "metadata": {},
     "output_type": "execute_result"
    }
   ],
   "source": [
    "len(set(skempi_pdb_ids).intersection(data_v1_ids))"
   ]
  },
  {
   "cell_type": "code",
   "execution_count": 13,
   "id": "2ab4e846",
   "metadata": {},
   "outputs": [
    {
     "name": "stdout",
     "output_type": "stream",
     "text": [
      "Antibody Conformation unique PDB Ids >>> 1483\n",
      "Conformation unique PDB Ids >>> 82\n",
      "Number of Unique Proteins >>> 50\n"
     ]
    }
   ],
   "source": [
    "protein_skempi = skempi_df[skempi_df[\"Hold_out_type\"].isin([\"AB/AG\", \"Pr/PI\", \"AB/AG,Pr/PI\"])].copy()\n",
    "\n",
    "protein_skempi[\"pdb\"] = protein_skempi[\"#Pdb\"].apply(lambda x: x.split(\"_\")[0].lower() )\n",
    "protein_skempi = protein_skempi[~protein_skempi[\"pdb\"].isin(data_v1_ids)]\n",
    "\n",
    "print(\"Antibody Conformation unique PDB Ids >>>\", len(protein_skempi))\n",
    "\n",
    "unique_proteins = set(protein_skempi[\"Protein 1\"].unique()).union(set(protein_skempi[\"Protein 2\"].unique()) )\n",
    "\n",
    "print(\"Conformation unique PDB Ids >>>\", len(protein_skempi[\"#Pdb\"].unique()))\n",
    "print(\"Number of Unique Proteins >>>\", len(unique_proteins))"
   ]
  },
  {
   "cell_type": "markdown",
   "id": "ddc0bb3b",
   "metadata": {},
   "source": [
    "### Convert Mutations Codes"
   ]
  },
  {
   "cell_type": "code",
   "execution_count": 14,
   "id": "f235780e",
   "metadata": {},
   "outputs": [],
   "source": [
    "def convert_mutation_code(row):\n",
    "    skempi_code = row[\"Mutation(s)_cleaned\"]\n",
    "    codes = skempi_code.split(\",\")\n",
    "    \n",
    "    new_codes = []\n",
    "    for code in codes:\n",
    "        wt_res = code[0]\n",
    "        chain = code[1]\n",
    "        index = code[2:-1]\n",
    "        mut_res = code[-1]\n",
    "        new_codes.append(f\"{chain}{wt_res}{index}{mut_res}\")\n",
    "        \n",
    "    return \";\".join(new_codes)\n",
    "\n",
    "protein_skempi[\"mutation_code\"] = protein_skempi.apply(lambda row: convert_mutation_code(row), axis=1)"
   ]
  },
  {
   "cell_type": "markdown",
   "id": "38e2bb25",
   "metadata": {},
   "source": [
    "### Analyse change in affinity"
   ]
  },
  {
   "cell_type": "code",
   "execution_count": 15,
   "id": "fbd8697f",
   "metadata": {},
   "outputs": [],
   "source": [
    "protein_skempi[\"affinity_change\"] = protein_skempi[\"Affinity_wt_parsed\"] - protein_skempi[\"Affinity_mut_parsed\"]"
   ]
  },
  {
   "cell_type": "code",
   "execution_count": 16,
   "id": "dbd476ff",
   "metadata": {},
   "outputs": [
    {
     "data": {
      "text/plain": [
       "count    1.463000e+03\n",
       "mean    -4.009477e-06\n",
       "std      1.180609e-04\n",
       "min     -4.499696e-03\n",
       "25%     -1.673530e-08\n",
       "50%     -4.966000e-10\n",
       "75%     -5.320000e-12\n",
       "max      6.670000e-05\n",
       "Name: affinity_change, dtype: float64"
      ]
     },
     "execution_count": 16,
     "metadata": {},
     "output_type": "execute_result"
    }
   ],
   "source": [
    "protein_skempi[\"affinity_change\"].describe()"
   ]
  },
  {
   "cell_type": "code",
   "execution_count": 17,
   "id": "ba5f4ad3",
   "metadata": {},
   "outputs": [
    {
     "data": {
      "text/plain": [
       "<AxesSubplot:>"
      ]
     },
     "execution_count": 17,
     "metadata": {},
     "output_type": "execute_result"
    },
    {
     "data": {
      "image/png": "[encoded data removed]",
      "text/plain": [
       "<Figure size 432x288 with 1 Axes>"
      ]
     },
     "metadata": {
      "needs_background": "light"
     },
     "output_type": "display_data"
    }
   ],
   "source": [
    "import matplotlib.pyplot as plt\n",
    "plt.yscale(\"log\")\n",
    "protein_skempi[\"affinity_change\"].hist(bins=100)"
   ]
  },
  {
   "cell_type": "markdown",
   "id": "b2e35691",
   "metadata": {},
   "source": [
    "### Analysis of affinity values"
   ]
  },
  {
   "cell_type": "code",
   "execution_count": 18,
   "id": "178ef4c1",
   "metadata": {},
   "outputs": [
    {
     "data": {
      "text/plain": [
       "count    1.483000e+03\n",
       "mean     1.026432e-07\n",
       "std      1.942262e-06\n",
       "min      5.000000e-14\n",
       "25%      1.790000e-11\n",
       "50%      3.000000e-11\n",
       "75%      2.380000e-09\n",
       "max      6.670000e-05\n",
       "Name: Affinity_wt_parsed, dtype: float64"
      ]
     },
     "execution_count": 18,
     "metadata": {},
     "output_type": "execute_result"
    }
   ],
   "source": [
    "protein_skempi[\"Affinity_wt_parsed\"].describe()"
   ]
  },
  {
   "cell_type": "code",
   "execution_count": 19,
   "id": "0b91da03",
   "metadata": {},
   "outputs": [
    {
     "data": {
      "text/plain": [
       "<AxesSubplot:>"
      ]
     },
     "execution_count": 19,
     "metadata": {},
     "output_type": "execute_result"
    },
    {
     "data": {
      "image/png": "[encoded data removed]",
      "text/plain": [
       "<Figure size 432x288 with 1 Axes>"
      ]
     },
     "metadata": {
      "needs_background": "light"
     },
     "output_type": "display_data"
    }
   ],
   "source": [
    "plt.yscale(\"log\")\n",
    "protein_skempi[\"Affinity_wt_parsed\"].hist(bins=100)"
   ]
  },
  {
   "cell_type": "markdown",
   "id": "0104ed78",
   "metadata": {},
   "source": [
    "### Convert to delta_g"
   ]
  },
  {
   "cell_type": "code",
   "execution_count": 20,
   "id": "15302ab2",
   "metadata": {},
   "outputs": [],
   "source": [
    "import numpy as np\n",
    "\n",
    "gas_constant =  8.31446261815324 # 0.0821 kcal\n",
    "\n",
    "def calc_delta_g(row, affinity_col):\n",
    "    temperature = row[\"Temperature_cleaned\"]\n",
    "    affinity = row[affinity_col]\n",
    "    delta_g = gas_constant * temperature * np.log(affinity)\n",
    "    return delta_g / 4184 # convert to kcal\n",
    "\n",
    "def clean_temp(value):\n",
    "    value = value.replace(\"(assumed)\", \"\")\n",
    "    try:\n",
    "        return int(value)\n",
    "    except:\n",
    "        return np.nan\n",
    "            "
   ]
  },
  {
   "cell_type": "code",
   "execution_count": 21,
   "id": "ee5523a8",
   "metadata": {},
   "outputs": [],
   "source": [
    "protein_skempi[\"Temperature_cleaned\"] = protein_skempi[\"Temperature\"].apply(lambda val: clean_temp(val))"
   ]
  },
  {
   "cell_type": "code",
   "execution_count": 22,
   "id": "cfdb6083",
   "metadata": {},
   "outputs": [],
   "source": [
    "protein_skempi[\"delta_g_wt\"] = protein_skempi.apply(lambda row: calc_delta_g(row,\"Affinity_wt_parsed\"), axis=1)\n",
    "protein_skempi[\"delta_g_mut\"] = protein_skempi.apply(lambda row: calc_delta_g(row,\"Affinity_mut_parsed\"), axis=1)"
   ]
  },
  {
   "cell_type": "code",
   "execution_count": 23,
   "id": "2f41ef7e",
   "metadata": {},
   "outputs": [
    {
     "data": {
      "text/plain": [
       "count    1483.000000\n",
       "mean      -13.389094\n",
       "std         1.882938\n",
       "min       -17.954176\n",
       "25%       -14.457684\n",
       "50%       -14.167788\n",
       "75%       -11.955852\n",
       "max        -5.636735\n",
       "Name: delta_g_wt, dtype: float64"
      ]
     },
     "execution_count": 23,
     "metadata": {},
     "output_type": "execute_result"
    }
   ],
   "source": [
    "protein_skempi[\"delta_g_wt\"].describe()"
   ]
  },
  {
   "cell_type": "code",
   "execution_count": 24,
   "id": "ce3bdef6",
   "metadata": {},
   "outputs": [
    {
     "data": {
      "text/plain": [
       "<AxesSubplot:>"
      ]
     },
     "execution_count": 24,
     "metadata": {},
     "output_type": "execute_result"
    },
    {
     "data": {
      "image/png": "[encoded data removed]",
      "text/plain": [
       "<Figure size 432x288 with 1 Axes>"
      ]
     },
     "metadata": {
      "needs_background": "light"
     },
     "output_type": "display_data"
    }
   ],
   "source": [
    "protein_skempi[\"delta_g_wt\"].hist(bins=10)"
   ]
  },
  {
   "cell_type": "code",
   "execution_count": 25,
   "id": "77e44b7b",
   "metadata": {},
   "outputs": [
    {
     "data": {
      "text/plain": [
       "count    1463.000000\n",
       "mean      -12.014149\n",
       "std         2.399291\n",
       "min       -18.435456\n",
       "25%       -13.904676\n",
       "50%       -12.164077\n",
       "75%       -10.324714\n",
       "max        -3.221464\n",
       "Name: delta_g_mut, dtype: float64"
      ]
     },
     "execution_count": 25,
     "metadata": {},
     "output_type": "execute_result"
    }
   ],
   "source": [
    "protein_skempi[\"delta_g_mut\"].describe()"
   ]
  },
  {
   "cell_type": "code",
   "execution_count": 26,
   "id": "5d897efe",
   "metadata": {},
   "outputs": [
    {
     "data": {
      "text/plain": [
       "<AxesSubplot:>"
      ]
     },
     "execution_count": 26,
     "metadata": {},
     "output_type": "execute_result"
    },
    {
     "data": {
      "image/png": "[encoded data removed]",
      "text/plain": [
       "<Figure size 432x288 with 1 Axes>"
      ]
     },
     "metadata": {
      "needs_background": "light"
     },
     "output_type": "display_data"
    }
   ],
   "source": [
    "protein_skempi[\"delta_g_mut\"].hist(bins=10)"
   ]
  },
  {
   "cell_type": "code",
   "execution_count": 27,
   "id": "65aa27fb",
   "metadata": {},
   "outputs": [],
   "source": [
    "protein_skempi[\"delta_g_change\"] = protein_skempi[\"delta_g_wt\"] - protein_skempi[\"delta_g_mut\"]"
   ]
  },
  {
   "cell_type": "code",
   "execution_count": 28,
   "id": "c688a292",
   "metadata": {},
   "outputs": [
    {
     "data": {
      "text/plain": [
       "count    1463.000000\n",
       "mean       -1.406448\n",
       "std         2.314636\n",
       "min       -12.222403\n",
       "25%        -2.546768\n",
       "50%        -1.091818\n",
       "75%        -0.102134\n",
       "max        12.222403\n",
       "Name: delta_g_change, dtype: float64"
      ]
     },
     "execution_count": 28,
     "metadata": {},
     "output_type": "execute_result"
    }
   ],
   "source": [
    "protein_skempi[\"delta_g_change\"].describe()"
   ]
  },
  {
   "cell_type": "code",
   "execution_count": 29,
   "id": "29fcf730",
   "metadata": {},
   "outputs": [
    {
     "data": {
      "text/plain": [
       "<AxesSubplot:>"
      ]
     },
     "execution_count": 29,
     "metadata": {},
     "output_type": "execute_result"
    },
    {
     "data": {
      "image/png": "[encoded data removed]",
      "text/plain": [
       "<Figure size 432x288 with 1 Axes>"
      ]
     },
     "metadata": {
      "needs_background": "light"
     },
     "output_type": "display_data"
    }
   ],
   "source": [
    "#plt.yscale(\"log\")\n",
    "protein_skempi[\"delta_g_change\"].hist(bins=100)"
   ]
  },
  {
   "cell_type": "markdown",
   "id": "f6a02628",
   "metadata": {},
   "source": [
    "## Convert to -log(Kd)"
   ]
  },
  {
   "cell_type": "code",
   "execution_count": 30,
   "id": "5dbad44d",
   "metadata": {},
   "outputs": [],
   "source": [
    "protein_skempi[\"-log(Kd)_wt\"] = protein_skempi[\"Affinity_wt_parsed\"].apply(lambda kd: -np.log10(kd))\n",
    "protein_skempi[\"-log(Kd)_mut\"] = protein_skempi[\"Affinity_mut_parsed\"].apply(lambda kd: -np.log10(kd))\n",
    "\n",
    "protein_skempi[\"affinity_change\"] = protein_skempi.apply(lambda row: row[\"Affinity_wt_parsed\"] - row[\"Affinity_mut_parsed\"], axis=1)"
   ]
  },
  {
   "cell_type": "code",
   "execution_count": 31,
   "id": "0647a7b5",
   "metadata": {},
   "outputs": [
    {
     "data": {
      "text/plain": [
       "<AxesSubplot:>"
      ]
     },
     "execution_count": 31,
     "metadata": {},
     "output_type": "execute_result"
    },
    {
     "data": {
      "image/png": "[encoded data removed]",
      "text/plain": [
       "<Figure size 432x288 with 1 Axes>"
      ]
     },
     "metadata": {
      "needs_background": "light"
     },
     "output_type": "display_data"
    }
   ],
   "source": [
    "protein_skempi[\"affinity_change\"].hist(bins=100)"
   ]
  },
  {
   "cell_type": "code",
   "execution_count": 32,
   "id": "fed74b36",
   "metadata": {},
   "outputs": [
    {
     "data": {
      "text/plain": [
       "<AxesSubplot:>"
      ]
     },
     "execution_count": 32,
     "metadata": {},
     "output_type": "execute_result"
    },
    {
     "data": {
      "image/png": "[encoded data removed]",
      "text/plain": [
       "<Figure size 432x288 with 1 Axes>"
      ]
     },
     "metadata": {
      "needs_background": "light"
     },
     "output_type": "display_data"
    }
   ],
   "source": [
    "protein_skempi[\"-log(Kd)_wt\"].hist(bins=10)"
   ]
  },
  {
   "cell_type": "code",
   "execution_count": 33,
   "id": "c2143cdc",
   "metadata": {},
   "outputs": [
    {
     "data": {
      "text/plain": [
       "<AxesSubplot:>"
      ]
     },
     "execution_count": 33,
     "metadata": {},
     "output_type": "execute_result"
    },
    {
     "data": {
      "image/png": "[encoded data removed]",
      "text/plain": [
       "<Figure size 432x288 with 1 Axes>"
      ]
     },
     "metadata": {
      "needs_background": "light"
     },
     "output_type": "display_data"
    }
   ],
   "source": [
    "protein_skempi[\"-log(Kd)_mut\"].hist(bins=10)"
   ]
  },
  {
   "cell_type": "markdown",
   "id": "8197326b",
   "metadata": {},
   "source": [
    "### Add chain infos to summary dataset"
   ]
  },
  {
   "cell_type": "code",
   "execution_count": 34,
   "id": "d4630997",
   "metadata": {},
   "outputs": [],
   "source": [
    "def get_chain_info(row):\n",
    "    _, chain1, chain2 = row[\"#Pdb\"].split(\"_\")\n",
    "    \n",
    "    info = {}\n",
    "    for chain in chain1:\n",
    "        info[chain.lower()] = 0\n",
    "    for chain in chain2:\n",
    "        info[chain.lower()] = 1\n",
    "    return info\n",
    "\n",
    "protein_skempi[\"chain_infos\"] = protein_skempi.apply(get_chain_info, axis=1)"
   ]
  },
  {
   "cell_type": "code",
   "execution_count": 35,
   "id": "bd6682e0",
   "metadata": {},
   "outputs": [],
   "source": [
    "protein_skempi[\"data_location\"] = \"DATA\"\n",
    "protein_skempi[\"filename\"] = protein_skempi.apply(lambda row: os.path.join(row[\"pdb\"].upper(), row[\"Mutation(s)_cleaned\"] + \".pdb\") ,axis=1)"
   ]
  },
  {
   "cell_type": "code",
   "execution_count": 36,
   "id": "a179c694",
   "metadata": {},
   "outputs": [],
   "source": [
    "def get_index(row):\n",
    "    if row[\"mutation_code\"] == \"\":\n",
    "        return row[\"pdb\"]\n",
    "    else:\n",
    "        return row[\"pdb\"] + \"-\" + row[\"Mutation(s)_cleaned\"].lower()\n",
    "\n",
    "protein_skempi[\"index\"] = protein_skempi.apply(get_index, axis=1)"
   ]
  },
  {
   "cell_type": "code",
   "execution_count": 37,
   "id": "0348fd52",
   "metadata": {},
   "outputs": [],
   "source": [
    "clean_skempi = protein_skempi[[\"pdb\", \"data_location\", \"filename\", \"-log(Kd)_mut\", \"chain_infos\", \"mutation_code\", \"index\"]]\n",
    "clean_skempi = clean_skempi.rename({\"-log(Kd)_mut\": \"-log(Kd)\"}, axis=1)"
   ]
  },
  {
   "cell_type": "markdown",
   "id": "66cbc2fb",
   "metadata": {},
   "source": [
    "#### Add wiltype to dataset"
   ]
  },
  {
   "cell_type": "code",
   "execution_count": 38,
   "id": "c31877ef",
   "metadata": {},
   "outputs": [],
   "source": [
    "wildtypes = protein_skempi[\"pdb\"].unique()\n",
    "for pdb in wildtypes:\n",
    "    wt_row = protein_skempi[protein_skempi[\"pdb\"] == pdb].iloc[0]\n",
    "    row = {\n",
    "        \"pdb\": pdb,\n",
    "        \"mutation_code\": \"\",\n",
    "        \"-log(Kd)\": wt_row[\"-log(Kd)_wt\"],\n",
    "        \"chain_infos\": wt_row[\"chain_infos\"],\n",
    "        \"data_location\": \"RESOURCES\",\n",
    "        \"filename\": wt_row[\"pdb\"].upper() + \".pdb\",\n",
    "        \"index\": pdb\n",
    "    }\n",
    "    clean_skempi = clean_skempi.append(row, ignore_index=True)"
   ]
  },
  {
   "cell_type": "code",
   "execution_count": 39,
   "id": "f387f22c",
   "metadata": {},
   "outputs": [
    {
     "data": {
      "text/html": [
       "<div>\n",
       "<style scoped>\n",
       "    .dataframe tbody tr th:only-of-type {\n",
       "        vertical-align: middle;\n",
       "    }\n",
       "\n",
       "    .dataframe tbody tr th {\n",
       "        vertical-align: top;\n",
       "    }\n",
       "\n",
       "    .dataframe thead th {\n",
       "        text-align: right;\n",
       "    }\n",
       "</style>\n",
       "<table border=\"1\" class=\"dataframe\">\n",
       "  <thead>\n",
       "    <tr style=\"text-align: right;\">\n",
       "      <th></th>\n",
       "      <th>pdb</th>\n",
       "      <th>data_location</th>\n",
       "      <th>filename</th>\n",
       "      <th>-log(Kd)</th>\n",
       "      <th>chain_infos</th>\n",
       "      <th>mutation_code</th>\n",
       "    </tr>\n",
       "    <tr>\n",
       "      <th></th>\n",
       "      <th></th>\n",
       "      <th></th>\n",
       "      <th></th>\n",
       "      <th></th>\n",
       "      <th></th>\n",
       "      <th></th>\n",
       "    </tr>\n",
       "  </thead>\n",
       "  <tbody>\n",
       "    <tr>\n",
       "      <th>1cse-li38g</th>\n",
       "      <td>1cse</td>\n",
       "      <td>DATA</td>\n",
       "      <td>1CSE/LI38G.pdb</td>\n",
       "      <td>10.279014</td>\n",
       "      <td>{'e': 0, 'i': 1}</td>\n",
       "      <td>IL38G</td>\n",
       "    </tr>\n",
       "    <tr>\n",
       "      <th>1cse-li38s</th>\n",
       "      <td>1cse</td>\n",
       "      <td>DATA</td>\n",
       "      <td>1CSE/LI38S.pdb</td>\n",
       "      <td>11.079355</td>\n",
       "      <td>{'e': 0, 'i': 1}</td>\n",
       "      <td>IL38S</td>\n",
       "    </tr>\n",
       "    <tr>\n",
       "      <th>1cse-li38p</th>\n",
       "      <td>1cse</td>\n",
       "      <td>DATA</td>\n",
       "      <td>1CSE/LI38P.pdb</td>\n",
       "      <td>6.991400</td>\n",
       "      <td>{'e': 0, 'i': 1}</td>\n",
       "      <td>IL38P</td>\n",
       "    </tr>\n",
       "    <tr>\n",
       "      <th>1cse-li38i</th>\n",
       "      <td>1cse</td>\n",
       "      <td>DATA</td>\n",
       "      <td>1CSE/LI38I.pdb</td>\n",
       "      <td>9.764472</td>\n",
       "      <td>{'e': 0, 'i': 1}</td>\n",
       "      <td>IL38I</td>\n",
       "    </tr>\n",
       "    <tr>\n",
       "      <th>1cse-li38d</th>\n",
       "      <td>1cse</td>\n",
       "      <td>DATA</td>\n",
       "      <td>1CSE/LI38D.pdb</td>\n",
       "      <td>8.716699</td>\n",
       "      <td>{'e': 0, 'i': 1}</td>\n",
       "      <td>IL38D</td>\n",
       "    </tr>\n",
       "    <tr>\n",
       "      <th>...</th>\n",
       "      <td>...</td>\n",
       "      <td>...</td>\n",
       "      <td>...</td>\n",
       "      <td>...</td>\n",
       "      <td>...</td>\n",
       "      <td>...</td>\n",
       "    </tr>\n",
       "    <tr>\n",
       "      <th>4krp</th>\n",
       "      <td>4krp</td>\n",
       "      <td>RESOURCES</td>\n",
       "      <td>4KRP.pdb</td>\n",
       "      <td>6.779892</td>\n",
       "      <td>{'a': 0, 'b': 1}</td>\n",
       "      <td></td>\n",
       "    </tr>\n",
       "    <tr>\n",
       "      <th>5c6t</th>\n",
       "      <td>5c6t</td>\n",
       "      <td>RESOURCES</td>\n",
       "      <td>5C6T.pdb</td>\n",
       "      <td>9.886057</td>\n",
       "      <td>{'h': 0, 'l': 0, 'a': 1}</td>\n",
       "      <td></td>\n",
       "    </tr>\n",
       "    <tr>\n",
       "      <th>3se8</th>\n",
       "      <td>3se8</td>\n",
       "      <td>RESOURCES</td>\n",
       "      <td>3SE8.pdb</td>\n",
       "      <td>7.200659</td>\n",
       "      <td>{'h': 0, 'l': 0, 'g': 1}</td>\n",
       "      <td></td>\n",
       "    </tr>\n",
       "    <tr>\n",
       "      <th>3se9</th>\n",
       "      <td>3se9</td>\n",
       "      <td>RESOURCES</td>\n",
       "      <td>3SE9.pdb</td>\n",
       "      <td>7.602060</td>\n",
       "      <td>{'h': 0, 'l': 0, 'g': 1}</td>\n",
       "      <td></td>\n",
       "    </tr>\n",
       "    <tr>\n",
       "      <th>1yqv</th>\n",
       "      <td>1yqv</td>\n",
       "      <td>RESOURCES</td>\n",
       "      <td>1YQV.pdb</td>\n",
       "      <td>11.429457</td>\n",
       "      <td>{'h': 0, 'l': 0, 'y': 1}</td>\n",
       "      <td></td>\n",
       "    </tr>\n",
       "  </tbody>\n",
       "</table>\n",
       "<p>1565 rows × 6 columns</p>\n",
       "</div>"
      ],
      "text/plain": [
       "             pdb data_location        filename   -log(Kd)  \\\n",
       "                                                            \n",
       "1cse-li38g  1cse          DATA  1CSE/LI38G.pdb  10.279014   \n",
       "1cse-li38s  1cse          DATA  1CSE/LI38S.pdb  11.079355   \n",
       "1cse-li38p  1cse          DATA  1CSE/LI38P.pdb   6.991400   \n",
       "1cse-li38i  1cse          DATA  1CSE/LI38I.pdb   9.764472   \n",
       "1cse-li38d  1cse          DATA  1CSE/LI38D.pdb   8.716699   \n",
       "...          ...           ...             ...        ...   \n",
       "4krp        4krp     RESOURCES        4KRP.pdb   6.779892   \n",
       "5c6t        5c6t     RESOURCES        5C6T.pdb   9.886057   \n",
       "3se8        3se8     RESOURCES        3SE8.pdb   7.200659   \n",
       "3se9        3se9     RESOURCES        3SE9.pdb   7.602060   \n",
       "1yqv        1yqv     RESOURCES        1YQV.pdb  11.429457   \n",
       "\n",
       "                         chain_infos mutation_code  \n",
       "                                                    \n",
       "1cse-li38g          {'e': 0, 'i': 1}         IL38G  \n",
       "1cse-li38s          {'e': 0, 'i': 1}         IL38S  \n",
       "1cse-li38p          {'e': 0, 'i': 1}         IL38P  \n",
       "1cse-li38i          {'e': 0, 'i': 1}         IL38I  \n",
       "1cse-li38d          {'e': 0, 'i': 1}         IL38D  \n",
       "...                              ...           ...  \n",
       "4krp                {'a': 0, 'b': 1}                \n",
       "5c6t        {'h': 0, 'l': 0, 'a': 1}                \n",
       "3se8        {'h': 0, 'l': 0, 'g': 1}                \n",
       "3se9        {'h': 0, 'l': 0, 'g': 1}                \n",
       "1yqv        {'h': 0, 'l': 0, 'y': 1}                \n",
       "\n",
       "[1565 rows x 6 columns]"
      ]
     },
     "execution_count": 39,
     "metadata": {},
     "output_type": "execute_result"
    }
   ],
   "source": [
    "clean_skempi = clean_skempi.set_index(\"index\")\n",
    "clean_skempi.index.name = \"\"\n",
    "clean_skempi"
   ]
  },
  {
   "cell_type": "code",
   "execution_count": 40,
   "id": "acccd600",
   "metadata": {},
   "outputs": [],
   "source": [
    "summary_path, _ = get_data_paths(config, \"SKEMPI.v2\")\n",
    "clean_skempi = clean_skempi[~clean_skempi.index.duplicated(keep='first')]\n",
    "clean_skempi.to_csv(summary_path)"
   ]
  },
  {
   "cell_type": "code",
   "execution_count": null,
   "id": "5ced9af7",
   "metadata": {},
   "outputs": [],
   "source": []
  },
  {
   "cell_type": "code",
   "execution_count": 41,
   "id": "97f8b749",
   "metadata": {},
   "outputs": [
    {
     "data": {
      "text/plain": [
       "count    1408.000000\n",
       "mean        8.907405\n",
       "std         1.822892\n",
       "min         2.346787\n",
       "25%         7.573498\n",
       "50%         9.079355\n",
       "75%        10.341989\n",
       "max        13.657577\n",
       "Name: -log(Kd), dtype: float64"
      ]
     },
     "execution_count": 41,
     "metadata": {},
     "output_type": "execute_result"
    }
   ],
   "source": [
    "clean_skempi[\"-log(Kd)\"].describe()"
   ]
  }
 ],
 "metadata": {
  "kernelspec": {
   "display_name": "Python 3 (ipykernel)",
   "language": "python",
   "name": "python3"
  },
  "language_info": {
   "codemirror_mode": {
    "name": "ipython",
    "version": 3
   },
   "file_extension": ".py",
   "mimetype": "text/x-python",
   "name": "python",
   "nbconvert_exporter": "python",
   "pygments_lexer": "ipython3",
   "version": "3.7.12"
  }
 },
 "nbformat": 4,
 "nbformat_minor": 5
}
