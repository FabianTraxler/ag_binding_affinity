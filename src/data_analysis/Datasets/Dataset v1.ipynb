{
 "cells": [
  {
   "cell_type": "markdown",
   "id": "d79cbc1a",
   "metadata": {},
   "source": [
    "# Dataset Version 1\n",
    "\n",
    "This notebook generates a dataframe containing information about data first version dataset:\n",
    "\n",
    "- Overlap of AbDb data (filtered and enriched abag data) with SAbDab data (affinity values for conformtions) "
   ]
  },
  {
   "cell_type": "code",
   "execution_count": 1,
   "id": "da299287",
   "metadata": {},
   "outputs": [],
   "source": [
    "import os\n",
    "import pandas as pd\n",
    "import warnings\n",
    "from tqdm import tqdm_notebook\n",
    "\n",
    "warnings.filterwarnings(\"ignore\")\n",
    "from abag_affinity.utils.config import read_yaml, get_data_paths, get_resources_paths"
   ]
  },
  {
   "cell_type": "code",
   "execution_count": 2,
   "id": "4f7cee0f",
   "metadata": {},
   "outputs": [],
   "source": [
    "config = read_yaml(\"../../abag_affinity/config.yaml\")\n",
    "\n",
    "summary_path, pdb_path = get_resources_paths(config, \"SAbDab\")\n",
    "summary_df = pd.read_csv(summary_path, sep=\"\\t\")\n",
    "\n",
    "abdb_summary_path, abdb_pdb_path = get_resources_paths(config, \"AbDb\")\n",
    "abdb_pdb_ids = os.listdir(abdb_pdb_path)\n",
    "abdb_pdb_ids = set([ pdb_id.split(\"_\")[0].lower() for pdb_id in abdb_pdb_ids])"
   ]
  },
  {
   "cell_type": "code",
   "execution_count": 3,
   "id": "d0a207df",
   "metadata": {},
   "outputs": [],
   "source": [
    "# get overlap using pdb ids\n",
    "sabdab_pdb_ids = set(summary_df[\"pdb\"].unique())\n",
    "overlapping_ids = abdb_pdb_ids.intersection(sabdab_pdb_ids)"
   ]
  },
  {
   "cell_type": "markdown",
   "id": "867657af",
   "metadata": {},
   "source": [
    "#### Incorporate redundant files"
   ]
  },
  {
   "cell_type": "code",
   "execution_count": 4,
   "id": "c2c9a524",
   "metadata": {},
   "outputs": [],
   "source": [
    "# load information on redundant AbDb files\n",
    "redunant_file_path = os.path.join(config[\"RESOURCES\"][\"path\"], config[\"RESOURCES\"][\"AbDb\"][\"folder_path\"], \"Redundant_LH_Protein_Martin.txt\")\n",
    "with open(redunant_file_path) as f:\n",
    "    lines = f.readlines()\n",
    "    \n",
    "redundant_ids = {}\n",
    "all_ids = set()\n",
    "for line in lines:\n",
    "    pdb_ids = line.split(\",\")\n",
    "    pdb_ids = [pdb_id.strip().lower().split(\"_\")[0] for pdb_id in pdb_ids]\n",
    "    pdb_ids = [pdb_id for pdb_id in pdb_ids if pdb_id.strip() != \"\"]\n",
    "    all_ids.update(pdb_ids)\n",
    "    for i, pdb_id in enumerate(pdb_ids):\n",
    "        redundant_ids[pdb_id] = pdb_ids"
   ]
  },
  {
   "cell_type": "code",
   "execution_count": 5,
   "id": "fead2152",
   "metadata": {},
   "outputs": [],
   "source": [
    "for pdb_id in overlapping_ids:\n",
    "    for redundant_id in redundant_ids[pdb_id]:\n",
    "        all_ids.discard(redundant_id)"
   ]
  },
  {
   "cell_type": "code",
   "execution_count": 6,
   "id": "e8536d3a",
   "metadata": {},
   "outputs": [],
   "source": [
    "add_pdbs = set()\n",
    "\n",
    "remaining_in_sabdab = all_ids.intersection(sabdab_pdb_ids)\n",
    "while len(remaining_in_sabdab) > 0:\n",
    "    pdb_id = remaining_in_sabdab.pop()\n",
    "    add_pdbs.add(pdb_id)\n",
    "    for redundant_id in redundant_ids[pdb_id]:\n",
    "        remaining_in_sabdab.discard(redundant_id)"
   ]
  },
  {
   "cell_type": "code",
   "execution_count": 7,
   "id": "1c9115aa",
   "metadata": {},
   "outputs": [
    {
     "data": {
      "text/plain": [
       "set()"
      ]
     },
     "execution_count": 7,
     "metadata": {},
     "output_type": "execute_result"
    }
   ],
   "source": [
    "all_ids.intersection(sabdab_pdb_ids)"
   ]
  },
  {
   "cell_type": "code",
   "execution_count": 8,
   "id": "9b30bdac",
   "metadata": {},
   "outputs": [],
   "source": [
    "# download extra pdb files from AbDb database\n",
    "import urllib.request \n",
    "\n",
    "url = \"http://www.abybank.org/abdb/Data/LH_Protein_Martin/{}_1.pdb\"\n",
    "\n",
    "for pdb_id in add_pdbs:\n",
    "    pdb_id = pdb_id.upper()\n",
    "    filepath = os.path.join(abdb_pdb_path, pdb_id + \"_1.pdb\")\n",
    "    if os.path.exists(filepath):\n",
    "        print(pdb, \"already exists\")\n",
    "        continue\n",
    "    try:\n",
    "        urllib.request.urlretrieve(url.format(pdb_id), filepath)\n",
    "    except:\n",
    "        print(pdb_id)\n",
    "    print(\"Downloaded\", pdb_id)"
   ]
  },
  {
   "cell_type": "code",
   "execution_count": 9,
   "id": "3abfde58",
   "metadata": {},
   "outputs": [],
   "source": [
    "overlapping_ids.update(add_pdbs)"
   ]
  },
  {
   "cell_type": "code",
   "execution_count": 10,
   "id": "f7cc6941",
   "metadata": {},
   "outputs": [],
   "source": [
    "dataset = summary_df[summary_df[\"pdb\"].isin(overlapping_ids)].copy()"
   ]
  },
  {
   "cell_type": "code",
   "execution_count": 11,
   "id": "cb98e37b",
   "metadata": {},
   "outputs": [],
   "source": [
    "import math\n",
    "def get_chains(row):\n",
    "    pdb_id = row[\"pdb\"]\n",
    "    pdb_id_rows = dataset[dataset[\"pdb\"] == pdb_id]\n",
    "    \n",
    "    antibody_chains = []\n",
    "    antigen_chains = []\n",
    "    \n",
    "    for i, pdb_row in pdb_id_rows.iterrows():\n",
    "        antibody_chains.append(pdb_row[\"Hchain\"])\n",
    "        antibody_chains.append(pdb_row[\"Lchain\"])\n",
    "        \n",
    "        if isinstance(pdb_row[\"antigen_chain\"], str):\n",
    "            if \"|\" in pdb_row[\"antigen_chain\"]:\n",
    "                for chain_id in pdb_row[\"antigen_chain\"].split(\"|\"):\n",
    "                    antigen_chains.append(chain_id.strip())\n",
    "\n",
    "            else:\n",
    "                antigen_chains.append(pdb_row[\"antigen_chain\"])\n",
    "    \n",
    "    return antibody_chains, antigen_chains"
   ]
  },
  {
   "cell_type": "code",
   "execution_count": 12,
   "id": "c667f86e",
   "metadata": {},
   "outputs": [],
   "source": [
    "dataset[\"antibody_chains\"], dataset[\"antigen_chains\"] = zip(*dataset.apply(lambda row: get_chains(row), axis=1))"
   ]
  },
  {
   "cell_type": "code",
   "execution_count": 13,
   "id": "a97e7dca",
   "metadata": {},
   "outputs": [],
   "source": [
    "import numpy as np\n",
    "gas_constant =  8.31446261815324 # 0.0821\n",
    "\n",
    "def calc_temp(row):\n",
    "    kd = row[\"affinity\"]\n",
    "    delta_g = row[\"delta_g\"] * 4184 # convert kcal to joule \n",
    "    if kd == 0 or math.isnan(kd) or math.isnan(delta_g):\n",
    "        return None\n",
    "\n",
    "    return round((delta_g / (gas_constant * np.log(kd))) - 273.15) # convert kelvin to celsius\n",
    "\n",
    "def calc_delta_g(row):\n",
    "    delta_g = gas_constant * row[\"temperature_kelvin\"] * np.log(row[\"affinity\"])\n",
    "    return delta_g / 4184 # convert to kcal"
   ]
  },
  {
   "cell_type": "code",
   "execution_count": 14,
   "id": "4e4420e5",
   "metadata": {},
   "outputs": [],
   "source": [
    "dataset[\"calculated_temp\"] = dataset.apply(lambda row: calc_temp(row), axis=1)\n",
    "dataset = dataset[~dataset[\"calculated_temp\"].isnull()]"
   ]
  },
  {
   "cell_type": "code",
   "execution_count": 15,
   "id": "e98c9911",
   "metadata": {},
   "outputs": [],
   "source": [
    "# calc -log(Kd)\n",
    "\n",
    "dataset[\"-log(Kd)\"] = dataset.apply(lambda row: -np.log10(row[\"affinity\"]), axis=1)"
   ]
  },
  {
   "cell_type": "code",
   "execution_count": 16,
   "id": "5a818d9a",
   "metadata": {},
   "outputs": [],
   "source": [
    "# add pdb file name from AbDb\n",
    "\n",
    "abdb_pdb_path = os.path.join(config[\"RESOURCES\"][\"path\"], config[\"RESOURCES\"][\"AbDb\"][\"folder_path\"], config[\"RESOURCES\"][\"AbDb\"][\"pdb_path\"])\n",
    "\n",
    "pdb_files = os.listdir(abdb_pdb_path)\n",
    "\n",
    "id2file = {file.split(\"_\")[0].lower(): file for file in pdb_files}"
   ]
  },
  {
   "cell_type": "code",
   "execution_count": 17,
   "id": "44e133e1",
   "metadata": {},
   "outputs": [],
   "source": [
    "dataset[\"abdb_file\"] = dataset[\"pdb\"].apply(lambda pdb_id: id2file[pdb_id])"
   ]
  },
  {
   "cell_type": "code",
   "execution_count": 18,
   "id": "934e21d0",
   "metadata": {},
   "outputs": [],
   "source": [
    "# clean dataset\n",
    "dataset.drop_duplicates(\"pdb\", inplace=True)\n",
    "dataset = dataset.reset_index().drop(\"index\", axis=1)\n",
    "dataset = dataset[[\"pdb\", \"abdb_file\", \"antigen_type\", \"antibody_chains\", \"antigen_chains\", 'affinity_method', 'temperature', \"calculated_temp\", 'affinity', 'delta_g', '-log(Kd)' ]]"
   ]
  },
  {
   "cell_type": "markdown",
   "id": "a85f8360",
   "metadata": {},
   "source": [
    "### Mark testset and delete redundant files\n",
    "\n",
    "Use Antibody Benchmark as the final testset --> Remove redundant files."
   ]
  },
  {
   "cell_type": "code",
   "execution_count": 19,
   "id": "fb5317b7",
   "metadata": {},
   "outputs": [],
   "source": [
    "dataset[\"test\"] = False"
   ]
  },
  {
   "cell_type": "code",
   "execution_count": 20,
   "id": "a2f8f01b",
   "metadata": {},
   "outputs": [
    {
     "name": "stdout",
     "output_type": "stream",
     "text": [
      "Numer of available benchmark structures >>> 53\n"
     ]
    }
   ],
   "source": [
    "benchmark_summary_path, benchmark_pdb_path = get_resources_paths(config, \"AntibodyBenchmark\")\n",
    "benchmark_summary_df = pd.read_excel(benchmark_summary_path)\n",
    "benchmark_summary_df = benchmark_summary_df.replace(\" \", None)\n",
    "benchmark_summary_df = benchmark_summary_df[benchmark_summary_df[\"ΔG (kcal/mol)\"].notnull() & benchmark_summary_df[\"Kd (nM)\"].notnull()]\n",
    "benchmark_summary_df.reset_index(inplace=True)\n",
    "benchmark_summary_df.drop(\"index\", axis=1)\n",
    "print(\"Numer of available benchmark structures >>>\", len(benchmark_summary_df))"
   ]
  },
  {
   "cell_type": "code",
   "execution_count": 21,
   "id": "d2708b86",
   "metadata": {},
   "outputs": [
    {
     "name": "stdout",
     "output_type": "stream",
     "text": [
      "Number of identical PDB of dataset and benchmark_pdb_ids 24\n"
     ]
    }
   ],
   "source": [
    "benchmark_pdb_ids = set([ pdb_id.split(\"_\")[0].lower() for pdb_id in benchmark_summary_df[\"Complex PDB\"].unique() ])\n",
    "overlapping_ids = benchmark_pdb_ids.intersection(set(dataset[\"pdb\"].unique()))\n",
    "print(\"Number of identical PDB of dataset and benchmark_pdb_ids\", len(overlapping_ids))"
   ]
  },
  {
   "cell_type": "code",
   "execution_count": 22,
   "id": "732d74f1",
   "metadata": {},
   "outputs": [],
   "source": [
    "# Set these strucutres as testset strucutres in the dataset\n",
    "dataset[\"test\"] = dataset[\"pdb\"].apply(lambda pdb_id: pdb_id in benchmark_pdb_ids)"
   ]
  },
  {
   "cell_type": "code",
   "execution_count": 23,
   "id": "9b685eee",
   "metadata": {},
   "outputs": [
    {
     "name": "stdout",
     "output_type": "stream",
     "text": [
      "Remaining Benchmark Entries 29\n"
     ]
    }
   ],
   "source": [
    "benchmark_summary_df[\"pdb\"] = benchmark_summary_df[\"Complex PDB\"].apply(lambda pdb_id: pdb_id.split(\"_\")[0].lower() )\n",
    "remaining_benchmark = benchmark_summary_df[~benchmark_summary_df[\"pdb\"].isin(overlapping_ids)].copy()\n",
    "print(\"Remaining Benchmark Entries\", len(remaining_benchmark))"
   ]
  },
  {
   "cell_type": "code",
   "execution_count": 24,
   "id": "8fe23174",
   "metadata": {},
   "outputs": [
    {
     "name": "stdout",
     "output_type": "stream",
     "text": [
      "Number of found PDB benchmark_pdb_ids in redundant list >>> 11\n",
      "Number of found pdb_ids in that are also in dataset v1 >>> 0\n",
      "Number of found pdb_ids in that are also in SAbDab >>> 0\n",
      "Number of found pdb_ids in that are also in AbDb >>> 10\n",
      "Number of found pdb_ids in that are also in AbDb and SAbDab >>> 0\n",
      "Number of found pdb_ids in neither in AbDb and SAbDab >>> 1\n"
     ]
    }
   ],
   "source": [
    "benchmark_pdb_ids = set(remaining_benchmark[\"pdb\"].unique())\n",
    "overlapping_ids = benchmark_pdb_ids.intersection(all_ids)\n",
    "print(\"Number of found PDB benchmark_pdb_ids in redundant list >>>\", len(overlapping_ids))\n",
    "print(\"Number of found pdb_ids in that are also in dataset v1 >>>\", len(overlapping_ids.intersection(set(dataset[\"pdb\"].unique()))))\n",
    "print(\"Number of found pdb_ids in that are also in SAbDab >>>\", len(overlapping_ids.intersection(sabdab_pdb_ids)))\n",
    "print(\"Number of found pdb_ids in that are also in AbDb >>>\", len(overlapping_ids.intersection(abdb_pdb_ids)))\n",
    "print(\"Number of found pdb_ids in that are also in AbDb and SAbDab >>>\", len(overlapping_ids.intersection(abdb_pdb_ids).intersection(sabdab_pdb_ids)))\n",
    "print(\"Number of found pdb_ids in neither in AbDb and SAbDab >>>\", len(overlapping_ids - overlapping_ids.intersection(abdb_pdb_ids).union(overlapping_ids.intersection((sabdab_pdb_ids)))))"
   ]
  },
  {
   "cell_type": "markdown",
   "id": "0fe612c5",
   "metadata": {},
   "source": [
    "#### Add additional strucutures from AbDb\n",
    "Add the 10 Strucutures that are also present in AbDb and use the affinity value of the benchmark dataset"
   ]
  },
  {
   "cell_type": "code",
   "execution_count": 25,
   "id": "1a2d4782",
   "metadata": {},
   "outputs": [
    {
     "name": "stdout",
     "output_type": "stream",
     "text": [
      "10 Rows added\n"
     ]
    }
   ],
   "source": [
    "from abag_affinity.utils.pdb_reader import read_file\n",
    "\n",
    "ii = 0\n",
    "for i, row in remaining_benchmark[remaining_benchmark[\"pdb\"].isin(overlapping_ids.intersection(abdb_pdb_ids))].iterrows():\n",
    "    ii += 1\n",
    "    file_path = os.path.join(abdb_pdb_path, id2file[row[\"pdb\"]])\n",
    "    structure, _ = read_file(row[\"pdb\"], file_path)\n",
    "    chains = structure.get_chains()\n",
    "    chains = set([ chain.id for chain in chains ])\n",
    "    no_ab_chain = list(chains - set([\"H\", \"L\"]))\n",
    "    \n",
    "    \n",
    "    new_entry = {\n",
    "        \"pdb\": row[\"pdb\"],\n",
    "        \"abdb_file\": id2file[row[\"pdb\"]],\n",
    "        \"antigen_type\": \"protein\",\n",
    "        \"antibody_chains\": [\"L\", \"H\"],\n",
    "        \"antigen_chains\": no_ab_chain,\n",
    "        \"affinity_method\": \"-\",\n",
    "        \"temperature\": np.nan,\n",
    "        \"calculated_temp\": calc_temp({\"affinity\": row[\"Kd (nM)\"] * 1e-9, \"delta_g\": row[\"ΔG (kcal/mol)\"]}),\n",
    "        \"affinity\": row[\"Kd (nM)\"] * 1e-9,\n",
    "        \"delta_g\":  row[\"ΔG (kcal/mol)\"],\n",
    "        \"test\": True\n",
    "    }\n",
    "    dataset = dataset.append(new_entry, ignore_index=True)\n",
    "    \n",
    "print(ii, \"Rows added\")"
   ]
  },
  {
   "cell_type": "markdown",
   "id": "d1157f7e",
   "metadata": {},
   "source": [
    "#### Find data that is in SAbDab and Benchmark but not in dataset_v1"
   ]
  },
  {
   "cell_type": "code",
   "execution_count": 26,
   "id": "f65883e5",
   "metadata": {},
   "outputs": [
    {
     "data": {
      "text/plain": [
       "{'3rvw', '4gxu', '4pou', '5grj', '5hgg', '5kov', '5sv3'}"
      ]
     },
     "execution_count": 26,
     "metadata": {},
     "output_type": "execute_result"
    }
   ],
   "source": [
    "benchmark_pdb_ids = set([ pdb_id.split(\"_\")[0].lower() for pdb_id in benchmark_summary_df[\"Complex PDB\"].unique() ])\n",
    "missing = benchmark_pdb_ids - set(dataset[\"pdb\"].unique())\n",
    "\n",
    "missing_but_sabdab = missing.intersection(sabdab_pdb_ids)\n",
    "missing_but_sabdab"
   ]
  },
  {
   "cell_type": "code",
   "execution_count": 27,
   "id": "5b78c3da",
   "metadata": {},
   "outputs": [
    {
     "data": {
      "text/plain": [
       "set()"
      ]
     },
     "execution_count": 27,
     "metadata": {},
     "output_type": "execute_result"
    }
   ],
   "source": [
    "missing_sabdab_and_redundant = missing_but_sabdab.intersection(all_ids)\n",
    "missing_sabdab_and_redundant"
   ]
  },
  {
   "cell_type": "markdown",
   "id": "5b25dd2a",
   "metadata": {},
   "source": [
    "Seems like there are 6 cases that are not present in the overlap between AbDb and SAbDab but have affinity values in the benchmark dataset."
   ]
  },
  {
   "cell_type": "code",
   "execution_count": 28,
   "id": "0eaa23fa",
   "metadata": {},
   "outputs": [
    {
     "name": "stdout",
     "output_type": "stream",
     "text": [
      "There are still 19 cases not in dataset_v1\n"
     ]
    }
   ],
   "source": [
    "benchmark_pdb_ids = set([ pdb_id.split(\"_\")[0].lower() for pdb_id in benchmark_summary_df[\"Complex PDB\"].unique() ])\n",
    "overlapping_ids = benchmark_pdb_ids.intersection(set(dataset[\"pdb\"].unique()))\n",
    "print(\"There are still {} cases not in dataset_v1\".format(len(benchmark_summary_df) - len(overlapping_ids)))"
   ]
  },
  {
   "cell_type": "code",
   "execution_count": 29,
   "id": "dca083d6",
   "metadata": {},
   "outputs": [
    {
     "name": "stdout",
     "output_type": "stream",
     "text": [
      "Remaining Benchmark Entries 19\n"
     ]
    }
   ],
   "source": [
    "remaining_benchmark = remaining_benchmark[~remaining_benchmark[\"pdb\"].isin(overlapping_ids)]\n",
    "print(\"Remaining Benchmark Entries\", len(remaining_benchmark.isin(overlapping_ids)))"
   ]
  },
  {
   "cell_type": "code",
   "execution_count": 30,
   "id": "6aee739f",
   "metadata": {},
   "outputs": [
    {
     "name": "stdout",
     "output_type": "stream",
     "text": [
      "There are in total 34 complexes in the testset that are taken from the benchmark dataset\n"
     ]
    }
   ],
   "source": [
    "print(\"There are in total {} complexes in the testset that are taken from the benchmark dataset\".format(dataset[\"test\"].sum()))"
   ]
  },
  {
   "cell_type": "markdown",
   "id": "ef1e21c3",
   "metadata": {},
   "source": [
    "### Validation Splits\n",
    "\n",
    "Split the train data randomly in 3 parts that can each be used for validation during model training and for hyperparameter tuning."
   ]
  },
  {
   "cell_type": "code",
   "execution_count": 31,
   "id": "a04ca8a2",
   "metadata": {},
   "outputs": [],
   "source": [
    "dataset[\"validation\"] = 0\n",
    "dataset = dataset.sort_values(by=\"test\")\n",
    "dataset.reset_index(inplace=True)"
   ]
  },
  {
   "cell_type": "code",
   "execution_count": 32,
   "id": "0309044f",
   "metadata": {},
   "outputs": [
    {
     "name": "stdout",
     "output_type": "stream",
     "text": [
      "There are in total 379 complexes in available for training\n"
     ]
    }
   ],
   "source": [
    "total_train_data = len(dataset[dataset[\"test\"] == False])\n",
    "print(\"There are in total {} complexes in available for training\".format(total_train_data))"
   ]
  },
  {
   "cell_type": "code",
   "execution_count": 33,
   "id": "e875d802",
   "metadata": {},
   "outputs": [],
   "source": [
    "np.random.seed(123)\n",
    "indices = np.arange(total_train_data)\n",
    "np.random.shuffle(indices)\n",
    "val_indices = np.split(indices, [124, 248])"
   ]
  },
  {
   "cell_type": "code",
   "execution_count": 34,
   "id": "574eae79",
   "metadata": {},
   "outputs": [],
   "source": [
    "for i, val_idx in enumerate(val_indices):\n",
    "    i += 1\n",
    "    dataset.loc[val_idx, \"validation\"] = i"
   ]
  },
  {
   "cell_type": "code",
   "execution_count": 35,
   "id": "7f47d42a",
   "metadata": {},
   "outputs": [
    {
     "data": {
      "text/html": [
       "<div>\n",
       "<style scoped>\n",
       "    .dataframe tbody tr th:only-of-type {\n",
       "        vertical-align: middle;\n",
       "    }\n",
       "\n",
       "    .dataframe tbody tr th {\n",
       "        vertical-align: top;\n",
       "    }\n",
       "\n",
       "    .dataframe thead th {\n",
       "        text-align: right;\n",
       "    }\n",
       "</style>\n",
       "<table border=\"1\" class=\"dataframe\">\n",
       "  <thead>\n",
       "    <tr style=\"text-align: right;\">\n",
       "      <th></th>\n",
       "      <th>index</th>\n",
       "      <th>pdb</th>\n",
       "      <th>abdb_file</th>\n",
       "      <th>antigen_type</th>\n",
       "      <th>antibody_chains</th>\n",
       "      <th>antigen_chains</th>\n",
       "      <th>affinity_method</th>\n",
       "      <th>temperature</th>\n",
       "      <th>calculated_temp</th>\n",
       "      <th>affinity</th>\n",
       "      <th>delta_g</th>\n",
       "      <th>-log(Kd)</th>\n",
       "      <th>test</th>\n",
       "      <th>validation</th>\n",
       "    </tr>\n",
       "  </thead>\n",
       "  <tbody>\n",
       "    <tr>\n",
       "      <th>0</th>\n",
       "      <td>0</td>\n",
       "      <td>2r56</td>\n",
       "      <td>2R56_1.pdb</td>\n",
       "      <td>protein</td>\n",
       "      <td>[I, M, H, L]</td>\n",
       "      <td>[B, A]</td>\n",
       "      <td>SPR</td>\n",
       "      <td>NaN</td>\n",
       "      <td>25.0</td>\n",
       "      <td>1.300000e-09</td>\n",
       "      <td>-12.120000</td>\n",
       "      <td>8.886057</td>\n",
       "      <td>False</td>\n",
       "      <td>1</td>\n",
       "    </tr>\n",
       "    <tr>\n",
       "      <th>1</th>\n",
       "      <td>270</td>\n",
       "      <td>3l5x</td>\n",
       "      <td>3L5X_1.pdb</td>\n",
       "      <td>protein</td>\n",
       "      <td>[H, L]</td>\n",
       "      <td>[A]</td>\n",
       "      <td>SPR</td>\n",
       "      <td>25</td>\n",
       "      <td>25.0</td>\n",
       "      <td>2.690000e-10</td>\n",
       "      <td>-13.050000</td>\n",
       "      <td>9.570248</td>\n",
       "      <td>False</td>\n",
       "      <td>3</td>\n",
       "    </tr>\n",
       "    <tr>\n",
       "      <th>2</th>\n",
       "      <td>269</td>\n",
       "      <td>3sdy</td>\n",
       "      <td>3SDY_1.pdb</td>\n",
       "      <td>protein | protein</td>\n",
       "      <td>[H, L]</td>\n",
       "      <td>[B, A]</td>\n",
       "      <td>Other</td>\n",
       "      <td>30</td>\n",
       "      <td>30.0</td>\n",
       "      <td>1.000000e-09</td>\n",
       "      <td>-12.480000</td>\n",
       "      <td>9.000000</td>\n",
       "      <td>False</td>\n",
       "      <td>3</td>\n",
       "    </tr>\n",
       "    <tr>\n",
       "      <th>3</th>\n",
       "      <td>268</td>\n",
       "      <td>5i5k</td>\n",
       "      <td>5I5K_1.pdb</td>\n",
       "      <td>protein</td>\n",
       "      <td>[X, Y, H, L]</td>\n",
       "      <td>[A, B]</td>\n",
       "      <td>SPR</td>\n",
       "      <td>NaN</td>\n",
       "      <td>25.0</td>\n",
       "      <td>1.760000e-11</td>\n",
       "      <td>-14.671746</td>\n",
       "      <td>10.754487</td>\n",
       "      <td>False</td>\n",
       "      <td>3</td>\n",
       "    </tr>\n",
       "    <tr>\n",
       "      <th>4</th>\n",
       "      <td>267</td>\n",
       "      <td>3kr3</td>\n",
       "      <td>3KR3_1.pdb</td>\n",
       "      <td>protein</td>\n",
       "      <td>[H, L]</td>\n",
       "      <td>[D]</td>\n",
       "      <td>SPR</td>\n",
       "      <td>25</td>\n",
       "      <td>25.0</td>\n",
       "      <td>4.900000e-11</td>\n",
       "      <td>-14.060000</td>\n",
       "      <td>10.309804</td>\n",
       "      <td>False</td>\n",
       "      <td>2</td>\n",
       "    </tr>\n",
       "  </tbody>\n",
       "</table>\n",
       "</div>"
      ],
      "text/plain": [
       "   index   pdb   abdb_file       antigen_type antibody_chains antigen_chains  \\\n",
       "0      0  2r56  2R56_1.pdb            protein    [I, M, H, L]         [B, A]   \n",
       "1    270  3l5x  3L5X_1.pdb            protein          [H, L]            [A]   \n",
       "2    269  3sdy  3SDY_1.pdb  protein | protein          [H, L]         [B, A]   \n",
       "3    268  5i5k  5I5K_1.pdb            protein    [X, Y, H, L]         [A, B]   \n",
       "4    267  3kr3  3KR3_1.pdb            protein          [H, L]            [D]   \n",
       "\n",
       "  affinity_method temperature  calculated_temp      affinity    delta_g  \\\n",
       "0             SPR         NaN             25.0  1.300000e-09 -12.120000   \n",
       "1             SPR          25             25.0  2.690000e-10 -13.050000   \n",
       "2           Other          30             30.0  1.000000e-09 -12.480000   \n",
       "3             SPR         NaN             25.0  1.760000e-11 -14.671746   \n",
       "4             SPR          25             25.0  4.900000e-11 -14.060000   \n",
       "\n",
       "    -log(Kd)   test  validation  \n",
       "0   8.886057  False           1  \n",
       "1   9.570248  False           3  \n",
       "2   9.000000  False           3  \n",
       "3  10.754487  False           3  \n",
       "4  10.309804  False           2  "
      ]
     },
     "execution_count": 35,
     "metadata": {},
     "output_type": "execute_result"
    }
   ],
   "source": [
    "dataset.head()"
   ]
  },
  {
   "cell_type": "code",
   "execution_count": 36,
   "id": "ffb04e89",
   "metadata": {},
   "outputs": [],
   "source": [
    "dataset.to_csv(os.path.join(config[\"DATA\"][\"path\"], config[\"DATA\"][\"Dataset_v1\"][\"folder_path\"], config[\"DATA\"][\"Dataset_v1\"][\"summary\"]), index=False)"
   ]
  },
  {
   "cell_type": "markdown",
   "id": "8f65786a",
   "metadata": {},
   "source": [
    "### Delta G analysis"
   ]
  },
  {
   "cell_type": "code",
   "execution_count": 37,
   "id": "87bcecd1",
   "metadata": {},
   "outputs": [
    {
     "data": {
      "text/plain": [
       "count    413.000000\n",
       "mean     -11.454725\n",
       "std        2.016457\n",
       "min      -16.913816\n",
       "25%      -12.700845\n",
       "50%      -11.366355\n",
       "75%      -10.188886\n",
       "max       -5.040000\n",
       "Name: delta_g, dtype: float64"
      ]
     },
     "execution_count": 37,
     "metadata": {},
     "output_type": "execute_result"
    }
   ],
   "source": [
    "dataset[\"delta_g\"].describe()"
   ]
  },
  {
   "cell_type": "code",
   "execution_count": 38,
   "id": "53c88ae5",
   "metadata": {},
   "outputs": [
    {
     "data": {
      "text/plain": [
       "<AxesSubplot:>"
      ]
     },
     "execution_count": 38,
     "metadata": {},
     "output_type": "execute_result"
    },
    {
     "data": {
      "image/png": "[encoded data removed]",
      "text/plain": [
       "<Figure size 432x288 with 1 Axes>"
      ]
     },
     "metadata": {
      "needs_background": "light"
     },
     "output_type": "display_data"
    }
   ],
   "source": [
    "dataset[\"delta_g\"].hist(bins=50)"
   ]
  },
  {
   "cell_type": "code",
   "execution_count": 39,
   "id": "ae783520",
   "metadata": {},
   "outputs": [
    {
     "data": {
      "text/plain": [
       "array([[<AxesSubplot:title={'center':'0'}>,\n",
       "        <AxesSubplot:title={'center':'1'}>],\n",
       "       [<AxesSubplot:title={'center':'2'}>,\n",
       "        <AxesSubplot:title={'center':'3'}>]], dtype=object)"
      ]
     },
     "execution_count": 39,
     "metadata": {},
     "output_type": "execute_result"
    },
    {
     "data": {
      "image/png": "[encoded data removed]",
      "text/plain": [
       "<Figure size 432x288 with 4 Axes>"
      ]
     },
     "metadata": {
      "needs_background": "light"
     },
     "output_type": "display_data"
    }
   ],
   "source": [
    "dataset[\"delta_g\"].hist(bins=10,by=dataset[\"validation\"])"
   ]
  },
  {
   "cell_type": "code",
   "execution_count": 40,
   "id": "3fbcba54",
   "metadata": {},
   "outputs": [
    {
     "data": {
      "text/plain": [
       "count    4.130000e+02\n",
       "mean     1.180977e-06\n",
       "std      1.278583e-05\n",
       "min      4.000000e-13\n",
       "25%      4.900000e-10\n",
       "50%      5.000000e-09\n",
       "75%      3.350000e-08\n",
       "max      2.000000e-04\n",
       "Name: affinity, dtype: float64"
      ]
     },
     "execution_count": 40,
     "metadata": {},
     "output_type": "execute_result"
    }
   ],
   "source": [
    "dataset[\"affinity\"].describe()"
   ]
  },
  {
   "cell_type": "code",
   "execution_count": 41,
   "id": "992c81c8",
   "metadata": {},
   "outputs": [
    {
     "data": {
      "text/plain": [
       "<AxesSubplot:>"
      ]
     },
     "execution_count": 41,
     "metadata": {},
     "output_type": "execute_result"
    },
    {
     "data": {
      "image/png": "[encoded data removed]",
      "text/plain": [
       "<Figure size 432x288 with 1 Axes>"
      ]
     },
     "metadata": {
      "needs_background": "light"
     },
     "output_type": "display_data"
    }
   ],
   "source": [
    "import matplotlib.pyplot as plt\n",
    "plt.yscale(\"log\")\n",
    "dataset[\"affinity\"].hist(bins=10)"
   ]
  },
  {
   "cell_type": "markdown",
   "id": "fb222477",
   "metadata": {},
   "source": [
    "## -log(Kg) Analyis"
   ]
  },
  {
   "cell_type": "code",
   "execution_count": 42,
   "id": "72a697c1",
   "metadata": {},
   "outputs": [
    {
     "data": {
      "text/plain": [
       "count    403.000000\n",
       "mean       8.384781\n",
       "std        1.469752\n",
       "min        3.698970\n",
       "25%        7.501744\n",
       "50%        8.301030\n",
       "75%        9.301030\n",
       "max       12.397940\n",
       "Name: -log(Kd), dtype: float64"
      ]
     },
     "execution_count": 42,
     "metadata": {},
     "output_type": "execute_result"
    }
   ],
   "source": [
    "dataset[\"-log(Kd)\"].describe()"
   ]
  },
  {
   "cell_type": "code",
   "execution_count": 43,
   "id": "c4a6cdb1",
   "metadata": {},
   "outputs": [
    {
     "data": {
      "text/plain": [
       "<AxesSubplot:>"
      ]
     },
     "execution_count": 43,
     "metadata": {},
     "output_type": "execute_result"
    },
    {
     "data": {
      "image/png": "[encoded data removed]",
      "text/plain": [
       "<Figure size 432x288 with 1 Axes>"
      ]
     },
     "metadata": {
      "needs_background": "light"
     },
     "output_type": "display_data"
    }
   ],
   "source": [
    "dataset[\"-log(Kd)\"].hist(bins=50)"
   ]
  },
  {
   "cell_type": "code",
   "execution_count": 44,
   "id": "1607006d",
   "metadata": {},
   "outputs": [
    {
     "data": {
      "text/plain": [
       "array([[<AxesSubplot:title={'center':'0'}>,\n",
       "        <AxesSubplot:title={'center':'1'}>],\n",
       "       [<AxesSubplot:title={'center':'2'}>,\n",
       "        <AxesSubplot:title={'center':'3'}>]], dtype=object)"
      ]
     },
     "execution_count": 44,
     "metadata": {},
     "output_type": "execute_result"
    },
    {
     "data": {
      "image/png": "[encoded data removed]",
      "text/plain": [
       "<Figure size 432x288 with 4 Axes>"
      ]
     },
     "metadata": {
      "needs_background": "light"
     },
     "output_type": "display_data"
    }
   ],
   "source": [
    "dataset[\"-log(Kd)\"].hist(bins=10,by=dataset[\"validation\"])"
   ]
  },
  {
   "cell_type": "code",
   "execution_count": null,
   "id": "9c0d8cae",
   "metadata": {},
   "outputs": [],
   "source": []
  }
 ],
 "metadata": {
  "kernelspec": {
   "display_name": "Python 3 (ipykernel)",
   "language": "python",
   "name": "python3"
  },
  "language_info": {
   "codemirror_mode": {
    "name": "ipython",
    "version": 3
   },
   "file_extension": ".py",
   "mimetype": "text/x-python",
   "name": "python",
   "nbconvert_exporter": "python",
   "pygments_lexer": "ipython3",
   "version": "3.7.12"
  }
 },
 "nbformat": 4,
 "nbformat_minor": 5
}
