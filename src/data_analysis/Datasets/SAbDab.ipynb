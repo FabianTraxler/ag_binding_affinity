{
 "cells": [
  {
   "cell_type": "markdown",
   "id": "111e3c38",
   "metadata": {
    "pycharm": {
     "name": "#%% md\n"
    }
   },
   "source": [
    "# Structured AntiBody DAtaBase\n",
    "\n",
    "This Dataset contains antobody strucutres as well as antibody-antigen compexes.\n",
    "\n",
    "We downloaded only the Complexes with Affinity data (Acess on 30.4.2022)\n",
    "\n",
    "The data is taken from http://opig.stats.ox.ac.uk/webapps/newsabdab/sabdab/search/?ABtype=All&method=All&species=All&resolution=&rfactor=&antigen=All&ltype=All&constantregion=All&affinity=True&isin_covabdab=All&isin_therasabdab=All&chothiapos=&restype=ALA&field_0=Antigens&keyword_0=#downloads\n"
   ]
  },
  {
   "cell_type": "code",
   "execution_count": 1,
   "id": "93624c27",
   "metadata": {
    "pycharm": {
     "name": "#%%\n"
    }
   },
   "outputs": [],
   "source": [
    "import pandas as pd\n",
    "import yaml\n",
    "import os"
   ]
  },
  {
   "cell_type": "code",
   "execution_count": 2,
   "id": "7fa2ce4a",
   "metadata": {
    "pycharm": {
     "name": "#%%\n"
    }
   },
   "outputs": [],
   "source": [
    "from abag_affinity.utils.config import read_config, get_resources_paths"
   ]
  },
  {
   "cell_type": "code",
   "execution_count": 4,
   "id": "37bbc2c3",
   "metadata": {
    "pycharm": {
     "name": "#%%\n"
    }
   },
   "outputs": [],
   "source": [
    "config = read_config(\"../../abag_affinity/config.yaml\")\n",
    "summary_path, pdb_path = get_resources_paths(config, \"SAbDab\")"
   ]
  },
  {
   "cell_type": "code",
   "execution_count": 6,
   "id": "a755ebb8",
   "metadata": {
    "pycharm": {
     "name": "#%%\n"
    }
   },
   "outputs": [
    {
     "data": {
      "text/html": [
       "<div>\n",
       "<style scoped>\n",
       "    .dataframe tbody tr th:only-of-type {\n",
       "        vertical-align: middle;\n",
       "    }\n",
       "\n",
       "    .dataframe tbody tr th {\n",
       "        vertical-align: top;\n",
       "    }\n",
       "\n",
       "    .dataframe thead th {\n",
       "        text-align: right;\n",
       "    }\n",
       "</style>\n",
       "<table border=\"1\" class=\"dataframe\">\n",
       "  <thead>\n",
       "    <tr style=\"text-align: right;\">\n",
       "      <th></th>\n",
       "      <th>pdb</th>\n",
       "      <th>Hchain</th>\n",
       "      <th>Lchain</th>\n",
       "      <th>model</th>\n",
       "      <th>antigen_chain</th>\n",
       "      <th>antigen_type</th>\n",
       "      <th>antigen_het_name</th>\n",
       "      <th>antigen_name</th>\n",
       "      <th>short_header</th>\n",
       "      <th>date</th>\n",
       "      <th>...</th>\n",
       "      <th>scfv</th>\n",
       "      <th>engineered</th>\n",
       "      <th>heavy_subclass</th>\n",
       "      <th>light_subclass</th>\n",
       "      <th>light_ctype</th>\n",
       "      <th>affinity</th>\n",
       "      <th>delta_g</th>\n",
       "      <th>affinity_method</th>\n",
       "      <th>temperature</th>\n",
       "      <th>pmid</th>\n",
       "    </tr>\n",
       "  </thead>\n",
       "  <tbody>\n",
       "    <tr>\n",
       "      <th>0</th>\n",
       "      <td>1mhh</td>\n",
       "      <td>D</td>\n",
       "      <td>C</td>\n",
       "      <td>0</td>\n",
       "      <td>NaN</td>\n",
       "      <td>NaN</td>\n",
       "      <td>NaN</td>\n",
       "      <td>NaN</td>\n",
       "      <td>IMMUNE SYSTEM</td>\n",
       "      <td>08/20/02</td>\n",
       "      <td>...</td>\n",
       "      <td>False</td>\n",
       "      <td>False</td>\n",
       "      <td>IGHV9</td>\n",
       "      <td>IGKV8</td>\n",
       "      <td>Kappa</td>\n",
       "      <td>1.000000e-09</td>\n",
       "      <td>-12.278197</td>\n",
       "      <td>Unknown</td>\n",
       "      <td>NaN</td>\n",
       "      <td>TBD</td>\n",
       "    </tr>\n",
       "    <tr>\n",
       "      <th>1</th>\n",
       "      <td>1mhh</td>\n",
       "      <td>B</td>\n",
       "      <td>A</td>\n",
       "      <td>0</td>\n",
       "      <td>NaN</td>\n",
       "      <td>NaN</td>\n",
       "      <td>NaN</td>\n",
       "      <td>NaN</td>\n",
       "      <td>IMMUNE SYSTEM</td>\n",
       "      <td>08/20/02</td>\n",
       "      <td>...</td>\n",
       "      <td>False</td>\n",
       "      <td>False</td>\n",
       "      <td>IGHV9</td>\n",
       "      <td>IGKV8</td>\n",
       "      <td>Kappa</td>\n",
       "      <td>1.000000e-09</td>\n",
       "      <td>-12.278197</td>\n",
       "      <td>Unknown</td>\n",
       "      <td>NaN</td>\n",
       "      <td>TBD</td>\n",
       "    </tr>\n",
       "    <tr>\n",
       "      <th>2</th>\n",
       "      <td>1mh5</td>\n",
       "      <td>H</td>\n",
       "      <td>L</td>\n",
       "      <td>0</td>\n",
       "      <td>H</td>\n",
       "      <td>Hapten</td>\n",
       "      <td>HAL</td>\n",
       "      <td>N-{[2-({[1-(4-CARBOXYBUTANOYL)AMINO]-2-PHENYLE...</td>\n",
       "      <td>IMMUNE SYSTEM</td>\n",
       "      <td>08/19/02</td>\n",
       "      <td>...</td>\n",
       "      <td>False</td>\n",
       "      <td>True</td>\n",
       "      <td>IGHV1</td>\n",
       "      <td>IGKV2</td>\n",
       "      <td>Kappa</td>\n",
       "      <td>6.100000e-10</td>\n",
       "      <td>-12.571059</td>\n",
       "      <td>Unknown</td>\n",
       "      <td>NaN</td>\n",
       "      <td>TBD</td>\n",
       "    </tr>\n",
       "    <tr>\n",
       "      <th>3</th>\n",
       "      <td>1mh5</td>\n",
       "      <td>B</td>\n",
       "      <td>A</td>\n",
       "      <td>0</td>\n",
       "      <td>B</td>\n",
       "      <td>Hapten</td>\n",
       "      <td>HAL</td>\n",
       "      <td>N-{[2-({[1-(4-CARBOXYBUTANOYL)AMINO]-2-PHENYLE...</td>\n",
       "      <td>IMMUNE SYSTEM</td>\n",
       "      <td>08/19/02</td>\n",
       "      <td>...</td>\n",
       "      <td>False</td>\n",
       "      <td>True</td>\n",
       "      <td>IGHV1</td>\n",
       "      <td>IGKV2</td>\n",
       "      <td>Kappa</td>\n",
       "      <td>6.100000e-10</td>\n",
       "      <td>-12.571059</td>\n",
       "      <td>Unknown</td>\n",
       "      <td>NaN</td>\n",
       "      <td>TBD</td>\n",
       "    </tr>\n",
       "    <tr>\n",
       "      <th>4</th>\n",
       "      <td>2r56</td>\n",
       "      <td>I</td>\n",
       "      <td>M</td>\n",
       "      <td>0</td>\n",
       "      <td>B</td>\n",
       "      <td>protein</td>\n",
       "      <td>NaN</td>\n",
       "      <td>beta-lactoglobulin</td>\n",
       "      <td>IMMUNE SYSTEM</td>\n",
       "      <td>09/03/07</td>\n",
       "      <td>...</td>\n",
       "      <td>False</td>\n",
       "      <td>False</td>\n",
       "      <td>IGHV3</td>\n",
       "      <td>IGKV1</td>\n",
       "      <td>Kappa</td>\n",
       "      <td>1.300000e-09</td>\n",
       "      <td>-12.120000</td>\n",
       "      <td>SPR</td>\n",
       "      <td>NaN</td>\n",
       "      <td>17997967</td>\n",
       "    </tr>\n",
       "    <tr>\n",
       "      <th>...</th>\n",
       "      <td>...</td>\n",
       "      <td>...</td>\n",
       "      <td>...</td>\n",
       "      <td>...</td>\n",
       "      <td>...</td>\n",
       "      <td>...</td>\n",
       "      <td>...</td>\n",
       "      <td>...</td>\n",
       "      <td>...</td>\n",
       "      <td>...</td>\n",
       "      <td>...</td>\n",
       "      <td>...</td>\n",
       "      <td>...</td>\n",
       "      <td>...</td>\n",
       "      <td>...</td>\n",
       "      <td>...</td>\n",
       "      <td>...</td>\n",
       "      <td>...</td>\n",
       "      <td>...</td>\n",
       "      <td>...</td>\n",
       "      <td>...</td>\n",
       "    </tr>\n",
       "    <tr>\n",
       "      <th>1321</th>\n",
       "      <td>6azl</td>\n",
       "      <td>D</td>\n",
       "      <td>C</td>\n",
       "      <td>0</td>\n",
       "      <td>NaN</td>\n",
       "      <td>NaN</td>\n",
       "      <td>NaN</td>\n",
       "      <td>NaN</td>\n",
       "      <td>IMMUNE SYSTEM</td>\n",
       "      <td>09/11/17</td>\n",
       "      <td>...</td>\n",
       "      <td>False</td>\n",
       "      <td>True</td>\n",
       "      <td>IGHV2</td>\n",
       "      <td>IGKV5</td>\n",
       "      <td>Kappa</td>\n",
       "      <td>1.180000e-05</td>\n",
       "      <td>-6.723156</td>\n",
       "      <td>Unknown</td>\n",
       "      <td>NaN</td>\n",
       "      <td>TBD</td>\n",
       "    </tr>\n",
       "    <tr>\n",
       "      <th>1322</th>\n",
       "      <td>4d9q</td>\n",
       "      <td>H</td>\n",
       "      <td>L</td>\n",
       "      <td>0</td>\n",
       "      <td>A</td>\n",
       "      <td>protein</td>\n",
       "      <td>NaN</td>\n",
       "      <td>factor d</td>\n",
       "      <td>HYDROLASE/IMMUNE SYSTEM</td>\n",
       "      <td>01/11/12</td>\n",
       "      <td>...</td>\n",
       "      <td>False</td>\n",
       "      <td>True</td>\n",
       "      <td>IGHV7</td>\n",
       "      <td>IGKV1</td>\n",
       "      <td>Kappa</td>\n",
       "      <td>3.000000e-11</td>\n",
       "      <td>-14.355775</td>\n",
       "      <td>SPR</td>\n",
       "      <td>NaN</td>\n",
       "      <td>TBD</td>\n",
       "    </tr>\n",
       "    <tr>\n",
       "      <th>1323</th>\n",
       "      <td>4d9q</td>\n",
       "      <td>E</td>\n",
       "      <td>D</td>\n",
       "      <td>0</td>\n",
       "      <td>B</td>\n",
       "      <td>protein</td>\n",
       "      <td>NaN</td>\n",
       "      <td>factor d</td>\n",
       "      <td>HYDROLASE/IMMUNE SYSTEM</td>\n",
       "      <td>01/11/12</td>\n",
       "      <td>...</td>\n",
       "      <td>False</td>\n",
       "      <td>True</td>\n",
       "      <td>IGHV7</td>\n",
       "      <td>IGKV1</td>\n",
       "      <td>Kappa</td>\n",
       "      <td>3.000000e-11</td>\n",
       "      <td>-14.355775</td>\n",
       "      <td>SPR</td>\n",
       "      <td>NaN</td>\n",
       "      <td>TBD</td>\n",
       "    </tr>\n",
       "    <tr>\n",
       "      <th>1324</th>\n",
       "      <td>6azk</td>\n",
       "      <td>B</td>\n",
       "      <td>A</td>\n",
       "      <td>0</td>\n",
       "      <td>NaN</td>\n",
       "      <td>NaN</td>\n",
       "      <td>NaN</td>\n",
       "      <td>NaN</td>\n",
       "      <td>IMMUNE SYSTEM</td>\n",
       "      <td>09/11/17</td>\n",
       "      <td>...</td>\n",
       "      <td>False</td>\n",
       "      <td>True</td>\n",
       "      <td>IGHV2</td>\n",
       "      <td>IGKV5</td>\n",
       "      <td>Kappa</td>\n",
       "      <td>2.300000e-06</td>\n",
       "      <td>-7.691979</td>\n",
       "      <td>Unknown</td>\n",
       "      <td>NaN</td>\n",
       "      <td>TBD</td>\n",
       "    </tr>\n",
       "    <tr>\n",
       "      <th>1325</th>\n",
       "      <td>6azk</td>\n",
       "      <td>D</td>\n",
       "      <td>C</td>\n",
       "      <td>0</td>\n",
       "      <td>NaN</td>\n",
       "      <td>NaN</td>\n",
       "      <td>NaN</td>\n",
       "      <td>NaN</td>\n",
       "      <td>IMMUNE SYSTEM</td>\n",
       "      <td>09/11/17</td>\n",
       "      <td>...</td>\n",
       "      <td>False</td>\n",
       "      <td>True</td>\n",
       "      <td>IGHV2</td>\n",
       "      <td>IGKV5</td>\n",
       "      <td>Kappa</td>\n",
       "      <td>2.300000e-06</td>\n",
       "      <td>-7.691979</td>\n",
       "      <td>Unknown</td>\n",
       "      <td>NaN</td>\n",
       "      <td>TBD</td>\n",
       "    </tr>\n",
       "  </tbody>\n",
       "</table>\n",
       "<p>1326 rows × 30 columns</p>\n",
       "</div>"
      ],
      "text/plain": [
       "       pdb Hchain Lchain  model antigen_chain antigen_type antigen_het_name  \\\n",
       "0     1mhh      D      C      0           NaN          NaN              NaN   \n",
       "1     1mhh      B      A      0           NaN          NaN              NaN   \n",
       "2     1mh5      H      L      0             H       Hapten              HAL   \n",
       "3     1mh5      B      A      0             B       Hapten              HAL   \n",
       "4     2r56      I      M      0             B      protein              NaN   \n",
       "...    ...    ...    ...    ...           ...          ...              ...   \n",
       "1321  6azl      D      C      0           NaN          NaN              NaN   \n",
       "1322  4d9q      H      L      0             A      protein              NaN   \n",
       "1323  4d9q      E      D      0             B      protein              NaN   \n",
       "1324  6azk      B      A      0           NaN          NaN              NaN   \n",
       "1325  6azk      D      C      0           NaN          NaN              NaN   \n",
       "\n",
       "                                           antigen_name  \\\n",
       "0                                                   NaN   \n",
       "1                                                   NaN   \n",
       "2     N-{[2-({[1-(4-CARBOXYBUTANOYL)AMINO]-2-PHENYLE...   \n",
       "3     N-{[2-({[1-(4-CARBOXYBUTANOYL)AMINO]-2-PHENYLE...   \n",
       "4                                    beta-lactoglobulin   \n",
       "...                                                 ...   \n",
       "1321                                                NaN   \n",
       "1322                                           factor d   \n",
       "1323                                           factor d   \n",
       "1324                                                NaN   \n",
       "1325                                                NaN   \n",
       "\n",
       "                 short_header      date  ...   scfv engineered heavy_subclass  \\\n",
       "0               IMMUNE SYSTEM  08/20/02  ...  False      False          IGHV9   \n",
       "1               IMMUNE SYSTEM  08/20/02  ...  False      False          IGHV9   \n",
       "2               IMMUNE SYSTEM  08/19/02  ...  False       True          IGHV1   \n",
       "3               IMMUNE SYSTEM  08/19/02  ...  False       True          IGHV1   \n",
       "4               IMMUNE SYSTEM  09/03/07  ...  False      False          IGHV3   \n",
       "...                       ...       ...  ...    ...        ...            ...   \n",
       "1321            IMMUNE SYSTEM  09/11/17  ...  False       True          IGHV2   \n",
       "1322  HYDROLASE/IMMUNE SYSTEM  01/11/12  ...  False       True          IGHV7   \n",
       "1323  HYDROLASE/IMMUNE SYSTEM  01/11/12  ...  False       True          IGHV7   \n",
       "1324            IMMUNE SYSTEM  09/11/17  ...  False       True          IGHV2   \n",
       "1325            IMMUNE SYSTEM  09/11/17  ...  False       True          IGHV2   \n",
       "\n",
       "     light_subclass light_ctype      affinity    delta_g affinity_method  \\\n",
       "0             IGKV8       Kappa  1.000000e-09 -12.278197         Unknown   \n",
       "1             IGKV8       Kappa  1.000000e-09 -12.278197         Unknown   \n",
       "2             IGKV2       Kappa  6.100000e-10 -12.571059         Unknown   \n",
       "3             IGKV2       Kappa  6.100000e-10 -12.571059         Unknown   \n",
       "4             IGKV1       Kappa  1.300000e-09 -12.120000             SPR   \n",
       "...             ...         ...           ...        ...             ...   \n",
       "1321          IGKV5       Kappa  1.180000e-05  -6.723156         Unknown   \n",
       "1322          IGKV1       Kappa  3.000000e-11 -14.355775             SPR   \n",
       "1323          IGKV1       Kappa  3.000000e-11 -14.355775             SPR   \n",
       "1324          IGKV5       Kappa  2.300000e-06  -7.691979         Unknown   \n",
       "1325          IGKV5       Kappa  2.300000e-06  -7.691979         Unknown   \n",
       "\n",
       "     temperature      pmid  \n",
       "0            NaN       TBD  \n",
       "1            NaN       TBD  \n",
       "2            NaN       TBD  \n",
       "3            NaN       TBD  \n",
       "4            NaN  17997967  \n",
       "...          ...       ...  \n",
       "1321         NaN       TBD  \n",
       "1322         NaN       TBD  \n",
       "1323         NaN       TBD  \n",
       "1324         NaN       TBD  \n",
       "1325         NaN       TBD  \n",
       "\n",
       "[1326 rows x 30 columns]"
      ]
     },
     "execution_count": 6,
     "metadata": {},
     "output_type": "execute_result"
    }
   ],
   "source": [
    "summary_df = pd.read_csv(summary_path, sep=\"\\t\")\n",
    "summary_df"
   ]
  },
  {
   "cell_type": "code",
   "execution_count": 7,
   "id": "4860982c",
   "metadata": {
    "pycharm": {
     "name": "#%%\n"
    }
   },
   "outputs": [
    {
     "data": {
      "text/plain": [
       "Index(['pdb', 'Hchain', 'Lchain', 'model', 'antigen_chain', 'antigen_type',\n",
       "       'antigen_het_name', 'antigen_name', 'short_header', 'date', 'compound',\n",
       "       'organism', 'heavy_species', 'light_species', 'antigen_species',\n",
       "       'authors', 'resolution', 'method', 'r_free', 'r_factor', 'scfv',\n",
       "       'engineered', 'heavy_subclass', 'light_subclass', 'light_ctype',\n",
       "       'affinity', 'delta_g', 'affinity_method', 'temperature', 'pmid'],\n",
       "      dtype='object')"
      ]
     },
     "execution_count": 7,
     "metadata": {},
     "output_type": "execute_result"
    }
   ],
   "source": [
    "summary_df.columns"
   ]
  },
  {
   "cell_type": "code",
   "execution_count": 8,
   "id": "d357c48a",
   "metadata": {
    "pycharm": {
     "name": "#%%\n"
    }
   },
   "outputs": [
    {
     "data": {
      "text/html": [
       "<div>\n",
       "<style scoped>\n",
       "    .dataframe tbody tr th:only-of-type {\n",
       "        vertical-align: middle;\n",
       "    }\n",
       "\n",
       "    .dataframe tbody tr th {\n",
       "        vertical-align: top;\n",
       "    }\n",
       "\n",
       "    .dataframe thead th {\n",
       "        text-align: right;\n",
       "    }\n",
       "</style>\n",
       "<table border=\"1\" class=\"dataframe\">\n",
       "  <thead>\n",
       "    <tr style=\"text-align: right;\">\n",
       "      <th></th>\n",
       "      <th>model</th>\n",
       "      <th>resolution</th>\n",
       "      <th>affinity</th>\n",
       "      <th>delta_g</th>\n",
       "    </tr>\n",
       "  </thead>\n",
       "  <tbody>\n",
       "    <tr>\n",
       "      <th>count</th>\n",
       "      <td>1326.0</td>\n",
       "      <td>1326.000000</td>\n",
       "      <td>1.326000e+03</td>\n",
       "      <td>1289.000000</td>\n",
       "    </tr>\n",
       "    <tr>\n",
       "      <th>mean</th>\n",
       "      <td>0.0</td>\n",
       "      <td>2.558300</td>\n",
       "      <td>2.324213e-06</td>\n",
       "      <td>-11.034606</td>\n",
       "    </tr>\n",
       "    <tr>\n",
       "      <th>std</th>\n",
       "      <td>0.0</td>\n",
       "      <td>0.650745</td>\n",
       "      <td>1.685510e-05</td>\n",
       "      <td>2.098564</td>\n",
       "    </tr>\n",
       "    <tr>\n",
       "      <th>min</th>\n",
       "      <td>0.0</td>\n",
       "      <td>1.000000</td>\n",
       "      <td>4.000000e-13</td>\n",
       "      <td>-16.913816</td>\n",
       "    </tr>\n",
       "    <tr>\n",
       "      <th>25%</th>\n",
       "      <td>0.0</td>\n",
       "      <td>2.118000</td>\n",
       "      <td>1.000000e-09</td>\n",
       "      <td>-12.340621</td>\n",
       "    </tr>\n",
       "    <tr>\n",
       "      <th>50%</th>\n",
       "      <td>0.0</td>\n",
       "      <td>2.501500</td>\n",
       "      <td>8.365000e-09</td>\n",
       "      <td>-11.053614</td>\n",
       "    </tr>\n",
       "    <tr>\n",
       "      <th>75%</th>\n",
       "      <td>0.0</td>\n",
       "      <td>2.890000</td>\n",
       "      <td>9.175000e-08</td>\n",
       "      <td>-9.690000</td>\n",
       "    </tr>\n",
       "    <tr>\n",
       "      <th>max</th>\n",
       "      <td>0.0</td>\n",
       "      <td>6.980000</td>\n",
       "      <td>2.000000e-04</td>\n",
       "      <td>-5.040000</td>\n",
       "    </tr>\n",
       "  </tbody>\n",
       "</table>\n",
       "</div>"
      ],
      "text/plain": [
       "        model   resolution      affinity      delta_g\n",
       "count  1326.0  1326.000000  1.326000e+03  1289.000000\n",
       "mean      0.0     2.558300  2.324213e-06   -11.034606\n",
       "std       0.0     0.650745  1.685510e-05     2.098564\n",
       "min       0.0     1.000000  4.000000e-13   -16.913816\n",
       "25%       0.0     2.118000  1.000000e-09   -12.340621\n",
       "50%       0.0     2.501500  8.365000e-09   -11.053614\n",
       "75%       0.0     2.890000  9.175000e-08    -9.690000\n",
       "max       0.0     6.980000  2.000000e-04    -5.040000"
      ]
     },
     "execution_count": 8,
     "metadata": {},
     "output_type": "execute_result"
    }
   ],
   "source": [
    "summary_df.describe()"
   ]
  },
  {
   "cell_type": "code",
   "execution_count": 9,
   "id": "1ff5477f",
   "metadata": {
    "pycharm": {
     "name": "#%%\n"
    }
   },
   "outputs": [
    {
     "name": "stdout",
     "output_type": "stream",
     "text": [
      "Total Number of entries in table 1326\n",
      "Number of unique PDB IDs 746\n"
     ]
    }
   ],
   "source": [
    "print(\"Total Number of entries in table\", len(summary_df))\n",
    "print(\"Number of unique PDB IDs\", len(summary_df[\"pdb\"].unique()))"
   ]
  },
  {
   "cell_type": "code",
   "execution_count": 10,
   "id": "f186eeca",
   "metadata": {
    "pycharm": {
     "name": "#%%\n"
    }
   },
   "outputs": [
    {
     "data": {
      "text/plain": [
       "protein                                       796\n",
       "peptide                                       239\n",
       "Hapten                                        117\n",
       "protein | protein                              39\n",
       "carbohydrate                                   33\n",
       "nucleic-acid                                   11\n",
       "protein | peptide                               9\n",
       "carbohydrate | protein                          1\n",
       "carbohydrate | protein | protein                1\n",
       "nucleic-acid | nucleic-acid | nucleic-acid      1\n",
       "peptide | peptide | peptide                     1\n",
       "Name: antigen_type, dtype: int64"
      ]
     },
     "execution_count": 10,
     "metadata": {},
     "output_type": "execute_result"
    }
   ],
   "source": [
    "summary_df[\"antigen_type\"].value_counts()"
   ]
  },
  {
   "cell_type": "markdown",
   "id": "cf03b6ab",
   "metadata": {
    "pycharm": {
     "name": "#%% md\n"
    }
   },
   "source": [
    "## Comparison bewtween Affinity (Kd) and Delta G"
   ]
  },
  {
   "cell_type": "code",
   "execution_count": 11,
   "id": "57932282",
   "metadata": {
    "pycharm": {
     "name": "#%%\n"
    }
   },
   "outputs": [
    {
     "data": {
      "text/plain": [
       "<AxesSubplot:xlabel='affinity', ylabel='delta_g'>"
      ]
     },
     "execution_count": 11,
     "metadata": {},
     "output_type": "execute_result"
    },
    {
     "data": {
      "image/png": "[encoded data removed]",
      "text/plain": [
       "<Figure size 432x288 with 1 Axes>"
      ]
     },
     "metadata": {
      "needs_background": "light"
     },
     "output_type": "display_data"
    }
   ],
   "source": [
    "summary_df.plot.scatter(\"affinity\", \"delta_g\")"
   ]
  },
  {
   "cell_type": "code",
   "execution_count": 12,
   "id": "942040ff",
   "metadata": {
    "pycharm": {
     "name": "#%%\n"
    }
   },
   "outputs": [
    {
     "data": {
      "text/plain": [
       "0.3446098200728415"
      ]
     },
     "execution_count": 12,
     "metadata": {},
     "output_type": "execute_result"
    }
   ],
   "source": [
    "summary_df[\"delta_g\"].corr(summary_df[\"affinity\"])"
   ]
  },
  {
   "cell_type": "markdown",
   "id": "4c8e2c4a",
   "metadata": {
    "pycharm": {
     "name": "#%% md\n"
    }
   },
   "source": [
    "### Sequence Identity Check\n",
    "\n",
    "Check if two or more sequences are completly identical in PDB File: example 2R56"
   ]
  },
  {
   "cell_type": "code",
   "execution_count": 13,
   "id": "3d8e7c32",
   "metadata": {
    "pycharm": {
     "name": "#%%\n"
    }
   },
   "outputs": [
    {
     "name": "stdout",
     "output_type": "stream",
     "text": [
      "Getting Strcuture for 2r56\n"
     ]
    },
    {
     "name": "stderr",
     "output_type": "stream",
     "text": [
      "/home/fabian/miniconda3/envs/ag_binding_affinity/lib/python3.7/site-packages/Bio/PDB/StructureBuilder.py:92: PDBConstructionWarning: WARNING: Chain A is discontinuous at line 9734.\n",
      "  PDBConstructionWarning,\n",
      "/home/fabian/miniconda3/envs/ag_binding_affinity/lib/python3.7/site-packages/Bio/PDB/StructureBuilder.py:92: PDBConstructionWarning: WARNING: Chain B is discontinuous at line 9769.\n",
      "  PDBConstructionWarning,\n"
     ]
    }
   ],
   "source": [
    "from abag_affinity.utils.pdb_reader import read_file\n",
    "from Bio.SeqUtils import seq1\n",
    "\n",
    "row = summary_df.iloc[4]\n",
    "path = os.path.join(pdb_path, row[\"pdb\"] + \".pdb\")\n",
    "\n",
    "#path = \"../../data/test/1mhh.pdb\"\n",
    "print(\"Getting Strcuture for {}\".format(row[\"pdb\"]))\n",
    "\n",
    "structure, header= read_file(row[\"pdb\"], path)\n",
    "model = structure[0]"
   ]
  },
  {
   "cell_type": "code",
   "execution_count": 14,
   "id": "9f51a496",
   "metadata": {
    "pycharm": {
     "name": "#%%\n"
    }
   },
   "outputs": [
    {
     "name": "stdout",
     "output_type": "stream",
     "text": [
      "A B\n",
      "L M\n",
      "H I\n"
     ]
    }
   ],
   "source": [
    "all_chains = list(structure.get_chains())\n",
    "for i, chain in enumerate(all_chains):\n",
    "    chain_seq = seq1(''.join(residue.resname for residue in chain))\n",
    "    for o_chain in all_chains[i + 1:]:\n",
    "        if chain_seq == seq1(''.join(residue.resname for residue in o_chain)):\n",
    "            print(chain.id, o_chain.id)"
   ]
  },
  {
   "cell_type": "code",
   "execution_count": null,
   "id": "5295f853",
   "metadata": {
    "pycharm": {
     "name": "#%%\n"
    }
   },
   "outputs": [],
   "source": []
  },
  {
   "cell_type": "code",
   "execution_count": null,
   "id": "fc088a34",
   "metadata": {},
   "outputs": [],
   "source": []
  }
 ],
 "metadata": {
  "kernelspec": {
   "display_name": "Python 3 (ipykernel)",
   "language": "python",
   "name": "python3"
  },
  "language_info": {
   "codemirror_mode": {
    "name": "ipython",
    "version": 3
   },
   "file_extension": ".py",
   "mimetype": "text/x-python",
   "name": "python",
   "nbconvert_exporter": "python",
   "pygments_lexer": "ipython3",
   "version": "3.7.12"
  }
 },
 "nbformat": 4,
 "nbformat_minor": 5
}
