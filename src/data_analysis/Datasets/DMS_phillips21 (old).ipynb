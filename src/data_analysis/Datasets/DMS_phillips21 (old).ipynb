{
 "cells": [
  {
   "cell_type": "markdown",
   "id": "f4bed116",
   "metadata": {},
   "source": [
    "## Deep Mutational Scan - Dataset\n",
    "\n",
    "This dataset was assambled by Moritz Schäfer and the mutational information can be found in the file: \n",
    "'data/DMS/dms_curated.csv' and additional metadata in 'data/dms_metadata.csv'"
   ]
  },
  {
   "cell_type": "code",
   "execution_count": 2,
   "id": "c926afe4",
   "metadata": {},
   "outputs": [],
   "source": [
    "import os\n",
    "import pandas as pd\n",
    "import warnings\n",
    "import numpy as np\n",
    "from pathlib import Path\n",
    "warnings.filterwarnings(\"ignore\")\n",
    "from abag_affinity.utils.config import read_config, get_data_paths, get_resources_paths"
   ]
  },
  {
   "cell_type": "code",
   "execution_count": 4,
   "id": "5126807b",
   "metadata": {},
   "outputs": [
    {
     "ename": "IsADirectoryError",
     "evalue": "[Errno 21] Is a directory: '/'",
     "output_type": "error",
     "traceback": [
      "\u001b[0;31m---------------------------------------------------------------------------\u001b[0m",
      "\u001b[0;31mIsADirectoryError\u001b[0m                         Traceback (most recent call last)",
      "\u001b[0;32m/tmp/ipykernel_3205/3981044148.py\u001b[0m in \u001b[0;36m<module>\u001b[0;34m\u001b[0m\n\u001b[1;32m      8\u001b[0m \u001b[0;32mfor\u001b[0m \u001b[0mpath\u001b[0m \u001b[0;32min\u001b[0m \u001b[0msummary_paths\u001b[0m\u001b[0;34m:\u001b[0m\u001b[0;34m\u001b[0m\u001b[0;34m\u001b[0m\u001b[0m\n\u001b[1;32m      9\u001b[0m     \u001b[0mantibody\u001b[0m \u001b[0;34m=\u001b[0m \u001b[0mpath\u001b[0m\u001b[0;34m.\u001b[0m\u001b[0msplit\u001b[0m\u001b[0;34m(\u001b[0m\u001b[0;34m\"/\"\u001b[0m\u001b[0;34m)\u001b[0m\u001b[0;34m[\u001b[0m\u001b[0;34m-\u001b[0m\u001b[0;36m1\u001b[0m\u001b[0;34m]\u001b[0m\u001b[0;34m.\u001b[0m\u001b[0msplit\u001b[0m\u001b[0;34m(\u001b[0m\u001b[0;34m\"_\"\u001b[0m\u001b[0;34m)\u001b[0m\u001b[0;34m[\u001b[0m\u001b[0;36m0\u001b[0m\u001b[0;34m]\u001b[0m\u001b[0;34m\u001b[0m\u001b[0;34m\u001b[0m\u001b[0m\n\u001b[0;32m---> 10\u001b[0;31m     \u001b[0mdata_df\u001b[0m\u001b[0;34m[\u001b[0m\u001b[0mantibody\u001b[0m\u001b[0;34m]\u001b[0m \u001b[0;34m=\u001b[0m \u001b[0msummary_df\u001b[0m \u001b[0;34m=\u001b[0m \u001b[0mpd\u001b[0m\u001b[0;34m.\u001b[0m\u001b[0mread_csv\u001b[0m\u001b[0;34m(\u001b[0m\u001b[0mpath\u001b[0m\u001b[0;34m)\u001b[0m\u001b[0;34m\u001b[0m\u001b[0;34m\u001b[0m\u001b[0m\n\u001b[0m\u001b[1;32m     11\u001b[0m     \u001b[0minfos\u001b[0m\u001b[0;34m[\u001b[0m\u001b[0mantibody\u001b[0m\u001b[0;34m]\u001b[0m \u001b[0;34m=\u001b[0m \u001b[0;34m{\u001b[0m\u001b[0;34m}\u001b[0m\u001b[0;34m\u001b[0m\u001b[0;34m\u001b[0m\u001b[0m\n\u001b[1;32m     12\u001b[0m     \u001b[0minfos\u001b[0m\u001b[0;34m[\u001b[0m\u001b[0mantibody\u001b[0m\u001b[0;34m]\u001b[0m\u001b[0;34m[\u001b[0m\u001b[0;34m\"pdb\"\u001b[0m\u001b[0;34m]\u001b[0m \u001b[0;34m=\u001b[0m \u001b[0mantibody\u001b[0m \u001b[0;34m+\u001b[0m \u001b[0;34m\"_newcal1999.pdb\"\u001b[0m\u001b[0;34m\u001b[0m\u001b[0;34m\u001b[0m\u001b[0m\n",
      "\u001b[0;32m~/miniconda3/envs/ag_binding_affinity/lib/python3.7/site-packages/pandas/util/_decorators.py\u001b[0m in \u001b[0;36mwrapper\u001b[0;34m(*args, **kwargs)\u001b[0m\n\u001b[1;32m    309\u001b[0m                     \u001b[0mstacklevel\u001b[0m\u001b[0;34m=\u001b[0m\u001b[0mstacklevel\u001b[0m\u001b[0;34m,\u001b[0m\u001b[0;34m\u001b[0m\u001b[0;34m\u001b[0m\u001b[0m\n\u001b[1;32m    310\u001b[0m                 )\n\u001b[0;32m--> 311\u001b[0;31m             \u001b[0;32mreturn\u001b[0m \u001b[0mfunc\u001b[0m\u001b[0;34m(\u001b[0m\u001b[0;34m*\u001b[0m\u001b[0margs\u001b[0m\u001b[0;34m,\u001b[0m \u001b[0;34m**\u001b[0m\u001b[0mkwargs\u001b[0m\u001b[0;34m)\u001b[0m\u001b[0;34m\u001b[0m\u001b[0;34m\u001b[0m\u001b[0m\n\u001b[0m\u001b[1;32m    312\u001b[0m \u001b[0;34m\u001b[0m\u001b[0m\n\u001b[1;32m    313\u001b[0m         \u001b[0;32mreturn\u001b[0m \u001b[0mwrapper\u001b[0m\u001b[0;34m\u001b[0m\u001b[0;34m\u001b[0m\u001b[0m\n",
      "\u001b[0;32m~/miniconda3/envs/ag_binding_affinity/lib/python3.7/site-packages/pandas/io/parsers/readers.py\u001b[0m in \u001b[0;36mread_csv\u001b[0;34m(filepath_or_buffer, sep, delimiter, header, names, index_col, usecols, squeeze, prefix, mangle_dupe_cols, dtype, engine, converters, true_values, false_values, skipinitialspace, skiprows, skipfooter, nrows, na_values, keep_default_na, na_filter, verbose, skip_blank_lines, parse_dates, infer_datetime_format, keep_date_col, date_parser, dayfirst, cache_dates, iterator, chunksize, compression, thousands, decimal, lineterminator, quotechar, quoting, doublequote, escapechar, comment, encoding, encoding_errors, dialect, error_bad_lines, warn_bad_lines, on_bad_lines, delim_whitespace, low_memory, memory_map, float_precision, storage_options)\u001b[0m\n\u001b[1;32m    584\u001b[0m     \u001b[0mkwds\u001b[0m\u001b[0;34m.\u001b[0m\u001b[0mupdate\u001b[0m\u001b[0;34m(\u001b[0m\u001b[0mkwds_defaults\u001b[0m\u001b[0;34m)\u001b[0m\u001b[0;34m\u001b[0m\u001b[0;34m\u001b[0m\u001b[0m\n\u001b[1;32m    585\u001b[0m \u001b[0;34m\u001b[0m\u001b[0m\n\u001b[0;32m--> 586\u001b[0;31m     \u001b[0;32mreturn\u001b[0m \u001b[0m_read\u001b[0m\u001b[0;34m(\u001b[0m\u001b[0mfilepath_or_buffer\u001b[0m\u001b[0;34m,\u001b[0m \u001b[0mkwds\u001b[0m\u001b[0;34m)\u001b[0m\u001b[0;34m\u001b[0m\u001b[0;34m\u001b[0m\u001b[0m\n\u001b[0m\u001b[1;32m    587\u001b[0m \u001b[0;34m\u001b[0m\u001b[0m\n\u001b[1;32m    588\u001b[0m \u001b[0;34m\u001b[0m\u001b[0m\n",
      "\u001b[0;32m~/miniconda3/envs/ag_binding_affinity/lib/python3.7/site-packages/pandas/io/parsers/readers.py\u001b[0m in \u001b[0;36m_read\u001b[0;34m(filepath_or_buffer, kwds)\u001b[0m\n\u001b[1;32m    480\u001b[0m \u001b[0;34m\u001b[0m\u001b[0m\n\u001b[1;32m    481\u001b[0m     \u001b[0;31m# Create the parser.\u001b[0m\u001b[0;34m\u001b[0m\u001b[0;34m\u001b[0m\u001b[0;34m\u001b[0m\u001b[0m\n\u001b[0;32m--> 482\u001b[0;31m     \u001b[0mparser\u001b[0m \u001b[0;34m=\u001b[0m \u001b[0mTextFileReader\u001b[0m\u001b[0;34m(\u001b[0m\u001b[0mfilepath_or_buffer\u001b[0m\u001b[0;34m,\u001b[0m \u001b[0;34m**\u001b[0m\u001b[0mkwds\u001b[0m\u001b[0;34m)\u001b[0m\u001b[0;34m\u001b[0m\u001b[0;34m\u001b[0m\u001b[0m\n\u001b[0m\u001b[1;32m    483\u001b[0m \u001b[0;34m\u001b[0m\u001b[0m\n\u001b[1;32m    484\u001b[0m     \u001b[0;32mif\u001b[0m \u001b[0mchunksize\u001b[0m \u001b[0;32mor\u001b[0m \u001b[0miterator\u001b[0m\u001b[0;34m:\u001b[0m\u001b[0;34m\u001b[0m\u001b[0;34m\u001b[0m\u001b[0m\n",
      "\u001b[0;32m~/miniconda3/envs/ag_binding_affinity/lib/python3.7/site-packages/pandas/io/parsers/readers.py\u001b[0m in \u001b[0;36m__init__\u001b[0;34m(self, f, engine, **kwds)\u001b[0m\n\u001b[1;32m    809\u001b[0m             \u001b[0mself\u001b[0m\u001b[0;34m.\u001b[0m\u001b[0moptions\u001b[0m\u001b[0;34m[\u001b[0m\u001b[0;34m\"has_index_names\"\u001b[0m\u001b[0;34m]\u001b[0m \u001b[0;34m=\u001b[0m \u001b[0mkwds\u001b[0m\u001b[0;34m[\u001b[0m\u001b[0;34m\"has_index_names\"\u001b[0m\u001b[0;34m]\u001b[0m\u001b[0;34m\u001b[0m\u001b[0;34m\u001b[0m\u001b[0m\n\u001b[1;32m    810\u001b[0m \u001b[0;34m\u001b[0m\u001b[0m\n\u001b[0;32m--> 811\u001b[0;31m         \u001b[0mself\u001b[0m\u001b[0;34m.\u001b[0m\u001b[0m_engine\u001b[0m \u001b[0;34m=\u001b[0m \u001b[0mself\u001b[0m\u001b[0;34m.\u001b[0m\u001b[0m_make_engine\u001b[0m\u001b[0;34m(\u001b[0m\u001b[0mself\u001b[0m\u001b[0;34m.\u001b[0m\u001b[0mengine\u001b[0m\u001b[0;34m)\u001b[0m\u001b[0;34m\u001b[0m\u001b[0;34m\u001b[0m\u001b[0m\n\u001b[0m\u001b[1;32m    812\u001b[0m \u001b[0;34m\u001b[0m\u001b[0m\n\u001b[1;32m    813\u001b[0m     \u001b[0;32mdef\u001b[0m \u001b[0mclose\u001b[0m\u001b[0;34m(\u001b[0m\u001b[0mself\u001b[0m\u001b[0;34m)\u001b[0m\u001b[0;34m:\u001b[0m\u001b[0;34m\u001b[0m\u001b[0;34m\u001b[0m\u001b[0m\n",
      "\u001b[0;32m~/miniconda3/envs/ag_binding_affinity/lib/python3.7/site-packages/pandas/io/parsers/readers.py\u001b[0m in \u001b[0;36m_make_engine\u001b[0;34m(self, engine)\u001b[0m\n\u001b[1;32m   1038\u001b[0m             )\n\u001b[1;32m   1039\u001b[0m         \u001b[0;31m# error: Too many arguments for \"ParserBase\"\u001b[0m\u001b[0;34m\u001b[0m\u001b[0;34m\u001b[0m\u001b[0;34m\u001b[0m\u001b[0m\n\u001b[0;32m-> 1040\u001b[0;31m         \u001b[0;32mreturn\u001b[0m \u001b[0mmapping\u001b[0m\u001b[0;34m[\u001b[0m\u001b[0mengine\u001b[0m\u001b[0;34m]\u001b[0m\u001b[0;34m(\u001b[0m\u001b[0mself\u001b[0m\u001b[0;34m.\u001b[0m\u001b[0mf\u001b[0m\u001b[0;34m,\u001b[0m \u001b[0;34m**\u001b[0m\u001b[0mself\u001b[0m\u001b[0;34m.\u001b[0m\u001b[0moptions\u001b[0m\u001b[0;34m)\u001b[0m  \u001b[0;31m# type: ignore[call-arg]\u001b[0m\u001b[0;34m\u001b[0m\u001b[0;34m\u001b[0m\u001b[0m\n\u001b[0m\u001b[1;32m   1041\u001b[0m \u001b[0;34m\u001b[0m\u001b[0m\n\u001b[1;32m   1042\u001b[0m     \u001b[0;32mdef\u001b[0m \u001b[0m_failover_to_python\u001b[0m\u001b[0;34m(\u001b[0m\u001b[0mself\u001b[0m\u001b[0;34m)\u001b[0m\u001b[0;34m:\u001b[0m\u001b[0;34m\u001b[0m\u001b[0;34m\u001b[0m\u001b[0m\n",
      "\u001b[0;32m~/miniconda3/envs/ag_binding_affinity/lib/python3.7/site-packages/pandas/io/parsers/c_parser_wrapper.py\u001b[0m in \u001b[0;36m__init__\u001b[0;34m(self, src, **kwds)\u001b[0m\n\u001b[1;32m     49\u001b[0m \u001b[0;34m\u001b[0m\u001b[0m\n\u001b[1;32m     50\u001b[0m         \u001b[0;31m# open handles\u001b[0m\u001b[0;34m\u001b[0m\u001b[0;34m\u001b[0m\u001b[0;34m\u001b[0m\u001b[0m\n\u001b[0;32m---> 51\u001b[0;31m         \u001b[0mself\u001b[0m\u001b[0;34m.\u001b[0m\u001b[0m_open_handles\u001b[0m\u001b[0;34m(\u001b[0m\u001b[0msrc\u001b[0m\u001b[0;34m,\u001b[0m \u001b[0mkwds\u001b[0m\u001b[0;34m)\u001b[0m\u001b[0;34m\u001b[0m\u001b[0;34m\u001b[0m\u001b[0m\n\u001b[0m\u001b[1;32m     52\u001b[0m         \u001b[0;32massert\u001b[0m \u001b[0mself\u001b[0m\u001b[0;34m.\u001b[0m\u001b[0mhandles\u001b[0m \u001b[0;32mis\u001b[0m \u001b[0;32mnot\u001b[0m \u001b[0;32mNone\u001b[0m\u001b[0;34m\u001b[0m\u001b[0;34m\u001b[0m\u001b[0m\n\u001b[1;32m     53\u001b[0m \u001b[0;34m\u001b[0m\u001b[0m\n",
      "\u001b[0;32m~/miniconda3/envs/ag_binding_affinity/lib/python3.7/site-packages/pandas/io/parsers/base_parser.py\u001b[0m in \u001b[0;36m_open_handles\u001b[0;34m(self, src, kwds)\u001b[0m\n\u001b[1;32m    227\u001b[0m             \u001b[0mmemory_map\u001b[0m\u001b[0;34m=\u001b[0m\u001b[0mkwds\u001b[0m\u001b[0;34m.\u001b[0m\u001b[0mget\u001b[0m\u001b[0;34m(\u001b[0m\u001b[0;34m\"memory_map\"\u001b[0m\u001b[0;34m,\u001b[0m \u001b[0;32mFalse\u001b[0m\u001b[0;34m)\u001b[0m\u001b[0;34m,\u001b[0m\u001b[0;34m\u001b[0m\u001b[0;34m\u001b[0m\u001b[0m\n\u001b[1;32m    228\u001b[0m             \u001b[0mstorage_options\u001b[0m\u001b[0;34m=\u001b[0m\u001b[0mkwds\u001b[0m\u001b[0;34m.\u001b[0m\u001b[0mget\u001b[0m\u001b[0;34m(\u001b[0m\u001b[0;34m\"storage_options\"\u001b[0m\u001b[0;34m,\u001b[0m \u001b[0;32mNone\u001b[0m\u001b[0;34m)\u001b[0m\u001b[0;34m,\u001b[0m\u001b[0;34m\u001b[0m\u001b[0;34m\u001b[0m\u001b[0m\n\u001b[0;32m--> 229\u001b[0;31m             \u001b[0merrors\u001b[0m\u001b[0;34m=\u001b[0m\u001b[0mkwds\u001b[0m\u001b[0;34m.\u001b[0m\u001b[0mget\u001b[0m\u001b[0;34m(\u001b[0m\u001b[0;34m\"encoding_errors\"\u001b[0m\u001b[0;34m,\u001b[0m \u001b[0;34m\"strict\"\u001b[0m\u001b[0;34m)\u001b[0m\u001b[0;34m,\u001b[0m\u001b[0;34m\u001b[0m\u001b[0;34m\u001b[0m\u001b[0m\n\u001b[0m\u001b[1;32m    230\u001b[0m         )\n\u001b[1;32m    231\u001b[0m \u001b[0;34m\u001b[0m\u001b[0m\n",
      "\u001b[0;32m~/miniconda3/envs/ag_binding_affinity/lib/python3.7/site-packages/pandas/io/common.py\u001b[0m in \u001b[0;36mget_handle\u001b[0;34m(path_or_buf, mode, encoding, compression, memory_map, is_text, errors, storage_options)\u001b[0m\n\u001b[1;32m    705\u001b[0m                 \u001b[0mencoding\u001b[0m\u001b[0;34m=\u001b[0m\u001b[0mioargs\u001b[0m\u001b[0;34m.\u001b[0m\u001b[0mencoding\u001b[0m\u001b[0;34m,\u001b[0m\u001b[0;34m\u001b[0m\u001b[0;34m\u001b[0m\u001b[0m\n\u001b[1;32m    706\u001b[0m                 \u001b[0merrors\u001b[0m\u001b[0;34m=\u001b[0m\u001b[0merrors\u001b[0m\u001b[0;34m,\u001b[0m\u001b[0;34m\u001b[0m\u001b[0;34m\u001b[0m\u001b[0m\n\u001b[0;32m--> 707\u001b[0;31m                 \u001b[0mnewline\u001b[0m\u001b[0;34m=\u001b[0m\u001b[0;34m\"\"\u001b[0m\u001b[0;34m,\u001b[0m\u001b[0;34m\u001b[0m\u001b[0;34m\u001b[0m\u001b[0m\n\u001b[0m\u001b[1;32m    708\u001b[0m             )\n\u001b[1;32m    709\u001b[0m         \u001b[0;32melse\u001b[0m\u001b[0;34m:\u001b[0m\u001b[0;34m\u001b[0m\u001b[0;34m\u001b[0m\u001b[0m\n",
      "\u001b[0;31mIsADirectoryError\u001b[0m: [Errno 21] Is a directory: '/'"
     ]
    }
   ],
   "source": [
    "config = read_config(\"../../config.yaml\")\n",
    "\n",
    "summary_paths, _ = get_data_paths(config, \"DMS\")\n",
    "\n",
    "data_df = {}\n",
    "infos = {}\n",
    "\n",
    "for path in summary_paths:\n",
    "    antibody = path.split(\"/\")[-1].split(\"_\")[0]\n",
    "    data_df[antibody] = pd.read_csv(path)\n",
    "    infos[antibody] = {}\n",
    "    infos[antibody][\"pdb\"] = antibody + \"_newcal1999.pdb\""
   ]
  },
  {
   "cell_type": "code",
   "execution_count": 3,
   "id": "af7b8592",
   "metadata": {},
   "outputs": [],
   "source": [
    "chain_id2protein = {\"d\": 1, \"c\": 1, \"b\": 0}\n",
    "\n",
    "distance_cutoff = 5\n",
    "\n",
    "interface_hull_size = 10"
   ]
  },
  {
   "cell_type": "code",
   "execution_count": 4,
   "id": "6c8084eb",
   "metadata": {},
   "outputs": [],
   "source": [
    "for ab, summary_df in data_df.items():\n",
    "    summary_df[\"scfv_mutations\"] = summary_df[\"scfv_mutations\"].fillna(\"\")\n",
    "    summary_df[\"scfv_mutations\"] = summary_df[\"scfv_mutations\"].apply(lambda x: \";\".join([ code[0] + \"D\" + code[2:] for code in x.split(\";\") if code != \"\"]))\n",
    "    data_df[ab] = summary_df\n",
    "    \n",
    "    infos[ab][\"unique_mutations\"] = summary_df[~summary_df[\"scfv_mutations\"].str.contains(\";\")][\"scfv_mutations\"].tolist()\n",
    "    infos[ab][\"mutation_locations\"] = [(mut[1], mut[2:-1]) for mut in infos[ab][\"unique_mutations\"] if mut != \"\"]"
   ]
  },
  {
   "cell_type": "markdown",
   "id": "e6d7c946",
   "metadata": {},
   "source": [
    "## Interface analysis\n",
    "\n",
    "Get residues that are present in the interface (AB residue <10A distance to AG residue)"
   ]
  },
  {
   "cell_type": "code",
   "execution_count": 5,
   "id": "5ad20b40",
   "metadata": {},
   "outputs": [],
   "source": [
    "from abag_affinity.utils.pdb_processing import get_residue_infos, get_distances, get_residue_edge_encodings, get_atom_encodings, get_atom_edge_encodings\n",
    "from abag_affinity.utils.pdb_reader import read_file"
   ]
  },
  {
   "cell_type": "code",
   "execution_count": 6,
   "id": "542da57f",
   "metadata": {},
   "outputs": [],
   "source": [
    "for ab, info in infos.items():\n",
    "    structure_file = info[\"pdb\"]\n",
    "    structure, header = read_file(\"struct\", os.path.join(resourde_pdb_path, structure_file))\n",
    "    structure_info, residue_infos, residue_atom_coordinates = get_residue_infos(structure, header, chain_id2protein)\n",
    "    atom_encodings, atom_names = get_atom_encodings(residue_infos, structure_info, chain_id2protein)\n",
    "    distances, closest_residue_indices = get_distances(residue_infos, residue_distance=False, ca_distance=False)\n",
    "    A = get_atom_edge_encodings(distances, atom_encodings, distance_cutoff=5)\n",
    "    infos[ab][\"residue_infos\"] = residue_infos\n",
    "    infos[ab][\"atom_encodings\"] = atom_encodings\n",
    "    infos[ab][\"atom_names\"] = atom_names\n",
    "    infos[ab][\"distances\"] = distances\n",
    "    infos[ab][\"A\"] = A\n",
    "    infos[ab][\"structure\"] = structure"
   ]
  },
  {
   "cell_type": "code",
   "execution_count": 7,
   "id": "369c14d9",
   "metadata": {},
   "outputs": [],
   "source": [
    "for ab, info in infos.items():\n",
    "\n",
    "    residue_distances, _ = get_distances(info[\"residue_infos\"], residue_distance=True, ca_distance=False)\n",
    "\n",
    "    contact_map = residue_distances < distance_cutoff\n",
    "    interface_distances = np.zeros_like(residue_distances)\n",
    "    interface_distances[contact_map] = residue_distances[contact_map]\n",
    "    infos[ab][\"interface_distances\"] = interface_distances"
   ]
  },
  {
   "cell_type": "markdown",
   "id": "8c4f4814",
   "metadata": {},
   "source": [
    "#### Visualize Interface contacts"
   ]
  },
  {
   "cell_type": "code",
   "execution_count": 8,
   "id": "a34dc747",
   "metadata": {},
   "outputs": [
    {
     "data": {
      "image/png": "[encoded data removed]",
      "text/plain": [
       "<Figure size 432x288 with 2 Axes>"
      ]
     },
     "metadata": {
      "needs_background": "light"
     },
     "output_type": "display_data"
    },
    {
     "data": {
      "image/png": "[encoded data removed]",
      "text/plain": [
       "<Figure size 432x288 with 2 Axes>"
      ]
     },
     "metadata": {
      "needs_background": "light"
     },
     "output_type": "display_data"
    }
   ],
   "source": [
    "from matplotlib.patches import Rectangle\n",
    "import matplotlib.pyplot as plt\n",
    "import seaborn as sns\n",
    "\n",
    "for i, (ab, info) in enumerate(infos.items()):\n",
    "    structure = info[\"structure\"]\n",
    "\n",
    "    chain_lengths = []\n",
    "    for chain in structure.get_chains():\n",
    "        residue_list = list(chain.get_residues())\n",
    "        chain_name = chain.id\n",
    "        chain_lengths.append((len(residue_list), chain_name))\n",
    "    plt.figure(i)\n",
    "    ax = sns.heatmap(info[\"interface_distances\"])\n",
    "    ax.set_title(ab)\n",
    "    total_length = 0\n",
    "    for length, chain_name in chain_lengths:\n",
    "        plt.text(total_length + 10, total_length - 5, chain_name, color=\"r\")\n",
    "        rect = Rectangle((total_length, total_length), length, length, linewidth=1, edgecolor='r', facecolor='none')\n",
    "        total_length += length\n",
    "        ax.add_patch(rect)\n",
    "\n",
    "plt.show()"
   ]
  },
  {
   "cell_type": "markdown",
   "id": "d77da769",
   "metadata": {},
   "source": [
    "## Filter mutations in interface"
   ]
  },
  {
   "cell_type": "code",
   "execution_count": 9,
   "id": "cce2143e",
   "metadata": {},
   "outputs": [],
   "source": [
    "def filter_interface(A, unique_mutations):\n",
    "    interface = A[0, :, :] - A[2, :, :]\n",
    "    interface_atoms = np.where(interface > 0.001)[0]\n",
    "\n",
    "    interface_atoms = np.unique(interface_atoms)\n",
    "\n",
    "    interface_hull = np.where(A[3, interface_atoms, :] < interface_hull_size)\n",
    "    interface_hull_atoms = np.unique(interface_hull[1])\n",
    "    \n",
    "    \n",
    "    interface_residues = set()\n",
    "\n",
    "    for atom in interface_hull_atoms:\n",
    "        res_index = int(atom_encodings[atom][-1])\n",
    "        node_info = residue_infos[res_index]\n",
    "        residue_id = node_info[\"residue_id\"]\n",
    "        atom_name = atom_names[atom]\n",
    "        chain_id = node_info[\"chain_id\"]\n",
    "\n",
    "        interface_residues.add((chain_id, residue_id))\n",
    "        \n",
    "    pdb_id = structure_file.split(\".\")[0]\n",
    "\n",
    "    select = f\"select res_hull, \"\n",
    "\n",
    "    for chain_id, res_id in interface_residues:\n",
    "\n",
    "        select += f\"({pdb_id} and chain {chain_id} and resi {res_id}) OR \"\n",
    "        \n",
    "    mutations_in_interface = []\n",
    "\n",
    "    for mutation in unique_mutations:\n",
    "        if mutation == \"\":\n",
    "            mutations_in_interface.append(mutation)\n",
    "            continue\n",
    "        chain = mutation[1]\n",
    "        chain_idx = int(mutation[2:-1])\n",
    "\n",
    "        if (chain, chain_idx) in interface_residues:\n",
    "            mutations_in_interface.append(mutation)\n",
    "            \n",
    "    mutations_not_in_interface = set(unique_mutations) - set(mutations_in_interface)\n",
    "    \n",
    "    return mutations_in_interface, mutations_not_in_interface\n"
   ]
  },
  {
   "cell_type": "code",
   "execution_count": 10,
   "id": "8e86b514",
   "metadata": {},
   "outputs": [
    {
     "name": "stdout",
     "output_type": "stream",
     "text": [
      "cr9114 antibody: 14 of 17 mutations are in interface hull\n",
      "cr6261 antibody: 11 of 12 mutations are in interface hull\n"
     ]
    }
   ],
   "source": [
    "for ab, info in infos.items():\n",
    "    infos[ab][\"mutations_in_interface\"], infos[ab][\"mutations_not_in_interface\"] = filter_interface(info[\"A\"], info[\"unique_mutations\"])\n",
    "    print(f\"{ab} antibody: {len(infos[ab]['mutations_in_interface'])} of {len(infos[ab]['unique_mutations'])} mutations are in interface hull\")"
   ]
  },
  {
   "cell_type": "code",
   "execution_count": 11,
   "id": "70139b60",
   "metadata": {},
   "outputs": [],
   "source": [
    "def only_interface_mutations(row, ab):\n",
    "    mutations = row[\"scfv_mutations\"].split(\";\")\n",
    "    for mutation in mutations:\n",
    "        if mutation not in infos[ab][\"mutations_in_interface\"]:\n",
    "            return False\n",
    "    \n",
    "    return True\n",
    "\n",
    "\n",
    "relevant_cols = {\n",
    "    \"cr9114\": [\"h1_mean\", \"h3_mean\", \"fluB_mean\"],\n",
    "    \"cr6261\": [\"h1_mean\", \"h9_mean\"]\n",
    "}\n",
    "\n",
    "col2pdb = {\n",
    "    \"cr9114\":{\n",
    "        \"h1\": \"newcal1999\",\n",
    "        \"h3\": \"wiscons2005\",\n",
    "        \"fluB\": \"ohio2005\",\n",
    "    },\n",
    "    \"cr6261\":{\n",
    "        \"h1\": \"newcal1999\",\n",
    "        \"h9\": \"hongkong1999\"\n",
    "    }\n",
    "}\n",
    "\n",
    "mutation_dfs = []\n",
    "\n",
    "for ab, summary_df in data_df.items():\n",
    "    summary_df[\"mutations_in_interface\"] = summary_df.apply(lambda row: only_interface_mutations(row, ab), axis=1)\n",
    "    cleaned_df = summary_df[summary_df[\"mutations_in_interface\"]].copy()\n",
    "    cleaned_df = cleaned_df[relevant_cols[ab] + [\"scfv_mutations\"]]\n",
    "    cleaned_df[\"antibody_id\"] = ab\n",
    "    cleaned_df[\"mutation_code\"] = cleaned_df[\"scfv_mutations\"]\n",
    "    for col, pdb_name in col2pdb[ab].items():\n",
    "        col += \"_mean\"\n",
    "        mutation_df = cleaned_df[[\"antibody_id\", col, \"mutation_code\"]].copy()\n",
    "        mutation_df[\"pdb_file\"] = pdb_name\n",
    "        mutation_df.rename(columns = {col: \"-log(Kd)\"}, inplace = True)\n",
    "        mutation_df = mutation_df[~mutation_df[\"-log(Kd)\"].isna()]\n",
    "        mutation_df = mutation_df[[\"antibody_id\", \"pdb_file\", \"mutation_code\", \"-log(Kd)\"]]\n",
    "        mutation_df[\"chain_infos\"] = str(chain_id2protein)\n",
    "        mutation_dfs.append(mutation_df)\n",
    "    data_df[ab] = cleaned_df"
   ]
  },
  {
   "cell_type": "markdown",
   "id": "95f72efe",
   "metadata": {},
   "source": [
    "### Convert to standard format"
   ]
  },
  {
   "cell_type": "code",
   "execution_count": 12,
   "id": "a0a5828f",
   "metadata": {},
   "outputs": [],
   "source": [
    "def get_filename(row):\n",
    "    if row[\"mutation_code\"] == \"\":\n",
    "        return row[\"pdb\"] + \".pdb\"\n",
    "    else:\n",
    "        return row[\"pdb\"] + \"_\" + row[\"mutation_code\"] + \".pdb\""
   ]
  },
  {
   "cell_type": "code",
   "execution_count": 13,
   "id": "5a3f58f4",
   "metadata": {},
   "outputs": [],
   "source": [
    "final_df = pd.concat(mutation_dfs).reset_index(drop=True)\n",
    "\n",
    "final_df[\"pdb\"] = final_df.apply(lambda row: row[\"antibody_id\"] + \"_\" + row[\"pdb_file\"], axis=1)\n",
    "\n",
    "final_df[\"data_location\"] = \"DATA\"\n",
    "final_df.loc[final_df[\"mutation_code\"] == \"\", \"data_location\"] = \"RESOURCES\"\n",
    "\n",
    "final_df[\"filename\"] = final_df.apply(get_filename, axis=1)\n",
    "\n",
    "converted_df = final_df[[\"pdb\", \"data_location\", \"filename\", \"-log(Kd)\", \"chain_infos\", \"mutation_code\"]]"
   ]
  },
  {
   "cell_type": "code",
   "execution_count": 14,
   "id": "fe4554fa",
   "metadata": {},
   "outputs": [],
   "source": [
    "def get_index(row):\n",
    "    if row[\"mutation_code\"] == \"\":\n",
    "        return row[\"pdb\"]\n",
    "    else:\n",
    "        return row[\"pdb\"] + \"-\" + row[\"mutation_code\"].lower()\n",
    "\n",
    "converted_df[\"index\"] = converted_df.apply(get_index, axis=1)\n",
    "converted_df = converted_df.set_index(\"index\")\n",
    "converted_df.index.name = \"\""
   ]
  },
  {
   "cell_type": "code",
   "execution_count": 16,
   "id": "c970c8dc",
   "metadata": {},
   "outputs": [],
   "source": [
    "data_path, [pdb_path] = get_data_paths(config, \"DMS_phillips21\")\n",
    "Path(pdb_path).mkdir(exist_ok=True, parents=True)\n",
    "\n",
    "converted_df.to_csv(data_path)"
   ]
  },
  {
   "cell_type": "markdown",
   "id": "a72bc843",
   "metadata": {},
   "source": [
    "### Plot Distribution of -log(Kd) values"
   ]
  },
  {
   "cell_type": "code",
   "execution_count": 17,
   "id": "002cd34f",
   "metadata": {},
   "outputs": [],
   "source": [
    "all_complexes = final_df.apply(lambda row: row[\"antibody_id\"] + \"_\" + row[\"pdb_file\"], axis=1).tolist()\n",
    "all_mutations = final_df.apply(lambda row: row[\"mutation_code\"], axis=1)\n",
    "unique_complexes = all_mutations.unique().tolist()\n",
    "all_mutations = all_mutations.tolist()"
   ]
  },
  {
   "cell_type": "code",
   "execution_count": 18,
   "id": "281ee3e0",
   "metadata": {},
   "outputs": [
    {
     "data": {
      "text/plain": [
       "array([[<AxesSubplot:title={'center':'cr6261_hongkong1999'}>,\n",
       "        <AxesSubplot:title={'center':'cr6261_newcal1999'}>],\n",
       "       [<AxesSubplot:title={'center':'cr9114_newcal1999'}>,\n",
       "        <AxesSubplot:title={'center':'cr9114_ohio2005'}>],\n",
       "       [<AxesSubplot:title={'center':'cr9114_wiscons2005'}>,\n",
       "        <AxesSubplot:>]], dtype=object)"
      ]
     },
     "execution_count": 18,
     "metadata": {},
     "output_type": "execute_result"
    },
    {
     "data": {
      "image/png": "[encoded data removed]",
      "text/plain": [
       "<Figure size 1440x1080 with 6 Axes>"
      ]
     },
     "metadata": {
      "needs_background": "light"
     },
     "output_type": "display_data"
    }
   ],
   "source": [
    "groups = final_df.apply(lambda row: row[\"antibody_id\"] + \"_\" + row[\"pdb_file\"], axis=1)\n",
    "\n",
    "final_df[\"-log(Kd)\"].hist(bins=10,by=groups, figsize=(20,15))"
   ]
  },
  {
   "cell_type": "markdown",
   "id": "1e0a1bc5",
   "metadata": {},
   "source": [
    "### Test if mutations are correct"
   ]
  },
  {
   "cell_type": "code",
   "execution_count": 19,
   "id": "010fbd97",
   "metadata": {},
   "outputs": [],
   "source": [
    "import pyrosetta\n",
    "from pyrosetta.toolbox.mutants import mutate_residue\n",
    "from pyrosetta.rosetta.core.pose import Pose, add_comment, dump_comment_pdb\n",
    "from typing import List, Dict"
   ]
  },
  {
   "cell_type": "code",
   "execution_count": 20,
   "id": "063d2c27",
   "metadata": {},
   "outputs": [],
   "source": [
    "three2one_code = {'CYS': 'C', 'ASP': 'D', 'SER': 'S', 'GLN': 'Q', 'LYS': 'K',\n",
    "     'ILE': 'I', 'PRO': 'P', 'THR': 'T', 'PHE': 'F', 'ASN': 'N',\n",
    "     'GLY': 'G', 'HIS': 'H', 'LEU': 'L', 'ARG': 'R', 'TRP': 'W',\n",
    "     'ALA': 'A', 'VAL':'V', 'GLU': 'E', 'TYR': 'Y', 'MET': 'M'}\n",
    "\n",
    "\n",
    "def convert_mutations(mutation_code: str):\n",
    "    if len(mutation_code) == 0:\n",
    "        return []\n",
    "\n",
    "    mutation_codes = mutation_code.split(\";\")\n",
    "\n",
    "    decoded_mutations = []\n",
    "    for code in mutation_codes:\n",
    "        mutation_info = {\n",
    "            \"original_amino_acid\": code[0],\n",
    "            \"chain\": code[1],\n",
    "            \"index\": int(code[2:-1]),\n",
    "            \"new_amino_acid\": code[-1],\n",
    "            \"code\": mutation_code\n",
    "        }\n",
    "        decoded_mutations.append(mutation_info)\n",
    "\n",
    "    return decoded_mutations\n",
    "\n",
    "\n",
    "def check_mutation(pose: Pose, mutation):\n",
    "    # check if mutation is correct\n",
    "    original_residue = pose.pdb_rsd((mutation[\"chain\"], mutation[\"index\"])).name().split(\":\")[0]\n",
    "    return three2one_code[original_residue.upper()] == mutation[\"original_amino_acid\"]\n",
    "\n",
    "def load_pose(pdb_path: str) -> pyrosetta.Pose:\n",
    "    try:\n",
    "        pose = pyrosetta.pose_from_pdb(pdb_path)\n",
    "    except RuntimeError:\n",
    "        pose = load_pose_without_header(pdb_path)\n",
    "    testPose = pyrosetta.Pose()\n",
    "    testPose.assign(pose)\n",
    "    return testPose\n",
    "\n",
    "def load_pose_without_header(pdb_path: str):\n",
    "    with open(pdb_path) as f:\n",
    "        lines = f.readlines()\n",
    "\n",
    "    i = 0\n",
    "    while True:\n",
    "        if lines[i][:4] != \"ATOM\":\n",
    "            i += 1\n",
    "        else:\n",
    "            break\n",
    "\n",
    "    new_path = pdb_path.split(\".\")[0] + \"_tmp.pdb\"\n",
    "\n",
    "    with open(new_path, \"w\") as f:\n",
    "        f.writelines(lines[i:])\n",
    "\n",
    "    pose = pyrosetta.pose_from_pdb(new_path)\n",
    "\n",
    "    os.remove(new_path)\n",
    "\n",
    "    return pose"
   ]
  },
  {
   "cell_type": "code",
   "execution_count": 21,
   "id": "134c8fa2",
   "metadata": {},
   "outputs": [
    {
     "name": "stdout",
     "output_type": "stream",
     "text": [
      "PyRosetta-4 2020 [Rosetta PyRosetta4.conda.linux.CentOS.python37.Release 2020.10+release.46415fa3e9decb8b6e91a4e065c15543eb27a461 2020-03-05T09:09:24] retrieved from: http://www.pyrosetta.org\n",
      "(C) Copyright Rosetta Commons Member Institutions. Created in JHU by Sergey Lyskov and PyRosetta Team.\n",
      "Check Mutations...\n",
      "\n",
      "\n",
      "Wrong mutations for cr9114:  0\n",
      "Wrong mutations for cr6261:  0\n"
     ]
    }
   ],
   "source": [
    "pyrosetta.init(extra_options=\"-mute all\")\n",
    "\n",
    "\n",
    "wrong_mutations = []\n",
    "corrected_mutations = []\n",
    "\n",
    "print(\"Check Mutations...\\n\\n\")\n",
    "for ab, info in infos.items():\n",
    "    pose = load_pose(os.path.join(resourde_pdb_path, info[\"pdb\"]))\n",
    "\n",
    "    for mutation in info[\"unique_mutations\"]:\n",
    "        if mutation == \"\":\n",
    "            continue\n",
    "        converted_mut = convert_mutations(mutation)[0]\n",
    "        if not check_mutation(pose, converted_mut):\n",
    "            wrong_mutations.append(converted_mut)\n",
    "            original_residue = pose.pdb_rsd((converted_mut[\"chain\"], converted_mut[\"index\"])).name()\n",
    "            corrected_mutations.append(original_residue)\n",
    "        \n",
    "    print(f\"Wrong mutations for {ab}: \", len(wrong_mutations))"
   ]
  },
  {
   "cell_type": "code",
   "execution_count": null,
   "id": "4235a7ea",
   "metadata": {},
   "outputs": [],
   "source": []
  },
  {
   "cell_type": "code",
   "execution_count": null,
   "id": "0880ad36",
   "metadata": {},
   "outputs": [],
   "source": []
  }
 ],
 "metadata": {
  "kernelspec": {
   "display_name": "Python 3 (ipykernel)",
   "language": "python",
   "name": "python3"
  },
  "language_info": {
   "codemirror_mode": {
    "name": "ipython",
    "version": 3
   },
   "file_extension": ".py",
   "mimetype": "text/x-python",
   "name": "python",
   "nbconvert_exporter": "python",
   "pygments_lexer": "ipython3",
   "version": "3.7.12"
  }
 },
 "nbformat": 4,
 "nbformat_minor": 5
}
