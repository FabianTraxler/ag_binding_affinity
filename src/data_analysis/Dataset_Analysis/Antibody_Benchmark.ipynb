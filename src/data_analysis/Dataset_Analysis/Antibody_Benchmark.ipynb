{
 "cells": [
  {
   "cell_type": "markdown",
   "id": "5d7ed573",
   "metadata": {},
   "source": [
    "# Antibody Benchmark\n",
    "\n",
    "This data is a subset of the Docking Benchmark5.5 containing only Antibody-Antigen Complexes.\n",
    "\n",
    "The excel sheet is downloaded from https://piercelab.ibbr.umd.edu/antibody_benchmark/antibody_benchmark_cases.xlsx (Downloaded 30.04.2022)\n",
    "\n",
    "The PDB Files are downloaded from their GitHub Repository: https://github.com/piercelab/antibody_benchmark (30.04.2022)"
   ]
  },
  {
   "cell_type": "code",
   "execution_count": 1,
   "id": "67b8ca5d",
   "metadata": {},
   "outputs": [],
   "source": [
    "import pandas as pd\n",
    "import yaml\n",
    "import os"
   ]
  },
  {
   "cell_type": "code",
   "execution_count": 2,
   "id": "345b644f",
   "metadata": {},
   "outputs": [],
   "source": [
    "from abag_affinity.utils.config import read_config, get_resources_paths"
   ]
  },
  {
   "cell_type": "code",
   "execution_count": 7,
   "id": "e0cb18e0",
   "metadata": {},
   "outputs": [],
   "source": [
    "config = read_config(\"../../config.yaml\")\n",
    "# define filepaths\n",
    "summary_path, pdb_path = get_resources_paths(config, \"AntibodyBenchmark\")"
   ]
  },
  {
   "cell_type": "code",
   "execution_count": 8,
   "id": "efc592f1",
   "metadata": {},
   "outputs": [
    {
     "data": {
      "text/plain": [
       "'/home/fabian/Desktop/Uni/Masterthesis/ag_binding_affinity/resources/antibody_benchmark/antibody_benchmark_cases.xlsx'"
      ]
     },
     "execution_count": 8,
     "metadata": {},
     "output_type": "execute_result"
    }
   ],
   "source": [
    "summary_path"
   ]
  },
  {
   "cell_type": "code",
   "execution_count": 9,
   "id": "62220c9e",
   "metadata": {},
   "outputs": [
    {
     "name": "stdout",
     "output_type": "stream",
     "text": [
      "There are 67 ab-ag cases\n"
     ]
    },
    {
     "data": {
      "text/html": [
       "<div>\n",
       "<style scoped>\n",
       "    .dataframe tbody tr th:only-of-type {\n",
       "        vertical-align: middle;\n",
       "    }\n",
       "\n",
       "    .dataframe tbody tr th {\n",
       "        vertical-align: top;\n",
       "    }\n",
       "\n",
       "    .dataframe thead th {\n",
       "        text-align: right;\n",
       "    }\n",
       "</style>\n",
       "<table border=\"1\" class=\"dataframe\">\n",
       "  <thead>\n",
       "    <tr style=\"text-align: right;\">\n",
       "      <th></th>\n",
       "      <th>Complex PDB</th>\n",
       "      <th>Antibody PDB</th>\n",
       "      <th>Antibody</th>\n",
       "      <th>Antigen PDB</th>\n",
       "      <th>Antigen</th>\n",
       "      <th>I-RMSD (Å)</th>\n",
       "      <th>ΔASA (Å2)</th>\n",
       "      <th>Category</th>\n",
       "      <th>New</th>\n",
       "      <th>Kd (nM)</th>\n",
       "      <th>ΔG (kcal/mol)</th>\n",
       "    </tr>\n",
       "  </thead>\n",
       "  <tbody>\n",
       "    <tr>\n",
       "      <th>0</th>\n",
       "      <td>1AHW_AB:C</td>\n",
       "      <td>1FGN_LH</td>\n",
       "      <td>Fab 5g9</td>\n",
       "      <td>1TFH_A</td>\n",
       "      <td>Tissue factor</td>\n",
       "      <td>0.69</td>\n",
       "      <td>1899.0</td>\n",
       "      <td>Rigid</td>\n",
       "      <td>NaN</td>\n",
       "      <td>NaN</td>\n",
       "      <td>-11.55</td>\n",
       "    </tr>\n",
       "    <tr>\n",
       "      <th>1</th>\n",
       "      <td>1DQJ_AB:C</td>\n",
       "      <td>1DQQ_CD</td>\n",
       "      <td>Fab Hyhel63</td>\n",
       "      <td>3LZT_</td>\n",
       "      <td>HEW lysozyme</td>\n",
       "      <td>0.75</td>\n",
       "      <td>1765.0</td>\n",
       "      <td>Rigid</td>\n",
       "      <td>NaN</td>\n",
       "      <td>NaN</td>\n",
       "      <td>-11.67</td>\n",
       "    </tr>\n",
       "    <tr>\n",
       "      <th>2</th>\n",
       "      <td>1E6J_HL:P</td>\n",
       "      <td>1E6O_HL</td>\n",
       "      <td>Fab</td>\n",
       "      <td>1A43_</td>\n",
       "      <td>HIV-1 capsid protein p24</td>\n",
       "      <td>1.05</td>\n",
       "      <td>1245.0</td>\n",
       "      <td>Rigid</td>\n",
       "      <td>NaN</td>\n",
       "      <td>NaN</td>\n",
       "      <td>-10.28</td>\n",
       "    </tr>\n",
       "    <tr>\n",
       "      <th>3</th>\n",
       "      <td>1JPS_HL:T</td>\n",
       "      <td>1JPT_HL</td>\n",
       "      <td>Fab D3H44</td>\n",
       "      <td>1TFH_B</td>\n",
       "      <td>Tissue factor</td>\n",
       "      <td>0.51</td>\n",
       "      <td>1852.0</td>\n",
       "      <td>Rigid</td>\n",
       "      <td>NaN</td>\n",
       "      <td>NaN</td>\n",
       "      <td>-13.64</td>\n",
       "    </tr>\n",
       "    <tr>\n",
       "      <th>4</th>\n",
       "      <td>1MLC_AB:E</td>\n",
       "      <td>1MLB_AB</td>\n",
       "      <td>Fab44.1</td>\n",
       "      <td>3LZT_</td>\n",
       "      <td>HEW lysozyme</td>\n",
       "      <td>0.60</td>\n",
       "      <td>1392.0</td>\n",
       "      <td>Rigid</td>\n",
       "      <td>NaN</td>\n",
       "      <td>NaN</td>\n",
       "      <td>-9.61</td>\n",
       "    </tr>\n",
       "  </tbody>\n",
       "</table>\n",
       "</div>"
      ],
      "text/plain": [
       "  Complex PDB Antibody PDB     Antibody Antigen PDB                   Antigen  \\\n",
       "0   1AHW_AB:C      1FGN_LH      Fab 5g9      1TFH_A             Tissue factor   \n",
       "1   1DQJ_AB:C      1DQQ_CD  Fab Hyhel63       3LZT_              HEW lysozyme   \n",
       "2   1E6J_HL:P      1E6O_HL          Fab       1A43_  HIV-1 capsid protein p24   \n",
       "3   1JPS_HL:T      1JPT_HL    Fab D3H44      1TFH_B             Tissue factor   \n",
       "4   1MLC_AB:E      1MLB_AB      Fab44.1       3LZT_              HEW lysozyme   \n",
       "\n",
       "   I-RMSD (Å)  ΔASA (Å2) Category  New Kd (nM) ΔG (kcal/mol)  \n",
       "0        0.69     1899.0    Rigid  NaN     NaN        -11.55  \n",
       "1        0.75     1765.0    Rigid  NaN     NaN        -11.67  \n",
       "2        1.05     1245.0    Rigid  NaN     NaN        -10.28  \n",
       "3        0.51     1852.0    Rigid  NaN     NaN        -13.64  \n",
       "4        0.60     1392.0    Rigid  NaN     NaN         -9.61  "
      ]
     },
     "execution_count": 9,
     "metadata": {},
     "output_type": "execute_result"
    }
   ],
   "source": [
    "summary_df = pd.read_excel(summary_path)\n",
    "print(\"There are {} ab-ag cases\".format(len(summary_df)))\n",
    "summary_df.head()"
   ]
  },
  {
   "cell_type": "markdown",
   "id": "37d3687e",
   "metadata": {},
   "source": [
    "### Remove all entires without binding affinity"
   ]
  },
  {
   "cell_type": "code",
   "execution_count": 12,
   "id": "2e0dc4c6",
   "metadata": {},
   "outputs": [
    {
     "name": "stdout",
     "output_type": "stream",
     "text": [
      "There are 53 ab-ag cases with affinity\n"
     ]
    }
   ],
   "source": [
    "summary_df = summary_df.replace(\" \", None)\n",
    "summary_df = summary_df[summary_df[\"ΔG (kcal/mol)\"].notnull() & summary_df[\"Kd (nM)\"].notnull()]\n",
    "\n",
    "print(\"There are {} ab-ag cases with affinity\".format(len(summary_df)))"
   ]
  },
  {
   "cell_type": "code",
   "execution_count": 14,
   "id": "95fbdb92",
   "metadata": {},
   "outputs": [],
   "source": [
    "summary_df = summary_df.reset_index(drop=True)"
   ]
  },
  {
   "cell_type": "code",
   "execution_count": 33,
   "id": "74954153",
   "metadata": {},
   "outputs": [],
   "source": [
    "import numpy as np\n",
    "summary_df[\"-log(Kd)\"] = summary_df[\"Kd (nM)\"].apply(lambda x: -np.log(x * 1e-6))\n",
    "summary_df[\"delta_g\"] = summary_df[\"ΔG (kcal/mol)\"].astype(float)"
   ]
  },
  {
   "cell_type": "code",
   "execution_count": 34,
   "id": "18f32030",
   "metadata": {},
   "outputs": [
    {
     "data": {
      "text/html": [
       "<div>\n",
       "<style scoped>\n",
       "    .dataframe tbody tr th:only-of-type {\n",
       "        vertical-align: middle;\n",
       "    }\n",
       "\n",
       "    .dataframe tbody tr th {\n",
       "        vertical-align: top;\n",
       "    }\n",
       "\n",
       "    .dataframe thead th {\n",
       "        text-align: right;\n",
       "    }\n",
       "</style>\n",
       "<table border=\"1\" class=\"dataframe\">\n",
       "  <thead>\n",
       "    <tr style=\"text-align: right;\">\n",
       "      <th></th>\n",
       "      <th>-log(Kd)</th>\n",
       "      <th>delta_g</th>\n",
       "    </tr>\n",
       "  </thead>\n",
       "  <tbody>\n",
       "    <tr>\n",
       "      <th>-log(Kd)</th>\n",
       "      <td>1.000000</td>\n",
       "      <td>-0.993489</td>\n",
       "    </tr>\n",
       "    <tr>\n",
       "      <th>delta_g</th>\n",
       "      <td>-0.993489</td>\n",
       "      <td>1.000000</td>\n",
       "    </tr>\n",
       "  </tbody>\n",
       "</table>\n",
       "</div>"
      ],
      "text/plain": [
       "          -log(Kd)   delta_g\n",
       "-log(Kd)  1.000000 -0.993489\n",
       "delta_g  -0.993489  1.000000"
      ]
     },
     "execution_count": 34,
     "metadata": {},
     "output_type": "execute_result"
    }
   ],
   "source": [
    "summary_df[[\"-log(Kd)\",\"delta_g\"]].corr()"
   ]
  },
  {
   "cell_type": "code",
   "execution_count": 35,
   "id": "9a9725c5",
   "metadata": {},
   "outputs": [
    {
     "data": {
      "text/plain": [
       "<AxesSubplot:ylabel='Frequency'>"
      ]
     },
     "execution_count": 35,
     "metadata": {},
     "output_type": "execute_result"
    },
    {
     "data": {
      "image/png": "[encoded data removed]",
      "text/plain": [
       "<Figure size 432x288 with 1 Axes>"
      ]
     },
     "metadata": {
      "needs_background": "light"
     },
     "output_type": "display_data"
    }
   ],
   "source": [
    "summary_df[\"-log(Kd)\"].plot.hist()"
   ]
  },
  {
   "cell_type": "code",
   "execution_count": null,
   "id": "683f5acc",
   "metadata": {},
   "outputs": [],
   "source": []
  }
 ],
 "metadata": {
  "kernelspec": {
   "display_name": "Python 3 (ipykernel)",
   "language": "python",
   "name": "python3"
  },
  "language_info": {
   "codemirror_mode": {
    "name": "ipython",
    "version": 3
   },
   "file_extension": ".py",
   "mimetype": "text/x-python",
   "name": "python",
   "nbconvert_exporter": "python",
   "pygments_lexer": "ipython3",
   "version": "3.7.12"
  }
 },
 "nbformat": 4,
 "nbformat_minor": 5
}
