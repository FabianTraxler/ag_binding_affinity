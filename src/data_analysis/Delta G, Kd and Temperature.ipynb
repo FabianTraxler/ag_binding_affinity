{
 "cells": [
  {
   "cell_type": "markdown",
   "id": "516be439",
   "metadata": {},
   "source": [
    "# Analysis of correlation between Delta G, Kd and Temperature"
   ]
  },
  {
   "cell_type": "code",
   "execution_count": 1,
   "id": "49fe120a",
   "metadata": {},
   "outputs": [],
   "source": [
    "import pandas as pd\n",
    "import yaml\n",
    "import os\n",
    "from tqdm import tqdm_notebook\n",
    "import numpy as np\n"
   ]
  },
  {
   "cell_type": "code",
   "execution_count": 2,
   "id": "922d01b0",
   "metadata": {},
   "outputs": [],
   "source": [
    "import warnings\n",
    "warnings.filterwarnings(\"ignore\")\n",
    "\n",
    "from abag_affinity.utils.config import read_config, get_data_paths"
   ]
  },
  {
   "cell_type": "code",
   "execution_count": 3,
   "id": "18865e5b",
   "metadata": {},
   "outputs": [],
   "source": [
    "config = read_config(\"../abag_affinity/config.yaml\")\n",
    "sabdab_summary_path, sabdab_pdb_path = get_data_paths(config, \"SAbDab\")\n",
    "abdb_summary_path, abdb_pdb_path = get_data_paths(config, \"AbDb\")"
   ]
  },
  {
   "cell_type": "code",
   "execution_count": 4,
   "id": "9ec2701a",
   "metadata": {},
   "outputs": [],
   "source": [
    "abdb_pdb_ids = os.listdir(abdb_pdb_path)\n",
    "abdb_pdb_ids = set([ pdb_id.split(\"_\")[0].lower() for pdb_id in abdb_pdb_ids])\n",
    "sabdab_df = pd.read_csv(sabdab_summary_path, sep=\"\\t\")\n",
    "sabdab_pdb_ids = set(sabdab_df[\"pdb\"].unique())\n",
    "\n",
    "overlapping_ids = abdb_pdb_ids.intersection(sabdab_pdb_ids)"
   ]
  },
  {
   "cell_type": "code",
   "execution_count": 5,
   "id": "384c0e3f",
   "metadata": {},
   "outputs": [],
   "source": [
    "overlapping_data = sabdab_df[sabdab_df[\"pdb\"].isin(overlapping_ids)].copy()"
   ]
  },
  {
   "cell_type": "code",
   "execution_count": 6,
   "id": "d7c425e6",
   "metadata": {},
   "outputs": [],
   "source": [
    "gas_constant =  8.31446261815324 # 0.0821\n",
    "\n",
    "def calc_temp(row):\n",
    "    kd = row[\"affinity\"]\n",
    "    delta_g = row[\"delta_g\"] * 4184 # convert kcal to joule \n",
    "    return (delta_g / (gas_constant * np.log(kd))) - 273.15 # convert kelvin to celsius\n",
    "\n",
    "def calc_delta_g(row):\n",
    "    delta_g = gas_constant * row[\"temperature_kelvin\"] * np.log(row[\"affinity\"])\n",
    "    return delta_g / 4184 # convert to kcal"
   ]
  },
  {
   "cell_type": "code",
   "execution_count": 7,
   "id": "a3fc5c02",
   "metadata": {},
   "outputs": [
    {
     "data": {
      "text/html": [
       "<div>\n",
       "<style scoped>\n",
       "    .dataframe tbody tr th:only-of-type {\n",
       "        vertical-align: middle;\n",
       "    }\n",
       "\n",
       "    .dataframe tbody tr th {\n",
       "        vertical-align: top;\n",
       "    }\n",
       "\n",
       "    .dataframe thead th {\n",
       "        text-align: right;\n",
       "    }\n",
       "</style>\n",
       "<table border=\"1\" class=\"dataframe\">\n",
       "  <thead>\n",
       "    <tr style=\"text-align: right;\">\n",
       "      <th></th>\n",
       "      <th>temperature</th>\n",
       "      <th>affinity</th>\n",
       "      <th>calc_dg</th>\n",
       "      <th>delta_g</th>\n",
       "    </tr>\n",
       "  </thead>\n",
       "  <tbody>\n",
       "    <tr>\n",
       "      <th>13</th>\n",
       "      <td>25</td>\n",
       "      <td>1.000000e-10</td>\n",
       "      <td>-13.642470</td>\n",
       "      <td>-13.63</td>\n",
       "    </tr>\n",
       "    <tr>\n",
       "      <th>14</th>\n",
       "      <td>25</td>\n",
       "      <td>2.000000e-04</td>\n",
       "      <td>-5.046309</td>\n",
       "      <td>-5.04</td>\n",
       "    </tr>\n",
       "    <tr>\n",
       "      <th>15</th>\n",
       "      <td>25</td>\n",
       "      <td>2.000000e-04</td>\n",
       "      <td>-5.046309</td>\n",
       "      <td>-5.04</td>\n",
       "    </tr>\n",
       "    <tr>\n",
       "      <th>16</th>\n",
       "      <td>25</td>\n",
       "      <td>2.000000e-04</td>\n",
       "      <td>-5.046309</td>\n",
       "      <td>-5.04</td>\n",
       "    </tr>\n",
       "    <tr>\n",
       "      <th>17</th>\n",
       "      <td>25</td>\n",
       "      <td>2.000000e-04</td>\n",
       "      <td>-5.046309</td>\n",
       "      <td>-5.04</td>\n",
       "    </tr>\n",
       "    <tr>\n",
       "      <th>...</th>\n",
       "      <td>...</td>\n",
       "      <td>...</td>\n",
       "      <td>...</td>\n",
       "      <td>...</td>\n",
       "    </tr>\n",
       "    <tr>\n",
       "      <th>1239</th>\n",
       "      <td>37</td>\n",
       "      <td>1.100000e-10</td>\n",
       "      <td>-14.132812</td>\n",
       "      <td>-14.12</td>\n",
       "    </tr>\n",
       "    <tr>\n",
       "      <th>1302</th>\n",
       "      <td>25</td>\n",
       "      <td>1.300000e-09</td>\n",
       "      <td>-12.122776</td>\n",
       "      <td>-12.12</td>\n",
       "    </tr>\n",
       "    <tr>\n",
       "      <th>1307</th>\n",
       "      <td>25</td>\n",
       "      <td>4.100000e-08</td>\n",
       "      <td>-10.077988</td>\n",
       "      <td>-10.07</td>\n",
       "    </tr>\n",
       "    <tr>\n",
       "      <th>1316</th>\n",
       "      <td>22</td>\n",
       "      <td>8.900000e-09</td>\n",
       "      <td>-10.872509</td>\n",
       "      <td>-10.87</td>\n",
       "    </tr>\n",
       "    <tr>\n",
       "      <th>1317</th>\n",
       "      <td>30</td>\n",
       "      <td>7.000000e-10</td>\n",
       "      <td>-12.698998</td>\n",
       "      <td>-12.70</td>\n",
       "    </tr>\n",
       "  </tbody>\n",
       "</table>\n",
       "<p>142 rows × 4 columns</p>\n",
       "</div>"
      ],
      "text/plain": [
       "     temperature      affinity    calc_dg  delta_g\n",
       "13            25  1.000000e-10 -13.642470   -13.63\n",
       "14            25  2.000000e-04  -5.046309    -5.04\n",
       "15            25  2.000000e-04  -5.046309    -5.04\n",
       "16            25  2.000000e-04  -5.046309    -5.04\n",
       "17            25  2.000000e-04  -5.046309    -5.04\n",
       "...          ...           ...        ...      ...\n",
       "1239          37  1.100000e-10 -14.132812   -14.12\n",
       "1302          25  1.300000e-09 -12.122776   -12.12\n",
       "1307          25  4.100000e-08 -10.077988   -10.07\n",
       "1316          22  8.900000e-09 -10.872509   -10.87\n",
       "1317          30  7.000000e-10 -12.698998   -12.70\n",
       "\n",
       "[142 rows x 4 columns]"
      ]
     },
     "execution_count": 7,
     "metadata": {},
     "output_type": "execute_result"
    }
   ],
   "source": [
    "temperature_data = overlapping_data[overlapping_data[\"temperature\"].notnull() & overlapping_data[\"affinity\"].notnull() & ~ overlapping_data[\"temperature\"].isin([\"Unknown\", \"SPR\", \"BLI\"])].copy()\n",
    "temperature_data[\"temperature_kelvin\"] = temperature_data[\"temperature\"].astype(int) + 273.15\n",
    "temperature_data[\"affinity\"] = temperature_data[\"affinity\"].astype(float)\n",
    "\n",
    "temperature_data[\"calc_dg\"] = temperature_data.apply(lambda row: calc_delta_g(row), axis=1)\n",
    "\n",
    "temperature_data[[\"temperature\", \"affinity\", \"calc_dg\", \"delta_g\"]]"
   ]
  },
  {
   "cell_type": "code",
   "execution_count": 8,
   "id": "08f62d79",
   "metadata": {},
   "outputs": [
    {
     "data": {
      "text/plain": [
       "0.9996927244626528"
      ]
     },
     "execution_count": 8,
     "metadata": {},
     "output_type": "execute_result"
    }
   ],
   "source": [
    "temperature_data[\"calc_dg\"].corr(temperature_data[\"delta_g\"])"
   ]
  },
  {
   "cell_type": "code",
   "execution_count": null,
   "id": "71cd62ce",
   "metadata": {},
   "outputs": [],
   "source": []
  }
 ],
 "metadata": {
  "kernelspec": {
   "display_name": "ag_affinity",
   "language": "python",
   "name": "ag_affinity"
  },
  "language_info": {
   "codemirror_mode": {
    "name": "ipython",
    "version": 3
   },
   "file_extension": ".py",
   "mimetype": "text/x-python",
   "name": "python",
   "nbconvert_exporter": "python",
   "pygments_lexer": "ipython3",
   "version": "3.8.10"
  }
 },
 "nbformat": 4,
 "nbformat_minor": 5
}
