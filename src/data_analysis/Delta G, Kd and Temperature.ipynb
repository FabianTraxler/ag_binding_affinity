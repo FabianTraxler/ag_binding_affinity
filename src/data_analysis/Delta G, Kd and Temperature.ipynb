{
 "cells": [
  {
   "cell_type": "markdown",
   "id": "516be439",
   "metadata": {},
   "source": [
    "# Analysis of correlation between Delta G, Kd and Temperature"
   ]
  },
  {
   "cell_type": "code",
   "execution_count": 10,
   "id": "49fe120a",
   "metadata": {},
   "outputs": [],
   "source": [
    "import pandas as pd\n",
    "import yaml\n",
    "import os\n",
    "from tqdm import tqdm_notebook\n",
    "import numpy as np\n"
   ]
  },
  {
   "cell_type": "code",
   "execution_count": 11,
   "id": "922d01b0",
   "metadata": {},
   "outputs": [],
   "source": [
    "import warnings\n",
    "warnings.filterwarnings(\"ignore\")\n",
    "\n",
    "from abag_affinity.utils.config import read_config, get_resources_paths"
   ]
  },
  {
   "cell_type": "code",
   "execution_count": 12,
   "id": "18865e5b",
   "metadata": {},
   "outputs": [],
   "source": [
    "config = read_config(\"../config.yaml\")\n",
    "sabdab_summary_path, sabdab_pdb_path = get_resources_paths(config, \"SAbDab\")\n",
    "abdb_summary_path, abdb_pdb_path = get_resources_paths(config, \"AbDb\")"
   ]
  },
  {
   "cell_type": "code",
   "execution_count": 13,
   "id": "9ec2701a",
   "metadata": {},
   "outputs": [],
   "source": [
    "abdb_pdb_ids = os.listdir(abdb_pdb_path)\n",
    "abdb_pdb_ids = set([ pdb_id.split(\"_\")[0].lower() for pdb_id in abdb_pdb_ids])\n",
    "sabdab_df = pd.read_csv(sabdab_summary_path, sep=\"\\t\")\n",
    "sabdab_pdb_ids = set(sabdab_df[\"pdb\"].unique())\n",
    "\n",
    "overlapping_ids = abdb_pdb_ids.intersection(sabdab_pdb_ids)"
   ]
  },
  {
   "cell_type": "code",
   "execution_count": 14,
   "id": "384c0e3f",
   "metadata": {},
   "outputs": [],
   "source": [
    "overlapping_data = sabdab_df[sabdab_df[\"pdb\"].isin(overlapping_ids)].copy()"
   ]
  },
  {
   "cell_type": "code",
   "execution_count": 30,
   "id": "d7c425e6",
   "metadata": {},
   "outputs": [],
   "source": [
    "gas_constant =  8.31446261815324 # 0.0821\n",
    "\n",
    "def calc_temp(row):\n",
    "    kd = row[\"affinity\"]\n",
    "    delta_g = row[\"delta_g\"] * 4184 # convert kcal to joule \n",
    "    return (delta_g / (gas_constant * np.log(1/kd))) - 273.15 # convert kelvin to celsius\n",
    "\n",
    "def calc_delta_g(row):\n",
    "    delta_g = -1 * gas_constant * row[\"temperature_kelvin\"] * np.log(1 / row[\"affinity\"])\n",
    "    return delta_g / 4184 # convert to kcal"
   ]
  },
  {
   "cell_type": "code",
   "execution_count": 31,
   "id": "a3fc5c02",
   "metadata": {},
   "outputs": [
    {
     "data": {
      "text/html": [
       "<div>\n",
       "<style scoped>\n",
       "    .dataframe tbody tr th:only-of-type {\n",
       "        vertical-align: middle;\n",
       "    }\n",
       "\n",
       "    .dataframe tbody tr th {\n",
       "        vertical-align: top;\n",
       "    }\n",
       "\n",
       "    .dataframe thead th {\n",
       "        text-align: right;\n",
       "    }\n",
       "</style>\n",
       "<table border=\"1\" class=\"dataframe\">\n",
       "  <thead>\n",
       "    <tr style=\"text-align: right;\">\n",
       "      <th></th>\n",
       "      <th>temperature</th>\n",
       "      <th>affinity</th>\n",
       "      <th>calc_dg</th>\n",
       "      <th>delta_g</th>\n",
       "    </tr>\n",
       "  </thead>\n",
       "  <tbody>\n",
       "    <tr>\n",
       "      <th>13</th>\n",
       "      <td>25</td>\n",
       "      <td>1.000000e-10</td>\n",
       "      <td>-13.642470</td>\n",
       "      <td>-13.63</td>\n",
       "    </tr>\n",
       "    <tr>\n",
       "      <th>98</th>\n",
       "      <td>25</td>\n",
       "      <td>9.100000e-08</td>\n",
       "      <td>-9.605607</td>\n",
       "      <td>-9.60</td>\n",
       "    </tr>\n",
       "    <tr>\n",
       "      <th>99</th>\n",
       "      <td>25</td>\n",
       "      <td>9.100000e-08</td>\n",
       "      <td>-9.605607</td>\n",
       "      <td>-9.60</td>\n",
       "    </tr>\n",
       "    <tr>\n",
       "      <th>124</th>\n",
       "      <td>25</td>\n",
       "      <td>6.200000e-09</td>\n",
       "      <td>-11.197205</td>\n",
       "      <td>-11.19</td>\n",
       "    </tr>\n",
       "    <tr>\n",
       "      <th>133</th>\n",
       "      <td>25</td>\n",
       "      <td>4.000000e-06</td>\n",
       "      <td>-7.364124</td>\n",
       "      <td>-7.80</td>\n",
       "    </tr>\n",
       "    <tr>\n",
       "      <th>...</th>\n",
       "      <td>...</td>\n",
       "      <td>...</td>\n",
       "      <td>...</td>\n",
       "      <td>...</td>\n",
       "    </tr>\n",
       "    <tr>\n",
       "      <th>1239</th>\n",
       "      <td>37</td>\n",
       "      <td>1.100000e-10</td>\n",
       "      <td>-14.132812</td>\n",
       "      <td>-14.12</td>\n",
       "    </tr>\n",
       "    <tr>\n",
       "      <th>1302</th>\n",
       "      <td>25</td>\n",
       "      <td>1.300000e-09</td>\n",
       "      <td>-12.122776</td>\n",
       "      <td>-12.12</td>\n",
       "    </tr>\n",
       "    <tr>\n",
       "      <th>1307</th>\n",
       "      <td>25</td>\n",
       "      <td>4.100000e-08</td>\n",
       "      <td>-10.077988</td>\n",
       "      <td>-10.07</td>\n",
       "    </tr>\n",
       "    <tr>\n",
       "      <th>1316</th>\n",
       "      <td>22</td>\n",
       "      <td>8.900000e-09</td>\n",
       "      <td>-10.872509</td>\n",
       "      <td>-10.87</td>\n",
       "    </tr>\n",
       "    <tr>\n",
       "      <th>1317</th>\n",
       "      <td>30</td>\n",
       "      <td>7.000000e-10</td>\n",
       "      <td>-12.698998</td>\n",
       "      <td>-12.70</td>\n",
       "    </tr>\n",
       "  </tbody>\n",
       "</table>\n",
       "<p>128 rows × 4 columns</p>\n",
       "</div>"
      ],
      "text/plain": [
       "     temperature      affinity    calc_dg  delta_g\n",
       "13            25  1.000000e-10 -13.642470   -13.63\n",
       "98            25  9.100000e-08  -9.605607    -9.60\n",
       "99            25  9.100000e-08  -9.605607    -9.60\n",
       "124           25  6.200000e-09 -11.197205   -11.19\n",
       "133           25  4.000000e-06  -7.364124    -7.80\n",
       "...          ...           ...        ...      ...\n",
       "1239          37  1.100000e-10 -14.132812   -14.12\n",
       "1302          25  1.300000e-09 -12.122776   -12.12\n",
       "1307          25  4.100000e-08 -10.077988   -10.07\n",
       "1316          22  8.900000e-09 -10.872509   -10.87\n",
       "1317          30  7.000000e-10 -12.698998   -12.70\n",
       "\n",
       "[128 rows x 4 columns]"
      ]
     },
     "execution_count": 31,
     "metadata": {},
     "output_type": "execute_result"
    }
   ],
   "source": [
    "temperature_data = overlapping_data[overlapping_data[\"temperature\"].notnull() & overlapping_data[\"affinity\"].notnull() & ~ overlapping_data[\"temperature\"].isin([\"Unknown\", \"SPR\", \"BLI\"])].copy()\n",
    "temperature_data[\"temperature_kelvin\"] = temperature_data[\"temperature\"].astype(int) + 273.15\n",
    "temperature_data[\"affinity\"] = temperature_data[\"affinity\"].astype(float)\n",
    "\n",
    "temperature_data[\"calc_dg\"] = temperature_data.apply(lambda row: calc_delta_g(row), axis=1)\n",
    "\n",
    "temperature_data[[\"temperature\", \"affinity\", \"calc_dg\", \"delta_g\"]]"
   ]
  },
  {
   "cell_type": "code",
   "execution_count": 32,
   "id": "08f62d79",
   "metadata": {},
   "outputs": [
    {
     "data": {
      "text/plain": [
       "0.9995993874336635"
      ]
     },
     "execution_count": 32,
     "metadata": {},
     "output_type": "execute_result"
    }
   ],
   "source": [
    "temperature_data[\"calc_dg\"].corr(temperature_data[\"delta_g\"])"
   ]
  },
  {
   "cell_type": "code",
   "execution_count": 33,
   "id": "71cd62ce",
   "metadata": {},
   "outputs": [
    {
     "data": {
      "text/plain": [
       "2.302585092994046"
      ]
     },
     "execution_count": 33,
     "metadata": {},
     "output_type": "execute_result"
    }
   ],
   "source": [
    "np.log(10)"
   ]
  },
  {
   "cell_type": "code",
   "execution_count": 34,
   "id": "dda55435",
   "metadata": {},
   "outputs": [
    {
     "data": {
      "text/plain": [
       "-2.3025850929940455"
      ]
     },
     "execution_count": 34,
     "metadata": {},
     "output_type": "execute_result"
    }
   ],
   "source": [
    "np.log(1/10)"
   ]
  },
  {
   "cell_type": "code",
   "execution_count": null,
   "id": "45463c9f",
   "metadata": {},
   "outputs": [],
   "source": []
  }
 ],
 "metadata": {
  "kernelspec": {
   "display_name": "DeepRefine",
   "language": "python",
   "name": "deeprefine"
  },
  "language_info": {
   "codemirror_mode": {
    "name": "ipython",
    "version": 3
   },
   "file_extension": ".py",
   "mimetype": "text/x-python",
   "name": "python",
   "nbconvert_exporter": "python",
   "pygments_lexer": "ipython3",
   "version": "3.8.13"
  }
 },
 "nbformat": 4,
 "nbformat_minor": 5
}
