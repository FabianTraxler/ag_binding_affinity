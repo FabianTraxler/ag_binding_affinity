{
 "cells": [
  {
   "cell_type": "markdown",
   "id": "b978a214",
   "metadata": {},
   "source": [
    "# PDBBind 2020\n",
    "\n",
    "Downloaded from https://pdbbind.oss-cn-hangzhou.aliyuncs.com/download/PDBbind_v2020_PP.tar.gz (Cloud CDN of http://www.pdbbind.org.cn/download/PDBbind_v2020_PP.tar.gz)"
   ]
  },
  {
   "cell_type": "code",
   "execution_count": 2,
   "id": "e8583b6c",
   "metadata": {},
   "outputs": [],
   "source": [
    "import os\n",
    "import pandas as pd\n",
    "from abag_affinity.utils.config import read_config, get_data_paths\n",
    "import matplotlib.pyplot as plt\n",
    "import seaborn as sns\n",
    "\n",
    "config = read_config(\"../../config.yaml\")\n",
    "summary_path = os.path.join(config[\"DATASETS\"][\"path\"], config[\"DATASETS\"][\"PDBBind\"][\"folder_path\"], config[\"DATASETS\"][\"PDBBind\"][\"summary\"])"
   ]
  },
  {
   "cell_type": "code",
   "execution_count": 3,
   "id": "d73ecb13",
   "metadata": {},
   "outputs": [
    {
     "name": "stdout",
     "output_type": "stream",
     "text": [
      "There are 1072 complexes\n"
     ]
    },
    {
     "data": {
      "text/html": [
       "<div>\n",
       "<style scoped>\n",
       "    .dataframe tbody tr th:only-of-type {\n",
       "        vertical-align: middle;\n",
       "    }\n",
       "\n",
       "    .dataframe tbody tr th {\n",
       "        vertical-align: top;\n",
       "    }\n",
       "\n",
       "    .dataframe thead th {\n",
       "        text-align: right;\n",
       "    }\n",
       "</style>\n",
       "<table border=\"1\" class=\"dataframe\">\n",
       "  <thead>\n",
       "    <tr style=\"text-align: right;\">\n",
       "      <th></th>\n",
       "      <th>pdb</th>\n",
       "      <th>filename</th>\n",
       "      <th>-log(Kd)</th>\n",
       "      <th>delta_g</th>\n",
       "      <th>chain_infos</th>\n",
       "      <th>validation</th>\n",
       "      <th>test</th>\n",
       "    </tr>\n",
       "  </thead>\n",
       "  <tbody>\n",
       "    <tr>\n",
       "      <th>2l1l</th>\n",
       "      <td>2l1l</td>\n",
       "      <td>2l1l.pdb</td>\n",
       "      <td>8.154902</td>\n",
       "      <td>-11.125301</td>\n",
       "      <td>{'a': 0, 'b': 1}</td>\n",
       "      <td>0</td>\n",
       "      <td>False</td>\n",
       "    </tr>\n",
       "    <tr>\n",
       "      <th>4k94</th>\n",
       "      <td>4k94</td>\n",
       "      <td>4k94.pdb</td>\n",
       "      <td>9.200659</td>\n",
       "      <td>-12.551972</td>\n",
       "      <td>{'l': 0, 'h': 0, 'c': 1}</td>\n",
       "      <td>12</td>\n",
       "      <td>False</td>\n",
       "    </tr>\n",
       "    <tr>\n",
       "      <th>2j5l</th>\n",
       "      <td>2j5l</td>\n",
       "      <td>2j5l.pdb</td>\n",
       "      <td>7.113509</td>\n",
       "      <td>-9.704584</td>\n",
       "      <td>{'a': 0, 'b': 1, 'c': 1}</td>\n",
       "      <td>3</td>\n",
       "      <td>False</td>\n",
       "    </tr>\n",
       "    <tr>\n",
       "      <th>4rgo</th>\n",
       "      <td>4rgo</td>\n",
       "      <td>4rgo.pdb</td>\n",
       "      <td>8.102373</td>\n",
       "      <td>-11.053638</td>\n",
       "      <td>{'s': 0, 'h': 1, 'l': 1}</td>\n",
       "      <td>0</td>\n",
       "      <td>False</td>\n",
       "    </tr>\n",
       "    <tr>\n",
       "      <th>4hix</th>\n",
       "      <td>4hix</td>\n",
       "      <td>4hix.pdb</td>\n",
       "      <td>6.821023</td>\n",
       "      <td>-9.305560</td>\n",
       "      <td>{'h': 0, 'l': 0, 'a': 1}</td>\n",
       "      <td>0</td>\n",
       "      <td>False</td>\n",
       "    </tr>\n",
       "  </tbody>\n",
       "</table>\n",
       "</div>"
      ],
      "text/plain": [
       "       pdb  filename  -log(Kd)    delta_g               chain_infos  \\\n",
       "2l1l  2l1l  2l1l.pdb  8.154902 -11.125301          {'a': 0, 'b': 1}   \n",
       "4k94  4k94  4k94.pdb  9.200659 -12.551972  {'l': 0, 'h': 0, 'c': 1}   \n",
       "2j5l  2j5l  2j5l.pdb  7.113509  -9.704584  {'a': 0, 'b': 1, 'c': 1}   \n",
       "4rgo  4rgo  4rgo.pdb  8.102373 -11.053638  {'s': 0, 'h': 1, 'l': 1}   \n",
       "4hix  4hix  4hix.pdb  6.821023  -9.305560  {'h': 0, 'l': 0, 'a': 1}   \n",
       "\n",
       "     validation   test  \n",
       "2l1l          0  False  \n",
       "4k94         12  False  \n",
       "2j5l          3  False  \n",
       "4rgo          0  False  \n",
       "4hix          0  False  "
      ]
     },
     "execution_count": 3,
     "metadata": {},
     "output_type": "execute_result"
    }
   ],
   "source": [
    "summary_df = pd.read_csv(summary_path, index_col=0)\n",
    "summary_df[\"validation\"] = summary_df[\"validation\"].astype(str).apply(lambda x: x.split(\".\")[0] if x != \"nan\" else \"0\")\n",
    "print(\"There are {} complexes\".format( len(summary_df[\"pdb\"].unique())))\n",
    "summary_df.head()"
   ]
  },
  {
   "cell_type": "markdown",
   "id": "6732715e",
   "metadata": {},
   "source": [
    "### Affinity distribution"
   ]
  },
  {
   "cell_type": "code",
   "execution_count": 4,
   "id": "f5aecfe5",
   "metadata": {},
   "outputs": [
    {
     "data": {
      "image/png": "[encoded data removed]",
      "text/plain": [
       "<Figure size 432x288 with 1 Axes>"
      ]
     },
     "metadata": {
      "needs_background": "light"
     },
     "output_type": "display_data"
    }
   ],
   "source": [
    "sns.histplot(summary_df, x=\"-log(Kd)\", kde=True, stat=\"percent\")\n",
    "plt.savefig(\"./plots/pdbbind_-log(Kd)_distribution.png\")"
   ]
  },
  {
   "cell_type": "code",
   "execution_count": 5,
   "id": "893cc47c",
   "metadata": {},
   "outputs": [
    {
     "data": {
      "text/plain": [
       "count    1072.000000\n",
       "mean        7.346498\n",
       "std         1.948411\n",
       "min         0.673664\n",
       "25%         6.016707\n",
       "50%         7.301030\n",
       "75%         8.552842\n",
       "max        15.000000\n",
       "Name: -log(Kd), dtype: float64"
      ]
     },
     "execution_count": 5,
     "metadata": {},
     "output_type": "execute_result"
    }
   ],
   "source": [
    "summary_df[\"-log(Kd)\"].describe()"
   ]
  },
  {
   "cell_type": "code",
   "execution_count": 6,
   "id": "542d79a3",
   "metadata": {},
   "outputs": [
    {
     "data": {
      "image/png": "[encoded data removed]",
      "text/plain": [
       "<Figure size 432x288 with 1 Axes>"
      ]
     },
     "metadata": {
      "needs_background": "light"
     },
     "output_type": "display_data"
    }
   ],
   "source": [
    "colors = sns.color_palette()\n",
    "for i in range(4):\n",
    "    val_df = summary_df[summary_df[\"validation\"].str.contains(str(i))]\n",
    "    sns.histplot(val_df, x=\"-log(Kd)\", label=f\"Validation-Set {i}\", color=colors[i], kde=True, stat=\"percent\")\n",
    "\n",
    "plt.legend() \n",
    "plt.savefig(\"./plots/pdbbind_-log(Kd)_distribution_by_val_set.png\")\n",
    "plt.show()"
   ]
  },
  {
   "cell_type": "code",
   "execution_count": null,
   "id": "747ceed5",
   "metadata": {},
   "outputs": [],
   "source": []
  },
  {
   "cell_type": "code",
   "execution_count": null,
   "id": "f58cd357",
   "metadata": {},
   "outputs": [],
   "source": []
  },
  {
   "cell_type": "code",
   "execution_count": null,
   "id": "913e734b",
   "metadata": {},
   "outputs": [],
   "source": []
  },
  {
   "cell_type": "code",
   "execution_count": null,
   "id": "ec937814",
   "metadata": {},
   "outputs": [],
   "source": []
  }
 ],
 "metadata": {
  "kernelspec": {
   "display_name": "Python 3 (ipykernel)",
   "language": "python",
   "name": "python3"
  },
  "language_info": {
   "codemirror_mode": {
    "name": "ipython",
    "version": 3
   },
   "file_extension": ".py",
   "mimetype": "text/x-python",
   "name": "python",
   "nbconvert_exporter": "python",
   "pygments_lexer": "ipython3",
   "version": "3.7.12"
  }
 },
 "nbformat": 4,
 "nbformat_minor": 5
}
