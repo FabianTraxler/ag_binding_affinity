{
 "cells": [
  {
   "cell_type": "markdown",
   "id": "d79cbc1a",
   "metadata": {},
   "source": [
    "# AbAg_Affinity dataset\n",
    "\n",
    "This notebook generates a dataframe containing information about data first version of the Antibody-Antigen_complexes dataset:\n",
    "\n",
    "- Overlap of AbDb data (filtered and enriched abag data) with SAbDab data (affinity values for conformtions) "
   ]
  },
  {
   "cell_type": "code",
   "execution_count": 5,
   "id": "da299287",
   "metadata": {},
   "outputs": [],
   "source": [
    "import os\n",
    "import pandas as pd\n",
    "from abag_affinity.utils.config import read_config, get_data_paths\n",
    "import matplotlib.pyplot as plt\n",
    "import seaborn as sns\n",
    "\n",
    "config = read_config(\"../../config.yaml\")\n",
    "summary_path = os.path.join(config[\"DATASETS\"][\"path\"], config[\"DATASETS\"][\"abag_affinity\"][\"folder_path\"], config[\"DATASETS\"][\"abag_affinity\"][\"summary\"])"
   ]
  },
  {
   "cell_type": "code",
   "execution_count": 7,
   "id": "4f7cee0f",
   "metadata": {},
   "outputs": [
    {
     "name": "stdout",
     "output_type": "stream",
     "text": [
      "                pdb antibody_chains antigen_chains  in_dataset  antigen_length\n",
      "abdb_filename                                                                 \n",
      "5C0S_1.pdb     5c0s      ['L', 'H']          ['A']        True             242\n",
      "4AM0_2.pdb     4am0      ['L', 'H']          ['S']        True              92\n",
      "4M1D_1.pdb     4m1d      ['L', 'H']          ['P']        True              14\n",
      "4YPG_1.pdb     4ypg      ['L', 'H']          ['D']        True             161\n",
      "5CJQ_1.pdb     5cjq      ['L', 'H']     ['A', 'B']        True             206\n",
      "...             ...             ...            ...         ...             ...\n",
      "4RQS_1.pdb     4rqs      ['L', 'H']          ['G']       False             295\n",
      "3ZE0_1.pdb     3ze0      ['L', 'H']          ['A']       False             455\n",
      "5XCQ_1.pdb     5xcq      ['L', 'H']          ['C']       False               6\n",
      "6N8D_1.pdb     6n8d      ['L', 'H']          ['C']       False             306\n",
      "5MUB_3.pdb     5mub      ['L', 'H']          ['T']       False               9\n",
      "\n",
      "[3000 rows x 5 columns]\n"
     ]
    },
    {
     "ename": "KeyError",
     "evalue": "'validation'",
     "output_type": "error",
     "traceback": [
      "\u001b[0;31m---------------------------------------------------------------------------\u001b[0m",
      "\u001b[0;31mKeyError\u001b[0m                                  Traceback (most recent call last)",
      "File \u001b[0;32m~/anaconda3/envs/ag_binding/lib/python3.8/site-packages/pandas/core/indexes/base.py:3803\u001b[0m, in \u001b[0;36mIndex.get_loc\u001b[0;34m(self, key, method, tolerance)\u001b[0m\n\u001b[1;32m   3802\u001b[0m \u001b[38;5;28;01mtry\u001b[39;00m:\n\u001b[0;32m-> 3803\u001b[0m     \u001b[38;5;28;01mreturn\u001b[39;00m \u001b[38;5;28;43mself\u001b[39;49m\u001b[38;5;241;43m.\u001b[39;49m\u001b[43m_engine\u001b[49m\u001b[38;5;241;43m.\u001b[39;49m\u001b[43mget_loc\u001b[49m\u001b[43m(\u001b[49m\u001b[43mcasted_key\u001b[49m\u001b[43m)\u001b[49m\n\u001b[1;32m   3804\u001b[0m \u001b[38;5;28;01mexcept\u001b[39;00m \u001b[38;5;167;01mKeyError\u001b[39;00m \u001b[38;5;28;01mas\u001b[39;00m err:\n",
      "File \u001b[0;32m~/anaconda3/envs/ag_binding/lib/python3.8/site-packages/pandas/_libs/index.pyx:138\u001b[0m, in \u001b[0;36mpandas._libs.index.IndexEngine.get_loc\u001b[0;34m()\u001b[0m\n",
      "File \u001b[0;32m~/anaconda3/envs/ag_binding/lib/python3.8/site-packages/pandas/_libs/index.pyx:165\u001b[0m, in \u001b[0;36mpandas._libs.index.IndexEngine.get_loc\u001b[0;34m()\u001b[0m\n",
      "File \u001b[0;32mpandas/_libs/hashtable_class_helper.pxi:5745\u001b[0m, in \u001b[0;36mpandas._libs.hashtable.PyObjectHashTable.get_item\u001b[0;34m()\u001b[0m\n",
      "File \u001b[0;32mpandas/_libs/hashtable_class_helper.pxi:5753\u001b[0m, in \u001b[0;36mpandas._libs.hashtable.PyObjectHashTable.get_item\u001b[0;34m()\u001b[0m\n",
      "\u001b[0;31mKeyError\u001b[0m: 'validation'",
      "\nThe above exception was the direct cause of the following exception:\n",
      "\u001b[0;31mKeyError\u001b[0m                                  Traceback (most recent call last)",
      "Cell \u001b[0;32mIn[7], line 3\u001b[0m\n\u001b[1;32m      1\u001b[0m summary_df \u001b[38;5;241m=\u001b[39m pd\u001b[38;5;241m.\u001b[39mread_csv(summary_path, index_col\u001b[38;5;241m=\u001b[39m\u001b[38;5;241m0\u001b[39m)\n\u001b[1;32m      2\u001b[0m \u001b[38;5;28mprint\u001b[39m(summary_df)\n\u001b[0;32m----> 3\u001b[0m summary_df[\u001b[38;5;124m\"\u001b[39m\u001b[38;5;124mvalidation\u001b[39m\u001b[38;5;124m\"\u001b[39m] \u001b[38;5;241m=\u001b[39m \u001b[43msummary_df\u001b[49m\u001b[43m[\u001b[49m\u001b[38;5;124;43m\"\u001b[39;49m\u001b[38;5;124;43mvalidation\u001b[39;49m\u001b[38;5;124;43m\"\u001b[39;49m\u001b[43m]\u001b[49m\u001b[38;5;241m.\u001b[39mastype(\u001b[38;5;28mstr\u001b[39m)\u001b[38;5;241m.\u001b[39mapply(\u001b[38;5;28;01mlambda\u001b[39;00m x: x\u001b[38;5;241m.\u001b[39msplit(\u001b[38;5;124m\"\u001b[39m\u001b[38;5;124m.\u001b[39m\u001b[38;5;124m\"\u001b[39m)[\u001b[38;5;241m0\u001b[39m] \u001b[38;5;28;01mif\u001b[39;00m x \u001b[38;5;241m!=\u001b[39m \u001b[38;5;124m\"\u001b[39m\u001b[38;5;124mnan\u001b[39m\u001b[38;5;124m\"\u001b[39m \u001b[38;5;28;01melse\u001b[39;00m \u001b[38;5;124m\"\u001b[39m\u001b[38;5;124m0\u001b[39m\u001b[38;5;124m\"\u001b[39m)\n\u001b[1;32m      4\u001b[0m summary_df\u001b[38;5;241m.\u001b[39mhead()\n",
      "File \u001b[0;32m~/anaconda3/envs/ag_binding/lib/python3.8/site-packages/pandas/core/frame.py:3805\u001b[0m, in \u001b[0;36mDataFrame.__getitem__\u001b[0;34m(self, key)\u001b[0m\n\u001b[1;32m   3803\u001b[0m \u001b[38;5;28;01mif\u001b[39;00m \u001b[38;5;28mself\u001b[39m\u001b[38;5;241m.\u001b[39mcolumns\u001b[38;5;241m.\u001b[39mnlevels \u001b[38;5;241m>\u001b[39m \u001b[38;5;241m1\u001b[39m:\n\u001b[1;32m   3804\u001b[0m     \u001b[38;5;28;01mreturn\u001b[39;00m \u001b[38;5;28mself\u001b[39m\u001b[38;5;241m.\u001b[39m_getitem_multilevel(key)\n\u001b[0;32m-> 3805\u001b[0m indexer \u001b[38;5;241m=\u001b[39m \u001b[38;5;28;43mself\u001b[39;49m\u001b[38;5;241;43m.\u001b[39;49m\u001b[43mcolumns\u001b[49m\u001b[38;5;241;43m.\u001b[39;49m\u001b[43mget_loc\u001b[49m\u001b[43m(\u001b[49m\u001b[43mkey\u001b[49m\u001b[43m)\u001b[49m\n\u001b[1;32m   3806\u001b[0m \u001b[38;5;28;01mif\u001b[39;00m is_integer(indexer):\n\u001b[1;32m   3807\u001b[0m     indexer \u001b[38;5;241m=\u001b[39m [indexer]\n",
      "File \u001b[0;32m~/anaconda3/envs/ag_binding/lib/python3.8/site-packages/pandas/core/indexes/base.py:3805\u001b[0m, in \u001b[0;36mIndex.get_loc\u001b[0;34m(self, key, method, tolerance)\u001b[0m\n\u001b[1;32m   3803\u001b[0m     \u001b[38;5;28;01mreturn\u001b[39;00m \u001b[38;5;28mself\u001b[39m\u001b[38;5;241m.\u001b[39m_engine\u001b[38;5;241m.\u001b[39mget_loc(casted_key)\n\u001b[1;32m   3804\u001b[0m \u001b[38;5;28;01mexcept\u001b[39;00m \u001b[38;5;167;01mKeyError\u001b[39;00m \u001b[38;5;28;01mas\u001b[39;00m err:\n\u001b[0;32m-> 3805\u001b[0m     \u001b[38;5;28;01mraise\u001b[39;00m \u001b[38;5;167;01mKeyError\u001b[39;00m(key) \u001b[38;5;28;01mfrom\u001b[39;00m \u001b[38;5;21;01merr\u001b[39;00m\n\u001b[1;32m   3806\u001b[0m \u001b[38;5;28;01mexcept\u001b[39;00m \u001b[38;5;167;01mTypeError\u001b[39;00m:\n\u001b[1;32m   3807\u001b[0m     \u001b[38;5;66;03m# If we have a listlike key, _check_indexing_error will raise\u001b[39;00m\n\u001b[1;32m   3808\u001b[0m     \u001b[38;5;66;03m#  InvalidIndexError. Otherwise we fall through and re-raise\u001b[39;00m\n\u001b[1;32m   3809\u001b[0m     \u001b[38;5;66;03m#  the TypeError.\u001b[39;00m\n\u001b[1;32m   3810\u001b[0m     \u001b[38;5;28mself\u001b[39m\u001b[38;5;241m.\u001b[39m_check_indexing_error(key)\n",
      "\u001b[0;31mKeyError\u001b[0m: 'validation'"
     ]
    }
   ],
   "source": [
    "summary_df = pd.read_csv(summary_path, index_col=0)\n",
    "print(summary_df)\n",
    "summary_df[\"validation\"] = summary_df[\"validation\"].astype(str).apply(lambda x: x.split(\".\")[0] if x != \"nan\" else \"0\")\n",
    "summary_df.head()"
   ]
  },
  {
   "cell_type": "code",
   "execution_count": null,
   "id": "fc02f351-e6f8-4f09-b207-c597e1548f51",
   "metadata": {},
   "outputs": [],
   "source": [
    "print(summary_df)"
   ]
  },
  {
   "cell_type": "code",
   "execution_count": 3,
   "id": "fd86a5bd",
   "metadata": {},
   "outputs": [
    {
     "name": "stdout",
     "output_type": "stream",
     "text": [
      "Total lenght of AbAg-Affinity dataset = 385\n"
     ]
    }
   ],
   "source": [
    "num_samples = len(summary_df[\"pdb\"].unique())\n",
    "print(f\"Total lenght of AbAg-Affinity dataset = {num_samples}\")"
   ]
  },
  {
   "cell_type": "code",
   "execution_count": null,
   "id": "b267155f",
   "metadata": {},
   "outputs": [],
   "source": [
    "summary_df.groupby(\"validation\")[\"pdb\"].count()"
   ]
  },
  {
   "cell_type": "markdown",
   "id": "088dd38e",
   "metadata": {},
   "source": [
    "## Affinity distribution"
   ]
  },
  {
   "cell_type": "markdown",
   "id": "8f65786a",
   "metadata": {},
   "source": [
    "### Delta G analysis"
   ]
  },
  {
   "cell_type": "code",
   "execution_count": null,
   "id": "87bcecd1",
   "metadata": {},
   "outputs": [],
   "source": [
    "summary_df[\"delta_g\"].describe()"
   ]
  },
  {
   "cell_type": "code",
   "execution_count": null,
   "id": "53c88ae5",
   "metadata": {},
   "outputs": [],
   "source": [
    "sns.histplot(summary_df, x=\"delta_g\", kde=True)"
   ]
  },
  {
   "cell_type": "code",
   "execution_count": null,
   "id": "ae783520",
   "metadata": {},
   "outputs": [],
   "source": [
    "#summary_df.loc[summary_df[\"validation\"] == 3, \"validation\"] = 2 # only compare to validation set 1 for now\n",
    "sns.histplot(summary_df, x=\"delta_g\", hue=\"validation\", kde=True)"
   ]
  },
  {
   "cell_type": "markdown",
   "id": "fb222477",
   "metadata": {},
   "source": [
    "## -log(Kg) Analyis"
   ]
  },
  {
   "cell_type": "code",
   "execution_count": null,
   "id": "72a697c1",
   "metadata": {},
   "outputs": [],
   "source": [
    "summary_df[\"-log(Kd)\"].describe()"
   ]
  },
  {
   "cell_type": "code",
   "execution_count": null,
   "id": "c4a6cdb1",
   "metadata": {},
   "outputs": [],
   "source": [
    "sns.histplot(summary_df, x=\"-log(Kd)\", stat=\"percent\", kde=True)\n",
    "plt.savefig(\"./plots/abag_affinity_-log(Kd)_distribution.png\")"
   ]
  },
  {
   "cell_type": "code",
   "execution_count": null,
   "id": "1607006d",
   "metadata": {},
   "outputs": [],
   "source": [
    "sns.histplot(summary_df, x=\"-log(Kd)\", hue=\"validation\", stat=\"percent\", kde=True)\n",
    "plt.savefig(\"./plots/abag_affinity_-log(Kd)_distribution_by_val_set.png\")"
   ]
  },
  {
   "cell_type": "code",
   "execution_count": null,
   "id": "d6c74c23",
   "metadata": {},
   "outputs": [],
   "source": [
    "sns.histplot(summary_df, x=\"-log(Kd)\", hue=\"test\", stat=\"percent\",kde=True)\n",
    "plt.savefig(\"./plots/abag_affinity_-log(Kd)_distribution_train_test.png\")"
   ]
  },
  {
   "cell_type": "code",
   "execution_count": null,
   "id": "c4569596-f89a-4f3a-a6b8-5b4eae6ffab1",
   "metadata": {},
   "outputs": [],
   "source": []
  }
 ],
 "metadata": {
  "kernelspec": {
   "display_name": "Python 3 (ipykernel)",
   "language": "python",
   "name": "python3"
  },
  "language_info": {
   "codemirror_mode": {
    "name": "ipython",
    "version": 3
   },
   "file_extension": ".py",
   "mimetype": "text/x-python",
   "name": "python",
   "nbconvert_exporter": "python",
   "pygments_lexer": "ipython3",
   "version": "3.8.16"
  }
 },
 "nbformat": 4,
 "nbformat_minor": 5
}
