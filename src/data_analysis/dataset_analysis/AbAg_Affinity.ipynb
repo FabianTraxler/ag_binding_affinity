{
 "cells": [
  {
   "cell_type": "markdown",
   "id": "d79cbc1a",
   "metadata": {},
   "source": [
    "# AbAg_Affinity dataset\n",
    "\n",
    "This notebook generates a dataframe containing information about data first version of the Antibody-Antigen_complexes dataset:\n",
    "\n",
    "- Overlap of AbDb data (filtered and enriched abag data) with SAbDab data (affinity values for conformtions) "
   ]
  },
  {
   "cell_type": "code",
   "execution_count": 1,
   "id": "da299287",
   "metadata": {},
   "outputs": [],
   "source": [
    "import os\n",
    "import pandas as pd\n",
    "from abag_affinity.utils.config import read_config, get_data_paths\n",
    "import matplotlib.pyplot as plt\n",
    "import seaborn as sns\n",
    "\n",
    "config = read_config(\"../../config.yaml\")\n",
    "summary_path = os.path.join(config[\"DATASETS\"][\"path\"], config[\"DATASETS\"][\"abag_affinity\"][\"folder_path\"], config[\"DATASETS\"][\"abag_affinity\"][\"summary\"])"
   ]
  },
  {
   "cell_type": "code",
   "execution_count": 2,
   "id": "4f7cee0f",
   "metadata": {},
   "outputs": [
    {
     "data": {
      "text/html": [
       "<div>\n",
       "<style scoped>\n",
       "    .dataframe tbody tr th:only-of-type {\n",
       "        vertical-align: middle;\n",
       "    }\n",
       "\n",
       "    .dataframe tbody tr th {\n",
       "        vertical-align: top;\n",
       "    }\n",
       "\n",
       "    .dataframe thead th {\n",
       "        text-align: right;\n",
       "    }\n",
       "</style>\n",
       "<table border=\"1\" class=\"dataframe\">\n",
       "  <thead>\n",
       "    <tr style=\"text-align: right;\">\n",
       "      <th></th>\n",
       "      <th>pdb</th>\n",
       "      <th>filename</th>\n",
       "      <th>chain_infos</th>\n",
       "      <th>-log(Kd)</th>\n",
       "      <th>delta_g</th>\n",
       "      <th>validation</th>\n",
       "      <th>test</th>\n",
       "    </tr>\n",
       "  </thead>\n",
       "  <tbody>\n",
       "    <tr>\n",
       "      <th>1bvk</th>\n",
       "      <td>1bvk</td>\n",
       "      <td>1bvk.pdb</td>\n",
       "      <td>{'h': 0, 'l': 0, 'f': 1}</td>\n",
       "      <td>7.853872</td>\n",
       "      <td>-10.53000</td>\n",
       "      <td>2</td>\n",
       "      <td>False</td>\n",
       "    </tr>\n",
       "    <tr>\n",
       "      <th>1dqj</th>\n",
       "      <td>1dqj</td>\n",
       "      <td>1dqj.pdb</td>\n",
       "      <td>{'h': 0, 'l': 0, 'c': 1}</td>\n",
       "      <td>8.543634</td>\n",
       "      <td>-11.45000</td>\n",
       "      <td>4</td>\n",
       "      <td>False</td>\n",
       "    </tr>\n",
       "    <tr>\n",
       "      <th>1e6j</th>\n",
       "      <td>1e6j</td>\n",
       "      <td>1e6j.pdb</td>\n",
       "      <td>{'h': 0, 'l': 0, 'p': 1}</td>\n",
       "      <td>7.537602</td>\n",
       "      <td>-10.28000</td>\n",
       "      <td>4</td>\n",
       "      <td>False</td>\n",
       "    </tr>\n",
       "    <tr>\n",
       "      <th>1f90</th>\n",
       "      <td>1f90</td>\n",
       "      <td>1f90.pdb</td>\n",
       "      <td>{'h': 0, 'l': 0, 'e': 1}</td>\n",
       "      <td>7.924453</td>\n",
       "      <td>-10.80000</td>\n",
       "      <td>0</td>\n",
       "      <td>True</td>\n",
       "    </tr>\n",
       "    <tr>\n",
       "      <th>1fsk</th>\n",
       "      <td>1fsk</td>\n",
       "      <td>1fsk.pdb</td>\n",
       "      <td>{'h': 0, 'l': 0, 'g': 1}</td>\n",
       "      <td>9.619789</td>\n",
       "      <td>-13.12374</td>\n",
       "      <td>4</td>\n",
       "      <td>False</td>\n",
       "    </tr>\n",
       "  </tbody>\n",
       "</table>\n",
       "</div>"
      ],
      "text/plain": [
       "       pdb  filename               chain_infos  -log(Kd)   delta_g validation  \\\n",
       "1bvk  1bvk  1bvk.pdb  {'h': 0, 'l': 0, 'f': 1}  7.853872 -10.53000          2   \n",
       "1dqj  1dqj  1dqj.pdb  {'h': 0, 'l': 0, 'c': 1}  8.543634 -11.45000          4   \n",
       "1e6j  1e6j  1e6j.pdb  {'h': 0, 'l': 0, 'p': 1}  7.537602 -10.28000          4   \n",
       "1f90  1f90  1f90.pdb  {'h': 0, 'l': 0, 'e': 1}  7.924453 -10.80000          0   \n",
       "1fsk  1fsk  1fsk.pdb  {'h': 0, 'l': 0, 'g': 1}  9.619789 -13.12374          4   \n",
       "\n",
       "       test  \n",
       "1bvk  False  \n",
       "1dqj  False  \n",
       "1e6j  False  \n",
       "1f90   True  \n",
       "1fsk  False  "
      ]
     },
     "execution_count": 2,
     "metadata": {},
     "output_type": "execute_result"
    }
   ],
   "source": [
    "summary_df = pd.read_csv(summary_path, index_col=0)\n",
    "summary_df[\"validation\"] = summary_df[\"validation\"].astype(str).apply(lambda x: x.split(\".\")[0] if x != \"nan\" else \"0\")\n",
    "summary_df.head()"
   ]
  },
  {
   "cell_type": "code",
   "execution_count": 3,
   "id": "fd86a5bd",
   "metadata": {},
   "outputs": [
    {
     "name": "stdout",
     "output_type": "stream",
     "text": [
      "Total lenght of AbAg-Affinity dataset = 385\n"
     ]
    }
   ],
   "source": [
    "num_samples = len(summary_df[\"pdb\"].unique())\n",
    "print(f\"Total lenght of AbAg-Affinity dataset = {num_samples}\")"
   ]
  },
  {
   "cell_type": "code",
   "execution_count": 4,
   "id": "b267155f",
   "metadata": {},
   "outputs": [
    {
     "data": {
      "text/plain": [
       "validation\n",
       "0    50\n",
       "1    83\n",
       "2    83\n",
       "3    83\n",
       "4    86\n",
       "Name: pdb, dtype: int64"
      ]
     },
     "execution_count": 4,
     "metadata": {},
     "output_type": "execute_result"
    }
   ],
   "source": [
    "summary_df.groupby(\"validation\")[\"pdb\"].count()"
   ]
  },
  {
   "cell_type": "markdown",
   "id": "088dd38e",
   "metadata": {},
   "source": [
    "## Affinity distribution"
   ]
  },
  {
   "cell_type": "markdown",
   "id": "8f65786a",
   "metadata": {},
   "source": [
    "### Delta G analysis"
   ]
  },
  {
   "cell_type": "code",
   "execution_count": 5,
   "id": "87bcecd1",
   "metadata": {},
   "outputs": [
    {
     "data": {
      "text/plain": [
       "count    370.000000\n",
       "mean     -11.244302\n",
       "std        1.928487\n",
       "min      -16.056540\n",
       "25%      -12.417858\n",
       "50%      -11.206815\n",
       "75%      -10.033107\n",
       "max       -5.178507\n",
       "Name: delta_g, dtype: float64"
      ]
     },
     "execution_count": 5,
     "metadata": {},
     "output_type": "execute_result"
    }
   ],
   "source": [
    "summary_df[\"delta_g\"].describe()"
   ]
  },
  {
   "cell_type": "code",
   "execution_count": 6,
   "id": "53c88ae5",
   "metadata": {},
   "outputs": [
    {
     "data": {
      "text/plain": [
       "<AxesSubplot:xlabel='delta_g', ylabel='Count'>"
      ]
     },
     "execution_count": 6,
     "metadata": {},
     "output_type": "execute_result"
    },
    {
     "data": {
      "image/png": "[encoded data removed]",
      "text/plain": [
       "<Figure size 432x288 with 1 Axes>"
      ]
     },
     "metadata": {
      "needs_background": "light"
     },
     "output_type": "display_data"
    }
   ],
   "source": [
    "sns.histplot(summary_df, x=\"delta_g\", kde=True)"
   ]
  },
  {
   "cell_type": "code",
   "execution_count": 7,
   "id": "ae783520",
   "metadata": {},
   "outputs": [
    {
     "data": {
      "text/plain": [
       "<AxesSubplot:xlabel='delta_g', ylabel='Count'>"
      ]
     },
     "execution_count": 7,
     "metadata": {},
     "output_type": "execute_result"
    },
    {
     "data": {
      "image/png": "[encoded data removed]",
      "text/plain": [
       "<Figure size 432x288 with 1 Axes>"
      ]
     },
     "metadata": {
      "needs_background": "light"
     },
     "output_type": "display_data"
    }
   ],
   "source": [
    "#summary_df.loc[summary_df[\"validation\"] == 3, \"validation\"] = 2 # only compare to validation set 1 for now\n",
    "sns.histplot(summary_df, x=\"delta_g\", hue=\"validation\", kde=True)"
   ]
  },
  {
   "cell_type": "markdown",
   "id": "fb222477",
   "metadata": {},
   "source": [
    "## -log(Kg) Analyis"
   ]
  },
  {
   "cell_type": "code",
   "execution_count": 8,
   "id": "72a697c1",
   "metadata": {},
   "outputs": [
    {
     "data": {
      "text/plain": [
       "count    385.000000\n",
       "mean       8.165188\n",
       "std        1.450574\n",
       "min        3.795880\n",
       "25%        7.193820\n",
       "50%        8.102373\n",
       "75%        9.094204\n",
       "max       11.769551\n",
       "Name: -log(Kd), dtype: float64"
      ]
     },
     "execution_count": 8,
     "metadata": {},
     "output_type": "execute_result"
    }
   ],
   "source": [
    "summary_df[\"-log(Kd)\"].describe()"
   ]
  },
  {
   "cell_type": "code",
   "execution_count": 9,
   "id": "c4a6cdb1",
   "metadata": {},
   "outputs": [
    {
     "data": {
      "image/png": "[encoded data removed]",
      "text/plain": [
       "<Figure size 432x288 with 1 Axes>"
      ]
     },
     "metadata": {
      "needs_background": "light"
     },
     "output_type": "display_data"
    }
   ],
   "source": [
    "sns.histplot(summary_df, x=\"-log(Kd)\", stat=\"percent\", kde=True)\n",
    "plt.savefig(\"./plots/abag_affinity_-log(Kd)_distribution.png\")"
   ]
  },
  {
   "cell_type": "code",
   "execution_count": 10,
   "id": "1607006d",
   "metadata": {},
   "outputs": [
    {
     "data": {
      "image/png": "[encoded data removed]",
      "text/plain": [
       "<Figure size 432x288 with 1 Axes>"
      ]
     },
     "metadata": {
      "needs_background": "light"
     },
     "output_type": "display_data"
    }
   ],
   "source": [
    "sns.histplot(summary_df, x=\"-log(Kd)\", hue=\"validation\", stat=\"percent\", kde=True)\n",
    "plt.savefig(\"./plots/abag_affinity_-log(Kd)_distribution_by_val_set.png\")"
   ]
  },
  {
   "cell_type": "code",
   "execution_count": 15,
   "id": "2d215942",
   "metadata": {},
   "outputs": [
    {
     "data": {
      "text/html": [
       "<div>\n",
       "<style scoped>\n",
       "    .dataframe tbody tr th:only-of-type {\n",
       "        vertical-align: middle;\n",
       "    }\n",
       "\n",
       "    .dataframe tbody tr th {\n",
       "        vertical-align: top;\n",
       "    }\n",
       "\n",
       "    .dataframe thead th {\n",
       "        text-align: right;\n",
       "    }\n",
       "</style>\n",
       "<table border=\"1\" class=\"dataframe\">\n",
       "  <thead>\n",
       "    <tr style=\"text-align: right;\">\n",
       "      <th></th>\n",
       "      <th>pdb</th>\n",
       "      <th>filename</th>\n",
       "      <th>chain_infos</th>\n",
       "      <th>-log(Kd)</th>\n",
       "      <th>delta_g</th>\n",
       "      <th>validation</th>\n",
       "      <th>test</th>\n",
       "    </tr>\n",
       "  </thead>\n",
       "  <tbody>\n",
       "    <tr>\n",
       "      <th>1bvk</th>\n",
       "      <td>1bvk</td>\n",
       "      <td>1bvk.pdb</td>\n",
       "      <td>{'h': 0, 'l': 0, 'f': 1}</td>\n",
       "      <td>7.853872</td>\n",
       "      <td>-10.530000</td>\n",
       "      <td>2</td>\n",
       "      <td>False</td>\n",
       "    </tr>\n",
       "    <tr>\n",
       "      <th>1dqj</th>\n",
       "      <td>1dqj</td>\n",
       "      <td>1dqj.pdb</td>\n",
       "      <td>{'h': 0, 'l': 0, 'c': 1}</td>\n",
       "      <td>8.543634</td>\n",
       "      <td>-11.450000</td>\n",
       "      <td>4</td>\n",
       "      <td>False</td>\n",
       "    </tr>\n",
       "    <tr>\n",
       "      <th>1e6j</th>\n",
       "      <td>1e6j</td>\n",
       "      <td>1e6j.pdb</td>\n",
       "      <td>{'h': 0, 'l': 0, 'p': 1}</td>\n",
       "      <td>7.537602</td>\n",
       "      <td>-10.280000</td>\n",
       "      <td>4</td>\n",
       "      <td>False</td>\n",
       "    </tr>\n",
       "    <tr>\n",
       "      <th>1f90</th>\n",
       "      <td>1f90</td>\n",
       "      <td>1f90.pdb</td>\n",
       "      <td>{'h': 0, 'l': 0, 'e': 1}</td>\n",
       "      <td>7.924453</td>\n",
       "      <td>-10.800000</td>\n",
       "      <td>0</td>\n",
       "      <td>True</td>\n",
       "    </tr>\n",
       "    <tr>\n",
       "      <th>1fsk</th>\n",
       "      <td>1fsk</td>\n",
       "      <td>1fsk.pdb</td>\n",
       "      <td>{'h': 0, 'l': 0, 'g': 1}</td>\n",
       "      <td>9.619789</td>\n",
       "      <td>-13.123740</td>\n",
       "      <td>4</td>\n",
       "      <td>False</td>\n",
       "    </tr>\n",
       "    <tr>\n",
       "      <th>...</th>\n",
       "      <td>...</td>\n",
       "      <td>...</td>\n",
       "      <td>...</td>\n",
       "      <td>...</td>\n",
       "      <td>...</td>\n",
       "      <td>...</td>\n",
       "      <td>...</td>\n",
       "    </tr>\n",
       "    <tr>\n",
       "      <th>6ii8</th>\n",
       "      <td>6ii8</td>\n",
       "      <td>6ii8.pdb</td>\n",
       "      <td>{'h': 0, 'l': 0, 'c': 1}</td>\n",
       "      <td>6.413413</td>\n",
       "      <td>-8.749460</td>\n",
       "      <td>3</td>\n",
       "      <td>False</td>\n",
       "    </tr>\n",
       "    <tr>\n",
       "      <th>6ii9</th>\n",
       "      <td>6ii9</td>\n",
       "      <td>6ii9.pdb</td>\n",
       "      <td>{'h': 0, 'l': 0, 'c': 1}</td>\n",
       "      <td>7.712198</td>\n",
       "      <td>-10.521321</td>\n",
       "      <td>2</td>\n",
       "      <td>False</td>\n",
       "    </tr>\n",
       "    <tr>\n",
       "      <th>6mhr</th>\n",
       "      <td>6mhr</td>\n",
       "      <td>6mhr.pdb</td>\n",
       "      <td>{'h': 0, 'l': 0, 'f': 1}</td>\n",
       "      <td>7.657577</td>\n",
       "      <td>-10.446805</td>\n",
       "      <td>4</td>\n",
       "      <td>False</td>\n",
       "    </tr>\n",
       "    <tr>\n",
       "      <th>6mi2</th>\n",
       "      <td>6mi2</td>\n",
       "      <td>6mi2.pdb</td>\n",
       "      <td>{'h': 0, 'l': 0, 'c': 1}</td>\n",
       "      <td>7.161151</td>\n",
       "      <td>-9.769558</td>\n",
       "      <td>4</td>\n",
       "      <td>False</td>\n",
       "    </tr>\n",
       "    <tr>\n",
       "      <th>6mlk</th>\n",
       "      <td>6mlk</td>\n",
       "      <td>6mlk.pdb</td>\n",
       "      <td>{'h': 0, 'l': 0, 'a': 1}</td>\n",
       "      <td>7.886057</td>\n",
       "      <td>-10.758506</td>\n",
       "      <td>4</td>\n",
       "      <td>False</td>\n",
       "    </tr>\n",
       "  </tbody>\n",
       "</table>\n",
       "<p>385 rows × 7 columns</p>\n",
       "</div>"
      ],
      "text/plain": [
       "       pdb  filename               chain_infos  -log(Kd)    delta_g  \\\n",
       "1bvk  1bvk  1bvk.pdb  {'h': 0, 'l': 0, 'f': 1}  7.853872 -10.530000   \n",
       "1dqj  1dqj  1dqj.pdb  {'h': 0, 'l': 0, 'c': 1}  8.543634 -11.450000   \n",
       "1e6j  1e6j  1e6j.pdb  {'h': 0, 'l': 0, 'p': 1}  7.537602 -10.280000   \n",
       "1f90  1f90  1f90.pdb  {'h': 0, 'l': 0, 'e': 1}  7.924453 -10.800000   \n",
       "1fsk  1fsk  1fsk.pdb  {'h': 0, 'l': 0, 'g': 1}  9.619789 -13.123740   \n",
       "...    ...       ...                       ...       ...        ...   \n",
       "6ii8  6ii8  6ii8.pdb  {'h': 0, 'l': 0, 'c': 1}  6.413413  -8.749460   \n",
       "6ii9  6ii9  6ii9.pdb  {'h': 0, 'l': 0, 'c': 1}  7.712198 -10.521321   \n",
       "6mhr  6mhr  6mhr.pdb  {'h': 0, 'l': 0, 'f': 1}  7.657577 -10.446805   \n",
       "6mi2  6mi2  6mi2.pdb  {'h': 0, 'l': 0, 'c': 1}  7.161151  -9.769558   \n",
       "6mlk  6mlk  6mlk.pdb  {'h': 0, 'l': 0, 'a': 1}  7.886057 -10.758506   \n",
       "\n",
       "     validation   test  \n",
       "1bvk          2  False  \n",
       "1dqj          4  False  \n",
       "1e6j          4  False  \n",
       "1f90          0   True  \n",
       "1fsk          4  False  \n",
       "...         ...    ...  \n",
       "6ii8          3  False  \n",
       "6ii9          2  False  \n",
       "6mhr          4  False  \n",
       "6mi2          4  False  \n",
       "6mlk          4  False  \n",
       "\n",
       "[385 rows x 7 columns]"
      ]
     },
     "execution_count": 15,
     "metadata": {},
     "output_type": "execute_result"
    }
   ],
   "source": [
    "summary_df"
   ]
  },
  {
   "cell_type": "code",
   "execution_count": 23,
   "id": "fbaa3eae",
   "metadata": {},
   "outputs": [
    {
     "data": {
      "text/plain": [
       "KruskalResult(statistic=0.6691457564289534, pvalue=0.9550786565945522)"
      ]
     },
     "execution_count": 23,
     "metadata": {},
     "output_type": "execute_result"
    }
   ],
   "source": [
    "import scipy\n",
    "scipy.stats.kruskal(*[group[\"-log(Kd)\"].values for name, group in summary_df.groupby(\"validation\")])"
   ]
  },
  {
   "cell_type": "code",
   "execution_count": null,
   "id": "d6c74c23",
   "metadata": {},
   "outputs": [],
   "source": [
    "sns.histplot(summary_df, x=\"-log(Kd)\", hue=\"test\", stat=\"percent\",kde=True)\n",
    "plt.savefig(\"./plots/abag_affinity_-log(Kd)_distribution_train_test.png\")"
   ]
  }
 ],
 "metadata": {
  "kernelspec": {
   "display_name": "Python 3 (ipykernel)",
   "language": "python",
   "name": "python3"
  },
  "language_info": {
   "codemirror_mode": {
    "name": "ipython",
    "version": 3
   },
   "file_extension": ".py",
   "mimetype": "text/x-python",
   "name": "python",
   "nbconvert_exporter": "python",
   "pygments_lexer": "ipython3",
   "version": "3.7.12"
  }
 },
 "nbformat": 4,
 "nbformat_minor": 5
}
