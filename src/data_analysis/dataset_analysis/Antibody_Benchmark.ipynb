{
 "cells": [
  {
   "cell_type": "markdown",
   "id": "5d7ed573",
   "metadata": {},
   "source": [
    "# Antibody Benchmark\n",
    "\n",
    "This data is a subset of the Docking Benchmark5.5 containing only Antibody-Antigen Complexes.\n",
    "\n",
    "The excel sheet is downloaded from https://piercelab.ibbr.umd.edu/antibody_benchmark/antibody_benchmark_cases.xlsx (Downloaded 30.04.2022)\n",
    "\n",
    "The PDB Files are downloaded from their GitHub Repository: https://github.com/piercelab/antibody_benchmark (30.04.2022)"
   ]
  },
  {
   "cell_type": "code",
   "execution_count": 1,
   "id": "67b8ca5d",
   "metadata": {},
   "outputs": [],
   "source": [
    "import pandas as pd\n",
    "import yaml\n",
    "import os\n",
    "import seaborn as sns"
   ]
  },
  {
   "cell_type": "code",
   "execution_count": 2,
   "id": "345b644f",
   "metadata": {},
   "outputs": [],
   "source": [
    "from abag_affinity.utils.config import read_config, get_resources_paths"
   ]
  },
  {
   "cell_type": "code",
   "execution_count": 3,
   "id": "e0cb18e0",
   "metadata": {},
   "outputs": [],
   "source": [
    "config = read_config(\"../../config.yaml\")\n",
    "\n",
    "summary_path = os.path.join(config[\"DATASETS\"][\"path\"], config[\"DATASETS\"][\"AntibodyBenchmark\"][\"folder_path\"], config[\"DATASETS\"][\"AntibodyBenchmark\"][\"summary\"])"
   ]
  },
  {
   "cell_type": "code",
   "execution_count": 4,
   "id": "62220c9e",
   "metadata": {},
   "outputs": [
    {
     "name": "stdout",
     "output_type": "stream",
     "text": [
      "There are 42 ab-ag cases\n"
     ]
    }
   ],
   "source": [
    "summary_df = pd.read_csv(summary_path)\n",
    "print(\"There are {} ab-ag cases\".format( len(summary_df[\"pdb\"].unique())))\n"
   ]
  },
  {
   "cell_type": "code",
   "execution_count": 5,
   "id": "a71159a1",
   "metadata": {},
   "outputs": [
    {
     "data": {
      "text/plain": [
       "<AxesSubplot:xlabel='-log(Kd(M))', ylabel='Percent'>"
      ]
     },
     "execution_count": 5,
     "metadata": {},
     "output_type": "execute_result"
    },
    {
     "data": {
      "image/png": "[encoded data removed]",
      "text/plain": [
       "<Figure size 432x288 with 1 Axes>"
      ]
     },
     "metadata": {
      "needs_background": "light"
     },
     "output_type": "display_data"
    }
   ],
   "source": [
    "import numpy as np\n",
    "summary_df[\"Kd (M)\"] = summary_df[\"Kd (nM)\"].apply(lambda x: x / (10**9))\n",
    "summary_df[\"-log(Kd(M))\"] = summary_df[\"Kd (M)\"].apply(lambda x: -np.log(x))\n",
    "sns.histplot(summary_df, x=\"-log(Kd(M))\", stat=\"percent\", kde=True)"
   ]
  },
  {
   "cell_type": "code",
   "execution_count": 6,
   "id": "93e3de8b",
   "metadata": {},
   "outputs": [
    {
     "data": {
      "text/plain": [
       "<AxesSubplot:xlabel='delta G', ylabel='Percent'>"
      ]
     },
     "execution_count": 6,
     "metadata": {},
     "output_type": "execute_result"
    },
    {
     "data": {
      "image/png": "[encoded data removed]",
      "text/plain": [
       "<Figure size 432x288 with 1 Axes>"
      ]
     },
     "metadata": {
      "needs_background": "light"
     },
     "output_type": "display_data"
    }
   ],
   "source": [
    "summary_df[\"temperature_kelvin\"] = 25 + 273.15\n",
    "gas_constant =  8.31446261815324 # 0.0821\n",
    "\n",
    "def calc_delta_g(row):\n",
    "    delta_g = -1 * gas_constant * row[\"temperature_kelvin\"] * np.log(1 / row[\"Kd (M)\"])\n",
    "    return delta_g / 4184 # convert to kcal\n",
    "\n",
    "summary_df[\"delta G\"] = summary_df.apply(calc_delta_g, axis=1)\n",
    "sns.histplot(summary_df, x=\"delta G\", stat=\"percent\", kde=True)"
   ]
  },
  {
   "cell_type": "markdown",
   "id": "37d3687e",
   "metadata": {},
   "source": [
    "### Remove all entires without binding affinity"
   ]
  },
  {
   "cell_type": "code",
   "execution_count": 7,
   "id": "2e0dc4c6",
   "metadata": {},
   "outputs": [
    {
     "name": "stdout",
     "output_type": "stream",
     "text": [
      "There are 42 ab-ag cases with affinity\n"
     ]
    }
   ],
   "source": [
    "summary_df = summary_df.replace(\" \", None)\n",
    "summary_df = summary_df[summary_df[\"delta_g\"].notnull() & summary_df[\"-log(Kd)\"].notnull()]\n",
    "\n",
    "print(\"There are {} ab-ag cases with affinity\".format(len(summary_df)))"
   ]
  },
  {
   "cell_type": "code",
   "execution_count": 8,
   "id": "95fbdb92",
   "metadata": {},
   "outputs": [],
   "source": [
    "summary_df = summary_df.reset_index(drop=True)"
   ]
  },
  {
   "cell_type": "code",
   "execution_count": 9,
   "id": "18f32030",
   "metadata": {},
   "outputs": [
    {
     "data": {
      "text/html": [
       "<div>\n",
       "<style scoped>\n",
       "    .dataframe tbody tr th:only-of-type {\n",
       "        vertical-align: middle;\n",
       "    }\n",
       "\n",
       "    .dataframe tbody tr th {\n",
       "        vertical-align: top;\n",
       "    }\n",
       "\n",
       "    .dataframe thead th {\n",
       "        text-align: right;\n",
       "    }\n",
       "</style>\n",
       "<table border=\"1\" class=\"dataframe\">\n",
       "  <thead>\n",
       "    <tr style=\"text-align: right;\">\n",
       "      <th></th>\n",
       "      <th>-log(Kd)</th>\n",
       "      <th>delta_g</th>\n",
       "    </tr>\n",
       "  </thead>\n",
       "  <tbody>\n",
       "    <tr>\n",
       "      <th>-log(Kd)</th>\n",
       "      <td>1.000000</td>\n",
       "      <td>-0.992646</td>\n",
       "    </tr>\n",
       "    <tr>\n",
       "      <th>delta_g</th>\n",
       "      <td>-0.992646</td>\n",
       "      <td>1.000000</td>\n",
       "    </tr>\n",
       "  </tbody>\n",
       "</table>\n",
       "</div>"
      ],
      "text/plain": [
       "          -log(Kd)   delta_g\n",
       "-log(Kd)  1.000000 -0.992646\n",
       "delta_g  -0.992646  1.000000"
      ]
     },
     "execution_count": 9,
     "metadata": {},
     "output_type": "execute_result"
    }
   ],
   "source": [
    "summary_df[[\"-log(Kd)\",\"delta_g\"]].corr()"
   ]
  },
  {
   "cell_type": "code",
   "execution_count": 10,
   "id": "9a9725c5",
   "metadata": {},
   "outputs": [
    {
     "data": {
      "text/plain": [
       "<AxesSubplot:xlabel='-log(Kd)', ylabel='Percent'>"
      ]
     },
     "execution_count": 10,
     "metadata": {},
     "output_type": "execute_result"
    },
    {
     "data": {
      "image/png": "[encoded data removed]",
      "text/plain": [
       "<Figure size 432x288 with 1 Axes>"
      ]
     },
     "metadata": {
      "needs_background": "light"
     },
     "output_type": "display_data"
    }
   ],
   "source": [
    "sns.histplot(summary_df, x=\"-log(Kd)\", stat=\"percent\", kde=True)"
   ]
  },
  {
   "cell_type": "code",
   "execution_count": 11,
   "id": "683f5acc",
   "metadata": {},
   "outputs": [
    {
     "data": {
      "text/html": [
       "<div>\n",
       "<style scoped>\n",
       "    .dataframe tbody tr th:only-of-type {\n",
       "        vertical-align: middle;\n",
       "    }\n",
       "\n",
       "    .dataframe tbody tr th {\n",
       "        vertical-align: top;\n",
       "    }\n",
       "\n",
       "    .dataframe thead th {\n",
       "        text-align: right;\n",
       "    }\n",
       "</style>\n",
       "<table border=\"1\" class=\"dataframe\">\n",
       "  <thead>\n",
       "    <tr style=\"text-align: right;\">\n",
       "      <th></th>\n",
       "      <th>-log(Kd)</th>\n",
       "      <th>Kd (nM)</th>\n",
       "      <th>delta_g</th>\n",
       "      <th>validation</th>\n",
       "      <th>Kd (M)</th>\n",
       "      <th>-log(Kd(M))</th>\n",
       "      <th>temperature_kelvin</th>\n",
       "      <th>delta G</th>\n",
       "    </tr>\n",
       "  </thead>\n",
       "  <tbody>\n",
       "    <tr>\n",
       "      <th>count</th>\n",
       "      <td>42.000000</td>\n",
       "      <td>42.000000</td>\n",
       "      <td>42.000000</td>\n",
       "      <td>42.0</td>\n",
       "      <td>4.200000e+01</td>\n",
       "      <td>42.000000</td>\n",
       "      <td>4.200000e+01</td>\n",
       "      <td>42.000000</td>\n",
       "    </tr>\n",
       "    <tr>\n",
       "      <th>mean</th>\n",
       "      <td>8.686739</td>\n",
       "      <td>160.372931</td>\n",
       "      <td>-11.911667</td>\n",
       "      <td>0.0</td>\n",
       "      <td>1.603729e-07</td>\n",
       "      <td>20.001956</td>\n",
       "      <td>2.981500e+02</td>\n",
       "      <td>-11.850858</td>\n",
       "    </tr>\n",
       "    <tr>\n",
       "      <th>std</th>\n",
       "      <td>1.428948</td>\n",
       "      <td>727.775512</td>\n",
       "      <td>1.978008</td>\n",
       "      <td>0.0</td>\n",
       "      <td>7.277755e-07</td>\n",
       "      <td>3.290274</td>\n",
       "      <td>2.301298e-13</td>\n",
       "      <td>1.949438</td>\n",
       "    </tr>\n",
       "    <tr>\n",
       "      <th>min</th>\n",
       "      <td>5.327902</td>\n",
       "      <td>0.007000</td>\n",
       "      <td>-15.220000</td>\n",
       "      <td>0.0</td>\n",
       "      <td>7.000000e-12</td>\n",
       "      <td>12.267948</td>\n",
       "      <td>2.981500e+02</td>\n",
       "      <td>-15.218042</td>\n",
       "    </tr>\n",
       "    <tr>\n",
       "      <th>25%</th>\n",
       "      <td>7.790935</td>\n",
       "      <td>0.135000</td>\n",
       "      <td>-13.542500</td>\n",
       "      <td>0.0</td>\n",
       "      <td>1.350000e-10</td>\n",
       "      <td>17.939290</td>\n",
       "      <td>2.981500e+02</td>\n",
       "      <td>-13.465827</td>\n",
       "    </tr>\n",
       "    <tr>\n",
       "      <th>50%</th>\n",
       "      <td>8.735240</td>\n",
       "      <td>1.840000</td>\n",
       "      <td>-11.860000</td>\n",
       "      <td>0.0</td>\n",
       "      <td>1.840000e-09</td>\n",
       "      <td>20.113633</td>\n",
       "      <td>2.981500e+02</td>\n",
       "      <td>-11.917025</td>\n",
       "    </tr>\n",
       "    <tr>\n",
       "      <th>75%</th>\n",
       "      <td>9.870520</td>\n",
       "      <td>16.750000</td>\n",
       "      <td>-10.912500</td>\n",
       "      <td>0.0</td>\n",
       "      <td>1.675000e-08</td>\n",
       "      <td>22.727711</td>\n",
       "      <td>2.981500e+02</td>\n",
       "      <td>-10.628760</td>\n",
       "    </tr>\n",
       "    <tr>\n",
       "      <th>max</th>\n",
       "      <td>11.154902</td>\n",
       "      <td>4700.000000</td>\n",
       "      <td>-7.270000</td>\n",
       "      <td>0.0</td>\n",
       "      <td>4.700000e-06</td>\n",
       "      <td>25.685111</td>\n",
       "      <td>2.981500e+02</td>\n",
       "      <td>-7.268575</td>\n",
       "    </tr>\n",
       "  </tbody>\n",
       "</table>\n",
       "</div>"
      ],
      "text/plain": [
       "        -log(Kd)      Kd (nM)    delta_g  validation        Kd (M)  \\\n",
       "count  42.000000    42.000000  42.000000        42.0  4.200000e+01   \n",
       "mean    8.686739   160.372931 -11.911667         0.0  1.603729e-07   \n",
       "std     1.428948   727.775512   1.978008         0.0  7.277755e-07   \n",
       "min     5.327902     0.007000 -15.220000         0.0  7.000000e-12   \n",
       "25%     7.790935     0.135000 -13.542500         0.0  1.350000e-10   \n",
       "50%     8.735240     1.840000 -11.860000         0.0  1.840000e-09   \n",
       "75%     9.870520    16.750000 -10.912500         0.0  1.675000e-08   \n",
       "max    11.154902  4700.000000  -7.270000         0.0  4.700000e-06   \n",
       "\n",
       "       -log(Kd(M))  temperature_kelvin    delta G  \n",
       "count    42.000000        4.200000e+01  42.000000  \n",
       "mean     20.001956        2.981500e+02 -11.850858  \n",
       "std       3.290274        2.301298e-13   1.949438  \n",
       "min      12.267948        2.981500e+02 -15.218042  \n",
       "25%      17.939290        2.981500e+02 -13.465827  \n",
       "50%      20.113633        2.981500e+02 -11.917025  \n",
       "75%      22.727711        2.981500e+02 -10.628760  \n",
       "max      25.685111        2.981500e+02  -7.268575  "
      ]
     },
     "execution_count": 11,
     "metadata": {},
     "output_type": "execute_result"
    }
   ],
   "source": [
    "summary_df.describe()"
   ]
  },
  {
   "cell_type": "code",
   "execution_count": null,
   "id": "2d5f47ca",
   "metadata": {},
   "outputs": [],
   "source": []
  },
  {
   "cell_type": "code",
   "execution_count": null,
   "id": "f8ebdf33",
   "metadata": {},
   "outputs": [],
   "source": []
  },
  {
   "cell_type": "code",
   "execution_count": null,
   "id": "d143d955",
   "metadata": {},
   "outputs": [],
   "source": []
  },
  {
   "cell_type": "code",
   "execution_count": null,
   "id": "9eb96a8e",
   "metadata": {},
   "outputs": [],
   "source": []
  }
 ],
 "metadata": {
  "kernelspec": {
   "display_name": "Python 3 (ipykernel)",
   "language": "python",
   "name": "python3"
  },
  "language_info": {
   "codemirror_mode": {
    "name": "ipython",
    "version": 3
   },
   "file_extension": ".py",
   "mimetype": "text/x-python",
   "name": "python",
   "nbconvert_exporter": "python",
   "pygments_lexer": "ipython3",
   "version": "3.8.16"
  }
 },
 "nbformat": 4,
 "nbformat_minor": 5
}
