{
 "cells": [
  {
   "cell_type": "markdown",
   "id": "9a5a5323",
   "metadata": {},
   "source": [
    "# Interface Analysis\n",
    "\n",
    "Analysis of the interfaces between Antibody and Antigens:\n",
    "\n",
    "1. Average Size of Interface (number of residues in Ab and Ag)\n",
    "2. Most prominent residues\n"
   ]
  },
  {
   "cell_type": "code",
   "execution_count": 1,
   "id": "55b44644",
   "metadata": {},
   "outputs": [],
   "source": [
    "import os\n",
    "import numpy as np\n",
    "import pandas as pd\n",
    "from tqdm import tqdm\n",
    "from collections import defaultdict\n",
    "import scipy.spatial as sp\n",
    "import warnings\n",
    "import matplotlib.pyplot as plt\n",
    "import seaborn as sns\n",
    "\n",
    "\n",
    "warnings.filterwarnings(\"ignore\")\n",
    "from abag_affinity.utils.config import read_config\n",
    "\n",
    "from abag_affinity.utils.pdb_reader import read_file"
   ]
  },
  {
   "cell_type": "code",
   "execution_count": 2,
   "id": "6ff2c426",
   "metadata": {},
   "outputs": [],
   "source": [
    "INTERFACE_DISTANCES = [5]\n",
    "INTERFACE_HULL_SIZE = 7"
   ]
  },
  {
   "cell_type": "code",
   "execution_count": 3,
   "id": "22548c00",
   "metadata": {},
   "outputs": [],
   "source": [
    "config = read_config(\"../config.yaml\")\n",
    "\n",
    "summary_path = os.path.join(config[\"DATASETS\"][\"path\"], config[\"DATASETS\"][\"abag_affinity\"][\"folder_path\"], config[\"DATASETS\"][\"abag_affinity\"][\"summary\"])\n",
    "pdb_path = os.path.join(config[\"DATASETS\"][\"path\"], config[\"DATASETS\"][\"abag_affinity\"][\"folder_path\"], config[\"DATASETS\"][\"abag_affinity\"][\"pdb_path\"])\n",
    "\n",
    "dataset = pd.read_csv(summary_path, index_col=0)\n",
    "path = os.path.join(config[\"DATASETS\"][\"path\"], config[\"DATASETS\"][\"abag_affinity\"][\"folder_path\"])"
   ]
  },
  {
   "cell_type": "code",
   "execution_count": 4,
   "id": "5ad0e658",
   "metadata": {},
   "outputs": [
    {
     "data": {
      "text/html": [
       "<div>\n",
       "<style scoped>\n",
       "    .dataframe tbody tr th:only-of-type {\n",
       "        vertical-align: middle;\n",
       "    }\n",
       "\n",
       "    .dataframe tbody tr th {\n",
       "        vertical-align: top;\n",
       "    }\n",
       "\n",
       "    .dataframe thead th {\n",
       "        text-align: right;\n",
       "    }\n",
       "</style>\n",
       "<table border=\"1\" class=\"dataframe\">\n",
       "  <thead>\n",
       "    <tr style=\"text-align: right;\">\n",
       "      <th></th>\n",
       "      <th>pdb</th>\n",
       "      <th>filename</th>\n",
       "      <th>chain_infos</th>\n",
       "      <th>-log(Kd)</th>\n",
       "      <th>delta_g</th>\n",
       "      <th>validation</th>\n",
       "      <th>test</th>\n",
       "    </tr>\n",
       "  </thead>\n",
       "  <tbody>\n",
       "    <tr>\n",
       "      <th>1bvk</th>\n",
       "      <td>1bvk</td>\n",
       "      <td>1bvk.pdb</td>\n",
       "      <td>{'h': 0, 'l': 0, 'f': 1}</td>\n",
       "      <td>7.853872</td>\n",
       "      <td>-10.530000</td>\n",
       "      <td>2</td>\n",
       "      <td>False</td>\n",
       "    </tr>\n",
       "    <tr>\n",
       "      <th>1dqj</th>\n",
       "      <td>1dqj</td>\n",
       "      <td>1dqj.pdb</td>\n",
       "      <td>{'h': 0, 'l': 0, 'c': 1}</td>\n",
       "      <td>8.543634</td>\n",
       "      <td>-11.450000</td>\n",
       "      <td>4</td>\n",
       "      <td>False</td>\n",
       "    </tr>\n",
       "    <tr>\n",
       "      <th>1e6j</th>\n",
       "      <td>1e6j</td>\n",
       "      <td>1e6j.pdb</td>\n",
       "      <td>{'h': 0, 'l': 0, 'p': 1}</td>\n",
       "      <td>7.537602</td>\n",
       "      <td>-10.280000</td>\n",
       "      <td>4</td>\n",
       "      <td>False</td>\n",
       "    </tr>\n",
       "    <tr>\n",
       "      <th>1f90</th>\n",
       "      <td>1f90</td>\n",
       "      <td>1f90.pdb</td>\n",
       "      <td>{'h': 0, 'l': 0, 'e': 1}</td>\n",
       "      <td>7.924453</td>\n",
       "      <td>-10.800000</td>\n",
       "      <td>0</td>\n",
       "      <td>True</td>\n",
       "    </tr>\n",
       "    <tr>\n",
       "      <th>1fsk</th>\n",
       "      <td>1fsk</td>\n",
       "      <td>1fsk.pdb</td>\n",
       "      <td>{'h': 0, 'l': 0, 'g': 1}</td>\n",
       "      <td>9.619789</td>\n",
       "      <td>-13.123740</td>\n",
       "      <td>4</td>\n",
       "      <td>False</td>\n",
       "    </tr>\n",
       "    <tr>\n",
       "      <th>...</th>\n",
       "      <td>...</td>\n",
       "      <td>...</td>\n",
       "      <td>...</td>\n",
       "      <td>...</td>\n",
       "      <td>...</td>\n",
       "      <td>...</td>\n",
       "      <td>...</td>\n",
       "    </tr>\n",
       "    <tr>\n",
       "      <th>6ii8</th>\n",
       "      <td>6ii8</td>\n",
       "      <td>6ii8.pdb</td>\n",
       "      <td>{'h': 0, 'l': 0, 'c': 1}</td>\n",
       "      <td>6.413413</td>\n",
       "      <td>-8.749460</td>\n",
       "      <td>3</td>\n",
       "      <td>False</td>\n",
       "    </tr>\n",
       "    <tr>\n",
       "      <th>6ii9</th>\n",
       "      <td>6ii9</td>\n",
       "      <td>6ii9.pdb</td>\n",
       "      <td>{'h': 0, 'l': 0, 'c': 1}</td>\n",
       "      <td>7.712198</td>\n",
       "      <td>-10.521321</td>\n",
       "      <td>2</td>\n",
       "      <td>False</td>\n",
       "    </tr>\n",
       "    <tr>\n",
       "      <th>6mhr</th>\n",
       "      <td>6mhr</td>\n",
       "      <td>6mhr.pdb</td>\n",
       "      <td>{'h': 0, 'l': 0, 'f': 1}</td>\n",
       "      <td>7.657577</td>\n",
       "      <td>-10.446805</td>\n",
       "      <td>4</td>\n",
       "      <td>False</td>\n",
       "    </tr>\n",
       "    <tr>\n",
       "      <th>6mi2</th>\n",
       "      <td>6mi2</td>\n",
       "      <td>6mi2.pdb</td>\n",
       "      <td>{'h': 0, 'l': 0, 'c': 1}</td>\n",
       "      <td>7.161151</td>\n",
       "      <td>-9.769558</td>\n",
       "      <td>4</td>\n",
       "      <td>False</td>\n",
       "    </tr>\n",
       "    <tr>\n",
       "      <th>6mlk</th>\n",
       "      <td>6mlk</td>\n",
       "      <td>6mlk.pdb</td>\n",
       "      <td>{'h': 0, 'l': 0, 'a': 1}</td>\n",
       "      <td>7.886057</td>\n",
       "      <td>-10.758506</td>\n",
       "      <td>4</td>\n",
       "      <td>False</td>\n",
       "    </tr>\n",
       "  </tbody>\n",
       "</table>\n",
       "<p>385 rows × 7 columns</p>\n",
       "</div>"
      ],
      "text/plain": [
       "       pdb  filename               chain_infos  -log(Kd)    delta_g  \\\n",
       "1bvk  1bvk  1bvk.pdb  {'h': 0, 'l': 0, 'f': 1}  7.853872 -10.530000   \n",
       "1dqj  1dqj  1dqj.pdb  {'h': 0, 'l': 0, 'c': 1}  8.543634 -11.450000   \n",
       "1e6j  1e6j  1e6j.pdb  {'h': 0, 'l': 0, 'p': 1}  7.537602 -10.280000   \n",
       "1f90  1f90  1f90.pdb  {'h': 0, 'l': 0, 'e': 1}  7.924453 -10.800000   \n",
       "1fsk  1fsk  1fsk.pdb  {'h': 0, 'l': 0, 'g': 1}  9.619789 -13.123740   \n",
       "...    ...       ...                       ...       ...        ...   \n",
       "6ii8  6ii8  6ii8.pdb  {'h': 0, 'l': 0, 'c': 1}  6.413413  -8.749460   \n",
       "6ii9  6ii9  6ii9.pdb  {'h': 0, 'l': 0, 'c': 1}  7.712198 -10.521321   \n",
       "6mhr  6mhr  6mhr.pdb  {'h': 0, 'l': 0, 'f': 1}  7.657577 -10.446805   \n",
       "6mi2  6mi2  6mi2.pdb  {'h': 0, 'l': 0, 'c': 1}  7.161151  -9.769558   \n",
       "6mlk  6mlk  6mlk.pdb  {'h': 0, 'l': 0, 'a': 1}  7.886057 -10.758506   \n",
       "\n",
       "      validation   test  \n",
       "1bvk           2  False  \n",
       "1dqj           4  False  \n",
       "1e6j           4  False  \n",
       "1f90           0   True  \n",
       "1fsk           4  False  \n",
       "...          ...    ...  \n",
       "6ii8           3  False  \n",
       "6ii9           2  False  \n",
       "6mhr           4  False  \n",
       "6mi2           4  False  \n",
       "6mlk           4  False  \n",
       "\n",
       "[385 rows x 7 columns]"
      ]
     },
     "execution_count": 4,
     "metadata": {},
     "output_type": "execute_result"
    }
   ],
   "source": [
    "dataset"
   ]
  },
  {
   "cell_type": "code",
   "execution_count": 5,
   "id": "0e763ba0",
   "metadata": {},
   "outputs": [],
   "source": [
    "from abag_affinity.utils.pdb_processing import remove_redundant_chains\n",
    "import string\n",
    "from ast import literal_eval\n",
    "alphabet_letters = set(string.ascii_lowercase)\n",
    "\n",
    "def get_residue_count_and_interface_size(dataset, interface_distance_threshold):\n",
    "    interface_sizes = []\n",
    "    interface_resiude_count = {\n",
    "        \"antibody\": defaultdict(int),\n",
    "        \"antigen\": defaultdict(int)\n",
    "    }\n",
    "    \n",
    "    resiude_count = {\n",
    "        \"antibody\": defaultdict(int),\n",
    "        \"antigen\": defaultdict(int)\n",
    "    }\n",
    "\n",
    "\n",
    "    no_antibody_antigen_contact = []\n",
    "\n",
    "    for i, row in tqdm(dataset.iterrows(), total=len(dataset)):\n",
    "        pdb_id = row[\"pdb\"]\n",
    "        path = os.path.join(pdb_path, row[\"filename\"]) \n",
    "        structure, header = read_file(pdb_id, path)\n",
    "        remove_redundant_chains(structure)\n",
    "        \n",
    "        chain_id2protein = literal_eval(row[\"chain_infos\"])\n",
    "        \n",
    "        chain_id2protein = { k: \"antibody\" if v == 0 else \"antigen\" for k,v in chain_id2protein.items() }\n",
    "\n",
    "        interface_count = {\n",
    "            \"antibody\": [],\n",
    "            \"antigen\": []\n",
    "        }\n",
    "        \n",
    "\n",
    "\n",
    "        residue_ca_coordinates = defaultdict(list)\n",
    "        residue_n_coordinates = defaultdict(list)\n",
    "        residue_c_coordinates = defaultdict(list)\n",
    "        residue_o_coordinates = defaultdict(list)\n",
    "\n",
    "        residue_name = defaultdict(list)\n",
    "\n",
    "        for chain in structure.get_chains():\n",
    "            for residue in chain.get_residues():\n",
    "                if \"CA\" in residue:\n",
    "                    residue_ca_coordinates[chain.id.lower()].append(residue[\"CA\"].coord)\n",
    "                else:\n",
    "                    residue_ca_coordinates[chain.id.lower()].append((np.nan, np.nan, np.nan))\n",
    "                if \"N\" in residue:\n",
    "                    residue_n_coordinates[chain.id.lower()].append(residue[\"N\"].coord)\n",
    "                else:\n",
    "                    residue_n_coordinates[chain.id.lower()].append((np.nan, np.nan, np.nan))\n",
    "                if \"C\" in residue:\n",
    "                    residue_c_coordinates[chain.id.lower()].append(residue[\"C\"].coord)\n",
    "                else:\n",
    "                    residue_c_coordinates[chain.id.lower()].append((np.nan, np.nan, np.nan))\n",
    "                if \"O\" in residue:\n",
    "                    residue_o_coordinates[chain.id.lower()].append(residue[\"O\"].coord)\n",
    "                else:\n",
    "                    residue_o_coordinates[chain.id.lower()].append((np.nan, np.nan, np.nan))\n",
    "                residue_name[chain.id.lower()].append(residue.resname)\n",
    "                if chain.id.lower() not in chain_id2protein:\n",
    "                    #print(f\"Chain ID {chain.id.lower()} not found in chain_id2protein dict for pdb_id {pdb_id}\")\n",
    "                    #print(chain_id2protein)\n",
    "                    continue\n",
    "                resiude_count[chain_id2protein[chain.id.lower()]][residue.resname] += 1\n",
    "        \n",
    "        all_chains = list(structure.get_chains())\n",
    "        for ii, chain in enumerate(all_chains):    \n",
    "            for o_chain in all_chains[ii + 1:]:\n",
    "                if chain_id2protein.get(chain.id.lower()) != chain_id2protein.get(o_chain.id.lower()) and len(residue_ca_coordinates[chain.id.lower()]) > 0 and len(residue_ca_coordinates[o_chain.id.lower()]) > 0 and chain_id2protein.get(chain.id.lower()) is not None and chain_id2protein.get(o_chain.id.lower()) is not None:\n",
    "                    all_distances = []\n",
    "                    for atom_coordinates in [residue_ca_coordinates,residue_n_coordinates,residue_c_coordinates,residue_o_coordinates]:\n",
    "                        for o_atom_coordinates in [residue_ca_coordinates,residue_n_coordinates,residue_c_coordinates,residue_o_coordinates]:\n",
    "                            all_distances.append(sp.distance_matrix(np.array(atom_coordinates[chain.id.lower()]), \n",
    "                                                                np.array(o_atom_coordinates[o_chain.id.lower()])))\n",
    "                    \n",
    "                    all_distances = np.stack(all_distances)\n",
    "                    min_distances = np.amin(all_distances, axis=0)\n",
    "                    \n",
    "                    distances = sp.distance_matrix(np.array(residue_ca_coordinates[chain.id.lower()]), \n",
    "                                                                np.array(residue_ca_coordinates[o_chain.id.lower()]))\n",
    "\n",
    "                    contacts = np.where(min_distances < interface_distance_threshold)\n",
    "                    if len(contacts[0]) == 0:\n",
    "                        continue\n",
    "                    for res_contacts_id in np.unique(contacts[0]):\n",
    "                        interface_resiude_count[chain_id2protein.get(chain.id.lower())][residue_name[chain.id.lower()][res_contacts_id]] += 1\n",
    "                    for res_contacts_id in np.unique(contacts[1]):\n",
    "                        interface_resiude_count[chain_id2protein.get(o_chain.id.lower())][residue_name[o_chain.id.lower()][res_contacts_id]] += 1\n",
    "\n",
    "                    interface_count[chain_id2protein.get(chain.id.lower())].append(len(np.unique(contacts[0])))\n",
    "                    interface_count[chain_id2protein.get(o_chain.id.lower())].append(len(np.unique(contacts[1])))\n",
    "        if len(interface_count[\"antibody\"]) == 0:\n",
    "            no_antibody_antigen_contact.append(pdb_id)\n",
    "        interface_sizes.append(interface_count)\n",
    "        \n",
    "        \n",
    "    return interface_sizes, interface_resiude_count, resiude_count, no_antibody_antigen_contact"
   ]
  },
  {
   "cell_type": "code",
   "execution_count": 6,
   "id": "1d15b47d",
   "metadata": {},
   "outputs": [
    {
     "name": "stderr",
     "output_type": "stream",
     "text": [
      "100%|████████████████████████████████████████████████████████████████████████████████████████████████████████████████████████████████████████████████████████████████████| 385/385 [00:21<00:00, 17.51it/s]\n"
     ]
    }
   ],
   "source": [
    "interface_features = {}\n",
    "\n",
    "for distance in INTERFACE_DISTANCES:\n",
    "    interface_features[distance] = get_residue_count_and_interface_size(dataset, distance)\n",
    "\n",
    "#interface_sizes, interface_resiude_count, resiude_count, no_antibody_antigen_contact = get_residue_count_and_interface_size(dataset, 10)"
   ]
  },
  {
   "cell_type": "markdown",
   "id": "31387497",
   "metadata": {},
   "source": [
    "### Analysis of Antibody & Antigen Binding Residues"
   ]
  },
  {
   "cell_type": "code",
   "execution_count": 7,
   "id": "557973d0",
   "metadata": {},
   "outputs": [],
   "source": [
    "colors = sns.color_palette()\n",
    "\n",
    "def plot_binding_residues(interface_features):\n",
    "    interface_sizes, interface_resiude_count, resiude_count, no_antibody_antigen_contact = interface_features\n",
    "    plot_x_frequent = 10\n",
    "    width = 0.4\n",
    "\n",
    "    fix, ax = plt.subplots(2,1, figsize=(15,8))\n",
    "\n",
    "    for i, protein in enumerate(interface_resiude_count.keys()):\n",
    "        total_interface_contact_residues = sum(interface_resiude_count[protein].values())\n",
    "        relative_interface_values = {res: count/total_interface_contact_residues * 100 for res, count in interface_resiude_count[protein].items()}\n",
    "\n",
    "        total_contact_residues = sum(resiude_count[protein].values())\n",
    "        relative_values = {res: count/total_contact_residues * 100 for res, count in resiude_count[protein].items()}\n",
    "\n",
    "        sorted_dict = {k: v for k, v in sorted(relative_interface_values.items(), key=lambda item: item[1], reverse=True)}\n",
    "        indices = np.arange(plot_x_frequent)\n",
    "        most_frequent_aa = list(sorted_dict.keys())[:plot_x_frequent]\n",
    "\n",
    "        interface_plot = ax[i].bar(indices, [relative_interface_values[aa] for aa in most_frequent_aa], width=width, align='center', color=colors[0])\n",
    "        protein_plot = ax[i].bar(indices + width, [relative_values[aa] for aa in most_frequent_aa], width=width, align='center', color=colors[1])\n",
    "\n",
    "        ax[i].set_xticks(indices + (width/2), list(sorted_dict.keys())[:plot_x_frequent])\n",
    "        ax[i].set_title(\"{} most frequent residues of {}\".format(plot_x_frequent, protein))\n",
    "\n",
    "        ax[i].set_ylabel(\"Relative Frequency (%)\")\n",
    "\n",
    "        interface_name = \"Paratope\" if protein == \"antibody\" else \"Epitope\"\n",
    "        ax[i].legend( (interface_plot, protein_plot), (interface_name, \"Full Protein\") )\n",
    "        \n",
    "    plt.savefig(\"./plots/abag_affinity_residue_distribution.png\")\n",
    "    plt.show()"
   ]
  },
  {
   "cell_type": "code",
   "execution_count": 8,
   "id": "905ba426",
   "metadata": {},
   "outputs": [
    {
     "name": "stdout",
     "output_type": "stream",
     "text": [
      "Binding Residues for Distance Cutoff : 5\n"
     ]
    },
    {
     "data": {
      "image/png": "[encoded data removed]",
      "text/plain": [
       "<Figure size 1500x800 with 2 Axes>"
      ]
     },
     "metadata": {},
     "output_type": "display_data"
    }
   ],
   "source": [
    "for distance in INTERFACE_DISTANCES:\n",
    "    print(\"Binding Residues for Distance Cutoff :\", distance)\n",
    "    plot_binding_residues(interface_features[distance])"
   ]
  },
  {
   "cell_type": "markdown",
   "id": "6d7f5162",
   "metadata": {},
   "source": [
    "### Analysis of Interface Sizes"
   ]
  },
  {
   "cell_type": "code",
   "execution_count": 9,
   "id": "e7cba491",
   "metadata": {},
   "outputs": [],
   "source": [
    "def calculate_interface_sizes(interface_features):\n",
    "    interface_sizes, interface_resiude_count, resiude_count, no_antibody_antigen_contact = interface_features\n",
    "\n",
    "    all_antibody_interfaces = []\n",
    "    all_antigen_interfaces = []\n",
    "    all_antibody_interface_size = []\n",
    "    all_antigen_interface_size = []\n",
    "    for interface_size in interface_sizes:\n",
    "        for ab_interface_size in interface_size[\"antibody\"]:\n",
    "            all_antibody_interfaces.append(ab_interface_size)\n",
    "        for ag_interface_size in interface_size[\"antigen\"]:\n",
    "            all_antigen_interfaces.append(ab_interface_size)\n",
    "        all_antibody_interface_size.append(sum(interface_size[\"antibody\"]))    \n",
    "        all_antigen_interface_size.append(sum(interface_size[\"antigen\"])) \n",
    "    print('Average size of an interface on the antibody >>> {:.4f} ({:.4f})'.format(np.mean(all_antibody_interfaces), np.std(all_antibody_interfaces)))\n",
    "    print('Average size of an interface on the antigen >>> {:.4f} ({:.4f})'.format(np.mean(all_antigen_interfaces), np.std(all_antigen_interfaces)))\n",
    "    print('Average size of the complete interface on the antibody >>> {:.4f} ({:.4f})'.format(np.mean(all_antibody_interface_size), np.std(all_antibody_interface_size)))\n",
    "    print('Average size of the complete interface on the antigen >>> {:.4f} ({:.4f})'.format(np.mean(all_antigen_interface_size), np.std(all_antigen_interface_size)))\n",
    "    print('Max size of the complete interface on the antibody >>> {:.0f}'.format(np.max(all_antibody_interface_size)))\n",
    "    print('Max size of the complete interface on the antigen >>> {:.0f}'.format(np.max(all_antigen_interface_size)))"
   ]
  },
  {
   "cell_type": "code",
   "execution_count": 10,
   "id": "0e92a617",
   "metadata": {},
   "outputs": [
    {
     "name": "stdout",
     "output_type": "stream",
     "text": [
      "Binding Residues for Distance Cutoff : 5\n",
      "Average size of an interface on the antibody >>> 3.3862 (2.0774)\n",
      "Average size of an interface on the antigen >>> 3.8634 (2.2347)\n",
      "Average size of the complete interface on the antibody >>> 5.6026 (2.6930)\n",
      "Average size of the complete interface on the antigen >>> 5.6519 (2.6907)\n",
      "Max size of the complete interface on the antibody >>> 15\n",
      "Max size of the complete interface on the antigen >>> 15\n",
      "\n"
     ]
    }
   ],
   "source": [
    "for distance in INTERFACE_DISTANCES:\n",
    "    print(\"Binding Residues for Distance Cutoff :\", distance)\n",
    "    calculate_interface_sizes(interface_features[distance])\n",
    "    print()"
   ]
  },
  {
   "cell_type": "markdown",
   "id": "8f8c01f8",
   "metadata": {},
   "source": [
    "## Analyse interface edges"
   ]
  },
  {
   "cell_type": "code",
   "execution_count": 11,
   "id": "c63d506f",
   "metadata": {},
   "outputs": [],
   "source": [
    "\n",
    "AMINO_ACIDS = [\"ala\",\"cys\",\"asp\",\"glu\",\"phe\",\"gly\",\"his\",\"ile\",\"lys\",\"leu\",\"met\",\"asn\",\"pro\",\"gln\",\"arg\",\"ser\",\"thr\",\"val\",\"trp\",\"tyr\"]\n",
    "AAA2ID = {aa: i for i, aa in enumerate(AMINO_ACIDS)}\n",
    "ID2AA = {i: aa for i, aa in enumerate(AMINO_ACIDS)}\n",
    "\n",
    "\n",
    "RESIDUE_SIDECHAIN_POSTFIXES = {\n",
    "    'A': ['B'],\n",
    "    'R': ['B', 'G', 'D', 'E', 'Z', 'H1', 'H2'],\n",
    "    'N': ['B', 'G', 'D1', 'D2'],\n",
    "    'D': ['B', 'G', 'D1', 'D2'],\n",
    "    'C': ['B', 'G'],\n",
    "    'E': ['B', 'G', 'D', 'E1', 'E2'],\n",
    "    'Q': ['B', 'G', 'D', 'E1', 'E2'],\n",
    "    'G': [],\n",
    "    'H': ['B', 'G', 'D1', 'D2', 'E1', 'E2'],\n",
    "    'I': ['B', 'G1', 'G2', 'D1'],\n",
    "    'L': ['B', 'G', 'D1', 'D2'],\n",
    "    'K': ['B', 'G', 'D', 'E', 'Z'],\n",
    "    'M': ['B', 'G', 'D', 'E'],\n",
    "    'F': ['B', 'G', 'D1', 'D2', 'E1', 'E2', 'Z'],\n",
    "    'P': ['B', 'G', 'D'],\n",
    "    'S': ['B', 'G'],\n",
    "    'T': ['B', 'G1', 'G2'],\n",
    "    'W': ['B', 'G', 'D1', 'D2', 'E1', 'E2', 'E3', 'Z2', 'Z3', 'H2'],\n",
    "    'Y': ['B', 'G', 'D1', 'D2', 'E1', 'E2', 'Z', 'H'],    \n",
    "    'V': ['B', 'G1', 'G2'],\n",
    "}\n",
    "ATOM_POSTFIXES = ['N', 'CA', 'C', 'O']\n",
    "for postfixes in RESIDUE_SIDECHAIN_POSTFIXES.values():\n",
    "    ATOM_POSTFIXES += list(postfixes)\n",
    "ATOM2ID = {atom: i for i, atom in enumerate(ATOM_POSTFIXES)}\n",
    "ID2ATOM = {i: atom for i, atom in enumerate(ATOM_POSTFIXES)}"
   ]
  },
  {
   "cell_type": "code",
   "execution_count": 12,
   "id": "5984f312",
   "metadata": {},
   "outputs": [],
   "source": [
    "datasets = [\"abag_affinity\", \"SKEMPI.v2\", \"PDBBind\", \"AntibodyBenchmark\" ]\n",
    "name_mapping = {\n",
    "    \"abag_affinity\": \"AbAg-Affinity\",\n",
    "    \"SKEMPI.v2\": \"SKEMPI.v2\", \n",
    "    \"PDBBind\": \"PDBBind\",\n",
    "    \"AntibodyBenchmark\": \"AB-benchmark\"\n",
    "}"
   ]
  },
  {
   "cell_type": "code",
   "execution_count": 13,
   "id": "e0c5af5e",
   "metadata": {},
   "outputs": [
    {
     "name": "stdout",
     "output_type": "stream",
     "text": [
      "Calculating stats for abag_affinity\n",
      "Calculating stats for node type atom\n"
     ]
    },
    {
     "name": "stderr",
     "output_type": "stream",
     "text": [
      "100%|████████████████████████████████████████████████████████████████████████████████████████████████████████████████████████████████████████████████████████████████████| 385/385 [00:52<00:00,  7.37it/s]\n"
     ]
    },
    {
     "name": "stdout",
     "output_type": "stream",
     "text": [
      "Calculating stats for node type residue\n"
     ]
    },
    {
     "name": "stderr",
     "output_type": "stream",
     "text": [
      "100%|████████████████████████████████████████████████████████████████████████████████████████████████████████████████████████████████████████████████████████████████████| 385/385 [00:42<00:00,  9.05it/s]\n"
     ]
    },
    {
     "name": "stdout",
     "output_type": "stream",
     "text": [
      "Calculating stats for SKEMPI.v2\n",
      "Calculating stats for node type atom\n"
     ]
    },
    {
     "name": "stderr",
     "output_type": "stream",
     "text": [
      "100%|████████████████████████████████████████████████████████████████████████████████████████████████████████████████████████████████████████████████████████████████████| 100/100 [00:14<00:00,  6.90it/s]\n"
     ]
    },
    {
     "name": "stdout",
     "output_type": "stream",
     "text": [
      "Calculating stats for node type residue\n"
     ]
    },
    {
     "name": "stderr",
     "output_type": "stream",
     "text": [
      "100%|████████████████████████████████████████████████████████████████████████████████████████████████████████████████████████████████████████████████████████████████████| 100/100 [00:12<00:00,  7.93it/s]\n"
     ]
    },
    {
     "name": "stdout",
     "output_type": "stream",
     "text": [
      "Calculating stats for PDBBind\n",
      "Calculating stats for node type atom\n"
     ]
    },
    {
     "name": "stderr",
     "output_type": "stream",
     "text": [
      "100%|██████████████████████████████████████████████████████████████████████████████████████████████████████████████████████████████████████████████████████████████████| 1072/1072 [03:01<00:00,  5.91it/s]\n"
     ]
    },
    {
     "name": "stdout",
     "output_type": "stream",
     "text": [
      "Calculating stats for node type residue\n"
     ]
    },
    {
     "name": "stderr",
     "output_type": "stream",
     "text": [
      "100%|██████████████████████████████████████████████████████████████████████████████████████████████████████████████████████████████████████████████████████████████████| 1072/1072 [02:28<00:00,  7.21it/s]\n"
     ]
    },
    {
     "name": "stdout",
     "output_type": "stream",
     "text": [
      "Calculating stats for AntibodyBenchmark\n",
      "Calculating stats for node type atom\n"
     ]
    },
    {
     "name": "stderr",
     "output_type": "stream",
     "text": [
      "100%|██████████████████████████████████████████████████████████████████████████████████████████████████████████████████████████████████████████████████████████████████████| 42/42 [00:07<00:00,  5.95it/s]\n"
     ]
    },
    {
     "name": "stdout",
     "output_type": "stream",
     "text": [
      "Calculating stats for node type residue\n"
     ]
    },
    {
     "name": "stderr",
     "output_type": "stream",
     "text": [
      "100%|██████████████████████████████████████████████████████████████████████████████████████████████████████████████████████████████████████████████████████████████████████| 42/42 [00:05<00:00,  7.76it/s]\n"
     ]
    }
   ],
   "source": [
    "from abag_affinity.dataset.utils import load_graph_dict\n",
    "\n",
    "\n",
    "node_types = [\"atom\", \"residue\"]\n",
    "\n",
    "dataset_stats = {}\n",
    "\n",
    "for dataset_name in datasets:\n",
    "    print(f\"Calculating stats for {dataset_name}\")\n",
    "            \n",
    "    summary_path = os.path.join(config[\"DATASETS\"][\"path\"], config[\"DATASETS\"][dataset_name][\"folder_path\"], config[\"DATASETS\"][dataset_name][\"summary\"])\n",
    "    pdb_path = os.path.join(config[\"DATASETS\"][\"path\"], config[\"DATASETS\"][dataset_name][\"folder_path\"], config[\"DATASETS\"][dataset_name][\"pdb_path\"])\n",
    "\n",
    "    dataset = pd.read_csv(summary_path)\n",
    "    \n",
    "    dataset = dataset.drop_duplicates(subset='pdb', keep='first')\n",
    "    \n",
    "    \n",
    "    \n",
    "    dataset_stats[dataset_name] = {}\n",
    "    \n",
    "    for node_type in node_types:\n",
    "        print(f\"Calculating stats for node type {node_type}\")\n",
    "        \n",
    "        num_proximity_edges = []\n",
    "        num_interface_edges = []\n",
    "        num_interface_nodes = []\n",
    "        num_graph_nodes = []\n",
    "        node_counts = defaultdict(int)\n",
    "        interface_node_count = defaultdict(int)\n",
    "        interface_hull_node_count = defaultdict(int)\n",
    "\n",
    "        for idx, row in tqdm(dataset.iterrows(), total=len(dataset)):    \n",
    "            data_location = \"DATASETS\"\n",
    "            if \"mutation_code\" in row and row[\"mutation_code\"] != \"\" and not isinstance(row[\"mutation_code\"], float):\n",
    "                pdb_id = row[\"pdb\"] + \"_\" + row[\"mutation_code\"]\n",
    "\n",
    "                pdb_file_path = os.path.join(config[data_location][\"path\"],\n",
    "                                             config[data_location][dataset_name][\"folder_path\"],\n",
    "                                             config[data_location][dataset_name][\"mutated_pdb_path\"])\n",
    "            else:\n",
    "                pdb_id = row[\"pdb\"]\n",
    "                pdb_file_path = os.path.join(config[data_location][\"path\"],\n",
    "                                             config[data_location][dataset_name][\"folder_path\"],\n",
    "                                             config[data_location][dataset_name][\"pdb_path\"])\n",
    "            pdb_file_path = os.path.join(pdb_file_path, row[\"filename\"])\n",
    "            \n",
    "            if not os.path.exists(pdb_file_path):\n",
    "                continue\n",
    "            try:\n",
    "                graph_dict = load_graph_dict(row, dataset_name, config, node_type=node_type,\n",
    "                                            cleaned_pdb_folder=os.path.join(config[\"cleaned_pdbs\"]),\n",
    "                                            interface_hull_size=INTERFACE_HULL_SIZE)\n",
    "            except:\n",
    "                continue\n",
    "                \n",
    "            adjacency_matrix = graph_dict[\"adjacency_tensor\"]\n",
    "            \n",
    "            interface_edges = np.where(adjacency_matrix[0, :, :] - adjacency_matrix[2, :, :] > 0.001)\n",
    "            num_interface_edges.append(len(interface_edges[0]))\n",
    "            \n",
    "            proximity_edges = np.where(adjacency_matrix[0, :, :] > 0.001)\n",
    "            num_proximity_edges.append(len(proximity_edges[0]))\n",
    "            \n",
    "            interface_nodes = interface_edges[0]\n",
    "            interface_nodes = np.unique(interface_nodes)\n",
    "            num_interface_nodes.append(len(interface_nodes))    \n",
    "            \n",
    "            interface_hull = np.where(adjacency_matrix[3, interface_nodes, :] < INTERFACE_HULL_SIZE)\n",
    "            graph_nodes = np.unique(interface_hull[1])\n",
    "            num_graph_nodes.append(len(graph_nodes))\n",
    "            \n",
    "            if node_type == \"atom\": \n",
    "                start = 23\n",
    "                num_types = 91\n",
    "                type_converter = ID2ATOM\n",
    "            elif node_type == \"residue\": \n",
    "                start = 0\n",
    "                num_types = 20\n",
    "                type_converter = ID2AA\n",
    "\n",
    "            residue_types = graph_dict[\"node_features\"][:, start:start + num_types].argmax(axis=1)\n",
    "            types, counts = np.unique(residue_types, return_counts=True)\n",
    "            for ii, type_id in enumerate(types):\n",
    "                count = counts[ii]\n",
    "                type_name = type_converter[type_id]\n",
    "                node_counts[type_name] += (count / len(residue_types))\n",
    "                \n",
    "            interface_residue_types = graph_dict[\"node_features\"][interface_nodes, start:start + num_types].argmax(axis=1)\n",
    "            types, counts = np.unique(interface_residue_types, return_counts=True)\n",
    "            for ii, type_id in enumerate(types):\n",
    "                count = counts[ii]\n",
    "                type_name = type_converter[type_id]\n",
    "                interface_node_count[type_name] += (count / len(interface_residue_types))\n",
    "                \n",
    "            interface_hull_residue_types = graph_dict[\"node_features\"][graph_nodes, start:start + num_types].argmax(axis=1)\n",
    "            types, counts = np.unique(interface_hull_residue_types, return_counts=True)\n",
    "            for ii, type_id in enumerate(types):\n",
    "                count = counts[ii]\n",
    "                type_name = type_converter[type_id]\n",
    "                interface_hull_node_count[type_name] += (count / len(interface_hull_residue_types))\n",
    "                \n",
    "                \n",
    "        node_counts = {k: v / len(dataset) for k, v in node_counts.items()}\n",
    "        interface_node_count = {k: v / len(dataset) for k, v in interface_node_count.items()}\n",
    "        interface_hull_node_count = {k: v / len(dataset) for k, v in interface_hull_node_count.items()}\n",
    "\n",
    "\n",
    "        dataset_stats[dataset_name][node_type] = {\n",
    "            \"num_interface_edges\": num_interface_edges,\n",
    "            \"interface_nodes\":num_interface_nodes,\n",
    "            \"graph_size\": num_graph_nodes,\n",
    "            \"num_proximity_edges\": num_proximity_edges,\n",
    "            \"node_count\": node_counts,\n",
    "            \"interface_node_count\": interface_node_count,\n",
    "            \"interface_hull_node_count\": interface_hull_node_count\n",
    "        }\n"
   ]
  },
  {
   "cell_type": "code",
   "execution_count": 14,
   "id": "a96024d0",
   "metadata": {},
   "outputs": [
    {
     "data": {
      "text/html": [
       "<div>\n",
       "<style scoped>\n",
       "    .dataframe tbody tr th:only-of-type {\n",
       "        vertical-align: middle;\n",
       "    }\n",
       "\n",
       "    .dataframe tbody tr th {\n",
       "        vertical-align: top;\n",
       "    }\n",
       "\n",
       "    .dataframe thead th {\n",
       "        text-align: right;\n",
       "    }\n",
       "</style>\n",
       "<table border=\"1\" class=\"dataframe\">\n",
       "  <thead>\n",
       "    <tr style=\"text-align: right;\">\n",
       "      <th></th>\n",
       "      <th>num_interface_edges</th>\n",
       "      <th>interface_nodes</th>\n",
       "      <th>graph_size</th>\n",
       "      <th>num_proximity_edges</th>\n",
       "      <th>dataset_name</th>\n",
       "      <th>node_type</th>\n",
       "      <th>dataset_node</th>\n",
       "    </tr>\n",
       "  </thead>\n",
       "  <tbody>\n",
       "    <tr>\n",
       "      <th>0</th>\n",
       "      <td>764</td>\n",
       "      <td>177</td>\n",
       "      <td>695</td>\n",
       "      <td>18522</td>\n",
       "      <td>abag_affinity</td>\n",
       "      <td>atom</td>\n",
       "      <td>abag_affinity_atom</td>\n",
       "    </tr>\n",
       "    <tr>\n",
       "      <th>1</th>\n",
       "      <td>1224</td>\n",
       "      <td>243</td>\n",
       "      <td>827</td>\n",
       "      <td>22046</td>\n",
       "      <td>abag_affinity</td>\n",
       "      <td>atom</td>\n",
       "      <td>abag_affinity_atom</td>\n",
       "    </tr>\n",
       "    <tr>\n",
       "      <th>2</th>\n",
       "      <td>766</td>\n",
       "      <td>169</td>\n",
       "      <td>611</td>\n",
       "      <td>15960</td>\n",
       "      <td>abag_affinity</td>\n",
       "      <td>atom</td>\n",
       "      <td>abag_affinity_atom</td>\n",
       "    </tr>\n",
       "    <tr>\n",
       "      <th>3</th>\n",
       "      <td>484</td>\n",
       "      <td>122</td>\n",
       "      <td>471</td>\n",
       "      <td>13768</td>\n",
       "      <td>abag_affinity</td>\n",
       "      <td>atom</td>\n",
       "      <td>abag_affinity_atom</td>\n",
       "    </tr>\n",
       "    <tr>\n",
       "      <th>4</th>\n",
       "      <td>1238</td>\n",
       "      <td>234</td>\n",
       "      <td>796</td>\n",
       "      <td>22432</td>\n",
       "      <td>abag_affinity</td>\n",
       "      <td>atom</td>\n",
       "      <td>abag_affinity_atom</td>\n",
       "    </tr>\n",
       "  </tbody>\n",
       "</table>\n",
       "</div>"
      ],
      "text/plain": [
       "   num_interface_edges  interface_nodes  graph_size  num_proximity_edges  \\\n",
       "0                  764              177         695                18522   \n",
       "1                 1224              243         827                22046   \n",
       "2                  766              169         611                15960   \n",
       "3                  484              122         471                13768   \n",
       "4                 1238              234         796                22432   \n",
       "\n",
       "    dataset_name node_type        dataset_node  \n",
       "0  abag_affinity      atom  abag_affinity_atom  \n",
       "1  abag_affinity      atom  abag_affinity_atom  \n",
       "2  abag_affinity      atom  abag_affinity_atom  \n",
       "3  abag_affinity      atom  abag_affinity_atom  \n",
       "4  abag_affinity      atom  abag_affinity_atom  "
      ]
     },
     "execution_count": 14,
     "metadata": {},
     "output_type": "execute_result"
    }
   ],
   "source": [
    "pdList = []\n",
    "\n",
    "\n",
    "for dataset_name in dataset_stats.keys():\n",
    "    for node_type in dataset_stats[dataset_name]:\n",
    "        type_data = pd.DataFrame()\n",
    "        type_data[\"num_interface_edges\"] = dataset_stats[dataset_name][node_type][\"num_interface_edges\"]\n",
    "        type_data[\"interface_nodes\"] = dataset_stats[dataset_name][node_type][\"interface_nodes\"]\n",
    "        type_data[\"graph_size\"] = dataset_stats[dataset_name][node_type][\"graph_size\"]\n",
    "        type_data[\"num_proximity_edges\"] = dataset_stats[dataset_name][node_type][\"num_proximity_edges\"]\n",
    "\n",
    "        type_data[\"dataset_name\"] = dataset_name\n",
    "        type_data[\"node_type\"] = node_type\n",
    "        type_data[\"dataset_node\"] = dataset_name + \"_\" + node_type\n",
    "\n",
    "        pdList.append(type_data)\n",
    "\n",
    "dataset_info_df = pd.concat(pdList).reset_index(drop=True)\n",
    "dataset_info_df.head()"
   ]
  },
  {
   "cell_type": "code",
   "execution_count": 15,
   "id": "7b2bbb54",
   "metadata": {},
   "outputs": [],
   "source": [
    "colors = sns.color_palette(\"hls\", 4)\n",
    "\n",
    "def plot_histograms(column, title: str = \"\"):\n",
    "    node_types = [\"atom\", \"residue\"]\n",
    "    fig, axs = plt.subplots(1, 2, figsize=(15,5))\n",
    "    \n",
    "    color_bar = {}\n",
    "\n",
    "    for i, node_type in enumerate(node_types):\n",
    "        node_type_df = dataset_info_df[dataset_info_df[\"node_type\"] == node_type]\n",
    "        for ii, dataset_name in enumerate(datasets):\n",
    "            df = node_type_df[node_type_df[\"dataset_name\"] == dataset_name]\n",
    "            ax = sns.histplot(df,  x=column, kde=True, ax=axs[i], stat=\"percent\", color=colors[ii])\n",
    "            color_bar[name_mapping[dataset_name]] = colors[ii]   \n",
    "\n",
    "        axs[i].set_title(title.format(node_type))\n",
    "        \n",
    "        labels = list(color_bar.keys())\n",
    "        handles = [plt.Rectangle((0,0),1,1, color=color_bar[label]) for label in labels]\n",
    "        axs[i].legend(handles, labels)"
   ]
  },
  {
   "cell_type": "code",
   "execution_count": 16,
   "id": "70a4d2c7",
   "metadata": {},
   "outputs": [
    {
     "name": "stdout",
     "output_type": "stream",
     "text": [
      "There are on average 199 nodes in atom graphs and 41 nodes in residue graphs -> 4.853658536585366\n"
     ]
    }
   ],
   "source": [
    "mean_atom_nodes = int(dataset_info_df[(dataset_info_df[\"dataset_name\"] == \"abag_affinity\") & (dataset_info_df[\"node_type\"] == \"atom\")][\"interface_nodes\"].mean())\n",
    "mean_residue_nodes = int(dataset_info_df[(dataset_info_df[\"dataset_name\"] == \"abag_affinity\") & (dataset_info_df[\"node_type\"] == \"residue\")][\"interface_nodes\"].mean())\n",
    "\n",
    "print(f\"There are on average {mean_atom_nodes} nodes in atom graphs and {mean_residue_nodes} nodes in residue graphs -> {mean_atom_nodes / mean_residue_nodes}\")"
   ]
  },
  {
   "cell_type": "code",
   "execution_count": 17,
   "id": "d20e549e",
   "metadata": {},
   "outputs": [
    {
     "ename": "FileNotFoundError",
     "evalue": "[Errno 2] No such file or directory: './Dataset_Analysis/plots/dataset_comparison_num_interface_edges_distribution.png'",
     "output_type": "error",
     "traceback": [
      "\u001B[0;31m---------------------------------------------------------------------------\u001B[0m",
      "\u001B[0;31mFileNotFoundError\u001B[0m                         Traceback (most recent call last)",
      "Cell \u001B[0;32mIn [17], line 2\u001B[0m\n\u001B[1;32m      1\u001B[0m plot_histograms(\u001B[38;5;124m\"\u001B[39m\u001B[38;5;124mnum_interface_edges\u001B[39m\u001B[38;5;124m\"\u001B[39m, \u001B[38;5;124m\"\u001B[39m\u001B[38;5;124mNumber of interface edges for \u001B[39m\u001B[38;5;132;01m{}\u001B[39;00m\u001B[38;5;124m nodes\u001B[39m\u001B[38;5;124m\"\u001B[39m)\n\u001B[0;32m----> 2\u001B[0m plt\u001B[38;5;241m.\u001B[39msavefig(\u001B[38;5;124mf\u001B[39m\u001B[38;5;124m\"\u001B[39m\u001B[38;5;124m./Dataset_Analysis/plots/dataset_comparison_num_interface_edges_distribution.png\u001B[39m\u001B[38;5;124m\"\u001B[39m)\n",
      "File \u001B[0;32m~/miniconda3/envs/DeepRefine/lib/python3.8/site-packages/matplotlib/pyplot.py:958\u001B[0m, in \u001B[0;36msavefig\u001B[0;34m(*args, **kwargs)\u001B[0m\n\u001B[1;32m    955\u001B[0m \u001B[38;5;129m@_copy_docstring_and_deprecators\u001B[39m(Figure\u001B[38;5;241m.\u001B[39msavefig)\n\u001B[1;32m    956\u001B[0m \u001B[38;5;28;01mdef\u001B[39;00m \u001B[38;5;21msavefig\u001B[39m(\u001B[38;5;241m*\u001B[39margs, \u001B[38;5;241m*\u001B[39m\u001B[38;5;241m*\u001B[39mkwargs):\n\u001B[1;32m    957\u001B[0m     fig \u001B[38;5;241m=\u001B[39m gcf()\n\u001B[0;32m--> 958\u001B[0m     res \u001B[38;5;241m=\u001B[39m \u001B[43mfig\u001B[49m\u001B[38;5;241;43m.\u001B[39;49m\u001B[43msavefig\u001B[49m\u001B[43m(\u001B[49m\u001B[38;5;241;43m*\u001B[39;49m\u001B[43margs\u001B[49m\u001B[43m,\u001B[49m\u001B[43m \u001B[49m\u001B[38;5;241;43m*\u001B[39;49m\u001B[38;5;241;43m*\u001B[39;49m\u001B[43mkwargs\u001B[49m\u001B[43m)\u001B[49m\n\u001B[1;32m    959\u001B[0m     fig\u001B[38;5;241m.\u001B[39mcanvas\u001B[38;5;241m.\u001B[39mdraw_idle()   \u001B[38;5;66;03m# need this if 'transparent=True' to reset colors\u001B[39;00m\n\u001B[1;32m    960\u001B[0m     \u001B[38;5;28;01mreturn\u001B[39;00m res\n",
      "File \u001B[0;32m~/miniconda3/envs/DeepRefine/lib/python3.8/site-packages/matplotlib/figure.py:3019\u001B[0m, in \u001B[0;36mFigure.savefig\u001B[0;34m(self, fname, transparent, **kwargs)\u001B[0m\n\u001B[1;32m   3015\u001B[0m     \u001B[38;5;28;01mfor\u001B[39;00m ax \u001B[38;5;129;01min\u001B[39;00m \u001B[38;5;28mself\u001B[39m\u001B[38;5;241m.\u001B[39maxes:\n\u001B[1;32m   3016\u001B[0m         stack\u001B[38;5;241m.\u001B[39menter_context(\n\u001B[1;32m   3017\u001B[0m             ax\u001B[38;5;241m.\u001B[39mpatch\u001B[38;5;241m.\u001B[39m_cm_set(facecolor\u001B[38;5;241m=\u001B[39m\u001B[38;5;124m'\u001B[39m\u001B[38;5;124mnone\u001B[39m\u001B[38;5;124m'\u001B[39m, edgecolor\u001B[38;5;241m=\u001B[39m\u001B[38;5;124m'\u001B[39m\u001B[38;5;124mnone\u001B[39m\u001B[38;5;124m'\u001B[39m))\n\u001B[0;32m-> 3019\u001B[0m \u001B[38;5;28;43mself\u001B[39;49m\u001B[38;5;241;43m.\u001B[39;49m\u001B[43mcanvas\u001B[49m\u001B[38;5;241;43m.\u001B[39;49m\u001B[43mprint_figure\u001B[49m\u001B[43m(\u001B[49m\u001B[43mfname\u001B[49m\u001B[43m,\u001B[49m\u001B[43m \u001B[49m\u001B[38;5;241;43m*\u001B[39;49m\u001B[38;5;241;43m*\u001B[39;49m\u001B[43mkwargs\u001B[49m\u001B[43m)\u001B[49m\n",
      "File \u001B[0;32m~/miniconda3/envs/DeepRefine/lib/python3.8/site-packages/matplotlib/backend_bases.py:2319\u001B[0m, in \u001B[0;36mFigureCanvasBase.print_figure\u001B[0;34m(self, filename, dpi, facecolor, edgecolor, orientation, format, bbox_inches, pad_inches, bbox_extra_artists, backend, **kwargs)\u001B[0m\n\u001B[1;32m   2315\u001B[0m \u001B[38;5;28;01mtry\u001B[39;00m:\n\u001B[1;32m   2316\u001B[0m     \u001B[38;5;66;03m# _get_renderer may change the figure dpi (as vector formats\u001B[39;00m\n\u001B[1;32m   2317\u001B[0m     \u001B[38;5;66;03m# force the figure dpi to 72), so we need to set it again here.\u001B[39;00m\n\u001B[1;32m   2318\u001B[0m     \u001B[38;5;28;01mwith\u001B[39;00m cbook\u001B[38;5;241m.\u001B[39m_setattr_cm(\u001B[38;5;28mself\u001B[39m\u001B[38;5;241m.\u001B[39mfigure, dpi\u001B[38;5;241m=\u001B[39mdpi):\n\u001B[0;32m-> 2319\u001B[0m         result \u001B[38;5;241m=\u001B[39m \u001B[43mprint_method\u001B[49m\u001B[43m(\u001B[49m\n\u001B[1;32m   2320\u001B[0m \u001B[43m            \u001B[49m\u001B[43mfilename\u001B[49m\u001B[43m,\u001B[49m\n\u001B[1;32m   2321\u001B[0m \u001B[43m            \u001B[49m\u001B[43mfacecolor\u001B[49m\u001B[38;5;241;43m=\u001B[39;49m\u001B[43mfacecolor\u001B[49m\u001B[43m,\u001B[49m\n\u001B[1;32m   2322\u001B[0m \u001B[43m            \u001B[49m\u001B[43medgecolor\u001B[49m\u001B[38;5;241;43m=\u001B[39;49m\u001B[43medgecolor\u001B[49m\u001B[43m,\u001B[49m\n\u001B[1;32m   2323\u001B[0m \u001B[43m            \u001B[49m\u001B[43morientation\u001B[49m\u001B[38;5;241;43m=\u001B[39;49m\u001B[43morientation\u001B[49m\u001B[43m,\u001B[49m\n\u001B[1;32m   2324\u001B[0m \u001B[43m            \u001B[49m\u001B[43mbbox_inches_restore\u001B[49m\u001B[38;5;241;43m=\u001B[39;49m\u001B[43m_bbox_inches_restore\u001B[49m\u001B[43m,\u001B[49m\n\u001B[1;32m   2325\u001B[0m \u001B[43m            \u001B[49m\u001B[38;5;241;43m*\u001B[39;49m\u001B[38;5;241;43m*\u001B[39;49m\u001B[43mkwargs\u001B[49m\u001B[43m)\u001B[49m\n\u001B[1;32m   2326\u001B[0m \u001B[38;5;28;01mfinally\u001B[39;00m:\n\u001B[1;32m   2327\u001B[0m     \u001B[38;5;28;01mif\u001B[39;00m bbox_inches \u001B[38;5;129;01mand\u001B[39;00m restore_bbox:\n",
      "File \u001B[0;32m~/miniconda3/envs/DeepRefine/lib/python3.8/site-packages/matplotlib/backend_bases.py:1648\u001B[0m, in \u001B[0;36m_check_savefig_extra_args.<locals>.wrapper\u001B[0;34m(*args, **kwargs)\u001B[0m\n\u001B[1;32m   1640\u001B[0m     _api\u001B[38;5;241m.\u001B[39mwarn_deprecated(\n\u001B[1;32m   1641\u001B[0m         \u001B[38;5;124m'\u001B[39m\u001B[38;5;124m3.3\u001B[39m\u001B[38;5;124m'\u001B[39m, name\u001B[38;5;241m=\u001B[39mname, removal\u001B[38;5;241m=\u001B[39m\u001B[38;5;124m'\u001B[39m\u001B[38;5;124m3.6\u001B[39m\u001B[38;5;124m'\u001B[39m,\n\u001B[1;32m   1642\u001B[0m         message\u001B[38;5;241m=\u001B[39m\u001B[38;5;124m'\u001B[39m\u001B[38;5;132;01m%(name)s\u001B[39;00m\u001B[38;5;124m() got unexpected keyword argument \u001B[39m\u001B[38;5;124m\"\u001B[39m\u001B[38;5;124m'\u001B[39m\n\u001B[1;32m   1643\u001B[0m                 \u001B[38;5;241m+\u001B[39m arg \u001B[38;5;241m+\u001B[39m \u001B[38;5;124m'\u001B[39m\u001B[38;5;124m\"\u001B[39m\u001B[38;5;124m which is no longer supported as of \u001B[39m\u001B[38;5;124m'\u001B[39m\n\u001B[1;32m   1644\u001B[0m                 \u001B[38;5;124m'\u001B[39m\u001B[38;5;132;01m%(since)s\u001B[39;00m\u001B[38;5;124m and will become an error \u001B[39m\u001B[38;5;124m'\u001B[39m\n\u001B[1;32m   1645\u001B[0m                 \u001B[38;5;124m'\u001B[39m\u001B[38;5;132;01m%(removal)s\u001B[39;00m\u001B[38;5;124m'\u001B[39m)\n\u001B[1;32m   1646\u001B[0m     kwargs\u001B[38;5;241m.\u001B[39mpop(arg)\n\u001B[0;32m-> 1648\u001B[0m \u001B[38;5;28;01mreturn\u001B[39;00m \u001B[43mfunc\u001B[49m\u001B[43m(\u001B[49m\u001B[38;5;241;43m*\u001B[39;49m\u001B[43margs\u001B[49m\u001B[43m,\u001B[49m\u001B[43m \u001B[49m\u001B[38;5;241;43m*\u001B[39;49m\u001B[38;5;241;43m*\u001B[39;49m\u001B[43mkwargs\u001B[49m\u001B[43m)\u001B[49m\n",
      "File \u001B[0;32m~/miniconda3/envs/DeepRefine/lib/python3.8/site-packages/matplotlib/_api/deprecation.py:412\u001B[0m, in \u001B[0;36mdelete_parameter.<locals>.wrapper\u001B[0;34m(*inner_args, **inner_kwargs)\u001B[0m\n\u001B[1;32m    402\u001B[0m     deprecation_addendum \u001B[38;5;241m=\u001B[39m (\n\u001B[1;32m    403\u001B[0m         \u001B[38;5;124mf\u001B[39m\u001B[38;5;124m\"\u001B[39m\u001B[38;5;124mIf any parameter follows \u001B[39m\u001B[38;5;132;01m{\u001B[39;00mname\u001B[38;5;132;01m!r}\u001B[39;00m\u001B[38;5;124m, they should be passed as \u001B[39m\u001B[38;5;124m\"\u001B[39m\n\u001B[1;32m    404\u001B[0m         \u001B[38;5;124mf\u001B[39m\u001B[38;5;124m\"\u001B[39m\u001B[38;5;124mkeyword, not positionally.\u001B[39m\u001B[38;5;124m\"\u001B[39m)\n\u001B[1;32m    405\u001B[0m     warn_deprecated(\n\u001B[1;32m    406\u001B[0m         since,\n\u001B[1;32m    407\u001B[0m         name\u001B[38;5;241m=\u001B[39m\u001B[38;5;28mrepr\u001B[39m(name),\n\u001B[0;32m   (...)\u001B[0m\n\u001B[1;32m    410\u001B[0m                  \u001B[38;5;28;01melse\u001B[39;00m deprecation_addendum,\n\u001B[1;32m    411\u001B[0m         \u001B[38;5;241m*\u001B[39m\u001B[38;5;241m*\u001B[39mkwargs)\n\u001B[0;32m--> 412\u001B[0m \u001B[38;5;28;01mreturn\u001B[39;00m \u001B[43mfunc\u001B[49m\u001B[43m(\u001B[49m\u001B[38;5;241;43m*\u001B[39;49m\u001B[43minner_args\u001B[49m\u001B[43m,\u001B[49m\u001B[43m \u001B[49m\u001B[38;5;241;43m*\u001B[39;49m\u001B[38;5;241;43m*\u001B[39;49m\u001B[43minner_kwargs\u001B[49m\u001B[43m)\u001B[49m\n",
      "File \u001B[0;32m~/miniconda3/envs/DeepRefine/lib/python3.8/site-packages/matplotlib/backends/backend_agg.py:541\u001B[0m, in \u001B[0;36mFigureCanvasAgg.print_png\u001B[0;34m(self, filename_or_obj, metadata, pil_kwargs, *args)\u001B[0m\n\u001B[1;32m    494\u001B[0m \u001B[38;5;124;03m\"\"\"\u001B[39;00m\n\u001B[1;32m    495\u001B[0m \u001B[38;5;124;03mWrite the figure to a PNG file.\u001B[39;00m\n\u001B[1;32m    496\u001B[0m \n\u001B[0;32m   (...)\u001B[0m\n\u001B[1;32m    538\u001B[0m \u001B[38;5;124;03m    *metadata*, including the default 'Software' key.\u001B[39;00m\n\u001B[1;32m    539\u001B[0m \u001B[38;5;124;03m\"\"\"\u001B[39;00m\n\u001B[1;32m    540\u001B[0m FigureCanvasAgg\u001B[38;5;241m.\u001B[39mdraw(\u001B[38;5;28mself\u001B[39m)\n\u001B[0;32m--> 541\u001B[0m \u001B[43mmpl\u001B[49m\u001B[38;5;241;43m.\u001B[39;49m\u001B[43mimage\u001B[49m\u001B[38;5;241;43m.\u001B[39;49m\u001B[43mimsave\u001B[49m\u001B[43m(\u001B[49m\n\u001B[1;32m    542\u001B[0m \u001B[43m    \u001B[49m\u001B[43mfilename_or_obj\u001B[49m\u001B[43m,\u001B[49m\u001B[43m \u001B[49m\u001B[38;5;28;43mself\u001B[39;49m\u001B[38;5;241;43m.\u001B[39;49m\u001B[43mbuffer_rgba\u001B[49m\u001B[43m(\u001B[49m\u001B[43m)\u001B[49m\u001B[43m,\u001B[49m\u001B[43m \u001B[49m\u001B[38;5;28;43mformat\u001B[39;49m\u001B[38;5;241;43m=\u001B[39;49m\u001B[38;5;124;43m\"\u001B[39;49m\u001B[38;5;124;43mpng\u001B[39;49m\u001B[38;5;124;43m\"\u001B[39;49m\u001B[43m,\u001B[49m\u001B[43m \u001B[49m\u001B[43morigin\u001B[49m\u001B[38;5;241;43m=\u001B[39;49m\u001B[38;5;124;43m\"\u001B[39;49m\u001B[38;5;124;43mupper\u001B[39;49m\u001B[38;5;124;43m\"\u001B[39;49m\u001B[43m,\u001B[49m\n\u001B[1;32m    543\u001B[0m \u001B[43m    \u001B[49m\u001B[43mdpi\u001B[49m\u001B[38;5;241;43m=\u001B[39;49m\u001B[38;5;28;43mself\u001B[39;49m\u001B[38;5;241;43m.\u001B[39;49m\u001B[43mfigure\u001B[49m\u001B[38;5;241;43m.\u001B[39;49m\u001B[43mdpi\u001B[49m\u001B[43m,\u001B[49m\u001B[43m \u001B[49m\u001B[43mmetadata\u001B[49m\u001B[38;5;241;43m=\u001B[39;49m\u001B[43mmetadata\u001B[49m\u001B[43m,\u001B[49m\u001B[43m \u001B[49m\u001B[43mpil_kwargs\u001B[49m\u001B[38;5;241;43m=\u001B[39;49m\u001B[43mpil_kwargs\u001B[49m\u001B[43m)\u001B[49m\n",
      "File \u001B[0;32m~/miniconda3/envs/DeepRefine/lib/python3.8/site-packages/matplotlib/image.py:1675\u001B[0m, in \u001B[0;36mimsave\u001B[0;34m(fname, arr, vmin, vmax, cmap, format, origin, dpi, metadata, pil_kwargs)\u001B[0m\n\u001B[1;32m   1673\u001B[0m pil_kwargs\u001B[38;5;241m.\u001B[39msetdefault(\u001B[38;5;124m\"\u001B[39m\u001B[38;5;124mformat\u001B[39m\u001B[38;5;124m\"\u001B[39m, \u001B[38;5;28mformat\u001B[39m)\n\u001B[1;32m   1674\u001B[0m pil_kwargs\u001B[38;5;241m.\u001B[39msetdefault(\u001B[38;5;124m\"\u001B[39m\u001B[38;5;124mdpi\u001B[39m\u001B[38;5;124m\"\u001B[39m, (dpi, dpi))\n\u001B[0;32m-> 1675\u001B[0m \u001B[43mimage\u001B[49m\u001B[38;5;241;43m.\u001B[39;49m\u001B[43msave\u001B[49m\u001B[43m(\u001B[49m\u001B[43mfname\u001B[49m\u001B[43m,\u001B[49m\u001B[43m \u001B[49m\u001B[38;5;241;43m*\u001B[39;49m\u001B[38;5;241;43m*\u001B[39;49m\u001B[43mpil_kwargs\u001B[49m\u001B[43m)\u001B[49m\n",
      "File \u001B[0;32m~/miniconda3/envs/DeepRefine/lib/python3.8/site-packages/PIL/Image.py:2317\u001B[0m, in \u001B[0;36mImage.save\u001B[0;34m(self, fp, format, **params)\u001B[0m\n\u001B[1;32m   2315\u001B[0m         fp \u001B[38;5;241m=\u001B[39m builtins\u001B[38;5;241m.\u001B[39mopen(filename, \u001B[38;5;124m\"\u001B[39m\u001B[38;5;124mr+b\u001B[39m\u001B[38;5;124m\"\u001B[39m)\n\u001B[1;32m   2316\u001B[0m     \u001B[38;5;28;01melse\u001B[39;00m:\n\u001B[0;32m-> 2317\u001B[0m         fp \u001B[38;5;241m=\u001B[39m \u001B[43mbuiltins\u001B[49m\u001B[38;5;241;43m.\u001B[39;49m\u001B[43mopen\u001B[49m\u001B[43m(\u001B[49m\u001B[43mfilename\u001B[49m\u001B[43m,\u001B[49m\u001B[43m \u001B[49m\u001B[38;5;124;43m\"\u001B[39;49m\u001B[38;5;124;43mw+b\u001B[39;49m\u001B[38;5;124;43m\"\u001B[39;49m\u001B[43m)\u001B[49m\n\u001B[1;32m   2319\u001B[0m \u001B[38;5;28;01mtry\u001B[39;00m:\n\u001B[1;32m   2320\u001B[0m     save_handler(\u001B[38;5;28mself\u001B[39m, fp, filename)\n",
      "\u001B[0;31mFileNotFoundError\u001B[0m: [Errno 2] No such file or directory: './Dataset_Analysis/plots/dataset_comparison_num_interface_edges_distribution.png'"
     ]
    },
    {
     "data": {
      "image/png": "[encoded data removed]",
      "text/plain": [
       "<Figure size 1500x500 with 2 Axes>"
      ]
     },
     "metadata": {},
     "output_type": "display_data"
    }
   ],
   "source": [
    "plot_histograms(\"num_interface_edges\", \"Number of interface edges for {} nodes\")\n",
    "plt.savefig(f\"./Dataset_Analysis/plots/dataset_comparison_num_interface_edges_distribution.png\")\n"
   ]
  },
  {
   "cell_type": "code",
   "execution_count": null,
   "id": "e911a633",
   "metadata": {},
   "outputs": [],
   "source": [
    "plot_histograms(\"num_proximity_edges\", \"Number of total proximity edges for {} nodes\")\n",
    "plt.savefig(f\"./Dataset_Analysis/plots/dataset_comparison_num_proximity_edges_distribution.png\")\n"
   ]
  },
  {
   "cell_type": "code",
   "execution_count": null,
   "id": "82b08296",
   "metadata": {},
   "outputs": [],
   "source": [
    "plot_histograms(\"interface_nodes\", \"Number of interface nodes for {} nodes\")\n",
    "plt.savefig(f\"./Dataset_Analysis/plots/dataset_comparison_interface_nodes_distribution.png\")\n"
   ]
  },
  {
   "cell_type": "code",
   "execution_count": null,
   "id": "96a4b714",
   "metadata": {},
   "outputs": [],
   "source": [
    "plot_histograms(\"graph_size\", \"Number of graph nodes for {} nodes\")\n",
    "plt.savefig(f\"./Dataset_Analysis/plots/dataset_comparison_graph_size_distribution.png\")\n"
   ]
  },
  {
   "cell_type": "markdown",
   "id": "345ba118",
   "metadata": {},
   "source": [
    "### Node type distribution"
   ]
  },
  {
   "cell_type": "code",
   "execution_count": null,
   "id": "447b7a4d",
   "metadata": {},
   "outputs": [],
   "source": [
    "def plot_binding_residues(node_counts, node_type: str, ax=None, plot_x_frequent=20):\n",
    "    plot_x_frequent = 10\n",
    "    width = 0.2\n",
    "    if ax is None:\n",
    "        fix, ax = plt.subplots(1,1, figsize=(15,8))\n",
    "    \n",
    "    \n",
    "    sorted_dict = {k: v for k, v in sorted(node_counts[name_mapping[\"abag_affinity\"]].items(), key=lambda item: item[1], reverse=True)}\n",
    "    most_frequent_nodes = list(sorted_dict.keys())[:plot_x_frequent]\n",
    "    indices = np.arange(min(plot_x_frequent, len(most_frequent_nodes)))\n",
    "\n",
    "    subplots = []\n",
    "    for i, dataset_name in enumerate(node_counts.keys()):\n",
    "        subplots.append(ax.bar(indices + width * i, [node_counts[dataset_name][node] for node in most_frequent_nodes], width=width, align='center'))\n",
    "    ax.set_xticks(indices + 1.5*width, list(sorted_dict.keys())[:plot_x_frequent])\n",
    "    ax.set_title(f\"{plot_x_frequent} most frequent {node_type}\")\n",
    "\n",
    "    ax.set_ylabel(\"Relative Frequency (%)\")\n",
    "    ax.legend( subplots, node_counts.keys() )\n"
   ]
  },
  {
   "cell_type": "code",
   "execution_count": null,
   "id": "36b34af8",
   "metadata": {},
   "outputs": [],
   "source": [
    "node_types = [\"residue\", \"atom\"]\n",
    "fix, axs = plt.subplots(2,1, figsize=(15,10))\n",
    "\n",
    "for i, node_type in enumerate(node_types):\n",
    "    node_counts = {}\n",
    "    for dataset_name in dataset_stats.keys():\n",
    "        node_counts[name_mapping[dataset_name]] = dataset_stats[dataset_name][node_type][\"node_count\"]\n",
    "    \n",
    "    plot_binding_residues(node_counts, f\"{node_type}s\", ax=axs[i])\n",
    "plt.savefig(f\"./Dataset_Analysis/plots/dataset_comparison_full_protein_type_distribution.png\")\n",
    "plt.show()\n"
   ]
  },
  {
   "cell_type": "code",
   "execution_count": null,
   "id": "d80d9ad4",
   "metadata": {},
   "outputs": [],
   "source": [
    "fix, axs = plt.subplots(2,1, figsize=(15,10))\n",
    "\n",
    "for i, node_type in enumerate(node_types):\n",
    "    node_counts = {}\n",
    "    for dataset_name in dataset_stats.keys():\n",
    "        node_counts[name_mapping[dataset_name]] = dataset_stats[dataset_name][node_type][\"interface_node_count\"]\n",
    "    \n",
    "    plot_binding_residues(node_counts, f\"interface {node_type}s\", ax=axs[i])\n",
    "    \n",
    "plt.savefig(f\"./Dataset_Analysis/plots/dataset_comparison_interface_type_distribution.png\")\n",
    "plt.show()"
   ]
  },
  {
   "cell_type": "code",
   "execution_count": null,
   "id": "b512c53d",
   "metadata": {},
   "outputs": [],
   "source": [
    "fix, axs = plt.subplots(2,1, figsize=(15,10))\n",
    "\n",
    "for i, node_type in enumerate(node_types):\n",
    "    node_counts = {}\n",
    "    for dataset_name in dataset_stats.keys():\n",
    "        node_counts[name_mapping[dataset_name]] = dataset_stats[dataset_name][node_type][\"interface_hull_node_count\"]\n",
    "    \n",
    "    plot_binding_residues(node_counts, f\"interface-hull {node_type}s\", ax=axs[i])\n",
    "\n",
    "plt.savefig(f\"./Dataset_Analysis/plots/dataset_comparison_interface_hull_type_distribution.png\")\n",
    "plt.show()"
   ]
  },
  {
   "cell_type": "markdown",
   "id": "5d3a986c",
   "metadata": {},
   "source": [
    "## Affinity comparison"
   ]
  },
  {
   "cell_type": "code",
   "execution_count": null,
   "id": "7fa6b311",
   "metadata": {},
   "outputs": [],
   "source": [
    "\n",
    "all_data_points = []\n",
    "\n",
    "for dataset_name in datasets:           \n",
    "    summary_path = os.path.join(config[\"DATASETS\"][\"path\"], config[\"DATASETS\"][dataset_name][\"folder_path\"], config[\"DATASETS\"][dataset_name][\"summary\"])\n",
    "    pdb_path = os.path.join(config[\"DATASETS\"][\"path\"], config[\"DATASETS\"][dataset_name][\"folder_path\"], config[\"DATASETS\"][dataset_name][\"pdb_path\"])\n",
    "\n",
    "    dataset = pd.read_csv(summary_path)\n",
    "        \n",
    "    dataset = dataset[[\"pdb\", \"-log(Kd)\"]]\n",
    "    dataset[\"dataset\"] = dataset_name\n",
    "    all_data_points.append(dataset)\n",
    "    \n",
    "all_data_df = pd.concat(all_data_points)\n",
    "len(all_data_points)"
   ]
  },
  {
   "cell_type": "code",
   "execution_count": null,
   "id": "28951b74",
   "metadata": {},
   "outputs": [],
   "source": [
    "colors = sns.color_palette(\"hls\", 4)\n",
    "\n",
    "fig, axs = plt.subplots(1, 1, figsize=(15,5))\n",
    "i = 0\n",
    "    \n",
    "color_bar = {}\n",
    "\n",
    "for ii, dataset_name in enumerate(datasets):\n",
    "    summary_path = os.path.join(config[\"DATASETS\"][\"path\"], config[\"DATASETS\"][dataset_name][\"folder_path\"], config[\"DATASETS\"][dataset_name][\"summary\"])\n",
    "    pdb_path = os.path.join(config[\"DATASETS\"][\"path\"], config[\"DATASETS\"][dataset_name][\"folder_path\"], config[\"DATASETS\"][dataset_name][\"pdb_path\"])\n",
    "    dataset = pd.read_csv(summary_path)\n",
    "    dataset = dataset[[\"pdb\", \"-log(Kd)\"]]\n",
    "    \n",
    "    ax = sns.histplot(dataset,  x=\"-log(Kd)\", kde=True, ax=axs, stat=\"percent\", color=colors[ii])\n",
    "    color_bar[name_mapping[dataset_name]] = colors[ii]   \n",
    "\n",
    "axs.set_title(\"Comparison of -log(Kd) values\")\n",
    "        \n",
    "labels = list(color_bar.keys())\n",
    "handles = [plt.Rectangle((0,0),1,1, color=color_bar[label]) for label in labels]\n",
    "axs.legend(handles, labels)"
   ]
  },
  {
   "cell_type": "code",
   "execution_count": null,
   "id": "c2618687",
   "metadata": {},
   "outputs": [],
   "source": []
  },
  {
   "cell_type": "code",
   "execution_count": null,
   "id": "6a1711d1",
   "metadata": {},
   "outputs": [],
   "source": []
  }
 ],
 "metadata": {
  "kernelspec": {
   "display_name": "Python 3 (ipykernel)",
   "language": "python",
   "name": "python3"
  },
  "language_info": {
   "codemirror_mode": {
    "name": "ipython",
    "version": 3
   },
   "file_extension": ".py",
   "mimetype": "text/x-python",
   "name": "python",
   "nbconvert_exporter": "python",
   "pygments_lexer": "ipython3",
   "version": "3.8.13"
  }
 },
 "nbformat": 4,
 "nbformat_minor": 5
}
