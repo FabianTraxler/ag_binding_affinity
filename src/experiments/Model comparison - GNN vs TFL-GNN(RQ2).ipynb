{
 "cells": [
  {
   "cell_type": "markdown",
   "id": "abf1d69f",
   "metadata": {},
   "source": [
    "# Comparison of GNN results with REF15\n",
    "\n",
    "1. Compare results of best model from hyperparameter tuning with REF15 for AbAg-affinity test set and AB-benchmark\n",
    "\n",
    "2. Check how robust GNN ist on 4-Fold Cross Validation"
   ]
  },
  {
   "cell_type": "code",
   "execution_count": 1,
   "id": "0064681e",
   "metadata": {},
   "outputs": [],
   "source": [
    "import pandas as pd\n",
    "import os\n",
    "from collections import defaultdict\n",
    "import numpy as np\n",
    "import scipy.stats as stats\n",
    "import matplotlib.pyplot as plt\n",
    "from abag_affinity.utils.config import read_config, get_data_paths\n",
    "from pathlib import Path\n",
    "from scipy.stats import norm\n",
    "import seaborn as sns"
   ]
  },
  {
   "cell_type": "code",
   "execution_count": 2,
   "id": "77808513",
   "metadata": {},
   "outputs": [],
   "source": [
    "project_root = \"../..\"\n",
    "plot_path = os.path.join(project_root, \"results\", \"experiments\", \"GNN_TF-GNN_comparison\")\n",
    "Path(plot_path).mkdir(exist_ok=True, parents=True)\n",
    "\n",
    "gnn_abag_test_result_path = os.path.join(project_root, \"results/predictions/CV_experiment/abag_affinity_test_cv1.csv\")\n",
    "gnn_ab_benchmark_result_path = os.path.join(project_root, \"results/predictions/CV_experiment/benchmark_cv1.csv\")\n",
    "col_mapping = {\n",
    "    \"prediction\": \"gnn_prediction\",\n",
    "    \"labels\": \"-log(Kd)_labels\"\n",
    "}\n",
    "gnn_abag_test_df = pd.read_csv(gnn_abag_test_result_path, index_col=0).set_index(\"pdb\").rename(col_mapping, axis=1)\n",
    "gnn_ab_benchmark_df = pd.read_csv(gnn_ab_benchmark_result_path, index_col=0).set_index(\"pdb\").rename(col_mapping, axis=1)"
   ]
  },
  {
   "cell_type": "code",
   "execution_count": 3,
   "id": "3a7b646d",
   "metadata": {},
   "outputs": [
    {
     "ename": "FileNotFoundError",
     "evalue": "[Errno 2] No such file or directory: '../../results/predictions/CV_TF_experiment/abag_affinity_test_cv1.csv'",
     "output_type": "error",
     "traceback": [
      "\u001B[0;31m---------------------------------------------------------------------------\u001B[0m",
      "\u001B[0;31mFileNotFoundError\u001B[0m                         Traceback (most recent call last)",
      "Cell \u001B[0;32mIn [3], line 7\u001B[0m\n\u001B[1;32m      2\u001B[0m tfl_ab_benchmark_result_path \u001B[38;5;241m=\u001B[39m os\u001B[38;5;241m.\u001B[39mpath\u001B[38;5;241m.\u001B[39mjoin(project_root, \u001B[38;5;124m\"\u001B[39m\u001B[38;5;124mresults/predictions/CV_TF_experiment/benchmark_cv1.csv\u001B[39m\u001B[38;5;124m\"\u001B[39m)\n\u001B[1;32m      3\u001B[0m col_mapping \u001B[38;5;241m=\u001B[39m {\n\u001B[1;32m      4\u001B[0m     \u001B[38;5;124m\"\u001B[39m\u001B[38;5;124mprediction\u001B[39m\u001B[38;5;124m\"\u001B[39m: \u001B[38;5;124m\"\u001B[39m\u001B[38;5;124mgnn_prediction\u001B[39m\u001B[38;5;124m\"\u001B[39m,\n\u001B[1;32m      5\u001B[0m     \u001B[38;5;124m\"\u001B[39m\u001B[38;5;124mlabels\u001B[39m\u001B[38;5;124m\"\u001B[39m: \u001B[38;5;124m\"\u001B[39m\u001B[38;5;124m-log(Kd)_labels\u001B[39m\u001B[38;5;124m\"\u001B[39m\n\u001B[1;32m      6\u001B[0m }\n\u001B[0;32m----> 7\u001B[0m tfl_abag_test_df \u001B[38;5;241m=\u001B[39m pd\u001B[38;5;241m.\u001B[39mread_csv(tfl_abag_test_result_path, index_col\u001B[38;5;241m=\u001B[39m\u001B[38;5;241m0\u001B[39m)\u001B[38;5;241m.\u001B[39mset_index(\u001B[38;5;124m\"\u001B[39m\u001B[38;5;124mpdb\u001B[39m\u001B[38;5;124m\"\u001B[39m)\u001B[38;5;241m.\u001B[39mrename(col_mapping, axis\u001B[38;5;241m=\u001B[39m\u001B[38;5;241m1\u001B[39m)\n\u001B[1;32m      8\u001B[0m tfl_ab_benchmark_df \u001B[38;5;241m=\u001B[39m pd\u001B[38;5;241m.\u001B[39mread_csv(tfl_ab_benchmark_result_path, index_col\u001B[38;5;241m=\u001B[39m\u001B[38;5;241m0\u001B[39m)\u001B[38;5;241m.\u001B[39mset_index(\u001B[38;5;124m\"\u001B[39m\u001B[38;5;124mpdb\u001B[39m\u001B[38;5;124m\"\u001B[39m)\u001B[38;5;241m.\u001B[39mrename(col_mapping, axis\u001B[38;5;241m=\u001B[39m\u001B[38;5;241m1\u001B[39m)\n",
      "File \u001B[0;32m~/miniconda3/envs/DeepRefine/lib/python3.8/site-packages/pandas/util/_decorators.py:311\u001B[0m, in \u001B[0;36mdeprecate_nonkeyword_arguments.<locals>.decorate.<locals>.wrapper\u001B[0;34m(*args, **kwargs)\u001B[0m\n\u001B[1;32m    305\u001B[0m \u001B[38;5;28;01mif\u001B[39;00m \u001B[38;5;28mlen\u001B[39m(args) \u001B[38;5;241m>\u001B[39m num_allow_args:\n\u001B[1;32m    306\u001B[0m     warnings\u001B[38;5;241m.\u001B[39mwarn(\n\u001B[1;32m    307\u001B[0m         msg\u001B[38;5;241m.\u001B[39mformat(arguments\u001B[38;5;241m=\u001B[39marguments),\n\u001B[1;32m    308\u001B[0m         \u001B[38;5;167;01mFutureWarning\u001B[39;00m,\n\u001B[1;32m    309\u001B[0m         stacklevel\u001B[38;5;241m=\u001B[39mstacklevel,\n\u001B[1;32m    310\u001B[0m     )\n\u001B[0;32m--> 311\u001B[0m \u001B[38;5;28;01mreturn\u001B[39;00m \u001B[43mfunc\u001B[49m\u001B[43m(\u001B[49m\u001B[38;5;241;43m*\u001B[39;49m\u001B[43margs\u001B[49m\u001B[43m,\u001B[49m\u001B[43m \u001B[49m\u001B[38;5;241;43m*\u001B[39;49m\u001B[38;5;241;43m*\u001B[39;49m\u001B[43mkwargs\u001B[49m\u001B[43m)\u001B[49m\n",
      "File \u001B[0;32m~/miniconda3/envs/DeepRefine/lib/python3.8/site-packages/pandas/io/parsers/readers.py:586\u001B[0m, in \u001B[0;36mread_csv\u001B[0;34m(filepath_or_buffer, sep, delimiter, header, names, index_col, usecols, squeeze, prefix, mangle_dupe_cols, dtype, engine, converters, true_values, false_values, skipinitialspace, skiprows, skipfooter, nrows, na_values, keep_default_na, na_filter, verbose, skip_blank_lines, parse_dates, infer_datetime_format, keep_date_col, date_parser, dayfirst, cache_dates, iterator, chunksize, compression, thousands, decimal, lineterminator, quotechar, quoting, doublequote, escapechar, comment, encoding, encoding_errors, dialect, error_bad_lines, warn_bad_lines, on_bad_lines, delim_whitespace, low_memory, memory_map, float_precision, storage_options)\u001B[0m\n\u001B[1;32m    571\u001B[0m kwds_defaults \u001B[38;5;241m=\u001B[39m _refine_defaults_read(\n\u001B[1;32m    572\u001B[0m     dialect,\n\u001B[1;32m    573\u001B[0m     delimiter,\n\u001B[0;32m   (...)\u001B[0m\n\u001B[1;32m    582\u001B[0m     defaults\u001B[38;5;241m=\u001B[39m{\u001B[38;5;124m\"\u001B[39m\u001B[38;5;124mdelimiter\u001B[39m\u001B[38;5;124m\"\u001B[39m: \u001B[38;5;124m\"\u001B[39m\u001B[38;5;124m,\u001B[39m\u001B[38;5;124m\"\u001B[39m},\n\u001B[1;32m    583\u001B[0m )\n\u001B[1;32m    584\u001B[0m kwds\u001B[38;5;241m.\u001B[39mupdate(kwds_defaults)\n\u001B[0;32m--> 586\u001B[0m \u001B[38;5;28;01mreturn\u001B[39;00m \u001B[43m_read\u001B[49m\u001B[43m(\u001B[49m\u001B[43mfilepath_or_buffer\u001B[49m\u001B[43m,\u001B[49m\u001B[43m \u001B[49m\u001B[43mkwds\u001B[49m\u001B[43m)\u001B[49m\n",
      "File \u001B[0;32m~/miniconda3/envs/DeepRefine/lib/python3.8/site-packages/pandas/io/parsers/readers.py:482\u001B[0m, in \u001B[0;36m_read\u001B[0;34m(filepath_or_buffer, kwds)\u001B[0m\n\u001B[1;32m    479\u001B[0m _validate_names(kwds\u001B[38;5;241m.\u001B[39mget(\u001B[38;5;124m\"\u001B[39m\u001B[38;5;124mnames\u001B[39m\u001B[38;5;124m\"\u001B[39m, \u001B[38;5;28;01mNone\u001B[39;00m))\n\u001B[1;32m    481\u001B[0m \u001B[38;5;66;03m# Create the parser.\u001B[39;00m\n\u001B[0;32m--> 482\u001B[0m parser \u001B[38;5;241m=\u001B[39m \u001B[43mTextFileReader\u001B[49m\u001B[43m(\u001B[49m\u001B[43mfilepath_or_buffer\u001B[49m\u001B[43m,\u001B[49m\u001B[43m \u001B[49m\u001B[38;5;241;43m*\u001B[39;49m\u001B[38;5;241;43m*\u001B[39;49m\u001B[43mkwds\u001B[49m\u001B[43m)\u001B[49m\n\u001B[1;32m    484\u001B[0m \u001B[38;5;28;01mif\u001B[39;00m chunksize \u001B[38;5;129;01mor\u001B[39;00m iterator:\n\u001B[1;32m    485\u001B[0m     \u001B[38;5;28;01mreturn\u001B[39;00m parser\n",
      "File \u001B[0;32m~/miniconda3/envs/DeepRefine/lib/python3.8/site-packages/pandas/io/parsers/readers.py:811\u001B[0m, in \u001B[0;36mTextFileReader.__init__\u001B[0;34m(self, f, engine, **kwds)\u001B[0m\n\u001B[1;32m    808\u001B[0m \u001B[38;5;28;01mif\u001B[39;00m \u001B[38;5;124m\"\u001B[39m\u001B[38;5;124mhas_index_names\u001B[39m\u001B[38;5;124m\"\u001B[39m \u001B[38;5;129;01min\u001B[39;00m kwds:\n\u001B[1;32m    809\u001B[0m     \u001B[38;5;28mself\u001B[39m\u001B[38;5;241m.\u001B[39moptions[\u001B[38;5;124m\"\u001B[39m\u001B[38;5;124mhas_index_names\u001B[39m\u001B[38;5;124m\"\u001B[39m] \u001B[38;5;241m=\u001B[39m kwds[\u001B[38;5;124m\"\u001B[39m\u001B[38;5;124mhas_index_names\u001B[39m\u001B[38;5;124m\"\u001B[39m]\n\u001B[0;32m--> 811\u001B[0m \u001B[38;5;28mself\u001B[39m\u001B[38;5;241m.\u001B[39m_engine \u001B[38;5;241m=\u001B[39m \u001B[38;5;28;43mself\u001B[39;49m\u001B[38;5;241;43m.\u001B[39;49m\u001B[43m_make_engine\u001B[49m\u001B[43m(\u001B[49m\u001B[38;5;28;43mself\u001B[39;49m\u001B[38;5;241;43m.\u001B[39;49m\u001B[43mengine\u001B[49m\u001B[43m)\u001B[49m\n",
      "File \u001B[0;32m~/miniconda3/envs/DeepRefine/lib/python3.8/site-packages/pandas/io/parsers/readers.py:1040\u001B[0m, in \u001B[0;36mTextFileReader._make_engine\u001B[0;34m(self, engine)\u001B[0m\n\u001B[1;32m   1036\u001B[0m     \u001B[38;5;28;01mraise\u001B[39;00m \u001B[38;5;167;01mValueError\u001B[39;00m(\n\u001B[1;32m   1037\u001B[0m         \u001B[38;5;124mf\u001B[39m\u001B[38;5;124m\"\u001B[39m\u001B[38;5;124mUnknown engine: \u001B[39m\u001B[38;5;132;01m{\u001B[39;00mengine\u001B[38;5;132;01m}\u001B[39;00m\u001B[38;5;124m (valid options are \u001B[39m\u001B[38;5;132;01m{\u001B[39;00mmapping\u001B[38;5;241m.\u001B[39mkeys()\u001B[38;5;132;01m}\u001B[39;00m\u001B[38;5;124m)\u001B[39m\u001B[38;5;124m\"\u001B[39m\n\u001B[1;32m   1038\u001B[0m     )\n\u001B[1;32m   1039\u001B[0m \u001B[38;5;66;03m# error: Too many arguments for \"ParserBase\"\u001B[39;00m\n\u001B[0;32m-> 1040\u001B[0m \u001B[38;5;28;01mreturn\u001B[39;00m \u001B[43mmapping\u001B[49m\u001B[43m[\u001B[49m\u001B[43mengine\u001B[49m\u001B[43m]\u001B[49m\u001B[43m(\u001B[49m\u001B[38;5;28;43mself\u001B[39;49m\u001B[38;5;241;43m.\u001B[39;49m\u001B[43mf\u001B[49m\u001B[43m,\u001B[49m\u001B[43m \u001B[49m\u001B[38;5;241;43m*\u001B[39;49m\u001B[38;5;241;43m*\u001B[39;49m\u001B[38;5;28;43mself\u001B[39;49m\u001B[38;5;241;43m.\u001B[39;49m\u001B[43moptions\u001B[49m\u001B[43m)\u001B[49m\n",
      "File \u001B[0;32m~/miniconda3/envs/DeepRefine/lib/python3.8/site-packages/pandas/io/parsers/c_parser_wrapper.py:51\u001B[0m, in \u001B[0;36mCParserWrapper.__init__\u001B[0;34m(self, src, **kwds)\u001B[0m\n\u001B[1;32m     48\u001B[0m kwds[\u001B[38;5;124m\"\u001B[39m\u001B[38;5;124musecols\u001B[39m\u001B[38;5;124m\"\u001B[39m] \u001B[38;5;241m=\u001B[39m \u001B[38;5;28mself\u001B[39m\u001B[38;5;241m.\u001B[39musecols\n\u001B[1;32m     50\u001B[0m \u001B[38;5;66;03m# open handles\u001B[39;00m\n\u001B[0;32m---> 51\u001B[0m \u001B[38;5;28;43mself\u001B[39;49m\u001B[38;5;241;43m.\u001B[39;49m\u001B[43m_open_handles\u001B[49m\u001B[43m(\u001B[49m\u001B[43msrc\u001B[49m\u001B[43m,\u001B[49m\u001B[43m \u001B[49m\u001B[43mkwds\u001B[49m\u001B[43m)\u001B[49m\n\u001B[1;32m     52\u001B[0m \u001B[38;5;28;01massert\u001B[39;00m \u001B[38;5;28mself\u001B[39m\u001B[38;5;241m.\u001B[39mhandles \u001B[38;5;129;01mis\u001B[39;00m \u001B[38;5;129;01mnot\u001B[39;00m \u001B[38;5;28;01mNone\u001B[39;00m\n\u001B[1;32m     54\u001B[0m \u001B[38;5;66;03m# Have to pass int, would break tests using TextReader directly otherwise :(\u001B[39;00m\n",
      "File \u001B[0;32m~/miniconda3/envs/DeepRefine/lib/python3.8/site-packages/pandas/io/parsers/base_parser.py:222\u001B[0m, in \u001B[0;36mParserBase._open_handles\u001B[0;34m(self, src, kwds)\u001B[0m\n\u001B[1;32m    218\u001B[0m \u001B[38;5;28;01mdef\u001B[39;00m \u001B[38;5;21m_open_handles\u001B[39m(\u001B[38;5;28mself\u001B[39m, src: FilePathOrBuffer, kwds: \u001B[38;5;28mdict\u001B[39m[\u001B[38;5;28mstr\u001B[39m, Any]) \u001B[38;5;241m-\u001B[39m\u001B[38;5;241m>\u001B[39m \u001B[38;5;28;01mNone\u001B[39;00m:\n\u001B[1;32m    219\u001B[0m     \u001B[38;5;124;03m\"\"\"\u001B[39;00m\n\u001B[1;32m    220\u001B[0m \u001B[38;5;124;03m    Let the readers open IOHandles after they are done with their potential raises.\u001B[39;00m\n\u001B[1;32m    221\u001B[0m \u001B[38;5;124;03m    \"\"\"\u001B[39;00m\n\u001B[0;32m--> 222\u001B[0m     \u001B[38;5;28mself\u001B[39m\u001B[38;5;241m.\u001B[39mhandles \u001B[38;5;241m=\u001B[39m \u001B[43mget_handle\u001B[49m\u001B[43m(\u001B[49m\n\u001B[1;32m    223\u001B[0m \u001B[43m        \u001B[49m\u001B[43msrc\u001B[49m\u001B[43m,\u001B[49m\n\u001B[1;32m    224\u001B[0m \u001B[43m        \u001B[49m\u001B[38;5;124;43m\"\u001B[39;49m\u001B[38;5;124;43mr\u001B[39;49m\u001B[38;5;124;43m\"\u001B[39;49m\u001B[43m,\u001B[49m\n\u001B[1;32m    225\u001B[0m \u001B[43m        \u001B[49m\u001B[43mencoding\u001B[49m\u001B[38;5;241;43m=\u001B[39;49m\u001B[43mkwds\u001B[49m\u001B[38;5;241;43m.\u001B[39;49m\u001B[43mget\u001B[49m\u001B[43m(\u001B[49m\u001B[38;5;124;43m\"\u001B[39;49m\u001B[38;5;124;43mencoding\u001B[39;49m\u001B[38;5;124;43m\"\u001B[39;49m\u001B[43m,\u001B[49m\u001B[43m \u001B[49m\u001B[38;5;28;43;01mNone\u001B[39;49;00m\u001B[43m)\u001B[49m\u001B[43m,\u001B[49m\n\u001B[1;32m    226\u001B[0m \u001B[43m        \u001B[49m\u001B[43mcompression\u001B[49m\u001B[38;5;241;43m=\u001B[39;49m\u001B[43mkwds\u001B[49m\u001B[38;5;241;43m.\u001B[39;49m\u001B[43mget\u001B[49m\u001B[43m(\u001B[49m\u001B[38;5;124;43m\"\u001B[39;49m\u001B[38;5;124;43mcompression\u001B[39;49m\u001B[38;5;124;43m\"\u001B[39;49m\u001B[43m,\u001B[49m\u001B[43m \u001B[49m\u001B[38;5;28;43;01mNone\u001B[39;49;00m\u001B[43m)\u001B[49m\u001B[43m,\u001B[49m\n\u001B[1;32m    227\u001B[0m \u001B[43m        \u001B[49m\u001B[43mmemory_map\u001B[49m\u001B[38;5;241;43m=\u001B[39;49m\u001B[43mkwds\u001B[49m\u001B[38;5;241;43m.\u001B[39;49m\u001B[43mget\u001B[49m\u001B[43m(\u001B[49m\u001B[38;5;124;43m\"\u001B[39;49m\u001B[38;5;124;43mmemory_map\u001B[39;49m\u001B[38;5;124;43m\"\u001B[39;49m\u001B[43m,\u001B[49m\u001B[43m \u001B[49m\u001B[38;5;28;43;01mFalse\u001B[39;49;00m\u001B[43m)\u001B[49m\u001B[43m,\u001B[49m\n\u001B[1;32m    228\u001B[0m \u001B[43m        \u001B[49m\u001B[43mstorage_options\u001B[49m\u001B[38;5;241;43m=\u001B[39;49m\u001B[43mkwds\u001B[49m\u001B[38;5;241;43m.\u001B[39;49m\u001B[43mget\u001B[49m\u001B[43m(\u001B[49m\u001B[38;5;124;43m\"\u001B[39;49m\u001B[38;5;124;43mstorage_options\u001B[39;49m\u001B[38;5;124;43m\"\u001B[39;49m\u001B[43m,\u001B[49m\u001B[43m \u001B[49m\u001B[38;5;28;43;01mNone\u001B[39;49;00m\u001B[43m)\u001B[49m\u001B[43m,\u001B[49m\n\u001B[1;32m    229\u001B[0m \u001B[43m        \u001B[49m\u001B[43merrors\u001B[49m\u001B[38;5;241;43m=\u001B[39;49m\u001B[43mkwds\u001B[49m\u001B[38;5;241;43m.\u001B[39;49m\u001B[43mget\u001B[49m\u001B[43m(\u001B[49m\u001B[38;5;124;43m\"\u001B[39;49m\u001B[38;5;124;43mencoding_errors\u001B[39;49m\u001B[38;5;124;43m\"\u001B[39;49m\u001B[43m,\u001B[49m\u001B[43m \u001B[49m\u001B[38;5;124;43m\"\u001B[39;49m\u001B[38;5;124;43mstrict\u001B[39;49m\u001B[38;5;124;43m\"\u001B[39;49m\u001B[43m)\u001B[49m\u001B[43m,\u001B[49m\n\u001B[1;32m    230\u001B[0m \u001B[43m    \u001B[49m\u001B[43m)\u001B[49m\n",
      "File \u001B[0;32m~/miniconda3/envs/DeepRefine/lib/python3.8/site-packages/pandas/io/common.py:702\u001B[0m, in \u001B[0;36mget_handle\u001B[0;34m(path_or_buf, mode, encoding, compression, memory_map, is_text, errors, storage_options)\u001B[0m\n\u001B[1;32m    697\u001B[0m \u001B[38;5;28;01melif\u001B[39;00m \u001B[38;5;28misinstance\u001B[39m(handle, \u001B[38;5;28mstr\u001B[39m):\n\u001B[1;32m    698\u001B[0m     \u001B[38;5;66;03m# Check whether the filename is to be opened in binary mode.\u001B[39;00m\n\u001B[1;32m    699\u001B[0m     \u001B[38;5;66;03m# Binary mode does not support 'encoding' and 'newline'.\u001B[39;00m\n\u001B[1;32m    700\u001B[0m     \u001B[38;5;28;01mif\u001B[39;00m ioargs\u001B[38;5;241m.\u001B[39mencoding \u001B[38;5;129;01mand\u001B[39;00m \u001B[38;5;124m\"\u001B[39m\u001B[38;5;124mb\u001B[39m\u001B[38;5;124m\"\u001B[39m \u001B[38;5;129;01mnot\u001B[39;00m \u001B[38;5;129;01min\u001B[39;00m ioargs\u001B[38;5;241m.\u001B[39mmode:\n\u001B[1;32m    701\u001B[0m         \u001B[38;5;66;03m# Encoding\u001B[39;00m\n\u001B[0;32m--> 702\u001B[0m         handle \u001B[38;5;241m=\u001B[39m \u001B[38;5;28;43mopen\u001B[39;49m\u001B[43m(\u001B[49m\n\u001B[1;32m    703\u001B[0m \u001B[43m            \u001B[49m\u001B[43mhandle\u001B[49m\u001B[43m,\u001B[49m\n\u001B[1;32m    704\u001B[0m \u001B[43m            \u001B[49m\u001B[43mioargs\u001B[49m\u001B[38;5;241;43m.\u001B[39;49m\u001B[43mmode\u001B[49m\u001B[43m,\u001B[49m\n\u001B[1;32m    705\u001B[0m \u001B[43m            \u001B[49m\u001B[43mencoding\u001B[49m\u001B[38;5;241;43m=\u001B[39;49m\u001B[43mioargs\u001B[49m\u001B[38;5;241;43m.\u001B[39;49m\u001B[43mencoding\u001B[49m\u001B[43m,\u001B[49m\n\u001B[1;32m    706\u001B[0m \u001B[43m            \u001B[49m\u001B[43merrors\u001B[49m\u001B[38;5;241;43m=\u001B[39;49m\u001B[43merrors\u001B[49m\u001B[43m,\u001B[49m\n\u001B[1;32m    707\u001B[0m \u001B[43m            \u001B[49m\u001B[43mnewline\u001B[49m\u001B[38;5;241;43m=\u001B[39;49m\u001B[38;5;124;43m\"\u001B[39;49m\u001B[38;5;124;43m\"\u001B[39;49m\u001B[43m,\u001B[49m\n\u001B[1;32m    708\u001B[0m \u001B[43m        \u001B[49m\u001B[43m)\u001B[49m\n\u001B[1;32m    709\u001B[0m     \u001B[38;5;28;01melse\u001B[39;00m:\n\u001B[1;32m    710\u001B[0m         \u001B[38;5;66;03m# Binary mode\u001B[39;00m\n\u001B[1;32m    711\u001B[0m         handle \u001B[38;5;241m=\u001B[39m \u001B[38;5;28mopen\u001B[39m(handle, ioargs\u001B[38;5;241m.\u001B[39mmode)\n",
      "\u001B[0;31mFileNotFoundError\u001B[0m: [Errno 2] No such file or directory: '../../results/predictions/CV_TF_experiment/abag_affinity_test_cv1.csv'"
     ]
    }
   ],
   "source": [
    "tfl_abag_test_result_path = os.path.join(project_root, \"results/predictions/CV_TF_experiment/abag_affinity_test_cv1.csv\")\n",
    "tfl_ab_benchmark_result_path = os.path.join(project_root, \"results/predictions/CV_TF_experiment/benchmark_cv1.csv\")\n",
    "col_mapping = {\n",
    "    \"prediction\": \"gnn_prediction\",\n",
    "    \"labels\": \"-log(Kd)_labels\"\n",
    "}\n",
    "tfl_abag_test_df = pd.read_csv(tfl_abag_test_result_path, index_col=0).set_index(\"pdb\").rename(col_mapping, axis=1)\n",
    "tfl_ab_benchmark_df = pd.read_csv(tfl_ab_benchmark_result_path, index_col=0).set_index(\"pdb\").rename(col_mapping, axis=1)"
   ]
  },
  {
   "cell_type": "code",
   "execution_count": null,
   "id": "49f48a8d",
   "metadata": {},
   "outputs": [],
   "source": [
    "config = read_config(\"../config.yaml\")\n",
    "force_field_results_folder = config[\"force_field_results\"]\n",
    "assumed_temp = 298.15\n",
    "gas_constant =  8.31446261815324 \n",
    "\n",
    "def get_scores(path):\n",
    "    # get pdb_ids\n",
    "    with open(os.path.join(path, \"data_points.txt\")) as f:\n",
    "        pdbs = f.readlines()\n",
    "    pdbs = [ pdb.split(\",\")[0].strip().lower() for pdb in pdbs]\n",
    "\n",
    "    # get delta g scores\n",
    "    with open(os.path.join(path, \"results.txt\")) as f:\n",
    "        scores = f.readlines()\n",
    "\n",
    "    results = defaultdict(dict)\n",
    "    pdb_idx = 0\n",
    "    for score in scores:\n",
    "        if score == 'Antibody\\n':\n",
    "            score_type = \"Antibody\"\n",
    "        if score == 'Antigen\\n':\n",
    "            score_type = \"Antigen\"\n",
    "        if score == 'Complex\\n':\n",
    "            score_type = \"Complex\"\n",
    "        if score in [\"\\n\", 'Antibody\\n', 'Antigen\\n', 'Complex\\n', 'fa_atr\\n', 'score\\n']:\n",
    "            pdb_idx = 0\n",
    "            continue\n",
    "            \n",
    "        results[pdbs[pdb_idx]][score_type] = score.strip()\n",
    "        pdb_idx += 1\n",
    "\n",
    "    rosetta_scores = pd.DataFrame(results.values())\n",
    "    rosetta_scores.index = results.keys()\n",
    "    rosetta_scores = rosetta_scores.astype(float)\n",
    "    rosetta_scores[\"rosetta_delta_g\"] = rosetta_scores[\"Complex\"] - rosetta_scores[\"Antibody\"] - rosetta_scores[\"Antigen\"]\n",
    "    \n",
    "    return rosetta_scores"
   ]
  },
  {
   "cell_type": "code",
   "execution_count": null,
   "id": "672539f8",
   "metadata": {},
   "outputs": [],
   "source": [
    "num_bootstrap_repeats = 10000\n",
    "\n",
    "def calculate_and_plot_bootstraped_error_differences(df):\n",
    "    # based on https://stats.stackexchange.com/questions/518773/statistical-test-for-comparing-performance-metrics-of-two-regression-models-on-a\n",
    "    bootstrapped_mean_diff = [ df[\"error_diff\"].sample(n=len(benchmark_results), replace=True).mean() for _ in range(num_bootstrap_repeats)]\n",
    "    ci = norm(*norm.fit(bootstrapped_mean_diff)).interval(0.95)  # fit a normal distribution and get 95% c.i.\n",
    "    sns.histplot(bootstrapped_mean_diff, bins=50)\n",
    "    plt.axvline(ci[0], color=\"red\")\n",
    "    plt.axvline(ci[1], color=\"red\")\n",
    "    \n",
    "    plt.xlabel(\"Mean of difference of absolute prediction errors\")\n",
    "    plt.title(f\"Histogram of mean differences of absolute prediction erros - {num_bootstrap_repeats} bootstrapped samples\")\n",
    "    return ci\n",
    "\n",
    "\n",
    "def calculate_and_plot_bootstraped_metrics(df):\n",
    "    # based on https://stats.stackexchange.com/questions/518773/statistical-test-for-comparing-performance-metrics-of-two-regression-models-on-a\n",
    "    fig, ax = plt.subplots(1,2, figsize=(15,5))\n",
    "\n",
    "    bootstrapped_dfs = [ df[[\"delta_g_labels\", \"-log(Kd)_labels\", \"ref15_prediction\", \"rosetta_delta_g\", \"gnn_prediction\"]].sample(\n",
    "        n=len(benchmark_results), replace=True) for _ in range(num_bootstrap_repeats)]\n",
    "    \n",
    "    \n",
    "    # calculate and plot rsme\n",
    "    rsme = [ np.sqrt(np.mean((sample_df[\"gnn_prediction\"]-sample_df[\"-log(Kd)_labels\"])**2)) -\n",
    "              np.sqrt(np.mean((sample_df[\"ref15_prediction\"]-sample_df[\"-log(Kd)_labels\"])**2))\n",
    "            for sample_df in bootstrapped_dfs]\n",
    "\n",
    "    ci_rsme = norm(*norm.fit(rsme)).interval(0.9)  # fit a normal distribution and get 95% c.i.\n",
    "    sns.histplot(rsme, bins=50, ax=ax[0])\n",
    "    #ax[0].axvline(ci_rsme[0], color=\"red\")\n",
    "    ax[0].axvline(ci_rsme[1], color=\"red\")\n",
    "    ax[0].set_xlabel(\"Difference of root-mean-squared-errors\")\n",
    "\n",
    "    \n",
    "    # calculate and plot pearson    \n",
    "    pearson = [ stats.pearsonr(x=sample_df[\"gnn_prediction\"], y=sample_df[\"-log(Kd)_labels\"])[0] - \n",
    "              stats.pearsonr(x=sample_df[\"rosetta_delta_g\"], y=sample_df[\"delta_g_labels\"])[0]\n",
    "            for sample_df in bootstrapped_dfs]\n",
    "    \n",
    "    ci_pearson = norm(*norm.fit(pearson)).interval(0.95)  # fit a normal distribution and get 95% c.i.\n",
    "    sns.histplot(pearson, bins=50, ax=ax[1])\n",
    "    ax[1].axvline(ci_pearson[0], color=\"red\")\n",
    "    ax[1].axvline(ci_pearson[1], color=\"red\")\n",
    "    ax[1].set_xlabel(\"Difference of pearson correlations\")\n",
    "    plt.suptitle(f\"Histogram of RSME and Pearson's R differences - {num_bootstrap_repeats} bootstrapped samples\")\n",
    "    return ci_rsme, ci_pearson"
   ]
  },
  {
   "cell_type": "code",
   "execution_count": null,
   "id": "647a874d",
   "metadata": {},
   "outputs": [],
   "source": [
    "# fit linear transform for REF 15 values based on abag_affinity dataset\n",
    "from sklearn.linear_model import LinearRegression\n",
    "\n",
    "abag_rosetta_scores = get_scores(os.path.join(force_field_results_folder, \"guest_REF15\", \"abag_affinity_dataset\"))\n",
    "\n",
    "abag_summary_path = os.path.join(config[\"DATASETS\"][\"path\"], config[\"DATASETS\"][\"abag_affinity\"][\"folder_path\"], config[\"DATASETS\"][\"abag_affinity\"][\"summary\"])\n",
    "abag_df = pd.read_csv(abag_summary_path, index_col=0)\n",
    "abag_df = abag_df[~abag_df[\"test\"] & ~abag_df[\"delta_g\"].isna()]\n",
    "\n",
    "overlap_df = abag_df.join(abag_rosetta_scores)\n",
    "\n",
    "X = overlap_df[\"rosetta_delta_g\"].values.reshape(-1, 1)\n",
    "y = overlap_df[\"delta_g\"].values.reshape(-1, 1)\n",
    "\n",
    "rosetta_fit = LinearRegression().fit(X, y)"
   ]
  },
  {
   "cell_type": "code",
   "execution_count": null,
   "id": "b326ec54",
   "metadata": {},
   "outputs": [],
   "source": [
    "def calc_kd(delta_g):\n",
    "    delta_g = rosetta_fit.predict(np.array(delta_g).reshape(1,-1)).item() # scale value\n",
    "    \n",
    "    delta_g = delta_g * 4184 # convert to cal  \n",
    "    \n",
    "    kd = 1 / np.exp(-delta_g / ( gas_constant * assumed_temp))\n",
    "    return kd\n",
    "\n",
    "def calc_delta_g(kd):\n",
    "    delta_g = -1 * gas_constant * assumed_temp * np.log(1 / kd)\n",
    "    return delta_g / 4184 # convert to kcal"
   ]
  },
  {
   "cell_type": "markdown",
   "id": "605d1e81",
   "metadata": {},
   "source": [
    "## AB-benchmark"
   ]
  },
  {
   "cell_type": "markdown",
   "id": "883b2b42",
   "metadata": {},
   "source": [
    "### Calculate difference to predictions"
   ]
  },
  {
   "cell_type": "code",
   "execution_count": null,
   "id": "a945bc56",
   "metadata": {},
   "outputs": [],
   "source": [
    "benchmark_results = gnn_ab_benchmark_df.join(benchmark_ref15_scores)[[\"gnn_prediction\", \"-log(Kd)_labels\", \"ref15_prediction\", \"rosetta_delta_g\"]]\n",
    "benchmark_results[\"delta_g_labels\"] = benchmark_results[\"-log(Kd)_labels\"].apply(lambda x: calc_delta_g(10**(-x)))\n",
    "\n",
    "benchmark_results[\"gnn_diff\"] = benchmark_results[\"gnn_prediction\"] - benchmark_results[\"-log(Kd)_labels\"]\n",
    "benchmark_results[\"gnn_error\"] = np.abs(benchmark_results[\"gnn_diff\"])\n",
    "\n",
    "benchmark_results[\"ref15_diff\"] = benchmark_results[\"ref15_prediction\"] - benchmark_results[\"-log(Kd)_labels\"]\n",
    "benchmark_results[\"ref15_error\"] = np.abs(benchmark_results[\"ref15_diff\"])\n",
    "\n",
    "benchmark_results[\"error_diff\"] = benchmark_results[\"gnn_error\"] - benchmark_results[\"ref15_error\"]"
   ]
  },
  {
   "cell_type": "code",
   "execution_count": null,
   "id": "1a961a7c",
   "metadata": {},
   "outputs": [],
   "source": [
    "benchmark_results.describe()"
   ]
  },
  {
   "cell_type": "markdown",
   "id": "a1dc4404",
   "metadata": {},
   "source": [
    "### Plot statistics of differences"
   ]
  },
  {
   "cell_type": "code",
   "execution_count": null,
   "id": "982cf867",
   "metadata": {
    "scrolled": false
   },
   "outputs": [],
   "source": [
    "fig, ax = plt.subplots(2,2, figsize=(15,10))\n",
    "\n",
    "benchmark_results[\"gnn_diff\"].plot.hist(ax=ax[0,0])\n",
    "ax[0,0].set_title(\"GNN prediction error histogram\")\n",
    "ax[0,0].set_xlabel(\"GNN prediction error [-log(Kd)]\")\n",
    "\n",
    "benchmark_results.plot.scatter(\"gnn_prediction\", \"gnn_diff\", ax=ax[0,1])\n",
    "ax[0,1].set_title(\"GNN prediction error vs. GNN prediction\")\n",
    "\n",
    "benchmark_results[\"ref15_diff\"].plot.hist(ax=ax[1,0])\n",
    "ax[1,0].set_title(\"RE15 prediction error histogram\")\n",
    "ax[1,0].set_xlabel(\"RE15 prediction error [-log(Kd)]\")\n",
    "\n",
    "benchmark_results.plot.scatter(\"ref15_prediction\", \"ref15_diff\", ax=ax[1,1])\n",
    "ax[1,1].set_title(\"RE15 prediction error vs. RE15 prediction\")\n",
    "\n",
    "plt.savefig(os.path.join(plot_path, \"ab_benchmark_error_distributions.png\"))\n",
    "plt.show()\n",
    "plt.close()"
   ]
  },
  {
   "cell_type": "code",
   "execution_count": null,
   "id": "b742944e",
   "metadata": {},
   "outputs": [],
   "source": [
    "benchmark_results[\"error_diff\"].plot.hist()\n",
    "plt.title(\"Difference in absolute prediction errors: GNN Error - REF15 Error\")\n",
    "plt.xlabel(\"Difference in absolute error [-log(Kd)]\")\n",
    "plt.savefig(os.path.join(plot_path, \"ab_benchmark_error_difference_distributions.png\"))\n",
    "plt.show()\n",
    "plt.close()"
   ]
  },
  {
   "cell_type": "markdown",
   "id": "f9134a7c",
   "metadata": {},
   "source": [
    "### Bootstrapping Method to generate multiple means of differences"
   ]
  },
  {
   "cell_type": "code",
   "execution_count": null,
   "id": "988fc682",
   "metadata": {},
   "outputs": [],
   "source": [
    "calculate_and_plot_bootstraped_error_differences(benchmark_results)\n",
    "plt.savefig(os.path.join(plot_path, \"ab_benchmark_error_difference_distributions_bootstrapped.png\"))\n",
    "plt.show()\n",
    "plt.close()"
   ]
  },
  {
   "cell_type": "code",
   "execution_count": null,
   "id": "f152af03",
   "metadata": {},
   "outputs": [],
   "source": [
    "ci_rsme, ci_pearson = calculate_and_plot_bootstraped_metrics(benchmark_results)\n",
    "plt.savefig(os.path.join(plot_path, \"ab_benchmark_metric_difference_bootstrapped.png\"))\n",
    "plt.show()\n",
    "plt.close()"
   ]
  },
  {
   "cell_type": "code",
   "execution_count": null,
   "id": "dc38c6f7",
   "metadata": {},
   "outputs": [],
   "source": [
    "print(ci_rsme)\n",
    "print(ci_pearson)"
   ]
  },
  {
   "cell_type": "markdown",
   "id": "590db88c",
   "metadata": {},
   "source": [
    "### Calculate paired "
   ]
  },
  {
   "cell_type": "code",
   "execution_count": null,
   "id": "815efe52",
   "metadata": {},
   "outputs": [],
   "source": [
    "stats.wilcoxon(benchmark_results[\"gnn_error\"], benchmark_results[\"ref15_error\"], alternative=\"less\")"
   ]
  },
  {
   "cell_type": "markdown",
   "id": "12120446",
   "metadata": {},
   "source": [
    "## AbAg-Affinity test set"
   ]
  },
  {
   "cell_type": "markdown",
   "id": "0f8d8852",
   "metadata": {},
   "source": [
    "### Calculate difference to predictions"
   ]
  },
  {
   "cell_type": "code",
   "execution_count": null,
   "id": "c6932c0f",
   "metadata": {},
   "outputs": [],
   "source": [
    "abag_test_results = gnn_abag_test_df.join(abag_rosetta_scores, how=\"inner\")[[\"gnn_prediction\", \"-log(Kd)_labels\", \"ref15_prediction\", \"rosetta_delta_g\"]]\n",
    "abag_test_results[\"delta_g_labels\"] = abag_test_results[\"-log(Kd)_labels\"].apply(lambda x: calc_delta_g(10**(-x)))\n",
    "\n",
    "\n",
    "abag_test_results[\"gnn_diff\"] = abag_test_results[\"gnn_prediction\"] - abag_test_results[\"-log(Kd)_labels\"]\n",
    "abag_test_results[\"gnn_error\"] = np.abs(abag_test_results[\"gnn_diff\"])\n",
    "\n",
    "abag_test_results[\"ref15_diff\"] = abag_test_results[\"ref15_prediction\"] - abag_test_results[\"-log(Kd)_labels\"]\n",
    "abag_test_results[\"ref15_error\"] = np.abs(abag_test_results[\"ref15_diff\"])\n",
    "\n",
    "abag_test_results[\"error_diff\"] = abag_test_results[\"gnn_error\"] - abag_test_results[\"ref15_error\"]"
   ]
  },
  {
   "cell_type": "code",
   "execution_count": null,
   "id": "48aec868",
   "metadata": {},
   "outputs": [],
   "source": [
    "abag_test_results.describe()"
   ]
  },
  {
   "cell_type": "markdown",
   "id": "48754b58",
   "metadata": {},
   "source": [
    "### Plot statistics of differences"
   ]
  },
  {
   "cell_type": "code",
   "execution_count": null,
   "id": "18265a73",
   "metadata": {},
   "outputs": [],
   "source": [
    "fig, ax = plt.subplots(2,2, figsize=(15,10))\n",
    "\n",
    "abag_test_results[\"gnn_diff\"].plot.hist(ax=ax[0,0])\n",
    "ax[0,0].set_title(\"GNN prediction error histogram\")\n",
    "ax[0,0].set_xlabel(\"GNN prediction error [-log(Kd)]\")\n",
    "\n",
    "abag_test_results.plot.scatter(\"gnn_prediction\", \"gnn_diff\", ax=ax[0,1])\n",
    "ax[0,1].set_title(\"GNN prediction error vs. GNN prediction\")\n",
    "\n",
    "abag_test_results[\"ref15_diff\"].plot.hist(ax=ax[1,0])\n",
    "ax[1,0].set_title(\"RE15 prediction error histogram\")\n",
    "ax[1,0].set_xlabel(\"REF15 prediction error [-log(Kd)]\")\n",
    "\n",
    "abag_test_results[abag_test_results[\"rosetta_delta_g\"] < 200].plot.scatter(\"ref15_prediction\", \"ref15_diff\", ax=ax[1,1])\n",
    "ax[1,1].set_title(\"RE15 prediction error vs. RE15 prediction\")\n",
    "\n",
    "plt.savefig(os.path.join(plot_path, \"abag_testset_error_distributions.png\"))\n",
    "plt.show()\n",
    "plt.close()"
   ]
  },
  {
   "cell_type": "code",
   "execution_count": null,
   "id": "29e8df45",
   "metadata": {},
   "outputs": [],
   "source": [
    "abag_test_results[abag_test_results[\"rosetta_delta_g\"] < 200][\"error_diff\"].plot.hist()\n",
    "plt.title(\"Difference in absolute prediction errors: GNN Error - REF15 Error\")\n",
    "plt.xlabel(\"Difference in absolute error [-log(Kd)]\")\n",
    "plt.savefig(os.path.join(plot_path, \"abag_test_error_difference_distributions.png\"))\n",
    "plt.show()\n",
    "plt.close()"
   ]
  },
  {
   "cell_type": "markdown",
   "id": "fba85b66",
   "metadata": {},
   "source": [
    "### Bootstrapping Method to generate multiple means of differences"
   ]
  },
  {
   "cell_type": "code",
   "execution_count": null,
   "id": "31c2a715",
   "metadata": {},
   "outputs": [],
   "source": [
    "calculate_and_plot_bootstraped_error_differences(abag_test_results[abag_test_results[\"rosetta_delta_g\"] < 200])\n",
    "plt.savefig(os.path.join(plot_path, \"abag_test_error_difference_distributions_bootstrapped.png\"))\n",
    "plt.show()\n",
    "plt.close()"
   ]
  },
  {
   "cell_type": "code",
   "execution_count": null,
   "id": "a2d23bd6",
   "metadata": {},
   "outputs": [],
   "source": [
    "ci_rsme, ci_pearson = calculate_and_plot_bootstraped_metrics(abag_test_results[abag_test_results[\"rosetta_delta_g\"] < 200])\n",
    "plt.savefig(os.path.join(plot_path, \"abag_test_metric_difference_bootstrapped.png\"))\n",
    "plt.show()\n",
    "plt.close()"
   ]
  },
  {
   "cell_type": "code",
   "execution_count": null,
   "id": "b6ee5144",
   "metadata": {},
   "outputs": [],
   "source": [
    "print(ci_rsme)\n",
    "print(ci_pearson)"
   ]
  },
  {
   "cell_type": "markdown",
   "id": "ead7e91f",
   "metadata": {},
   "source": [
    "### Calculate paired T-Test"
   ]
  },
  {
   "cell_type": "code",
   "execution_count": null,
   "id": "90f18f52",
   "metadata": {},
   "outputs": [],
   "source": [
    "stats.wilcoxon(abag_test_results[\"gnn_error\"], abag_test_results[\"ref15_error\"], alternative=\"less\")"
   ]
  },
  {
   "cell_type": "markdown",
   "id": "4e997682",
   "metadata": {},
   "source": [
    "## Combination of both datasets"
   ]
  },
  {
   "cell_type": "code",
   "execution_count": null,
   "id": "4bfba232",
   "metadata": {},
   "outputs": [],
   "source": [
    "full_results = pd.concat([abag_test_results, benchmark_results])\n",
    "full_results.describe()"
   ]
  },
  {
   "cell_type": "code",
   "execution_count": null,
   "id": "13c87f4a",
   "metadata": {},
   "outputs": [],
   "source": [
    "fig, ax = plt.subplots(2,2, figsize=(15,10))\n",
    "\n",
    "full_results[\"gnn_diff\"].plot.hist(ax=ax[0,0])\n",
    "ax[0,0].set_title(\"GNN prediction error histogram\")\n",
    "ax[0,0].set_xlabel(\"GNN prediction error [-log(Kd)]\")\n",
    "\n",
    "\n",
    "full_results.plot.scatter(\"gnn_prediction\", \"gnn_diff\", ax=ax[0,1])\n",
    "ax[0,1].set_title(\"GNN prediction error vs. GNN prediction\")\n",
    "\n",
    "full_results[\"ref15_diff\"].plot.hist(ax=ax[1,0])\n",
    "ax[1,0].set_title(\"RE15 prediction error histogram\")\n",
    "ax[1,0].set_xlabel(\"RE15 prediction error [-log(Kd)]\")\n",
    "\n",
    "\n",
    "full_results[full_results[\"ref15_prediction\"] > 3].plot.scatter(\"ref15_prediction\", \"ref15_diff\", ax=ax[1,1])\n",
    "#full_results.plot.scatter(\"ref15_prediction\", \"ref15_diff\", ax=ax[1,1])\n",
    "\n",
    "ax[1,1].set_title(\"RE15 prediction error vs. RE15 prediction\")\n",
    "\n",
    "\n",
    "plt.savefig(os.path.join(plot_path, \"full_testset_error_distributions.png\"))\n",
    "plt.show()\n",
    "plt.close()"
   ]
  },
  {
   "cell_type": "code",
   "execution_count": null,
   "id": "10708aa1",
   "metadata": {},
   "outputs": [],
   "source": [
    "full_results[full_results[\"ref15_prediction\"] > 3][\"error_diff\"].plot.hist()\n",
    "plt.title(\"Difference in absolute prediction errors: GNN Error - REF15 Error\")\n",
    "plt.xlabel(\"Difference in absolute error [-log(Kd)]\")\n",
    "plt.savefig(os.path.join(plot_path, \"full_testset_error_difference_distributions.png\"))\n",
    "plt.show()\n",
    "plt.close()"
   ]
  },
  {
   "cell_type": "markdown",
   "id": "6655acb1",
   "metadata": {},
   "source": [
    "### Bootstrapping Method to generate multiple means of differences"
   ]
  },
  {
   "cell_type": "code",
   "execution_count": null,
   "id": "f10f5df4",
   "metadata": {},
   "outputs": [],
   "source": [
    "calculate_and_plot_bootstraped_error_differences(full_results[full_results[\"ref15_prediction\"] > 3])\n",
    "plt.savefig(os.path.join(plot_path, \"full_testset_error_difference_distributions_bootstrapped.png\"))\n",
    "plt.show()\n",
    "plt.close()"
   ]
  },
  {
   "cell_type": "code",
   "execution_count": null,
   "id": "6eac9d55",
   "metadata": {},
   "outputs": [],
   "source": [
    "ci_rsme, ci_pearson = calculate_and_plot_bootstraped_metrics(full_results[full_results[\"ref15_prediction\"] > 3])\n",
    "plt.savefig(os.path.join(plot_path, \"full_testset_metric_difference_bootstrapped.png\"))\n",
    "plt.show()\n",
    "plt.close()"
   ]
  },
  {
   "cell_type": "code",
   "execution_count": null,
   "id": "4b954da0",
   "metadata": {},
   "outputs": [],
   "source": [
    "print(ci_rsme)\n",
    "print(ci_pearson)"
   ]
  },
  {
   "cell_type": "markdown",
   "id": "295f693e",
   "metadata": {},
   "source": [
    "### Calculate paired T-Test"
   ]
  },
  {
   "cell_type": "code",
   "execution_count": null,
   "id": "4f94be69",
   "metadata": {},
   "outputs": [],
   "source": [
    "stats.wilcoxon(full_results[\"gnn_error\"], full_results[\"ref15_error\"], alternative=\"less\")"
   ]
  },
  {
   "cell_type": "code",
   "execution_count": null,
   "id": "0233617b",
   "metadata": {},
   "outputs": [],
   "source": []
  }
 ],
 "metadata": {
  "kernelspec": {
   "display_name": "DeepRefine",
   "language": "python",
   "name": "deeprefine"
  },
  "language_info": {
   "codemirror_mode": {
    "name": "ipython",
    "version": 3
   },
   "file_extension": ".py",
   "mimetype": "text/x-python",
   "name": "python",
   "nbconvert_exporter": "python",
   "pygments_lexer": "ipython3",
   "version": "3.8.13"
  }
 },
 "nbformat": 4,
 "nbformat_minor": 5
}
