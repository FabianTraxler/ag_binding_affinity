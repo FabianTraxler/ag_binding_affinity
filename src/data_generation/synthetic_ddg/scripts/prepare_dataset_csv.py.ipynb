{
 "cells": [
  {
   "cell_type": "code",
   "execution_count": 1,
   "id": "f3effcf1",
   "metadata": {
    "tags": [
     "snakemake-job-properties"
    ]
   },
   "outputs": [],
   "source": [
    "\n",
    "######## snakemake preamble start (automatically inserted, do not edit) ########\n",
    "import sys; sys.path.extend(['/msc/home/mschae83/miniconda3/lib/python3.9/site-packages', '/msc/home/mschae83/.cache/snakemake/snakemake/source-cache/runtime-cache/tmp6rpjtrjl/file/msc/home/mschae83/guided-protein-diffusion/modules/ag_binding_affinity/src/data_generation/synthetic_ddg/scripts', '/msc/home/mschae83/guided-protein-diffusion/modules/ag_binding_affinity/src/data_generation/synthetic_ddg/scripts']); import pickle; snakemake = pickle.loads(b'\\x80\\x04\\x95$\\x06\\x00\\x00\\x00\\x00\\x00\\x00\\x8c\\x10snakemake.script\\x94\\x8c\\tSnakemake\\x94\\x93\\x94)\\x81\\x94}\\x94(\\x8c\\x05input\\x94\\x8c\\x0csnakemake.io\\x94\\x8c\\nInputFiles\\x94\\x93\\x94)\\x81\\x94(\\x8cSgithub.com/amhummer/Graphinity/raw/main/data/ddg_synthetic/Synthetic_ddG_942723.csv\\x94\\x8cp/msc/home/mschae83/guided-protein-diffusion/modules/ag_binding_affinity/results/synthetic_ddg/cdr_clusters.clstr\\x94e}\\x94(\\x8c\\x06_names\\x94}\\x94(\\x8c\\x06syn_df\\x94K\\x00N\\x86\\x94\\x8c\\x0ccdr_clusters\\x94K\\x01N\\x86\\x94u\\x8c\\x12_allowed_overrides\\x94]\\x94(\\x8c\\x05index\\x94\\x8c\\x04sort\\x94eh\\x15\\x8c\\tfunctools\\x94\\x8c\\x07partial\\x94\\x93\\x94h\\x06\\x8c\\x19Namedlist._used_attribute\\x94\\x93\\x94\\x85\\x94R\\x94(h\\x1b)}\\x94\\x8c\\x05_name\\x94h\\x15sNt\\x94bh\\x16h\\x19h\\x1b\\x85\\x94R\\x94(h\\x1b)}\\x94h\\x1fh\\x16sNt\\x94bh\\x0fh\\nh\\x11h\\x0bub\\x8c\\x06output\\x94h\\x06\\x8c\\x0bOutputFiles\\x94\\x93\\x94)\\x81\\x94\\x8c{/msc/home/mschae83/guided-protein-diffusion/modules/ag_binding_affinity/results/synthetic_ddg/ddg_full_synthetic_labels.csv\\x94a}\\x94(h\\r}\\x94\\x8c\\x04full\\x94K\\x00N\\x86\\x94sh\\x13]\\x94(h\\x15h\\x16eh\\x15h\\x19h\\x1b\\x85\\x94R\\x94(h\\x1b)}\\x94h\\x1fh\\x15sNt\\x94bh\\x16h\\x19h\\x1b\\x85\\x94R\\x94(h\\x1b)}\\x94h\\x1fh\\x16sNt\\x94bh,h)ub\\x8c\\x06params\\x94h\\x06\\x8c\\x06Params\\x94\\x93\\x94)\\x81\\x94(G\\x00\\x00\\x00\\x00\\x00\\x00\\x00\\x00G@4\\x00\\x00\\x00\\x00\\x00\\x00K2e}\\x94(h\\r}\\x94(\\x8c\\x10filter_logkd_min\\x94K\\x00N\\x86\\x94\\x8c\\x10fliter_logkd_max\\x94K\\x01N\\x86\\x94\\x8c\\x15val_max_num_mutations\\x94K\\x02N\\x86\\x94uh\\x13]\\x94(h\\x15h\\x16eh\\x15h\\x19h\\x1b\\x85\\x94R\\x94(h\\x1b)}\\x94h\\x1fh\\x15sNt\\x94bh\\x16h\\x19h\\x1b\\x85\\x94R\\x94(h\\x1b)}\\x94h\\x1fh\\x16sNt\\x94bh=G\\x00\\x00\\x00\\x00\\x00\\x00\\x00\\x00h?G@4\\x00\\x00\\x00\\x00\\x00\\x00hAK2ub\\x8c\\twildcards\\x94h\\x06\\x8c\\tWildcards\\x94\\x93\\x94)\\x81\\x94}\\x94(h\\r}\\x94h\\x13]\\x94(h\\x15h\\x16eh\\x15h\\x19h\\x1b\\x85\\x94R\\x94(h\\x1b)}\\x94h\\x1fh\\x15sNt\\x94bh\\x16h\\x19h\\x1b\\x85\\x94R\\x94(h\\x1b)}\\x94h\\x1fh\\x16sNt\\x94bub\\x8c\\x07threads\\x94K\\x01\\x8c\\tresources\\x94h\\x06\\x8c\\tResources\\x94\\x93\\x94)\\x81\\x94(K\\x01K\\x01\\x8c\\x04/tmp\\x94e}\\x94(h\\r}\\x94(\\x8c\\x06_cores\\x94K\\x00N\\x86\\x94\\x8c\\x06_nodes\\x94K\\x01N\\x86\\x94\\x8c\\x06tmpdir\\x94K\\x02N\\x86\\x94uh\\x13]\\x94(h\\x15h\\x16eh\\x15h\\x19h\\x1b\\x85\\x94R\\x94(h\\x1b)}\\x94h\\x1fh\\x15sNt\\x94bh\\x16h\\x19h\\x1b\\x85\\x94R\\x94(h\\x1b)}\\x94h\\x1fh\\x16sNt\\x94bhcK\\x01heK\\x01hgh`ub\\x8c\\x03log\\x94h\\x06\\x8c\\x03Log\\x94\\x93\\x94)\\x81\\x94\\x8c!logs/prepare_dataset_csv.py.ipynb\\x94a}\\x94(h\\r}\\x94\\x8c\\x08notebook\\x94K\\x00N\\x86\\x94sh\\x13]\\x94(h\\x15h\\x16eh\\x15h\\x19h\\x1b\\x85\\x94R\\x94(h\\x1b)}\\x94h\\x1fh\\x15sNt\\x94bh\\x16h\\x19h\\x1b\\x85\\x94R\\x94(h\\x1b)}\\x94h\\x1fh\\x16sNt\\x94bhyhvub\\x8c\\x06config\\x94}\\x94\\x8c\\x04rule\\x94\\x8c\\x13prepare_dataset_csv\\x94\\x8c\\x0fbench_iteration\\x94N\\x8c\\tscriptdir\\x94\\x8cq/msc/home/mschae83/guided-protein-diffusion/modules/ag_binding_affinity/src/data_generation/synthetic_ddg/scripts\\x94ub.'); from snakemake.logging import logger; logger.printshellcmds = False; import os; os.chdir(r'/msc/home/mschae83/guided-protein-diffusion/modules/ag_binding_affinity/src/data_generation/synthetic_ddg');\n",
    "######## snakemake preamble end #########\n"
   ]
  },
  {
   "cell_type": "code",
   "execution_count": 2,
   "id": "59c49bf0-512d-4b6f-8e8e-df68592af3c8",
   "metadata": {},
   "outputs": [
    {
     "data": {
      "text/html": [
       "<div>\n",
       "<style scoped>\n",
       "    .dataframe tbody tr th:only-of-type {\n",
       "        vertical-align: middle;\n",
       "    }\n",
       "\n",
       "    .dataframe tbody tr th {\n",
       "        vertical-align: top;\n",
       "    }\n",
       "\n",
       "    .dataframe thead th {\n",
       "        text-align: right;\n",
       "    }\n",
       "</style>\n",
       "<table border=\"1\" class=\"dataframe\">\n",
       "  <thead>\n",
       "    <tr style=\"text-align: right;\">\n",
       "      <th></th>\n",
       "      <th>pdb</th>\n",
       "      <th>complex</th>\n",
       "      <th>labels</th>\n",
       "      <th>chain_prot1</th>\n",
       "      <th>chain_prot2</th>\n",
       "      <th>ab_chain</th>\n",
       "      <th>ag_chain</th>\n",
       "      <th>wt_foldx_dg</th>\n",
       "      <th>mut_foldx_dg</th>\n",
       "    </tr>\n",
       "  </thead>\n",
       "  <tbody>\n",
       "    <tr>\n",
       "      <th>0</th>\n",
       "      <td>7epx</td>\n",
       "      <td>7epx_DH29A</td>\n",
       "      <td>-0.04077</td>\n",
       "      <td>HL</td>\n",
       "      <td>A</td>\n",
       "      <td>HL</td>\n",
       "      <td>A</td>\n",
       "      <td>-3.35605</td>\n",
       "      <td>-3.31528</td>\n",
       "    </tr>\n",
       "    <tr>\n",
       "      <th>1</th>\n",
       "      <td>7epx</td>\n",
       "      <td>7epx_DH29R</td>\n",
       "      <td>1.14436</td>\n",
       "      <td>HL</td>\n",
       "      <td>A</td>\n",
       "      <td>HL</td>\n",
       "      <td>A</td>\n",
       "      <td>-3.35605</td>\n",
       "      <td>-4.50041</td>\n",
       "    </tr>\n",
       "    <tr>\n",
       "      <th>2</th>\n",
       "      <td>7epx</td>\n",
       "      <td>7epx_DH29N</td>\n",
       "      <td>0.05149</td>\n",
       "      <td>HL</td>\n",
       "      <td>A</td>\n",
       "      <td>HL</td>\n",
       "      <td>A</td>\n",
       "      <td>-3.35605</td>\n",
       "      <td>-3.40754</td>\n",
       "    </tr>\n",
       "    <tr>\n",
       "      <th>3</th>\n",
       "      <td>7epx</td>\n",
       "      <td>7epx_DH29C</td>\n",
       "      <td>0.02825</td>\n",
       "      <td>HL</td>\n",
       "      <td>A</td>\n",
       "      <td>HL</td>\n",
       "      <td>A</td>\n",
       "      <td>-3.35605</td>\n",
       "      <td>-3.38430</td>\n",
       "    </tr>\n",
       "    <tr>\n",
       "      <th>4</th>\n",
       "      <td>7epx</td>\n",
       "      <td>7epx_DH29Q</td>\n",
       "      <td>-0.05015</td>\n",
       "      <td>HL</td>\n",
       "      <td>A</td>\n",
       "      <td>HL</td>\n",
       "      <td>A</td>\n",
       "      <td>-3.35605</td>\n",
       "      <td>-3.30590</td>\n",
       "    </tr>\n",
       "  </tbody>\n",
       "</table>\n",
       "</div>"
      ],
      "text/plain": [
       "    pdb     complex   labels chain_prot1 chain_prot2 ab_chain ag_chain  \\\n",
       "0  7epx  7epx_DH29A -0.04077          HL           A       HL        A   \n",
       "1  7epx  7epx_DH29R  1.14436          HL           A       HL        A   \n",
       "2  7epx  7epx_DH29N  0.05149          HL           A       HL        A   \n",
       "3  7epx  7epx_DH29C  0.02825          HL           A       HL        A   \n",
       "4  7epx  7epx_DH29Q -0.05015          HL           A       HL        A   \n",
       "\n",
       "   wt_foldx_dg  mut_foldx_dg  \n",
       "0     -3.35605      -3.31528  \n",
       "1     -3.35605      -4.50041  \n",
       "2     -3.35605      -3.40754  \n",
       "3     -3.35605      -3.38430  \n",
       "4     -3.35605      -3.30590  "
      ]
     },
     "execution_count": 2,
     "metadata": {},
     "output_type": "execute_result"
    }
   ],
   "source": [
    "# start coding here\n",
    "import pandas as pd\n",
    "import numpy as np\n",
    "\n",
    "df = pd.read_csv(snakemake.input[\"syn_df\"])\n",
    "df.drop(df.index[df.complex.duplicated(keep=False)], inplace=True)  # there are 76 duplicates\n",
    "df.head()\n"
   ]
  },
  {
   "cell_type": "code",
   "execution_count": 3,
   "id": "16348650",
   "metadata": {},
   "outputs": [
    {
     "data": {
      "text/plain": [
       "pdb                   7epx\n",
       "complex         7epx_DH29A\n",
       "labels            -0.04077\n",
       "chain_prot1             HL\n",
       "chain_prot2              A\n",
       "ab_chain                HL\n",
       "ag_chain                 A\n",
       "wt_foldx_dg       -3.35605\n",
       "mut_foldx_dg      -3.31528\n",
       "Name: 0, dtype: object"
      ]
     },
     "execution_count": 3,
     "metadata": {},
     "output_type": "execute_result"
    }
   ],
   "source": [
    "df.iloc[0]"
   ]
  },
  {
   "cell_type": "code",
   "execution_count": 4,
   "id": "841379bc",
   "metadata": {},
   "outputs": [],
   "source": [
    "originals = df.groupby([\"pdb\"])[\"wt_foldx_dg\"].first().to_frame().reset_index(drop=False)\n",
    "originals[\"complex\"] = originals[\"pdb\"]\n",
    "originals[\"mut_foldx_dg\"] = originals[\"wt_foldx_dg\"]\n",
    "\n",
    "merged = pd.concat([df, originals], ignore_index=True)"
   ]
  },
  {
   "cell_type": "code",
   "execution_count": 5,
   "id": "96c9027f-a39d-4f68-a076-5cbc0d414e3d",
   "metadata": {},
   "outputs": [],
   "source": [
    "# Convert ΔΔG labels to Δ-log(Kd) labels\n",
    "# Negative labels indicate worse binding (checked in the publication)\n",
    "merged[\"-log(Kd)\"] = -(merged[\"mut_foldx_dg\"]/(293.15 * 0.001987)) * 0.434  # 0.434 = log(10), 293.15 = 20 celsius in kelvin,  0.001987 = R in kcal/mol/K"
   ]
  },
  {
   "cell_type": "code",
   "execution_count": 6,
   "id": "70a2a6c0",
   "metadata": {},
   "outputs": [
    {
     "name": "stderr",
     "output_type": "stream",
     "text": [
      "/msc/home/mschae83/miniconda3/envs/ag_binding_diffusion3/lib/python3.8/site-packages/scipy/__init__.py:146: UserWarning: A NumPy version >=1.16.5 and <1.23.0 is required for this version of SciPy (detected version 1.24.3\n",
      "  warnings.warn(f\"A NumPy version >={np_minversion} and <{np_maxversion}\"\n",
      "/msc/home/mschae83/miniconda3/envs/ag_binding_diffusion3/lib/python3.8/site-packages/seaborn/distributions.py:2619: FutureWarning: `distplot` is a deprecated function and will be removed in a future version. Please adapt your code to use either `displot` (a figure-level function with similar flexibility) or `histplot` (an axes-level function for histograms).\n",
      "  warnings.warn(msg, FutureWarning)\n"
     ]
    },
    {
     "data": {
      "text/plain": [
       "(-10.0, 30.0)"
      ]
     },
     "execution_count": 6,
     "metadata": {},
     "output_type": "execute_result"
    },
    {
     "data": {
      "image/png": "[encoded data removed]",
      "text/plain": [
       "<Figure size 300x300 with 1 Axes>"
      ]
     },
     "metadata": {},
     "output_type": "display_data"
    }
   ],
   "source": [
    "import seaborn as sns\n",
    "import matplotlib.pyplot as plt\n",
    "fig, ax = plt.subplots(figsize=(3,3))\n",
    "sns.distplot(merged[\"-log(Kd)\"], ax=ax)\n",
    "plt.xlim([-10, 30])"
   ]
  },
  {
   "cell_type": "code",
   "execution_count": 7,
   "id": "a8192327-6a66-40cb-8bea-9a8f956fd1c2",
   "metadata": {},
   "outputs": [
    {
     "data": {
      "text/plain": [
       "943980"
      ]
     },
     "execution_count": 7,
     "metadata": {},
     "output_type": "execute_result"
    }
   ],
   "source": [
    "len(merged)"
   ]
  },
  {
   "cell_type": "code",
   "execution_count": 8,
   "id": "5e858116-dcd6-4ee8-9db5-e0a75cfd2dfb",
   "metadata": {},
   "outputs": [
    {
     "data": {
      "text/plain": [
       "878970"
      ]
     },
     "execution_count": 8,
     "metadata": {},
     "output_type": "execute_result"
    }
   ],
   "source": [
    "# Filter df for unreasonable delta_logkd\n",
    "merged.drop(index=merged.index[(merged[\"-log(Kd)\"] < snakemake.params.filter_logkd_min) | (merged[\"-log(Kd)\"].abs() > snakemake.params.fliter_logkd_max)], inplace=True)\n",
    "len(merged)"
   ]
  },
  {
   "cell_type": "code",
   "execution_count": 9,
   "id": "1fef4fe1-42bc-4c0d-bef9-22c8ae90c499",
   "metadata": {},
   "outputs": [],
   "source": [
    "# set pdb\n",
    "\n",
    "# fill complex where it's nan (to pdb) and set index\n",
    "merged.index = merged[\"complex\"].fillna(merged[\"pdb\"])\n"
   ]
  },
  {
   "cell_type": "code",
   "execution_count": 10,
   "id": "a8866262-272b-40bb-991b-ddfc6e65a8bd",
   "metadata": {},
   "outputs": [],
   "source": [
    "merged[\"mutation\"] = merged[\"complex\"].apply(lambda v: v.split(\"_\")[1] if \"_\" in str(v) else \"\")\n",
    "merged[\"filename\"] = merged.apply(lambda row: f\"{row.pdb}_{row.ab_chain}_{row.ag_chain}_{row.mutation}.pdb\"\n",
    "                                  if row.mutation else f\"{row.pdb}.pdb\", \n",
    "                                  axis=1)\n",
    "merged.rename(columns={\"mut_foldx_dg\": \"delta_g\"}, inplace=True)\n",
    "# df[\"mutation_code\"] = df.apply(lambda L: L.complex.split('_')[-1], axis=1)"
   ]
  },
  {
   "cell_type": "code",
   "execution_count": 11,
   "id": "037a8139-021c-400e-b6f4-15f5d1f1058b",
   "metadata": {},
   "outputs": [
    {
     "data": {
      "text/html": [
       "<div>\n",
       "<style scoped>\n",
       "    .dataframe tbody tr th:only-of-type {\n",
       "        vertical-align: middle;\n",
       "    }\n",
       "\n",
       "    .dataframe tbody tr th {\n",
       "        vertical-align: top;\n",
       "    }\n",
       "\n",
       "    .dataframe thead th {\n",
       "        text-align: right;\n",
       "    }\n",
       "</style>\n",
       "<table border=\"1\" class=\"dataframe\">\n",
       "  <thead>\n",
       "    <tr style=\"text-align: right;\">\n",
       "      <th></th>\n",
       "      <th>pdb</th>\n",
       "      <th>complex</th>\n",
       "      <th>wt_foldx_dg</th>\n",
       "      <th>delta_g</th>\n",
       "      <th>-log(Kd)</th>\n",
       "      <th>mutation</th>\n",
       "      <th>filename</th>\n",
       "    </tr>\n",
       "    <tr>\n",
       "      <th>complex</th>\n",
       "      <th></th>\n",
       "      <th></th>\n",
       "      <th></th>\n",
       "      <th></th>\n",
       "      <th></th>\n",
       "      <th></th>\n",
       "      <th></th>\n",
       "    </tr>\n",
       "  </thead>\n",
       "  <tbody>\n",
       "    <tr>\n",
       "      <th>7epx_DH29A</th>\n",
       "      <td>7epx</td>\n",
       "      <td>7epx_DH29A</td>\n",
       "      <td>-3.35605</td>\n",
       "      <td>-3.31528</td>\n",
       "      <td>2.470143</td>\n",
       "      <td>DH29A</td>\n",
       "      <td>7epx_HL_A_DH29A.pdb</td>\n",
       "    </tr>\n",
       "    <tr>\n",
       "      <th>7z1c</th>\n",
       "      <td>7z1c</td>\n",
       "      <td>7z1c</td>\n",
       "      <td>-18.30160</td>\n",
       "      <td>-18.30160</td>\n",
       "      <td>13.636127</td>\n",
       "      <td></td>\n",
       "      <td>7z1c.pdb</td>\n",
       "    </tr>\n",
       "  </tbody>\n",
       "</table>\n",
       "</div>"
      ],
      "text/plain": [
       "             pdb     complex  wt_foldx_dg   delta_g   -log(Kd) mutation  \\\n",
       "complex                                                                   \n",
       "7epx_DH29A  7epx  7epx_DH29A     -3.35605  -3.31528   2.470143    DH29A   \n",
       "7z1c        7z1c        7z1c    -18.30160 -18.30160  13.636127            \n",
       "\n",
       "                       filename  \n",
       "complex                          \n",
       "7epx_DH29A  7epx_HL_A_DH29A.pdb  \n",
       "7z1c                   7z1c.pdb  "
      ]
     },
     "execution_count": 11,
     "metadata": {},
     "output_type": "execute_result"
    }
   ],
   "source": [
    "merged.dropna(axis=1, how='any').iloc[[0, -1]]"
   ]
  },
  {
   "cell_type": "markdown",
   "id": "ebc1cfd2-cc3d-4dc7-a10e-0305166255e0",
   "metadata": {},
   "source": [
    "## Now split into absolute and relative part"
   ]
  },
  {
   "cell_type": "code",
   "execution_count": 12,
   "id": "0406b9a2-cfe1-454f-8cc9-5918ae18126c",
   "metadata": {},
   "outputs": [],
   "source": [
    "merged[\"test\"] = False"
   ]
  },
  {
   "cell_type": "markdown",
   "id": "9d2d81d9-7594-4318-bbac-81bc25033df2",
   "metadata": {},
   "source": [
    "## Assign validation/test cluster numbers"
   ]
  },
  {
   "cell_type": "code",
   "execution_count": 13,
   "id": "7e48a5c0-53c0-4ad4-8704-16b06f5a672a",
   "metadata": {},
   "outputs": [],
   "source": [
    "# Read in  the clustering file\n",
    "clusters = []\n",
    "pdb_codes = []\n",
    "\n",
    "with open(snakemake.input.cdr_clusters) as f:\n",
    "    for line in f.readlines():\n",
    "        if line.startswith('>Cluster'):\n",
    "            cluster_id = int(line.split()[1])\n",
    "        elif line.strip() and not line.startswith(';;'):\n",
    "            pdb_code = line.split('>')[1][:4]\n",
    "            clusters.append(cluster_id)\n",
    "            pdb_codes.append(pdb_code)\n",
    "\n",
    "# Create a DataFrame\n",
    "cluster_df = pd.DataFrame({'pdb': pdb_codes, 'cluster_id': clusters})\n"
   ]
  },
  {
   "cell_type": "code",
   "execution_count": 14,
   "id": "bdcd45cc-9a4f-4d1f-b33c-3105643f4576",
   "metadata": {},
   "outputs": [],
   "source": [
    "# split relative, according to clustering\n",
    "import math\n",
    "\n",
    "def assign_clusters(df, num_splits):\n",
    "    \"\"\"\n",
    "    Greedly consume clusters that are fully contained within the relative dataset, until the split is full\n",
    "    \n",
    "    Might return 1 more split (if some remain)\n",
    "    \"\"\"\n",
    "    \n",
    "    all_pdbs = set(df[\"pdb\"].drop_duplicates().tolist())\n",
    "    df[\"validation\"] = num_splits\n",
    "    min_split_size = math.floor(len(all_pdbs) / num_splits)  # just adding one, so there are no left-overs\n",
    "    \n",
    "    cluster_i = 0\n",
    "    for split_i in range(num_splits):\n",
    "        split_pdbs = []\n",
    "    \n",
    "        # accumulate PDBs until the size is reached\n",
    "        while len(split_pdbs) < min_split_size and cluster_i <= cluster_df[\"cluster_id\"].max():\n",
    "            cluster_pdbs = cluster_df.loc[cluster_df.cluster_id == cluster_i, \"pdb\"]\n",
    "            \n",
    "            if cluster_pdbs.isin(all_pdbs).all():\n",
    "                split_pdbs.extend(cluster_pdbs.tolist())\n",
    "            cluster_i += 1\n",
    "    \n",
    "        # set the selected PDBs to the current split number\n",
    "        df.loc[df.pdb.isin(set(split_pdbs)), \"validation\"] = split_i"
   ]
  },
  {
   "cell_type": "code",
   "execution_count": 15,
   "id": "48b0c1a9-148a-4d21-9316-852ab3586931",
   "metadata": {},
   "outputs": [],
   "source": [
    "assign_clusters(merged, num_splits=18)"
   ]
  },
  {
   "cell_type": "code",
   "execution_count": 16,
   "id": "79ee6f40-3834-4452-8c16-61f9dcf95d39",
   "metadata": {},
   "outputs": [
    {
     "data": {
      "text/plain": [
       "12    55758\n",
       "1     52165\n",
       "15    51275\n",
       "13    51166\n",
       "4     50487\n",
       "10    50473\n",
       "16    49723\n",
       "5     48925\n",
       "14    48464\n",
       "3     47874\n",
       "2     47682\n",
       "7     47513\n",
       "9     46944\n",
       "6     45780\n",
       "8     45344\n",
       "17    44438\n",
       "11    44041\n",
       "0     43751\n",
       "18     7167\n",
       "Name: validation, dtype: int64"
      ]
     },
     "execution_count": 16,
     "metadata": {},
     "output_type": "execute_result"
    }
   ],
   "source": [
    "# there is a slight disbalance now, but it shouldn't matter too much (even if we do cross-validation)\n",
    "merged.validation.value_counts()\n"
   ]
  },
  {
   "cell_type": "code",
   "execution_count": 17,
   "id": "cc122ba4",
   "metadata": {},
   "outputs": [],
   "source": [
    "# The remaining data points may have overlaps with other clusters. Delete:\n",
    "merged.drop(merged.index[merged.validation == 18], inplace=True)"
   ]
  },
  {
   "cell_type": "code",
   "execution_count": 39,
   "id": "a1cdec52",
   "metadata": {},
   "outputs": [],
   "source": [
    "# Reduce the size of the validation and test split (to accelerate training)\n",
    "# Retain WT and `snakemake.params.val_max_num_mutations` mutations per complex \n",
    "\n",
    "del_indices = []\n",
    "for pdb, group in merged.query(\"(validation <= 1) and (mutation != '')\").groupby(\"pdb\", as_index=False):\n",
    "    del_mask = np.ones(len(group), dtype=bool)\n",
    "    del_mask[:snakemake.params.val_max_num_mutations] = False\n",
    "    np.random.shuffle(del_mask)\n",
    "    del_indices.extend(\n",
    "        group.index[del_mask]\n",
    "    )\n",
    "merged.drop(del_indices, inplace=True)"
   ]
  },
  {
   "cell_type": "code",
   "execution_count": 40,
   "id": "86f2c90c",
   "metadata": {},
   "outputs": [],
   "source": [
    "merged[\"test\"] = merged[\"validation\"] == 0"
   ]
  },
  {
   "cell_type": "code",
   "execution_count": 41,
   "id": "7240c3a7-315a-496a-a4cc-b56fee992c3d",
   "metadata": {},
   "outputs": [],
   "source": [
    "merged.dropna(axis=1, how='any').drop(columns=[\"wt_foldx_dg\", \"complex\"]).to_csv(snakemake.output[\"full\"])\n"
   ]
  },
  {
   "cell_type": "code",
   "execution_count": 42,
   "id": "5289653f-88a8-4b3d-90ae-544ce499ba0e",
   "metadata": {},
   "outputs": [
    {
     "data": {
      "text/plain": [
       "pdb                           7epx\n",
       "complex                 7epx_DH29A\n",
       "labels                    -0.04077\n",
       "chain_prot1                     HL\n",
       "chain_prot2                      A\n",
       "ab_chain                        HL\n",
       "ag_chain                         A\n",
       "wt_foldx_dg               -3.35605\n",
       "delta_g                   -3.31528\n",
       "-log(Kd)                  2.470143\n",
       "mutation                     DH29A\n",
       "filename       7epx_HL_A_DH29A.pdb\n",
       "test                         False\n",
       "validation                       2\n",
       "Name: 7epx_DH29A, dtype: object"
      ]
     },
     "execution_count": 42,
     "metadata": {},
     "output_type": "execute_result"
    }
   ],
   "source": [
    "merged.iloc[0]"
   ]
  },
  {
   "cell_type": "code",
   "execution_count": null,
   "id": "3869da84",
   "metadata": {},
   "outputs": [],
   "source": []
  }
 ],
 "metadata": {
  "kernelspec": {
   "display_name": "Python 3 (ipykernel)",
   "language": "python",
   "name": "python3"
  },
  "language_info": {
   "codemirror_mode": {
    "name": "ipython",
    "version": 3
   },
   "file_extension": ".py",
   "mimetype": "text/x-python",
   "name": "python",
   "nbconvert_exporter": "python",
   "pygments_lexer": "ipython3",
   "version": "3.8.16"
  }
 },
 "nbformat": 4,
 "nbformat_minor": 5
}
