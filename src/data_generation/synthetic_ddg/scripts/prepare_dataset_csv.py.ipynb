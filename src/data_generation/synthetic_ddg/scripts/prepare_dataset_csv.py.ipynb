{
 "cells": [
  {
   "cell_type": "code",
   "execution_count": null,
   "id": "59c49bf0-512d-4b6f-8e8e-df68592af3c8",
   "metadata": {},
   "outputs": [],
   "source": [
    "# start coding here\n",
    "import pandas as pd\n",
    "\n",
    "df = pd.read_csv(snakemake.input[\"syn_df\"])\n",
    "abag_df = pd.read_csv(snakemake.input[\"abag_df\"], index_col=0).reset_index(drop=True)"
   ]
  },
  {
   "cell_type": "code",
   "execution_count": null,
   "id": "5ce6efb8-516a-49d7-942c-ca7099cdc9f2",
   "metadata": {},
   "outputs": [],
   "source": [
    "# start from the unmutated PDBs\n",
    "abag_df[\"pdb_trimmed\"] = abag_df[\"pdb\"].apply(lambda v: v[:4])\n",
    "\n",
    "overlapping_ids = pd.Index(df[\"pdb\"].drop_duplicates()).intersection(\n",
    "    pd.Index(abag_df[\"pdb_trimmed\"].drop_duplicates())\n",
    ")\n",
    "len(overlapping_ids)"
   ]
  },
  {
   "cell_type": "code",
   "execution_count": null,
   "id": "76c8d19f-65ec-4a80-a08c-45984946a6ae",
   "metadata": {},
   "outputs": [],
   "source": [
    "originals = abag_df.set_index(\"pdb_trimmed\").loc[overlapping_ids]\n",
    "# exclude duplicates (slightly sloppily)\n",
    "originals = originals.loc[originals.pdb.str.endswith(\"_1\")]\n",
    "len(originals)"
   ]
  },
  {
   "cell_type": "code",
   "execution_count": null,
   "id": "96c9027f-a39d-4f68-a076-5cbc0d414e3d",
   "metadata": {},
   "outputs": [],
   "source": [
    "# Convert ΔΔG labels to Δ-log(Kd) labels\n",
    "# Negative labels indicate worse binding (checked in the publication)\n",
    "df[\"delta_logkd\"] = (df[\"labels\"]/(293.15 * 0.001987)) * 0.434  # 0.434 = log(10), 293.15 = 20 celsius in kelvin,  0.001987 = R in kcal/mol/K\n",
    "originals[\"delta_logkd\"] = 0"
   ]
  },
  {
   "cell_type": "code",
   "execution_count": null,
   "id": "38bdf881-e45e-49e2-a930-57e75c096735",
   "metadata": {},
   "outputs": [],
   "source": [
    "# concat the two dataframes\n",
    "merged = pd.concat([originals, df], axis=0, ignore_index=True)"
   ]
  },
  {
   "cell_type": "code",
   "execution_count": null,
   "id": "5b45b270-e703-4437-bd6a-22d2cae970bd",
   "metadata": {},
   "outputs": [],
   "source": [
    "originals.iloc[0]"
   ]
  },
  {
   "cell_type": "code",
   "execution_count": null,
   "id": "a566dc75-b1a9-40c2-a50c-0ce6cf70009c",
   "metadata": {},
   "outputs": [],
   "source": [
    "originals[\"-log(Kd)\"].get(\"6fe4\", 8)"
   ]
  },
  {
   "cell_type": "code",
   "execution_count": null,
   "id": "657699bd-60b0-4d15-830b-5e95b16322b0",
   "metadata": {},
   "outputs": [],
   "source": [
    "# compute the mutated absolute neglogkds\n",
    "merged[\"orig_neglogkd\"] = merged[\"pdb\"].apply(lambda pdb: originals[\"-log(Kd)\"].get(pdb[:4], snakemake.params.offset_neglogkd))\n",
    "merged[\"-log(Kd)\"] = merged[\"orig_neglogkd\"] + merged[\"delta_logkd\"]"
   ]
  },
  {
   "cell_type": "code",
   "execution_count": null,
   "id": "9d08f5fd-8ed6-4bdd-8c15-4baf1af9b73e",
   "metadata": {},
   "outputs": [],
   "source": [
    "merged.delta_logkd.describe()"
   ]
  },
  {
   "cell_type": "code",
   "execution_count": null,
   "id": "00efb9da-4188-4690-bce0-011eab306e7c",
   "metadata": {},
   "outputs": [],
   "source": [
    "import seaborn as sns\n",
    "import matplotlib.pyplot as plt\n",
    "sns.displot(merged.delta_logkd)\n",
    "plt.xlim([-5, 3])"
   ]
  },
  {
   "cell_type": "code",
   "execution_count": null,
   "id": "1fef4fe1-42bc-4c0d-bef9-22c8ae90c499",
   "metadata": {},
   "outputs": [],
   "source": [
    "# set pdb\n",
    "merged[\"pdb_full\"] = merged[\"pdb\"]\n",
    "merged[\"pdb\"] = merged[\"pdb\"].apply(lambda v: v[:4])\n",
    "\n",
    "# fill complex where it's nan (to pdb) and set index\n",
    "merged.index = merged[\"complex\"].fillna(merged[\"pdb\"])\n"
   ]
  },
  {
   "cell_type": "code",
   "execution_count": null,
   "id": "87e67477",
   "metadata": {},
   "outputs": [],
   "source": [
    "merged"
   ]
  },
  {
   "cell_type": "code",
   "execution_count": null,
   "id": "a8866262-272b-40bb-991b-ddfc6e65a8bd",
   "metadata": {},
   "outputs": [],
   "source": [
    "merged[\"mutation\"] = merged[\"complex\"].apply(lambda v: v.split(\"_\")[1] if \"_\" in str(v) else \"\")\n",
    "merged[\"filename\"] = merged.apply(lambda row: row[\"filename\"].replace(\"_1\", \"\") if \"_1\" in str(row[\"filename\"]) else\n",
    "                          f\"{row.pdb}_{row.ab_chain}_{row.ag_chain}_{row.mutation}.pdb\", axis=1)\n",
    "# df[\"mutation_code\"] = df.apply(lambda L: L.complex.split('_')[-1], axis=1)"
   ]
  },
  {
   "cell_type": "markdown",
   "id": "ebc1cfd2-cc3d-4dc7-a10e-0305166255e0",
   "metadata": {},
   "source": [
    "## Now split into absolute and relative part"
   ]
  },
  {
   "cell_type": "code",
   "execution_count": null,
   "id": "0406b9a2-cfe1-454f-8cc9-5918ae18126c",
   "metadata": {},
   "outputs": [],
   "source": [
    "merged[\"test\"] = False\n",
    "\n",
    "absolute = merged.loc[merged.pdb.isin(originals.index)].copy()\n",
    "relative = merged.loc[~merged.pdb.isin(originals.index)].copy()\n"
   ]
  },
  {
   "cell_type": "code",
   "execution_count": null,
   "id": "ee695ef4-923d-4f48-b61b-d33461f64f9d",
   "metadata": {},
   "outputs": [],
   "source": [
    "len(absolute), len(relative)"
   ]
  },
  {
   "cell_type": "code",
   "execution_count": null,
   "id": "bdcd45cc-9a4f-4d1f-b33c-3105643f4576",
   "metadata": {},
   "outputs": [],
   "source": [
    "# split relative\n",
    "\n",
    "num_rel_splits = 15\n",
    "all_pdbs = relative[\"pdb\"].drop_duplicates().tolist()\n",
    "relative[\"validation\"] = relative[\"pdb\"].apply(lambda pdb: all_pdbs.index(pdb) % num_rel_splits)"
   ]
  },
  {
   "cell_type": "code",
   "execution_count": null,
   "id": "86f2c90c",
   "metadata": {},
   "outputs": [],
   "source": [
    "num_abs_splits = 5\n",
    "all_pdbs = absolute[\"pdb\"].drop_duplicates().tolist()\n",
    "\n",
    "absolute[\"validation\"] = absolute[\"pdb\"].apply(lambda pdb: all_pdbs.index(pdb) % num_abs_splits)\n",
    "absolute[\"test\"] = absolute[\"validation\"] == 0"
   ]
  },
  {
   "cell_type": "code",
   "execution_count": null,
   "id": "dc0ef3df-eae0-4af6-8a85-a29d44ad954b",
   "metadata": {},
   "outputs": [],
   "source": [
    "merged.iloc[-1]"
   ]
  },
  {
   "cell_type": "code",
   "execution_count": null,
   "id": "037a8139-021c-400e-b6f4-15f5d1f1058b",
   "metadata": {},
   "outputs": [],
   "source": [
    "merged.dropna(axis=1, how='any').iloc[-1]"
   ]
  },
  {
   "cell_type": "code",
   "execution_count": null,
   "id": "7240c3a7-315a-496a-a4cc-b56fee992c3d",
   "metadata": {},
   "outputs": [],
   "source": [
    "relative.dropna(axis=1, how='any').to_csv(snakemake.output[\"relative\"])\n",
    "absolute.dropna(axis=1, how='any').to_csv(snakemake.output[\"absolute\"])\n"
   ]
  },
  {
   "cell_type": "code",
   "execution_count": null,
   "id": "0392f93e",
   "metadata": {},
   "outputs": [],
   "source": []
  }
 ],
 "metadata": {
  "kernelspec": {
   "display_name": "Python 3 (ipykernel)",
   "language": "python",
   "name": "python3"
  },
  "language_info": {
   "codemirror_mode": {
    "name": "ipython",
    "version": 3
   },
   "file_extension": ".py",
   "mimetype": "text/x-python",
   "name": "python",
   "nbconvert_exporter": "python",
   "pygments_lexer": "ipython3",
   "version": "3.8.16"
  }
 },
 "nbformat": 4,
 "nbformat_minor": 5
}
