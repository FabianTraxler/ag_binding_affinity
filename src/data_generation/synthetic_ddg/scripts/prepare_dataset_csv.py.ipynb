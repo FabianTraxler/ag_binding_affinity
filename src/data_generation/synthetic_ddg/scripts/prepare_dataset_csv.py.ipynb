{
 "cells": [
  {
   "cell_type": "code",
   "execution_count": null,
   "id": "59c49bf0-512d-4b6f-8e8e-df68592af3c8",
   "metadata": {},
   "outputs": [],
   "source": [
    "# start coding here\n",
    "import pandas as pd\n",
    "import numpy as np\n",
    "\n",
    "df = pd.read_csv(snakemake.input[\"syn_df\"])\n",
    "df.drop(df.index[df.complex.duplicated(keep=False)], inplace=True)  # there are 76 duplicates\n",
    "df.head()\n"
   ]
  },
  {
   "cell_type": "code",
   "execution_count": null,
   "id": "16348650",
   "metadata": {},
   "outputs": [],
   "source": [
    "df.iloc[0]"
   ]
  },
  {
   "cell_type": "code",
   "execution_count": null,
   "id": "841379bc",
   "metadata": {},
   "outputs": [],
   "source": [
    "originals = df.groupby([\"pdb\"])[\"wt_foldx_dg\"].first().to_frame().reset_index(drop=False)\n",
    "originals[\"complex\"] = originals[\"pdb\"]\n",
    "originals[\"mut_foldx_dg\"] = originals[\"wt_foldx_dg\"]\n",
    "\n",
    "merged = pd.concat([df, originals], ignore_index=True)"
   ]
  },
  {
   "cell_type": "code",
   "execution_count": null,
   "id": "96c9027f-a39d-4f68-a076-5cbc0d414e3d",
   "metadata": {},
   "outputs": [],
   "source": [
    "# Convert ΔΔG labels to Δ-log(Kd) labels\n",
    "# Negative labels indicate worse binding (checked in the publication)\n",
    "merged[\"-log(Kd)\"] = -(merged[\"mut_foldx_dg\"]/(293.15 * 0.001987)) * 0.434  # 0.434 = log(10), 293.15 = 20 celsius in kelvin,  0.001987 = R in kcal/mol/K"
   ]
  },
  {
   "cell_type": "code",
   "execution_count": null,
   "id": "70a2a6c0",
   "metadata": {},
   "outputs": [],
   "source": [
    "import seaborn as sns\n",
    "import matplotlib.pyplot as plt\n",
    "fig, ax = plt.subplots(figsize=(3,3))\n",
    "sns.distplot(merged[\"-log(Kd)\"], ax=ax)\n",
    "plt.xlim([-10, 30])"
   ]
  },
  {
   "cell_type": "code",
   "execution_count": null,
   "id": "a8192327-6a66-40cb-8bea-9a8f956fd1c2",
   "metadata": {},
   "outputs": [],
   "source": [
    "len(merged)"
   ]
  },
  {
   "cell_type": "code",
   "execution_count": null,
   "id": "5e858116-dcd6-4ee8-9db5-e0a75cfd2dfb",
   "metadata": {},
   "outputs": [],
   "source": [
    "# Filter df for unreasonable delta_logkd\n",
    "merged.drop(index=merged.index[(merged[\"-log(Kd)\"] < snakemake.params.filter_logkd_min) | (merged[\"-log(Kd)\"].abs() > snakemake.params.fliter_logkd_max)], inplace=True)\n",
    "len(merged)"
   ]
  },
  {
   "cell_type": "code",
   "execution_count": null,
   "id": "1fef4fe1-42bc-4c0d-bef9-22c8ae90c499",
   "metadata": {},
   "outputs": [],
   "source": [
    "# set pdb\n",
    "\n",
    "# fill complex where it's nan (to pdb) and set index\n",
    "merged.index = merged[\"complex\"].fillna(merged[\"pdb\"])\n"
   ]
  },
  {
   "cell_type": "code",
   "execution_count": null,
   "id": "a8866262-272b-40bb-991b-ddfc6e65a8bd",
   "metadata": {},
   "outputs": [],
   "source": [
    "merged[\"mutation\"] = merged[\"complex\"].apply(lambda v: v.split(\"_\")[1] if \"_\" in str(v) else \"\")\n",
    "merged[\"filename\"] = merged.apply(lambda row: f\"{row.pdb}_{row.ab_chain}_{row.ag_chain}_{row.mutation}.pdb\"\n",
    "                                  if row.mutation else f\"{row.pdb}.pdb\", \n",
    "                                  axis=1)\n",
    "merged.rename(columns={\"mut_foldx_dg\": \"delta_g\"}, inplace=True)\n",
    "# df[\"mutation_code\"] = df.apply(lambda L: L.complex.split('_')[-1], axis=1)"
   ]
  },
  {
   "cell_type": "code",
   "execution_count": null,
   "id": "037a8139-021c-400e-b6f4-15f5d1f1058b",
   "metadata": {},
   "outputs": [],
   "source": [
    "merged.dropna(axis=1, how='any').iloc[[0, -1]]"
   ]
  },
  {
   "cell_type": "markdown",
   "id": "ebc1cfd2-cc3d-4dc7-a10e-0305166255e0",
   "metadata": {},
   "source": [
    "## Now split into absolute and relative part"
   ]
  },
  {
   "cell_type": "code",
   "execution_count": null,
   "id": "0406b9a2-cfe1-454f-8cc9-5918ae18126c",
   "metadata": {},
   "outputs": [],
   "source": [
    "merged[\"test\"] = False"
   ]
  },
  {
   "cell_type": "markdown",
   "id": "9d2d81d9-7594-4318-bbac-81bc25033df2",
   "metadata": {},
   "source": [
    "## Assign validation/test cluster numbers"
   ]
  },
  {
   "cell_type": "code",
   "execution_count": null,
   "id": "7e48a5c0-53c0-4ad4-8704-16b06f5a672a",
   "metadata": {},
   "outputs": [],
   "source": [
    "# Read in  the clustering file\n",
    "clusters = []\n",
    "pdb_codes = []\n",
    "\n",
    "with open(snakemake.input.cdr_clusters) as f:\n",
    "    for line in f.readlines():\n",
    "        if line.startswith('>Cluster'):\n",
    "            cluster_id = int(line.split()[1])\n",
    "        elif line.strip() and not line.startswith(';;'):\n",
    "            pdb_code = line.split('>')[1][:4]\n",
    "            clusters.append(cluster_id)\n",
    "            pdb_codes.append(pdb_code)\n",
    "\n",
    "# Create a DataFrame\n",
    "cluster_df = pd.DataFrame({'pdb': pdb_codes, 'cluster_id': clusters})\n"
   ]
  },
  {
   "cell_type": "code",
   "execution_count": null,
   "id": "bdcd45cc-9a4f-4d1f-b33c-3105643f4576",
   "metadata": {},
   "outputs": [],
   "source": [
    "# split relative, according to clustering\n",
    "import math\n",
    "\n",
    "def assign_clusters(df, num_splits):\n",
    "    \"\"\"\n",
    "    Greedly consume clusters that are fully contained within the relative dataset, until the split is full\n",
    "    \n",
    "    Might return 1 more split (if some remain)\n",
    "    \"\"\"\n",
    "    \n",
    "    all_pdbs = set(df[\"pdb\"].drop_duplicates().tolist())\n",
    "    df[\"validation\"] = num_splits\n",
    "    min_split_size = math.floor(len(all_pdbs) / num_splits)  # just adding one, so there are no left-overs\n",
    "    \n",
    "    cluster_i = 0\n",
    "    for split_i in range(num_splits):\n",
    "        split_pdbs = []\n",
    "    \n",
    "        # accumulate PDBs until the size is reached\n",
    "        while len(split_pdbs) < min_split_size and cluster_i <= cluster_df[\"cluster_id\"].max():\n",
    "            cluster_pdbs = cluster_df.loc[cluster_df.cluster_id == cluster_i, \"pdb\"]\n",
    "            \n",
    "            if cluster_pdbs.isin(all_pdbs).all():\n",
    "                split_pdbs.extend(cluster_pdbs.tolist())\n",
    "            cluster_i += 1\n",
    "    \n",
    "        # set the selected PDBs to the current split number\n",
    "        df.loc[df.pdb.isin(set(split_pdbs)), \"validation\"] = split_i"
   ]
  },
  {
   "cell_type": "code",
   "execution_count": null,
   "id": "48b0c1a9-148a-4d21-9316-852ab3586931",
   "metadata": {},
   "outputs": [],
   "source": [
    "assign_clusters(merged, num_splits=18)"
   ]
  },
  {
   "cell_type": "code",
   "execution_count": null,
   "id": "79ee6f40-3834-4452-8c16-61f9dcf95d39",
   "metadata": {},
   "outputs": [],
   "source": [
    "# there is a slight disbalance now, but it shouldn't matter too much (even if we do cross-validation)\n",
    "merged.validation.value_counts()\n"
   ]
  },
  {
   "cell_type": "code",
   "execution_count": null,
   "id": "cc122ba4",
   "metadata": {},
   "outputs": [],
   "source": [
    "# The remaining data points may have overlaps with other clusters. Delete:\n",
    "merged.drop(merged.index[merged.validation == 18], inplace=True)"
   ]
  },
  {
   "cell_type": "code",
   "execution_count": null,
   "id": "86f2c90c",
   "metadata": {},
   "outputs": [],
   "source": [
    "merged[\"test\"] = merged[\"validation\"] == 0"
   ]
  },
  {
   "cell_type": "code",
   "execution_count": null,
   "id": "7240c3a7-315a-496a-a4cc-b56fee992c3d",
   "metadata": {},
   "outputs": [],
   "source": [
    "merged.dropna(axis=1, how='any').drop(columns=[\"wt_foldx_dg\", \"complex\"]).to_csv(snakemake.output[\"full\"])\n"
   ]
  },
  {
   "cell_type": "code",
   "execution_count": null,
   "id": "5289653f-88a8-4b3d-90ae-544ce499ba0e",
   "metadata": {},
   "outputs": [],
   "source": []
  }
 ],
 "metadata": {
  "kernelspec": {
   "display_name": "Python 3 (ipykernel)",
   "language": "python",
   "name": "python3"
  },
  "language_info": {
   "codemirror_mode": {
    "name": "ipython",
    "version": 3
   },
   "file_extension": ".py",
   "mimetype": "text/x-python",
   "name": "python",
   "nbconvert_exporter": "python",
   "pygments_lexer": "ipython3",
   "version": "3.8.16"
  }
 },
 "nbformat": 4,
 "nbformat_minor": 5
}
