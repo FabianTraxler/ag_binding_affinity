{
 "cells": [
  {
   "cell_type": "code",
   "execution_count": 1,
   "id": "2673f683",
   "metadata": {
    "tags": [
     "snakemake-job-properties"
    ]
   },
   "outputs": [],
   "source": [
    "\n",
    "######## snakemake preamble start (automatically inserted, do not edit) ########\n",
    "import sys; sys.path.extend(['/home/moritz/.conda/lib/python3.9/site-packages', '/home/moritz/Projects/guided-protein-diffusion/modules/ag_binding_affinity/src/data_generation/Hummer2023/scripts']); import pickle; snakemake = pickle.loads(b'\\x80\\x04\\x95\\x83\\x05\\x00\\x00\\x00\\x00\\x00\\x00\\x8c\\x10snakemake.script\\x94\\x8c\\tSnakemake\\x94\\x93\\x94)\\x81\\x94}\\x94(\\x8c\\x05input\\x94\\x8c\\x0csnakemake.io\\x94\\x8c\\nInputFiles\\x94\\x93\\x94)\\x81\\x94(\\x8ch/home/moritz/Projects/guided-protein-diffusion/modules/ag_binding_affinity/results/synthetic_ddg/ddg.csv\\x94\\x8c\\x82/home/moritz/Projects/guided-protein-diffusion/modules/ag_binding_affinity/results/abag_affinity_dataset/abag_affinity_dataset.csv\\x94e}\\x94(\\x8c\\x06_names\\x94}\\x94(\\x8c\\x06syn_df\\x94K\\x00N\\x86\\x94\\x8c\\x07abag_df\\x94K\\x01N\\x86\\x94u\\x8c\\x12_allowed_overrides\\x94]\\x94(\\x8c\\x05index\\x94\\x8c\\x04sort\\x94eh\\x15\\x8c\\tfunctools\\x94\\x8c\\x07partial\\x94\\x93\\x94h\\x06\\x8c\\x19Namedlist._used_attribute\\x94\\x93\\x94\\x85\\x94R\\x94(h\\x1b)}\\x94\\x8c\\x05_name\\x94h\\x15sNt\\x94bh\\x16h\\x19h\\x1b\\x85\\x94R\\x94(h\\x1b)}\\x94h\\x1fh\\x16sNt\\x94bh\\x0fh\\nh\\x11h\\x0bub\\x8c\\x06output\\x94h\\x06\\x8c\\x0bOutputFiles\\x94\\x93\\x94)\\x81\\x94\\x8c}/home/moritz/Projects/guided-protein-diffusion/modules/ag_binding_affinity/results/synthetic_ddg/ddg_with_absolute_labels.csv\\x94a}\\x94(h\\r}\\x94h\\x13]\\x94(h\\x15h\\x16eh\\x15h\\x19h\\x1b\\x85\\x94R\\x94(h\\x1b)}\\x94h\\x1fh\\x15sNt\\x94bh\\x16h\\x19h\\x1b\\x85\\x94R\\x94(h\\x1b)}\\x94h\\x1fh\\x16sNt\\x94bub\\x8c\\x06params\\x94h\\x06\\x8c\\x06Params\\x94\\x93\\x94)\\x81\\x94}\\x94(h\\r}\\x94h\\x13]\\x94(h\\x15h\\x16eh\\x15h\\x19h\\x1b\\x85\\x94R\\x94(h\\x1b)}\\x94h\\x1fh\\x15sNt\\x94bh\\x16h\\x19h\\x1b\\x85\\x94R\\x94(h\\x1b)}\\x94h\\x1fh\\x16sNt\\x94bub\\x8c\\twildcards\\x94h\\x06\\x8c\\tWildcards\\x94\\x93\\x94)\\x81\\x94}\\x94(h\\r}\\x94h\\x13]\\x94(h\\x15h\\x16eh\\x15h\\x19h\\x1b\\x85\\x94R\\x94(h\\x1b)}\\x94h\\x1fh\\x15sNt\\x94bh\\x16h\\x19h\\x1b\\x85\\x94R\\x94(h\\x1b)}\\x94h\\x1fh\\x16sNt\\x94bub\\x8c\\x07threads\\x94K\\x01\\x8c\\tresources\\x94h\\x06\\x8c\\tResources\\x94\\x93\\x94)\\x81\\x94(K\\x01K\\x01\\x8c\\x04/tmp\\x94e}\\x94(h\\r}\\x94(\\x8c\\x06_cores\\x94K\\x00N\\x86\\x94\\x8c\\x06_nodes\\x94K\\x01N\\x86\\x94\\x8c\\x06tmpdir\\x94K\\x02N\\x86\\x94uh\\x13]\\x94(h\\x15h\\x16eh\\x15h\\x19h\\x1b\\x85\\x94R\\x94(h\\x1b)}\\x94h\\x1fh\\x15sNt\\x94bh\\x16h\\x19h\\x1b\\x85\\x94R\\x94(h\\x1b)}\\x94h\\x1fh\\x16sNt\\x94bh[K\\x01h]K\\x01h_hXub\\x8c\\x03log\\x94h\\x06\\x8c\\x03Log\\x94\\x93\\x94)\\x81\\x94}\\x94(h\\r}\\x94h\\x13]\\x94(h\\x15h\\x16eh\\x15h\\x19h\\x1b\\x85\\x94R\\x94(h\\x1b)}\\x94h\\x1fh\\x15sNt\\x94bh\\x16h\\x19h\\x1b\\x85\\x94R\\x94(h\\x1b)}\\x94h\\x1fh\\x16sNt\\x94bub\\x8c\\x06config\\x94}\\x94\\x8c\\x04rule\\x94\\x8c\\x18csv_with_absolute_labels\\x94\\x8c\\x0fbench_iteration\\x94N\\x8c\\tscriptdir\\x94\\x8cq/home/moritz/Projects/guided-protein-diffusion/modules/ag_binding_affinity/src/data_generation/Hummer2023/scripts\\x94ub.'); from snakemake.logging import logger; logger.printshellcmds = False; import os; os.chdir(r'/home/moritz/Projects/guided-protein-diffusion/modules/ag_binding_affinity/src/data_generation/Hummer2023');\n",
    "######## snakemake preamble end #########\n"
   ]
  },
  {
   "cell_type": "code",
   "execution_count": 2,
   "id": "59c49bf0-512d-4b6f-8e8e-df68592af3c8",
   "metadata": {},
   "outputs": [],
   "source": [
    "# start coding here\n",
    "import pandas as pd\n",
    "\n",
    "df = pd.read_csv(snakemake.input[\"syn_df\"])\n",
    "abag_df = pd.read_csv(snakemake.input[\"abag_df\"])"
   ]
  },
  {
   "cell_type": "code",
   "execution_count": 3,
   "id": "5ce6efb8-516a-49d7-942c-ca7099cdc9f2",
   "metadata": {},
   "outputs": [
    {
     "data": {
      "text/plain": [
       "156"
      ]
     },
     "execution_count": 3,
     "metadata": {},
     "output_type": "execute_result"
    }
   ],
   "source": [
    "# start from the unmutated PDBs\n",
    "abag_df[\"pdb_trimmed\"] = abag_df[\"pdb\"].apply(lambda v: v[:4])\n",
    "\n",
    "overlapping_ids = pd.Index(df[\"pdb\"].drop_duplicates()).intersection(\n",
    "    pd.Index(abag_df[\"pdb_trimmed\"].drop_duplicates())\n",
    ")\n",
    "len(overlapping_ids)"
   ]
  },
  {
   "cell_type": "code",
   "execution_count": 4,
   "id": "76c8d19f-65ec-4a80-a08c-45984946a6ae",
   "metadata": {},
   "outputs": [
    {
     "data": {
      "text/plain": [
       "155"
      ]
     },
     "execution_count": 4,
     "metadata": {},
     "output_type": "execute_result"
    }
   ],
   "source": [
    "originals = abag_df.set_index(\"pdb_trimmed\").loc[overlapping_ids]\n",
    "# exclude duplicates (slightly sloppily)\n",
    "originals = originals.loc[originals.pdb.str.endswith(\"_1\")]\n",
    "len(originals)"
   ]
  },
  {
   "cell_type": "code",
   "execution_count": 5,
   "id": "930d3c87-879e-4c33-8722-3d10a12b30f4",
   "metadata": {},
   "outputs": [],
   "source": [
    "# Convert ΔΔG labels to Δ-log(Kd) labels\n",
    "# Negative labels indicate worse binding (checked in the publication)\n",
    "df[\"delta_logkd\"] = (df[\"labels\"]/(293.15 * 0.001987)) * 0.434  # 0.434 = log(10), 293.15 = 20 celsius in kelvin,  0.001987 = R in kcal/mol/K\n",
    "originals[\"delta_logkd\"] = 0\n",
    "# concat the two dataframes\n",
    "merged = pd.concat([originals, df.loc[df.pdb.isin(originals.index)]], axis=0, ignore_index=True)"
   ]
  },
  {
   "cell_type": "code",
   "execution_count": 6,
   "id": "657699bd-60b0-4d15-830b-5e95b16322b0",
   "metadata": {},
   "outputs": [],
   "source": [
    "# compute the mutated absolute neglogkds\n",
    "merged[\"orig_neglogkd\"] = merged[\"pdb\"].apply(lambda pdb: originals.loc[pdb[:4], \"-log(Kd)\"])\n",
    "merged[\"-log(Kd)\"] = merged[\"orig_neglogkd\"] + merged[\"delta_logkd\"]"
   ]
  },
  {
   "cell_type": "code",
   "execution_count": 7,
   "id": "9d08f5fd-8ed6-4bdd-8c15-4baf1af9b73e",
   "metadata": {},
   "outputs": [
    {
     "data": {
      "text/plain": [
       "count    105187.000000\n",
       "mean         -0.777272\n",
       "std           2.124992\n",
       "min         -72.964558\n",
       "25%          -1.063354\n",
       "50%          -0.334466\n",
       "75%           0.081884\n",
       "max           5.160189\n",
       "Name: delta_logkd, dtype: float64"
      ]
     },
     "execution_count": 7,
     "metadata": {},
     "output_type": "execute_result"
    }
   ],
   "source": [
    "merged.delta_logkd.describe()"
   ]
  },
  {
   "cell_type": "code",
   "execution_count": 1,
   "id": "00efb9da-4188-4690-bce0-011eab306e7c",
   "metadata": {},
   "outputs": [
    {
     "ename": "NameError",
     "evalue": "name 'merged' is not defined",
     "output_type": "error",
     "traceback": [
      "\u001b[1;31m---------------------------------------------------------------------------\u001b[0m",
      "\u001b[1;31mNameError\u001b[0m                                 Traceback (most recent call last)",
      "Cell \u001b[1;32mIn[1], line 3\u001b[0m\n\u001b[0;32m      1\u001b[0m \u001b[38;5;28;01mimport\u001b[39;00m \u001b[38;5;21;01mseaborn\u001b[39;00m \u001b[38;5;28;01mas\u001b[39;00m \u001b[38;5;21;01msns\u001b[39;00m\n\u001b[0;32m      2\u001b[0m \u001b[38;5;28;01mimport\u001b[39;00m \u001b[38;5;21;01mmatplotlib\u001b[39;00m\u001b[38;5;21;01m.\u001b[39;00m\u001b[38;5;21;01mpyplot\u001b[39;00m \u001b[38;5;28;01mas\u001b[39;00m \u001b[38;5;21;01mplt\u001b[39;00m\n\u001b[1;32m----> 3\u001b[0m sns\u001b[38;5;241m.\u001b[39mdisplot(\u001b[43mmerged\u001b[49m\u001b[38;5;241m.\u001b[39mdelta_logkd)\n\u001b[0;32m      4\u001b[0m plt\u001b[38;5;241m.\u001b[39mxlim([\u001b[38;5;241m-\u001b[39m\u001b[38;5;241m5\u001b[39m, \u001b[38;5;241m3\u001b[39m])\n",
      "\u001b[1;31mNameError\u001b[0m: name 'merged' is not defined"
     ]
    }
   ],
   "source": [
    "import seaborn as sns\n",
    "import matplotlib.pyplot as plt\n",
    "sns.displot(merged.delta_logkd)\n",
    "plt.xlim([-5, 3])"
   ]
  },
  {
   "cell_type": "code",
   "execution_count": 9,
   "id": "1fef4fe1-42bc-4c0d-bef9-22c8ae90c499",
   "metadata": {},
   "outputs": [],
   "source": [
    "# set pdb\n",
    "merged[\"pdb_full\"] = merged[\"pdb\"]\n",
    "merged[\"pdb\"] = merged[\"pdb\"].apply(lambda v: v[:4])\n",
    "\n",
    "# fill complex where it's nan (to pdb) and set index\n",
    "merged.index = merged[\"complex\"].fillna(merged[\"pdb\"])\n"
   ]
  },
  {
   "cell_type": "code",
   "execution_count": 10,
   "id": "20fb772e-425c-445d-a42f-9047c21938bf",
   "metadata": {},
   "outputs": [],
   "source": [
    "merged[\"test\"] = False"
   ]
  },
  {
   "cell_type": "code",
   "execution_count": 11,
   "id": "a8866262-272b-40bb-991b-ddfc6e65a8bd",
   "metadata": {},
   "outputs": [],
   "source": [
    "merged[\"mutation\"] = merged[\"complex\"].apply(lambda v: v.split(\"_\")[1] if \"_\" in str(v) else \"\")\n",
    "merged[\"filename\"] = merged.apply(lambda row: row[\"filename\"].replace(\"_1\", \"\") if \"_1\" in str(row[\"filename\"]) else\n",
    "                          f\"{row.pdb}_{row.ab_chain}_{row.ag_chain}_{row.mutation}.pdb\", axis=1)\n",
    "# df[\"mutation_code\"] = df.apply(lambda L: L.complex.split('_')[-1], axis=1)"
   ]
  },
  {
   "cell_type": "code",
   "execution_count": 12,
   "id": "90ea1c49-baa0-40b6-b661-d476890be3ee",
   "metadata": {},
   "outputs": [
    {
     "data": {
      "text/plain": [
       "Unnamed: 0          6fe4_1\n",
       "pdb                   6fe4\n",
       "filename          6fe4.pdb\n",
       "chains                  AH\n",
       "-log(Kd)          8.017729\n",
       "delta_g         -10.938139\n",
       "validation             4.0\n",
       "test                 False\n",
       "delta_logkd            0.0\n",
       "complex                NaN\n",
       "labels                 NaN\n",
       "chain_prot1            NaN\n",
       "chain_prot2            NaN\n",
       "ab_chain               NaN\n",
       "ag_chain               NaN\n",
       "orig_neglogkd     8.017729\n",
       "pdb_full            6fe4_1\n",
       "mutation                  \n",
       "Name: 6fe4, dtype: object"
      ]
     },
     "execution_count": 12,
     "metadata": {},
     "output_type": "execute_result"
    }
   ],
   "source": [
    "merged.iloc[0]"
   ]
  },
  {
   "cell_type": "code",
   "execution_count": 13,
   "id": "dc0ef3df-eae0-4af6-8a85-a29d44ad954b",
   "metadata": {},
   "outputs": [
    {
     "data": {
      "text/plain": [
       "Unnamed: 0                       NaN\n",
       "pdb                             4od2\n",
       "filename         4od2_BA_S_CS79V.pdb\n",
       "chains                           NaN\n",
       "-log(Kd)                    9.224419\n",
       "delta_g                          NaN\n",
       "validation                       NaN\n",
       "test                           False\n",
       "delta_logkd                 0.188207\n",
       "complex                   4od2_CS79V\n",
       "labels                        0.2526\n",
       "chain_prot1                       BA\n",
       "chain_prot2                        S\n",
       "ab_chain                          BA\n",
       "ag_chain                           S\n",
       "orig_neglogkd               9.036212\n",
       "pdb_full                        4od2\n",
       "mutation                       CS79V\n",
       "Name: 4od2_CS79V, dtype: object"
      ]
     },
     "execution_count": 13,
     "metadata": {},
     "output_type": "execute_result"
    }
   ],
   "source": [
    "merged.iloc[-1]"
   ]
  },
  {
   "cell_type": "code",
   "execution_count": 14,
   "id": "037a8139-021c-400e-b6f4-15f5d1f1058b",
   "metadata": {},
   "outputs": [
    {
     "data": {
      "text/plain": [
       "pdb                             4od2\n",
       "filename         4od2_BA_S_CS79V.pdb\n",
       "-log(Kd)                    9.224419\n",
       "test                           False\n",
       "delta_logkd                 0.188207\n",
       "orig_neglogkd               9.036212\n",
       "pdb_full                        4od2\n",
       "mutation                       CS79V\n",
       "Name: 4od2_CS79V, dtype: object"
      ]
     },
     "execution_count": 14,
     "metadata": {},
     "output_type": "execute_result"
    }
   ],
   "source": [
    "merged.dropna(axis=1, how='any').iloc[-1]"
   ]
  },
  {
   "cell_type": "code",
   "execution_count": 15,
   "id": "7240c3a7-315a-496a-a4cc-b56fee992c3d",
   "metadata": {},
   "outputs": [],
   "source": [
    "merged.dropna(axis=1, how='any').to_csv(snakemake.output[0])"
   ]
  }
 ],
 "metadata": {
  "kernelspec": {
   "display_name": "Python 3 (ipykernel)",
   "language": "python",
   "name": "python3"
  },
  "language_info": {
   "codemirror_mode": {
    "name": "ipython",
    "version": 3
   },
   "file_extension": ".py",
   "mimetype": "text/x-python",
   "name": "python",
   "nbconvert_exporter": "python",
   "pygments_lexer": "ipython3",
   "version": "3.11.6"
  }
 },
 "nbformat": 4,
 "nbformat_minor": 5
}
